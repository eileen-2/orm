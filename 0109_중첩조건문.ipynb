{
  "nbformat": 4,
  "nbformat_minor": 0,
  "metadata": {
    "colab": {
      "provenance": [],
      "authorship_tag": "ABX9TyOrUyPUcY1bIRJHcx3HDFBY",
      "include_colab_link": true
    },
    "kernelspec": {
      "name": "python3",
      "display_name": "Python 3"
    },
    "language_info": {
      "name": "python"
    }
  },
  "cells": [
    {
      "cell_type": "markdown",
      "metadata": {
        "id": "view-in-github",
        "colab_type": "text"
      },
      "source": [
        "<a href=\"https://colab.research.google.com/github/eileen-2/orm/blob/main/0109_%EC%A4%91%EC%B2%A9%EC%A1%B0%EA%B1%B4%EB%AC%B8.ipynb\" target=\"_parent\"><img src=\"https://colab.research.google.com/assets/colab-badge.svg\" alt=\"Open In Colab\"/></a>"
      ]
    },
    {
      "cell_type": "code",
      "execution_count": 1,
      "metadata": {
        "colab": {
          "base_uri": "https://localhost:8080/",
          "height": 35
        },
        "id": "Vj9eId6l1eHE",
        "outputId": "3d31e255-d925-4bbf-8a49-a4c1f0ae5579"
      },
      "outputs": [
        {
          "output_type": "execute_result",
          "data": {
            "text/plain": [
              "'\\n- 코드 실행 날짜:20240109\\n- 버전: V0.1\\n- 작성자 : 이은희\\n- 코드내용: 함수_중첩조건문\\n'"
            ],
            "application/vnd.google.colaboratory.intrinsic+json": {
              "type": "string"
            }
          },
          "metadata": {},
          "execution_count": 1
        }
      ],
      "source": [
        "'''\n",
        "- 코드 실행 날짜:20240109\n",
        "- 버전: V0.1\n",
        "- 작성자 : 이은희\n",
        "- 코드내용: 함수_중첩조건문\n",
        "'''"
      ]
    },
    {
      "cell_type": "markdown",
      "source": [
        "#1. if, elif, else와 중첩 조건문\n",
        "\n",
        "1.   if-els\n",
        "- if문을 사용하면 조건을 기반으로 서로 다른 코드 블록을 실행 가능\n",
        "- if 조건이 거짓이거나 충족되지 않는 경우 > else문\n",
        "- elif 와 else는 단독으로 사용할 수 없다.\n",
        "- if - else는 동일한 위치에 기재\n",
        "\n",
        "\n"
      ],
      "metadata": {
        "id": "TA-_4HDd1gHF"
      }
    },
    {
      "cell_type": "code",
      "source": [
        "# if, else문의 기본구조\n",
        "if 조건문 : # 조건문을 확인해서 만약 '참'이면 if 문 다음에 문장들을 수행\n",
        "    pass\n",
        "    #수행할 문장 1 - 참일 경우, 수행할 문장 1 수행\n",
        "else: # if문의 조건이 거짓이면 else문이 실행 (else에는 조건을 따로 적지 않아도 된다.)\n",
        "    pass\n",
        "    #수행할 문장 2 - if 조건문이 거짓일 경우, 수행할 문장 2가 수행"
      ],
      "metadata": {
        "colab": {
          "base_uri": "https://localhost:8080/",
          "height": 258
        },
        "id": "pLwddwfy1g_L",
        "outputId": "f37306ec-b4ed-41aa-b17d-5502ccde69bc"
      },
      "execution_count": 2,
      "outputs": [
        {
          "output_type": "error",
          "ename": "NameError",
          "evalue": "name '조건문' is not defined",
          "traceback": [
            "\u001b[0;31m---------------------------------------------------------------------------\u001b[0m",
            "\u001b[0;31mNameError\u001b[0m                                 Traceback (most recent call last)",
            "\u001b[0;32m<ipython-input-2-586e5157886f>\u001b[0m in \u001b[0;36m<cell line: 2>\u001b[0;34m()\u001b[0m\n\u001b[1;32m      1\u001b[0m \u001b[0;31m# if, else문의 기본구조\u001b[0m\u001b[0;34m\u001b[0m\u001b[0;34m\u001b[0m\u001b[0m\n\u001b[0;32m----> 2\u001b[0;31m \u001b[0;32mif\u001b[0m \u001b[0m조건문\u001b[0m \u001b[0;34m:\u001b[0m \u001b[0;31m# 조건문을 확인해서 만약 '참'이면 if 문 다음에 문장들을 수행\u001b[0m\u001b[0;34m\u001b[0m\u001b[0;34m\u001b[0m\u001b[0m\n\u001b[0m\u001b[1;32m      3\u001b[0m     \u001b[0;32mpass\u001b[0m\u001b[0;34m\u001b[0m\u001b[0;34m\u001b[0m\u001b[0m\n\u001b[1;32m      4\u001b[0m     \u001b[0;31m#수행할 문장 1 - 참일 경우, 수행할 문장 1 수행\u001b[0m\u001b[0;34m\u001b[0m\u001b[0;34m\u001b[0m\u001b[0m\n\u001b[1;32m      5\u001b[0m \u001b[0;32melse\u001b[0m\u001b[0;34m:\u001b[0m \u001b[0;31m# if문의 조건이 거짓이면 else문이 실행\u001b[0m\u001b[0;34m\u001b[0m\u001b[0;34m\u001b[0m\u001b[0m\n",
            "\u001b[0;31mNameError\u001b[0m: name '조건문' is not defined"
          ]
        }
      ]
    },
    {
      "cell_type": "code",
      "source": [
        "# if 문이 1개만 있을 때는 거짓일 때 아무것도 출력이 되지 않게!\n",
        "x = 3\n",
        "y = 1\n",
        "\n",
        "if x > y:\n",
        "    print('첫번째 값이 더 큽니다.')\n"
      ],
      "metadata": {
        "id": "OUKPIP4d27Zc"
      },
      "execution_count": null,
      "outputs": []
    },
    {
      "cell_type": "code",
      "source": [
        "# if-else예시\n",
        "\n",
        "x = 3\n",
        "y = 1\n",
        "\n",
        "if x > y: # 조건문을 확인해서 만약 '참'이면 if 문 다음에 문장들을 수행\n",
        "    print('첫번째 값이 더 큽니다.')\n",
        "    #수행할 문장 1 - 참일 경우, 수행할 문장 1 수행\n",
        "else: # if문의 조건이 거짓이면 else문이 실행 (else에는 조건을 따로 적지 않아도 된다.)\n",
        "    print('두번째 값이 더 크거나 같습니다.')\n",
        "    #수행할 문장 2 - if 조건문이 거짓일 경우, 수행할 문장 2가 수행"
      ],
      "metadata": {
        "colab": {
          "base_uri": "https://localhost:8080/"
        },
        "id": "MKSd5qNh2SPi",
        "outputId": "3cf29316-7341-4ae5-b0b7-51a23d406f01"
      },
      "execution_count": 4,
      "outputs": [
        {
          "output_type": "stream",
          "name": "stdout",
          "text": [
            "첫번째 값이 더 큽니다.\n"
          ]
        }
      ]
    },
    {
      "cell_type": "markdown",
      "source": [
        "2. if - elif - else"
      ],
      "metadata": {
        "id": "D5yd7tfn3GdV"
      }
    },
    {
      "cell_type": "code",
      "source": [
        "# if, elif, else 문의 기본 구조 (조건이 3개 이상일 경우)\n",
        "# 조건이 늘어나면 elif만 추가\n",
        "# elif에는 조건식이 필요하다. 단 다른 조건과 겹치지 않게(조건을 나누는 것도 중요@!)\n",
        "\n",
        "if 조건문: #조건문 확인, '참' - > if문 다음 문장 수행\n",
        "    # 수행할 문장 1\n",
        "    pass\n",
        "elif 추가조건: # if문의 조건이 '참'이 아닌 경우 -> elif문의 조건문이 '참'-> 수행\n",
        "    # 수행할 문장2\n",
        "    pass\n",
        "else: # 위 모든 if, elif 문의 조건이 '참'이 아닌 경우 - >수행\n",
        "    #수행할 문장 3\n",
        "    pass"
      ],
      "metadata": {
        "colab": {
          "base_uri": "https://localhost:8080/",
          "height": 258
        },
        "id": "tnTQotLQ3JLU",
        "outputId": "a0d691e6-e15e-480f-cf47-4f48d8e934a7"
      },
      "execution_count": 5,
      "outputs": [
        {
          "output_type": "error",
          "ename": "NameError",
          "evalue": "name '조건문' is not defined",
          "traceback": [
            "\u001b[0;31m---------------------------------------------------------------------------\u001b[0m",
            "\u001b[0;31mNameError\u001b[0m                                 Traceback (most recent call last)",
            "\u001b[0;32m<ipython-input-5-0b56477207c5>\u001b[0m in \u001b[0;36m<cell line: 5>\u001b[0;34m()\u001b[0m\n\u001b[1;32m      3\u001b[0m \u001b[0;31m# elif에는 조건식이 필요하다. 단 다른 조건과 겹치지 않게(조건을 나누는 것도 중요@!)\u001b[0m\u001b[0;34m\u001b[0m\u001b[0;34m\u001b[0m\u001b[0m\n\u001b[1;32m      4\u001b[0m \u001b[0;34m\u001b[0m\u001b[0m\n\u001b[0;32m----> 5\u001b[0;31m \u001b[0;32mif\u001b[0m \u001b[0m조건문\u001b[0m\u001b[0;34m:\u001b[0m \u001b[0;31m#조건문 확인, '참' - > if문 다음 문장 수행\u001b[0m\u001b[0;34m\u001b[0m\u001b[0;34m\u001b[0m\u001b[0m\n\u001b[0m\u001b[1;32m      6\u001b[0m     \u001b[0;31m# 수행할 문장 1\u001b[0m\u001b[0;34m\u001b[0m\u001b[0;34m\u001b[0m\u001b[0m\n\u001b[1;32m      7\u001b[0m     \u001b[0;32mpass\u001b[0m\u001b[0;34m\u001b[0m\u001b[0;34m\u001b[0m\u001b[0m\n",
            "\u001b[0;31mNameError\u001b[0m: name '조건문' is not defined"
          ]
        }
      ]
    },
    {
      "cell_type": "code",
      "source": [
        "# 성적 입력 프로그램 -\n",
        "\n",
        "score = int(input(\"성적을 입력하세요. (0-100): \"))\n",
        "\n",
        "if score >= 90:  # 90점 이상일 때\n",
        "    print(\"A\")\n",
        "elif 90 > score >= 80:  # 80점 이상 89점 이하\n",
        "    print(\"B\")\n",
        "elif 80 > score >= 70: #70점 이상 79점 이하\n",
        "    print(\"C\")\n",
        "elif 70 > score >= 60: #60점 이상 69점 이하일 때\n",
        "    print(\"D\")\n",
        "else:                   #59점 이하\n",
        "    print(\"F\")\n",
        "\n",
        "# 테스트를 다양하게 조건 테스트 수행\n",
        "# 음수, 소수점!"
      ],
      "metadata": {
        "colab": {
          "base_uri": "https://localhost:8080/",
          "height": 276
        },
        "id": "1RlDN5G94ACX",
        "outputId": "f6180fdf-95fa-4b68-ba16-1a4eb19dbb6b"
      },
      "execution_count": 11,
      "outputs": [
        {
          "name": "stdout",
          "output_type": "stream",
          "text": [
            "성적을 입력하세요. (0-100): 89.1\n"
          ]
        },
        {
          "output_type": "error",
          "ename": "ValueError",
          "evalue": "invalid literal for int() with base 10: '89.1'",
          "traceback": [
            "\u001b[0;31m---------------------------------------------------------------------------\u001b[0m",
            "\u001b[0;31mValueError\u001b[0m                                Traceback (most recent call last)",
            "\u001b[0;32m<ipython-input-11-bab26400ef8e>\u001b[0m in \u001b[0;36m<cell line: 3>\u001b[0;34m()\u001b[0m\n\u001b[1;32m      1\u001b[0m \u001b[0;31m# 성적 입력 프로그램 -\u001b[0m\u001b[0;34m\u001b[0m\u001b[0;34m\u001b[0m\u001b[0m\n\u001b[1;32m      2\u001b[0m \u001b[0;34m\u001b[0m\u001b[0m\n\u001b[0;32m----> 3\u001b[0;31m \u001b[0mscore\u001b[0m \u001b[0;34m=\u001b[0m \u001b[0mint\u001b[0m\u001b[0;34m(\u001b[0m\u001b[0minput\u001b[0m\u001b[0;34m(\u001b[0m\u001b[0;34m\"성적을 입력하세요. (0-100): \"\u001b[0m\u001b[0;34m)\u001b[0m\u001b[0;34m)\u001b[0m\u001b[0;34m\u001b[0m\u001b[0;34m\u001b[0m\u001b[0m\n\u001b[0m\u001b[1;32m      4\u001b[0m \u001b[0;34m\u001b[0m\u001b[0m\n\u001b[1;32m      5\u001b[0m \u001b[0;32mif\u001b[0m \u001b[0mscore\u001b[0m \u001b[0;34m>=\u001b[0m \u001b[0;36m90\u001b[0m\u001b[0;34m:\u001b[0m  \u001b[0;31m# 90점 이상일 때\u001b[0m\u001b[0;34m\u001b[0m\u001b[0;34m\u001b[0m\u001b[0m\n",
            "\u001b[0;31mValueError\u001b[0m: invalid literal for int() with base 10: '89.1'"
          ]
        }
      ]
    },
    {
      "cell_type": "code",
      "source": [
        "# 성적 입력 프로그램 - step 1\n",
        "\n",
        "score = int(input(\"성적을 입력하세요. (0-100): \"))"
      ],
      "metadata": {
        "id": "DdkFxlMS5PyS"
      },
      "execution_count": null,
      "outputs": []
    },
    {
      "cell_type": "code",
      "source": [
        "#step 2. 기본성적처리 = A학점\n",
        "if score >= 90:  # 90점 이상일 때\n",
        "    print(\"A\")"
      ],
      "metadata": {
        "id": "PiHBcpZw5RJ7"
      },
      "execution_count": null,
      "outputs": []
    },
    {
      "cell_type": "code",
      "source": [
        "#step 2. 90점이 아닐때\n",
        "if score >= 90:  # 90점 이상일 때\n",
        "    print(\"A\")\n",
        "else:                   #59점 이하\n",
        "    print(\"89점이하 입니다.\")"
      ],
      "metadata": {
        "colab": {
          "base_uri": "https://localhost:8080/"
        },
        "id": "2kYRcsTt5VXl",
        "outputId": "0d694236-fda4-44a5-9012-0ee907bcecf6"
      },
      "execution_count": 12,
      "outputs": [
        {
          "output_type": "stream",
          "name": "stdout",
          "text": [
            "89점이하 입니다.\n"
          ]
        }
      ]
    },
    {
      "cell_type": "code",
      "source": [
        "# 점수별 용돈 지급 프로그램\n",
        "score = 81\n",
        "money = 0\n",
        "#1개의 if문(중첩조건문) - > 누적계산 안되고 하나의 조건문에 여러 조건 파악\n",
        "if score >= 90:\n",
        "    money += 1000000\n",
        "elif score >= 80:\n",
        "    money += 100000\n",
        "elif score >= 70:\n",
        "    money += 10000\n",
        "elif score >= 60:\n",
        "    money += 1000\n",
        "else:\n",
        "    money = 0\n",
        "print(money) # 출력: 100000"
      ],
      "metadata": {
        "colab": {
          "base_uri": "https://localhost:8080/"
        },
        "id": "z_4QgXIX6ZOl",
        "outputId": "1c2f0d2b-1dcb-43a7-c497-c5cdab74f0fe"
      },
      "execution_count": 14,
      "outputs": [
        {
          "output_type": "stream",
          "name": "stdout",
          "text": [
            "100000\n"
          ]
        }
      ]
    },
    {
      "cell_type": "code",
      "source": [
        "# 조건에 만족했을 때 뭔가 출력되는데 if문 사용시, 누적되는 것을 주의\n",
        "score = 81\n",
        "money = 0\n",
        "#총 4개의 if문\n",
        "\n",
        "if score >= 90:\n",
        "    money += 1000000\n",
        "if score >= 80:\n",
        "    money += 100000\n",
        "if score >= 70:\n",
        "    money += 10000\n",
        "if score >= 60:\n",
        "    money += 1000\n",
        "else:\n",
        "    print('용돈이 없다')\n",
        "print(money) # 출력: 111000"
      ],
      "metadata": {
        "colab": {
          "base_uri": "https://localhost:8080/"
        },
        "id": "5L8ltAe4-0MP",
        "outputId": "aea08ff4-c932-4a9b-a88d-3cbedbf357c1"
      },
      "execution_count": 23,
      "outputs": [
        {
          "output_type": "stream",
          "name": "stdout",
          "text": [
            "111000\n"
          ]
        }
      ]
    },
    {
      "cell_type": "code",
      "source": [
        "# 조건에 만족했을 때 뭔가 출력되는데 if문 사용시, 누적되는 것을 주의\n",
        "score = 81\n",
        "money = 0\n",
        "#총 4개의 if문\n",
        "\n",
        "if score >= 90:\n",
        "    money += 1000000\n",
        "if 90> score >= 80:\n",
        "    money += 100000\n",
        "if 80> score >= 70:\n",
        "    money += 10000\n",
        "if 70> score >= 60:\n",
        "    money += 1000\n",
        "else:\n",
        "    print('용돈이 없다')\n",
        "print(money) # 출력: 111000"
      ],
      "metadata": {
        "colab": {
          "base_uri": "https://localhost:8080/"
        },
        "id": "kD2UDoBJAo3K",
        "outputId": "94160a08-7d94-4a50-8040-9a1513f35aeb"
      },
      "execution_count": 25,
      "outputs": [
        {
          "output_type": "stream",
          "name": "stdout",
          "text": [
            "용돈이 없다\n",
            "100000\n"
          ]
        }
      ]
    },
    {
      "cell_type": "markdown",
      "source": [
        "#3.중첩 if - elif문 사용하기\n",
        "\n",
        "- 분기\n",
        "- 유지보수 힘듦\n"
      ],
      "metadata": {
        "id": "vYwHSmdMAyhx"
      }
    },
    {
      "cell_type": "code",
      "source": [
        "# if를 중첩해서 사용하기\n",
        "\n",
        "movie = {\n",
        "    '영화': '레미제라블',\n",
        "    '장르': '드라마',\n",
        "    '서비스': '디즈니',\n",
        "    '비용': 15000,\n",
        "    '평점': 4.9\n",
        "}\n",
        "\n",
        "if movie['장르'] == '드라마':\n",
        "    if movie['서비스'] == '디즈니' or movie['서비스'] == '넷플릭스':\n",
        "        if movie['평점'] >= 4.5:\n",
        "            if movie['비용'] <= 20000:\n",
        "                print('영화시청') # 출력: 영화시청\n",
        "\n"
      ],
      "metadata": {
        "colab": {
          "base_uri": "https://localhost:8080/"
        },
        "id": "_FpGA_LMA3jP",
        "outputId": "9dfc3a2a-e06a-4b6b-abd1-5abde5ce9505"
      },
      "execution_count": 26,
      "outputs": [
        {
          "output_type": "stream",
          "name": "stdout",
          "text": [
            "영화시청\n"
          ]
        }
      ]
    },
    {
      "cell_type": "code",
      "source": [
        "#좌표값 데이터 필요\n",
        "#위경도 파라미터 설정 필요 = > 딕셔너리형태\n",
        "\n",
        "must_visit = {\n",
        "    '장소명': '곤봉식객',\n",
        "    '분류': '식당',\n",
        "    '메뉴': '돼지두루치기',\n",
        "    '비용': 10000,\n",
        "    '평점': 4.8,\n",
        "    '방문자리뷰': 612\n",
        "}\n",
        "\n",
        "if must_visit['분류'] == '식당':\n",
        "    if must_visit['메뉴'] == '돼지두루치기' or must_visit['메뉴'] == '찌개':\n",
        "        if must_visit['평점'] >= 4.0:\n",
        "            if must_visit['비용'] <= 20000:\n",
        "                if must_visit['방문자리뷰'] >= 30:\n",
        "                    print('주소출력')"
      ],
      "metadata": {
        "colab": {
          "base_uri": "https://localhost:8080/"
        },
        "id": "HzcSrQaNBOiL",
        "outputId": "381b388f-cc0a-4152-b9d7-226b2261cc1a"
      },
      "execution_count": 31,
      "outputs": [
        {
          "output_type": "stream",
          "name": "stdout",
          "text": [
            "주소출력\n"
          ]
        }
      ]
    },
    {
      "cell_type": "code",
      "source": [
        "# if를 중첩해서 사용하기\n",
        "# if문 길어지니까 and 활용가능\n",
        "movie = {\n",
        "    '영화': '레미제라블',\n",
        "    '장르': '드라마',\n",
        "    '서비스': '디즈니',\n",
        "    '비용': 15000,\n",
        "    '평점': 4.9\n",
        "}\n",
        "\n",
        "if movie['장르'] == 'SF' and (movie['서비스'] == '디즈니' or movie['서비스'] == '넷플릭스') and movie['평점'] >= 4.5 and movie['비용'] <= 20000:\n",
        "    print('영화시청') # 출력: 영화시청"
      ],
      "metadata": {
        "id": "NERWAvpYCtIK"
      },
      "execution_count": null,
      "outputs": []
    }
  ]
}