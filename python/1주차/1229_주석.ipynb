{
  "nbformat": 4,
  "nbformat_minor": 0,
  "metadata": {
    "colab": {
      "provenance": [],
      "authorship_tag": "ABX9TyOZOUjHTeLHTAowK/NGssI1",
      "include_colab_link": true
    },
    "kernelspec": {
      "name": "python3",
      "display_name": "Python 3"
    },
    "language_info": {
      "name": "python"
    }
  },
  "cells": [
    {
      "cell_type": "markdown",
      "metadata": {
        "id": "view-in-github",
        "colab_type": "text"
      },
      "source": [
        "<a href=\"https://colab.research.google.com/github/eileen-2/orm/blob/main/1229_%EC%A3%BC%EC%84%9D.ipynb\" target=\"_parent\"><img src=\"https://colab.research.google.com/assets/colab-badge.svg\" alt=\"Open In Colab\"/></a>"
      ]
    },
    {
      "cell_type": "markdown",
      "source": [
        "# 1. 주석\n",
        "## 1.1 한줄 주석\n",
        "> - 한줄 주석 #으로 시작\n",
        "> - alt + Enter(새로운 셀 생성)\n",
        "> - 위치: 코드의 상단, 코드의 오른쪽\n"
      ],
      "metadata": {
        "id": "a4xpJRY1CuZi"
      }
    },
    {
      "cell_type": "code",
      "source": [
        "# 이것은 주석입니다. (특이사항, 전체적인 것들, 업데이트 내용)\n",
        "print('Hello, World 1!') # 이것도 주석입니다. (해당 코드의 설명)\n",
        "# print('Hello, World 2!') # 코드의 에러 / 향후 수정! / 임시 주석!"
      ],
      "metadata": {
        "colab": {
          "base_uri": "https://localhost:8080/"
        },
        "id": "-eOyKIeGDC5s",
        "outputId": "c947a681-b17e-443d-f885-9718dfacab53"
      },
      "execution_count": 10,
      "outputs": [
        {
          "output_type": "stream",
          "name": "stdout",
          "text": [
            "Hello, World 1!\n"
          ]
        }
      ]
    },
    {
      "cell_type": "markdown",
      "source": [
        "## 1.2 여러줄 주석\n",
        "\n",
        "> - ''' 또는 \"\"\"이런 기호로 쓰임\n",
        "> - 앞 뒤로 감싸서 사용\n"
      ],
      "metadata": {
        "id": "bVkMmsrxEbko"
      }
    },
    {
      "cell_type": "code",
      "source": [
        "'''\n",
        "print('Hello, World 1!')\n",
        "print('Hello, World 2!')\n",
        "print('Hello, World 2!')\n",
        "'''\n",
        "print('Real Hello World')"
      ],
      "metadata": {
        "colab": {
          "base_uri": "https://localhost:8080/"
        },
        "id": "_wOlOfn9D-Jq",
        "outputId": "1f16516f-d796-499b-ace8-6fc25e5340cb"
      },
      "execution_count": 9,
      "outputs": [
        {
          "output_type": "stream",
          "name": "stdout",
          "text": [
            "Real Hello World\n"
          ]
        }
      ]
    },
    {
      "cell_type": "code",
      "source": [
        "\"\"\"\n",
        "print('Hello, World 1!')\n",
        "print('Hello, World 2!')\n",
        "print('Hello, World 2!')\n",
        "\"\"\""
      ],
      "metadata": {
        "colab": {
          "base_uri": "https://localhost:8080/",
          "height": 35
        },
        "id": "-T6VVY7QFE_h",
        "outputId": "b1cefd1f-d764-411c-a82a-ff905e27adcb"
      },
      "execution_count": 12,
      "outputs": [
        {
          "output_type": "execute_result",
          "data": {
            "text/plain": [
              "\"\\nprint('Hello, World 1!')\\nprint('Hello, World 2!')\\nprint('Hello, World 2!')\\n\""
            ],
            "application/vnd.google.colaboratory.intrinsic+json": {
              "type": "string"
            }
          },
          "metadata": {},
          "execution_count": 12
        }
      ]
    },
    {
      "cell_type": "code",
      "source": [],
      "metadata": {
        "id": "Tp7_YAHKFGxZ"
      },
      "execution_count": null,
      "outputs": []
    }
  ]
}