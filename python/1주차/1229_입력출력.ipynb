{
  "nbformat": 4,
  "nbformat_minor": 0,
  "metadata": {
    "colab": {
      "provenance": []
    },
    "kernelspec": {
      "name": "python3",
      "display_name": "Python 3"
    },
    "language_info": {
      "name": "python"
    }
  },
  "cells": [
    {
      "cell_type": "markdown",
      "source": [
        "#. 1. 입력하기\n",
        "## 1.1 입력함수 : input\n",
        "### 1.1.1 input 실습\n"
      ],
      "metadata": {
        "id": "MDzGwNdSLcHx"
      }
    },
    {
      "cell_type": "code",
      "source": [
        "input('어제 무엇을 먹었습니까?')"
      ],
      "metadata": {
        "id": "sKttylSwLtpf",
        "colab": {
          "base_uri": "https://localhost:8080/",
          "height": 54
        },
        "outputId": "1fb23937-fe4f-442a-dc02-bbe404d20292"
      },
      "execution_count": 4,
      "outputs": [
        {
          "name": "stdout",
          "output_type": "stream",
          "text": [
            "어제 무엇을 먹었습니까?\n"
          ]
        },
        {
          "output_type": "execute_result",
          "data": {
            "text/plain": [
              "''"
            ],
            "application/vnd.google.colaboratory.intrinsic+json": {
              "type": "string"
            }
          },
          "metadata": {},
          "execution_count": 4
        }
      ]
    },
    {
      "cell_type": "markdown",
      "source": [
        " input으로 받은 값을 변수에 할당"
      ],
      "metadata": {
        "id": "q-0DsgC3MflS"
      }
    },
    {
      "cell_type": "code",
      "source": [
        "name = input(\"어제 무엇을 먹었습니까?\")"
      ],
      "metadata": {
        "colab": {
          "base_uri": "https://localhost:8080/"
        },
        "id": "fzWegAvFMkNW",
        "outputId": "85ee596f-3cfa-4c3f-e7e9-48c2cfd90ad5"
      },
      "execution_count": 6,
      "outputs": [
        {
          "name": "stdout",
          "output_type": "stream",
          "text": [
            "어제 무엇을 먹었습니까?치킨\n"
          ]
        }
      ]
    },
    {
      "cell_type": "code",
      "source": [
        "print(\"어제, \" + name + \"을 먹었습니다!\")"
      ],
      "metadata": {
        "colab": {
          "base_uri": "https://localhost:8080/"
        },
        "id": "zJxLGPOzMrtK",
        "outputId": "3785b901-8290-4fb5-91e3-854cb9cfd19d"
      },
      "execution_count": 13,
      "outputs": [
        {
          "output_type": "stream",
          "name": "stdout",
          "text": [
            "어제, 치킨을 먹었습니다!\n"
          ]
        }
      ]
    },
    {
      "cell_type": "code",
      "source": [
        "# input을 활용한 덧셈 - 문자열인 경우\n",
        "a = input(\"첫번째 숫자를 입력해주세요\")\n",
        "b = input(\"두번째 숫자를 입력해주세요\")\n",
        "\n",
        "print(\"a + b = \", a+b, \"입니다.\" )"
      ],
      "metadata": {
        "colab": {
          "base_uri": "https://localhost:8080/"
        },
        "id": "JDifKswQM3t0",
        "outputId": "935bd644-7a6d-4973-e46d-d0676d2c17fc"
      },
      "execution_count": 10,
      "outputs": [
        {
          "output_type": "stream",
          "name": "stdout",
          "text": [
            "첫번째 숫자를 입력해주세요3\n",
            "두번째 숫자를 입력해주세요7\n",
            "a + b =  37 입니다.\n"
          ]
        }
      ]
    },
    {
      "cell_type": "code",
      "source": [
        "# input을 활용한 덧셈 - 숫자열인 경우\n",
        "a = int(input(\"첫번째 숫자를 입력해주세요\"))\n",
        "b = int(input(\"두번째 숫자를 입력해주세요\"))\n",
        "\n",
        "print(\"a + b = \", a+b, \"입니다.\" )"
      ],
      "metadata": {
        "colab": {
          "base_uri": "https://localhost:8080/"
        },
        "id": "HsRaw7fQNZBU",
        "outputId": "0f9833a4-43c8-455e-88de-ac3d896ef78a"
      },
      "execution_count": 12,
      "outputs": [
        {
          "output_type": "stream",
          "name": "stdout",
          "text": [
            "첫번째 숫자를 입력해주세요3\n",
            "두번째 숫자를 입력해주세요7\n",
            "a + b =  10 입니다.\n"
          ]
        }
      ]
    },
    {
      "cell_type": "markdown",
      "source": [
        "# 2. 출력함수 Print\n"
      ],
      "metadata": {
        "id": "1HhOjYCePCmk"
      }
    },
    {
      "cell_type": "code",
      "source": [
        "# 1. 여러줄 출력\n",
        "\n",
        "'출력합니다.'\n",
        "'출력합니다.'\n"
      ],
      "metadata": {
        "colab": {
          "base_uri": "https://localhost:8080/",
          "height": 35
        },
        "id": "wnHpjhVjPgqZ",
        "outputId": "caad23ff-fd4d-4e6b-f1e3-9f98e0e588c6"
      },
      "execution_count": 14,
      "outputs": [
        {
          "output_type": "execute_result",
          "data": {
            "text/plain": [
              "'출력합니다.'"
            ],
            "application/vnd.google.colaboratory.intrinsic+json": {
              "type": "string"
            }
          },
          "metadata": {},
          "execution_count": 14
        }
      ]
    },
    {
      "cell_type": "code",
      "source": [
        "# 2. 여러값 출력\n",
        "\n",
        "print(\"hello\", \"world\", \"!\")"
      ],
      "metadata": {
        "colab": {
          "base_uri": "https://localhost:8080/"
        },
        "id": "eJtH8zBzPlVs",
        "outputId": "5b188298-34f4-4617-ef0c-888a3b057b64"
      },
      "execution_count": 16,
      "outputs": [
        {
          "output_type": "stream",
          "name": "stdout",
          "text": [
            "hello world !\n"
          ]
        }
      ]
    },
    {
      "cell_type": "code",
      "source": [
        "# 3. sep 구분자\n",
        "\n",
        "print(\"Hello\", \"world\", \"!\", sep = \"~\")"
      ],
      "metadata": {
        "colab": {
          "base_uri": "https://localhost:8080/"
        },
        "id": "KIyzyG0KPyJU",
        "outputId": "d171c084-7138-477a-f3ef-b1dbfb227018"
      },
      "execution_count": 19,
      "outputs": [
        {
          "output_type": "stream",
          "name": "stdout",
          "text": [
            "Hello~world~!\n"
          ]
        }
      ]
    },
    {
      "cell_type": "code",
      "source": [
        "# 4. end 구분자\n",
        "\n",
        "print(\"Hello\", \"world\", \"!\", sep = \"~\", end = \"^^\")"
      ],
      "metadata": {
        "colab": {
          "base_uri": "https://localhost:8080/"
        },
        "id": "yMsv8lcDQDJK",
        "outputId": "d567d2f9-6d83-4345-fa48-f5c09a21a6c3"
      },
      "execution_count": 22,
      "outputs": [
        {
          "output_type": "stream",
          "name": "stdout",
          "text": [
            "Hello~world~!^^"
          ]
        }
      ]
    },
    {
      "cell_type": "code",
      "source": [
        "# 5. f-string\n",
        "# 5.2 f-string이 없을때\n",
        "\n",
        "name  = 'licat'\n",
        "age = 10\n",
        "\n",
        "print('제 이름은 {name}, 제 나이는 {age}입니다.')"
      ],
      "metadata": {
        "colab": {
          "base_uri": "https://localhost:8080/"
        },
        "id": "SGgjZNC6QG4z",
        "outputId": "7b6203fd-f988-4812-ad9f-ffa6ff21cef5"
      },
      "execution_count": 23,
      "outputs": [
        {
          "output_type": "stream",
          "name": "stdout",
          "text": [
            "제 이름은 {name}, 제 나이는 {age}입니다.\n"
          ]
        }
      ]
    },
    {
      "cell_type": "code",
      "source": [
        "# 5.2 f-string에 중괄호가 없을때\n",
        "\n",
        "name  = 'licat'\n",
        "age = 10\n",
        "\n",
        "print(f'제 이름은 name, 제 나이는 age입니다.')"
      ],
      "metadata": {
        "colab": {
          "base_uri": "https://localhost:8080/"
        },
        "id": "WlbaCyzMRhEq",
        "outputId": "7cbca9b7-8bc2-4fb4-a26a-dbac5f99bc85"
      },
      "execution_count": 25,
      "outputs": [
        {
          "output_type": "stream",
          "name": "stdout",
          "text": [
            "제 이름은 name, 제 나이는 age입니다.\n"
          ]
        }
      ]
    },
    {
      "cell_type": "code",
      "source": [
        "# 5.3 f-string을 제대로 사용했을 때\n",
        "\n",
        "name  = 'licat'\n",
        "age = 10\n",
        "\n",
        "print(f'제 이름은 {name}, 제 나이는 {age}입니다.')"
      ],
      "metadata": {
        "colab": {
          "base_uri": "https://localhost:8080/"
        },
        "id": "6Ahn3xxERzII",
        "outputId": "3dc2fd38-88df-4b3c-997b-56d60f99ced8"
      },
      "execution_count": 27,
      "outputs": [
        {
          "output_type": "stream",
          "name": "stdout",
          "text": [
            "제 이름은 licat, 제 나이는 10입니다.\n"
          ]
        }
      ]
    },
    {
      "cell_type": "markdown",
      "source": [
        "# 5.4 예시\n",
        "name = input('어느 동에 살고 계신가요?')\n",
        "time = int(input('몇 회 참여가능하신가요'))\n",
        "\n",
        "print(f'저는 {name}에 살고 있고, 주 {time}회 참여 가능합니다')"
      ],
      "metadata": {
        "id": "lWPFM7ZuR8Ds"
      }
    },
    {
      "cell_type": "code",
      "source": [
        "# 6. None\n",
        "\n",
        "a = None\n",
        "a"
      ],
      "metadata": {
        "id": "PiXUmJpmTN_M"
      },
      "execution_count": 32,
      "outputs": []
    },
    {
      "cell_type": "code",
      "source": [
        "a #print를 쓰지 않으면 None값 및 a 변수를 아무것도 출력하지 않음"
      ],
      "metadata": {
        "id": "WdBqnRIAUHm0"
      },
      "execution_count": 34,
      "outputs": []
    },
    {
      "cell_type": "code",
      "source": [
        "print(a)"
      ],
      "metadata": {
        "colab": {
          "base_uri": "https://localhost:8080/"
        },
        "id": "ir-UtxQAUI5i",
        "outputId": "1ff1561b-3da9-4d0e-cd20-cac458cd1527"
      },
      "execution_count": 35,
      "outputs": [
        {
          "output_type": "stream",
          "name": "stdout",
          "text": [
            "None\n"
          ]
        }
      ]
    }
  ]
}