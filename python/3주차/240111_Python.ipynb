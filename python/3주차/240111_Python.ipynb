{
  "nbformat": 4,
  "nbformat_minor": 0,
  "metadata": {
    "colab": {
      "provenance": [],
      "authorship_tag": "ABX9TyOCcSzr5jdobVS5U6bJ0vn+",
      "include_colab_link": true
    },
    "kernelspec": {
      "name": "python3",
      "display_name": "Python 3"
    },
    "language_info": {
      "name": "python"
    }
  },
  "cells": [
    {
      "cell_type": "markdown",
      "metadata": {
        "id": "view-in-github",
        "colab_type": "text"
      },
      "source": [
        "<a href=\"https://colab.research.google.com/github/eileen-2/orm/blob/main/240111_Python.ipynb\" target=\"_parent\"><img src=\"https://colab.research.google.com/assets/colab-badge.svg\" alt=\"Open In Colab\"/></a>"
      ]
    },
    {
      "cell_type": "markdown",
      "source": [
        "# 함수의 이름은 변수다."
      ],
      "metadata": {
        "id": "nvM_cTJJCkKs"
      }
    },
    {
      "cell_type": "code",
      "execution_count": 1,
      "metadata": {
        "id": "Zjzj-Y9V4mh0"
      },
      "outputs": [],
      "source": [
        "def hello():\n",
        "    # hello는 function의 인스턴\n",
        "    '''\n",
        "    \"Doc string\"\n",
        "    주석은 여기에 답니다.\n",
        "    아규먼트, 파라미터: ~다\n",
        "\n",
        "    return: ~다\n",
        "    '''\n",
        "    pass\n",
        "\n"
      ]
    },
    {
      "cell_type": "code",
      "source": [
        "print(type(hello)) # 함수도 class 입니다. 함수 이름을 변수처리 할 수 있다."
      ],
      "metadata": {
        "colab": {
          "base_uri": "https://localhost:8080/"
        },
        "id": "SYlangEl5eYs",
        "outputId": "fa27b94f-1382-42fc-e1c5-eb3302e17565"
      },
      "execution_count": 4,
      "outputs": [
        {
          "output_type": "stream",
          "name": "stdout",
          "text": [
            "<class 'function'>\n"
          ]
        }
      ]
    },
    {
      "cell_type": "code",
      "source": [
        "a = 10\n",
        "# a는 무엇이죠?\n",
        "# a는 int에 인스턴스"
      ],
      "metadata": {
        "id": "dEzfMZTO5mmh"
      },
      "execution_count": 6,
      "outputs": []
    },
    {
      "cell_type": "code",
      "source": [
        "print(type(a))"
      ],
      "metadata": {
        "colab": {
          "base_uri": "https://localhost:8080/"
        },
        "id": "Jd2fwHMv5n30",
        "outputId": "78bb2ff0-20e8-4110-f663-f9a89dc2f865"
      },
      "execution_count": 8,
      "outputs": [
        {
          "output_type": "stream",
          "name": "stdout",
          "text": [
            "<class 'int'>\n"
          ]
        }
      ]
    },
    {
      "cell_type": "code",
      "source": [
        "l = [a, a, a]\n",
        "l[2]"
      ],
      "metadata": {
        "colab": {
          "base_uri": "https://localhost:8080/"
        },
        "id": "bmpUIVkm6QEm",
        "outputId": "556a459a-1ac9-4bd0-c9d1-ffba7a4e4c86"
      },
      "execution_count": 10,
      "outputs": [
        {
          "output_type": "execute_result",
          "data": {
            "text/plain": [
              "10"
            ]
          },
          "metadata": {},
          "execution_count": 10
        }
      ]
    },
    {
      "cell_type": "code",
      "source": [
        "print('hello world') # built-in function"
      ],
      "metadata": {
        "id": "mU9QJ8zK6NAd"
      },
      "execution_count": null,
      "outputs": []
    },
    {
      "cell_type": "code",
      "source": [
        "l = [print, print, print]\n",
        "l[2]('hello world')"
      ],
      "metadata": {
        "colab": {
          "base_uri": "https://localhost:8080/"
        },
        "id": "R4vzuLJg6TeM",
        "outputId": "44fff0bb-6ef0-4498-b5bc-e7e93deaca14"
      },
      "execution_count": 12,
      "outputs": [
        {
          "output_type": "stream",
          "name": "stdout",
          "text": [
            "hello world\n"
          ]
        }
      ]
    },
    {
      "cell_type": "code",
      "source": [
        "hojun = print\n",
        "hojun('hello world')"
      ],
      "metadata": {
        "colab": {
          "base_uri": "https://localhost:8080/"
        },
        "id": "TlkKlcmI6i2_",
        "outputId": "75942e58-cda2-4f76-8155-7be8052b5408"
      },
      "execution_count": 3,
      "outputs": [
        {
          "output_type": "stream",
          "name": "stdout",
          "text": [
            "hello world\n"
          ]
        }
      ]
    },
    {
      "cell_type": "code",
      "source": [
        "id(hojun), id(print) # 함수의 주소 값이 같다. 같은 것을 가르킨다."
      ],
      "metadata": {
        "colab": {
          "base_uri": "https://localhost:8080/"
        },
        "id": "1481zIm9647H",
        "outputId": "a1a38bb1-ec57-4e2e-c901-4339ed174f2b"
      },
      "execution_count": 16,
      "outputs": [
        {
          "output_type": "execute_result",
          "data": {
            "text/plain": [
              "(140133345039664, 140133345039664)"
            ]
          },
          "metadata": {},
          "execution_count": 16
        }
      ]
    },
    {
      "cell_type": "code",
      "source": [
        "print = 10"
      ],
      "metadata": {
        "id": "EUbfoJP16_6d"
      },
      "execution_count": 18,
      "outputs": []
    },
    {
      "cell_type": "code",
      "source": [
        "print"
      ],
      "metadata": {
        "colab": {
          "base_uri": "https://localhost:8080/"
        },
        "id": "Z7VBdTSd7CZP",
        "outputId": "7051b23e-934a-426d-cfc4-6efca0f8ce6b"
      },
      "execution_count": 20,
      "outputs": [
        {
          "output_type": "execute_result",
          "data": {
            "text/plain": [
              "10"
            ]
          },
          "metadata": {},
          "execution_count": 20
        }
      ]
    },
    {
      "cell_type": "code",
      "source": [
        "print('hello world')"
      ],
      "metadata": {
        "colab": {
          "base_uri": "https://localhost:8080/",
          "height": 184
        },
        "id": "ERwhF6iH7D6r",
        "outputId": "1e90b2c2-36ef-4aea-e876-04e53acdb9db"
      },
      "execution_count": 22,
      "outputs": [
        {
          "output_type": "error",
          "ename": "TypeError",
          "evalue": "'int' object is not callable",
          "traceback": [
            "\u001b[0;31m---------------------------------------------------------------------------\u001b[0m",
            "\u001b[0;31mTypeError\u001b[0m                                 Traceback (most recent call last)",
            "\u001b[0;32m<ipython-input-22-66eb98f8e52a>\u001b[0m in \u001b[0;36m<cell line: 1>\u001b[0;34m()\u001b[0m\n\u001b[0;32m----> 1\u001b[0;31m \u001b[0mprint\u001b[0m\u001b[0;34m(\u001b[0m\u001b[0;34m'hello world'\u001b[0m\u001b[0;34m)\u001b[0m\u001b[0;34m\u001b[0m\u001b[0;34m\u001b[0m\u001b[0m\n\u001b[0m",
            "\u001b[0;31mTypeError\u001b[0m: 'int' object is not callable"
          ]
        }
      ]
    },
    {
      "cell_type": "code",
      "source": [
        "hojun('hello')"
      ],
      "metadata": {
        "colab": {
          "base_uri": "https://localhost:8080/"
        },
        "id": "Et6Rv81V7IQi",
        "outputId": "b1a9e5cc-cd18-45bd-9e5a-a52e92d15010"
      },
      "execution_count": 4,
      "outputs": [
        {
          "output_type": "stream",
          "name": "stdout",
          "text": [
            "hello\n"
          ]
        }
      ]
    },
    {
      "cell_type": "code",
      "source": [
        "print = hojun"
      ],
      "metadata": {
        "id": "Lm_ewFyR7YWF"
      },
      "execution_count": 6,
      "outputs": []
    },
    {
      "cell_type": "code",
      "source": [
        "id(print)"
      ],
      "metadata": {
        "colab": {
          "base_uri": "https://localhost:8080/"
        },
        "id": "k-gmOBuo7fj8",
        "outputId": "4abf65c8-87f0-4968-8be3-e7524b8e8e16"
      },
      "execution_count": 8,
      "outputs": [
        {
          "output_type": "execute_result",
          "data": {
            "text/plain": [
              "135992434791728"
            ]
          },
          "metadata": {},
          "execution_count": 8
        }
      ]
    },
    {
      "cell_type": "code",
      "source": [
        "print('hello world')"
      ],
      "metadata": {
        "id": "JRTiH1Rs7g-R"
      },
      "execution_count": null,
      "outputs": []
    },
    {
      "cell_type": "markdown",
      "source": [
        "# lambda의 응용\n"
      ],
      "metadata": {
        "id": "Mvhgko2jCqv5"
      }
    },
    {
      "cell_type": "code",
      "source": [
        "홀수 = lambda x: x % 3\n",
        "홀수(3)"
      ],
      "metadata": {
        "colab": {
          "base_uri": "https://localhost:8080/"
        },
        "id": "aHEJ51rjJ-_z",
        "outputId": "f94ec82c-ca13-4061-fd31-9eda60f6ee26"
      },
      "execution_count": 36,
      "outputs": [
        {
          "output_type": "execute_result",
          "data": {
            "text/plain": [
              "0"
            ]
          },
          "metadata": {},
          "execution_count": 36
        }
      ]
    },
    {
      "cell_type": "code",
      "source": [
        "add = lambda x, y: x + y"
      ],
      "metadata": {
        "id": "u03NV_Fc7jFU"
      },
      "execution_count": 10,
      "outputs": []
    },
    {
      "cell_type": "code",
      "source": [
        "# 어려우면 30개 만들어보세요.\n",
        "# 코드가 이해가 안되면, 그냥 그 문법 예제를 30개 만들어보세요."
      ],
      "metadata": {
        "id": "-Fmpajo47hdC"
      },
      "execution_count": null,
      "outputs": []
    },
    {
      "cell_type": "code",
      "source": [
        "# lambda +3항 연산자 많이 사용합니다.\n",
        "x = 10\n",
        "y = True if x % 2 == 0 else False\n",
        "\n",
        "print(y)\n",
        "lambda x: x ** 2\n",
        "\n"
      ],
      "metadata": {
        "colab": {
          "base_uri": "https://localhost:8080/"
        },
        "id": "UgjhTdd78Wox",
        "outputId": "bf1ebb68-25b7-4477-d4f7-cf293d3d7144"
      },
      "execution_count": 14,
      "outputs": [
        {
          "output_type": "stream",
          "name": "stdout",
          "text": [
            "True\n"
          ]
        },
        {
          "output_type": "execute_result",
          "data": {
            "text/plain": [
              "<function __main__.<lambda>(x)>"
            ]
          },
          "metadata": {},
          "execution_count": 14
        }
      ]
    },
    {
      "cell_type": "code",
      "source": [
        "#lambda 함수 사용법\n",
        "\n",
        "def 제곱(x): # 재사용할 예정이면 이렇게 함수 정의해서 사용\n",
        "    return x ** 2\n",
        "list(map(제곱, [1, 2, 3, 4]))"
      ],
      "metadata": {
        "colab": {
          "base_uri": "https://localhost:8080/"
        },
        "id": "9jqzokPz9a2f",
        "outputId": "6c6a8939-68cd-4407-e043-3ab47458fbc2"
      },
      "execution_count": 16,
      "outputs": [
        {
          "output_type": "execute_result",
          "data": {
            "text/plain": [
              "[1, 4, 9, 16]"
            ]
          },
          "metadata": {},
          "execution_count": 16
        }
      ]
    },
    {
      "cell_type": "code",
      "source": [
        "# 재사용 하지 않을 예정 - > 이렇게 'lambda'로\n",
        "# 실무에서 lambda가 더 많이 사용됨.\n",
        "# 수식이 복잡해지면 재사용과 별개로 lambda로 했을 경우, 가독성 저하!!\n",
        "# 이럴 때에는 함수로 빼기도 함.\n",
        "list(map(lambda x: x **2, [1, 2, 3, 4]))"
      ],
      "metadata": {
        "colab": {
          "base_uri": "https://localhost:8080/"
        },
        "id": "v4UdJIiX94hu",
        "outputId": "7c24083a-ed1c-414d-9e65-6cfc5eb75438"
      },
      "execution_count": 19,
      "outputs": [
        {
          "output_type": "execute_result",
          "data": {
            "text/plain": [
              "[1, 4, 9, 16]"
            ]
          },
          "metadata": {},
          "execution_count": 19
        }
      ]
    },
    {
      "cell_type": "code",
      "source": [
        "```\n",
        "# 코드로 형식 지정됨\n",
        "```"
      ],
      "metadata": {
        "id": "OQqvzdfuIlWO"
      },
      "execution_count": null,
      "outputs": []
    },
    {
      "cell_type": "markdown",
      "source": [
        "# top3 - 1. map에서 사용"
      ],
      "metadata": {
        "id": "lekA1GA5J40X"
      }
    },
    {
      "cell_type": "code",
      "source": [
        "list(map(lambda x: True if x % 2 == 0 else False, [1, 2, 3, 4])) # 마스킹"
      ],
      "metadata": {
        "colab": {
          "base_uri": "https://localhost:8080/"
        },
        "id": "tZPIglol-ubE",
        "outputId": "20975f4e-d313-4425-aa60-c5a3fc83c307"
      },
      "execution_count": 21,
      "outputs": [
        {
          "output_type": "execute_result",
          "data": {
            "text/plain": [
              "[False, True, False, True]"
            ]
          },
          "metadata": {},
          "execution_count": 21
        }
      ]
    },
    {
      "cell_type": "code",
      "source": [
        "# 알고리즘 문제에서\n",
        "# [True, False, False, False, True]\n",
        "# 에라토스테네스의 체(얼마나 마스킹이 유용한 지 알 수 있죠.) => 소수\n",
        "# 마스킹한 값이 효율적인지!!"
      ],
      "metadata": {
        "id": "6MGVHJ4C_Ads"
      },
      "execution_count": null,
      "outputs": []
    },
    {
      "cell_type": "code",
      "source": [
        "[True, True,   True,   True,   True,   True,   True,   True,   True, True]\n",
        "\n",
        "[0,    1,       2,       3,       4,      5,      6,      7,     8,     9]"
      ],
      "metadata": {
        "id": "kBQ3YEgbCiZV"
      },
      "execution_count": null,
      "outputs": []
    },
    {
      "cell_type": "markdown",
      "source": [
        "# Top3 - 2. filter"
      ],
      "metadata": {
        "id": "qSzPCx3VIsoV"
      }
    },
    {
      "cell_type": "code",
      "source": [
        "#filter() ; iterable = 반복객체 중 true인 것만 가져오세요.\n",
        "list(filter(lambda x:x % 2 == 0,range(100)))"
      ],
      "metadata": {
        "colab": {
          "base_uri": "https://localhost:8080/"
        },
        "id": "MvQq7vNhFgue",
        "outputId": "8e81aaaa-39d2-489d-d0d7-b1b2feb0d1ef"
      },
      "execution_count": 25,
      "outputs": [
        {
          "output_type": "execute_result",
          "data": {
            "text/plain": [
              "[0,\n",
              " 2,\n",
              " 4,\n",
              " 6,\n",
              " 8,\n",
              " 10,\n",
              " 12,\n",
              " 14,\n",
              " 16,\n",
              " 18,\n",
              " 20,\n",
              " 22,\n",
              " 24,\n",
              " 26,\n",
              " 28,\n",
              " 30,\n",
              " 32,\n",
              " 34,\n",
              " 36,\n",
              " 38,\n",
              " 40,\n",
              " 42,\n",
              " 44,\n",
              " 46,\n",
              " 48,\n",
              " 50,\n",
              " 52,\n",
              " 54,\n",
              " 56,\n",
              " 58,\n",
              " 60,\n",
              " 62,\n",
              " 64,\n",
              " 66,\n",
              " 68,\n",
              " 70,\n",
              " 72,\n",
              " 74,\n",
              " 76,\n",
              " 78,\n",
              " 80,\n",
              " 82,\n",
              " 84,\n",
              " 86,\n",
              " 88,\n",
              " 90,\n",
              " 92,\n",
              " 94,\n",
              " 96,\n",
              " 98]"
            ]
          },
          "metadata": {},
          "execution_count": 25
        }
      ]
    },
    {
      "cell_type": "code",
      "source": [
        "list(filter(lambda x:x % 3 == 0,range(100)))"
      ],
      "metadata": {
        "id": "a2nMQ_VbGNCK"
      },
      "execution_count": null,
      "outputs": []
    },
    {
      "cell_type": "code",
      "source": [
        "list(filter(lambda x:x > 50,range(100)))"
      ],
      "metadata": {
        "id": "e2UsJgxdGPJI"
      },
      "execution_count": null,
      "outputs": []
    },
    {
      "cell_type": "code",
      "source": [
        "list(filter(lambda x:50 < x < 80 ,range(100)))"
      ],
      "metadata": {
        "id": "HUXt0Kf8GPDX"
      },
      "execution_count": null,
      "outputs": []
    },
    {
      "cell_type": "code",
      "source": [
        "#filter는 true만 출력하니까! 3항연산자 써서 true만 걸러서 출력가\n",
        "list(filter(lambda x:True if x % 3 == 0 or x % 5 == 0 else False ,range(100)))"
      ],
      "metadata": {
        "id": "VV1DcxrrGlzW"
      },
      "execution_count": null,
      "outputs": []
    },
    {
      "cell_type": "code",
      "source": [
        "#list(filter(lambda x: x % 2 == 0 ,range(100)))\n",
        "list(filter(lambda x: x % 2 ,range(100))) # 홀수를 출력함. 왜????\n",
        "\n",
        "# [0, 1, 2, 3, 4, 5, 6, 7, 8, 9]\n",
        "# x == 0 일 때, lambda x: x % 2 = > 0 => False로 평가\n",
        "# x == 1 일 때, lambda x: x % 2 = > 1 = >True로 평가\n",
        "# x == 3 일 때, lambda x: x % 2 = > 0 => False로 평가\n",
        "# x == 4 일 때, lambda x: x % 2 = > 1 = >True로 평가\n",
        "# x == 5 일 때, lambda x: x % 2 = > 0 => False로 평가\n",
        "# x == 6 일 때, lambda x: x % 2 = > 1 = >True로 평가\n"
      ],
      "metadata": {
        "id": "VnA8Js4aHLRR"
      },
      "execution_count": null,
      "outputs": []
    },
    {
      "cell_type": "code",
      "source": [
        "test = lambda i: i % 2 ==0\n",
        "[test(i) for i in range(10)]"
      ],
      "metadata": {
        "colab": {
          "base_uri": "https://localhost:8080/"
        },
        "id": "ZqMPHwikKd3Z",
        "outputId": "2658ba6d-7635-4a5b-9401-c4d612d23651"
      },
      "execution_count": 37,
      "outputs": [
        {
          "output_type": "execute_result",
          "data": {
            "text/plain": [
              "[True, False, True, False, True, False, True, False, True, False]"
            ]
          },
          "metadata": {},
          "execution_count": 37
        }
      ]
    },
    {
      "cell_type": "markdown",
      "source": [
        "# top 3 - 3. sorted 에서 사용\n",
        "\n",
        "### key 함수의 키 인수대로 정렬"
      ],
      "metadata": {
        "id": "7md_AkG_Iv8r"
      }
    },
    {
      "cell_type": "code",
      "source": [
        "l = [10, 20 ,5, 4, 22, 32, 5, 9, 11]\n",
        "l.sort() #sort를 자주 사용하진 않습니다. 원본을 변경시키기 때문입니다.\n",
        "l"
      ],
      "metadata": {
        "colab": {
          "base_uri": "https://localhost:8080/"
        },
        "id": "boPEf4awIGxX",
        "outputId": "ec3ec0b4-20a8-4445-d288-bf7705ece62f"
      },
      "execution_count": 32,
      "outputs": [
        {
          "output_type": "execute_result",
          "data": {
            "text/plain": [
              "[4, 5, 5, 9, 10, 11, 20, 22, 32]"
            ]
          },
          "metadata": {},
          "execution_count": 32
        }
      ]
    },
    {
      "cell_type": "code",
      "source": [
        "l = [10, 20 ,5, 4, 22, 32, 5, 9, 11]\n",
        "sorted(l) # sorted의 return값이 정렬된 값이죠.\n",
        "l #ㅣ은 그대로. 그래서 많이 사용합니다."
      ],
      "metadata": {
        "colab": {
          "base_uri": "https://localhost:8080/"
        },
        "id": "VSbfBQFMI_VA",
        "outputId": "a41989ce-fbb7-4153-cbd5-acf1d7849334"
      },
      "execution_count": 34,
      "outputs": [
        {
          "output_type": "execute_result",
          "data": {
            "text/plain": [
              "[10, 20, 5, 4, 22, 32, 5, 9, 11]"
            ]
          },
          "metadata": {},
          "execution_count": 34
        }
      ]
    },
    {
      "cell_type": "code",
      "source": [
        "sorted() # key, reverse 옵션을 정말!!!!!!! 많이 사용합니다.\n",
        "# 알고리즘 문제에서 단골 문제이고, sorted 문제는 1문제는 거의 출제된다고 보시면 됩니다.\n",
        "# 최댓값, 최솟값\n",
        "# # https://codingdojang.com/scode/408?answer_mode=hide\n",
        "# https://school.programmers.co.kr/learn/courses/30/lessons/120835"
      ],
      "metadata": {
        "id": "RI5cRETzJYQq"
      },
      "execution_count": null,
      "outputs": []
    },
    {
      "cell_type": "code",
      "source": [
        "# 아래와 같은 형식으로 반별 점수가 주어진다고 하겠습니다.\n",
        "\n",
        "반별점수 = [\n",
        "    ['국어', '영어', '수학'],\n",
        "    ['국어', '영어', '수학'],\n",
        "    ['국어', '영어', '수학'],\n",
        "    ['국어', '영어', '수학'],\n",
        "]"
      ],
      "metadata": {
        "id": "AirorhhKK_vz"
      },
      "execution_count": 40,
      "outputs": []
    },
    {
      "cell_type": "code",
      "source": [
        "\n",
        "반별점수 = [\n",
        "    ['홍길동','30', '55', '22'],\n",
        "    ['홍춘향', '55', '60', '73'],\n",
        "    ['이철수','32', '65', '68'],\n",
        "    ['이호준','92', '11', '95'],\n",
        "]"
      ],
      "metadata": {
        "id": "0pkrpuQ1MGpK"
      },
      "execution_count": 43,
      "outputs": []
    },
    {
      "cell_type": "code",
      "source": [
        "sorted(반별점수) # 값이나 0번째 기준으로 정렬합니다."
      ],
      "metadata": {
        "colab": {
          "base_uri": "https://localhost:8080/"
        },
        "id": "yolk54tYL-US",
        "outputId": "9fa143fd-a159-4574-8829-01e348515dd1"
      },
      "execution_count": 44,
      "outputs": [
        {
          "output_type": "execute_result",
          "data": {
            "text/plain": [
              "[['이철수', '32', '65', '68'],\n",
              " ['이호준', '92', '11', '95'],\n",
              " ['홍길동', '30', '55', '22'],\n",
              " ['홍춘향', '55', '60', '73']]"
            ]
          },
          "metadata": {},
          "execution_count": 44
        }
      ]
    },
    {
      "cell_type": "code",
      "source": [
        "def 함수(x):\n",
        "    return x[3]\n",
        "\n",
        "sorted(반별점수, key = 함수) # 가장 중요한 것은 이 key 함수의 return 값대로 정렬한다는 것입니다!"
      ],
      "metadata": {
        "colab": {
          "base_uri": "https://localhost:8080/"
        },
        "id": "aIrNUh-3MVg9",
        "outputId": "6613e5c1-16af-48c4-be80-0568b111ba72"
      },
      "execution_count": 46,
      "outputs": [
        {
          "output_type": "execute_result",
          "data": {
            "text/plain": [
              "[['홍길동', '30', '55', '22'],\n",
              " ['이철수', '32', '65', '68'],\n",
              " ['홍춘향', '55', '60', '73'],\n",
              " ['이호준', '92', '11', '95']]"
            ]
          },
          "metadata": {},
          "execution_count": 46
        }
      ]
    },
    {
      "cell_type": "code",
      "source": [
        "'''\n",
        "[['이철수', '32', '65', '68'], => 68\n",
        " ['이호준', '92', '11', '95'], => 95\n",
        " ['홍길동', '30', '55', '22'], => 22 # 맨 앞으로 보내야겠네?\n",
        " ['홍춘향', '55', '60', '73']] => 73\n",
        "\n",
        " '''"
      ],
      "metadata": {
        "id": "ZfDaiX0dM8TS"
      },
      "execution_count": null,
      "outputs": []
    },
    {
      "cell_type": "code",
      "source": [
        "# def 함수(x):\n",
        "#    return x[3]\n",
        "# 영어 점수대로 출력하\n",
        "\n",
        "sorted(반별점수, key = lambda x: x[2]) # 가장 중요한 것은 이 key 함수의 return 값대로 정렬한다는 것입니다!"
      ],
      "metadata": {
        "colab": {
          "base_uri": "https://localhost:8080/"
        },
        "id": "e-mvTsQKNEJV",
        "outputId": "e0d9859a-1689-4c60-b02a-0bc1afe15880"
      },
      "execution_count": 47,
      "outputs": [
        {
          "output_type": "execute_result",
          "data": {
            "text/plain": [
              "[['이호준', '92', '11', '95'],\n",
              " ['홍길동', '30', '55', '22'],\n",
              " ['홍춘향', '55', '60', '73'],\n",
              " ['이철수', '32', '65', '68']]"
            ]
          },
          "metadata": {},
          "execution_count": 47
        }
      ]
    },
    {
      "cell_type": "code",
      "source": [
        "# 문제: 국, 영, 수 평균 점수대로 출력\n",
        "# 총점이 높으면 평균이 높으니까.\n",
        "sorted(반별점수, key = lambda x: x[1]+x[2]+x[3],reverse =True) # 내림차순(높은순으로)\n",
        "#내림차순 = 평균점수가 높은게 앞으"
      ],
      "metadata": {
        "colab": {
          "base_uri": "https://localhost:8080/"
        },
        "id": "_VkwJv2QQjyM",
        "outputId": "46c2b2d8-2a98-47fb-e66e-985c12432f02"
      },
      "execution_count": 53,
      "outputs": [
        {
          "output_type": "execute_result",
          "data": {
            "text/plain": [
              "[['이호준', '92', '11', '95'],\n",
              " ['홍춘향', '55', '60', '73'],\n",
              " ['이철수', '32', '65', '68'],\n",
              " ['홍길동', '30', '55', '22']]"
            ]
          },
          "metadata": {},
          "execution_count": 53
        }
      ]
    },
    {
      "cell_type": "code",
      "source": [
        "# 문제가 살짝 어려워집니다.\n",
        "# 동점자인 경우, 수학점수를 우선순위로 둔다.\n",
        "\n",
        "반별점수 = [\n",
        "    ['홍길동','50', '50', '50'],\n",
        "    ['홍춘향', '45', '50', '55'],\n",
        "    ['이철수','60', '35', '75'],\n",
        "    ['이호준','92', '11', '95'],\n",
        "]\n",
        "\n",
        "sorted(반별점수, key = lambda x: x[1]+x[2]+x[3], reverse= True) #철수가 수학점수가 높은데 뒤에 있네?\n",
        "#수학점수가 높으니 앞에 두겠다.\n",
        "'''\n",
        "반별점수 = [\n",
        "    ['홍길동','50', '50', '50'], #=> 50\n",
        "    ['홍춘향', '45', '50', '55'], #=> 50\n",
        "    ['이철수','60', '35', '75'], #=>?\n",
        "    ['이호준','92', '11', '95'], # = >?\n",
        "]\n",
        "'''\n",
        "'''\n",
        "#2\n",
        "sorted(반별점수, key = lambda x: (x[1]+x[2]+x[3], x[3]), reverse= True)\n",
        "반별점수 = [\n",
        "    ['홍길동','50', '50', '50'], #=> (50, 50)\n",
        "    ['홍춘향', '45', '50', '55'], #=> (50, 50)\n",
        "    ['이철수','60', '35', '75'], #=>?\n",
        "    ['이호준','92', '11', '95'], # = >?\n",
        "]\n",
        "'''\n",
        "#평균이 같을 경우 수학점수 순으로 정렬\n",
        "sorted(반별점수, key = lambda x: (x[1]+x[2]+x[3], x[3]), reverse= True)\n",
        "\n",
        "#평균 같고, 수학점수 같을 경우, 이름순으로 정렬\n",
        "sorted(반별점수, key = lambda x: (x[1]+x[2]+x[3], x[3],x[0]), reverse= True)"
      ],
      "metadata": {
        "colab": {
          "base_uri": "https://localhost:8080/"
        },
        "id": "SOg898PfRiR3",
        "outputId": "811f544f-7ca9-4a02-e240-51a1f8c2b90f"
      },
      "execution_count": 57,
      "outputs": [
        {
          "output_type": "execute_result",
          "data": {
            "text/plain": [
              "[['이호준', '92', '11', '95'],\n",
              " ['이철수', '60', '35', '75'],\n",
              " ['홍길동', '50', '50', '50'],\n",
              " ['홍춘향', '45', '50', '55']]"
            ]
          },
          "metadata": {},
          "execution_count": 57
        }
      ]
    },
    {
      "cell_type": "code",
      "source": [
        "우편번호 = [\n",
        "    {\n",
        "        '주소': '경기도 용인시',\n",
        "        '우편번호': 321\n",
        "    },\n",
        "    {\n",
        "        '주소': '경기도 수원시',\n",
        "        '우편번호': 355\n",
        "    },\n",
        "    {\n",
        "        '주소': '제주특별자치도 제주시',\n",
        "        '우편번호': 333\n",
        "    }\n",
        "]\n",
        "\n",
        "sorted(우편번호, key = lambda x: ['우편번호'])"
      ],
      "metadata": {
        "colab": {
          "base_uri": "https://localhost:8080/"
        },
        "id": "njtktWuuTsL7",
        "outputId": "715378e9-ebf5-44d8-c627-79f39912a773"
      },
      "execution_count": 60,
      "outputs": [
        {
          "output_type": "execute_result",
          "data": {
            "text/plain": [
              "[{'주소': '경기도 용인시', '우편번호': 321},\n",
              " {'주소': '경기도 수원시', '우편번호': 355},\n",
              " {'주소': '제주특별자치도 제주시', '우편번호': 333}]"
            ]
          },
          "metadata": {},
          "execution_count": 60
        }
      ]
    },
    {
      "cell_type": "code",
      "source": [
        "# 다음 입사문제\n",
        "# 직선에 있는 점의 좌표\n",
        "# 점과 점 사이가 가장 짧은 점의 쌍을 출력하세요\n",
        "\n",
        "# 입력값 : s = [1, 3, 4, 8, 13, 17, 20]\n",
        "# 출력값 : (3, 4)\n",
        "\n",
        "s = [1, 3, 4, 8, 13, 17, 20]\n",
        "s[1:]"
      ],
      "metadata": {
        "colab": {
          "base_uri": "https://localhost:8080/"
        },
        "id": "TXxdOIOOVLvz",
        "outputId": "edf0597c-d8b1-43d9-fd31-071ae42e9ccf"
      },
      "execution_count": 64,
      "outputs": [
        {
          "output_type": "execute_result",
          "data": {
            "text/plain": [
              "[3, 4, 8, 13, 17, 20]"
            ]
          },
          "metadata": {},
          "execution_count": 64
        }
      ]
    },
    {
      "cell_type": "code",
      "source": [
        "# 두개를 묶으세요 -> zip()\n",
        "list(zip(s, s[1:]))"
      ],
      "metadata": {
        "colab": {
          "base_uri": "https://localhost:8080/"
        },
        "id": "lrihWRuyWA7o",
        "outputId": "d7e4fe6b-84a3-43aa-fd7b-2f6030898232"
      },
      "execution_count": 66,
      "outputs": [
        {
          "output_type": "execute_result",
          "data": {
            "text/plain": [
              "[(1, 3), (3, 4), (4, 8), (8, 13), (13, 17), (17, 20)]"
            ]
          },
          "metadata": {},
          "execution_count": 66
        }
      ]
    },
    {
      "cell_type": "code",
      "source": [
        "x = list(zip(s, s[1:]))"
      ],
      "metadata": {
        "id": "H3Z0ABdHYk03"
      },
      "execution_count": 80,
      "outputs": []
    },
    {
      "cell_type": "code",
      "source": [
        "x = list(zip(s, s[1:]))\n",
        "sorted(x, key = lambda x: x[1]-x[0])"
      ],
      "metadata": {
        "colab": {
          "base_uri": "https://localhost:8080/"
        },
        "id": "6ZDEPLoLX38v",
        "outputId": "b4ac0567-3427-47a7-9242-b47437fa7dfe"
      },
      "execution_count": 81,
      "outputs": [
        {
          "output_type": "execute_result",
          "data": {
            "text/plain": [
              "[(3, 4), (1, 3), (17, 20), (4, 8), (13, 17), (8, 13)]"
            ]
          },
          "metadata": {},
          "execution_count": 81
        }
      ]
    },
    {
      "cell_type": "code",
      "source": [
        "# keep해주세요\n",
        "# 이호준강사님이 자주 사용하는 순서\n",
        "\n",
        "list(zip('hello', 'world'))"
      ],
      "metadata": {
        "colab": {
          "base_uri": "https://localhost:8080/"
        },
        "id": "P95etkDgWQQu",
        "outputId": "3645da0b-dbb0-4f03-e35d-5aefade10907"
      },
      "execution_count": 68,
      "outputs": [
        {
          "output_type": "execute_result",
          "data": {
            "text/plain": [
              "[('h', 'w'), ('e', 'o'), ('l', 'r'), ('l', 'l'), ('o', 'd')]"
            ]
          },
          "metadata": {},
          "execution_count": 68
        }
      ]
    },
    {
      "cell_type": "code",
      "source": [
        "# 자주 사용하진 않아요\n",
        "list(enumerate((zip('hello', 'world'))))"
      ],
      "metadata": {
        "colab": {
          "base_uri": "https://localhost:8080/"
        },
        "id": "eDe0EWEWWmRd",
        "outputId": "c0409451-5ba3-404c-8760-88eb5b51f442"
      },
      "execution_count": 71,
      "outputs": [
        {
          "output_type": "execute_result",
          "data": {
            "text/plain": [
              "[(0, ('h', 'w')),\n",
              " (1, ('e', 'o')),\n",
              " (2, ('l', 'r')),\n",
              " (3, ('l', 'l')),\n",
              " (4, ('o', 'd'))]"
            ]
          },
          "metadata": {},
          "execution_count": 71
        }
      ]
    },
    {
      "cell_type": "code",
      "source": [
        "# 제너레이터를 만듭니다.\n",
        "\n",
        "def gen():\n",
        "    i = 1\n",
        "    while True:\n",
        "        yield i\n",
        "        i += 1\n",
        "list(zip(gen(), 'hello', 'world'))"
      ],
      "metadata": {
        "colab": {
          "base_uri": "https://localhost:8080/"
        },
        "id": "fEsU9X9OWwvJ",
        "outputId": "d8899be9-ab64-4529-c040-ca8e37b55c8f"
      },
      "execution_count": 74,
      "outputs": [
        {
          "output_type": "execute_result",
          "data": {
            "text/plain": [
              "[(1, 'h', 'w'), (2, 'e', 'o'), (3, 'l', 'r'), (4, 'l', 'l'), (5, 'o', 'd')]"
            ]
          },
          "metadata": {},
          "execution_count": 74
        }
      ]
    },
    {
      "cell_type": "markdown",
      "source": [
        "# built-in function 중에 하지 않은 것\n"
      ],
      "metadata": {
        "id": "o4oxqGwmY7Ae"
      }
    },
    {
      "cell_type": "markdown",
      "source": [
        "![image.png](data:image/png;base64,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)"
      ],
      "metadata": {
        "id": "ELP3X12UZnx0"
      }
    },
    {
      "cell_type": "code",
      "source": [
        "chr(65)"
      ],
      "metadata": {
        "colab": {
          "base_uri": "https://localhost:8080/",
          "height": 35
        },
        "id": "-KA4ZLHAZO8U",
        "outputId": "f200cecd-4cb5-4634-97d2-8a8efb93a46c"
      },
      "execution_count": 83,
      "outputs": [
        {
          "output_type": "execute_result",
          "data": {
            "text/plain": [
              "'A'"
            ],
            "application/vnd.google.colaboratory.intrinsic+json": {
              "type": "string"
            }
          },
          "metadata": {},
          "execution_count": 83
        }
      ]
    },
    {
      "cell_type": "code",
      "source": [
        "ord('A')\n",
        "# 41인데 왜 65지?\n",
        "# 16진법  4* 16^1 + 1 * 16^0 = 64 + 1"
      ],
      "metadata": {
        "colab": {
          "base_uri": "https://localhost:8080/"
        },
        "id": "yHM63ikCZTX4",
        "outputId": "991e40b3-e1b1-473c-e0f7-9ee18bd42ca6"
      },
      "execution_count": 85,
      "outputs": [
        {
          "output_type": "execute_result",
          "data": {
            "text/plain": [
              "65"
            ]
          },
          "metadata": {},
          "execution_count": 85
        }
      ]
    },
    {
      "cell_type": "code",
      "source": [
        "max([10,20,30])"
      ],
      "metadata": {
        "colab": {
          "base_uri": "https://localhost:8080/"
        },
        "id": "qghaNDueZ8wH",
        "outputId": "0baa0dc0-b126-40ee-f1ac-40b42df3cea6"
      },
      "execution_count": 86,
      "outputs": [
        {
          "output_type": "execute_result",
          "data": {
            "text/plain": [
              "30"
            ]
          },
          "metadata": {},
          "execution_count": 86
        }
      ]
    },
    {
      "cell_type": "code",
      "source": [
        "min([10, 20, 30])"
      ],
      "metadata": {
        "colab": {
          "base_uri": "https://localhost:8080/"
        },
        "id": "0elmVpdEaA0V",
        "outputId": "c2dc2a9b-dc19-4262-9ef4-fb37b1d88d48"
      },
      "execution_count": 89,
      "outputs": [
        {
          "output_type": "execute_result",
          "data": {
            "text/plain": [
              "10"
            ]
          },
          "metadata": {},
          "execution_count": 89
        }
      ]
    },
    {
      "cell_type": "code",
      "source": [
        "sum([10,20,30])\n",
        "sum([10,20,30],100)\n",
        "sum([[1,2,3], [4, 5, 6]], [])\n",
        "\n"
      ],
      "metadata": {
        "colab": {
          "base_uri": "https://localhost:8080/"
        },
        "id": "EVqYb8zZaKo5",
        "outputId": "88d6914e-a71d-45b4-bbaf-82a1fa4fe94e"
      },
      "execution_count": 91,
      "outputs": [
        {
          "output_type": "execute_result",
          "data": {
            "text/plain": [
              "[1, 2, 3, 4, 5, 6]"
            ]
          },
          "metadata": {},
          "execution_count": 91
        }
      ]
    },
    {
      "cell_type": "code",
      "source": [
        "sum([[1,2,3], [4, 5, 6]], [])\n"
      ],
      "metadata": {
        "colab": {
          "base_uri": "https://localhost:8080/"
        },
        "id": "tGBZo5Q9aZQo",
        "outputId": "a1b5790b-5fba-4cec-c2c6-a6d53bcc63ed"
      },
      "execution_count": 92,
      "outputs": [
        {
          "output_type": "execute_result",
          "data": {
            "text/plain": [
              "[1, 2, 3, 4, 5, 6]"
            ]
          },
          "metadata": {},
          "execution_count": 92
        }
      ]
    },
    {
      "cell_type": "code",
      "source": [
        "[] + [1,2,3] == [1,2,3]"
      ],
      "metadata": {
        "colab": {
          "base_uri": "https://localhost:8080/"
        },
        "id": "0xJ5XQLhadRd",
        "outputId": "a5d32b95-8e53-45be-d954-07f7f54b682f"
      },
      "execution_count": 94,
      "outputs": [
        {
          "output_type": "execute_result",
          "data": {
            "text/plain": [
              "True"
            ]
          },
          "metadata": {},
          "execution_count": 94
        }
      ]
    },
    {
      "cell_type": "code",
      "source": [
        "# 다른 값이 출력될 수 있다는 것을 기억해야 합니다.\n",
        "a = 10\n",
        "print(a) # a.__str__\n",
        "a # a.__repr__\n",
        "repr(a) # a.__repr__"
      ],
      "metadata": {
        "colab": {
          "base_uri": "https://localhost:8080/",
          "height": 54
        },
        "id": "k5TXG0QlerWl",
        "outputId": "b1769cd5-1aa9-42e4-d88a-4e91746c8feb"
      },
      "execution_count": 98,
      "outputs": [
        {
          "output_type": "stream",
          "name": "stdout",
          "text": [
            "10\n"
          ]
        },
        {
          "output_type": "execute_result",
          "data": {
            "text/plain": [
              "'10'"
            ],
            "application/vnd.google.colaboratory.intrinsic+json": {
              "type": "string"
            }
          },
          "metadata": {},
          "execution_count": 98
        }
      ]
    },
    {
      "cell_type": "code",
      "source": [
        "# 실제 Django에서 사용하는 코드\n",
        "\n",
        "class Notice:\n",
        "    '''\n",
        "    게시물 클래스\n",
        "    '''\n",
        "    def __init__(self, title, contents):\n",
        "        self.title = title\n",
        "        self.contents = contents\n",
        "\n",
        "    def __str__(self):\n",
        "        return self.title\n",
        "\n",
        "    def __repr__(self):\n",
        "        return f'{self.title}, {self.contents}'\n",
        "\n",
        "게시물1 = Notice('파이썬 이렇게 어려운줄 몰랐다!', '내가 알던 파이썬이 아니야....')\n",
        "게시물2 = Notice('Django는 이렇게 재미있을 줄 몰랐다!', '파이썬을 잘 못해서 내가 할 수 있을까 생각이 들었는데...')"
      ],
      "metadata": {
        "id": "ZaNDpOL8e9cZ"
      },
      "execution_count": 106,
      "outputs": []
    },
    {
      "cell_type": "code",
      "source": [
        "# 실제 Django에서 사용하는 코드\n",
        "\n",
        "class Notice:\n",
        "    '''\n",
        "    게시물 클래스\n",
        "    '''\n",
        "    def __init__(self, title, contents):\n",
        "        self.title = title\n",
        "        self.contents = contents\n",
        "\n",
        "    def __str__(self):\n",
        "        return self.title\n",
        "\n",
        "    def __repr__(self):\n",
        "        '''\n",
        "        repr이라는 값은 제가 임의로 만든 값이 아닙니다!\n",
        "        정해져 있는 이름입니다.\n",
        "        '''\n",
        "        return f'{self.title}, {self.contents}'\n",
        "\n",
        "    def __len__(self):\n",
        "        '''\n",
        "        len이라는 값은 제가 임의로 만든 값이 아닙니다!\n",
        "        정해져 있는 이름입니다.\n",
        "        '''\n",
        "        # return 100\n",
        "        return len(self.title + self.contents)\n",
        "\n",
        "게시물1 = Notice('파이썬 이렇게 어려운줄 몰랐다!', '내가 알던 파이썬이 아니야....')\n",
        "len(게시물1)"
      ],
      "metadata": {
        "id": "RgcJxaG2kOoC"
      },
      "execution_count": null,
      "outputs": []
    },
    {
      "cell_type": "code",
      "source": [
        "print(게시물1) #로그로 출력할 때\n",
        "게시물1\n",
        "repr(게시물1) # 그 자료형을 대표하는 문자열 취급"
      ],
      "metadata": {
        "colab": {
          "base_uri": "https://localhost:8080/",
          "height": 54
        },
        "id": "QC3-yYrAgp--",
        "outputId": "d6887dc5-e66f-45ed-ef41-5dac0057d5a4"
      },
      "execution_count": 111,
      "outputs": [
        {
          "output_type": "stream",
          "name": "stdout",
          "text": [
            "파이썬 이렇게 어려운줄 몰랐다!\n"
          ]
        },
        {
          "output_type": "execute_result",
          "data": {
            "text/plain": [
              "'파이썬 이렇게 어려운줄 몰랐다!, 내가 알던 파이썬이 아니야....'"
            ],
            "application/vnd.google.colaboratory.intrinsic+json": {
              "type": "string"
            }
          },
          "metadata": {},
          "execution_count": 111
        }
      ]
    },
    {
      "cell_type": "code",
      "source": [
        "print(type(range(10))) # range는 range라는 타입이다."
      ],
      "metadata": {
        "colab": {
          "base_uri": "https://localhost:8080/"
        },
        "id": "cReHy0k_hBTF",
        "outputId": "0064701a-af96-4761-9053-633cc8029123"
      },
      "execution_count": 114,
      "outputs": [
        {
          "output_type": "stream",
          "name": "stdout",
          "text": [
            "<class 'range'>\n"
          ]
        }
      ]
    },
    {
      "cell_type": "code",
      "source": [
        "# 파이썬 v2.x\n",
        "'''\n",
        "range(10) => [0, 1, 2, 3, 4, 5, 6, 7, 8, 9]\n",
        "type(range(10)) => <type 'list'>\n",
        "'''\n",
        "\n",
        "#문제가 있다.\n",
        "'''\n",
        "range(100000000) => 메모리를 100000000 갯수만큼 한번에 생성을 해야한다.\n",
        "# 이것을 개선하자는 얘기가 끊임없이 나왔습니다.\n",
        "v2.x에서 나온 것 => xrange(). 이것은 특이하게 현재값과 다음값만을 가지고 있습니다.\n",
        "메모리 공간은 2칸 (실제로는 더 잡아먹습니다.)이 되서 효율적으로 바뀌게 됨.\n",
        "# 현재값, 다음값\n",
        "'''\n",
        "\n",
        "# 파이썬 v3.x => class range\n",
        "'''\n",
        "range(100000000)\n",
        "# class range\n",
        "# for i in range(1000) # 1000개의 메모리를 할당하는 것이 아닙니다.\n",
        "#    pass\n",
        "'''"
      ],
      "metadata": {
        "colab": {
          "base_uri": "https://localhost:8080/",
          "height": 147
        },
        "id": "X7UMJRj5hKpR",
        "outputId": "8c3bc92d-00c4-4285-cbbd-7304036c6d8b"
      },
      "execution_count": 115,
      "outputs": [
        {
          "output_type": "error",
          "ename": "SyntaxError",
          "evalue": "incomplete input (<ipython-input-115-eac2060e6184>, line 17)",
          "traceback": [
            "\u001b[0;36m  File \u001b[0;32m\"<ipython-input-115-eac2060e6184>\"\u001b[0;36m, line \u001b[0;32m17\u001b[0m\n\u001b[0;31m    '''\u001b[0m\n\u001b[0m    ^\u001b[0m\n\u001b[0;31mSyntaxError\u001b[0m\u001b[0;31m:\u001b[0m incomplete input\n"
          ]
        }
      ]
    },
    {
      "cell_type": "code",
      "source": [
        "list(range(1000)) # 메모리 큰 부하를 줍니다.!!"
      ],
      "metadata": {
        "id": "cuJJ0IDsjPWc"
      },
      "execution_count": null,
      "outputs": []
    },
    {
      "cell_type": "code",
      "source": [
        "sum(range(1000))"
      ],
      "metadata": {
        "colab": {
          "base_uri": "https://localhost:8080/"
        },
        "id": "0vJwkNVZjUwV",
        "outputId": "c1d6f77f-d3cf-41ce-fd3a-40cbe2c63df4"
      },
      "execution_count": 116,
      "outputs": [
        {
          "output_type": "execute_result",
          "data": {
            "text/plain": [
              "499500"
            ]
          },
          "metadata": {},
          "execution_count": 116
        }
      ]
    },
    {
      "cell_type": "code",
      "source": [
        "sum(list(range(1000))) # 메모리가 1000개 할당되었다가 더해야 하니 비효율적인 코드입니다."
      ],
      "metadata": {
        "id": "xaH057AFjY_1"
      },
      "execution_count": null,
      "outputs": []
    },
    {
      "cell_type": "code",
      "source": [
        "values = ['A', 'B', 'C', 'D']\n",
        "print(list(enumerate(values)))\n",
        "print(list(enumerate(values, 1))) # 시작값 넣는 것 많이 사용합니다. 기억해두세요."
      ],
      "metadata": {
        "colab": {
          "base_uri": "https://localhost:8080/"
        },
        "id": "TiCmNSVWkmzX",
        "outputId": "a20aaff9-7ab8-426a-b948-12d5475651bc"
      },
      "execution_count": 117,
      "outputs": [
        {
          "output_type": "stream",
          "name": "stdout",
          "text": [
            "[(0, 'A'), (1, 'B'), (2, 'C'), (3, 'D')]\n",
            "[(1, 'A'), (2, 'B'), (3, 'C'), (4, 'D')]\n"
          ]
        }
      ]
    },
    {
      "cell_type": "code",
      "source": [
        "list(reversed([1, 2, 3, 4, 5]))"
      ],
      "metadata": {
        "colab": {
          "base_uri": "https://localhost:8080/"
        },
        "id": "uQT0V0JtknNe",
        "outputId": "c71942c8-c916-4469-e155-0bb26bce9082"
      },
      "execution_count": 118,
      "outputs": [
        {
          "output_type": "execute_result",
          "data": {
            "text/plain": [
              "[5, 4, 3, 2, 1]"
            ]
          },
          "metadata": {},
          "execution_count": 118
        }
      ]
    },
    {
      "cell_type": "code",
      "source": [
        "reversed([1,2,3,4,5]) #아직 메모리 할당 전. 순회하거니 list취해야 메모리 할당됨."
      ],
      "metadata": {
        "colab": {
          "base_uri": "https://localhost:8080/"
        },
        "id": "scu7MFg5kys_",
        "outputId": "1fcd1111-e95b-486e-94fa-d32b4d617c62"
      },
      "execution_count": 120,
      "outputs": [
        {
          "output_type": "execute_result",
          "data": {
            "text/plain": [
              "<list_reverseiterator at 0x7baee91103d0>"
            ]
          },
          "metadata": {},
          "execution_count": 120
        }
      ]
    },
    {
      "cell_type": "code",
      "source": [
        "sorted([1,2,3,4,5])\n",
        "# 왜 sorted만 자료형으로 주나요?\n",
        "# reversed, map, filter나 이런건 모두 메모리 주소를 가리키는데???\n",
        "# 정답: (추후 심화과정에서 강의) 메모리 효율성 때문\n",
        "# sorted만 비효율을 감수하고 사용자가 보기 편한 자료형으로 반"
      ],
      "metadata": {
        "colab": {
          "base_uri": "https://localhost:8080/"
        },
        "id": "KKc_i0-Ck2_N",
        "outputId": "456c0c07-4ce6-4a1f-910e-0e904c918f46"
      },
      "execution_count": 121,
      "outputs": [
        {
          "output_type": "execute_result",
          "data": {
            "text/plain": [
              "[1, 2, 3, 4, 5]"
            ]
          },
          "metadata": {},
          "execution_count": 121
        }
      ]
    },
    {
      "cell_type": "markdown",
      "source": [
        "# match\n",
        "\n",
        "* 3.10버전에서 나온 문법이기 때문에 현업에서 거의 사용 못함\n",
        "* 속도가 매우 빨라야하는 프로젝트를 한다면->파이썬 최신버전 -> match문법을 사용할 수 있으나 권고하기가 어려움. 동료들이 match 문법이 익숙하지 않기 때문\n",
        "* 2024년에는 중요도가 별포 0.5개 정도\n",
        "* 2 ~ 3년 후에는 중요도가 3 ~4 개 정도로 올라갈 것으로 보입니다."
      ],
      "metadata": {
        "id": "EChyOmyKl4aa"
      }
    },
    {
      "cell_type": "code",
      "source": [
        "요일 = 100\n",
        "match 요일:\n",
        "    case 0:\n",
        "        print('일요일')\n",
        "    case 1:\n",
        "        print('월요일')\n",
        "    case 2:\n",
        "        print('화요일')\n",
        "    case 3:\n",
        "        print('수요일')\n",
        "    case 4:\n",
        "        print('목요일')\n",
        "    case 5:\n",
        "        print('금요일')\n",
        "    case 6:\n",
        "        print('토요일')\n",
        "    case _:\n",
        "        print('요일없음!')"
      ],
      "metadata": {
        "colab": {
          "base_uri": "https://localhost:8080/"
        },
        "id": "7lFhF7PHmwG2",
        "outputId": "9edbfa61-be40-4576-82c5-97f7097b9622"
      },
      "execution_count": 123,
      "outputs": [
        {
          "output_type": "stream",
          "name": "stdout",
          "text": [
            "요일없음!\n"
          ]
        }
      ]
    },
    {
      "cell_type": "code",
      "source": [
        "text = '1'\n",
        "match text:\n",
        "    case '1' | '2':\n",
        "        print('1, 2')\n",
        "    case _:\n",
        "        print('No Match')"
      ],
      "metadata": {
        "colab": {
          "base_uri": "https://localhost:8080/"
        },
        "id": "q4MUXP6foiJV",
        "outputId": "b0f1cad8-0fc1-4204-825d-355da9717502"
      },
      "execution_count": 124,
      "outputs": [
        {
          "output_type": "stream",
          "name": "stdout",
          "text": [
            "1, 2\n"
          ]
        }
      ]
    },
    {
      "cell_type": "code",
      "source": [
        "# 이런 코드를 더 많이 보게 될 겁니다.\n",
        "def 요일반환(요일):\n",
        "    return {\n",
        "        0: '일요일',\n",
        "        1: '월요일',\n",
        "        2: '화요일',\n",
        "        3: '수요일',\n",
        "    }.get(요일, '요일없음')\n",
        "\n",
        "요일반환(2)\n",
        "요일반환(100)"
      ],
      "metadata": {
        "colab": {
          "base_uri": "https://localhost:8080/",
          "height": 35
        },
        "id": "pc3f87rNomEl",
        "outputId": "e4e0305a-6def-4fec-f847-5ca347fa2ed1"
      },
      "execution_count": 127,
      "outputs": [
        {
          "output_type": "execute_result",
          "data": {
            "text/plain": [
              "'요일없음'"
            ],
            "application/vnd.google.colaboratory.intrinsic+json": {
              "type": "string"
            }
          },
          "metadata": {},
          "execution_count": 127
        }
      ]
    },
    {
      "cell_type": "code",
      "source": [
        "# 요일 = 4\n",
        "# match 요일:\n",
        "#     case 0:\n",
        "#         print('일요일')\n",
        "#     case 1:\n",
        "#         print('월요일')\n",
        "#     case 2:\n",
        "#         print('화요일')\n",
        "#     case 3: # 다른 언어에서는 이 문법이 가용합니다.\n",
        "#     case 4:\n",
        "#         print('목요일')\n",
        "#     case 5:\n",
        "#         print('금요일')\n",
        "#     case 6:\n",
        "#         print('토요일')"
      ],
      "metadata": {
        "id": "LZsVm2tAn-t6"
      },
      "execution_count": 128,
      "outputs": []
    },
    {
      "cell_type": "markdown",
      "source": [
        "# class\n",
        "\n",
        "* 초급자\n",
        "* 많은 것을 만들어 봐라"
      ],
      "metadata": {
        "id": "n4xFDVM88I48"
      }
    },
    {
      "cell_type": "markdown",
      "source": [
        "* class 클래스이름 = > 인스턴스\n",
        "* class Post = > 게시물1, 게시물2, 게시물3\n",
        "* class Dot => 점1, 점2, 점3\n",
        "* class Matrix = > 행렬1, 행렬2, 핼렬3\n",
        "* class User => 유저1, 유저2, 유저3\n",
        "* class Cart => 장바구니1, 장바구니2, 장바구니3\n",
        "* class Comment => 댓글1, 댓글2, 댓글 3\n",
        "* class Character => Licat, Lion, Mop1\n",
        "* class Product => 상품1, 상품2, 상품3\n",
        "* class Course => 강의1, 강의2, 강의3\n",
        "* class Teacher => 강사1, 강사2, 강사3"
      ],
      "metadata": {
        "id": "huAs_Gy18k0E"
      }
    },
    {
      "cell_type": "code",
      "source": [
        "# 0번 : 기초 상식\n",
        "# 0.0 __init__ 매직매서드 없어도 되나요?\n",
        "class 우편번호:\n",
        "    제주도 = 100\n",
        "    경기도 = 101\n",
        "    전라북도 = 102\n",
        "    전라남도 = 103\n",
        "\n",
        "우편번호.제주도\n",
        "# 왜 이걸 딕셔너리로 만들지 않고 class로?\n",
        "# 재사용성 + 확장성\n",
        "\n",
        "# 0.1 클래스 꼭 사용해야하나요?\n",
        "# 일부 자료형에서는 클래스는 꼭 사용해야 합니다.\n",
        "\n",
        "# 아래와 같이 저장한다고 해서 문제가 생기는가?\n",
        "# 데이터의 양(속도), 확장성, 다양성, 자료의 형\n",
        "# 기본 클래스(list, dict(속도 개선이 많이 되었음에도), set)는 매우 느립니다.\n",
        "\n",
        "# 제목: python 기초\n",
        "# 저자: 이호준\n",
        "\n",
        "{'제목': 'python 기초', '저자': '이호준'}\n",
        "\n",
        "# 제목: html 기초\n",
        "# 저자: 한재현\n",
        "\n",
        "{'제목': 'html 기초', '저자': '한재현'}\n",
        "[{'제목': 'python 기초', '저자': '이호준'}, {'제목': 'html 기초', '저자': '한재현'}]"
      ],
      "metadata": {
        "colab": {
          "base_uri": "https://localhost:8080/"
        },
        "id": "ncSAnUBy_6xY",
        "outputId": "70d29c19-f609-4ef1-ae8a-1e213e1c09a1"
      },
      "execution_count": 135,
      "outputs": [
        {
          "output_type": "execute_result",
          "data": {
            "text/plain": [
              "100"
            ]
          },
          "metadata": {},
          "execution_count": 135
        }
      ]
    },
    {
      "cell_type": "code",
      "source": [
        "from datetime import datetime\n",
        "\n",
        "datetime.now()"
      ],
      "metadata": {
        "colab": {
          "base_uri": "https://localhost:8080/"
        },
        "id": "GFfnR-KZDdNB",
        "outputId": "145d3fc2-1702-4f6c-82d3-9b89ba449b23"
      },
      "execution_count": 136,
      "outputs": [
        {
          "output_type": "execute_result",
          "data": {
            "text/plain": [
              "datetime.datetime(2024, 1, 11, 5, 45, 40, 296088)"
            ]
          },
          "metadata": {},
          "execution_count": 136
        }
      ]
    },
    {
      "cell_type": "markdown",
      "source": [
        "## Post"
      ],
      "metadata": {
        "id": "2PKHzEXrNjUb"
      }
    },
    {
      "cell_type": "code",
      "source": [
        "# 1.\n",
        "# 클래스를 설계할 때,\n",
        "# 첫 번째로 - 모든 인스턴스에서 공유해야할 변수(클래스 변수)나 메서드 설정\n",
        "# 두 번째로 - 인스턴스 고유의 영역\n",
        "# in_created_at(스네이크 표기법) - 파이썬\n",
        "# inCreatedAt(카멜 표기법) - 자바스크립트에서 많이 사용(파이썬은 잘 안)\n",
        "# InCreatedAt(파스칼 표기법) -  파이썬 클래스\n",
        "class Post:\n",
        "    def __init__(\n",
        "            self,\n",
        "            in_title='',\n",
        "            in_contents='',\n",
        "            in_count=0,\n",
        "            in_crerate_at='',\n",
        "            in_updated_at='',\n",
        "            in_author=''\n",
        "        ):\n",
        "        self.title = in_title # 인스턴스 고유의 영역\n",
        "        self.contents = in_contents\n",
        "        self.count = in_count\n",
        "        self.created_at = in_crerate_at\n",
        "        self.updated_at = in_updated_at\n",
        "        self.author = in_author\n",
        "\n",
        "    def __str__(self):\n",
        "        return self.title\n",
        "\n",
        "    def __repr__(self): #__str__쓰면 __repr__ 세트처럼 와야함\n",
        "        return self.title\n",
        "\n",
        "    def __add__(self, next):\n",
        "        #return self.count +next.count #게시물 1 + 게시물 2\n",
        "        return self.title + next.title #게시물 1 제목 + 게시물 2 제목\n",
        "\n",
        "    def __len__(self):\n",
        "        pass\n",
        "\n",
        "    def __eq__(self, next):\n",
        "        return self.title == next.title\n",
        "\n",
        "    def update(self, in_contents):\n",
        "        '''\n",
        "        #in_ 실무에서 사용하는 접두사가 아닙니다.\n",
        "        이해를 돕기위한 변수명\n",
        "        '''\n",
        "        self.contents = in_contents\n",
        "        return '게시물 수정에 성공했습니다! 200'\n",
        "\n",
        "    def delete(self, contents):\n",
        "        pass\n",
        "\n",
        "게시물1 = Post(\n",
        "    '파이썬은 참 깊군요!',\n",
        "    '오늘은 파이썬 클래스를 배웠는데 너무 어렵기도 하고, 신기했습니다.',\n",
        "    0,\n",
        "    '2024-01-11',\n",
        "    '2024-01-11',\n",
        "    '이호준'\n",
        ")\n",
        "게시물2 = Post('2','22', 0, '2024-01-11', '2024-01-11', '이호준')\n",
        "\n",
        "print(게시물1)\n",
        "print(게시물1.title)\n",
        "print(게시물1 + 게시물2) # \"+\"연산이 나오면 앞(게시물1)의 __add__가 실행됩니다.\n",
        "게시물1.update('hello world')\n",
        "게시물1.contents\n",
        "\n",
        "게시물1 == 게시물2 # 이 코드는 이제 title만 비교하는 코드가 되었습니다.\n"
      ],
      "metadata": {
        "colab": {
          "base_uri": "https://localhost:8080/"
        },
        "id": "ADEvFWSPAqfY",
        "outputId": "349b511e-64c9-49eb-8006-bd15871c7866"
      },
      "execution_count": 159,
      "outputs": [
        {
          "output_type": "stream",
          "name": "stdout",
          "text": [
            "파이썬은 참 깊군요!\n",
            "파이썬은 참 깊군요!\n",
            "파이썬은 참 깊군요!2\n"
          ]
        },
        {
          "output_type": "execute_result",
          "data": {
            "text/plain": [
              "False"
            ]
          },
          "metadata": {},
          "execution_count": 159
        }
      ]
    },
    {
      "cell_type": "code",
      "source": [
        "l = [10, 20, 30]\n",
        "len(dir(l))"
      ],
      "metadata": {
        "colab": {
          "base_uri": "https://localhost:8080/"
        },
        "id": "tkr1OyesKXiu",
        "outputId": "7f2f6550-ebe0-4484-b679-d8456bb05686"
      },
      "execution_count": 153,
      "outputs": [
        {
          "output_type": "execute_result",
          "data": {
            "text/plain": [
              "47"
            ]
          },
          "metadata": {},
          "execution_count": 153
        }
      ]
    },
    {
      "cell_type": "code",
      "source": [
        "len(dir(게시물2))"
      ],
      "metadata": {
        "colab": {
          "base_uri": "https://localhost:8080/"
        },
        "id": "wv_wRA37LY0v",
        "outputId": "5a668604-1691-44ba-f8ed-72d6b718cc55"
      },
      "execution_count": 155,
      "outputs": [
        {
          "output_type": "execute_result",
          "data": {
            "text/plain": [
              "36"
            ]
          },
          "metadata": {},
          "execution_count": 155
        }
      ]
    },
    {
      "cell_type": "markdown",
      "source": [
        "## Dot"
      ],
      "metadata": {
        "id": "gbYfrkhuNd3j"
      }
    },
    {
      "cell_type": "code",
      "source": [
        "class Dot:\n",
        "    def __init__(self, x, y):\n",
        "        self.x = x\n",
        "        self.y = y\n",
        "\n",
        "    def __add__(self, next):\n",
        "        return (self.x + next.x, self.y + self.y) # x,y 말고 다른 점이 없으니까 튜플자료형으로 구현(리스트 노)\n",
        "\n",
        "    def __mul__(self, next):\n",
        "        return (self.x * next.x, self.y * self.y)\n",
        "\n",
        "    def distance(self, next):\n",
        "        dx = self.x - next.x\n",
        "        dy = self.y - next.y\n",
        "        return (dx**2 + dy**2) ** 0.5 ## root은 **0.5로 많이 사용합니다.\n",
        "\n",
        "Dot1 = Dot(20, 10)\n",
        "Dot2 = Dot(30, 5)\n",
        "\n",
        "Dot1 + Dot2\n",
        "Dot1 * Dot2\n",
        "Dot1.distance(Dot2)"
      ],
      "metadata": {
        "colab": {
          "base_uri": "https://localhost:8080/"
        },
        "id": "QlMiP2AINlex",
        "outputId": "858adac1-a46a-4536-f4c2-3ec77d927dab"
      },
      "execution_count": 161,
      "outputs": [
        {
          "output_type": "execute_result",
          "data": {
            "text/plain": [
              "11.180339887498949"
            ]
          },
          "metadata": {},
          "execution_count": 161
        }
      ]
    },
    {
      "cell_type": "markdown",
      "source": [
        "## Character"
      ],
      "metadata": {
        "id": "OUXt0uIPQCgI"
      }
    },
    {
      "cell_type": "code",
      "source": [
        "from os import name\n",
        "class Character:\n",
        "\n",
        "    def __init__(self, name, skill, hp, mp, power, x):\n",
        "        self.name = name\n",
        "        self.skill = skill\n",
        "        self.hp = hp\n",
        "        self.mp = mp\n",
        "        self.power = power\n",
        "        self.x = x\n",
        "\n",
        "\n",
        "    def move(self):\n",
        "        self.x += 100\n",
        "\n",
        "\n",
        "    def attact(self, next):\n",
        "        next.hp-= self.power\n",
        "\n",
        "주인공1 = Character('licat', '질풍검', 100, 100, 10, 10)\n",
        "몹1 = Character('licat', '질풍검', 100, 100, 10, 10)\n",
        "\n",
        "주인공1.attact(몹1)\n",
        "몹1.hp\n"
      ],
      "metadata": {
        "colab": {
          "base_uri": "https://localhost:8080/"
        },
        "id": "5HxQeR-WQE9M",
        "outputId": "984a6f7c-837d-44f0-d6af-4bdfdf5d09df"
      },
      "execution_count": 162,
      "outputs": [
        {
          "output_type": "execute_result",
          "data": {
            "text/plain": [
              "90"
            ]
          },
          "metadata": {},
          "execution_count": 162
        }
      ]
    }
  ]
}