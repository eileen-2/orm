{
  "nbformat": 4,
  "nbformat_minor": 0,
  "metadata": {
    "colab": {
      "provenance": [],
      "authorship_tag": "ABX9TyPFS213N+LJk0+2iPOSCaCq",
      "include_colab_link": true
    },
    "kernelspec": {
      "name": "python3",
      "display_name": "Python 3"
    },
    "language_info": {
      "name": "python"
    }
  },
  "cells": [
    {
      "cell_type": "markdown",
      "metadata": {
        "id": "view-in-github",
        "colab_type": "text"
      },
      "source": [
        "<a href=\"https://colab.research.google.com/github/eileen-2/orm/blob/main/0111_%EA%B3%BC%EC%A0%9C.ipynb\" target=\"_parent\"><img src=\"https://colab.research.google.com/assets/colab-badge.svg\" alt=\"Open In Colab\"/></a>"
      ]
    },
    {
      "cell_type": "code",
      "execution_count": 32,
      "metadata": {
        "colab": {
          "base_uri": "https://localhost:8080/"
        },
        "id": "GGeZmZ1wYD4g",
        "outputId": "ef639929-02c6-4c32-d404-944cef4c20b1"
      },
      "outputs": [
        {
          "output_type": "stream",
          "name": "stdout",
          "text": [
            "0\n"
          ]
        }
      ],
      "source": [
        "#1, 다음 숫자 중 5보다 크고, 20보다 작으면서 짝수인 수를 모두 더하는 코드를 완성 해주세요. 오늘 배운 filter 사용은 필수 입니다.\n",
        "number = [1, 5, 7, 4, 3, 22, 23, 15, 26, 17, 3]\n",
        "def solution(data):\n",
        "    return 5 < data < 20 and data % 2 == 0\n",
        "\n",
        "print(sum(filter(solution, number)))\n",
        "\n",
        "#step 1, 5 < x < 20 인 수 찾기\n",
        "#step 2, step1 중 짝수 찾기\n",
        "#step 3, step 2를 모두 더하기\n",
        "\n"
      ]
    },
    {
      "cell_type": "code",
      "source": [
        "# 2. 다음에 정보가 담겨져 있는 것을 Class로 만들어주세요. 메서드로는 '할인' 메서드를 만들어주세요.\n",
        "# 예를 들어 아래 책을 10% 할인한다고 하면 4500원이 됩니다. 책.할인(10) == 4500의 형태로 만들어주시면 됩니다.\n",
        "\n",
        "class 책:\n",
        "\n",
        "    def __init__(self, 책제목, 책_내용_요약, 저자, 발행일, 가격):\n",
        "        self.책제목 = 책제목\n",
        "        self.책_내용_요약 = 책_내용_요약\n",
        "        self.저자 = 저자\n",
        "        self.발행일 = 발행일\n",
        "        self.가격 = 가격\n",
        "\n",
        "    def 할인(self, 할인율):\n",
        "        self.가격 -= int(self.가격 * 할인율 / 100)\n",
        "        return self.가격\n",
        "\n",
        "내_책 = 책(\n",
        "    'hello world python',\n",
        "    'hello world...',\n",
        "    '이호준',\n",
        "    '2024-01-11',\n",
        "    5000)\n",
        "\n",
        "print(내_책.할인(10))"
      ],
      "metadata": {
        "colab": {
          "base_uri": "https://localhost:8080/"
        },
        "id": "DB2gzehHYgD3",
        "outputId": "9f32be21-dc46-4654-a495-63614eb70377"
      },
      "execution_count": 51,
      "outputs": [
        {
          "output_type": "stream",
          "name": "stdout",
          "text": [
            "4500\n"
          ]
        }
      ]
    },
    {
      "cell_type": "code",
      "source": [
        "#3, 다음 문제를 풀고 정답을 제출해주세요.\n",
        "# 3.1 https://100.pyalgo.co.kr/?page=10\n",
        "'''\n",
        "라이캣은 연말 출시할 게임의 게임 난이도를 조절하는 업무를 담당하게 되었습니다.\n",
        "우선 능력치가 비정상적으로 높은 캐릭터들의 리스트를 뽑고자 합니다.\n",
        "캐릭터 이름, 공격력, 방어력, 체력, 마력이\n",
        "리스트로 ['Licat', 98, 30, 21, 60]와 같이 주어졌을 때\n",
        "든 능력치의 합이 350 이상이 되는 캐릭터의 이름을 출력하는 solution함수를 완성해주세요.\n",
        "\n",
        "[['Licat', 98, 92, 85, 97], ['Mura', 95, 32, 51, 30], ['Binky', 98, 98, 51, 32]]\n",
        "이 입력되었을 때 모든 능력치의 합이 350이 넘는 캐릭터는 'Licat'뿐입니다.\n",
        "'Licat'은 98 + 92 + 85 + 97 = 372로 350이 넘어갑니다.\n",
        " 따라서 'Licat'을 리스트에 담아 출력합니다.\n",
        " 여러명일 경우 알파벳 순으로 정렬하여 출력하여야 합니다.\n",
        " '''\n",
        "\n",
        "등장인물 = [['Licat', 98, 92, 85, 97], ['Mura', 95, 32, 51, 30], ['Binky', 98, 98, 51, 32]]\n",
        "\n",
        "def solution(data):\n",
        "    result = []\n",
        "    for character in data:\n",
        "        if sum(character[1:]) >= 350:\n",
        "            result.append(character[0])\n",
        "    return sorted(result, key = lambda x: x[0])\n",
        "\n",
        "print(solution(등장인물))"
      ],
      "metadata": {
        "colab": {
          "base_uri": "https://localhost:8080/"
        },
        "id": "Ufnj7pfUYjGZ",
        "outputId": "214af479-7060-4093-ec75-a0817772f2b6"
      },
      "execution_count": 72,
      "outputs": [
        {
          "output_type": "stream",
          "name": "stdout",
          "text": [
            "['Licat']\n"
          ]
        }
      ]
    },
    {
      "cell_type": "code",
      "source": [
        "class Character:\n",
        "    def __init__(self, name, skill, hp, mp, power):\n",
        "        self.name = name\n",
        "        self.skill = skill\n",
        "        self.hp = hp\n",
        "        self.mp = mp\n",
        "        self.power = power\n",
        "\n",
        "    def get_total(self):\n",
        "        return self.skill + self.hp + self.mp + self.power\n",
        "\n",
        "등장인물 = [Character('Licat', 98, 92, 85, 97), Character('Mura', 95, 32, 51, 30), Character('Binky', 98, 98, 51, 32)]\n",
        "\n",
        "def solution(characters):\n",
        "    result = []\n",
        "    for character in characters:\n",
        "        if character.get_total() >= 350:\n",
        "            result.append(character.name)\n",
        "    return sorted(result)\n",
        "\n",
        "print(solution(등장인물))\n"
      ],
      "metadata": {
        "colab": {
          "base_uri": "https://localhost:8080/"
        },
        "id": "Xkh3c5e8pzb_",
        "outputId": "247a6f15-8452-4db6-ec7b-5a42a310bfbc"
      },
      "execution_count": 74,
      "outputs": [
        {
          "output_type": "stream",
          "name": "stdout",
          "text": [
            "['Licat']\n"
          ]
        }
      ]
    },
    {
      "cell_type": "code",
      "source": [
        "#4, 3.2 https://100.pyalgo.co.kr/?page=18"
      ],
      "metadata": {
        "id": "FaXOQlb8YkcX"
      },
      "execution_count": null,
      "outputs": []
    }
  ]
}