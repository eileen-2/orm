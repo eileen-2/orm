{
  "nbformat": 4,
  "nbformat_minor": 0,
  "metadata": {
    "colab": {
      "provenance": [],
      "authorship_tag": "ABX9TyMqqlxbEJCcj0vL8GEsoj6i",
      "include_colab_link": true
    },
    "kernelspec": {
      "name": "python3",
      "display_name": "Python 3"
    },
    "language_info": {
      "name": "python"
    }
  },
  "cells": [
    {
      "cell_type": "markdown",
      "metadata": {
        "id": "view-in-github",
        "colab_type": "text"
      },
      "source": [
        "<a href=\"https://colab.research.google.com/github/eileen-2/orm/blob/main/0110_%EC%A1%B0%EB%B3%84%EA%B3%BC%EC%A0%9C_%ED%94%84%EB%A1%9C%EA%B7%B8%EB%9E%A8.ipynb\" target=\"_parent\"><img src=\"https://colab.research.google.com/assets/colab-badge.svg\" alt=\"Open In Colab\"/></a>"
      ]
    },
    {
      "cell_type": "code",
      "execution_count": 1,
      "metadata": {
        "colab": {
          "base_uri": "https://localhost:8080/",
          "height": 109
        },
        "id": "47C1zB_DHf-j",
        "outputId": "7fe04fe3-698c-4501-9687-9ff4f821b8cb"
      },
      "outputs": [
        {
          "output_type": "execute_result",
          "data": {
            "text/plain": [
              "'\\nStep 1: 할 일 목록 초기화 및 표시 함수\\n목표: 사용자의 할 일 목록을 관리합니다.\\n내용:\\n할 일 목록을 저장할 리스트를 초기화합니다. \\n할 일 목록을 표시하는 함수를 정의합니다.\\n\\nStep 2: 할 일 추가 및 삭제 기능\\n목표: 할 일을 추가하고 삭제하는 기능을 구현합니다.\\n내용:\\n할 일을 추가하는 함수를 정의합니다.\\n할 일을 삭제하는 함수를 정의합니다.\\n\\nStep 3: 사용자 입력 처리\\n목표: 사용자 입력에 따라 프로그램이 반응하도록 합니다.\\n내용:\\n사용자로부터 입력을 받아 추가, 삭제, 표시 기능을 수행합니다\\n'"
            ],
            "application/vnd.google.colaboratory.intrinsic+json": {
              "type": "string"
            }
          },
          "metadata": {},
          "execution_count": 1
        }
      ],
      "source": [
        "'''\n",
        "Step 1: 할 일 목록 초기화 및 표시 함수\n",
        "목표: 사용자의 할 일 목록을 관리합니다.\n",
        "내용:\n",
        "할 일 목록을 저장할 리스트를 초기화합니다.\n",
        "할 일 목록을 표시하는 함수를 정의합니다.\n",
        "\n",
        "Step 2: 할 일 추가 및 삭제 기능\n",
        "목표: 할 일을 추가하고 삭제하는 기능을 구현합니다.\n",
        "내용:\n",
        "할 일을 추가하는 함수를 정의합니다.\n",
        "할 일을 삭제하는 함수를 정의합니다.\n",
        "\n",
        "Step 3: 사용자 입력 처리\n",
        "목표: 사용자 입력에 따라 프로그램이 반응하도록 합니다.\n",
        "내용:\n",
        "사용자로부터 입력을 받아 추가, 삭제, 표시 기능을 수행합니다\n",
        "'''"
      ]
    },
    {
      "cell_type": "code",
      "source": [
        "'''\n",
        "Step 1: 할 일 목록 초기화 및 표시 함수\n",
        "목표: 사용자의 할 일 목록을 관리합니다.\n",
        "내용:\n",
        "할 일 목록을 저장할 리스트를 초기화합니다.\n",
        "할 일 목록을 표시하는 함수를 정의합니다.\n",
        "'''\n",
        "#Step 1: 할 일 목록 초기화 및 표시 함수\n",
        "task_list = [] # 할일 목록을 저장할 빈 리스트를 생성합니다.\n",
        "\n",
        "# 할 일 목록 출력\n",
        "for task in task_list: #\n",
        "    print(task)\n",
        "# 할 일 목록과 함께 번호 표시\n",
        "for index, task in enumerate(todo_list, start=1):\n",
        "    print(f\"{index}. {task}\")"
      ],
      "metadata": {
        "colab": {
          "base_uri": "https://localhost:8080/",
          "height": 239
        },
        "id": "ABuOAACSIZcF",
        "outputId": "625084f2-76fd-4524-ab54-fe5cf582f5ec"
      },
      "execution_count": 7,
      "outputs": [
        {
          "output_type": "error",
          "ename": "NameError",
          "evalue": "name 'todo_list' is not defined",
          "traceback": [
            "\u001b[0;31m---------------------------------------------------------------------------\u001b[0m",
            "\u001b[0;31mNameError\u001b[0m                                 Traceback (most recent call last)",
            "\u001b[0;32m<ipython-input-7-80e739425313>\u001b[0m in \u001b[0;36m<cell line: 15>\u001b[0;34m()\u001b[0m\n\u001b[1;32m     13\u001b[0m     \u001b[0mprint\u001b[0m\u001b[0;34m(\u001b[0m\u001b[0mtask\u001b[0m\u001b[0;34m)\u001b[0m\u001b[0;34m\u001b[0m\u001b[0;34m\u001b[0m\u001b[0m\n\u001b[1;32m     14\u001b[0m \u001b[0;31m# 할 일 목록과 함께 번호 표시\u001b[0m\u001b[0;34m\u001b[0m\u001b[0;34m\u001b[0m\u001b[0m\n\u001b[0;32m---> 15\u001b[0;31m \u001b[0;32mfor\u001b[0m \u001b[0mindex\u001b[0m\u001b[0;34m,\u001b[0m \u001b[0mtask\u001b[0m \u001b[0;32min\u001b[0m \u001b[0menumerate\u001b[0m\u001b[0;34m(\u001b[0m\u001b[0mtodo_list\u001b[0m\u001b[0;34m,\u001b[0m \u001b[0mstart\u001b[0m\u001b[0;34m=\u001b[0m\u001b[0;36m1\u001b[0m\u001b[0;34m)\u001b[0m\u001b[0;34m:\u001b[0m\u001b[0;34m\u001b[0m\u001b[0;34m\u001b[0m\u001b[0m\n\u001b[0m\u001b[1;32m     16\u001b[0m     \u001b[0mprint\u001b[0m\u001b[0;34m(\u001b[0m\u001b[0;34mf\"{index}. {task}\"\u001b[0m\u001b[0;34m)\u001b[0m\u001b[0;34m\u001b[0m\u001b[0;34m\u001b[0m\u001b[0m\n",
            "\u001b[0;31mNameError\u001b[0m: name 'todo_list' is not defined"
          ]
        }
      ]
    },
    {
      "cell_type": "code",
      "source": [
        "#Step 1: 할 일 목록 초기화 및 표시 함수\n",
        "task_list = [] # 할일 목록을 저장할 빈 리스트를 생성합니다.\n",
        "\n",
        "for index, task in enumerate(task_list, start=1): #enumerate\n",
        "    print(f\"{index}. {task}\")\n",
        "\n",
        "# 할 일 목록 표시\n",
        "def display_task_list(): #할 일 목록을 표시하는 함수\n",
        "    print(\"현재 할 일 목록: \") #현재 할 일 목록을 출력\n",
        "for task in task_list: # 할일 목록 에서\n",
        "    print(\"-\" + task_list) # 순서대로 '-'를 붙여 목록을 출력\n",
        "\n",
        "# 할 일을 추가하는 함수\n",
        "def add_task(task): #새 할일 목록 추가 하는 함수\n",
        "    task_list.append(task) # append를 활용해 새롭게 추가할 할 일을 할 일 목록 마지막에 삽입\n",
        "    print(f'{task}가 할 일 목록에 추가되었습니다.') #출력\n",
        "\n",
        "# 할 일을 제거하는 함수\n",
        "def remove_task(task):\n",
        "    if task in task_list: #task가 할 일 목록에 있다면->True\n",
        "        task_list.remove(task) # remove를 활용해 지정한 task를 할 일 목록에서 삭제\n",
        "        print(f'{task}가 할 일 목록에서 제거되었습니다.') #출력\n",
        "\n",
        "# 메인 루프\n",
        "while True:\n",
        "    print(\"\\n[1] 할 일 추가 [2] 할 일 삭제 [3] 목록 표시 [4] 종료\")\n",
        "    choice = input(\"선택: \")  # 사용자 입력 받기\n",
        "\n",
        "    if choice == '1':  # 할 일 추가\n",
        "        task = input(\"추가할 할 일: \")\n",
        "        add_task(task)\n",
        "    elif choice == '2':  # 할 일 삭제\n",
        "        task = input(\"삭제할 할 일: \")\n",
        "        remove_task(task)\n",
        "    elif choice == '3':  # 할 일 목록 표시\n",
        "        display_todo_list()\n",
        "    elif choice == '4':  # 프로그램 종료\n",
        "        print(\"프로그램을 종료합니다.\")\n",
        "        break  # while 루프 종료\n",
        "    else:\n",
        "        print(\"잘못된 선택입니다. 다시 입력하세요.\")\n"
      ],
      "metadata": {
        "id": "CH0fY6mALftn"
      },
      "execution_count": 11,
      "outputs": []
    },
    {
      "cell_type": "code",
      "source": [
        "# 할 일 목록을 저장할 리스트\n",
        "todo_list = [] # 할 일 목록을 저장하는 빈 리스트를\n",
        "\n",
        "# 할 일 목록을 표시하는 함수\n",
        "def display_todo_list():\n",
        "    print(\"현재 할 일 목록:\")\n",
        "    for task in todo_list:  # todo_list에 있는 모든 할 일을 순회\n",
        "        print(\"- \" + task)  # 각 할 일 앞에 '-'를 붙여서 출력\n",
        "\n",
        "# 할 일을 추가하는 함수\n",
        "def add_task(task):\n",
        "    todo_list.append(task)  # 리스트에 새 할 일 추가\n",
        "    print(f\"'{task}'가 할 일 목록에 추가되었습니다.\")\n",
        "\n",
        "# 할 일을 제거하는 함수\n",
        "def remove_task(task):\n",
        "    if task in todo_list:  # 할 일이 목록에 있는지 확인\n",
        "        todo_list.remove(task)  # 목록에서 할 일 제거\n",
        "        print(f\"'{task}'가 할 일 목록에서 제거되었습니다.\")\n",
        "    else:\n",
        "        print(f\"할 일 목록에 '{task}'가 없습니다.\")\n",
        "\n",
        "# 메인 루프\n",
        "while True:\n",
        "    print(\"\\n[1] 할 일 추가 [2] 할 일 삭제 [3] 목록 표시 [4] 종료\")\n",
        "    choice = input(\"선택: \")  # 사용자 입력 받기\n",
        "\n",
        "    if choice == '1':  # 할 일 추가\n",
        "        task = input(\"추가할 할 일: \")\n",
        "        add_task(task)\n",
        "    elif choice == '2':  # 할 일 삭제\n",
        "        task = input(\"삭제할 할 일: \")\n",
        "        remove_task(task)\n",
        "    elif choice == '3':  # 할 일 목록 표시\n",
        "        display_todo_list()\n",
        "    elif choice == '4':  # 프로그램 종료\n",
        "        print(\"프로그램을 종료합니다.\")\n",
        "        break  # while 루프 종료\n",
        "    else:\n",
        "        print(\"잘못된 선택입니다. 다시 입력하세요.\")"
      ],
      "metadata": {
        "id": "-ZtlgJyWL9cj"
      },
      "execution_count": null,
      "outputs": []
    },
    {
      "cell_type": "code",
      "source": [
        "# 할 일 목록을 저장할 리스트\n",
        "todo_list = []\n",
        "\n",
        "# 할 일 목록을 표시하는 함수\n",
        "# def display_todo_list():\n",
        "#    if len(todo_list) == 0: # 리스트의 요소가 없는 경우 상정\n",
        "#        print(\"할 일 목록이 비어있습니다.\") # 굳이 목록이 비어 있는지를 물어볼 필요는 없음\n",
        "#    else: # 해당 부분만(리스트 추가 코드만 있으면 됨)\n",
        "#        for idx, item in enumerate(todo_list):\n",
        "#            print(f\"{idx + 1}. {item}\")\n",
        "\n",
        "def display_todo_list():\n",
        "    print(\"현재 할 일 목록:\")\n",
        "    for task in todo_list:  # todo_list에 있는 모든 할 일을 순회\n",
        "        print(\"- \" + task)  # 각 할 일 앞에 '-'를 붙여서 출력\n",
        "\n",
        "# 할 일을 추가하는 함수\n",
        "def add_todo_item(item):\n",
        "    todo_list.append(item)\n",
        "    print(f\"'{item}'이(가) 할 일 목록에 추가되었습니다.\")\n",
        "\n",
        "# 할 일을 삭제하는 함수\n",
        "def delete_todo_item(index):\n",
        "    if 0 < index <= len(todo_list):\n",
        "        item = todo_list.pop(index - 1)\n",
        "        print(f\"'{item}'이(가) 할 일 목록에서 삭제되었습니다.\")\n",
        "    else:\n",
        "        print(\"잘못된 인덱스입니다.\")\n",
        "\n",
        "# 사용자 입력 처리 함수 # 굳이 try 및 except 함수를 이용할 필요 없이 while 구문 사용하는 것이 2~3줄을 아낄 수 있음\n",
        "# def handle_user_input():\n",
        "#    try:\n",
        "#        while True:\n",
        "#            print(\"\\n할 일 목록 관리 프로그램\")\n",
        "#            print(\"1. 할 일 표시하기\")\n",
        "#            print(\"2. 할 일 추가하기\")\n",
        "#            print(\"3. 할 일 삭제하기\")\n",
        "#            print(\"4. 프로그램 종료하기\")\n",
        "#            choice = str(input(\"원하는 작업을 선택하세요: \"))\n",
        "\n",
        "#            if choice == '1':\n",
        "#                display_todo_list()\n",
        "#            elif choice == '2':\n",
        "#                item = str(input(\"추가할 할 일: \"))\n",
        "#                add_todo_item(item)\n",
        "#            elif choice == '3':\n",
        "#                index = int(input(\"삭제할 할 일의 번호: \"))\n",
        "#                delete_todo_item(index)\n",
        "#            elif choice == '4':\n",
        "#                print(\"프로그램을 종료합니다.\")\n",
        "#                break\n",
        "#            else:\n",
        "#                print(\"잘못된 선택입니다. 다시 시도해주세요.\")\n",
        "#    except KeyboardInterrupt:\n",
        "#        print(\"\\n프로그램을 종료합니다.\")\n",
        "\n",
        "# 프로그램 실행\n",
        "#handle_user_input()\n",
        "\n",
        "# 수정 코드는 아래와 같음\n",
        "\n",
        "while True:\n",
        "    print(\"\\n[1] 할 일 추가 [2] 할 일 삭제 [3] 목록 표시 [4] 종료\")\n",
        "    choice = input(\"선택: \")  # 사용자 입력 받기\n",
        "\n",
        "    if choice == '1':  # 할 일 추가\n",
        "        task = input(\"추가할 할 일: \")\n",
        "        add_task(task)\n",
        "    elif choice == '2':  # 할 일 삭제\n",
        "        task = input(\"삭제할 할 일: \")\n",
        "        remove_task(task)\n",
        "    elif choice == '3':  # 할 일 목록 표시\n",
        "        display_todo_list()\n",
        "    elif choice == '4':  # 프로그램 종료\n",
        "        print(\"프로그램을 종료합니다.\")\n",
        "        break  # while 루프 종료\n",
        "    else:\n",
        "        print(\"잘못된 선택입니다. 다시 입력하세요.\")\n",
        "\n",
        "#조에서 작성한 코드의 작성 근거 및 수정 방향성들을 정리했습니다. :)"
      ],
      "metadata": {
        "id": "MPlBg_3hU7dA"
      },
      "execution_count": null,
      "outputs": []
    }
  ]
}