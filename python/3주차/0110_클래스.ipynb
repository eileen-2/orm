{
  "nbformat": 4,
  "nbformat_minor": 0,
  "metadata": {
    "colab": {
      "provenance": [],
      "authorship_tag": "ABX9TyNGjVVKUv7WasVBPqRs9l4O",
      "include_colab_link": true
    },
    "kernelspec": {
      "name": "python3",
      "display_name": "Python 3"
    },
    "language_info": {
      "name": "python"
    }
  },
  "cells": [
    {
      "cell_type": "markdown",
      "metadata": {
        "id": "view-in-github",
        "colab_type": "text"
      },
      "source": [
        "<a href=\"https://colab.research.google.com/github/eileen-2/orm/blob/main/0110_%ED%81%B4%EB%9E%98%EC%8A%A4.ipynb\" target=\"_parent\"><img src=\"https://colab.research.google.com/assets/colab-badge.svg\" alt=\"Open In Colab\"/></a>"
      ]
    },
    {
      "cell_type": "markdown",
      "source": [
        "#1. 클래스\n",
        "\n",
        "- 데이터(멤버 또는 애트리뷰트, 변수)와 기능(메서드, 함수)을 가지고 있는 일종의 설계 도면\n",
        "\n",
        "- 클래스 = 붕어빵기계(틀)\n",
        "생산품 = 붕어빵\n",
        "\n",
        "함수와는 다른 점: init!!!\n",
        "- __init__: 초기설정 세팅하는 주문\n",
        "\n"
      ],
      "metadata": {
        "id": "EOtrw1VyVFer"
      }
    },
    {
      "cell_type": "code",
      "source": [
        "class Character:\n",
        "    def __init__(hp, mp, power, drop_rate...(생략)): #초기설\n",
        "        self.hp = hp\n",
        "        self.mp = mp\n",
        "        ...(생략)\n",
        "\n",
        "    def move(self):\n",
        "        ...(생략)\n",
        "\n",
        "    def attack(self):\n",
        "        ...(생략)\n",
        "\n",
        "hero = Character(100, 100, 100, 0, ...(생략))\n",
        "mob1 = Character(30, 30, 30, 0.8, ...(생략))\n",
        "mob2 = Character(50, 50, 50, 0.5, ...(생략))\n",
        "mob3 = Character(70, 70, 70, 0.3, ...(생략))\n",
        "villain = Character(100, 100, 90, 0.1, ...(생략))\n"
      ],
      "metadata": {
        "colab": {
          "base_uri": "https://localhost:8080/",
          "height": 147
        },
        "id": "9Ubjg7DyVSFs",
        "outputId": "1494729b-64ee-46ca-c6ae-f4ff717d3ca8"
      },
      "execution_count": 1,
      "outputs": [
        {
          "output_type": "error",
          "ename": "SyntaxError",
          "evalue": "invalid syntax (<ipython-input-1-3f9d2bc0b167>, line 2)",
          "traceback": [
            "\u001b[0;36m  File \u001b[0;32m\"<ipython-input-1-3f9d2bc0b167>\"\u001b[0;36m, line \u001b[0;32m2\u001b[0m\n\u001b[0;31m    def __init__(hp, mp, power, drop_rate...(생략)): #초기설\u001b[0m\n\u001b[0m                                         ^\u001b[0m\n\u001b[0;31mSyntaxError\u001b[0m\u001b[0;31m:\u001b[0m invalid syntax\n"
          ]
        }
      ]
    },
    {
      "cell_type": "code",
      "source": [
        "# 단순화 시키긴 했으나 실제 아래와 같이 만듭니다.\n",
        "class 게시물설계도:\n",
        "    _id = int()\n",
        "    title = str()\n",
        "    contents = str()\n",
        "    author = str()\n",
        "    create_time = str()\n",
        "    update_time = str()\n",
        "    view_count = int()\n",
        "    last_connect_location = str()\n",
        "    last_connect_time = str()\n",
        "\n",
        "게시물1 = 게시물설계도()\n",
        "게시물2 = 게시물설계도()"
      ],
      "metadata": {
        "id": "OCrLi6s2WxSX"
      },
      "execution_count": 2,
      "outputs": []
    },
    {
      "cell_type": "markdown",
      "source": [
        "# 2. 인스턴스 만들어보기"
      ],
      "metadata": {
        "id": "jeQZzNBqXPuY"
      }
    },
    {
      "cell_type": "code",
      "source": [
        "# 차를 주제로 클래스 작성해보기\n",
        "\n",
        "#고정된 값을 가지는 클래스 - > 함수랑 다른 점이 없는 클래스\n",
        "\n",
        "class Car: #class는 첫문자 대문자\n",
        "    max_speed = 300 #멤버 또는 애트리뷰\n",
        "    max_peole = 5\n",
        "    car_gear = ['P', 'D', 'R', 'N']\n",
        "\n",
        "    def start(self): #메서드\n",
        "        print('차가 출발합니다!')\n",
        "\n",
        "    def stop(self):\n",
        "        print('차가 멈췄습니다!')\n",
        "\n",
        "#공장에서 생산된 자동차 modelx, y ,s: 인스턴스\n",
        "modelx = Car() #인스턴스 = 클래스()\n"
      ],
      "metadata": {
        "id": "MiFobubxYnIl"
      },
      "execution_count": 7,
      "outputs": []
    },
    {
      "cell_type": "code",
      "source": [
        "# 클래스의 장점 -> 클래스 안에 있는 함수의 기능을 가져올 수 있다. 리스트형 -> 인덱싱 사용가능\n",
        "print(modelx.car_gear[1])"
      ],
      "metadata": {
        "colab": {
          "base_uri": "https://localhost:8080/"
        },
        "id": "Qbhxq9jyZwEo",
        "outputId": "c8673e9b-298f-4a5c-89b6-d35adf3d76f7"
      },
      "execution_count": 10,
      "outputs": [
        {
          "output_type": "stream",
          "name": "stdout",
          "text": [
            "D\n"
          ]
        }
      ]
    },
    {
      "cell_type": "code",
      "source": [
        "modely = Car()\n",
        "models = Car()\n",
        "\n",
        "# self는 무시된다. 함수를 가져올 때는 '()'를 꼭 입력한다.\n",
        "#self는 인스턴스 고유의 영역, 인스턴스 자신\n",
        "# 자동으로 인스턴스 자신이 아규먼트로 전달\n",
        "models.start()\n",
        "models.stop()\n",
        "# Car.max_speed # modelx에 속도를 보고 싶으면 modelx.max_speed를 찍어야 합니다.\n",
        "# 초기 설계는 300으로 찍혀 있지만, 고객이 아래와 같이 자동차 튜닝을 했을 수도 있으니까요.\n",
        "models.max_speed = 500\n",
        "print(models.max_speed)\n",
        "print(modely.max_speed)"
      ],
      "metadata": {
        "colab": {
          "base_uri": "https://localhost:8080/"
        },
        "id": "_aAcf0JtZqwb",
        "outputId": "94af4c3b-d490-46fe-90e9-bc6264de41b3"
      },
      "execution_count": 11,
      "outputs": [
        {
          "output_type": "stream",
          "name": "stdout",
          "text": [
            "차가 출발합니다!\n",
            "차가 멈췄습니다!\n",
            "500\n",
            "300\n"
          ]
        }
      ]
    },
    {
      "cell_type": "markdown",
      "source": [
        "# 3. 자료형의 정체"
      ],
      "metadata": {
        "id": "osDVKV4sbeHi"
      }
    },
    {
      "cell_type": "code",
      "source": [
        "l = [1, 2, 3]\n",
        "type(l)\n",
        "dir(l)\n",
        "l.append(4)\n",
        "l # 출력: [1, 2, 3, 4]"
      ],
      "metadata": {
        "colab": {
          "base_uri": "https://localhost:8080/"
        },
        "id": "aeD18Jt1bgcu",
        "outputId": "9115d213-7543-4e4e-fb2d-a737ed80cf80"
      },
      "execution_count": 13,
      "outputs": [
        {
          "output_type": "execute_result",
          "data": {
            "text/plain": [
              "[1, 2, 3, 4]"
            ]
          },
          "metadata": {},
          "execution_count": 13
        }
      ]
    },
    {
      "cell_type": "code",
      "source": [
        "# int라는 class의 인스턴스라는 얘기도 맞는 얘기\n",
        "x = int(3)\n",
        "print(type(x))\n",
        "\n",
        "# 결과 <class 'int'>"
      ],
      "metadata": {
        "colab": {
          "base_uri": "https://localhost:8080/"
        },
        "id": "BFXQYPh0cAhN",
        "outputId": "17b818fd-4629-4889-d967-4401c12b7ecc"
      },
      "execution_count": 26,
      "outputs": [
        {
          "output_type": "stream",
          "name": "stdout",
          "text": [
            "<class 'int'>\n"
          ]
        }
      ]
    },
    {
      "cell_type": "code",
      "source": [
        "# x = int(3) 여기서 넣었던 3이라는 값이 어떻게 처리되는지 확인\n",
        "class Car:\n",
        "    max_speed = 300\n",
        "    max_people = 5\n",
        "    car_gear = ['P', 'D', 'R', 'N']\n",
        "\n",
        "    def __init__(self, name): # 클래스로 인스턴스를 만들 때 호출!\n",
        "   #def __init__(Car, name)\n",
        "        self.name = name\n",
        "        #Car.name = name\n",
        "    #클래스에서 __init__은 붕어빵 틀 중에서 가장 기본 틀!\n",
        "    #self는 인수로 전달받지도 전달하지도 않음 = > Car 클래스 그 자체\n",
        "    #위에 꼭 self를 붙여야 self를 사용해서 self.name처럼 사용 가능(할)\n",
        "\n",
        "\n",
        "    def start(self):\n",
        "        print('차가 출발합니다!')\n",
        "\n",
        "    def stop(self):                     #__init__과 self로 구현된 값은 클래스 할당시 입력자료를 넣음\n",
        "        print('차가 멈췄습니다!')       # 입력 받을 때는 파라미터를 설정해야함(name처럼)\n",
        "                                        # 그러면 modelx처럼 name의 데이터를 불러 올 수 있음.\n",
        "\n",
        "modelx = Car('Tesla Model X') # x = int(3) 여기서 넣었던 3이 __init__ 메직메서드에서 처리!\n",
        "modelx.name"
      ],
      "metadata": {
        "id": "zKozxo5KddsM"
      },
      "execution_count": null,
      "outputs": []
    }
  ]
}