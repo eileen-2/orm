{
  "nbformat": 4,
  "nbformat_minor": 0,
  "metadata": {
    "colab": {
      "provenance": [],
      "authorship_tag": "ABX9TyPeY23HtvE9Wjqsp1It1Cre",
      "include_colab_link": true
    },
    "kernelspec": {
      "name": "python3",
      "display_name": "Python 3"
    },
    "language_info": {
      "name": "python"
    }
  },
  "cells": [
    {
      "cell_type": "markdown",
      "metadata": {
        "id": "view-in-github",
        "colab_type": "text"
      },
      "source": [
        "<a href=\"https://colab.research.google.com/github/eileen-2/orm/blob/main/0109_%ED%94%84%EB%A1%9C%EA%B7%B8%EB%9E%98%EB%B0%8D_%EA%B0%80%EC%9C%84%EB%B0%94%EC%9C%84%EB%B3%B4.ipynb\" target=\"_parent\"><img src=\"https://colab.research.google.com/assets/colab-badge.svg\" alt=\"Open In Colab\"/></a>"
      ]
    },
    {
      "cell_type": "code",
      "execution_count": null,
      "metadata": {
        "id": "yVlTR2mE7jVF"
      },
      "outputs": [],
      "source": [
        "'''\n",
        "- 코드 실행 날짜:20240109\n",
        "- 버전: V0.1\n",
        "- 작성자 : 이은희\n",
        "- 코드내용: 가위바위보게임\n",
        "'''"
      ]
    },
    {
      "cell_type": "code",
      "source": [
        "#Step 1 : 우리가 낼 가위, 바위, 보를 입력 받는다.\n",
        "import random\n",
        "\n",
        "for i in range(10):\n",
        "\n",
        "    computer = random.choice([\"가위\", \"바위\", \"보\"])\n",
        "\n",
        "    guest = str(input(\"가위, 바위, 보!\"))\n",
        "\n",
        "    if guest == computer:\n",
        "        print(\"비겼습니다.\")\n",
        "    elif (guest == \"가위\" and computer == \"보\") or (guest == \"주먹\" and computer == \"가위\") or (guest == \"보\" and computer == \"주먹\"):\n",
        "        print(\"이겼습니다.\")\n",
        "    else:\n",
        "        print(\"졌습니다.\")\n",
        "#Step 2 : 컴퓨터가 낼 가위, 바위, 보를 입력 받는다"
      ],
      "metadata": {
        "colab": {
          "base_uri": "https://localhost:8080/"
        },
        "id": "_9IxhBYq7uP9",
        "outputId": "5ea9dffe-5abc-40e6-b0b5-b6735046b254"
      },
      "execution_count": 7,
      "outputs": [
        {
          "output_type": "stream",
          "name": "stdout",
          "text": [
            "가위, 바위, 보!qh\n",
            "졌습니다.\n",
            "가위, 바위, 보!가위\n",
            "이겼습니다.\n",
            "가위, 바위, 보!보\n",
            "비겼습니다.\n",
            "가위, 바위, 보!바위\n",
            "졌습니다.\n",
            "가위, 바위, 보!주먹\n",
            "졌습니다.\n",
            "가위, 바위, 보!주먹\n",
            "졌습니다.\n",
            "가위, 바위, 보!보\n",
            "졌습니다.\n",
            "가위, 바위, 보!보\n",
            "비겼습니다.\n",
            "가위, 바위, 보!보\n",
            "비겼습니다.\n",
            "가위, 바위, 보!ㅂㅗ\n",
            "졌습니다.\n"
          ]
        }
      ]
    }
  ]
}