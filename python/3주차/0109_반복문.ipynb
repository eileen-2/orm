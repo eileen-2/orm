{
  "nbformat": 4,
  "nbformat_minor": 0,
  "metadata": {
    "colab": {
      "provenance": [],
      "authorship_tag": "ABX9TyPr1zcEdc1fEgVYoliMP10s",
      "include_colab_link": true
    },
    "kernelspec": {
      "name": "python3",
      "display_name": "Python 3"
    },
    "language_info": {
      "name": "python"
    }
  },
  "cells": [
    {
      "cell_type": "markdown",
      "metadata": {
        "id": "view-in-github",
        "colab_type": "text"
      },
      "source": [
        "<a href=\"https://colab.research.google.com/github/eileen-2/orm/blob/main/0109_%EB%B0%98%EB%B3%B5%EB%AC%B8.ipynb\" target=\"_parent\"><img src=\"https://colab.research.google.com/assets/colab-badge.svg\" alt=\"Open In Colab\"/></a>"
      ]
    },
    {
      "cell_type": "code",
      "execution_count": null,
      "metadata": {
        "id": "x3GtHsaqDuP0"
      },
      "outputs": [],
      "source": [
        "'''\n",
        "- 코드 실행 날짜:20240109\n",
        "- 버전: V0.1\n",
        "- 작성자 : 이은희\n",
        "- 코드내용: 함수_반복\n",
        "'''"
      ]
    },
    {
      "cell_type": "markdown",
      "source": [
        "\n",
        "#1. 반복문\n",
        "\n",
        "##1.1 for 문\n",
        "; 특정 범위, 순서열(리스트, 문자열 등) 순회\n",
        "- 순서열의 끝에 도달하면 반복중지\n",
        "- 하나식 추출하며 순회"
      ],
      "metadata": {
        "id": "K_yjdtZgEPuV"
      }
    },
    {
      "cell_type": "code",
      "source": [
        "# 함수\n",
        "def 함수명():\n",
        "    pass"
      ],
      "metadata": {
        "id": "MTYwNKeQEzrB"
      },
      "execution_count": 2,
      "outputs": []
    },
    {
      "cell_type": "code",
      "source": [
        "# 조건문\n",
        "if 조건:\n",
        "    pass"
      ],
      "metadata": {
        "id": "9FI_C0qQE7FZ"
      },
      "execution_count": null,
      "outputs": []
    },
    {
      "cell_type": "code",
      "source": [
        "test = 'hello'"
      ],
      "metadata": {
        "id": "Awe5mA7CFe56"
      },
      "execution_count": 4,
      "outputs": []
    },
    {
      "cell_type": "code",
      "source": [
        "print(test[0])"
      ],
      "metadata": {
        "colab": {
          "base_uri": "https://localhost:8080/"
        },
        "id": "VuEBFm9XFl7C",
        "outputId": "12947692-1f09-4f1f-abc8-eb48beb39f50"
      },
      "execution_count": 6,
      "outputs": [
        {
          "output_type": "stream",
          "name": "stdout",
          "text": [
            "h\n"
          ]
        }
      ]
    },
    {
      "cell_type": "code",
      "source": [
        "print(test[0:2])"
      ],
      "metadata": {
        "colab": {
          "base_uri": "https://localhost:8080/"
        },
        "id": "E9fFlu_cFoEB",
        "outputId": "0cdf8064-8dcf-4eff-bcbc-9ca263de6f3d"
      },
      "execution_count": 9,
      "outputs": [
        {
          "output_type": "stream",
          "name": "stdout",
          "text": [
            "he\n"
          ]
        }
      ]
    },
    {
      "cell_type": "code",
      "source": [
        "# 1. 반복문의 기본구조\n",
        "\n",
        "for 변수명 in 순회_가능한_객체 :\n",
        "    pass # 수행할_문장"
      ],
      "metadata": {
        "colab": {
          "base_uri": "https://localhost:8080/",
          "height": 239
        },
        "id": "GI-hvZd5EVWd",
        "outputId": "afae81bc-9a44-4312-b64c-59be95e1e43f"
      },
      "execution_count": 10,
      "outputs": [
        {
          "output_type": "error",
          "ename": "NameError",
          "evalue": "name '순회_가능한_객체' is not defined",
          "traceback": [
            "\u001b[0;31m---------------------------------------------------------------------------\u001b[0m",
            "\u001b[0;31mNameError\u001b[0m                                 Traceback (most recent call last)",
            "\u001b[0;32m<ipython-input-10-30d7e3856981>\u001b[0m in \u001b[0;36m<cell line: 3>\u001b[0;34m()\u001b[0m\n\u001b[1;32m      1\u001b[0m \u001b[0;31m# 1. 반복문의 기본구조\u001b[0m\u001b[0;34m\u001b[0m\u001b[0;34m\u001b[0m\u001b[0m\n\u001b[1;32m      2\u001b[0m \u001b[0;34m\u001b[0m\u001b[0m\n\u001b[0;32m----> 3\u001b[0;31m \u001b[0;32mfor\u001b[0m \u001b[0m변수명\u001b[0m \u001b[0;32min\u001b[0m \u001b[0m순회_가능한_객체\u001b[0m \u001b[0;34m:\u001b[0m\u001b[0;34m\u001b[0m\u001b[0;34m\u001b[0m\u001b[0m\n\u001b[0m\u001b[1;32m      4\u001b[0m     \u001b[0;32mpass\u001b[0m \u001b[0;31m# 수행할_문장\u001b[0m\u001b[0;34m\u001b[0m\u001b[0;34m\u001b[0m\u001b[0m\n",
            "\u001b[0;31mNameError\u001b[0m: name '순회_가능한_객체' is not defined"
          ]
        }
      ]
    },
    {
      "cell_type": "code",
      "source": [
        "# 반복문 기초 - 문자열\n",
        "#1. 'hello'를 순서대로 하나씩 단어를 꺼내서\n",
        "#2. x에 하나씩 넣은 다음에\n",
        "#3. 하나씩 for문 아래 코드블럭을 수행한다.\n",
        "#4. 그리고 순서가 마쳐지면 -> 다음 시퀀스(순서)로 넘어가서 똑같은 작업을 수행한다.\n",
        "\n",
        "for x in 'hello': # 순회 가능한 객체(문자열 / 리스트 / 다른 데이터셋 / range(10) / 기타 등등)\n",
        "    print(f'현재 값은 {x} 입니다.')"
      ],
      "metadata": {
        "colab": {
          "base_uri": "https://localhost:8080/"
        },
        "id": "ynYxpLSiFwX-",
        "outputId": "e3a5c973-6a34-4317-bb48-f94cec476b50"
      },
      "execution_count": 12,
      "outputs": [
        {
          "output_type": "stream",
          "name": "stdout",
          "text": [
            "현재 값은 h 입니다.\n",
            "현재 값은 e 입니다.\n",
            "현재 값은 l 입니다.\n",
            "현재 값은 l 입니다.\n",
            "현재 값은 o 입니다.\n"
          ]
        }
      ]
    },
    {
      "cell_type": "code",
      "source": [
        "for x in (1, 2, 3, 4, 5):\n",
        "    print(f'현재 값은 {x} 입니다.')"
      ],
      "metadata": {
        "colab": {
          "base_uri": "https://localhost:8080/"
        },
        "id": "Kgm8-yREGlJC",
        "outputId": "2dd7b25c-22c3-4757-e5c9-cf30448205fe"
      },
      "execution_count": 14,
      "outputs": [
        {
          "output_type": "stream",
          "name": "stdout",
          "text": [
            "현재 값은 1 입니다.\n",
            "현재 값은 2 입니다.\n",
            "현재 값은 3 입니다.\n",
            "현재 값은 4 입니다.\n",
            "현재 값은 5 입니다.\n"
          ]
        }
      ]
    },
    {
      "cell_type": "code",
      "source": [
        "for x in ([1, 2, 3, 4, 5]):\n",
        "    print(f'현재 값은 {x} 입니다.')"
      ],
      "metadata": {
        "colab": {
          "base_uri": "https://localhost:8080/"
        },
        "id": "cgCyj-4ZGthL",
        "outputId": "84bdfe34-9f47-4ba7-b2b0-b9b2b3cd3c3c"
      },
      "execution_count": 16,
      "outputs": [
        {
          "output_type": "stream",
          "name": "stdout",
          "text": [
            "현재 값은 1 입니다.\n",
            "현재 값은 2 입니다.\n",
            "현재 값은 3 입니다.\n",
            "현재 값은 4 입니다.\n",
            "현재 값은 5 입니다.\n"
          ]
        }
      ]
    },
    {
      "cell_type": "code",
      "source": [
        "for x in range(1,100,3):\n",
        "    print(f'현재 값은 {x} 입니다.')"
      ],
      "metadata": {
        "colab": {
          "base_uri": "https://localhost:8080/"
        },
        "id": "oXSDwX0qGwNr",
        "outputId": "d456e26c-f8a6-4e02-b208-b0933d5fefad"
      },
      "execution_count": 17,
      "outputs": [
        {
          "output_type": "stream",
          "name": "stdout",
          "text": [
            "현재 값은 1 입니다.\n",
            "현재 값은 4 입니다.\n",
            "현재 값은 7 입니다.\n",
            "현재 값은 10 입니다.\n",
            "현재 값은 13 입니다.\n",
            "현재 값은 16 입니다.\n",
            "현재 값은 19 입니다.\n",
            "현재 값은 22 입니다.\n",
            "현재 값은 25 입니다.\n",
            "현재 값은 28 입니다.\n",
            "현재 값은 31 입니다.\n",
            "현재 값은 34 입니다.\n",
            "현재 값은 37 입니다.\n",
            "현재 값은 40 입니다.\n",
            "현재 값은 43 입니다.\n",
            "현재 값은 46 입니다.\n",
            "현재 값은 49 입니다.\n",
            "현재 값은 52 입니다.\n",
            "현재 값은 55 입니다.\n",
            "현재 값은 58 입니다.\n",
            "현재 값은 61 입니다.\n",
            "현재 값은 64 입니다.\n",
            "현재 값은 67 입니다.\n",
            "현재 값은 70 입니다.\n",
            "현재 값은 73 입니다.\n",
            "현재 값은 76 입니다.\n",
            "현재 값은 79 입니다.\n",
            "현재 값은 82 입니다.\n",
            "현재 값은 85 입니다.\n",
            "현재 값은 88 입니다.\n",
            "현재 값은 91 입니다.\n",
            "현재 값은 94 입니다.\n",
            "현재 값은 97 입니다.\n"
          ]
        }
      ]
    },
    {
      "cell_type": "code",
      "source": [
        "len(range(1,100,3)) #for문의 길이"
      ],
      "metadata": {
        "colab": {
          "base_uri": "https://localhost:8080/"
        },
        "id": "6Lcli4eYHK4B",
        "outputId": "74fc9836-ef32-4866-bd9e-20d98735733b"
      },
      "execution_count": 19,
      "outputs": [
        {
          "output_type": "execute_result",
          "data": {
            "text/plain": [
              "33"
            ]
          },
          "metadata": {},
          "execution_count": 19
        }
      ]
    },
    {
      "cell_type": "code",
      "source": [
        "# 문자열 자료형을 범위로 가져 왔을때\n",
        "# 공백도 하나의 자료이다.\n",
        "s = 'hello world'\n",
        "for i in s:\n",
        "    print(i)"
      ],
      "metadata": {
        "colab": {
          "base_uri": "https://localhost:8080/"
        },
        "id": "jKK4IFTqHPHA",
        "outputId": "55b0f21d-9078-4b39-fd8f-459109acba08"
      },
      "execution_count": 21,
      "outputs": [
        {
          "output_type": "stream",
          "name": "stdout",
          "text": [
            "h\n",
            "e\n",
            "l\n",
            "l\n",
            "o\n",
            " \n",
            "w\n",
            "o\n",
            "r\n",
            "l\n",
            "d\n"
          ]
        }
      ]
    },
    {
      "cell_type": "code",
      "source": [
        "s = '123'\n",
        "result = 0\n",
        "for i in s:\n",
        "    result += int(i)"
      ],
      "metadata": {
        "id": "FH4CYmkGHfZI"
      },
      "execution_count": 24,
      "outputs": []
    },
    {
      "cell_type": "code",
      "source": [
        "s = '123'\n",
        "result = 0\n",
        "for i in '123':\n",
        "    result += int(i)"
      ],
      "metadata": {
        "id": "OV1O9QXqHuFf"
      },
      "execution_count": 27,
      "outputs": []
    },
    {
      "cell_type": "code",
      "source": [
        "print(result)"
      ],
      "metadata": {
        "colab": {
          "base_uri": "https://localhost:8080/"
        },
        "id": "OIEiYQRDHimD",
        "outputId": "ee647414-cf86-4ca7-f356-bfda54715eed"
      },
      "execution_count": 25,
      "outputs": [
        {
          "output_type": "stream",
          "name": "stdout",
          "text": [
            "6\n"
          ]
        }
      ]
    },
    {
      "cell_type": "code",
      "source": [
        "#딕셔너리 자료형\n",
        "\n",
        "단어_사전 = {\n",
        "    '하나' : 'one',\n",
        "    '둘' : 'two',\n",
        "    '셋' : 'three'\n",
        "}\n",
        "\n",
        "for i in 단어_사전:\n",
        "    print(i)"
      ],
      "metadata": {
        "colab": {
          "base_uri": "https://localhost:8080/"
        },
        "id": "pcjjKZmpH0T_",
        "outputId": "fe183d3f-ba51-4732-d639-962ed79d761e"
      },
      "execution_count": 30,
      "outputs": [
        {
          "output_type": "stream",
          "name": "stdout",
          "text": [
            "하나\n",
            "둘\n",
            "셋\n"
          ]
        }
      ]
    },
    {
      "cell_type": "code",
      "source": [
        "for key, value in 단어_사전.items():\n",
        "    print(f'{key} : {value}')"
      ],
      "metadata": {
        "colab": {
          "base_uri": "https://localhost:8080/"
        },
        "id": "t5xrzkwrIJC6",
        "outputId": "b28faaa4-818d-48fc-f706-89ca6e90b062"
      },
      "execution_count": 32,
      "outputs": [
        {
          "output_type": "stream",
          "name": "stdout",
          "text": [
            "하나 : one\n",
            "둘 : two\n",
            "셋 : three\n"
          ]
        }
      ]
    },
    {
      "cell_type": "code",
      "source": [
        "# 1.5. range를 범위로 지정한 예시\n",
        "\n",
        "for i in range(5):\n",
        "    print(i)"
      ],
      "metadata": {
        "colab": {
          "base_uri": "https://localhost:8080/"
        },
        "id": "4w0xPOLJLorb",
        "outputId": "76524f8f-c820-4a51-dc77-7c2e19af3566"
      },
      "execution_count": 33,
      "outputs": [
        {
          "output_type": "stream",
          "name": "stdout",
          "text": [
            "0\n",
            "1\n",
            "2\n",
            "3\n",
            "4\n"
          ]
        }
      ]
    },
    {
      "cell_type": "code",
      "source": [
        "result = 0\n",
        "for i in range(0, 11, 2):\n",
        "    result += i\n",
        "result # 결과: 30"
      ],
      "metadata": {
        "colab": {
          "base_uri": "https://localhost:8080/"
        },
        "id": "3d1f0cuNLtzj",
        "outputId": "b6eb1030-11bd-45bb-98ec-abe16b177434"
      },
      "execution_count": 35,
      "outputs": [
        {
          "output_type": "execute_result",
          "data": {
            "text/plain": [
              "30"
            ]
          },
          "metadata": {},
          "execution_count": 35
        }
      ]
    },
    {
      "cell_type": "code",
      "source": [
        "#0부터 100까지 더하기\n",
        "result = 0\n",
        "for i in range(101):\n",
        "    result += i\n",
        "result"
      ],
      "metadata": {
        "colab": {
          "base_uri": "https://localhost:8080/"
        },
        "id": "itROoaQ8Lv4F",
        "outputId": "6c5be1cf-1bf7-49ab-d6aa-d3f0f494100f"
      },
      "execution_count": 37,
      "outputs": [
        {
          "output_type": "execute_result",
          "data": {
            "text/plain": [
              "5050"
            ]
          },
          "metadata": {},
          "execution_count": 37
        }
      ]
    },
    {
      "cell_type": "code",
      "source": [
        "n = 100\n",
        "result = (n + 1) * n / 2\n",
        "int(result)"
      ],
      "metadata": {
        "colab": {
          "base_uri": "https://localhost:8080/"
        },
        "id": "WQedPV-zL4LY",
        "outputId": "42774771-662f-45f9-9210-cded66152077"
      },
      "execution_count": 40,
      "outputs": [
        {
          "output_type": "execute_result",
          "data": {
            "text/plain": [
              "5050"
            ]
          },
          "metadata": {},
          "execution_count": 40
        }
      ]
    },
    {
      "cell_type": "code",
      "source": [
        "# 0부터 100까지 짝수만 더하기\n",
        "# 리스트라면 비어있는리스트라도 만들어야한다. result = []\n",
        "# 비어있는 자료형도 자료형이다\n",
        "# None도 자료형이다.\n",
        "result = 0\n",
        "for i in range(101): #0~100까지 시퀀스 자료형 불러오기.\n",
        "    if i % 2 == 0: # 0~100까지 숫자 중 2로 나눠서 나머지가 0인 변수라면\n",
        "        result += i # result에 가져와서 누적해서 더한다.\n",
        "        print(i)\n",
        "print(result) #출력한다."
      ],
      "metadata": {
        "colab": {
          "base_uri": "https://localhost:8080/"
        },
        "id": "HQBsnpc9MD2F",
        "outputId": "6b03a811-4705-43a4-8dba-deebbdbd975a"
      },
      "execution_count": 51,
      "outputs": [
        {
          "output_type": "stream",
          "name": "stdout",
          "text": [
            "0\n",
            "2\n",
            "4\n",
            "6\n",
            "8\n",
            "10\n",
            "12\n",
            "14\n",
            "16\n",
            "18\n",
            "20\n",
            "22\n",
            "24\n",
            "26\n",
            "28\n",
            "30\n",
            "32\n",
            "34\n",
            "36\n",
            "38\n",
            "40\n",
            "42\n",
            "44\n",
            "46\n",
            "48\n",
            "50\n",
            "52\n",
            "54\n",
            "56\n",
            "58\n",
            "60\n",
            "62\n",
            "64\n",
            "66\n",
            "68\n",
            "70\n",
            "72\n",
            "74\n",
            "76\n",
            "78\n",
            "80\n",
            "82\n",
            "84\n",
            "86\n",
            "88\n",
            "90\n",
            "92\n",
            "94\n",
            "96\n",
            "98\n",
            "100\n",
            "2550\n"
          ]
        }
      ]
    },
    {
      "cell_type": "code",
      "source": [
        "# 0부터 100까지 홀수만 더하기\n",
        "\n",
        "result = 0\n",
        "for i in range(101): #0~100까지 시퀀스 자료형 불러오기.\n",
        "    if i % 2 == 1: # 0~100까지 숫자 중 2로 나눠서 나머지가 0인 변수라면\n",
        "        result += i # result에 가져와서 누적해서 더한다.\n",
        "        print(i)\n",
        "print(result) #출력한다"
      ],
      "metadata": {
        "colab": {
          "base_uri": "https://localhost:8080/"
        },
        "id": "9SkRcB2VNAU_",
        "outputId": "105fa330-ae1c-4e46-90aa-c9456b80af9f"
      },
      "execution_count": 52,
      "outputs": [
        {
          "output_type": "stream",
          "name": "stdout",
          "text": [
            "1\n",
            "3\n",
            "5\n",
            "7\n",
            "9\n",
            "11\n",
            "13\n",
            "15\n",
            "17\n",
            "19\n",
            "21\n",
            "23\n",
            "25\n",
            "27\n",
            "29\n",
            "31\n",
            "33\n",
            "35\n",
            "37\n",
            "39\n",
            "41\n",
            "43\n",
            "45\n",
            "47\n",
            "49\n",
            "51\n",
            "53\n",
            "55\n",
            "57\n",
            "59\n",
            "61\n",
            "63\n",
            "65\n",
            "67\n",
            "69\n",
            "71\n",
            "73\n",
            "75\n",
            "77\n",
            "79\n",
            "81\n",
            "83\n",
            "85\n",
            "87\n",
            "89\n",
            "91\n",
            "93\n",
            "95\n",
            "97\n",
            "99\n",
            "2500\n"
          ]
        }
      ]
    },
    {
      "cell_type": "code",
      "source": [
        "#0~100까지 짝수가져와서 더하기\n",
        "result = 0\n",
        "for i in range(0, 101, 2):\n",
        "    result += i\n",
        "result"
      ],
      "metadata": {
        "colab": {
          "base_uri": "https://localhost:8080/"
        },
        "id": "78q_Bkl6MOIf",
        "outputId": "49ad0a01-8ba8-4044-f5d7-617fdefbff0b"
      },
      "execution_count": 53,
      "outputs": [
        {
          "output_type": "execute_result",
          "data": {
            "text/plain": [
              "2550"
            ]
          },
          "metadata": {},
          "execution_count": 53
        }
      ]
    },
    {
      "cell_type": "markdown",
      "source": [
        "#1.2 중첩 for 문"
      ],
      "metadata": {
        "id": "-s0vYs-CNnxQ"
      }
    },
    {
      "cell_type": "code",
      "source": [
        "[\n",
        "    [1, 2],\n",
        "     [10, 20],\n",
        "      [100, 200]\n",
        "]"
      ],
      "metadata": {
        "id": "y4hzgxh9N2FU"
      },
      "execution_count": null,
      "outputs": []
    },
    {
      "cell_type": "code",
      "source": [
        "# 리스트 안에 있는 또다른 값을 출력하기 위해서\n",
        "#  첫번째 반복에서 내부 리스트를 출력하고 두번째 반복에서 출력한 내부리스트의 요소를 출력합니다\n",
        "for i in [[1, 2], [10, 20], [100, 200]]: #[[1, 2], [10, 20], [100, 200]]를  순서대로 i에 불러오기\n",
        "    for j in i: # i에 들어온 값을 j에 불러오기\n",
        "        print(j) #j에 반환된 값을 출력하기\n"
      ],
      "metadata": {
        "colab": {
          "base_uri": "https://localhost:8080/"
        },
        "id": "Mw6gT1LWNpbY",
        "outputId": "1de25418-5d13-4c8d-d223-cb0514304c1a"
      },
      "execution_count": 67,
      "outputs": [
        {
          "output_type": "stream",
          "name": "stdout",
          "text": [
            "1\n",
            "2\n",
            "10\n",
            "20\n",
            "100\n",
            "200\n"
          ]
        }
      ]
    },
    {
      "cell_type": "code",
      "source": [
        "#1. 방금처럼 구조를 정한다.\n",
        "#2. 최소한의 반복문만 수행해본다.\n",
        "#3. 각 반복문을 print()해본다."
      ],
      "metadata": {
        "id": "UBuRbNvaPTLn"
      },
      "execution_count": 68,
      "outputs": []
    },
    {
      "cell_type": "code",
      "source": [
        "#구구단\n",
        "for i in range(2, 10): #2~9까지를 순서대로 i에 불러오기\n",
        "    print(f'---{i}단---') #i에 2~9까지 차례대로 대입되어 'i'단으로 출력\n",
        "    for j in range(1, 10): #1~9까지 순서대로 j에 불러오기\n",
        "        print(f'{i} X {j} = {i * j}') # 불러온 i와 j를 곱하여 나온 값을 반환하여 출력"
      ],
      "metadata": {
        "colab": {
          "base_uri": "https://localhost:8080/"
        },
        "id": "oBV2fDpFQxW2",
        "outputId": "76067096-5f07-427e-b15e-afeb2db2181b"
      },
      "execution_count": 71,
      "outputs": [
        {
          "output_type": "stream",
          "name": "stdout",
          "text": [
            "---2단---\n",
            "2 X 1 = 2\n",
            "2 X 2 = 4\n",
            "2 X 3 = 6\n",
            "2 X 4 = 8\n",
            "2 X 5 = 10\n",
            "2 X 6 = 12\n",
            "2 X 7 = 14\n",
            "2 X 8 = 16\n",
            "2 X 9 = 18\n",
            "---3단---\n",
            "3 X 1 = 3\n",
            "3 X 2 = 6\n",
            "3 X 3 = 9\n",
            "3 X 4 = 12\n",
            "3 X 5 = 15\n",
            "3 X 6 = 18\n",
            "3 X 7 = 21\n",
            "3 X 8 = 24\n",
            "3 X 9 = 27\n",
            "---4단---\n",
            "4 X 1 = 4\n",
            "4 X 2 = 8\n",
            "4 X 3 = 12\n",
            "4 X 4 = 16\n",
            "4 X 5 = 20\n",
            "4 X 6 = 24\n",
            "4 X 7 = 28\n",
            "4 X 8 = 32\n",
            "4 X 9 = 36\n",
            "---5단---\n",
            "5 X 1 = 5\n",
            "5 X 2 = 10\n",
            "5 X 3 = 15\n",
            "5 X 4 = 20\n",
            "5 X 5 = 25\n",
            "5 X 6 = 30\n",
            "5 X 7 = 35\n",
            "5 X 8 = 40\n",
            "5 X 9 = 45\n",
            "---6단---\n",
            "6 X 1 = 6\n",
            "6 X 2 = 12\n",
            "6 X 3 = 18\n",
            "6 X 4 = 24\n",
            "6 X 5 = 30\n",
            "6 X 6 = 36\n",
            "6 X 7 = 42\n",
            "6 X 8 = 48\n",
            "6 X 9 = 54\n",
            "---7단---\n",
            "7 X 1 = 7\n",
            "7 X 2 = 14\n",
            "7 X 3 = 21\n",
            "7 X 4 = 28\n",
            "7 X 5 = 35\n",
            "7 X 6 = 42\n",
            "7 X 7 = 49\n",
            "7 X 8 = 56\n",
            "7 X 9 = 63\n",
            "---8단---\n",
            "8 X 1 = 8\n",
            "8 X 2 = 16\n",
            "8 X 3 = 24\n",
            "8 X 4 = 32\n",
            "8 X 5 = 40\n",
            "8 X 6 = 48\n",
            "8 X 7 = 56\n",
            "8 X 8 = 64\n",
            "8 X 9 = 72\n",
            "---9단---\n",
            "9 X 1 = 9\n",
            "9 X 2 = 18\n",
            "9 X 3 = 27\n",
            "9 X 4 = 36\n",
            "9 X 5 = 45\n",
            "9 X 6 = 54\n",
            "9 X 7 = 63\n",
            "9 X 8 = 72\n",
            "9 X 9 = 81\n"
          ]
        }
      ]
    },
    {
      "cell_type": "code",
      "source": [
        "#19단 구구단\n",
        "for i in range(2, 20): #2~9까지를 순서대로 i에 불러오기\n",
        "    print(i)\n",
        "    print(f'---{i}단---') #i에 2~9까지 차례대로 대입되어 'i'단으로 출력\n",
        "\n",
        "    for j in range(1, 10): #1~9까지 순서대로 j에 불러오기\n",
        "        print(j)\n",
        "        print(f'{i} X {j} = {i * j}') # 불러온 i와 j를 곱하여 나온 값을 반환하여 출력"
      ],
      "metadata": {
        "colab": {
          "base_uri": "https://localhost:8080/"
        },
        "id": "Gl8BIYJGRgOt",
        "outputId": "adf986cd-bbda-4451-894a-8b78a7b28114"
      },
      "execution_count": 74,
      "outputs": [
        {
          "output_type": "stream",
          "name": "stdout",
          "text": [
            "2\n",
            "---2단---\n",
            "1\n",
            "2 X 1 = 2\n",
            "2\n",
            "2 X 2 = 4\n",
            "3\n",
            "2 X 3 = 6\n",
            "4\n",
            "2 X 4 = 8\n",
            "5\n",
            "2 X 5 = 10\n",
            "6\n",
            "2 X 6 = 12\n",
            "7\n",
            "2 X 7 = 14\n",
            "8\n",
            "2 X 8 = 16\n",
            "9\n",
            "2 X 9 = 18\n",
            "3\n",
            "---3단---\n",
            "1\n",
            "3 X 1 = 3\n",
            "2\n",
            "3 X 2 = 6\n",
            "3\n",
            "3 X 3 = 9\n",
            "4\n",
            "3 X 4 = 12\n",
            "5\n",
            "3 X 5 = 15\n",
            "6\n",
            "3 X 6 = 18\n",
            "7\n",
            "3 X 7 = 21\n",
            "8\n",
            "3 X 8 = 24\n",
            "9\n",
            "3 X 9 = 27\n",
            "4\n",
            "---4단---\n",
            "1\n",
            "4 X 1 = 4\n",
            "2\n",
            "4 X 2 = 8\n",
            "3\n",
            "4 X 3 = 12\n",
            "4\n",
            "4 X 4 = 16\n",
            "5\n",
            "4 X 5 = 20\n",
            "6\n",
            "4 X 6 = 24\n",
            "7\n",
            "4 X 7 = 28\n",
            "8\n",
            "4 X 8 = 32\n",
            "9\n",
            "4 X 9 = 36\n",
            "5\n",
            "---5단---\n",
            "1\n",
            "5 X 1 = 5\n",
            "2\n",
            "5 X 2 = 10\n",
            "3\n",
            "5 X 3 = 15\n",
            "4\n",
            "5 X 4 = 20\n",
            "5\n",
            "5 X 5 = 25\n",
            "6\n",
            "5 X 6 = 30\n",
            "7\n",
            "5 X 7 = 35\n",
            "8\n",
            "5 X 8 = 40\n",
            "9\n",
            "5 X 9 = 45\n",
            "6\n",
            "---6단---\n",
            "1\n",
            "6 X 1 = 6\n",
            "2\n",
            "6 X 2 = 12\n",
            "3\n",
            "6 X 3 = 18\n",
            "4\n",
            "6 X 4 = 24\n",
            "5\n",
            "6 X 5 = 30\n",
            "6\n",
            "6 X 6 = 36\n",
            "7\n",
            "6 X 7 = 42\n",
            "8\n",
            "6 X 8 = 48\n",
            "9\n",
            "6 X 9 = 54\n",
            "7\n",
            "---7단---\n",
            "1\n",
            "7 X 1 = 7\n",
            "2\n",
            "7 X 2 = 14\n",
            "3\n",
            "7 X 3 = 21\n",
            "4\n",
            "7 X 4 = 28\n",
            "5\n",
            "7 X 5 = 35\n",
            "6\n",
            "7 X 6 = 42\n",
            "7\n",
            "7 X 7 = 49\n",
            "8\n",
            "7 X 8 = 56\n",
            "9\n",
            "7 X 9 = 63\n",
            "8\n",
            "---8단---\n",
            "1\n",
            "8 X 1 = 8\n",
            "2\n",
            "8 X 2 = 16\n",
            "3\n",
            "8 X 3 = 24\n",
            "4\n",
            "8 X 4 = 32\n",
            "5\n",
            "8 X 5 = 40\n",
            "6\n",
            "8 X 6 = 48\n",
            "7\n",
            "8 X 7 = 56\n",
            "8\n",
            "8 X 8 = 64\n",
            "9\n",
            "8 X 9 = 72\n",
            "9\n",
            "---9단---\n",
            "1\n",
            "9 X 1 = 9\n",
            "2\n",
            "9 X 2 = 18\n",
            "3\n",
            "9 X 3 = 27\n",
            "4\n",
            "9 X 4 = 36\n",
            "5\n",
            "9 X 5 = 45\n",
            "6\n",
            "9 X 6 = 54\n",
            "7\n",
            "9 X 7 = 63\n",
            "8\n",
            "9 X 8 = 72\n",
            "9\n",
            "9 X 9 = 81\n",
            "10\n",
            "---10단---\n",
            "1\n",
            "10 X 1 = 10\n",
            "2\n",
            "10 X 2 = 20\n",
            "3\n",
            "10 X 3 = 30\n",
            "4\n",
            "10 X 4 = 40\n",
            "5\n",
            "10 X 5 = 50\n",
            "6\n",
            "10 X 6 = 60\n",
            "7\n",
            "10 X 7 = 70\n",
            "8\n",
            "10 X 8 = 80\n",
            "9\n",
            "10 X 9 = 90\n",
            "11\n",
            "---11단---\n",
            "1\n",
            "11 X 1 = 11\n",
            "2\n",
            "11 X 2 = 22\n",
            "3\n",
            "11 X 3 = 33\n",
            "4\n",
            "11 X 4 = 44\n",
            "5\n",
            "11 X 5 = 55\n",
            "6\n",
            "11 X 6 = 66\n",
            "7\n",
            "11 X 7 = 77\n",
            "8\n",
            "11 X 8 = 88\n",
            "9\n",
            "11 X 9 = 99\n",
            "12\n",
            "---12단---\n",
            "1\n",
            "12 X 1 = 12\n",
            "2\n",
            "12 X 2 = 24\n",
            "3\n",
            "12 X 3 = 36\n",
            "4\n",
            "12 X 4 = 48\n",
            "5\n",
            "12 X 5 = 60\n",
            "6\n",
            "12 X 6 = 72\n",
            "7\n",
            "12 X 7 = 84\n",
            "8\n",
            "12 X 8 = 96\n",
            "9\n",
            "12 X 9 = 108\n",
            "13\n",
            "---13단---\n",
            "1\n",
            "13 X 1 = 13\n",
            "2\n",
            "13 X 2 = 26\n",
            "3\n",
            "13 X 3 = 39\n",
            "4\n",
            "13 X 4 = 52\n",
            "5\n",
            "13 X 5 = 65\n",
            "6\n",
            "13 X 6 = 78\n",
            "7\n",
            "13 X 7 = 91\n",
            "8\n",
            "13 X 8 = 104\n",
            "9\n",
            "13 X 9 = 117\n",
            "14\n",
            "---14단---\n",
            "1\n",
            "14 X 1 = 14\n",
            "2\n",
            "14 X 2 = 28\n",
            "3\n",
            "14 X 3 = 42\n",
            "4\n",
            "14 X 4 = 56\n",
            "5\n",
            "14 X 5 = 70\n",
            "6\n",
            "14 X 6 = 84\n",
            "7\n",
            "14 X 7 = 98\n",
            "8\n",
            "14 X 8 = 112\n",
            "9\n",
            "14 X 9 = 126\n",
            "15\n",
            "---15단---\n",
            "1\n",
            "15 X 1 = 15\n",
            "2\n",
            "15 X 2 = 30\n",
            "3\n",
            "15 X 3 = 45\n",
            "4\n",
            "15 X 4 = 60\n",
            "5\n",
            "15 X 5 = 75\n",
            "6\n",
            "15 X 6 = 90\n",
            "7\n",
            "15 X 7 = 105\n",
            "8\n",
            "15 X 8 = 120\n",
            "9\n",
            "15 X 9 = 135\n",
            "16\n",
            "---16단---\n",
            "1\n",
            "16 X 1 = 16\n",
            "2\n",
            "16 X 2 = 32\n",
            "3\n",
            "16 X 3 = 48\n",
            "4\n",
            "16 X 4 = 64\n",
            "5\n",
            "16 X 5 = 80\n",
            "6\n",
            "16 X 6 = 96\n",
            "7\n",
            "16 X 7 = 112\n",
            "8\n",
            "16 X 8 = 128\n",
            "9\n",
            "16 X 9 = 144\n",
            "17\n",
            "---17단---\n",
            "1\n",
            "17 X 1 = 17\n",
            "2\n",
            "17 X 2 = 34\n",
            "3\n",
            "17 X 3 = 51\n",
            "4\n",
            "17 X 4 = 68\n",
            "5\n",
            "17 X 5 = 85\n",
            "6\n",
            "17 X 6 = 102\n",
            "7\n",
            "17 X 7 = 119\n",
            "8\n",
            "17 X 8 = 136\n",
            "9\n",
            "17 X 9 = 153\n",
            "18\n",
            "---18단---\n",
            "1\n",
            "18 X 1 = 18\n",
            "2\n",
            "18 X 2 = 36\n",
            "3\n",
            "18 X 3 = 54\n",
            "4\n",
            "18 X 4 = 72\n",
            "5\n",
            "18 X 5 = 90\n",
            "6\n",
            "18 X 6 = 108\n",
            "7\n",
            "18 X 7 = 126\n",
            "8\n",
            "18 X 8 = 144\n",
            "9\n",
            "18 X 9 = 162\n",
            "19\n",
            "---19단---\n",
            "1\n",
            "19 X 1 = 19\n",
            "2\n",
            "19 X 2 = 38\n",
            "3\n",
            "19 X 3 = 57\n",
            "4\n",
            "19 X 4 = 76\n",
            "5\n",
            "19 X 5 = 95\n",
            "6\n",
            "19 X 6 = 114\n",
            "7\n",
            "19 X 7 = 133\n",
            "8\n",
            "19 X 8 = 152\n",
            "9\n",
            "19 X 9 = 171\n"
          ]
        }
      ]
    },
    {
      "cell_type": "markdown",
      "source": [
        "# 3. 컴프리헨션(comprehension)\n",
        "; 간결하게 리스트 생성\n"
      ],
      "metadata": {
        "id": "u_kHEc81R4x5"
      }
    },
    {
      "cell_type": "code",
      "source": [
        "#기존 반복문\n",
        "x = []\n",
        "\n",
        "for i in range(1, 10): #1~9까지\n",
        "    x.append(i) #append(리스트에 값 추가)\n",
        "\n",
        "print(x) # 결과 출력"
      ],
      "metadata": {
        "colab": {
          "base_uri": "https://localhost:8080/"
        },
        "id": "EUFIFZQ8SJuj",
        "outputId": "c6f84aef-03f2-4cfe-9a35-7879925d1dbb"
      },
      "execution_count": 77,
      "outputs": [
        {
          "output_type": "stream",
          "name": "stdout",
          "text": [
            "[1, 2, 3, 4, 5, 6, 7, 8, 9]\n"
          ]
        }
      ]
    },
    {
      "cell_type": "code",
      "source": [
        "# step 1, list안에 for문을 가져온다.\n",
        "[for i in range(1, 10)] #for문으로 시작하는 조건을 가져오고 리스트로 묶는다.\n",
        "\n",
        "# step 2, append 항목을 앞으로 가져옵니다. - i 자동으로 append\n",
        "a = [i for i in range(1,10)] # 1~9까지 i에 순서대로 불러와서 a에 저장\n",
        "b = [i*2 for i in range(1,10)] #1~9까지 i에 순서대로 불러와서 i*2실행하여 b에 저장\n",
        "print(a,b)"
      ],
      "metadata": {
        "colab": {
          "base_uri": "https://localhost:8080/",
          "height": 147
        },
        "id": "8uwn9WtJSq_m",
        "outputId": "c5902b6c-8198-4200-c475-fe698a25d5ca"
      },
      "execution_count": 80,
      "outputs": [
        {
          "output_type": "error",
          "ename": "SyntaxError",
          "evalue": "invalid syntax (<ipython-input-80-6df5dd4bd898>, line 2)",
          "traceback": [
            "\u001b[0;36m  File \u001b[0;32m\"<ipython-input-80-6df5dd4bd898>\"\u001b[0;36m, line \u001b[0;32m2\u001b[0m\n\u001b[0;31m    [for i in range(1, 10)] #for문으로 시작하는 조건을 가져오고 리스트로 묶는다.\u001b[0m\n\u001b[0m     ^\u001b[0m\n\u001b[0;31mSyntaxError\u001b[0m\u001b[0;31m:\u001b[0m invalid syntax\n"
          ]
        }
      ]
    },
    {
      "cell_type": "code",
      "source": [
        "# 리스트 컴프리헨션 + whrjsans\n",
        "#홀수 출력\n",
        "l = [i for i in range(1, 100) if i % 3 == 0 or i % 5 == 0]\n",
        "print(l)\n",
        "#짝수출\n",
        "l = [i for i in range(1, 100) if i % 2 == 0]\n",
        "print(l)"
      ],
      "metadata": {
        "colab": {
          "base_uri": "https://localhost:8080/"
        },
        "id": "3sOwx7oeUW-s",
        "outputId": "7a9339a6-001a-4af6-b7e2-2985520a11c2"
      },
      "execution_count": 82,
      "outputs": [
        {
          "output_type": "stream",
          "name": "stdout",
          "text": [
            "[3, 5, 6, 9, 10, 12, 15, 18, 20, 21, 24, 25, 27, 30, 33, 35, 36, 39, 40, 42, 45, 48, 50, 51, 54, 55, 57, 60, 63, 65, 66, 69, 70, 72, 75, 78, 80, 81, 84, 85, 87, 90, 93, 95, 96, 99]\n",
            "[2, 4, 6, 8, 10, 12, 14, 16, 18, 20, 22, 24, 26, 28, 30, 32, 34, 36, 38, 40, 42, 44, 46, 48, 50, 52, 54, 56, 58, 60, 62, 64, 66, 68, 70, 72, 74, 76, 78, 80, 82, 84, 86, 88, 90, 92, 94, 96, 98]\n"
          ]
        }
      ]
    },
    {
      "cell_type": "code",
      "source": [
        "# 한 줄에 79자 넘을때 가독성 낮음\n",
        "nums = [1, 2, 3, 4, 5]\n",
        "result = [f'{x}는 3보다 큰 짝수' if x % 2 == 0 else f'{x}는 3보다 큰 홀수' for x in nums if x > 3]\n",
        "print(result) # 출력: ['4는 3보다 큰 짝수', '5는 3보다 큰 홀수']"
      ],
      "metadata": {
        "colab": {
          "base_uri": "https://localhost:8080/"
        },
        "id": "ZDCtsLeKUy8U",
        "outputId": "431fff3c-a042-4d25-a102-0829beec9537"
      },
      "execution_count": 83,
      "outputs": [
        {
          "output_type": "stream",
          "name": "stdout",
          "text": [
            "['4는 3보다 큰 짝수', '5는 3보다 큰 홀수']\n"
          ]
        }
      ]
    },
    {
      "cell_type": "code",
      "source": [
        "#가독성을 위해 for 문에 if문 넣어서 간결하게. 가독성 올리\n",
        "result = []\n",
        "nums = [1, 2, 3, 4, 5]\n",
        "for x in nums:\n",
        "    if x > 3:\n",
        "        if x % 2 == 0:\n",
        "            result.append(f'{x}는 3보다 큰 짝수')\n",
        "        else:\n",
        "            result.append(f'{x}는 3보다 큰 홀수')\n",
        "print(result)"
      ],
      "metadata": {
        "colab": {
          "base_uri": "https://localhost:8080/"
        },
        "id": "KSqieA0hU2ED",
        "outputId": "fd88a7d6-0377-4ff5-fda9-f951d917aa85"
      },
      "execution_count": 85,
      "outputs": [
        {
          "output_type": "stream",
          "name": "stdout",
          "text": [
            "['4는 3보다 큰 짝수', '5는 3보다 큰 홀수']\n"
          ]
        }
      ]
    },
    {
      "cell_type": "markdown",
      "source": [
        "##3.1.3. 중첩된 반복문과 중첩된 컴프리헨션"
      ],
      "metadata": {
        "id": "zdPE4uO-n5Zx"
      }
    },
    {
      "cell_type": "code",
      "source": [
        "# 리스트 컴프리헨션: 중첩된 반복문\n",
        "c = [f'{i} × {j} = {i*j}' for i in range(2, 10) for j in range(1, 10)]\n",
        "\n",
        "# 리스트 컴프리헨션: 중첩된 컴프리헨션\n",
        "cc = [[f'{i} × {j} = {i*j}' for j in range(1, 10)] for i in range(2, 10)]\n",
        "\n",
        "# 전통적인 방법\n",
        "c_list = []\n",
        "for i in range(2, 10):\n",
        "    for j in range(1, 10):\n",
        "        c_list.append(f'{i} × {j} = {i*j}')"
      ],
      "metadata": {
        "colab": {
          "base_uri": "https://localhost:8080/",
          "height": 258
        },
        "id": "lU79IZT1n7kO",
        "outputId": "b735fc21-5ad0-43e4-b74b-6c720c2fee65"
      },
      "execution_count": 91,
      "outputs": [
        {
          "output_type": "error",
          "ename": "NameError",
          "evalue": "name 'C' is not defined",
          "traceback": [
            "\u001b[0;31m---------------------------------------------------------------------------\u001b[0m",
            "\u001b[0;31mNameError\u001b[0m                                 Traceback (most recent call last)",
            "\u001b[0;32m<ipython-input-91-5a37c0ed15ed>\u001b[0m in \u001b[0;36m<cell line: 3>\u001b[0;34m()\u001b[0m\n\u001b[1;32m      1\u001b[0m \u001b[0;31m# 리스트 컴프리헨션: 중첩된 반복문\u001b[0m\u001b[0;34m\u001b[0m\u001b[0;34m\u001b[0m\u001b[0m\n\u001b[1;32m      2\u001b[0m \u001b[0mc\u001b[0m \u001b[0;34m=\u001b[0m \u001b[0;34m[\u001b[0m\u001b[0;34mf'{i} × {j} = {i*j}'\u001b[0m \u001b[0;32mfor\u001b[0m \u001b[0mi\u001b[0m \u001b[0;32min\u001b[0m \u001b[0mrange\u001b[0m\u001b[0;34m(\u001b[0m\u001b[0;36m2\u001b[0m\u001b[0;34m,\u001b[0m \u001b[0;36m10\u001b[0m\u001b[0;34m)\u001b[0m \u001b[0;32mfor\u001b[0m \u001b[0mj\u001b[0m \u001b[0;32min\u001b[0m \u001b[0mrange\u001b[0m\u001b[0;34m(\u001b[0m\u001b[0;36m1\u001b[0m\u001b[0;34m,\u001b[0m \u001b[0;36m10\u001b[0m\u001b[0;34m)\u001b[0m\u001b[0;34m]\u001b[0m\u001b[0;34m\u001b[0m\u001b[0;34m\u001b[0m\u001b[0m\n\u001b[0;32m----> 3\u001b[0;31m \u001b[0mprint\u001b[0m\u001b[0;34m(\u001b[0m\u001b[0mC\u001b[0m\u001b[0;34m)\u001b[0m\u001b[0;34m\u001b[0m\u001b[0;34m\u001b[0m\u001b[0m\n\u001b[0m\u001b[1;32m      4\u001b[0m \u001b[0;31m# 리스트 컴프리헨션: 중첩된 컴프리헨션\u001b[0m\u001b[0;34m\u001b[0m\u001b[0;34m\u001b[0m\u001b[0m\n\u001b[1;32m      5\u001b[0m \u001b[0mcc\u001b[0m \u001b[0;34m=\u001b[0m \u001b[0;34m[\u001b[0m\u001b[0;34m[\u001b[0m\u001b[0;34mf'{i} × {j} = {i*j}'\u001b[0m \u001b[0;32mfor\u001b[0m \u001b[0mj\u001b[0m \u001b[0;32min\u001b[0m \u001b[0mrange\u001b[0m\u001b[0;34m(\u001b[0m\u001b[0;36m1\u001b[0m\u001b[0;34m,\u001b[0m \u001b[0;36m10\u001b[0m\u001b[0;34m)\u001b[0m\u001b[0;34m]\u001b[0m \u001b[0;32mfor\u001b[0m \u001b[0mi\u001b[0m \u001b[0;32min\u001b[0m \u001b[0mrange\u001b[0m\u001b[0;34m(\u001b[0m\u001b[0;36m2\u001b[0m\u001b[0;34m,\u001b[0m \u001b[0;36m10\u001b[0m\u001b[0;34m)\u001b[0m\u001b[0;34m]\u001b[0m\u001b[0;34m\u001b[0m\u001b[0;34m\u001b[0m\u001b[0m\n",
            "\u001b[0;31mNameError\u001b[0m: name 'C' is not defined"
          ]
        }
      ]
    },
    {
      "cell_type": "code",
      "source": [
        "print(c)"
      ],
      "metadata": {
        "colab": {
          "base_uri": "https://localhost:8080/"
        },
        "id": "okhlXRj5oJb1",
        "outputId": "da7a4291-31d0-40cd-bb3a-1dd86af5f074"
      },
      "execution_count": 92,
      "outputs": [
        {
          "output_type": "stream",
          "name": "stdout",
          "text": [
            "['2 × 1 = 2', '2 × 2 = 4', '2 × 3 = 6', '2 × 4 = 8', '2 × 5 = 10', '2 × 6 = 12', '2 × 7 = 14', '2 × 8 = 16', '2 × 9 = 18', '3 × 1 = 3', '3 × 2 = 6', '3 × 3 = 9', '3 × 4 = 12', '3 × 5 = 15', '3 × 6 = 18', '3 × 7 = 21', '3 × 8 = 24', '3 × 9 = 27', '4 × 1 = 4', '4 × 2 = 8', '4 × 3 = 12', '4 × 4 = 16', '4 × 5 = 20', '4 × 6 = 24', '4 × 7 = 28', '4 × 8 = 32', '4 × 9 = 36', '5 × 1 = 5', '5 × 2 = 10', '5 × 3 = 15', '5 × 4 = 20', '5 × 5 = 25', '5 × 6 = 30', '5 × 7 = 35', '5 × 8 = 40', '5 × 9 = 45', '6 × 1 = 6', '6 × 2 = 12', '6 × 3 = 18', '6 × 4 = 24', '6 × 5 = 30', '6 × 6 = 36', '6 × 7 = 42', '6 × 8 = 48', '6 × 9 = 54', '7 × 1 = 7', '7 × 2 = 14', '7 × 3 = 21', '7 × 4 = 28', '7 × 5 = 35', '7 × 6 = 42', '7 × 7 = 49', '7 × 8 = 56', '7 × 9 = 63', '8 × 1 = 8', '8 × 2 = 16', '8 × 3 = 24', '8 × 4 = 32', '8 × 5 = 40', '8 × 6 = 48', '8 × 7 = 56', '8 × 8 = 64', '8 × 9 = 72', '9 × 1 = 9', '9 × 2 = 18', '9 × 3 = 27', '9 × 4 = 36', '9 × 5 = 45', '9 × 6 = 54', '9 × 7 = 63', '9 × 8 = 72', '9 × 9 = 81']\n"
          ]
        }
      ]
    },
    {
      "cell_type": "markdown",
      "source": [
        "## 3.1.4. 컴프리헨션 내 함수 사용하기"
      ],
      "metadata": {
        "id": "fMr5b20gpQOb"
      }
    },
    {
      "cell_type": "code",
      "source": [
        "def sumthingFunction(i): #함수정의\n",
        "    if i % 100 ==0: #i를 100으로 나눴을 때 나머지가 0인 조건\n",
        "        return i # 참이면 i를 반환\n",
        "    else: #아니면\n",
        "        return 0 # 조건이 불일치하면 0을 출력\n",
        "\n",
        "l = [100, 200, 300, 101, 202, 303]\n",
        "l = [sumthingFunction(i) for i in l] #l(리스트)에 있는 값 하나씩 꺼내서, 함수 돌려서, 조건이 맞으면 출력\n",
        "l # 출력: [100, 200, 300, 0, 0, 0]"
      ],
      "metadata": {
        "colab": {
          "base_uri": "https://localhost:8080/"
        },
        "id": "SIA8Fz4DpSNj",
        "outputId": "30959b5f-a87a-4b44-8dae-d83f90912157"
      },
      "execution_count": 97,
      "outputs": [
        {
          "output_type": "execute_result",
          "data": {
            "text/plain": [
              "[100, 200, 300, 0, 0, 0]"
            ]
          },
          "metadata": {},
          "execution_count": 97
        }
      ]
    },
    {
      "cell_type": "code",
      "source": [
        "l = [100, 200, 300, 101, 202, 303]\n",
        "l2 = [(lambda x: x % 100 == 0)(x) for x in l]\n",
        "print(l2)"
      ],
      "metadata": {
        "colab": {
          "base_uri": "https://localhost:8080/"
        },
        "id": "ZRjiWuqPpyyz",
        "outputId": "27ed013f-057b-4f48-8539-ba0610a98288"
      },
      "execution_count": 100,
      "outputs": [
        {
          "output_type": "stream",
          "name": "stdout",
          "text": [
            "[True, True, True, False, False, False]\n"
          ]
        }
      ]
    },
    {
      "cell_type": "markdown",
      "source": [
        "##3.2. 딕셔너리 컴프리헨션\n",
        "\n",
        "- 표현형 {}\n",
        "- 내부에 for문과 조건문\n",
        "- {키: 밸류 for문 조건문}"
      ],
      "metadata": {
        "id": "r24g3c2rpw0A"
      }
    },
    {
      "cell_type": "code",
      "source": [
        "#딕셔너리 컴프리헨션\n",
        "#전통적인 방법\n",
        "d = {}\n",
        "for i in range(5):\n",
        "    d[i] = i ** 2\n",
        "\n",
        "print(d)"
      ],
      "metadata": {
        "colab": {
          "base_uri": "https://localhost:8080/"
        },
        "id": "_lw9R3Cnqm5Y",
        "outputId": "cdbff39d-4cca-466c-b41e-2953ed820e5d"
      },
      "execution_count": 104,
      "outputs": [
        {
          "output_type": "stream",
          "name": "stdout",
          "text": [
            "{0: 0, 1: 1, 2: 4, 3: 9, 4: 16}\n"
          ]
        }
      ]
    },
    {
      "cell_type": "code",
      "source": [
        "#딕셔너리 컴프리헨션 사\n",
        "dd = {i: i**2 for i in range(5)}\n",
        "print(dd)"
      ],
      "metadata": {
        "colab": {
          "base_uri": "https://localhost:8080/"
        },
        "id": "RVd_eIdOq0jT",
        "outputId": "6a3750f8-8ba2-4d94-9a76-6ebcf9e8479e"
      },
      "execution_count": 110,
      "outputs": [
        {
          "output_type": "stream",
          "name": "stdout",
          "text": [
            "{0: 0, 1: 1, 2: 4, 3: 9, 4: 16}\n"
          ]
        }
      ]
    },
    {
      "cell_type": "code",
      "source": [
        "# 복합 자료형 순회\n",
        "\n",
        "for i, j, k in ['abc', 'def', 'ghi']:\n",
        "    print(i, j, k)\n",
        "\n"
      ],
      "metadata": {
        "colab": {
          "base_uri": "https://localhost:8080/"
        },
        "id": "S65yvnGcrfvv",
        "outputId": "4afea177-cb12-4a5d-db92-d6cf4e7d79fe"
      },
      "execution_count": 113,
      "outputs": [
        {
          "output_type": "stream",
          "name": "stdout",
          "text": [
            "a b c\n",
            "d e f\n",
            "g h i\n"
          ]
        }
      ]
    },
    {
      "cell_type": "code",
      "source": [
        "for i in ['abc']:\n",
        "    print(i)"
      ],
      "metadata": {
        "colab": {
          "base_uri": "https://localhost:8080/"
        },
        "id": "V_GacYIWr6oT",
        "outputId": "5753def7-c14d-410b-e478-6c8e10b8adc5"
      },
      "execution_count": 115,
      "outputs": [
        {
          "output_type": "stream",
          "name": "stdout",
          "text": [
            "abc\n"
          ]
        }
      ]
    },
    {
      "cell_type": "code",
      "source": [
        "#튜플 언패킹 반복\n",
        "\n",
        "skill = [\n",
        "    ('고기잡이', 100),\n",
        "    ('고기팔기', 120),\n",
        "    ('낚시', 5),\n",
        "    ('통발', 5),\n",
        "    ('큰그물', 5),\n",
        "]\n",
        "for i,j in skill:\n",
        "    print(i, j)"
      ],
      "metadata": {
        "colab": {
          "base_uri": "https://localhost:8080/"
        },
        "id": "5HoEeUlEsLhP",
        "outputId": "b056f3da-219b-4c80-b934-c2d7f506c2d7"
      },
      "execution_count": 117,
      "outputs": [
        {
          "output_type": "stream",
          "name": "stdout",
          "text": [
            "고기잡이 100\n",
            "고기팔기 120\n",
            "낚시 5\n",
            "통발 5\n",
            "큰그물 5\n"
          ]
        }
      ]
    },
    {
      "cell_type": "code",
      "source": [
        "# 하나만 리스트여도 쌍이면 상관없이 잘 돌아감\n",
        "skill = [\n",
        "        ('고기잡이', 100, 'SS'),\n",
        "        ('고기팔기', 120, 'SSS'),\n",
        "        ('낚시', 5, 'C'),\n",
        "        ('통발', 5, 'C'),\n",
        "        ('큰그물', 5, 'C')\n",
        "]\n",
        "\n",
        "for skillName, skillLevel, skillGrade in skill:\n",
        "    print(skillName, skillLevel, skillGrade)"
      ],
      "metadata": {
        "colab": {
          "base_uri": "https://localhost:8080/"
        },
        "id": "olDcXQznsnXQ",
        "outputId": "2c228cdd-7d9d-45be-f2a6-13f5349725e4"
      },
      "execution_count": 119,
      "outputs": [
        {
          "output_type": "stream",
          "name": "stdout",
          "text": [
            "고기잡이 100 SS\n",
            "고기팔기 120 SSS\n",
            "낚시 5 C\n",
            "통발 5 C\n",
            "큰그물 5 C\n"
          ]
        }
      ]
    },
    {
      "cell_type": "markdown",
      "source": [
        "##5. enumerate를 사용한 순회\n",
        "- enumerate(순회 가능한 객체, 인덱스의 시작값)"
      ],
      "metadata": {
        "id": "k1DhKpOVtbaS"
      }
    },
    {
      "cell_type": "code",
      "source": [
        "# enumerate 활용 = > 출력값 = 인덱스값, 변\n",
        "\n",
        "영화누적관객수 = ['레미제라블', '뷰티인사이트', '매트릭스', '인셉션', '어거스트 러쉬']\n",
        "for i in enumerate(영화누적관객수):\n",
        "    print(i)\n",
        "\n",
        "for i, j in enumerate(영화누적관객수, 1): # 인덱스 1부터 시작\n",
        "    print(f'누적관객수 {i}위! {j}!')"
      ],
      "metadata": {
        "colab": {
          "base_uri": "https://localhost:8080/"
        },
        "id": "o5TXG3E-tedq",
        "outputId": "61fd6e8c-b569-4f9b-aefd-91aab8b37434"
      },
      "execution_count": 121,
      "outputs": [
        {
          "output_type": "stream",
          "name": "stdout",
          "text": [
            "(0, '레미제라블')\n",
            "(1, '뷰티인사이트')\n",
            "(2, '매트릭스')\n",
            "(3, '인셉션')\n",
            "(4, '어거스트 러쉬')\n",
            "누적관객수 1위! 레미제라블!\n",
            "누적관객수 2위! 뷰티인사이트!\n",
            "누적관객수 3위! 매트릭스!\n",
            "누적관객수 4위! 인셉션!\n",
            "누적관객수 5위! 어거스트 러쉬!\n"
          ]
        }
      ]
    },
    {
      "cell_type": "code",
      "source": [],
      "metadata": {
        "id": "smEwWTH6u1Iv"
      },
      "execution_count": null,
      "outputs": []
    }
  ]
}