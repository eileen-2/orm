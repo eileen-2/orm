{
  "nbformat": 4,
  "nbformat_minor": 0,
  "metadata": {
    "colab": {
      "provenance": [],
      "authorship_tag": "ABX9TyPOg6RB8R+QoKI6Bb1Eyjjb",
      "include_colab_link": true
    },
    "kernelspec": {
      "name": "python3",
      "display_name": "Python 3"
    },
    "language_info": {
      "name": "python"
    }
  },
  "cells": [
    {
      "cell_type": "markdown",
      "metadata": {
        "id": "view-in-github",
        "colab_type": "text"
      },
      "source": [
        "<a href=\"https://colab.research.google.com/github/eileen-2/orm/blob/main/0110_%EB%B0%98%EB%B3%B5%EB%AC%B8_while%EB%AC%B8.ipynb\" target=\"_parent\"><img src=\"https://colab.research.google.com/assets/colab-badge.svg\" alt=\"Open In Colab\"/></a>"
      ]
    },
    {
      "cell_type": "code",
      "execution_count": 1,
      "metadata": {
        "colab": {
          "base_uri": "https://localhost:8080/",
          "height": 35
        },
        "id": "ikFaRdYYue16",
        "outputId": "93937cd7-355a-4d48-d34f-6f058ac62486"
      },
      "outputs": [
        {
          "output_type": "execute_result",
          "data": {
            "text/plain": [
              "'\\n- 코드 실행 날짜:20240110\\n- 버전: V0.1\\n- 작성자 : 이은희\\n- 코드내용:\\n'"
            ],
            "application/vnd.google.colaboratory.intrinsic+json": {
              "type": "string"
            }
          },
          "metadata": {},
          "execution_count": 1
        }
      ],
      "source": [
        "'''\n",
        "- 코드 실행 날짜:20240110\n",
        "- 버전: V0.1\n",
        "- 작성자 : 이은희\n",
        "- 코드내용:\n",
        "'''"
      ]
    },
    {
      "cell_type": "code",
      "source": [
        "a = 1\n",
        "#while 문의 조건이 참이면 계속 수행-> 무한루프(무한으로 프로그램이 돌아가게 만듦)\n",
        "while a < 10 :\n",
        "\tprint(a)\n",
        "\ta += 1 #( 무한 루프에 빠질 수 있기 때문에) -> 연산자를 계산해서 조건문을 False로 만드는 구문이 있다."
      ],
      "metadata": {
        "colab": {
          "base_uri": "https://localhost:8080/"
        },
        "id": "bGuMro2CupjW",
        "outputId": "3011066f-a590-4250-cf6c-90c8affaa2b0"
      },
      "execution_count": 2,
      "outputs": [
        {
          "output_type": "stream",
          "name": "stdout",
          "text": [
            "1\n",
            "2\n",
            "3\n",
            "4\n",
            "5\n",
            "6\n",
            "7\n",
            "8\n",
            "9\n"
          ]
        }
      ]
    },
    {
      "cell_type": "code",
      "source": [
        "#1. for문과의 차이점 - 조건이 있다. - 조건이 먼저 선언됨.(for문은 범위가 있다.)"
      ],
      "metadata": {
        "id": "Jl7C-XfCusl2"
      },
      "execution_count": 3,
      "outputs": []
    },
    {
      "cell_type": "code",
      "source": [
        "# if문과 while문\n",
        "\n",
        "import os\n",
        "\n",
        "while True:\n",
        "    userinput = input('>')\n",
        "    if userinput == 'pwd':\n",
        "        #print('현재 위치 출력')\n",
        "        #print('\\\\'.join(__file__.split('\\\\')[:-1]))\n",
        "        print(os.getcwd())\n",
        "    elif userinput == 'dir' or userinput == 'ls':\n",
        "        #print('현재 폴더에 폴더와 파일명 출력')\n",
        "        print(os.listdir(os.getcwd()))\n",
        "    elif userinput == 'exit':\n",
        "        print('안녕히가세요.')\n",
        "        break"
      ],
      "metadata": {
        "colab": {
          "base_uri": "https://localhost:8080/"
        },
        "id": "YPEBG_l-xPoM",
        "outputId": "726150e4-a571-405e-ba36-3a27ee415e9b"
      },
      "execution_count": 8,
      "outputs": [
        {
          "output_type": "stream",
          "name": "stdout",
          "text": [
            ">pwd\n",
            "/content\n",
            ">dir\n",
            "['.config', 'sample_data']\n",
            ">ls\n",
            "['.config', 'sample_data']\n",
            ">exit\n",
            "안녕히가세요.\n"
          ]
        }
      ]
    },
    {
      "cell_type": "markdown",
      "source": [
        "#2. Break / continue\n",
        "\n",
        "* while문에서 사용가\n",
        "* break = 반복문 즉시 종료!\n",
        "* break -> 4칸 띄어쓰기\n",
        "\n",
        "\n",
        "* continue = 그 부분을 건너뛰고 다음으로 이동"
      ],
      "metadata": {
        "id": "gntaVpGyxfZh"
      }
    },
    {
      "cell_type": "code",
      "source": [
        "# 전형적인 반복문\n",
        "for i in range(10):\n",
        "    if i == 5: #만약에 i가 5면\n",
        "        break # 즉시 종료. 나머지는 출력하지 않겠다.\n",
        "    print(i)\n",
        "# 이 코드는 0~9까지 출력하고 i가 10이 되면 종료"
      ],
      "metadata": {
        "id": "g5MAe_jTybHk",
        "colab": {
          "base_uri": "https://localhost:8080/"
        },
        "outputId": "350b753e-50eb-40bb-f002-9d7bc7cfea09"
      },
      "execution_count": 11,
      "outputs": [
        {
          "output_type": "stream",
          "name": "stdout",
          "text": [
            "0\n",
            "1\n",
            "2\n",
            "3\n",
            "4\n"
          ]
        }
      ]
    },
    {
      "cell_type": "code",
      "source": [
        "# continue가 있을경우\n",
        "\n",
        "for i in range(10): #0~9까지\n",
        "    if i % 2 == 0: #짝수인 경우에 하단 코드블럭을 실행\n",
        "        continue # 짝수인 경우에 실행한 구문이 continue -> 짝수일 때 -> 다시 반복문 다음순서로 이동!\n",
        "    print(i) # for문 안에 if문 실행 된 후에 차례대로 print(i)\n",
        "\n",
        "\n",
        "\n",
        "for i in range(10): #0~9까지\n",
        "    if i % 2 == 0: #짝수인 경우에 하단 코드블럭을 실행\n",
        "        print(i) # 짝수인 경우에만 출력!"
      ],
      "metadata": {
        "colab": {
          "base_uri": "https://localhost:8080/"
        },
        "id": "4ZO5iNIe0SLc",
        "outputId": "edf99231-e296-478f-82d7-2743ba23ec1b"
      },
      "execution_count": 20,
      "outputs": [
        {
          "output_type": "stream",
          "name": "stdout",
          "text": [
            "1\n",
            "<class 'int'>\n",
            "3\n",
            "<class 'int'>\n",
            "5\n",
            "<class 'int'>\n",
            "7\n",
            "<class 'int'>\n",
            "9\n",
            "<class 'int'>\n"
          ]
        }
      ]
    },
    {
      "cell_type": "code",
      "source": [
        "for i in range(10):\n",
        "    if i % 2 == 0:\n",
        "        print(i)\n",
        "    print(i)"
      ],
      "metadata": {
        "colab": {
          "base_uri": "https://localhost:8080/"
        },
        "id": "wIU8svMny_3R",
        "outputId": "46f791c6-2e3c-498f-f281-7e86d6018d77"
      },
      "execution_count": 18,
      "outputs": [
        {
          "output_type": "stream",
          "name": "stdout",
          "text": [
            "0\n",
            "0\n",
            "1\n",
            "2\n",
            "2\n",
            "3\n",
            "4\n",
            "4\n",
            "5\n",
            "6\n",
            "6\n",
            "7\n",
            "8\n",
            "8\n",
            "9\n"
          ]
        }
      ]
    },
    {
      "cell_type": "code",
      "source": [
        "import random\n",
        "\n",
        "answer = random.randint(1, 1000)\n",
        "while True:\n",
        "    userinput = int(input('숫자를 입력해주세요. '))\n",
        "    if userinput > answer:\n",
        "        print('Down')\n",
        "\n",
        "    elif userinput < answer:\n",
        "        print('Up')\n",
        "\n",
        "    else:\n",
        "        print('축하합니다! 맞추셨어요!')\n",
        "        break\n",
        ""
      ],
      "metadata": {
        "colab": {
          "base_uri": "https://localhost:8080/",
          "height": 465
        },
        "id": "GexSXy920cGs",
        "outputId": "cfeff4af-634c-416c-b097-baaff68eb252"
      },
      "execution_count": 25,
      "outputs": [
        {
          "output_type": "stream",
          "name": "stdout",
          "text": [
            "숫자를 입력해주세요. 5\n",
            "Up\n"
          ]
        },
        {
          "output_type": "error",
          "ename": "KeyboardInterrupt",
          "evalue": "Interrupted by user",
          "traceback": [
            "\u001b[0;31m---------------------------------------------------------------------------\u001b[0m",
            "\u001b[0;31mKeyboardInterrupt\u001b[0m                         Traceback (most recent call last)",
            "\u001b[0;32m<ipython-input-25-d2e2eb548c9f>\u001b[0m in \u001b[0;36m<cell line: 4>\u001b[0;34m()\u001b[0m\n\u001b[1;32m      3\u001b[0m \u001b[0manswer\u001b[0m \u001b[0;34m=\u001b[0m \u001b[0mrandom\u001b[0m\u001b[0;34m.\u001b[0m\u001b[0mrandint\u001b[0m\u001b[0;34m(\u001b[0m\u001b[0;36m1\u001b[0m\u001b[0;34m,\u001b[0m \u001b[0;36m1000\u001b[0m\u001b[0;34m)\u001b[0m\u001b[0;34m\u001b[0m\u001b[0;34m\u001b[0m\u001b[0m\n\u001b[1;32m      4\u001b[0m \u001b[0;32mwhile\u001b[0m \u001b[0;32mTrue\u001b[0m\u001b[0;34m:\u001b[0m\u001b[0;34m\u001b[0m\u001b[0;34m\u001b[0m\u001b[0m\n\u001b[0;32m----> 5\u001b[0;31m     \u001b[0muserinput\u001b[0m \u001b[0;34m=\u001b[0m \u001b[0mint\u001b[0m\u001b[0;34m(\u001b[0m\u001b[0minput\u001b[0m\u001b[0;34m(\u001b[0m\u001b[0;34m'숫자를 입력해주세요. '\u001b[0m\u001b[0;34m)\u001b[0m\u001b[0;34m)\u001b[0m\u001b[0;34m\u001b[0m\u001b[0;34m\u001b[0m\u001b[0m\n\u001b[0m\u001b[1;32m      6\u001b[0m     \u001b[0;32mif\u001b[0m \u001b[0muserinput\u001b[0m \u001b[0;34m>\u001b[0m \u001b[0manswer\u001b[0m\u001b[0;34m:\u001b[0m\u001b[0;34m\u001b[0m\u001b[0;34m\u001b[0m\u001b[0m\n\u001b[1;32m      7\u001b[0m         \u001b[0mprint\u001b[0m\u001b[0;34m(\u001b[0m\u001b[0;34m'Down'\u001b[0m\u001b[0;34m)\u001b[0m\u001b[0;34m\u001b[0m\u001b[0;34m\u001b[0m\u001b[0m\n",
            "\u001b[0;32m/usr/local/lib/python3.10/dist-packages/ipykernel/kernelbase.py\u001b[0m in \u001b[0;36mraw_input\u001b[0;34m(self, prompt)\u001b[0m\n\u001b[1;32m    849\u001b[0m                 \u001b[0;34m\"raw_input was called, but this frontend does not support input requests.\"\u001b[0m\u001b[0;34m\u001b[0m\u001b[0;34m\u001b[0m\u001b[0m\n\u001b[1;32m    850\u001b[0m             )\n\u001b[0;32m--> 851\u001b[0;31m         return self._input_request(str(prompt),\n\u001b[0m\u001b[1;32m    852\u001b[0m             \u001b[0mself\u001b[0m\u001b[0;34m.\u001b[0m\u001b[0m_parent_ident\u001b[0m\u001b[0;34m,\u001b[0m\u001b[0;34m\u001b[0m\u001b[0;34m\u001b[0m\u001b[0m\n\u001b[1;32m    853\u001b[0m             \u001b[0mself\u001b[0m\u001b[0;34m.\u001b[0m\u001b[0m_parent_header\u001b[0m\u001b[0;34m,\u001b[0m\u001b[0;34m\u001b[0m\u001b[0;34m\u001b[0m\u001b[0m\n",
            "\u001b[0;32m/usr/local/lib/python3.10/dist-packages/ipykernel/kernelbase.py\u001b[0m in \u001b[0;36m_input_request\u001b[0;34m(self, prompt, ident, parent, password)\u001b[0m\n\u001b[1;32m    893\u001b[0m             \u001b[0;32mexcept\u001b[0m \u001b[0mKeyboardInterrupt\u001b[0m\u001b[0;34m:\u001b[0m\u001b[0;34m\u001b[0m\u001b[0;34m\u001b[0m\u001b[0m\n\u001b[1;32m    894\u001b[0m                 \u001b[0;31m# re-raise KeyboardInterrupt, to truncate traceback\u001b[0m\u001b[0;34m\u001b[0m\u001b[0;34m\u001b[0m\u001b[0m\n\u001b[0;32m--> 895\u001b[0;31m                 \u001b[0;32mraise\u001b[0m \u001b[0mKeyboardInterrupt\u001b[0m\u001b[0;34m(\u001b[0m\u001b[0;34m\"Interrupted by user\"\u001b[0m\u001b[0;34m)\u001b[0m \u001b[0;32mfrom\u001b[0m \u001b[0;32mNone\u001b[0m\u001b[0;34m\u001b[0m\u001b[0;34m\u001b[0m\u001b[0m\n\u001b[0m\u001b[1;32m    896\u001b[0m             \u001b[0;32mexcept\u001b[0m \u001b[0mException\u001b[0m \u001b[0;32mas\u001b[0m \u001b[0me\u001b[0m\u001b[0;34m:\u001b[0m\u001b[0;34m\u001b[0m\u001b[0;34m\u001b[0m\u001b[0m\n\u001b[1;32m    897\u001b[0m                 \u001b[0mself\u001b[0m\u001b[0;34m.\u001b[0m\u001b[0mlog\u001b[0m\u001b[0;34m.\u001b[0m\u001b[0mwarning\u001b[0m\u001b[0;34m(\u001b[0m\u001b[0;34m\"Invalid Message:\"\u001b[0m\u001b[0;34m,\u001b[0m \u001b[0mexc_info\u001b[0m\u001b[0;34m=\u001b[0m\u001b[0;32mTrue\u001b[0m\u001b[0;34m)\u001b[0m\u001b[0;34m\u001b[0m\u001b[0;34m\u001b[0m\u001b[0m\n",
            "\u001b[0;31mKeyboardInterrupt\u001b[0m: Interrupted by user"
          ]
        }
      ]
    },
    {
      "cell_type": "code",
      "source": [
        "# 중첩 while문\n",
        "\n",
        "while i < 10 : #i의 기본값이 없어서 실행안돼 무한루프\n",
        "    while j < 10:  #j의 기본값이 없어서 실행안돼 무한루프\n",
        "        print(f'{i}*{j} = {i*j}')\n",
        "\n",
        "i = 2\n",
        "while i < 10 : #i = 2니까 true 조건 실행\n",
        "    j = 1 #j = 1니까 true 조건 실행\n",
        "    while j < 10:\n",
        "        print(f'{i} X {j} = {i * j}')\n",
        "        j += 1 #기존 값 +1 되어 다음 숫자로 이동\n",
        "    i += 1 #기존 값 +1 되어 다음 숫자로 이동\n",
        "\n",
        "#중첩 for문\n",
        "for i in range(2, 10): #2~9까지 반복\n",
        "    for j in range(1, 10): #1부터 9까지 반복\n",
        "        print(f'{i}*{j} = {i*J}')\n",
        "\n"
      ],
      "metadata": {
        "id": "CRA8BBvV86Ox"
      },
      "execution_count": null,
      "outputs": []
    },
    {
      "cell_type": "markdown",
      "source": [
        "#1. Break\n",
        "반복문(while, for)을 실행 중에 중단하고 나오기 위해 사용되는 명령\n",
        "\n",
        "#1.1 Continue\n",
        "반복문이 실행하는 코드 블록의 나머지 부분을 실행하지 않고 다음 반복으로 건너가게 흐름을 조정\n",
        "\n",
        "*pass문은 단순히 실행할 코드가 없다는 것을 의미하며 아무런 동작을 하지 않고 다음 코드를 실행합니다"
      ],
      "metadata": {
        "id": "3jBMuGwy-r0R"
      }
    },
    {
      "cell_type": "code",
      "source": [
        "#모든 반복문 한번에 탈출하기\n",
        "\n",
        "switch = 0\n",
        "for i in range(5):\n",
        "    if switch == 1:\n",
        "        break\n",
        "    for j in range(5):\n",
        "        if j == 3:\n",
        "            switch = 1\n",
        "            break\n",
        "        print(f'{i}, {j}')"
      ],
      "metadata": {
        "colab": {
          "base_uri": "https://localhost:8080/"
        },
        "id": "uOki8QLDAMW2",
        "outputId": "5af259e5-0f0d-4a54-826e-2ab32808ec1f"
      },
      "execution_count": 26,
      "outputs": [
        {
          "output_type": "stream",
          "name": "stdout",
          "text": [
            "0, 0\n",
            "0, 1\n",
            "0, 2\n"
          ]
        }
      ]
    }
  ]
}