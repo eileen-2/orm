{
  "nbformat": 4,
  "nbformat_minor": 0,
  "metadata": {
    "colab": {
      "provenance": [],
      "authorship_tag": "ABX9TyOdVncyx0pEE6USvYbTR9xG",
      "include_colab_link": true
    },
    "kernelspec": {
      "name": "python3",
      "display_name": "Python 3"
    },
    "language_info": {
      "name": "python"
    }
  },
  "cells": [
    {
      "cell_type": "markdown",
      "metadata": {
        "id": "view-in-github",
        "colab_type": "text"
      },
      "source": [
        "<a href=\"https://colab.research.google.com/github/eileen-2/orm/blob/main/0109_%ED%94%84%EB%A1%9C%EA%B7%B8%EB%9E%98%EB%B0%8D_%EC%8A%A4%EB%AC%B4%EA%B3%A0%EA%B0%9C.ipynb\" target=\"_parent\"><img src=\"https://colab.research.google.com/assets/colab-badge.svg\" alt=\"Open In Colab\"/></a>"
      ]
    },
    {
      "cell_type": "markdown",
      "source": [
        "# 프로그램 1. 스무고개 숫자 맞추기"
      ],
      "metadata": {
        "id": "3-sSX8lo0I-I"
      }
    },
    {
      "cell_type": "markdown",
      "source": [
        "## 1.1 숫자를 입력 받기\n",
        "* input을 활용해서 숫자를 입력받으세요!\n"
      ],
      "metadata": {
        "id": "d9PwNmza0aNQ"
      }
    },
    {
      "cell_type": "code",
      "source": [
        "# 우리가 입력할 값\n",
        "num = int(input('숫자를 입력하세요: (1~50사이)'))"
      ],
      "metadata": {
        "colab": {
          "base_uri": "https://localhost:8080/"
        },
        "id": "OSPW3WAb0iaR",
        "outputId": "30053e1b-6eca-4191-f14a-0e5b617f087d"
      },
      "execution_count": 8,
      "outputs": [
        {
          "name": "stdout",
          "output_type": "stream",
          "text": [
            "숫자를 입력하세요: (1~50사이)50\n"
          ]
        }
      ]
    },
    {
      "cell_type": "code",
      "source": [
        "print(num)\n",
        "print(type(num))"
      ],
      "metadata": {
        "colab": {
          "base_uri": "https://localhost:8080/"
        },
        "id": "Jv8jJ53Y0luX",
        "outputId": "77e5ed38-6b2d-4845-a73c-22cbbf24b150"
      },
      "execution_count": 9,
      "outputs": [
        {
          "output_type": "stream",
          "name": "stdout",
          "text": [
            "50\n",
            "<class 'int'>\n"
          ]
        }
      ]
    },
    {
      "cell_type": "code",
      "source": [
        "# 우리가 맞춰야할 숫자! #재실행시 변경됨\n",
        "import random\n",
        "\n",
        "secret_number = random.randrange(1,51)"
      ],
      "metadata": {
        "id": "K18bp2ch017V"
      },
      "execution_count": 10,
      "outputs": []
    },
    {
      "cell_type": "code",
      "source": [
        "# 정답을 위한 step 1\n",
        "\n",
        "import random\n",
        "\n",
        "secret_number = random.randrange(1,51)\n",
        "for i in range(20) #20번의 기회\n",
        "num = int(input('숫자를 입력하세요: (1~50사이)'))\n",
        "\n",
        "if secret_number == num :\n",
        "    print('정답입니다.')\n",
        "else:\n",
        "    print(\"틀렸습니다\")"
      ],
      "metadata": {
        "colab": {
          "base_uri": "https://localhost:8080/",
          "height": 147
        },
        "id": "KGuK5Nki0zjx",
        "outputId": "7826d26c-2c98-4794-e220-2cd538decaa0"
      },
      "execution_count": 32,
      "outputs": [
        {
          "output_type": "error",
          "ename": "SyntaxError",
          "evalue": "expected ':' (<ipython-input-32-1df12995b26e>, line 6)",
          "traceback": [
            "\u001b[0;36m  File \u001b[0;32m\"<ipython-input-32-1df12995b26e>\"\u001b[0;36m, line \u001b[0;32m6\u001b[0m\n\u001b[0;31m    for i in range(20) #20번의 기회\u001b[0m\n\u001b[0m                       ^\u001b[0m\n\u001b[0;31mSyntaxError\u001b[0m\u001b[0;31m:\u001b[0m expected ':'\n"
          ]
        }
      ]
    },
    {
      "cell_type": "code",
      "source": [
        "#for문을 추가하면서 재배치!\n",
        "\n",
        "secret_number = random.randrange(1, 101) # 고정값! # Step 3. secret_number은 고정 값\n",
        "\n",
        "for i in range(20): # Step1. 반복할 값을 지정한다.\n",
        "    number = int(input('숫자를 입력하세요~ (1에서 100사이)')) # Step 2. input을 지정한다.\n",
        "    if number == secret_number: # Step 4 : 조건문\n",
        "        print(\"정답입니다\")\n",
        "    elif number > secret_number:\n",
        "        print(\"DOWN\")\n",
        "    else:\n",
        "         print(\"UP\")\n",
        "         break\n",
        "\n",
        "# 계속 틀리다가 맞추면 정답! 출력 하긴한다. 20번을 무조건 반복한다."
      ],
      "metadata": {
        "colab": {
          "base_uri": "https://localhost:8080/"
        },
        "id": "2th_yTJs4_69",
        "outputId": "7f78011d-5e9f-4414-80cd-0071c57d31d5"
      },
      "execution_count": 35,
      "outputs": [
        {
          "output_type": "stream",
          "name": "stdout",
          "text": [
            "숫자를 입력하세요~ (1에서 100사이)50\n",
            "UP\n"
          ]
        }
      ]
    },
    {
      "cell_type": "code",
      "source": [
        "secret_number = random.randrange(1, 101)\n",
        "for i in range(20): # 기회를 주는 횟수\n",
        "    number = int(input('숫자를 입력하세요. (1에서 100사이)'))\n",
        "    if number == secret_number:\n",
        "        print(\"정답입니다\")\n",
        "        break # 정답이 나오면 끝내는 법\n",
        "    elif number > secret_number:\n",
        "        print(\"DOWN\")\n",
        "    else:\n",
        "         print(\"UP\")\n",
        "\n",
        "\n"
      ],
      "metadata": {
        "id": "MvSNAiEB6ZCZ"
      },
      "execution_count": null,
      "outputs": []
    },
    {
      "cell_type": "code",
      "source": [],
      "metadata": {
        "id": "-NXPncU67eZo"
      },
      "execution_count": null,
      "outputs": []
    }
  ]
}