{
  "nbformat": 4,
  "nbformat_minor": 0,
  "metadata": {
    "colab": {
      "provenance": [],
      "authorship_tag": "ABX9TyN5Te/TxmVbUPyrcqrip+Tc",
      "include_colab_link": true
    },
    "kernelspec": {
      "name": "python3",
      "display_name": "Python 3"
    },
    "language_info": {
      "name": "python"
    }
  },
  "cells": [
    {
      "cell_type": "markdown",
      "metadata": {
        "id": "view-in-github",
        "colab_type": "text"
      },
      "source": [
        "<a href=\"https://colab.research.google.com/github/eileen-2/orm/blob/main/0117_python.ipynb\" target=\"_parent\"><img src=\"https://colab.research.google.com/assets/colab-badge.svg\" alt=\"Open In Colab\"/></a>"
      ]
    },
    {
      "cell_type": "markdown",
      "source": [
        "#어제 과제와 연관된 실습"
      ],
      "metadata": {
        "id": "YEtIeEzBzea5"
      }
    },
    {
      "cell_type": "code",
      "execution_count": 2,
      "metadata": {
        "id": "yHPow-NUu6B6",
        "colab": {
          "base_uri": "https://localhost:8080/"
        },
        "outputId": "0142e2c2-7ebd-4d9e-addd-7af32a99f953"
      },
      "outputs": [
        {
          "output_type": "execute_result",
          "data": {
            "text/plain": [
              "30"
            ]
          },
          "metadata": {},
          "execution_count": 2
        }
      ],
      "source": [
        "class Calc:\n",
        "    pass\n",
        "\n",
        "add = Calc()\n",
        "add\n",
        "\n",
        "#더하기 기능이 함수에 Calc에 없는 경우\n",
        "\n",
        "add.oper = lambda x, y : x + y #이런식으로 명령을 생성할 수 있음. 인스턴스 함수에 값을 넣어 처\n",
        "add.oper(10, 20)"
      ]
    },
    {
      "cell_type": "markdown",
      "source": [
        "# 클로져\n"
      ],
      "metadata": {
        "id": "qsjYfNoP1HT8"
      }
    },
    {
      "cell_type": "code",
      "source": [
        "@login\n",
        "def 게시판읽기():\n",
        "    return 게시판내용"
      ],
      "metadata": {
        "id": "VAqZcick1Pc8"
      },
      "execution_count": null,
      "outputs": []
    },
    {
      "cell_type": "code",
      "source": [
        "# 1번: 클로저가 아닌경우\n",
        "def outer_function():\n",
        "    def inner_function():\n",
        "        return 100 + 100\n",
        "    return inner_function\n",
        "\n",
        "# 2번: 클로저인 경우\n",
        "def outer_function(x):\n",
        "    def inner_function(y):\n",
        "        return x + y\n",
        "    return inner_function\n",
        "\n",
        "inner = outer_function(100)\n",
        "inner(200) # inner 입장에서 100을 변경할 수 있는 방법이 없습니다."
      ],
      "metadata": {
        "id": "2yESAQQF1I3x"
      },
      "execution_count": null,
      "outputs": []
    },
    {
      "cell_type": "code",
      "source": [
        "def make_counter():\n",
        "    count = 0\n",
        "\n",
        "    def counter():\n",
        "        global count # def 전에 선언되어야 함 거기가 global 영역\n",
        "        count += 1\n",
        "        return count\n",
        "\n",
        "    return counter\n",
        "\n",
        "counter_a = make_counter()\n",
        "print(counter_a())  # 1\n",
        "print(counter_a())  # 2"
      ],
      "metadata": {
        "id": "AJ_XB2fG18Nd"
      },
      "execution_count": null,
      "outputs": []
    },
    {
      "cell_type": "code",
      "source": [
        "def make_counter():\n",
        "    count = 0\n",
        "\n",
        "    def counter():\n",
        "        nonlocal count #nonlocal: 밖에 있는 count가져오겠다 없으면 참조해서 할당할 변수가 없다고 나옴 error\n",
        "        count += 1\n",
        "        return count\n",
        "\n",
        "    return counter\n",
        "\n",
        "counter_a = make_counter()\n",
        "print(counter_a())  # 1\n",
        "print(counter_a())  # 2\n",
        "print(counter_a())  # 3\n",
        "\n",
        "\n",
        "\n",
        "# 이렇게 함으로 순서는 항상 상승된다는 것을 보장함.\n",
        "# DB에서 게시물 번호\n"
      ],
      "metadata": {
        "colab": {
          "base_uri": "https://localhost:8080/"
        },
        "id": "F33vCp8f11c4",
        "outputId": "c01b1971-f4ea-46e1-f99c-0e1e7224d870"
      },
      "execution_count": 7,
      "outputs": [
        {
          "output_type": "stream",
          "name": "stdout",
          "text": [
            "1\n",
            "2\n",
            "3\n"
          ]
        }
      ]
    },
    {
      "cell_type": "code",
      "source": [
        "def calc(oper):\n",
        "    def add(x, y):\n",
        "        return x + y\n",
        "    def sub(x, y):\n",
        "        return x - y\n",
        "    if oper == 'add':\n",
        "        return add\n",
        "    if oper == 'sub':\n",
        "        return sub\n",
        "\n",
        "add = calc('add')\n",
        "add(10, 20)"
      ],
      "metadata": {
        "colab": {
          "base_uri": "https://localhost:8080/"
        },
        "id": "Ye5QfHjP4KPc",
        "outputId": "ba1382a9-870a-4ca4-d4ba-b965631bb5c1"
      },
      "execution_count": 9,
      "outputs": [
        {
          "output_type": "execute_result",
          "data": {
            "text/plain": [
              "30"
            ]
          },
          "metadata": {},
          "execution_count": 9
        }
      ]
    },
    {
      "cell_type": "code",
      "source": [
        "def calc(oper, original):\n",
        "    def add(x, y):\n",
        "        return original + x + y\n",
        "    def sub(x, y):\n",
        "        return original - x - y\n",
        "    if oper == 'add':\n",
        "        return add\n",
        "    if oper == 'sub':\n",
        "        return sub\n",
        "\n",
        "add = calc('add', 1000)\n",
        "add(10, 20)\n",
        "\n",
        "sub = calc('sub', 100)\n",
        "sub(10, 20)"
      ],
      "metadata": {
        "colab": {
          "base_uri": "https://localhost:8080/"
        },
        "id": "_16vRHbB45BR",
        "outputId": "98fb3592-4d13-41b4-9b23-88fb292a6ba2"
      },
      "execution_count": 11,
      "outputs": [
        {
          "output_type": "execute_result",
          "data": {
            "text/plain": [
              "70"
            ]
          },
          "metadata": {},
          "execution_count": 11
        }
      ]
    },
    {
      "cell_type": "code",
      "source": [
        "# 이렇게 사용하지 않습니다. 어떠한 변수를 보호하기 위한 용도로는 사용하지 않음!!!!\n",
        "def 은행(원금):\n",
        "    def 입금(입금금액):\n",
        "        return 원금 + 입금금액\n",
        "    return 입금\n",
        "\n",
        "이호준통장_입금함수 = 은행(1000) # 1000만원을 초기에 입금\n",
        "이호준통장_입금함수(100)\n",
        "이호준통장_입금함수(-1100)\n",
        "# 문제점1 : 입금 금액에 커스텀 인스턴스를 넣어서 __add__를 추가할 수 있나요?\n",
        "# 문제점2 : 출금은 안되나요?"
      ],
      "metadata": {
        "colab": {
          "base_uri": "https://localhost:8080/"
        },
        "id": "mYE_-sXk8PXI",
        "outputId": "098bc82a-8e96-49b0-8dda-0e02f2eef4e3"
      },
      "execution_count": 13,
      "outputs": [
        {
          "output_type": "execute_result",
          "data": {
            "text/plain": [
              "-100"
            ]
          },
          "metadata": {},
          "execution_count": 13
        }
      ]
    },
    {
      "cell_type": "code",
      "source": [
        "# 요즘 은행에서 이런 시큐어 코딩 문제로 문제가 발생되는 경우는 극히 드뭅니다.\n",
        "# 거래소(비트코인)\n",
        "\n",
        "# 이더리움 사례< 음수가 없습니다. 양수만 존재\n",
        "# 0원잔고에서 -1원 하면, 나올 수 있는 최댓값 -> 은행 통장 잔고 전체\n",
        "# 마이너스 연산을 허락하지 않았는데 어떻게 마이너스 연산을 한 것일까?\n"
      ],
      "metadata": {
        "id": "NQCqy-N_87bI"
      },
      "execution_count": null,
      "outputs": []
    },
    {
      "cell_type": "markdown",
      "source": [
        "# 데코레이터-별표 1\n",
        "\n",
        "함수 또는 메서드를 꾸며줌\n",
        "자기가 리턴한 값을 실행\n",
        "캐싱, 인증, 전처리, 로깅, 모니터링 등 다양한 상황에서 활용"
      ],
      "metadata": {
        "id": "p7yZPG3F3ByN"
      }
    },
    {
      "cell_type": "code",
      "source": [
        "# 왜 데코레이터가 필요한가? 그냥 아래와 같이 하면 안되나요?\n",
        "# 분명한 목적성, 가독성, 명료\n",
        "\n",
        "def login(function):\n",
        "    '''\n",
        "    로그인을 확인하는 로직\n",
        "    '''\n",
        "    pass\n",
        "\n",
        "@login\n",
        "def 게시판읽기():\n",
        "    login()\n",
        "    # 이렇게 해도 로그인을 확인하는 로직이 들어가는데\n",
        "    # 굳이 새로운 문법을 만들면서까지 사용하나요?\n",
        "    pass"
      ],
      "metadata": {
        "id": "v5rH12Dd_FHu"
      },
      "execution_count": null,
      "outputs": []
    },
    {
      "cell_type": "code",
      "source": [
        "def 동작시간체크(function):\n",
        "    '''\n",
        "    동작 시간을 체크하는 로직\n",
        "    '''\n",
        "    pass\n",
        "\n",
        "@동작시간체크\n",
        "def f():\n",
        "    pass"
      ],
      "metadata": {
        "id": "b4SBk8VI_Yev"
      },
      "execution_count": null,
      "outputs": []
    },
    {
      "cell_type": "code",
      "source": [
        "def log(function):\n",
        "    '''\n",
        "    DB에 log()접속기록를 쌓는 로직\n",
        "    '''\n",
        "    pass\n",
        "\n",
        "@log\n",
        "def f():\n",
        "    pass"
      ],
      "metadata": {
        "id": "ujpq2Kgj_jXs"
      },
      "execution_count": null,
      "outputs": []
    },
    {
      "cell_type": "code",
      "source": [
        "# simple_decorator가 만들어져있어야 함\n",
        "# 파선아실\n",
        "# 데코레이터는 함수가 호출되었을 때 실제 실행되는 함수\n",
        "# 데코레이터의 return 함수가 실행\n",
        "def simple_decorator(function): #function이 파라미터자리\n",
        "    def wrapper():\n",
        "        print(\"전\")\n",
        "        function() # 여기서 hello가 실행됨\n",
        "        print(\"후\")\n",
        "    return wrapper\n",
        "\n",
        "@simple_decorator\n",
        "def hello(): # 파라미터\n",
        "    print(\"Hello, World!\")\n",
        "\n",
        "hello() # 데코레이터가 없는 상태에서는 simple_decorator(hello)() 와 같습니다."
      ],
      "metadata": {
        "id": "pd1mOXc0AnMJ"
      },
      "execution_count": null,
      "outputs": []
    },
    {
      "cell_type": "code",
      "source": [
        "def hello():\n",
        "    print(\"Hello, World!\")\n",
        "\n",
        "print(\"전\")\n",
        "hello()\n",
        "print(\"후\")"
      ],
      "metadata": {
        "id": "tZytTqshCya1"
      },
      "execution_count": null,
      "outputs": []
    },
    {
      "cell_type": "code",
      "source": [
        "def simple_decorator(function): #function이 파라미터자리\n",
        "    def wrapper():\n",
        "        print(\"전\")\n",
        "        function() # 여기서 hello가 실행됨\n",
        "        print(\"후\")\n",
        "    return wrapper\n",
        "\n",
        "def hello(): # 파라미터\n",
        "    print(\"Hello, World!\")\n",
        "\n",
        "w = simple_decorator(hello)\n",
        "w()"
      ],
      "metadata": {
        "colab": {
          "base_uri": "https://localhost:8080/"
        },
        "id": "Rg53s_k8Cz3E",
        "outputId": "5889ce2e-450a-45f8-f8b2-c5e198a687e7"
      },
      "execution_count": 15,
      "outputs": [
        {
          "output_type": "stream",
          "name": "stdout",
          "text": [
            "전\n",
            "Hello, World!\n",
            "후\n"
          ]
        }
      ]
    },
    {
      "cell_type": "code",
      "source": [
        "def simple_decorator(function): #function이 파라미터자리\n",
        "    def wrapper():\n",
        "        print(\"전\")\n",
        "        function() # 여기서 hello가 실행됨\n",
        "        print(\"후\")\n",
        "    return wrapper\n",
        "\n",
        "def hello(): # 파라미터\n",
        "    print(\"Hello, World!\")\n",
        "\n",
        "simple_decorator(hello)()"
      ],
      "metadata": {
        "colab": {
          "base_uri": "https://localhost:8080/"
        },
        "id": "glugO1tFDSqS",
        "outputId": "cfe3f5e8-b463-4c97-eb2e-33c0a64a03c7"
      },
      "execution_count": 16,
      "outputs": [
        {
          "output_type": "stream",
          "name": "stdout",
          "text": [
            "전\n",
            "Hello, World!\n",
            "후\n"
          ]
        }
      ]
    },
    {
      "cell_type": "code",
      "source": [
        "#매개변수가 있는 데코레이터"
      ],
      "metadata": {
        "id": "NDsSiJliDZRV"
      },
      "execution_count": null,
      "outputs": []
    },
    {
      "cell_type": "code",
      "source": [
        "def simple_decorator(function):\n",
        "    def wrapper(a, b): # point\n",
        "        print('전')\n",
        "        result = function(a, b)\n",
        "        print('후')\n",
        "        return result\n",
        "    return wrapper\n",
        "\n",
        "@simple_decorator\n",
        "def hello(a, b):\n",
        "    return a + b\n",
        "\n",
        "hello(10, 20)"
      ],
      "metadata": {
        "id": "K83JJ6plD8xt"
      },
      "execution_count": null,
      "outputs": []
    },
    {
      "cell_type": "code",
      "source": [
        "def simple_decorator(function):\n",
        "    def wrapper(a, b): # point 1\n",
        "        print('전')\n",
        "        result = function(a, b) # point 2\n",
        "        print(result)\n",
        "        print('후')\n",
        "        return result\n",
        "    return wrapper\n",
        "\n",
        "@simple_decorator\n",
        "def hello(a, b):\n",
        "    return a + b\n",
        "\n",
        "hello(10, 20) # => simple_decorator(hello)(10, 20) => wrapper(10, 20)"
      ],
      "metadata": {
        "id": "GsCybOSOEbfG"
      },
      "execution_count": null,
      "outputs": []
    },
    {
      "cell_type": "code",
      "source": [
        "# 이렇게 매개변수가 다르면 혼란이 가중되어 권하지 않습니다.\n",
        "def simple_decorator(function):\n",
        "    def wrapper(a, b): # point 1\n",
        "        print('전')\n",
        "        result = function(a) # point 2\n",
        "        print(result)\n",
        "        print('후')\n",
        "        return result\n",
        "    return wrapper\n",
        "\n",
        "@simple_decorator\n",
        "def hello(a):\n",
        "    return a ** 2\n",
        "\n",
        "hello(10, 20) # => simple_decorator(hello)(10, 20) => wrapper(10, 20)"
      ],
      "metadata": {
        "colab": {
          "base_uri": "https://localhost:8080/"
        },
        "id": "NLVcgcI5Ely1",
        "outputId": "39c8ca79-a456-4e61-980d-86ce2d4fa415"
      },
      "execution_count": 17,
      "outputs": [
        {
          "output_type": "stream",
          "name": "stdout",
          "text": [
            "전\n",
            "100\n",
            "후\n"
          ]
        },
        {
          "output_type": "execute_result",
          "data": {
            "text/plain": [
              "100"
            ]
          },
          "metadata": {},
          "execution_count": 17
        }
      ]
    },
    {
      "cell_type": "code",
      "source": [
        "# 선생님이 사용하는 데코레이터\n",
        "# step 0: 필요성에 대한 인식\n",
        "\n",
        "sum([1, 2, '3', 4, 5, '6']) # error"
      ],
      "metadata": {
        "id": "LDUhAXBYFD35"
      },
      "execution_count": null,
      "outputs": []
    },
    {
      "cell_type": "code",
      "source": [
        "l = [1, 2, '3', 4, 5, '6']\n",
        "sum(map(int, l)) # 이렇게 해결하면 되는거 아닌가요"
      ],
      "metadata": {
        "colab": {
          "base_uri": "https://localhost:8080/"
        },
        "id": "6YH118zIFRsb",
        "outputId": "fa0f65ae-bf06-4409-b5d3-a9454aaa6a96"
      },
      "execution_count": 18,
      "outputs": [
        {
          "output_type": "execute_result",
          "data": {
            "text/plain": [
              "21"
            ]
          },
          "metadata": {},
          "execution_count": 18
        }
      ]
    },
    {
      "cell_type": "code",
      "source": [
        "l = [1, 2, '3hello', 4, 5, 'l6l']\n",
        "sum(map(int, l)) #....................?"
      ],
      "metadata": {
        "id": "hq-0f93cFfvi"
      },
      "execution_count": null,
      "outputs": []
    },
    {
      "cell_type": "code",
      "source": [
        "l = [1, 2, '3hello', 4, 5, 'l6l']\n",
        "\n",
        "@p # 함수 '전'이나 '후'에 무언가를 작업해줄 수 있는 데코레이터 이기 때문에.\n",
        "sum(l)"
      ],
      "metadata": {
        "id": "zay_tYRpFmKf"
      },
      "execution_count": null,
      "outputs": []
    },
    {
      "cell_type": "code",
      "source": [
        "# step 1: 골격을 만듭니다.\n",
        "\n",
        "def data_pre(function):\n",
        "    def wrapper():\n",
        "        return None\n",
        "    return wrapper\n",
        "\n",
        "@data_pre\n",
        "def mean(l):\n",
        "    return sum(l)/len(l)\n",
        "mean([1, 2, '3', 4, 5, '6']) #data_pre(mean)()"
      ],
      "metadata": {
        "id": "B0_GxYwaGHSx"
      },
      "execution_count": null,
      "outputs": []
    },
    {
      "cell_type": "code",
      "source": [
        "# 복습 x\n",
        "# 좀 더 정교한 작업이 필요할 때\n",
        "# 정규표현식 배우면 엄청 간단해집니다.\n",
        "# re.sub(r'[a-zA-A]+,'')\n",
        "\n",
        "def data_pre(function):\n",
        "    def wrapper(iter_obj):\n",
        "        l = []\n",
        "        for i in iter_obj:\n",
        "            if isinstance(i, str):\n",
        "                s = ''\n",
        "                for j in i:\n",
        "                    if j.isdigit():\n",
        "                        s += j\n",
        "                l.append(int(s))\n",
        "            else:\n",
        "                l.append(i)\n",
        "        print(l)\n",
        "        return function(list(map(int, l)))\n",
        "    return wrapper\n",
        "\n",
        "@data_pre\n",
        "def mean(l):\n",
        "    return sum(l) / len(l)\n",
        "\n",
        "mean([1, 2, 'l3l', 4, 5, 'abc6def'])"
      ],
      "metadata": {
        "colab": {
          "base_uri": "https://localhost:8080/"
        },
        "id": "3QN6bBvbGuGm",
        "outputId": "c01262ae-8ac8-48b5-cc16-dc41781cfb01"
      },
      "execution_count": 32,
      "outputs": [
        {
          "output_type": "stream",
          "name": "stdout",
          "text": [
            "[1, 2, 3, 4, 5, 6]\n"
          ]
        },
        {
          "output_type": "execute_result",
          "data": {
            "text/plain": [
              "3.5"
            ]
          },
          "metadata": {},
          "execution_count": 32
        }
      ]
    },
    {
      "cell_type": "code",
      "source": [
        "isinstance('hello',str)"
      ],
      "metadata": {
        "colab": {
          "base_uri": "https://localhost:8080/"
        },
        "id": "jfTJUI4kLk4X",
        "outputId": "8b9833d1-966b-4102-e19c-496e24eb8314"
      },
      "execution_count": 27,
      "outputs": [
        {
          "output_type": "execute_result",
          "data": {
            "text/plain": [
              "True"
            ]
          },
          "metadata": {},
          "execution_count": 27
        }
      ]
    },
    {
      "cell_type": "code",
      "source": [
        "isinstance(10, str)"
      ],
      "metadata": {
        "colab": {
          "base_uri": "https://localhost:8080/"
        },
        "id": "3oCz308JLn9X",
        "outputId": "7d1d3a4e-33ca-46a2-b794-ddff37edc53a"
      },
      "execution_count": 28,
      "outputs": [
        {
          "output_type": "execute_result",
          "data": {
            "text/plain": [
              "False"
            ]
          },
          "metadata": {},
          "execution_count": 28
        }
      ]
    },
    {
      "cell_type": "code",
      "source": [
        "# step 0와 step 1을 함께 한 것입니다.\n",
        "data = [-1, 30, 20, 31, -50] #sum을 할 것인데, 모두다 절댓값을 취하는 데코레이터\n",
        "\n",
        "def all_abs(f):\n",
        "    def wrapper():\n",
        "        return\n",
        "    return wrapper\n",
        "\n",
        "@all_abs\n",
        "def _sum(l):\n",
        "    return sum(l)\n",
        "\n",
        "_sum(data)"
      ],
      "metadata": {
        "id": "P9Wz_WqANkLp"
      },
      "execution_count": null,
      "outputs": []
    },
    {
      "cell_type": "code",
      "source": [
        "# step 2: 아규먼트 또는 파라미터 설정\n",
        "data = [-1, 30, 20, 31, -50] #sum을 할 것인데, 모두다 절댓값을 취하는 데코레이터\n",
        "\n",
        "def all_abs(f):\n",
        "    def wrapper(iter_obj):\n",
        "        return f([abs(i) for i in iter_obj]) #f == _sum(l)\n",
        "    return wrapper\n",
        "\n",
        "@all_abs\n",
        "def _sum(l):\n",
        "    return sum(l)\n",
        "\n",
        "_sum(data) #wrapper(data)"
      ],
      "metadata": {
        "colab": {
          "base_uri": "https://localhost:8080/"
        },
        "id": "5L1n37_XOGg-",
        "outputId": "b310515b-3c99-4be9-c1bf-727e012d8406"
      },
      "execution_count": 34,
      "outputs": [
        {
          "output_type": "execute_result",
          "data": {
            "text/plain": [
              "132"
            ]
          },
          "metadata": {},
          "execution_count": 34
        }
      ]
    },
    {
      "cell_type": "markdown",
      "source": [
        "# lambda"
      ],
      "metadata": {
        "id": "OFx_KvEiNG4R"
      }
    },
    {
      "cell_type": "code",
      "source": [
        "square = lambda x: x*x\n",
        "print(square(5))  # 출력: 25"
      ],
      "metadata": {
        "colab": {
          "base_uri": "https://localhost:8080/"
        },
        "id": "yNWLr0V6NNk0",
        "outputId": "dc87a6b8-4e12-4e8c-fc6d-ef0d1aec613c"
      },
      "execution_count": 33,
      "outputs": [
        {
          "output_type": "stream",
          "name": "stdout",
          "text": [
            "25\n"
          ]
        }
      ]
    },
    {
      "cell_type": "code",
      "source": [
        "l = lambda"
      ],
      "metadata": {
        "colab": {
          "base_uri": "https://localhost:8080/",
          "height": 147
        },
        "id": "mWMFZNBXPh2i",
        "outputId": "dd53fd0e-ce7c-4ffa-8bd5-be240afe859a"
      },
      "execution_count": 36,
      "outputs": [
        {
          "output_type": "error",
          "ename": "SyntaxError",
          "evalue": "invalid syntax (<ipython-input-36-dc23b927e78e>, line 1)",
          "traceback": [
            "\u001b[0;36m  File \u001b[0;32m\"<ipython-input-36-dc23b927e78e>\"\u001b[0;36m, line \u001b[0;32m1\u001b[0m\n\u001b[0;31m    l = lambda\u001b[0m\n\u001b[0m              ^\u001b[0m\n\u001b[0;31mSyntaxError\u001b[0m\u001b[0;31m:\u001b[0m invalid syntax\n"
          ]
        }
      ]
    },
    {
      "cell_type": "code",
      "source": [
        "l = lambda x"
      ],
      "metadata": {
        "colab": {
          "base_uri": "https://localhost:8080/",
          "height": 147
        },
        "id": "ZBBrsZnbPlgV",
        "outputId": "ac760d89-6b40-42b0-f7fd-f5704aa4e3ba"
      },
      "execution_count": 37,
      "outputs": [
        {
          "output_type": "error",
          "ename": "SyntaxError",
          "evalue": "invalid syntax (<ipython-input-37-0be92dc1b600>, line 1)",
          "traceback": [
            "\u001b[0;36m  File \u001b[0;32m\"<ipython-input-37-0be92dc1b600>\"\u001b[0;36m, line \u001b[0;32m1\u001b[0m\n\u001b[0;31m    l = lambda x\u001b[0m\n\u001b[0m                ^\u001b[0m\n\u001b[0;31mSyntaxError\u001b[0m\u001b[0;31m:\u001b[0m invalid syntax\n"
          ]
        }
      ]
    },
    {
      "cell_type": "code",
      "source": [
        "# 실무에서 사용 안해요.\n",
        "# 복습 x\n",
        "# 실험적 코드\n",
        "l = lambda x : lambda x: x ** 2"
      ],
      "metadata": {
        "id": "8nth2ykiPnFI"
      },
      "execution_count": 39,
      "outputs": []
    },
    {
      "cell_type": "code",
      "source": [
        "# 같은 코드\n",
        "# lambda vs def : 재사용 여\n",
        "numbers = [1, 2, 3, 4, 5]\n",
        "print(list(filter(lambda x: x > 3, numbers)))  # 출력: [4, 5]\n",
        "\n",
        "\n",
        "def f():\n",
        "    return x > 3\n",
        "numbers = [1, 2, 3, 4, 5]\n",
        "print(list(filter(lambda x: x > 3, numbers)))  # 출력: [4, 5]"
      ],
      "metadata": {
        "colab": {
          "base_uri": "https://localhost:8080/"
        },
        "id": "WwaZCb9EQRDv",
        "outputId": "f92a2f49-a4cd-406e-b88c-67cbbef47e2b"
      },
      "execution_count": 40,
      "outputs": [
        {
          "output_type": "stream",
          "name": "stdout",
          "text": [
            "[4, 5]\n",
            "[4, 5]\n"
          ]
        }
      ]
    },
    {
      "cell_type": "markdown",
      "source": [
        "# 아규먼츠와 키워드아규먼츠 args, kwargs\n",
        "\n",
        "애스터리스크(*) 1개는 튜플이나 리스트를 패킹, 언패킹\n",
        "애스터리스크(*) 2개는 딕셔너리를 패킹, 언패킹"
      ],
      "metadata": {
        "id": "E45_jbw0RtEN"
      }
    },
    {
      "cell_type": "code",
      "source": [
        "# * 가 패킹에 쓰임\n",
        "def print_args(*args):\n",
        "    print(args) # 출력: (100, True, 'Licat')\n",
        "\n",
        "print_args(100, True, 'Licat')"
      ],
      "metadata": {
        "colab": {
          "base_uri": "https://localhost:8080/"
        },
        "id": "6cxcZ7_ARx1b",
        "outputId": "82ba3d44-61ae-4abe-fbf7-eb71622e6f56"
      },
      "execution_count": 45,
      "outputs": [
        {
          "output_type": "stream",
          "name": "stdout",
          "text": [
            "(100, True, 'Licat')\n"
          ]
        }
      ]
    },
    {
      "cell_type": "code",
      "source": [
        "def print_args(args): #error\n",
        "    print(args) # 출력: (100, True, 'Licat')\n",
        "\n",
        "print_args(100, True, 'Licat')"
      ],
      "metadata": {
        "id": "m5GyIvkcSteo"
      },
      "execution_count": null,
      "outputs": []
    },
    {
      "cell_type": "code",
      "source": [
        "# 패킹\n",
        "10, 20 ,30"
      ],
      "metadata": {
        "colab": {
          "base_uri": "https://localhost:8080/"
        },
        "id": "0-CPzHCKSP-A",
        "outputId": "d5f0e965-218b-4917-cdfd-6927c83aa37c"
      },
      "execution_count": 42,
      "outputs": [
        {
          "output_type": "execute_result",
          "data": {
            "text/plain": [
              "(10, 20, 30)"
            ]
          },
          "metadata": {},
          "execution_count": 42
        }
      ]
    },
    {
      "cell_type": "code",
      "source": [
        "#언패킹\n",
        "a, b, c = [10, 20, 30]\n",
        "a\n",
        "\n",
        "for i, j in [[10, 20], [30, 40]]\n",
        "    print(i, j)"
      ],
      "metadata": {
        "id": "-00-w-5zSSHJ"
      },
      "execution_count": null,
      "outputs": []
    },
    {
      "cell_type": "code",
      "source": [
        "def print_args(a, b, *args):\n",
        "    print(args) # 출력: ('Licat', 'hello', 10)\n",
        "\n",
        "print_args(100, True, 'Licat', 'hello', 10)"
      ],
      "metadata": {
        "colab": {
          "base_uri": "https://localhost:8080/"
        },
        "id": "tGkTWYduTACv",
        "outputId": "b8c9885d-dd2a-4a74-f14e-46696fc1163e"
      },
      "execution_count": 48,
      "outputs": [
        {
          "output_type": "stream",
          "name": "stdout",
          "text": [
            "('Licat', 'hello', 10)\n"
          ]
        }
      ]
    },
    {
      "cell_type": "code",
      "source": [
        "# 패킹하는 파라미터가 먼저 나오면,\n",
        "# 그 뒤 일반 파라미터는 사용하면 안됨.\n",
        "def print_args(*args, a, b): # error / 패킹 범위 모르고, a, b에 뭘 할당할지 지정안되어 있어서.\n",
        "    print(args) # 출력: ('Licat', 'hello', 10)\n",
        "\n",
        "print_args(100, True, 'Licat', 'hello', 10)"
      ],
      "metadata": {
        "id": "zebZYgMwTH6E"
      },
      "execution_count": null,
      "outputs": []
    },
    {
      "cell_type": "code",
      "source": [
        "# 패킹\n",
        "def func(*args):\n",
        "    print(args)\n",
        "\n",
        "func(10, 20, 30)\n",
        "# 10, 20, 30 => *args => (10, 20, 30)"
      ],
      "metadata": {
        "id": "kSOCS7f2Te1w"
      },
      "execution_count": null,
      "outputs": []
    },
    {
      "cell_type": "code",
      "source": [
        "# 언패킹\n",
        "def func(a, b, c):\n",
        "    print(a, b, c)\n",
        "\n",
        "args = (10, 20, 30)\n",
        "func(*args)\n",
        "# (10, 20, 30) => *args => 10, 20, 30"
      ],
      "metadata": {
        "id": "zh8qFX5PThD7"
      },
      "execution_count": null,
      "outputs": []
    },
    {
      "cell_type": "code",
      "source": [
        "# 언패킹\n",
        "def func(a, b, c):\n",
        "    print(a, b, c)\n",
        "\n",
        "args = (10, 20, 30)\n",
        "func(args) #func함수에 파라미터가 3개인데 지금 아규먼츠가 한개만 있어서 error\n",
        "# (10, 20, 30) => *args => 10, 20, 30"
      ],
      "metadata": {
        "colab": {
          "base_uri": "https://localhost:8080/",
          "height": 239
        },
        "id": "xeL29AwGTym5",
        "outputId": "9a9f6676-5823-475a-c509-574e695b8a8d"
      },
      "execution_count": 49,
      "outputs": [
        {
          "output_type": "error",
          "ename": "TypeError",
          "evalue": "func() missing 2 required positional arguments: 'b' and 'c'",
          "traceback": [
            "\u001b[0;31m---------------------------------------------------------------------------\u001b[0m",
            "\u001b[0;31mTypeError\u001b[0m                                 Traceback (most recent call last)",
            "\u001b[0;32m<ipython-input-49-3e9d33f17368>\u001b[0m in \u001b[0;36m<cell line: 6>\u001b[0;34m()\u001b[0m\n\u001b[1;32m      4\u001b[0m \u001b[0;34m\u001b[0m\u001b[0m\n\u001b[1;32m      5\u001b[0m \u001b[0margs\u001b[0m \u001b[0;34m=\u001b[0m \u001b[0;34m(\u001b[0m\u001b[0;36m10\u001b[0m\u001b[0;34m,\u001b[0m \u001b[0;36m20\u001b[0m\u001b[0;34m,\u001b[0m \u001b[0;36m30\u001b[0m\u001b[0;34m)\u001b[0m\u001b[0;34m\u001b[0m\u001b[0;34m\u001b[0m\u001b[0m\n\u001b[0;32m----> 6\u001b[0;31m \u001b[0mfunc\u001b[0m\u001b[0;34m(\u001b[0m\u001b[0margs\u001b[0m\u001b[0;34m)\u001b[0m\u001b[0;34m\u001b[0m\u001b[0;34m\u001b[0m\u001b[0m\n\u001b[0m\u001b[1;32m      7\u001b[0m \u001b[0;31m# (10, 20, 30) => *args => 10, 20, 30\u001b[0m\u001b[0;34m\u001b[0m\u001b[0;34m\u001b[0m\u001b[0m\n",
            "\u001b[0;31mTypeError\u001b[0m: func() missing 2 required positional arguments: 'b' and 'c'"
          ]
        }
      ]
    },
    {
      "cell_type": "code",
      "source": [
        "def print_kwargs(a, **kwargs):\n",
        "    print(a)\n",
        "    print(kwargs)\n",
        "\n",
        "print_kwargs(100, name='Licat', age='10')"
      ],
      "metadata": {
        "colab": {
          "base_uri": "https://localhost:8080/"
        },
        "id": "jFZzJIQFUF-0",
        "outputId": "c8a7a624-8c75-477d-825d-e25c806794e5"
      },
      "execution_count": 50,
      "outputs": [
        {
          "output_type": "stream",
          "name": "stdout",
          "text": [
            "100\n",
            "{'name': 'Licat', 'age': '10'}\n"
          ]
        }
      ]
    },
    {
      "cell_type": "code",
      "source": [
        "def f(a, b, c, d, e):\n",
        "    print(a, b, c, d, e)\n",
        "\n",
        "f(1, 2, 3, 4, 5)"
      ],
      "metadata": {
        "colab": {
          "base_uri": "https://localhost:8080/"
        },
        "id": "3uIkizsDUZn5",
        "outputId": "352b459c-922d-4467-cb67-e6ec4f799f65"
      },
      "execution_count": 53,
      "outputs": [
        {
          "output_type": "stream",
          "name": "stdout",
          "text": [
            "1 2 3 4 5\n"
          ]
        }
      ]
    },
    {
      "cell_type": "code",
      "source": [
        "#키워드아규먼처 -> 딕셔너리 형태\n",
        "def f(a, b, c, d, e):\n",
        "    print(a, b, c, d, e)\n",
        "\n",
        "f(1, 2, e = 3, d = 4, c = 5) # 이렇게 보장해주는 언어가 별로 없음."
      ],
      "metadata": {
        "colab": {
          "base_uri": "https://localhost:8080/"
        },
        "id": "S_9qqJ_RUKNr",
        "outputId": "6656a161-00fc-4fe3-b78b-69688ed873ff"
      },
      "execution_count": 52,
      "outputs": [
        {
          "output_type": "stream",
          "name": "stdout",
          "text": [
            "1 2 5 4 3\n"
          ]
        }
      ]
    },
    {
      "cell_type": "code",
      "source": [
        "def f(*args, **kwargs): # 가변적으로 parameter를 받고 싶을 때,\n",
        "    print(args)\n",
        "    print(kwargs)\n",
        "\n",
        "f(1, 2, e = 3, d = 4, c = 5)"
      ],
      "metadata": {
        "colab": {
          "base_uri": "https://localhost:8080/"
        },
        "id": "C1ajM52DX35k",
        "outputId": "a0d8d9fa-b553-400b-a0f5-fcc459aa20a4"
      },
      "execution_count": 54,
      "outputs": [
        {
          "output_type": "stream",
          "name": "stdout",
          "text": [
            "(1, 2)\n",
            "{'e': 3, 'd': 4, 'c': 5}\n"
          ]
        }
      ]
    },
    {
      "cell_type": "code",
      "source": [
        "# 복습x,\n",
        "# 가능하다 정도로 넘어가요.\n",
        "def print_args_kwargs(*args, **kwargs):\n",
        "    print('args:', args)\n",
        "    print('kwargs:', kwargs)\n",
        "\n",
        "inputlist = [100, True, 'leehojun']\n",
        "inputdic = {'score':100, 'name':'leehojun', 'age':'10'}\n",
        "print_args_kwargs(*inputlist)\n",
        "print('--------')\n",
        "print_args_kwargs(**inputdic)\n",
        "print('--------')\n",
        "print_args_kwargs(*inputlist, **inputdic)"
      ],
      "metadata": {
        "colab": {
          "base_uri": "https://localhost:8080/"
        },
        "id": "1LvxYD_2YQci",
        "outputId": "907dea7c-bc77-4ce7-f8bb-e5edddd44893"
      },
      "execution_count": 55,
      "outputs": [
        {
          "output_type": "stream",
          "name": "stdout",
          "text": [
            "args: (100, True, 'leehojun')\n",
            "kwargs: {}\n",
            "--------\n",
            "args: ()\n",
            "kwargs: {'score': 100, 'name': 'leehojun', 'age': '10'}\n",
            "--------\n",
            "args: (100, True, 'leehojun')\n",
            "kwargs: {'score': 100, 'name': 'leehojun', 'age': '10'}\n"
          ]
        }
      ]
    },
    {
      "cell_type": "code",
      "source": [
        "# 복습x,\n",
        "# 가능하다 정도로 넘어가요.\n",
        "one, two, *three = 1, 2, 3, 4, 5\n",
        "print(one, two, three)"
      ],
      "metadata": {
        "colab": {
          "base_uri": "https://localhost:8080/"
        },
        "id": "wRdI43ujYlYm",
        "outputId": "617951c0-6a8f-4b39-8b96-4a390407f50e"
      },
      "execution_count": 56,
      "outputs": [
        {
          "output_type": "stream",
          "name": "stdout",
          "text": [
            "1 2 [3, 4, 5]\n"
          ]
        }
      ]
    },
    {
      "cell_type": "code",
      "source": [
        "# 복습x,\n",
        "# 가능하다 정도로 넘어가요.\n",
        "a, b, c = range(3)\n",
        "a\n"
      ],
      "metadata": {
        "colab": {
          "base_uri": "https://localhost:8080/"
        },
        "id": "FBAGLYyGYrW8",
        "outputId": "ae4a65a2-7b98-4c92-ee06-144b9053f49c"
      },
      "execution_count": 57,
      "outputs": [
        {
          "output_type": "execute_result",
          "data": {
            "text/plain": [
              "0"
            ]
          },
          "metadata": {},
          "execution_count": 57
        }
      ]
    },
    {
      "cell_type": "code",
      "source": [
        "# 복습x,\n",
        "# 가능하다 정도로 넘어가요.\n",
        "a, b, *c = 'hello world'\n",
        "c # 출력: ['l', 'l', 'o', ' ', 'w', 'o', 'r', 'l', 'd']"
      ],
      "metadata": {
        "colab": {
          "base_uri": "https://localhost:8080/"
        },
        "id": "A8DpLVNVYwtk",
        "outputId": "261e721d-8c28-4f82-bbf4-27fd7a39a3d6"
      },
      "execution_count": 58,
      "outputs": [
        {
          "output_type": "execute_result",
          "data": {
            "text/plain": [
              "['l', 'l', 'o', ' ', 'w', 'o', 'r', 'l', 'd']"
            ]
          },
          "metadata": {},
          "execution_count": 58
        }
      ]
    },
    {
      "cell_type": "markdown",
      "source": [
        "# 이터레이터와 제너레이터"
      ],
      "metadata": {
        "id": "hjcf6fQ8ZEz4"
      }
    },
    {
      "cell_type": "code",
      "source": [
        "# 이터레이터: 값을 차례대로 꺼낼 수 있는 객체\n",
        "# 시퀀스형 자료형이란?\n",
        "# 제너레이터는 이터레이터를 만드는 함수(이터러블한 객체 만들면 제너레이)\n",
        "\n",
        "# dict는 이터레이터인가요? YES\n",
        "\n",
        "for i in {'one': 1, 'two': 2}:\n",
        "    print(i)\n",
        "\n",
        "list(map(lambda x:x[0], {'one': 1, 'two': 2}))\n",
        "\n",
        "# dict는 시퀀스형 자료형인가요? NO\n",
        "# {'one': 1, 'two': 2}[2:] -> error 슬라이싱, 인덱싱 안됨"
      ],
      "metadata": {
        "colab": {
          "base_uri": "https://localhost:8080/"
        },
        "id": "y0dmANhwZHmI",
        "outputId": "5f8eb35f-fb1f-4947-8356-2f8a331a31a3"
      },
      "execution_count": 62,
      "outputs": [
        {
          "output_type": "stream",
          "name": "stdout",
          "text": [
            "one\n",
            "two\n"
          ]
        },
        {
          "output_type": "execute_result",
          "data": {
            "text/plain": [
              "['o', 't']"
            ]
          },
          "metadata": {},
          "execution_count": 62
        }
      ]
    },
    {
      "cell_type": "code",
      "source": [
        "class MyIterator:\n",
        "    def __init__(self, stop):\n",
        "        self.current_value = 0  # 현재 값\n",
        "        self.stop = stop  # 순회를 멈출 값\n",
        "\n",
        "    def __iter__(self):\n",
        "        return self\n",
        "\n",
        "    def __next__(self):\n",
        "        if self.current_value >= self.stop:\n",
        "            raise StopIteration\n",
        "        result = self.current_value\n",
        "        self.current_value += 1\n",
        "        return result\n",
        "\n",
        "my_iterator = MyIterator(5)\n",
        "\n",
        "for i in my_iterator:\n",
        "    print(i)"
      ],
      "metadata": {
        "colab": {
          "base_uri": "https://localhost:8080/"
        },
        "id": "yPH-koIUaAjL",
        "outputId": "b9ae358a-1d0d-47fb-cb75-4acd701d6459"
      },
      "execution_count": 63,
      "outputs": [
        {
          "output_type": "stream",
          "name": "stdout",
          "text": [
            "0\n",
            "1\n",
            "2\n",
            "3\n",
            "4\n"
          ]
        }
      ]
    },
    {
      "cell_type": "code",
      "source": [
        "class MyIterator:\n",
        "    def __init__(self, stop):\n",
        "        self.current_value = 0  # 현재 값\n",
        "        self.stop = stop  # 순회를 멈출 값\n",
        "\n",
        "    def __iter__(self):\n",
        "        return self\n",
        "\n",
        "    def __next__(self):\n",
        "        if self.current_value >= self.stop:\n",
        "            raise StopIteration\n",
        "        result = self.current_value\n",
        "        self.current_value += 1\n",
        "        return result\n",
        "\n",
        "x = iter(MyIterator(5)) #for문의 시작\n",
        "\n",
        "print(next(x))\n",
        "print(next(x))\n",
        "print(next(x))\n",
        "print(next(x))\n",
        "print(next(x))\n",
        "print(next(x)) #stopiteration이라는 에러를 만나서 for문이 멈춤\n",
        "\n"
      ],
      "metadata": {
        "id": "Wjv4Jb0caSni"
      },
      "execution_count": null,
      "outputs": []
    },
    {
      "cell_type": "code",
      "source": [
        "#초기화 하면 다시 사용할 수 있음.\n",
        "\n",
        "class MyIterator:\n",
        "    def __init__(self, stop):\n",
        "        self.stop = stop\n",
        "\n",
        "    def __iter__(self):\n",
        "        self.current_value = 0  # __iter__에서 초기화\n",
        "        return self\n",
        "\n",
        "    def __next__(self):\n",
        "        if self.current_value >= self.stop:\n",
        "            raise StopIteration\n",
        "        result = self.current_value\n",
        "        self.current_value += 1\n",
        "        return result\n",
        "\n",
        "my_iterator = MyIterator(5)\n",
        "\n",
        "for i in my_iterator:\n",
        "    print(i)"
      ],
      "metadata": {
        "id": "UCBcf_7HbP--"
      },
      "execution_count": null,
      "outputs": []
    },
    {
      "cell_type": "code",
      "source": [
        "#sorted만 재순회가능\n",
        "#zip은 재순회 불가능, 초기화 안됨.\n",
        "x= zip('hello', 'world')\n",
        "for i in x:\n",
        "    print(i)\n",
        "\n",
        "for i in x:\n",
        "    print(i)"
      ],
      "metadata": {
        "colab": {
          "base_uri": "https://localhost:8080/"
        },
        "id": "SWLcAwAHbVOO",
        "outputId": "88e2a655-8771-4157-82e9-d270f6a733f6"
      },
      "execution_count": 75,
      "outputs": [
        {
          "output_type": "stream",
          "name": "stdout",
          "text": [
            "('h', 'w')\n",
            "('e', 'o')\n",
            "('l', 'r')\n",
            "('l', 'l')\n",
            "('o', 'd')\n"
          ]
        }
      ]
    },
    {
      "cell_type": "code",
      "source": [
        "# 제너레이터는 이터레이터를 생성해줍니다. yield 키워드를 사용하여 만듭니다.\n",
        "\n",
        "def my_generator():\n",
        "    x = 10\n",
        "    yield x\n",
        "    x = 20\n",
        "    yield x\n",
        "    x = 30\n",
        "    yield x\n",
        "    return #종료됨\n",
        "    x = 40\n",
        "    yield x\n",
        "\n",
        "for i in my_generator():\n",
        "    print(i)\n"
      ],
      "metadata": {
        "colab": {
          "base_uri": "https://localhost:8080/"
        },
        "id": "8XNoP7sTbyez",
        "outputId": "0560fdde-1a02-4d34-e7c1-7c948e8868e4"
      },
      "execution_count": 77,
      "outputs": [
        {
          "output_type": "stream",
          "name": "stdout",
          "text": [
            "10\n",
            "20\n",
            "30\n",
            "40\n"
          ]
        }
      ]
    },
    {
      "cell_type": "code",
      "source": [
        "def my_generator():\n",
        "    x = 10\n",
        "    yield x\n",
        "    x = 20\n",
        "    yield x\n",
        "    x = 30\n",
        "    yield x\n",
        "    x = 40\n",
        "    yield x\n",
        "\n",
        "for i in my_generator():\n",
        "    print(i)\n"
      ],
      "metadata": {
        "colab": {
          "base_uri": "https://localhost:8080/"
        },
        "id": "GOlp46AicNOs",
        "outputId": "c5ac4b6f-da7c-47e7-fe0d-9b59e713b0ae"
      },
      "execution_count": 78,
      "outputs": [
        {
          "output_type": "stream",
          "name": "stdout",
          "text": [
            "10\n",
            "20\n",
            "30\n",
            "40\n"
          ]
        }
      ]
    },
    {
      "cell_type": "code",
      "source": [
        "def my_generator():\n",
        "    x = 10\n",
        "    yield x\n",
        "    x = 20\n",
        "    yield x\n",
        "    x = 30\n",
        "    yield x\n",
        "    x = 40\n",
        "    yield x\n",
        "\n",
        "list(zip('hello', my_generator())) #제너레이터를 실행한 결과값 = 이터레이터\n",
        "# hello도 문자열로 이터레이터니까\n",
        "# 이터레이터 + 이터레이터 조합이라서 이렇게 리스트로 연결가능한 것이다."
      ],
      "metadata": {
        "colab": {
          "base_uri": "https://localhost:8080/"
        },
        "id": "fhRQBGRvcRZJ",
        "outputId": "0a62338b-8a04-4b22-a79e-9b63801f5789"
      },
      "execution_count": 79,
      "outputs": [
        {
          "output_type": "execute_result",
          "data": {
            "text/plain": [
              "[('h', 10), ('e', 20), ('l', 30), ('l', 40)]"
            ]
          },
          "metadata": {},
          "execution_count": 79
        }
      ]
    },
    {
      "cell_type": "code",
      "source": [
        "#무한 제너레이터 - 짝을 지어서 생성\n",
        "#제너레이터 에너지 효율이 좋아서 사용을 권장함\n",
        "\n",
        "def my_generator():\n",
        "    x = 0\n",
        "    while True:\n",
        "        yield x\n",
        "        x += 2\n",
        "\n",
        "list(zip('hello', my_generator()))"
      ],
      "metadata": {
        "colab": {
          "base_uri": "https://localhost:8080/"
        },
        "id": "KJ0gbe5Fc5Bw",
        "outputId": "7e1763ef-ecc2-4109-f7ca-d8e2c0aa16f8"
      },
      "execution_count": 80,
      "outputs": [
        {
          "output_type": "execute_result",
          "data": {
            "text/plain": [
              "[('h', 0), ('e', 2), ('l', 4), ('l', 6), ('o', 8)]"
            ]
          },
          "metadata": {},
          "execution_count": 80
        }
      ]
    },
    {
      "cell_type": "code",
      "source": [
        "def my_generator():\n",
        "    l = ['짝', '홀']\n",
        "    x = 0\n",
        "    while True:\n",
        "        if x == 0:\n",
        "            yield '짝'\n",
        "        else:\n",
        "            yield '홀'\n",
        "            x == 0\n",
        "\n",
        "list(zip([0, 1, 2, 3, 4, 5, 6], my_generator()))"
      ],
      "metadata": {
        "colab": {
          "base_uri": "https://localhost:8080/"
        },
        "id": "IXJmwFf8d5Fz",
        "outputId": "c6cd3368-54ae-48c6-e17b-028506dcfb6e"
      },
      "execution_count": 81,
      "outputs": [
        {
          "output_type": "execute_result",
          "data": {
            "text/plain": [
              "[(0, '짝'), (1, '짝'), (2, '짝'), (3, '짝'), (4, '짝'), (5, '짝'), (6, '짝')]"
            ]
          },
          "metadata": {},
          "execution_count": 81
        }
      ]
    },
    {
      "cell_type": "code",
      "source": [
        "def my_generator():\n",
        "    l = ['짝', '홀']\n",
        "    while True:\n",
        "        yield l[t := False] # 이 문법은 시중에 어떤 책도 언급하지 못함. #왈러스 연산자 #false == 0\n",
        "        yield l[t := True] # true == 1\n",
        "\n",
        "list(zip([0, 1, 2, 3, 4, 5, 6], my_generator()))"
      ],
      "metadata": {
        "id": "Mx-zXqKqeJEs"
      },
      "execution_count": null,
      "outputs": []
    },
    {
      "cell_type": "code",
      "source": [
        "# 바다코끼리, 왈러스 연산자\n",
        "x = 10\n",
        "while x := x-1:\n",
        "    print(x)"
      ],
      "metadata": {
        "colab": {
          "base_uri": "https://localhost:8080/"
        },
        "id": "NFmTYSFaeqXZ",
        "outputId": "fd8c5495-6706-4b2a-a98f-0bb0fc47c6aa"
      },
      "execution_count": 82,
      "outputs": [
        {
          "output_type": "stream",
          "name": "stdout",
          "text": [
            "9\n",
            "8\n",
            "7\n",
            "6\n",
            "5\n",
            "4\n",
            "3\n",
            "2\n",
            "1\n"
          ]
        }
      ]
    },
    {
      "cell_type": "code",
      "source": [
        "#list가 비면 = False -> error\n",
        "ㅣ = [10, 20, 30]\n",
        "while l:\n",
        "    print(l.pop())"
      ],
      "metadata": {
        "colab": {
          "base_uri": "https://localhost:8080/",
          "height": 221
        },
        "id": "zJK7DScQfFnP",
        "outputId": "70bbdae1-f046-419f-8f60-f9b4bb8de695"
      },
      "execution_count": 83,
      "outputs": [
        {
          "output_type": "error",
          "ename": "AttributeError",
          "evalue": "'function' object has no attribute 'pop'",
          "traceback": [
            "\u001b[0;31m---------------------------------------------------------------------------\u001b[0m",
            "\u001b[0;31mAttributeError\u001b[0m                            Traceback (most recent call last)",
            "\u001b[0;32m<ipython-input-83-e2ef97ec4941>\u001b[0m in \u001b[0;36m<cell line: 2>\u001b[0;34m()\u001b[0m\n\u001b[1;32m      1\u001b[0m \u001b[0mㅣ\u001b[0m \u001b[0;34m=\u001b[0m \u001b[0;34m[\u001b[0m\u001b[0;36m10\u001b[0m\u001b[0;34m,\u001b[0m \u001b[0;36m20\u001b[0m\u001b[0;34m,\u001b[0m \u001b[0;36m30\u001b[0m\u001b[0;34m]\u001b[0m\u001b[0;34m\u001b[0m\u001b[0;34m\u001b[0m\u001b[0m\n\u001b[1;32m      2\u001b[0m \u001b[0;32mwhile\u001b[0m \u001b[0ml\u001b[0m\u001b[0;34m:\u001b[0m\u001b[0;34m\u001b[0m\u001b[0;34m\u001b[0m\u001b[0m\n\u001b[0;32m----> 3\u001b[0;31m     \u001b[0mprint\u001b[0m\u001b[0;34m(\u001b[0m\u001b[0ml\u001b[0m\u001b[0;34m.\u001b[0m\u001b[0mpop\u001b[0m\u001b[0;34m(\u001b[0m\u001b[0;34m)\u001b[0m\u001b[0;34m)\u001b[0m\u001b[0;34m\u001b[0m\u001b[0;34m\u001b[0m\u001b[0m\n\u001b[0m",
            "\u001b[0;31mAttributeError\u001b[0m: 'function' object has no attribute 'pop'"
          ]
        }
      ]
    },
    {
      "cell_type": "markdown",
      "source": [
        "# non local"
      ],
      "metadata": {
        "id": "AxEmg0l5fUjU"
      }
    },
    {
      "cell_type": "code",
      "source": [
        "# nonlocal은 파이썬의 키워드 중 하나로, 중첩 함수 내부에서 바깥 함수의 변수를 참조할 수 있게 합니다.\n",
        "# nonlocal은 주로 클로저(closure)에서 변수의 값을 변경하고자 할 때 사용합니다.\n",
        "\n",
        "# nonlocal\n",
        "a = 10\n",
        "def f():\n",
        "    a = 100\n",
        "    print(f'f a: {a}')\n",
        "    def ff():\n",
        "        a = 1000\n",
        "        print(f'ff a: {a}')\n",
        "        def fff():\n",
        "            nonlocal a # global a로 변경해보세요.\n",
        "            a = 100\n",
        "            print(f'fff a: {a}')\n",
        "        fff()\n",
        "        print(f'ff a: {a}')\n",
        "    ff()\n",
        "f()\n",
        "print(f'global a: {a}')"
      ],
      "metadata": {
        "id": "MDSQEYM0fcDQ"
      },
      "execution_count": null,
      "outputs": []
    },
    {
      "cell_type": "markdown",
      "source": [
        "# 모듈 - 별표 4개"
      ],
      "metadata": {
        "id": "go6BPoefgx0M"
      }
    },
    {
      "cell_type": "code",
      "source": [
        "# 모듈이란 클래스나 함수, 변수를 다른 파일(.py)에 작성하여\n",
        "# 다른 파이썬 코드에서 재사용할 수 있도록 한 것입니다\n",
        "\n",
        "# step 1: info.py 생성"
      ],
      "metadata": {
        "id": "vH1t8Z0MhO-x"
      },
      "execution_count": null,
      "outputs": []
    },
    {
      "cell_type": "code",
      "source": [
        "import info # info.py를 가져오겠다!\n",
        "\n",
        "info.name\n",
        "info.age\n",
        "info.hello() #괄호없으면 어떤 객체인지 나옴. 괄호 넣으면 함수 실행됨."
      ],
      "metadata": {
        "colab": {
          "base_uri": "https://localhost:8080/"
        },
        "id": "LnLI3_Kxh5D5",
        "outputId": "4c0bacf0-e096-4a7c-b576-fbfd000a3fbc"
      },
      "execution_count": 97,
      "outputs": [
        {
          "output_type": "stream",
          "name": "stdout",
          "text": [
            "안녕하세요 저는 이호준입니다.\n"
          ]
        }
      ]
    },
    {
      "cell_type": "code",
      "source": [
        "import info as q # info 라는 이름 대신 q\n",
        "\n",
        "q.name\n",
        "q.age\n",
        "q.hello()"
      ],
      "metadata": {
        "colab": {
          "base_uri": "https://localhost:8080/"
        },
        "id": "mkXO7IoNiNVh",
        "outputId": "2785fb31-b265-478c-c8df-1f5f009368b6"
      },
      "execution_count": 98,
      "outputs": [
        {
          "output_type": "stream",
          "name": "stdout",
          "text": [
            "안녕하세요 저는 이호준입니다.\n"
          ]
        }
      ]
    },
    {
      "cell_type": "code",
      "source": [
        "# 정말 많이 사용하는 코드\n",
        "\n",
        "import pandas as pd\n",
        "import numpy as np"
      ],
      "metadata": {
        "id": "FThiJV58ie29"
      },
      "execution_count": null,
      "outputs": []
    },
    {
      "cell_type": "code",
      "source": [
        "# a > b > c > infotest.py 파일이 있을 경우\n",
        "\n",
        "import a.b.c.infotest as q\n",
        "\n",
        "q.name\n"
      ],
      "metadata": {
        "colab": {
          "base_uri": "https://localhost:8080/",
          "height": 35
        },
        "id": "OYJGcIW1z1ih",
        "outputId": "fe2cac6f-29d8-41e4-ce17-307ddedee90e"
      },
      "execution_count": 99,
      "outputs": [
        {
          "output_type": "execute_result",
          "data": {
            "text/plain": [
              "'hojun'"
            ],
            "application/vnd.google.colaboratory.intrinsic+json": {
              "type": "string"
            }
          },
          "metadata": {},
          "execution_count": 99
        }
      ]
    },
    {
      "cell_type": "code",
      "source": [
        "import sys\n",
        "\n",
        "sys.path # 모듈을 읽어오는 경로\n",
        "sys.modules # 기본적으로 읽어온 모듈들"
      ],
      "metadata": {
        "colab": {
          "base_uri": "https://localhost:8080/"
        },
        "id": "1kPviDZu2dJ0",
        "outputId": "5ed0564e-5895-4419-e9e5-7bf8128ef5e2"
      },
      "execution_count": 100,
      "outputs": [
        {
          "output_type": "execute_result",
          "data": {
            "text/plain": [
              "{'sys': <module 'sys' (built-in)>,\n",
              " 'builtins': <module 'builtins' (built-in)>,\n",
              " '_frozen_importlib': <module '_frozen_importlib' (frozen)>,\n",
              " '_imp': <module '_imp' (built-in)>,\n",
              " '_thread': <module '_thread' (built-in)>,\n",
              " '_warnings': <module '_warnings' (built-in)>,\n",
              " '_weakref': <module '_weakref' (built-in)>,\n",
              " '_io': <module '_io' (built-in)>,\n",
              " 'marshal': <module 'marshal' (built-in)>,\n",
              " 'posix': <module 'posix' (built-in)>,\n",
              " '_frozen_importlib_external': <module '_frozen_importlib_external' (frozen)>,\n",
              " 'time': <module 'time' (built-in)>,\n",
              " 'zipimport': <module 'zipimport' (frozen)>,\n",
              " '_codecs': <module '_codecs' (built-in)>,\n",
              " 'codecs': <module 'codecs' from '/usr/lib/python3.10/codecs.py'>,\n",
              " 'encodings.aliases': <module 'encodings.aliases' from '/usr/lib/python3.10/encodings/aliases.py'>,\n",
              " 'encodings': <module 'encodings' from '/usr/lib/python3.10/encodings/__init__.py'>,\n",
              " 'encodings.utf_8': <module 'encodings.utf_8' from '/usr/lib/python3.10/encodings/utf_8.py'>,\n",
              " '_signal': <module '_signal' (built-in)>,\n",
              " '_abc': <module '_abc' (built-in)>,\n",
              " 'abc': <module 'abc' from '/usr/lib/python3.10/abc.py'>,\n",
              " 'io': <module 'io' from '/usr/lib/python3.10/io.py'>,\n",
              " '__main__': <module '__main__'>,\n",
              " 'types': <module 'types' from '/usr/lib/python3.10/types.py'>,\n",
              " 'enum': <module 'enum' from '/usr/lib/python3.10/enum.py'>,\n",
              " '_sre': <module '_sre' (built-in)>,\n",
              " 'sre_constants': <module 'sre_constants' from '/usr/lib/python3.10/sre_constants.py'>,\n",
              " 'sre_parse': <module 'sre_parse' from '/usr/lib/python3.10/sre_parse.py'>,\n",
              " 'sre_compile': <module 'sre_compile' from '/usr/lib/python3.10/sre_compile.py'>,\n",
              " '_collections_abc': <module '_collections_abc' from '/usr/lib/python3.10/_collections_abc.py'>,\n",
              " 'itertools': <module 'itertools' (built-in)>,\n",
              " 'keyword': <module 'keyword' from '/usr/lib/python3.10/keyword.py'>,\n",
              " '_operator': <module '_operator' (built-in)>,\n",
              " 'operator': <module 'operator' from '/usr/lib/python3.10/operator.py'>,\n",
              " 'reprlib': <module 'reprlib' from '/usr/lib/python3.10/reprlib.py'>,\n",
              " '_collections': <module '_collections' (built-in)>,\n",
              " 'collections': <module 'collections' from '/usr/lib/python3.10/collections/__init__.py'>,\n",
              " '_functools': <module '_functools' (built-in)>,\n",
              " 'functools': <module 'functools' from '/usr/lib/python3.10/functools.py'>,\n",
              " '_locale': <module '_locale' (built-in)>,\n",
              " 'copyreg': <module 'copyreg' from '/usr/lib/python3.10/copyreg.py'>,\n",
              " 're': <module 're' from '/usr/lib/python3.10/re.py'>,\n",
              " 'warnings': <module 'warnings' from '/usr/lib/python3.10/warnings.py'>,\n",
              " '_stat': <module '_stat' (built-in)>,\n",
              " 'stat': <module 'stat' from '/usr/lib/python3.10/stat.py'>,\n",
              " 'genericpath': <module 'genericpath' from '/usr/lib/python3.10/genericpath.py'>,\n",
              " 'posixpath': <module 'posixpath' from '/usr/lib/python3.10/posixpath.py'>,\n",
              " 'os.path': <module 'posixpath' from '/usr/lib/python3.10/posixpath.py'>,\n",
              " 'os': <module 'os' from '/usr/lib/python3.10/os.py'>,\n",
              " '_sitebuiltins': <module '_sitebuiltins' from '/usr/lib/python3.10/_sitebuiltins.py'>,\n",
              " '_distutils_hack': <module '_distutils_hack' from '/usr/local/lib/python3.10/dist-packages/_distutils_hack/__init__.py'>,\n",
              " 'importlib._bootstrap': <module '_frozen_importlib' (frozen)>,\n",
              " 'importlib._bootstrap_external': <module '_frozen_importlib_external' (frozen)>,\n",
              " 'importlib': <module 'importlib' from '/usr/lib/python3.10/importlib/__init__.py'>,\n",
              " 'importlib._abc': <module 'importlib._abc' from '/usr/lib/python3.10/importlib/_abc.py'>,\n",
              " 'contextlib': <module 'contextlib' from '/usr/lib/python3.10/contextlib.py'>,\n",
              " 'importlib.util': <module 'importlib.util' from '/usr/lib/python3.10/importlib/util.py'>,\n",
              " 'importlib.machinery': <module 'importlib.machinery' from '/usr/lib/python3.10/importlib/machinery.py'>,\n",
              " 'google': <module 'google' (<_frozen_importlib_external._NamespaceLoader object at 0x7e072692ee90>)>,\n",
              " 'google.cloud': <module 'google.cloud' (<_frozen_importlib_external._NamespaceLoader object at 0x7e072692d4e0>)>,\n",
              " 'mpl_toolkits': <module 'mpl_toolkits' (<_frozen_importlib_external._NamespaceLoader object at 0x7e072692cbe0>)>,\n",
              " 'sphinxcontrib': <module 'sphinxcontrib' (<_frozen_importlib_external._NamespaceLoader object at 0x7e072692cd60>)>,\n",
              " 'sitecustomize': <module 'sitecustomize' from '/usr/lib/python3.10/sitecustomize.py'>,\n",
              " 'site': <module 'site' from '/usr/lib/python3.10/site.py'>,\n",
              " 'runpy': <module 'runpy' from '/usr/lib/python3.10/runpy.py'>,\n",
              " 'ipykernel._version': <module 'ipykernel._version' from '/usr/local/lib/python3.10/dist-packages/ipykernel/_version.py'>,\n",
              " '_json': <module '_json' from '/usr/lib/python3.10/lib-dynload/_json.cpython-310-x86_64-linux-gnu.so'>,\n",
              " 'json.scanner': <module 'json.scanner' from '/usr/lib/python3.10/json/scanner.py'>,\n",
              " 'json.decoder': <module 'json.decoder' from '/usr/lib/python3.10/json/decoder.py'>,\n",
              " 'json.encoder': <module 'json.encoder' from '/usr/lib/python3.10/json/encoder.py'>,\n",
              " 'json': <module 'json' from '/usr/lib/python3.10/json/__init__.py'>,\n",
              " 'errno': <module 'errno' (built-in)>,\n",
              " 'signal': <module 'signal' from '/usr/lib/python3.10/signal.py'>,\n",
              " '_weakrefset': <module '_weakrefset' from '/usr/lib/python3.10/_weakrefset.py'>,\n",
              " 'threading': <module 'threading' from '/usr/lib/python3.10/threading.py'>,\n",
              " 'fcntl': <module 'fcntl' (built-in)>,\n",
              " '_posixsubprocess': <module '_posixsubprocess' (built-in)>,\n",
              " 'select': <module 'select' (built-in)>,\n",
              " 'collections.abc': <module 'collections.abc' from '/usr/lib/python3.10/collections/abc.py'>,\n",
              " 'math': <module 'math' (built-in)>,\n",
              " 'selectors': <module 'selectors' from '/usr/lib/python3.10/selectors.py'>,\n",
              " 'subprocess': <module 'subprocess' from '/usr/lib/python3.10/subprocess.py'>,\n",
              " 'IPython.core': <module 'IPython.core' from '/usr/local/lib/python3.10/dist-packages/IPython/core/__init__.py'>,\n",
              " 'IPython.core.getipython': <module 'IPython.core.getipython' from '/usr/local/lib/python3.10/dist-packages/IPython/core/getipython.py'>,\n",
              " 'IPython.core.release': <module 'IPython.core.release' from '/usr/local/lib/python3.10/dist-packages/IPython/core/release.py'>,\n",
              " 'atexit': <module 'atexit' (built-in)>,\n",
              " 'weakref': <module 'weakref' from '/usr/lib/python3.10/weakref.py'>,\n",
              " 'copy': <module 'copy' from '/usr/lib/python3.10/copy.py'>,\n",
              " 'fnmatch': <module 'fnmatch' from '/usr/lib/python3.10/fnmatch.py'>,\n",
              " 'glob': <module 'glob' from '/usr/lib/python3.10/glob.py'>,\n",
              " 'token': <module 'token' from '/usr/lib/python3.10/token.py'>,\n",
              " 'tokenize': <module 'tokenize' from '/usr/lib/python3.10/tokenize.py'>,\n",
              " 'linecache': <module 'linecache' from '/usr/lib/python3.10/linecache.py'>,\n",
              " 'traceback': <module 'traceback' from '/usr/lib/python3.10/traceback.py'>,\n",
              " '_string': <module '_string' (built-in)>,\n",
              " 'string': <module 'string' from '/usr/lib/python3.10/string.py'>,\n",
              " 'logging': <module 'logging' from '/usr/lib/python3.10/logging/__init__.py'>,\n",
              " 'zlib': <module 'zlib' (built-in)>,\n",
              " '_compression': <module '_compression' from '/usr/lib/python3.10/_compression.py'>,\n",
              " '_bz2': <module '_bz2' from '/usr/lib/python3.10/lib-dynload/_bz2.cpython-310-x86_64-linux-gnu.so'>,\n",
              " 'bz2': <module 'bz2' from '/usr/lib/python3.10/bz2.py'>,\n",
              " '_lzma': <module '_lzma' from '/usr/lib/python3.10/lib-dynload/_lzma.cpython-310-x86_64-linux-gnu.so'>,\n",
              " 'lzma': <module 'lzma' from '/usr/lib/python3.10/lzma.py'>,\n",
              " 'shutil': <module 'shutil' from '/usr/lib/python3.10/shutil.py'>,\n",
              " '_ast': <module '_ast' (built-in)>,\n",
              " 'ast': <module 'ast' from '/usr/lib/python3.10/ast.py'>,\n",
              " '_opcode': <module '_opcode' from '/usr/lib/python3.10/lib-dynload/_opcode.cpython-310-x86_64-linux-gnu.so'>,\n",
              " 'opcode': <module 'opcode' from '/usr/lib/python3.10/opcode.py'>,\n",
              " 'dis': <module 'dis' from '/usr/lib/python3.10/dis.py'>,\n",
              " 'inspect': <module 'inspect' from '/usr/lib/python3.10/inspect.py'>,\n",
              " 'typing.io': typing.io,\n",
              " 'typing.re': typing.re,\n",
              " 'typing': <module 'typing' from '/usr/lib/python3.10/typing.py'>,\n",
              " 'traitlets.utils': <module 'traitlets.utils' from '/usr/local/lib/python3.10/dist-packages/traitlets/utils/__init__.py'>,\n",
              " 'traitlets.utils.bunch': <module 'traitlets.utils.bunch' from '/usr/local/lib/python3.10/dist-packages/traitlets/utils/bunch.py'>,\n",
              " 'traitlets.utils.descriptions': <module 'traitlets.utils.descriptions' from '/usr/local/lib/python3.10/dist-packages/traitlets/utils/descriptions.py'>,\n",
              " 'traitlets.utils.getargspec': <module 'traitlets.utils.getargspec' from '/usr/local/lib/python3.10/dist-packages/traitlets/utils/getargspec.py'>,\n",
              " 'traitlets.utils.importstring': <module 'traitlets.utils.importstring' from '/usr/local/lib/python3.10/dist-packages/traitlets/utils/importstring.py'>,\n",
              " 'traitlets.utils.sentinel': <module 'traitlets.utils.sentinel' from '/usr/local/lib/python3.10/dist-packages/traitlets/utils/sentinel.py'>,\n",
              " 'traitlets.traitlets': <module 'traitlets.traitlets' from '/usr/local/lib/python3.10/dist-packages/traitlets/traitlets.py'>,\n",
              " 'traitlets._version': <module 'traitlets._version' from '/usr/local/lib/python3.10/dist-packages/traitlets/_version.py'>,\n",
              " 'traitlets.utils.decorators': <module 'traitlets.utils.decorators' from '/usr/local/lib/python3.10/dist-packages/traitlets/utils/decorators.py'>,\n",
              " 'traitlets': <module 'traitlets' from '/usr/local/lib/python3.10/dist-packages/traitlets/__init__.py'>,\n",
              " 'dataclasses': <module 'dataclasses' from '/usr/lib/python3.10/dataclasses.py'>,\n",
              " 'pprint': <module 'pprint' from '/usr/lib/python3.10/pprint.py'>,\n",
              " '_socket': <module '_socket' (built-in)>,\n",
              " 'array': <module 'array' (built-in)>,\n",
              " 'socket': <module 'socket' from '/usr/lib/python3.10/socket.py'>,\n",
              " '_struct': <module '_struct' (built-in)>,\n",
              " 'struct': <module 'struct' from '/usr/lib/python3.10/struct.py'>,\n",
              " '_compat_pickle': <module '_compat_pickle' from '/usr/lib/python3.10/_compat_pickle.py'>,\n",
              " '_pickle': <module '_pickle' (built-in)>,\n",
              " 'pickle': <module 'pickle' from '/usr/lib/python3.10/pickle.py'>,\n",
              " '_heapq': <module '_heapq' (built-in)>,\n",
              " 'heapq': <module 'heapq' from '/usr/lib/python3.10/heapq.py'>,\n",
              " '_queue': <module '_queue' from '/usr/lib/python3.10/lib-dynload/_queue.cpython-310-x86_64-linux-gnu.so'>,\n",
              " 'queue': <module 'queue' from '/usr/lib/python3.10/queue.py'>,\n",
              " 'logging.handlers': <module 'logging.handlers' from '/usr/lib/python3.10/logging/handlers.py'>,\n",
              " 'socketserver': <module 'socketserver' from '/usr/lib/python3.10/socketserver.py'>,\n",
              " 'logging.config': <module 'logging.config' from '/usr/lib/python3.10/logging/config.py'>,\n",
              " 'textwrap': <module 'textwrap' from '/usr/lib/python3.10/textwrap.py'>,\n",
              " 'traitlets.utils.text': <module 'traitlets.utils.text' from '/usr/local/lib/python3.10/dist-packages/traitlets/utils/text.py'>,\n",
              " 'gettext': <module 'gettext' from '/usr/lib/python3.10/gettext.py'>,\n",
              " 'argparse': <module 'argparse' from '/usr/lib/python3.10/argparse.py'>,\n",
              " 'traitlets.config.loader': <module 'traitlets.config.loader' from '/usr/local/lib/python3.10/dist-packages/traitlets/config/loader.py'>,\n",
              " 'traitlets.config.configurable': <module 'traitlets.config.configurable' from '/usr/local/lib/python3.10/dist-packages/traitlets/config/configurable.py'>,\n",
              " 'traitlets.utils.nested_update': <module 'traitlets.utils.nested_update' from '/usr/local/lib/python3.10/dist-packages/traitlets/utils/nested_update.py'>,\n",
              " 'traitlets.config.application': <module 'traitlets.config.application' from '/usr/local/lib/python3.10/dist-packages/traitlets/config/application.py'>,\n",
              " 'traitlets.config': <module 'traitlets.config' from '/usr/local/lib/python3.10/dist-packages/traitlets/config/__init__.py'>,\n",
              " 'pkgutil': <module 'pkgutil' from '/usr/lib/python3.10/pkgutil.py'>,\n",
              " 'platform': <module 'platform' from '/usr/lib/python3.10/platform.py'>,\n",
              " 'sysconfig': <module 'sysconfig' from '/usr/lib/python3.10/sysconfig.py'>,\n",
              " 'urllib': <module 'urllib' from '/usr/lib/python3.10/urllib/__init__.py'>,\n",
              " 'urllib.parse': <module 'urllib.parse' from '/usr/lib/python3.10/urllib/parse.py'>,\n",
              " '_sysconfigdata__x86_64-linux-gnu': <module '_sysconfigdata__x86_64-linux-gnu' from '/usr/lib/python3.10/_sysconfigdata__x86_64-linux-gnu.py'>,\n",
              " 'pydoc': <module 'pydoc' from '/usr/lib/python3.10/pydoc.py'>,\n",
              " 'bdb': <module 'bdb' from '/usr/lib/python3.10/bdb.py'>,\n",
              " 'IPython.utils': <module 'IPython.utils' from '/usr/local/lib/python3.10/dist-packages/IPython/utils/__init__.py'>,\n",
              " 'IPython.utils.ipstruct': <module 'IPython.utils.ipstruct' from '/usr/local/lib/python3.10/dist-packages/IPython/utils/ipstruct.py'>,\n",
              " 'IPython.utils.coloransi': <module 'IPython.utils.coloransi' from '/usr/local/lib/python3.10/dist-packages/IPython/utils/coloransi.py'>,\n",
              " 'pygments': <module 'pygments' from '/usr/local/lib/python3.10/dist-packages/pygments/__init__.py'>,\n",
              " 'IPython.utils.colorable': <module 'IPython.utils.colorable' from '/usr/local/lib/python3.10/dist-packages/IPython/utils/colorable.py'>,\n",
              " 'IPython.utils.PyColorize': <module 'IPython.utils.PyColorize' from '/usr/local/lib/python3.10/dist-packages/IPython/utils/PyColorize.py'>,\n",
              " 'locale': <module 'locale' from '/usr/lib/python3.10/locale.py'>,\n",
              " 'IPython.utils.encoding': <module 'IPython.utils.encoding' from '/usr/local/lib/python3.10/dist-packages/IPython/utils/encoding.py'>,\n",
              " 'IPython.utils.py3compat': <module 'IPython.utils.py3compat' from '/usr/local/lib/python3.10/dist-packages/IPython/utils/py3compat.py'>,\n",
              " 'IPython.core.excolors': <module 'IPython.core.excolors' from '/usr/local/lib/python3.10/dist-packages/IPython/core/excolors.py'>,\n",
              " 'IPython.testing': <module 'IPython.testing' from '/usr/local/lib/python3.10/dist-packages/IPython/testing/__init__.py'>,\n",
              " 'IPython.testing.skipdoctest': <module 'IPython.testing.skipdoctest' from '/usr/local/lib/python3.10/dist-packages/IPython/testing/skipdoctest.py'>,\n",
              " 'cmd': <module 'cmd' from '/usr/lib/python3.10/cmd.py'>,\n",
              " '__future__': <module '__future__' from '/usr/lib/python3.10/__future__.py'>,\n",
              " 'codeop': <module 'codeop' from '/usr/lib/python3.10/codeop.py'>,\n",
              " 'code': <module 'code' from '/usr/lib/python3.10/code.py'>,\n",
              " 'pdb': <module 'pdb' from '/usr/lib/python3.10/pdb.py'>,\n",
              " 'IPython.core.debugger': <module 'IPython.core.debugger' from '/usr/local/lib/python3.10/dist-packages/IPython/core/debugger.py'>,\n",
              " 'IPython.core.display_trap': <module 'IPython.core.display_trap' from '/usr/local/lib/python3.10/dist-packages/IPython/core/display_trap.py'>,\n",
              " '_bisect': <module '_bisect' (built-in)>,\n",
              " 'bisect': <module 'bisect' from '/usr/lib/python3.10/bisect.py'>,\n",
              " '_random': <module '_random' (built-in)>,\n",
              " '_sha512': <module '_sha512' (built-in)>,\n",
              " 'random': <module 'random' from '/usr/lib/python3.10/random.py'>,\n",
              " 'pexpect.exceptions': <module 'pexpect.exceptions' from '/usr/local/lib/python3.10/dist-packages/pexpect/exceptions.py'>,\n",
              " 'pexpect.utils': <module 'pexpect.utils' from '/usr/local/lib/python3.10/dist-packages/pexpect/utils.py'>,\n",
              " 'pexpect.expect': <module 'pexpect.expect' from '/usr/local/lib/python3.10/dist-packages/pexpect/expect.py'>,\n",
              " 'termios': <module 'termios' from '/usr/lib/python3.10/lib-dynload/termios.cpython-310-x86_64-linux-gnu.so'>,\n",
              " 'tty': <module 'tty' from '/usr/lib/python3.10/tty.py'>,\n",
              " 'pty': <module 'pty' from '/usr/lib/python3.10/pty.py'>,\n",
              " 'resource': <module 'resource' from '/usr/lib/python3.10/lib-dynload/resource.cpython-310-x86_64-linux-gnu.so'>,\n",
              " 'ptyprocess.util': <module 'ptyprocess.util' from '/usr/local/lib/python3.10/dist-packages/ptyprocess/util.py'>,\n",
              " 'ptyprocess.ptyprocess': <module 'ptyprocess.ptyprocess' from '/usr/local/lib/python3.10/dist-packages/ptyprocess/ptyprocess.py'>,\n",
              " 'ptyprocess': <module 'ptyprocess' from '/usr/local/lib/python3.10/dist-packages/ptyprocess/__init__.py'>,\n",
              " 'pexpect.spawnbase': <module 'pexpect.spawnbase' from '/usr/local/lib/python3.10/dist-packages/pexpect/spawnbase.py'>,\n",
              " 'pexpect.pty_spawn': <module 'pexpect.pty_spawn' from '/usr/local/lib/python3.10/dist-packages/pexpect/pty_spawn.py'>,\n",
              " 'pexpect.run': <module 'pexpect.run' from '/usr/local/lib/python3.10/dist-packages/pexpect/run.py'>,\n",
              " 'pexpect': <module 'pexpect' from '/usr/local/lib/python3.10/dist-packages/pexpect/__init__.py'>,\n",
              " 'shlex': <module 'shlex' from '/usr/lib/python3.10/shlex.py'>,\n",
              " 'IPython.utils._process_common': <module 'IPython.utils._process_common' from '/usr/local/lib/python3.10/dist-packages/IPython/utils/_process_common.py'>,\n",
              " 'IPython.utils._process_posix': <module 'IPython.utils._process_posix' from '/usr/local/lib/python3.10/dist-packages/IPython/utils/_process_posix.py'>,\n",
              " 'IPython.utils.process': <module 'IPython.utils.process' from '/usr/local/lib/python3.10/dist-packages/IPython/utils/process.py'>,\n",
              " 'IPython.utils.decorators': <module 'IPython.utils.decorators' from '/usr/local/lib/python3.10/dist-packages/IPython/utils/decorators.py'>,\n",
              " 'IPython.utils.path': <module 'IPython.utils.path' from '/usr/local/lib/python3.10/dist-packages/IPython/utils/path.py'>,\n",
              " 'IPython.utils.data': <module 'IPython.utils.data' from '/usr/local/lib/python3.10/dist-packages/IPython/utils/data.py'>,\n",
              " 'IPython.utils.terminal': <module 'IPython.utils.terminal' from '/usr/local/lib/python3.10/dist-packages/IPython/utils/terminal.py'>,\n",
              " 'IPython.core.ultratb': <module 'IPython.core.ultratb' from '/usr/local/lib/python3.10/dist-packages/IPython/core/ultratb.py'>,\n",
              " 'IPython.utils._sysinfo': <module 'IPython.utils._sysinfo' from '/usr/local/lib/python3.10/dist-packages/IPython/utils/_sysinfo.py'>,\n",
              " 'IPython.utils.sysinfo': <module 'IPython.utils.sysinfo' from '/usr/local/lib/python3.10/dist-packages/IPython/utils/sysinfo.py'>,\n",
              " 'IPython.core.crashhandler': <module 'IPython.core.crashhandler' from '/usr/local/lib/python3.10/dist-packages/IPython/core/crashhandler.py'>,\n",
              " 'tempfile': <module 'tempfile' from '/usr/lib/python3.10/tempfile.py'>,\n",
              " 'IPython.utils.importstring': <module 'IPython.utils.importstring' from '/usr/local/lib/python3.10/dist-packages/IPython/utils/importstring.py'>,\n",
              " 'IPython.paths': <module 'IPython.paths' from '/usr/local/lib/python3.10/dist-packages/IPython/paths.py'>,\n",
              " 'IPython.core.profiledir': <module 'IPython.core.profiledir' from '/usr/local/lib/python3.10/dist-packages/IPython/core/profiledir.py'>,\n",
              " 'IPython.core.application': <module 'IPython.core.application' from '/usr/local/lib/python3.10/dist-packages/IPython/core/application.py'>,\n",
              " 'IPython.terminal': <module 'IPython.terminal' from '/usr/local/lib/python3.10/dist-packages/IPython/terminal/__init__.py'>,\n",
              " '_hashlib': <module '_hashlib' from '/usr/lib/python3.10/lib-dynload/_hashlib.cpython-310-x86_64-linux-gnu.so'>,\n",
              " '_blake2': <module '_blake2' (built-in)>,\n",
              " 'hashlib': <module 'hashlib' from '/usr/lib/python3.10/hashlib.py'>,\n",
              " 'IPython.core.compilerop': <module 'IPython.core.compilerop' from '/usr/local/lib/python3.10/dist-packages/IPython/core/compilerop.py'>,\n",
              " 'IPython.core.error': <module 'IPython.core.error' from '/usr/local/lib/python3.10/dist-packages/IPython/core/error.py'>,\n",
              " 'ntpath': <module 'ntpath' from '/usr/lib/python3.10/ntpath.py'>,\n",
              " 'pathlib': <module 'pathlib' from '/usr/lib/python3.10/pathlib.py'>,\n",
              " 'IPython.utils.text': <module 'IPython.utils.text' from '/usr/local/lib/python3.10/dist-packages/IPython/utils/text.py'>,\n",
              " 'IPython.core.magic_arguments': <module 'IPython.core.magic_arguments' from '/usr/local/lib/python3.10/dist-packages/IPython/core/magic_arguments.py'>,\n",
              " 'getopt': <module 'getopt' from '/usr/lib/python3.10/getopt.py'>,\n",
              " 'binascii': <module 'binascii' (built-in)>,\n",
              " 'mimetypes': <module 'mimetypes' from '/usr/lib/python3.10/mimetypes.py'>,\n",
              " 'IPython.core.display': <module 'IPython.core.display' from '/usr/local/lib/python3.10/dist-packages/IPython/core/display.py'>,\n",
              " 'IPython.core.page': <module 'IPython.core.page' from '/usr/local/lib/python3.10/dist-packages/IPython/core/page.py'>,\n",
              " 'getpass': <module 'getpass' from '/usr/lib/python3.10/getpass.py'>,\n",
              " 'IPython.lib.security': <module 'IPython.lib.security' from '/usr/local/lib/python3.10/dist-packages/IPython/lib/security.py'>,\n",
              " 'IPython.lib': <module 'IPython.lib' from '/usr/local/lib/python3.10/dist-packages/IPython/lib/__init__.py'>,\n",
              " '_datetime': <module '_datetime' (built-in)>,\n",
              " 'datetime': <module 'datetime' from '/usr/lib/python3.10/datetime.py'>,\n",
              " 'IPython.lib.pretty': <module 'IPython.lib.pretty' from '/usr/local/lib/python3.10/dist-packages/IPython/lib/pretty.py'>,\n",
              " 'IPython.utils.openpy': <module 'IPython.utils.openpy' from '/usr/local/lib/python3.10/dist-packages/IPython/utils/openpy.py'>,\n",
              " 'IPython.utils.dir2': <module 'IPython.utils.dir2' from '/usr/local/lib/python3.10/dist-packages/IPython/utils/dir2.py'>,\n",
              " 'IPython.utils.wildcard': <module 'IPython.utils.wildcard' from '/usr/local/lib/python3.10/dist-packages/IPython/utils/wildcard.py'>,\n",
              " 'pygments.lexers._mapping': <module 'pygments.lexers._mapping' from '/usr/local/lib/python3.10/dist-packages/pygments/lexers/_mapping.py'>,\n",
              " 'pygments.modeline': <module 'pygments.modeline' from '/usr/local/lib/python3.10/dist-packages/pygments/modeline.py'>,\n",
              " 'pygments.plugin': <module 'pygments.plugin' from '/usr/local/lib/python3.10/dist-packages/pygments/plugin.py'>,\n",
              " 'pygments.util': <module 'pygments.util' from '/usr/local/lib/python3.10/dist-packages/pygments/util.py'>,\n",
              " 'pygments.lexers': <module 'pygments.lexers' from '/usr/local/lib/python3.10/dist-packages/pygments/lexers/__init__.py'>,\n",
              " 'pygments.filter': <module 'pygments.filter' from '/usr/local/lib/python3.10/dist-packages/pygments/filter.py'>,\n",
              " 'pygments.token': <module 'pygments.token' from '/usr/local/lib/python3.10/dist-packages/pygments/token.py'>,\n",
              " 'pygments.filters': <module 'pygments.filters' from '/usr/local/lib/python3.10/dist-packages/pygments/filters/__init__.py'>,\n",
              " 'pygments.regexopt': <module 'pygments.regexopt' from '/usr/local/lib/python3.10/dist-packages/pygments/regexopt.py'>,\n",
              " 'pygments.lexer': <module 'pygments.lexer' from '/usr/local/lib/python3.10/dist-packages/pygments/lexer.py'>,\n",
              " 'pygments.unistring': <module 'pygments.unistring' from '/usr/local/lib/python3.10/dist-packages/pygments/unistring.py'>,\n",
              " 'pygments.lexers.python': <module 'pygments.lexers.python' from '/usr/local/lib/python3.10/dist-packages/pygments/lexers/python.py'>,\n",
              " 'pygments.formatters._mapping': <module 'pygments.formatters._mapping' from '/usr/local/lib/python3.10/dist-packages/pygments/formatters/_mapping.py'>,\n",
              " 'pygments.formatters': <module 'pygments.formatters' from '/usr/local/lib/python3.10/dist-packages/pygments/formatters/__init__.py'>,\n",
              " 'pygments.styles': <module 'pygments.styles' from '/usr/local/lib/python3.10/dist-packages/pygments/styles/__init__.py'>,\n",
              " 'pygments.formatter': <module 'pygments.formatter' from '/usr/local/lib/python3.10/dist-packages/pygments/formatter.py'>,\n",
              " 'pygments.formatters.html': <module 'pygments.formatters.html' from '/usr/local/lib/python3.10/dist-packages/pygments/formatters/html.py'>,\n",
              " 'IPython.core.oinspect': <module 'IPython.core.oinspect' from '/usr/local/lib/python3.10/dist-packages/IPython/core/oinspect.py'>,\n",
              " 'IPython.core.inputtransformer2': <module 'IPython.core.inputtransformer2' from '/usr/local/lib/python3.10/dist-packages/IPython/core/inputtransformer2.py'>,\n",
              " 'decorator': <module 'decorator' from '/usr/local/lib/python3.10/dist-packages/decorator.py'>,\n",
              " 'IPython.core.magic': <module 'IPython.core.magic' from '/usr/local/lib/python3.10/dist-packages/IPython/core/magic.py'>,\n",
              " 'pickleshare': <module 'pickleshare' from '/usr/local/lib/python3.10/dist-packages/pickleshare.py'>,\n",
              " 'IPython.core.autocall': <module 'IPython.core.autocall' from '/usr/local/lib/python3.10/dist-packages/IPython/core/autocall.py'>,\n",
              " 'IPython.core.macro': <module 'IPython.core.macro' from '/usr/local/lib/python3.10/dist-packages/IPython/core/macro.py'>,\n",
              " 'IPython.core.splitinput': <module 'IPython.core.splitinput' from '/usr/local/lib/python3.10/dist-packages/IPython/core/splitinput.py'>,\n",
              " 'IPython.core.prefilter': <module 'IPython.core.prefilter' from '/usr/local/lib/python3.10/dist-packages/IPython/core/prefilter.py'>,\n",
              " 'IPython.core.alias': <module 'IPython.core.alias' from '/usr/local/lib/python3.10/dist-packages/IPython/core/alias.py'>,\n",
              " 'IPython.core.builtin_trap': <module 'IPython.core.builtin_trap' from '/usr/local/lib/python3.10/dist-packages/IPython/core/builtin_trap.py'>,\n",
              " 'backcall.backcall': <module 'backcall.backcall' from '/usr/local/lib/python3.10/dist-packages/backcall/backcall.py'>,\n",
              " 'backcall': <module 'backcall' from '/usr/local/lib/python3.10/dist-packages/backcall/__init__.py'>,\n",
              " 'IPython.core.events': <module 'IPython.core.events' from '/usr/local/lib/python3.10/dist-packages/IPython/core/events.py'>,\n",
              " 'IPython.core.displayhook': <module 'IPython.core.displayhook' from '/usr/local/lib/python3.10/dist-packages/IPython/core/displayhook.py'>,\n",
              " 'IPython.core.displaypub': <module 'IPython.core.displaypub' from '/usr/local/lib/python3.10/dist-packages/IPython/core/displaypub.py'>,\n",
              " 'IPython.core.extensions': <module 'IPython.core.extensions' from '/usr/local/lib/python3.10/dist-packages/IPython/core/extensions.py'>,\n",
              " 'IPython.utils.sentinel': <module 'IPython.utils.sentinel' from '/usr/local/lib/python3.10/dist-packages/IPython/utils/sentinel.py'>,\n",
              " 'IPython.core.formatters': <module 'IPython.core.formatters' from '/usr/local/lib/python3.10/dist-packages/IPython/core/formatters.py'>,\n",
              " '_sqlite3': <module '_sqlite3' from '/usr/lib/python3.10/lib-dynload/_sqlite3.cpython-310-x86_64-linux-gnu.so'>,\n",
              " 'sqlite3.dbapi2': <module 'sqlite3.dbapi2' from '/usr/lib/python3.10/sqlite3/dbapi2.py'>,\n",
              " 'sqlite3': <module 'sqlite3' from '/usr/lib/python3.10/sqlite3/__init__.py'>,\n",
              " 'IPython.core.history': <module 'IPython.core.history' from '/usr/local/lib/python3.10/dist-packages/IPython/core/history.py'>,\n",
              " 'IPython.core.logger': <module 'IPython.core.logger' from '/usr/local/lib/python3.10/dist-packages/IPython/core/logger.py'>,\n",
              " 'IPython.core.payload': <module 'IPython.core.payload' from '/usr/local/lib/python3.10/dist-packages/IPython/core/payload.py'>,\n",
              " 'IPython.core.usage': <module 'IPython.core.usage' from '/usr/local/lib/python3.10/dist-packages/IPython/core/usage.py'>,\n",
              " 'html.entities': <module 'html.entities' from '/usr/lib/python3.10/html/entities.py'>,\n",
              " 'html': <module 'html' from '/usr/lib/python3.10/html/__init__.py'>,\n",
              " 'IPython.lib.display': <module 'IPython.lib.display' from '/usr/local/lib/python3.10/dist-packages/IPython/lib/display.py'>,\n",
              " 'IPython.display': <module 'IPython.display' from '/usr/local/lib/python3.10/dist-packages/IPython/display.py'>,\n",
              " 'IPython.utils.capture': <module 'IPython.utils.capture' from '/usr/local/lib/python3.10/dist-packages/IPython/utils/capture.py'>,\n",
              " 'IPython.utils.io': <module 'IPython.utils.io' from '/usr/local/lib/python3.10/dist-packages/IPython/utils/io.py'>,\n",
              " 'IPython.core.hooks': <module 'IPython.core.hooks' from '/usr/local/lib/python3.10/dist-packages/IPython/core/hooks.py'>,\n",
              " 'IPython.utils.strdispatch': <module 'IPython.utils.strdispatch' from '/usr/local/lib/python3.10/dist-packages/IPython/utils/strdispatch.py'>,\n",
              " 'IPython.utils.syspathcontext': <module 'IPython.utils.syspathcontext' from '/usr/local/lib/python3.10/dist-packages/IPython/utils/syspathcontext.py'>,\n",
              " 'IPython.utils.tempdir': <module 'IPython.utils.tempdir' from '/usr/local/lib/python3.10/dist-packages/IPython/utils/tempdir.py'>,\n",
              " 'IPython.utils.contexts': <module 'IPython.utils.contexts' from '/usr/local/lib/python3.10/dist-packages/IPython/utils/contexts.py'>,\n",
              " 'concurrent': <module 'concurrent' from '/usr/lib/python3.10/concurrent/__init__.py'>,\n",
              " 'concurrent.futures._base': <module 'concurrent.futures._base' from '/usr/lib/python3.10/concurrent/futures/_base.py'>,\n",
              " 'concurrent.futures': <module 'concurrent.futures' from '/usr/lib/python3.10/concurrent/futures/__init__.py'>,\n",
              " '_ssl': <module '_ssl' from '/usr/lib/python3.10/lib-dynload/_ssl.cpython-310-x86_64-linux-gnu.so'>,\n",
              " 'base64': <module 'base64' from '/usr/lib/python3.10/base64.py'>,\n",
              " 'ssl': <module 'ssl' from '/usr/lib/python3.10/ssl.py'>,\n",
              " 'asyncio.constants': <module 'asyncio.constants' from '/usr/lib/python3.10/asyncio/constants.py'>,\n",
              " 'asyncio.format_helpers': <module 'asyncio.format_helpers' from '/usr/lib/python3.10/asyncio/format_helpers.py'>,\n",
              " 'asyncio.base_futures': <module 'asyncio.base_futures' from '/usr/lib/python3.10/asyncio/base_futures.py'>,\n",
              " 'asyncio.log': <module 'asyncio.log' from '/usr/lib/python3.10/asyncio/log.py'>,\n",
              " 'asyncio.coroutines': <module 'asyncio.coroutines' from '/usr/lib/python3.10/asyncio/coroutines.py'>,\n",
              " '_contextvars': <module '_contextvars' from '/usr/lib/python3.10/lib-dynload/_contextvars.cpython-310-x86_64-linux-gnu.so'>,\n",
              " 'contextvars': <module 'contextvars' from '/usr/lib/python3.10/contextvars.py'>,\n",
              " 'asyncio.exceptions': <module 'asyncio.exceptions' from '/usr/lib/python3.10/asyncio/exceptions.py'>,\n",
              " 'asyncio.base_tasks': <module 'asyncio.base_tasks' from '/usr/lib/python3.10/asyncio/base_tasks.py'>,\n",
              " '_asyncio': <module '_asyncio' from '/usr/lib/python3.10/lib-dynload/_asyncio.cpython-310-x86_64-linux-gnu.so'>,\n",
              " 'asyncio.events': <module 'asyncio.events' from '/usr/lib/python3.10/asyncio/events.py'>,\n",
              " 'asyncio.futures': <module 'asyncio.futures' from '/usr/lib/python3.10/asyncio/futures.py'>,\n",
              " 'asyncio.protocols': <module 'asyncio.protocols' from '/usr/lib/python3.10/asyncio/protocols.py'>,\n",
              " 'asyncio.transports': <module 'asyncio.transports' from '/usr/lib/python3.10/asyncio/transports.py'>,\n",
              " 'asyncio.sslproto': <module 'asyncio.sslproto' from '/usr/lib/python3.10/asyncio/sslproto.py'>,\n",
              " 'asyncio.mixins': <module 'asyncio.mixins' from '/usr/lib/python3.10/asyncio/mixins.py'>,\n",
              " 'asyncio.tasks': <module 'asyncio.tasks' from '/usr/lib/python3.10/asyncio/tasks.py'>,\n",
              " 'asyncio.locks': <module 'asyncio.locks' from '/usr/lib/python3.10/asyncio/locks.py'>,\n",
              " 'asyncio.staggered': <module 'asyncio.staggered' from '/usr/lib/python3.10/asyncio/staggered.py'>,\n",
              " 'asyncio.trsock': <module 'asyncio.trsock' from '/usr/lib/python3.10/asyncio/trsock.py'>,\n",
              " 'asyncio.base_events': <module 'asyncio.base_events' from '/usr/lib/python3.10/asyncio/base_events.py'>,\n",
              " 'asyncio.runners': <module 'asyncio.runners' from '/usr/lib/python3.10/asyncio/runners.py'>,\n",
              " 'asyncio.queues': <module 'asyncio.queues' from '/usr/lib/python3.10/asyncio/queues.py'>,\n",
              " 'asyncio.streams': <module 'asyncio.streams' from '/usr/lib/python3.10/asyncio/streams.py'>,\n",
              " 'asyncio.subprocess': <module 'asyncio.subprocess' from '/usr/lib/python3.10/asyncio/subprocess.py'>,\n",
              " 'asyncio.threads': <module 'asyncio.threads' from '/usr/lib/python3.10/asyncio/threads.py'>,\n",
              " 'asyncio.base_subprocess': <module 'asyncio.base_subprocess' from '/usr/lib/python3.10/asyncio/base_subprocess.py'>,\n",
              " 'asyncio.selector_events': <module 'asyncio.selector_events' from '/usr/lib/python3.10/asyncio/selector_events.py'>,\n",
              " 'asyncio.unix_events': <module 'asyncio.unix_events' from '/usr/lib/python3.10/asyncio/unix_events.py'>,\n",
              " 'asyncio': <module 'asyncio' from '/usr/lib/python3.10/asyncio/__init__.py'>,\n",
              " 'IPython.core.async_helpers': <module 'IPython.core.async_helpers' from '/usr/local/lib/python3.10/dist-packages/IPython/core/async_helpers.py'>,\n",
              " 'IPython.core.interactiveshell': <module 'IPython.core.interactiveshell' from '/usr/local/lib/python3.10/dist-packages/IPython/core/interactiveshell.py'>,\n",
              " 'prompt_toolkit.application.current': <module 'prompt_toolkit.application.current' from '/usr/local/lib/python3.10/dist-packages/prompt_toolkit/application/current.py'>,\n",
              " 'prompt_toolkit.eventloop.utils': <module 'prompt_toolkit.eventloop.utils' from '/usr/local/lib/python3.10/dist-packages/prompt_toolkit/eventloop/utils.py'>,\n",
              " 'prompt_toolkit.eventloop.async_generator': <module 'prompt_toolkit.eventloop.async_generator' from '/usr/local/lib/python3.10/dist-packages/prompt_toolkit/eventloop/async_generator.py'>,\n",
              " 'prompt_toolkit.eventloop.inputhook': <module 'prompt_toolkit.eventloop.inputhook' from '/usr/local/lib/python3.10/dist-packages/prompt_toolkit/eventloop/inputhook.py'>,\n",
              " 'prompt_toolkit.eventloop': <module 'prompt_toolkit.eventloop' from '/usr/local/lib/python3.10/dist-packages/prompt_toolkit/eventloop/__init__.py'>,\n",
              " 'prompt_toolkit.application.run_in_terminal': <module 'prompt_toolkit.application.run_in_terminal' from '/usr/local/lib/python3.10/dist-packages/prompt_toolkit/application/run_in_terminal.py'>,\n",
              " 'prompt_toolkit.selection': <module 'prompt_toolkit.selection' from '/usr/local/lib/python3.10/dist-packages/prompt_toolkit/selection.py'>,\n",
              " 'prompt_toolkit.clipboard.base': <module 'prompt_toolkit.clipboard.base' from '/usr/local/lib/python3.10/dist-packages/prompt_toolkit/clipboard/base.py'>,\n",
              " 'prompt_toolkit.clipboard.in_memory': <module 'prompt_toolkit.clipboard.in_memory' from '/usr/local/lib/python3.10/dist-packages/prompt_toolkit/clipboard/in_memory.py'>,\n",
              " 'prompt_toolkit.clipboard': <module 'prompt_toolkit.clipboard' from '/usr/local/lib/python3.10/dist-packages/prompt_toolkit/clipboard/__init__.py'>,\n",
              " 'prompt_toolkit.cache': <module 'prompt_toolkit.cache' from '/usr/local/lib/python3.10/dist-packages/prompt_toolkit/cache.py'>,\n",
              " 'prompt_toolkit.enums': <module 'prompt_toolkit.enums' from '/usr/local/lib/python3.10/dist-packages/prompt_toolkit/enums.py'>,\n",
              " 'prompt_toolkit.filters.base': <module 'prompt_toolkit.filters.base' from '/usr/local/lib/python3.10/dist-packages/prompt_toolkit/filters/base.py'>,\n",
              " 'prompt_toolkit.filters.app': <module 'prompt_toolkit.filters.app' from '/usr/local/lib/python3.10/dist-packages/prompt_toolkit/filters/app.py'>,\n",
              " 'prompt_toolkit.filters.cli': <module 'prompt_toolkit.filters.cli' from '/usr/local/lib/python3.10/dist-packages/prompt_toolkit/filters/cli.py'>,\n",
              " 'prompt_toolkit.filters.utils': <module 'prompt_toolkit.filters.utils' from '/usr/local/lib/python3.10/dist-packages/prompt_toolkit/filters/utils.py'>,\n",
              " 'prompt_toolkit.filters': <module 'prompt_toolkit.filters' from '/usr/local/lib/python3.10/dist-packages/prompt_toolkit/filters/__init__.py'>,\n",
              " 'prompt_toolkit.document': <module 'prompt_toolkit.document' from '/usr/local/lib/python3.10/dist-packages/prompt_toolkit/document.py'>,\n",
              " 'prompt_toolkit.auto_suggest': <module 'prompt_toolkit.auto_suggest' from '/usr/local/lib/python3.10/dist-packages/prompt_toolkit/auto_suggest.py'>,\n",
              " 'prompt_toolkit.keys': <module 'prompt_toolkit.keys' from '/usr/local/lib/python3.10/dist-packages/prompt_toolkit/keys.py'>,\n",
              " 'prompt_toolkit.key_binding.key_bindings': <module 'prompt_toolkit.key_binding.key_bindings' from '/usr/local/lib/python3.10/dist-packages/prompt_toolkit/key_binding/key_bindings.py'>,\n",
              " 'wcwidth.table_vs16': <module 'wcwidth.table_vs16' from '/usr/local/lib/python3.10/dist-packages/wcwidth/table_vs16.py'>,\n",
              " 'wcwidth.table_wide': <module 'wcwidth.table_wide' from '/usr/local/lib/python3.10/dist-packages/wcwidth/table_wide.py'>,\n",
              " 'wcwidth.table_zero': <module 'wcwidth.table_zero' from '/usr/local/lib/python3.10/dist-packages/wcwidth/table_zero.py'>,\n",
              " 'wcwidth.unicode_versions': <module 'wcwidth.unicode_versions' from '/usr/local/lib/python3.10/dist-packages/wcwidth/unicode_versions.py'>,\n",
              " 'wcwidth.wcwidth': <module 'wcwidth.wcwidth' from '/usr/local/lib/python3.10/dist-packages/wcwidth/wcwidth.py'>,\n",
              " 'wcwidth': <module 'wcwidth' from '/usr/local/lib/python3.10/dist-packages/wcwidth/__init__.py'>,\n",
              " 'prompt_toolkit.utils': <module 'prompt_toolkit.utils' from '/usr/local/lib/python3.10/dist-packages/prompt_toolkit/utils.py'>,\n",
              " 'prompt_toolkit.key_binding.key_processor': <module 'prompt_toolkit.key_binding.key_processor' from '/usr/local/lib/python3.10/dist-packages/prompt_toolkit/key_binding/key_processor.py'>,\n",
              " 'prompt_toolkit.key_binding': <module 'prompt_toolkit.key_binding' from '/usr/local/lib/python3.10/dist-packages/prompt_toolkit/key_binding/__init__.py'>,\n",
              " 'prompt_toolkit.key_binding.vi_state': <module 'prompt_toolkit.key_binding.vi_state' from '/usr/local/lib/python3.10/dist-packages/prompt_toolkit/key_binding/vi_state.py'>,\n",
              " 'prompt_toolkit.cursor_shapes': <module 'prompt_toolkit.cursor_shapes' from '/usr/local/lib/python3.10/dist-packages/prompt_toolkit/cursor_shapes.py'>,\n",
              " 'prompt_toolkit.data_structures': <module 'prompt_toolkit.data_structures' from '/usr/local/lib/python3.10/dist-packages/prompt_toolkit/data_structures.py'>,\n",
              " 'prompt_toolkit.styles.base': <module 'prompt_toolkit.styles.base' from '/usr/local/lib/python3.10/dist-packages/prompt_toolkit/styles/base.py'>,\n",
              " 'prompt_toolkit.styles.named_colors': <module 'prompt_toolkit.styles.named_colors' from '/usr/local/lib/python3.10/dist-packages/prompt_toolkit/styles/named_colors.py'>,\n",
              " 'prompt_toolkit.styles.style': <module 'prompt_toolkit.styles.style' from '/usr/local/lib/python3.10/dist-packages/prompt_toolkit/styles/style.py'>,\n",
              " 'prompt_toolkit.styles.defaults': <module 'prompt_toolkit.styles.defaults' from '/usr/local/lib/python3.10/dist-packages/prompt_toolkit/styles/defaults.py'>,\n",
              " 'prompt_toolkit.styles.pygments': <module 'prompt_toolkit.styles.pygments' from '/usr/local/lib/python3.10/dist-packages/prompt_toolkit/styles/pygments.py'>,\n",
              " 'colorsys': <module 'colorsys' from '/usr/lib/python3.10/colorsys.py'>,\n",
              " 'prompt_toolkit.styles.style_transformation': <module 'prompt_toolkit.styles.style_transformation' from '/usr/local/lib/python3.10/dist-packages/prompt_toolkit/styles/style_transformation.py'>,\n",
              " 'prompt_toolkit.styles': <module 'prompt_toolkit.styles' from '/usr/local/lib/python3.10/dist-packages/prompt_toolkit/styles/__init__.py'>,\n",
              " 'prompt_toolkit.output.color_depth': <module 'prompt_toolkit.output.color_depth' from '/usr/local/lib/python3.10/dist-packages/prompt_toolkit/output/color_depth.py'>,\n",
              " 'prompt_toolkit.output.base': <module 'prompt_toolkit.output.base' from '/usr/local/lib/python3.10/dist-packages/prompt_toolkit/output/base.py'>,\n",
              " 'prompt_toolkit.output.flush_stdout': <module 'prompt_toolkit.output.flush_stdout' from '/usr/local/lib/python3.10/dist-packages/prompt_toolkit/output/flush_stdout.py'>,\n",
              " 'prompt_toolkit.output.plain_text': <module 'prompt_toolkit.output.plain_text' from '/usr/local/lib/python3.10/dist-packages/prompt_toolkit/output/plain_text.py'>,\n",
              " 'prompt_toolkit.output.defaults': <module 'prompt_toolkit.output.defaults' from '/usr/local/lib/python3.10/dist-packages/prompt_toolkit/output/defaults.py'>,\n",
              " 'prompt_toolkit.output': <module 'prompt_toolkit.output' from '/usr/local/lib/python3.10/dist-packages/prompt_toolkit/output/__init__.py'>,\n",
              " 'prompt_toolkit.output.vt100': <module 'prompt_toolkit.output.vt100' from '/usr/local/lib/python3.10/dist-packages/prompt_toolkit/output/vt100.py'>,\n",
              " 'prompt_toolkit.mouse_events': <module 'prompt_toolkit.mouse_events' from '/usr/local/lib/python3.10/dist-packages/prompt_toolkit/mouse_events.py'>,\n",
              " 'prompt_toolkit.formatted_text.base': <module 'prompt_toolkit.formatted_text.base' from '/usr/local/lib/python3.10/dist-packages/prompt_toolkit/formatted_text/base.py'>,\n",
              " 'prompt_toolkit.formatted_text.ansi': <module 'prompt_toolkit.formatted_text.ansi' from '/usr/local/lib/python3.10/dist-packages/prompt_toolkit/formatted_text/ansi.py'>,\n",
              " 'xml': <module 'xml' from '/usr/lib/python3.10/xml/__init__.py'>,\n",
              " 'xml.dom.domreg': <module 'xml.dom.domreg' from '/usr/lib/python3.10/xml/dom/domreg.py'>,\n",
              " 'xml.dom': <module 'xml.dom' from '/usr/lib/python3.10/xml/dom/__init__.py'>,\n",
              " 'xml.dom.minicompat': <module 'xml.dom.minicompat' from '/usr/lib/python3.10/xml/dom/minicompat.py'>,\n",
              " 'xml.dom.NodeFilter': <module 'xml.dom.NodeFilter' from '/usr/lib/python3.10/xml/dom/NodeFilter.py'>,\n",
              " 'xml.dom.xmlbuilder': <module 'xml.dom.xmlbuilder' from '/usr/lib/python3.10/xml/dom/xmlbuilder.py'>,\n",
              " 'xml.dom.minidom': <module 'xml.dom.minidom' from '/usr/lib/python3.10/xml/dom/minidom.py'>,\n",
              " 'prompt_toolkit.formatted_text.html': <module 'prompt_toolkit.formatted_text.html' from '/usr/local/lib/python3.10/dist-packages/prompt_toolkit/formatted_text/html.py'>,\n",
              " 'prompt_toolkit.formatted_text.pygments': <module 'prompt_toolkit.formatted_text.pygments' from '/usr/local/lib/python3.10/dist-packages/prompt_toolkit/formatted_text/pygments.py'>,\n",
              " 'prompt_toolkit.formatted_text.utils': <module 'prompt_toolkit.formatted_text.utils' from '/usr/local/lib/python3.10/dist-packages/prompt_toolkit/formatted_text/utils.py'>,\n",
              " 'prompt_toolkit.formatted_text': <module 'prompt_toolkit.formatted_text' from '/usr/local/lib/python3.10/dist-packages/prompt_toolkit/formatted_text/__init__.py'>,\n",
              " 'prompt_toolkit.completion.base': <module 'prompt_toolkit.completion.base' from '/usr/local/lib/python3.10/dist-packages/prompt_toolkit/completion/base.py'>,\n",
              " 'prompt_toolkit.completion.deduplicate': <module 'prompt_toolkit.completion.deduplicate' from '/usr/local/lib/python3.10/dist-packages/prompt_toolkit/completion/deduplicate.py'>,\n",
              " 'prompt_toolkit.completion.filesystem': <module 'prompt_toolkit.completion.filesystem' from '/usr/local/lib/python3.10/dist-packages/prompt_toolkit/completion/filesystem.py'>,\n",
              " 'prompt_toolkit.completion.word_completer': <module 'prompt_toolkit.completion.word_completer' from '/usr/local/lib/python3.10/dist-packages/prompt_toolkit/completion/word_completer.py'>,\n",
              " 'prompt_toolkit.completion.fuzzy_completer': <module 'prompt_toolkit.completion.fuzzy_completer' from '/usr/local/lib/python3.10/dist-packages/prompt_toolkit/completion/fuzzy_completer.py'>,\n",
              " 'prompt_toolkit.completion.nested': <module 'prompt_toolkit.completion.nested' from '/usr/local/lib/python3.10/dist-packages/prompt_toolkit/completion/nested.py'>,\n",
              " 'prompt_toolkit.completion': <module 'prompt_toolkit.completion' from '/usr/local/lib/python3.10/dist-packages/prompt_toolkit/completion/__init__.py'>,\n",
              " 'prompt_toolkit.history': <module 'prompt_toolkit.history' from '/usr/local/lib/python3.10/dist-packages/prompt_toolkit/history.py'>,\n",
              " 'prompt_toolkit.search': <module 'prompt_toolkit.search' from '/usr/local/lib/python3.10/dist-packages/prompt_toolkit/search.py'>,\n",
              " 'prompt_toolkit.validation': <module 'prompt_toolkit.validation' from '/usr/local/lib/python3.10/dist-packages/prompt_toolkit/validation.py'>,\n",
              " 'prompt_toolkit.buffer': <module 'prompt_toolkit.buffer' from '/usr/local/lib/python3.10/dist-packages/prompt_toolkit/buffer.py'>,\n",
              " 'prompt_toolkit.input.base': <module 'prompt_toolkit.input.base' from '/usr/local/lib/python3.10/dist-packages/prompt_toolkit/input/base.py'>,\n",
              " 'prompt_toolkit.input.defaults': <module 'prompt_toolkit.input.defaults' from '/usr/local/lib/python3.10/dist-packages/prompt_toolkit/input/defaults.py'>,\n",
              " 'prompt_toolkit.input': <module 'prompt_toolkit.input' from '/usr/local/lib/python3.10/dist-packages/prompt_toolkit/input/__init__.py'>,\n",
              " 'prompt_toolkit.input.typeahead': <module 'prompt_toolkit.input.typeahead' from '/usr/local/lib/python3.10/dist-packages/prompt_toolkit/input/typeahead.py'>,\n",
              " 'prompt_toolkit.key_binding.bindings': <module 'prompt_toolkit.key_binding.bindings' from '/usr/local/lib/python3.10/dist-packages/prompt_toolkit/key_binding/bindings/__init__.py'>,\n",
              " 'prompt_toolkit.key_binding.bindings.scroll': <module 'prompt_toolkit.key_binding.bindings.scroll' from '/usr/local/lib/python3.10/dist-packages/prompt_toolkit/key_binding/bindings/scroll.py'>,\n",
              " 'prompt_toolkit.key_binding.bindings.page_navigation': <module 'prompt_toolkit.key_binding.bindings.page_navigation' from '/usr/local/lib/python3.10/dist-packages/prompt_toolkit/key_binding/bindings/page_navigation.py'>,\n",
              " 'prompt_toolkit.lexers.base': <module 'prompt_toolkit.lexers.base' from '/usr/local/lib/python3.10/dist-packages/prompt_toolkit/lexers/base.py'>,\n",
              " 'prompt_toolkit.lexers.pygments': <module 'prompt_toolkit.lexers.pygments' from '/usr/local/lib/python3.10/dist-packages/prompt_toolkit/lexers/pygments.py'>,\n",
              " 'prompt_toolkit.lexers': <module 'prompt_toolkit.lexers' from '/usr/local/lib/python3.10/dist-packages/prompt_toolkit/lexers/__init__.py'>,\n",
              " 'prompt_toolkit.layout.utils': <module 'prompt_toolkit.layout.utils' from '/usr/local/lib/python3.10/dist-packages/prompt_toolkit/layout/utils.py'>,\n",
              " 'prompt_toolkit.layout.processors': <module 'prompt_toolkit.layout.processors' from '/usr/local/lib/python3.10/dist-packages/prompt_toolkit/layout/processors.py'>,\n",
              " 'prompt_toolkit.layout.controls': <module 'prompt_toolkit.layout.controls' from '/usr/local/lib/python3.10/dist-packages/prompt_toolkit/layout/controls.py'>,\n",
              " 'prompt_toolkit.layout.dimension': <module 'prompt_toolkit.layout.dimension' from '/usr/local/lib/python3.10/dist-packages/prompt_toolkit/layout/dimension.py'>,\n",
              " 'prompt_toolkit.layout.margins': <module 'prompt_toolkit.layout.margins' from '/usr/local/lib/python3.10/dist-packages/prompt_toolkit/layout/margins.py'>,\n",
              " 'prompt_toolkit.layout.mouse_handlers': <module 'prompt_toolkit.layout.mouse_handlers' from '/usr/local/lib/python3.10/dist-packages/prompt_toolkit/layout/mouse_handlers.py'>,\n",
              " 'prompt_toolkit.layout.screen': <module 'prompt_toolkit.layout.screen' from '/usr/local/lib/python3.10/dist-packages/prompt_toolkit/layout/screen.py'>,\n",
              " 'prompt_toolkit.layout.containers': <module 'prompt_toolkit.layout.containers' from '/usr/local/lib/python3.10/dist-packages/prompt_toolkit/layout/containers.py'>,\n",
              " 'prompt_toolkit.layout.layout': <module 'prompt_toolkit.layout.layout' from '/usr/local/lib/python3.10/dist-packages/prompt_toolkit/layout/layout.py'>,\n",
              " 'prompt_toolkit.layout.menus': <module 'prompt_toolkit.layout.menus' from '/usr/local/lib/python3.10/dist-packages/prompt_toolkit/layout/menus.py'>,\n",
              " 'prompt_toolkit.layout.scrollable_pane': <module 'prompt_toolkit.layout.scrollable_pane' from '/usr/local/lib/python3.10/dist-packages/prompt_toolkit/layout/scrollable_pane.py'>,\n",
              " 'prompt_toolkit.layout': <module 'prompt_toolkit.layout' from '/usr/local/lib/python3.10/dist-packages/prompt_toolkit/layout/__init__.py'>,\n",
              " 'prompt_toolkit.key_binding.bindings.completion': <module 'prompt_toolkit.key_binding.bindings.completion' from '/usr/local/lib/python3.10/dist-packages/prompt_toolkit/key_binding/bindings/completion.py'>,\n",
              " 'prompt_toolkit.key_binding.bindings.named_commands': <module 'prompt_toolkit.key_binding.bindings.named_commands' from '/usr/local/lib/python3.10/dist-packages/prompt_toolkit/key_binding/bindings/named_commands.py'>,\n",
              " 'prompt_toolkit.key_binding.bindings.basic': <module 'prompt_toolkit.key_binding.bindings.basic' from '/usr/local/lib/python3.10/dist-packages/prompt_toolkit/key_binding/bindings/basic.py'>,\n",
              " 'prompt_toolkit.key_binding.bindings.cpr': <module 'prompt_toolkit.key_binding.bindings.cpr' from '/usr/local/lib/python3.10/dist-packages/prompt_toolkit/key_binding/bindings/cpr.py'>,\n",
              " 'prompt_toolkit.key_binding.bindings.emacs': <module 'prompt_toolkit.key_binding.bindings.emacs' from '/usr/local/lib/python3.10/dist-packages/prompt_toolkit/key_binding/bindings/emacs.py'>,\n",
              " 'prompt_toolkit.key_binding.bindings.mouse': <module 'prompt_toolkit.key_binding.bindings.mouse' from '/usr/local/lib/python3.10/dist-packages/prompt_toolkit/key_binding/bindings/mouse.py'>,\n",
              " 'prompt_toolkit.input.ansi_escape_sequences': <module 'prompt_toolkit.input.ansi_escape_sequences' from '/usr/local/lib/python3.10/dist-packages/prompt_toolkit/input/ansi_escape_sequences.py'>,\n",
              " 'prompt_toolkit.input.vt100_parser': <module 'prompt_toolkit.input.vt100_parser' from '/usr/local/lib/python3.10/dist-packages/prompt_toolkit/input/vt100_parser.py'>,\n",
              " 'prompt_toolkit.key_binding.digraphs': <module 'prompt_toolkit.key_binding.digraphs' from '/usr/local/lib/python3.10/dist-packages/prompt_toolkit/key_binding/digraphs.py'>,\n",
              " 'prompt_toolkit.key_binding.bindings.vi': <module 'prompt_toolkit.key_binding.bindings.vi' from '/usr/local/lib/python3.10/dist-packages/prompt_toolkit/key_binding/bindings/vi.py'>,\n",
              " 'prompt_toolkit.key_binding.defaults': <module 'prompt_toolkit.key_binding.defaults' from '/usr/local/lib/python3.10/dist-packages/prompt_toolkit/key_binding/defaults.py'>,\n",
              " 'prompt_toolkit.key_binding.emacs_state': <module 'prompt_toolkit.key_binding.emacs_state' from '/usr/local/lib/python3.10/dist-packages/prompt_toolkit/key_binding/emacs_state.py'>,\n",
              " 'prompt_toolkit.layout.dummy': <module 'prompt_toolkit.layout.dummy' from '/usr/local/lib/python3.10/dist-packages/prompt_toolkit/layout/dummy.py'>,\n",
              " 'prompt_toolkit.renderer': <module 'prompt_toolkit.renderer' from '/usr/local/lib/python3.10/dist-packages/prompt_toolkit/renderer.py'>,\n",
              " 'prompt_toolkit.application.application': <module 'prompt_toolkit.application.application' from '/usr/local/lib/python3.10/dist-packages/prompt_toolkit/application/application.py'>,\n",
              " 'prompt_toolkit.application.dummy': <module 'prompt_toolkit.application.dummy' from '/usr/local/lib/python3.10/dist-packages/prompt_toolkit/application/dummy.py'>,\n",
              " 'prompt_toolkit.application': <module 'prompt_toolkit.application' from '/usr/local/lib/python3.10/dist-packages/prompt_toolkit/application/__init__.py'>,\n",
              " 'prompt_toolkit.key_binding.bindings.focus': <module 'prompt_toolkit.key_binding.bindings.focus' from '/usr/local/lib/python3.10/dist-packages/prompt_toolkit/key_binding/bindings/focus.py'>,\n",
              " 'prompt_toolkit.widgets.toolbars': <module 'prompt_toolkit.widgets.toolbars' from '/usr/local/lib/python3.10/dist-packages/prompt_toolkit/widgets/toolbars.py'>,\n",
              " 'prompt_toolkit.widgets.base': <module 'prompt_toolkit.widgets.base' from '/usr/local/lib/python3.10/dist-packages/prompt_toolkit/widgets/base.py'>,\n",
              " 'prompt_toolkit.widgets.dialogs': <module 'prompt_toolkit.widgets.dialogs' from '/usr/local/lib/python3.10/dist-packages/prompt_toolkit/widgets/dialogs.py'>,\n",
              " 'prompt_toolkit.widgets.menus': <module 'prompt_toolkit.widgets.menus' from '/usr/local/lib/python3.10/dist-packages/prompt_toolkit/widgets/menus.py'>,\n",
              " 'prompt_toolkit.widgets': <module 'prompt_toolkit.widgets' from '/usr/local/lib/python3.10/dist-packages/prompt_toolkit/widgets/__init__.py'>,\n",
              " 'prompt_toolkit.shortcuts.dialogs': <module 'prompt_toolkit.shortcuts.dialogs' from '/usr/local/lib/python3.10/dist-packages/prompt_toolkit/shortcuts/dialogs.py'>,\n",
              " 'prompt_toolkit.shortcuts.progress_bar.formatters': <module 'prompt_toolkit.shortcuts.progress_bar.formatters' from '/usr/local/lib/python3.10/dist-packages/prompt_toolkit/shortcuts/progress_bar/formatters.py'>,\n",
              " 'prompt_toolkit.shortcuts.progress_bar.base': <module 'prompt_toolkit.shortcuts.progress_bar.base' from '/usr/local/lib/python3.10/dist-packages/prompt_toolkit/shortcuts/progress_bar/base.py'>,\n",
              " 'prompt_toolkit.shortcuts.progress_bar': <module 'prompt_toolkit.shortcuts.progress_bar' from '/usr/local/lib/python3.10/dist-packages/prompt_toolkit/shortcuts/progress_bar/__init__.py'>,\n",
              " 'prompt_toolkit.key_binding.bindings.auto_suggest': <module 'prompt_toolkit.key_binding.bindings.auto_suggest' from '/usr/local/lib/python3.10/dist-packages/prompt_toolkit/key_binding/bindings/auto_suggest.py'>,\n",
              " 'prompt_toolkit.key_binding.bindings.open_in_editor': <module 'prompt_toolkit.key_binding.bindings.open_in_editor' from '/usr/local/lib/python3.10/dist-packages/prompt_toolkit/key_binding/bindings/open_in_editor.py'>,\n",
              " 'prompt_toolkit.shortcuts.prompt': <module 'prompt_toolkit.shortcuts.prompt' from '/usr/local/lib/python3.10/dist-packages/prompt_toolkit/shortcuts/prompt.py'>,\n",
              " 'prompt_toolkit.shortcuts.utils': <module 'prompt_toolkit.shortcuts.utils' from '/usr/local/lib/python3.10/dist-packages/prompt_toolkit/shortcuts/utils.py'>,\n",
              " 'prompt_toolkit.shortcuts': <module 'prompt_toolkit.shortcuts' from '/usr/local/lib/python3.10/dist-packages/prompt_toolkit/shortcuts/__init__.py'>,\n",
              " 'prompt_toolkit': <module 'prompt_toolkit' from '/usr/local/lib/python3.10/dist-packages/prompt_toolkit/__init__.py'>,\n",
              " 'prompt_toolkit.patch_stdout': <module 'prompt_toolkit.patch_stdout' from '/usr/local/lib/python3.10/dist-packages/prompt_toolkit/patch_stdout.py'>,\n",
              " 'pygments.style': <module 'pygments.style' from '/usr/local/lib/python3.10/dist-packages/pygments/style.py'>,\n",
              " 'unicodedata': <module 'unicodedata' (built-in)>,\n",
              " 'IPython.core.latex_symbols': <module 'IPython.core.latex_symbols' from '/usr/local/lib/python3.10/dist-packages/IPython/core/latex_symbols.py'>,\n",
              " 'IPython.utils.generics': <module 'IPython.utils.generics' from '/usr/local/lib/python3.10/dist-packages/IPython/utils/generics.py'>,\n",
              " 'IPython.core.completer': <module 'IPython.core.completer' from '/usr/local/lib/python3.10/dist-packages/IPython/core/completer.py'>,\n",
              " 'IPython.terminal.ptutils': <module 'IPython.terminal.ptutils' from '/usr/local/lib/python3.10/dist-packages/IPython/terminal/ptutils.py'>,\n",
              " 'IPython.terminal.shortcuts': <module 'IPython.terminal.shortcuts' from '/usr/local/lib/python3.10/dist-packages/IPython/terminal/shortcuts.py'>,\n",
              " 'concurrent.futures.thread': <module 'concurrent.futures.thread' from '/usr/lib/python3.10/concurrent/futures/thread.py'>,\n",
              " 'IPython.terminal.debugger': <module 'IPython.terminal.debugger' from '/usr/local/lib/python3.10/dist-packages/IPython/terminal/debugger.py'>,\n",
              " 'IPython.lib.clipboard': <module 'IPython.lib.clipboard' from '/usr/local/lib/python3.10/dist-packages/IPython/lib/clipboard.py'>,\n",
              " 'IPython.terminal.magics': <module 'IPython.terminal.magics' from '/usr/local/lib/python3.10/dist-packages/IPython/terminal/magics.py'>,\n",
              " 'IPython.terminal.pt_inputhooks': <module 'IPython.terminal.pt_inputhooks' from '/usr/local/lib/python3.10/dist-packages/IPython/terminal/pt_inputhooks/__init__.py'>,\n",
              " 'IPython.terminal.prompts': <module 'IPython.terminal.prompts' from '/usr/local/lib/python3.10/dist-packages/IPython/terminal/prompts.py'>,\n",
              " 'IPython.terminal.interactiveshell': <module 'IPython.terminal.interactiveshell' from '/usr/local/lib/python3.10/dist-packages/IPython/terminal/interactiveshell.py'>,\n",
              " 'IPython.core.magics.auto': <module 'IPython.core.magics.auto' from '/usr/local/lib/python3.10/dist-packages/IPython/core/magics/auto.py'>,\n",
              " 'IPython.core.magics.basic': <module 'IPython.core.magics.basic' from '/usr/local/lib/python3.10/dist-packages/IPython/core/magics/basic.py'>,\n",
              " 'email': <module 'email' from '/usr/lib/python3.10/email/__init__.py'>,\n",
              " 'http': <module 'http' from '/usr/lib/python3.10/http/__init__.py'>,\n",
              " 'email.errors': <module 'email.errors' from '/usr/lib/python3.10/email/errors.py'>,\n",
              " 'email.quoprimime': <module 'email.quoprimime' from '/usr/lib/python3.10/email/quoprimime.py'>,\n",
              " 'email.base64mime': <module 'email.base64mime' from '/usr/lib/python3.10/email/base64mime.py'>,\n",
              " 'quopri': <module 'quopri' from '/usr/lib/python3.10/quopri.py'>,\n",
              " 'email.encoders': <module 'email.encoders' from '/usr/lib/python3.10/email/encoders.py'>,\n",
              " 'email.charset': <module 'email.charset' from '/usr/lib/python3.10/email/charset.py'>,\n",
              " 'email.header': <module 'email.header' from '/usr/lib/python3.10/email/header.py'>,\n",
              " 'calendar': <module 'calendar' from '/usr/lib/python3.10/calendar.py'>,\n",
              " 'email._parseaddr': <module 'email._parseaddr' from '/usr/lib/python3.10/email/_parseaddr.py'>,\n",
              " 'email.utils': <module 'email.utils' from '/usr/lib/python3.10/email/utils.py'>,\n",
              " 'email._policybase': <module 'email._policybase' from '/usr/lib/python3.10/email/_policybase.py'>,\n",
              " 'email.feedparser': <module 'email.feedparser' from '/usr/lib/python3.10/email/feedparser.py'>,\n",
              " 'email.parser': <module 'email.parser' from '/usr/lib/python3.10/email/parser.py'>,\n",
              " 'uu': <module 'uu' from '/usr/lib/python3.10/uu.py'>,\n",
              " 'email._encoded_words': <module 'email._encoded_words' from '/usr/lib/python3.10/email/_encoded_words.py'>,\n",
              " 'email.iterators': <module 'email.iterators' from '/usr/lib/python3.10/email/iterators.py'>,\n",
              " 'email.message': <module 'email.message' from '/usr/lib/python3.10/email/message.py'>,\n",
              " 'http.client': <module 'http.client' from '/usr/lib/python3.10/http/client.py'>,\n",
              " 'urllib.response': <module 'urllib.response' from '/usr/lib/python3.10/urllib/response.py'>,\n",
              " 'urllib.error': <module 'urllib.error' from '/usr/lib/python3.10/urllib/error.py'>,\n",
              " 'urllib.request': <module 'urllib.request' from '/usr/lib/python3.10/urllib/request.py'>,\n",
              " 'IPython.core.magics.code': <module 'IPython.core.magics.code' from '/usr/local/lib/python3.10/dist-packages/IPython/core/magics/code.py'>,\n",
              " 'IPython.core.magics.config': <module 'IPython.core.magics.config' from '/usr/local/lib/python3.10/dist-packages/IPython/core/magics/config.py'>,\n",
              " 'IPython.core.magics.display': <module 'IPython.core.magics.display' from '/usr/local/lib/python3.10/dist-packages/IPython/core/magics/display.py'>,\n",
              " 'gc': <module 'gc' (built-in)>,\n",
              " 'timeit': <module 'timeit' from '/usr/lib/python3.10/timeit.py'>,\n",
              " '_lsprof': <module '_lsprof' from '/usr/lib/python3.10/lib-dynload/_lsprof.cpython-310-x86_64-linux-gnu.so'>,\n",
              " 'profile': <module 'profile' from '/usr/lib/python3.10/profile.py'>,\n",
              " 'cProfile': <module 'cProfile' from '/usr/lib/python3.10/cProfile.py'>,\n",
              " 'pstats': <module 'pstats' from '/usr/lib/python3.10/pstats.py'>,\n",
              " 'IPython.utils.module_paths': <module 'IPython.utils.module_paths' from '/usr/local/lib/python3.10/dist-packages/IPython/utils/module_paths.py'>,\n",
              " 'IPython.utils.timing': <module 'IPython.utils.timing' from '/usr/local/lib/python3.10/dist-packages/IPython/utils/timing.py'>,\n",
              " 'IPython.core.magics.execution': <module 'IPython.core.magics.execution' from '/usr/local/lib/python3.10/dist-packages/IPython/core/magics/execution.py'>,\n",
              " 'IPython.core.magics.extension': <module 'IPython.core.magics.extension' from '/usr/local/lib/python3.10/dist-packages/IPython/core/magics/extension.py'>,\n",
              " 'IPython.core.magics.history': <module 'IPython.core.magics.history' from '/usr/local/lib/python3.10/dist-packages/IPython/core/magics/history.py'>,\n",
              " 'IPython.core.magics.logging': <module 'IPython.core.magics.logging' from '/usr/local/lib/python3.10/dist-packages/IPython/core/magics/logging.py'>,\n",
              " 'IPython.core.magics.namespace': <module 'IPython.core.magics.namespace' from '/usr/local/lib/python3.10/dist-packages/IPython/core/magics/namespace.py'>,\n",
              " 'IPython.core.magics.osm': <module 'IPython.core.magics.osm' from '/usr/local/lib/python3.10/dist-packages/IPython/core/magics/osm.py'>,\n",
              " 'IPython.core.magics.packaging': <module 'IPython.core.magics.packaging' from '/usr/local/lib/python3.10/dist-packages/IPython/core/magics/packaging.py'>,\n",
              " 'IPython.core.pylabtools': <module 'IPython.core.pylabtools' from '/usr/local/lib/python3.10/dist-packages/IPython/core/pylabtools.py'>,\n",
              " 'IPython.core.magics.pylab': <module 'IPython.core.magics.pylab' from '/usr/local/lib/python3.10/dist-packages/IPython/core/magics/pylab.py'>,\n",
              " 'IPython.lib.backgroundjobs': <module 'IPython.lib.backgroundjobs' from '/usr/local/lib/python3.10/dist-packages/IPython/lib/backgroundjobs.py'>,\n",
              " 'IPython.core.magics.script': <module 'IPython.core.magics.script' from '/usr/local/lib/python3.10/dist-packages/IPython/core/magics/script.py'>,\n",
              " 'IPython.core.magics': <module 'IPython.core.magics' from '/usr/local/lib/python3.10/dist-packages/IPython/core/magics/__init__.py'>,\n",
              " 'IPython.core.shellapp': <module 'IPython.core.shellapp' from '/usr/local/lib/python3.10/dist-packages/IPython/core/shellapp.py'>,\n",
              " 'IPython.extensions': <module 'IPython.extensions' from '/usr/local/lib/python3.10/dist-packages/IPython/extensions/__init__.py'>,\n",
              " 'IPython.extensions.storemagic': <module 'IPython.extensions.storemagic' from '/usr/local/lib/python3.10/dist-packages/IPython/extensions/storemagic.py'>,\n",
              " 'IPython.terminal.ipapp': <module 'IPython.terminal.ipapp' from '/usr/local/lib/python3.10/dist-packages/IPython/terminal/ipapp.py'>,\n",
              " 'IPython.terminal.embed': <module 'IPython.terminal.embed' from '/usr/local/lib/python3.10/dist-packages/IPython/terminal/embed.py'>,\n",
              " 'IPython.utils.frame': <module 'IPython.utils.frame' from '/usr/local/lib/python3.10/dist-packages/IPython/utils/frame.py'>,\n",
              " 'IPython': <module 'IPython' from '/usr/local/lib/python3.10/dist-packages/IPython/__init__.py'>,\n",
              " 'ipython_genutils._version': <module 'ipython_genutils._version' from '/usr/local/lib/python3.10/dist-packages/ipython_genutils/_version.py'>,\n",
              " 'ipython_genutils': <module 'ipython_genutils' from '/usr/local/lib/python3.10/dist-packages/ipython_genutils/__init__.py'>,\n",
              " 'ipython_genutils.encoding': <module 'ipython_genutils.encoding' from '/usr/local/lib/python3.10/dist-packages/ipython_genutils/encoding.py'>,\n",
              " 'ipython_genutils.py3compat': <module 'ipython_genutils.py3compat' from '/usr/local/lib/python3.10/dist-packages/ipython_genutils/py3compat.py'>,\n",
              " 'ipython_genutils.path': <module 'ipython_genutils.path' from '/usr/local/lib/python3.10/dist-packages/ipython_genutils/path.py'>,\n",
              " 'jupyter_client._version': <module 'jupyter_client._version' from '/usr/local/lib/python3.10/dist-packages/jupyter_client/_version.py'>,\n",
              " '_ctypes': <module '_ctypes' from '/usr/lib/python3.10/lib-dynload/_ctypes.cpython-310-x86_64-linux-gnu.so'>,\n",
              " 'ctypes._endian': <module 'ctypes._endian' from '/usr/lib/python3.10/ctypes/_endian.py'>,\n",
              " 'ctypes': <module 'ctypes' from '/usr/lib/python3.10/ctypes/__init__.py'>,\n",
              " 'zmq.backend.select': <module 'zmq.backend.select' from '/usr/local/lib/python3.10/dist-packages/zmq/backend/select.py'>,\n",
              " '_cython_0_29_32': <module '_cython_0_29_32'>,\n",
              " 'cython_runtime': <module 'cython_runtime'>,\n",
              " 'zmq.error': <module 'zmq.error' from '/usr/local/lib/python3.10/dist-packages/zmq/error.py'>,\n",
              " 'zmq.backend.cython.context': <module 'zmq.backend.cython.context' from '/usr/local/lib/python3.10/dist-packages/zmq/backend/cython/context.cpython-310-x86_64-linux-gnu.so'>,\n",
              " 'zmq.backend.cython.message': <module 'zmq.backend.cython.message' from '/usr/local/lib/python3.10/dist-packages/zmq/backend/cython/message.cpython-310-x86_64-linux-gnu.so'>,\n",
              " 'zmq.constants': <module 'zmq.constants' from '/usr/local/lib/python3.10/dist-packages/zmq/constants.py'>,\n",
              " 'zmq.backend.cython.socket': <module 'zmq.backend.cython.socket' from '/usr/local/lib/python3.10/dist-packages/zmq/backend/cython/socket.cpython-310-x86_64-linux-gnu.so'>,\n",
              " 'zmq.backend.cython._device': <module 'zmq.backend.cython._device' from '/usr/local/lib/python3.10/dist-packages/zmq/backend/cython/_device.cpython-310-x86_64-linux-gnu.so'>,\n",
              " 'zmq.backend.cython._poll': <module 'zmq.backend.cython._poll' from '/usr/local/lib/python3.10/dist-packages/zmq/backend/cython/_poll.cpython-310-x86_64-linux-gnu.so'>,\n",
              " 'zmq.backend.cython._proxy_steerable': <module 'zmq.backend.cython._proxy_steerable' from '/usr/local/lib/python3.10/dist-packages/zmq/backend/cython/_proxy_steerable.cpython-310-x86_64-linux-gnu.so'>,\n",
              " 'zmq.backend.cython._version': <module 'zmq.backend.cython._version' from '/usr/local/lib/python3.10/dist-packages/zmq/backend/cython/_version.cpython-310-x86_64-linux-gnu.so'>,\n",
              " 'zmq.backend.cython.error': <module 'zmq.backend.cython.error' from '/usr/local/lib/python3.10/dist-packages/zmq/backend/cython/error.cpython-310-x86_64-linux-gnu.so'>,\n",
              " 'zmq.backend.cython.utils': <module 'zmq.backend.cython.utils' from '/usr/local/lib/python3.10/dist-packages/zmq/backend/cython/utils.cpython-310-x86_64-linux-gnu.so'>,\n",
              " 'zmq.backend.cython': <module 'zmq.backend.cython' from '/usr/local/lib/python3.10/dist-packages/zmq/backend/cython/__init__.py'>,\n",
              " 'zmq.backend': <module 'zmq.backend' from '/usr/local/lib/python3.10/dist-packages/zmq/backend/__init__.py'>,\n",
              " 'zmq.sugar.attrsettr': <module 'zmq.sugar.attrsettr' from '/usr/local/lib/python3.10/dist-packages/zmq/sugar/attrsettr.py'>,\n",
              " 'zmq._typing': <module 'zmq._typing' from '/usr/local/lib/python3.10/dist-packages/zmq/_typing.py'>,\n",
              " 'zmq.utils': <module 'zmq.utils' from '/usr/local/lib/python3.10/dist-packages/zmq/utils/__init__.py'>,\n",
              " 'zmq.utils.jsonapi': <module 'zmq.utils.jsonapi' from '/usr/local/lib/python3.10/dist-packages/zmq/utils/jsonapi.py'>,\n",
              " 'zmq.sugar.poll': <module 'zmq.sugar.poll' from '/usr/local/lib/python3.10/dist-packages/zmq/sugar/poll.py'>,\n",
              " 'zmq.sugar.socket': <module 'zmq.sugar.socket' from '/usr/local/lib/python3.10/dist-packages/zmq/sugar/socket.py'>,\n",
              " 'zmq.sugar.context': <module 'zmq.sugar.context' from '/usr/local/lib/python3.10/dist-packages/zmq/sugar/context.py'>,\n",
              " 'zmq.sugar.frame': <module 'zmq.sugar.frame' from '/usr/local/lib/python3.10/dist-packages/zmq/sugar/frame.py'>,\n",
              " 'zmq.sugar.tracker': <module 'zmq.sugar.tracker' from '/usr/local/lib/python3.10/dist-packages/zmq/sugar/tracker.py'>,\n",
              " 'zmq.sugar.version': <module 'zmq.sugar.version' from '/usr/local/lib/python3.10/dist-packages/zmq/sugar/version.py'>,\n",
              " 'zmq.sugar.stopwatch': <module 'zmq.sugar.stopwatch' from '/usr/local/lib/python3.10/dist-packages/zmq/sugar/stopwatch.py'>,\n",
              " 'zmq.sugar': <module 'zmq.sugar' from '/usr/local/lib/python3.10/dist-packages/zmq/sugar/__init__.py'>,\n",
              " 'zmq': <module 'zmq' from '/usr/local/lib/python3.10/dist-packages/zmq/__init__.py'>,\n",
              " 'jupyter_client.localinterfaces': <module 'jupyter_client.localinterfaces' from '/usr/local/lib/python3.10/dist-packages/jupyter_client/localinterfaces.py'>,\n",
              " 'jupyter_core.version': <module 'jupyter_core.version' from '/usr/local/lib/python3.10/dist-packages/jupyter_core/version.py'>,\n",
              " 'jupyter_core': <module 'jupyter_core' from '/usr/local/lib/python3.10/dist-packages/jupyter_core/__init__.py'>,\n",
              " 'platformdirs.api': <module 'platformdirs.api' from '/usr/local/lib/python3.10/dist-packages/platformdirs/api.py'>,\n",
              " 'platformdirs.version': <module 'platformdirs.version' from '/usr/local/lib/python3.10/dist-packages/platformdirs/version.py'>,\n",
              " 'configparser': <module 'configparser' from '/usr/lib/python3.10/configparser.py'>,\n",
              " 'platformdirs.unix': <module 'platformdirs.unix' from '/usr/local/lib/python3.10/dist-packages/platformdirs/unix.py'>,\n",
              " 'platformdirs': <module 'platformdirs' from '/usr/local/lib/python3.10/dist-packages/platformdirs/__init__.py'>,\n",
              " 'jupyter_core.utils': <module 'jupyter_core.utils' from '/usr/local/lib/python3.10/dist-packages/jupyter_core/utils/__init__.py'>,\n",
              " 'jupyter_core.paths': <module 'jupyter_core.paths' from '/usr/local/lib/python3.10/dist-packages/jupyter_core/paths.py'>,\n",
              " 'jupyter_client.utils': <module 'jupyter_client.utils' from '/usr/local/lib/python3.10/dist-packages/jupyter_client/utils.py'>,\n",
              " 'jupyter_client.connect': <module 'jupyter_client.connect' from '/usr/local/lib/python3.10/dist-packages/jupyter_client/connect.py'>,\n",
              " 'traitlets.log': <module 'traitlets.log' from '/usr/local/lib/python3.10/dist-packages/traitlets/log.py'>,\n",
              " 'jupyter_client.launcher': <module 'jupyter_client.launcher' from '/usr/local/lib/python3.10/dist-packages/jupyter_client/launcher.py'>,\n",
              " 'jupyter_client.channelsabc': <module 'jupyter_client.channelsabc' from '/usr/local/lib/python3.10/dist-packages/jupyter_client/channelsabc.py'>,\n",
              " 'jupyter_client.channels': <module 'jupyter_client.channels' from '/usr/local/lib/python3.10/dist-packages/jupyter_client/channels.py'>,\n",
              " 'jupyter_client.clientabc': <module 'jupyter_client.clientabc' from '/usr/local/lib/python3.10/dist-packages/jupyter_client/clientabc.py'>,\n",
              " 'jupyter_client.client': <module 'jupyter_client.client' from '/usr/local/lib/python3.10/dist-packages/jupyter_client/client.py'>,\n",
              " 'jupyter_client.kernelspec': <module 'jupyter_client.kernelspec' from '/usr/local/lib/python3.10/dist-packages/jupyter_client/kernelspec.py'>,\n",
              " 'jupyter_client.managerabc': <module 'jupyter_client.managerabc' from '/usr/local/lib/python3.10/dist-packages/jupyter_client/managerabc.py'>,\n",
              " 'jupyter_client.manager': <module 'jupyter_client.manager' from '/usr/local/lib/python3.10/dist-packages/jupyter_client/manager.py'>,\n",
              " 'jupyter_client.blocking.channels': <module 'jupyter_client.blocking.channels' from '/usr/local/lib/python3.10/dist-packages/jupyter_client/blocking/channels.py'>,\n",
              " 'jupyter_client.blocking.client': <module 'jupyter_client.blocking.client' from '/usr/local/lib/python3.10/dist-packages/jupyter_client/blocking/client.py'>,\n",
              " 'jupyter_client.blocking': <module 'jupyter_client.blocking' from '/usr/local/lib/python3.10/dist-packages/jupyter_client/blocking/__init__.py'>,\n",
              " 'zmq._future': <module 'zmq._future' from '/usr/local/lib/python3.10/dist-packages/zmq/_future.py'>,\n",
              " 'zmq.asyncio': <module 'zmq.asyncio' from '/usr/local/lib/python3.10/dist-packages/zmq/asyncio.py'>,\n",
              " 'jupyter_client.asynchronous.channels': <module 'jupyter_client.asynchronous.channels' from '/usr/local/lib/python3.10/dist-packages/jupyter_client/asynchronous/channels.py'>,\n",
              " 'jupyter_client.asynchronous.client': <module 'jupyter_client.asynchronous.client' from '/usr/local/lib/python3.10/dist-packages/jupyter_client/asynchronous/client.py'>,\n",
              " 'jupyter_client.asynchronous': <module 'jupyter_client.asynchronous' from '/usr/local/lib/python3.10/dist-packages/jupyter_client/asynchronous/__init__.py'>,\n",
              " '_uuid': <module '_uuid' from '/usr/lib/python3.10/lib-dynload/_uuid.cpython-310-x86_64-linux-gnu.so'>,\n",
              " 'uuid': <module 'uuid' from '/usr/lib/python3.10/uuid.py'>,\n",
              " 'jupyter_client.multikernelmanager': <module 'jupyter_client.multikernelmanager' from '/usr/local/lib/python3.10/dist-packages/jupyter_client/multikernelmanager.py'>,\n",
              " 'jupyter_client': <module 'jupyter_client' from '/usr/local/lib/python3.10/dist-packages/jupyter_client/__init__.py'>,\n",
              " 'ipykernel.connect': <module 'ipykernel.connect' from '/usr/local/lib/python3.10/dist-packages/ipykernel/connect.py'>,\n",
              " 'ipykernel': <module 'ipykernel' from '/usr/local/lib/python3.10/dist-packages/ipykernel/__init__.py'>,\n",
              " 'tornado': <module 'tornado' from '/usr/local/lib/python3.10/dist-packages/tornado/__init__.py'>,\n",
              " 'numbers': <module 'numbers' from '/usr/lib/python3.10/numbers.py'>,\n",
              " 'tornado.speedups': <module 'tornado.speedups' from '/usr/local/lib/python3.10/dist-packages/tornado/speedups.abi3.so'>,\n",
              " 'tornado.util': <module 'tornado.util' from '/usr/local/lib/python3.10/dist-packages/tornado/util.py'>,\n",
              " 'tornado.escape': <module 'tornado.escape' from '/usr/local/lib/python3.10/dist-packages/tornado/escape.py'>,\n",
              " '_curses': <module '_curses' from '/usr/lib/python3.10/lib-dynload/_curses.cpython-310-x86_64-linux-gnu.so'>,\n",
              " 'curses': <module 'curses' from '/usr/lib/python3.10/curses/__init__.py'>,\n",
              " 'tornado.log': <module 'tornado.log' from '/usr/local/lib/python3.10/dist-packages/tornado/log.py'>,\n",
              " 'tornado.concurrent': <module 'tornado.concurrent' from '/usr/local/lib/python3.10/dist-packages/tornado/concurrent.py'>,\n",
              " 'tornado.ioloop': <module 'tornado.ioloop' from '/usr/local/lib/python3.10/dist-packages/tornado/ioloop.py'>,\n",
              " 'tornado.platform': <module 'tornado.platform' from '/usr/local/lib/python3.10/dist-packages/tornado/platform/__init__.py'>,\n",
              " 'tornado.gen': <module 'tornado.gen' from '/usr/local/lib/python3.10/dist-packages/tornado/gen.py'>,\n",
              " 'tornado.platform.asyncio': <module 'tornado.platform.asyncio' from '/usr/local/lib/python3.10/dist-packages/tornado/platform/asyncio.py'>,\n",
              " 'zmq.eventloop.ioloop': <module 'zmq.eventloop.ioloop' from '/usr/local/lib/python3.10/dist-packages/zmq/eventloop/ioloop.py'>,\n",
              " 'zmq.eventloop': <module 'zmq.eventloop' from '/usr/local/lib/python3.10/dist-packages/zmq/eventloop/__init__.py'>,\n",
              " 'zmq.eventloop.zmqstream': <module 'zmq.eventloop.zmqstream' from '/usr/local/lib/python3.10/dist-packages/zmq/eventloop/zmqstream.py'>,\n",
              " 'ipython_genutils.importstring': <module 'ipython_genutils.importstring' from '/usr/local/lib/python3.10/dist-packages/ipython_genutils/importstring.py'>,\n",
              " 'imp': <module 'imp' from '/usr/lib/python3.10/imp.py'>,\n",
              " 'hmac': <module 'hmac' from '/usr/lib/python3.10/hmac.py'>,\n",
              " 'dateutil._version': <module 'dateutil._version' from '/usr/local/lib/python3.10/dist-packages/dateutil/_version.py'>,\n",
              " 'dateutil': <module 'dateutil' from '/usr/local/lib/python3.10/dist-packages/dateutil/__init__.py'>,\n",
              " 'six': <module 'six' from '/usr/local/lib/python3.10/dist-packages/six.py'>,\n",
              " '_decimal': <module '_decimal' from '/usr/lib/python3.10/lib-dynload/_decimal.cpython-310-x86_64-linux-gnu.so'>,\n",
              " 'decimal': <module 'decimal' from '/usr/lib/python3.10/decimal.py'>,\n",
              " 'dateutil._common': <module 'dateutil._common' from '/usr/local/lib/python3.10/dist-packages/dateutil/_common.py'>,\n",
              " 'dateutil.relativedelta': <module 'dateutil.relativedelta' from '/usr/local/lib/python3.10/dist-packages/dateutil/relativedelta.py'>,\n",
              " 'six.moves': <module 'six.moves' (<six._SixMetaPathImporter object at 0x7e0724c37e20>)>,\n",
              " 'dateutil.tz._common': <module 'dateutil.tz._common' from '/usr/local/lib/python3.10/dist-packages/dateutil/tz/_common.py'>,\n",
              " 'dateutil.tz._factories': <module 'dateutil.tz._factories' from '/usr/local/lib/python3.10/dist-packages/dateutil/tz/_factories.py'>,\n",
              " 'dateutil.tz.tz': <module 'dateutil.tz.tz' from '/usr/local/lib/python3.10/dist-packages/dateutil/tz/tz.py'>,\n",
              " 'dateutil.tz': <module 'dateutil.tz' from '/usr/local/lib/python3.10/dist-packages/dateutil/tz/__init__.py'>,\n",
              " 'dateutil.parser._parser': <module 'dateutil.parser._parser' from '/usr/local/lib/python3.10/dist-packages/dateutil/parser/_parser.py'>,\n",
              " 'dateutil.parser.isoparser': <module 'dateutil.parser.isoparser' from '/usr/local/lib/python3.10/dist-packages/dateutil/parser/isoparser.py'>,\n",
              " 'dateutil.parser': <module 'dateutil.parser' from '/usr/local/lib/python3.10/dist-packages/dateutil/parser/__init__.py'>,\n",
              " '_strptime': <module '_strptime' from '/usr/lib/python3.10/_strptime.py'>,\n",
              " 'jupyter_client.jsonutil': <module 'jupyter_client.jsonutil' from '/usr/local/lib/python3.10/dist-packages/jupyter_client/jsonutil.py'>,\n",
              " 'jupyter_client.adapter': <module 'jupyter_client.adapter' from '/usr/local/lib/python3.10/dist-packages/jupyter_client/adapter.py'>,\n",
              " 'jupyter_client.session': <module 'jupyter_client.session' from '/usr/local/lib/python3.10/dist-packages/jupyter_client/session.py'>,\n",
              " 'ipykernel.iostream': <module 'ipykernel.iostream' from '/usr/local/lib/python3.10/dist-packages/ipykernel/iostream.py'>,\n",
              " 'ipykernel.heartbeat': <module 'ipykernel.heartbeat' from '/usr/local/lib/python3.10/dist-packages/ipykernel/heartbeat.py'>,\n",
              " 'IPython.utils.tokenutil': <module 'IPython.utils.tokenutil' from '/usr/local/lib/python3.10/dist-packages/IPython/utils/tokenutil.py'>,\n",
              " 'tornado.locks': <module 'tornado.locks' from '/usr/local/lib/python3.10/dist-packages/tornado/locks.py'>,\n",
              " 'tornado.queues': <module 'tornado.queues' from '/usr/local/lib/python3.10/dist-packages/tornado/queues.py'>,\n",
              " 'ipykernel.jsonutil': <module 'ipykernel.jsonutil' from '/usr/local/lib/python3.10/dist-packages/ipykernel/jsonutil.py'>,\n",
              " 'ipykernel.kernelbase': <module 'ipykernel.kernelbase' from '/usr/local/lib/python3.10/dist-packages/ipykernel/kernelbase.py'>,\n",
              " 'ipykernel.comm.comm': <module 'ipykernel.comm.comm' from '/usr/local/lib/python3.10/dist-packages/ipykernel/comm/comm.py'>,\n",
              " 'ipykernel.comm.manager': <module 'ipykernel.comm.manager' from '/usr/local/lib/python3.10/dist-packages/ipykernel/comm/manager.py'>,\n",
              " 'ipykernel.comm': <module 'ipykernel.comm' from '/usr/local/lib/python3.10/dist-packages/ipykernel/comm/__init__.py'>,\n",
              " 'IPython.core.payloadpage': <module 'IPython.core.payloadpage' from '/usr/local/lib/python3.10/dist-packages/IPython/core/payloadpage.py'>,\n",
              " 'ipykernel.displayhook': <module 'ipykernel.displayhook' from '/usr/local/lib/python3.10/dist-packages/ipykernel/displayhook.py'>,\n",
              " 'ipykernel.codeutil': <module 'ipykernel.codeutil' from '/usr/local/lib/python3.10/dist-packages/ipykernel/codeutil.py'>,\n",
              " 'ipykernel.pickleutil': <module 'ipykernel.pickleutil' from '/usr/local/lib/python3.10/dist-packages/ipykernel/pickleutil.py'>,\n",
              " 'ipykernel.serialize': <module 'ipykernel.serialize' from '/usr/local/lib/python3.10/dist-packages/ipykernel/serialize.py'>,\n",
              " 'ipykernel.datapub': <module 'ipykernel.datapub' from '/usr/local/lib/python3.10/dist-packages/ipykernel/datapub.py'>,\n",
              " 'ipykernel.zmqshell': <module 'ipykernel.zmqshell' from '/usr/local/lib/python3.10/dist-packages/ipykernel/zmqshell.py'>,\n",
              " 'importlib.abc': <module 'importlib.abc' from '/usr/lib/python3.10/importlib/abc.py'>,\n",
              " 'distutils.errors': <module 'distutils.errors' from '/usr/local/lib/python3.10/dist-packages/setuptools/_distutils/errors.py'>,\n",
              " 'distutils.py39compat': <module 'distutils.py39compat' from '/usr/local/lib/python3.10/dist-packages/setuptools/_distutils/py39compat.py'>,\n",
              " 'distutils._functools': <module 'distutils._functools' from '/usr/local/lib/python3.10/dist-packages/setuptools/_distutils/_functools.py'>,\n",
              " 'distutils.sysconfig': <module 'distutils.sysconfig' from '/usr/local/lib/python3.10/dist-packages/setuptools/_distutils/sysconfig.py'>,\n",
              " 'distutils.command': <module 'distutils.command' from '/usr/local/lib/python3.10/dist-packages/setuptools/_distutils/command/__init__.py'>,\n",
              " 'distutils._log': <module 'distutils._log' from '/usr/local/lib/python3.10/dist-packages/setuptools/_distutils/_log.py'>,\n",
              " 'distutils.debug': <module 'distutils.debug' from '/usr/local/lib/python3.10/dist-packages/setuptools/_distutils/debug.py'>,\n",
              " 'distutils.fancy_getopt': <module 'distutils.fancy_getopt' from '/usr/local/lib/python3.10/dist-packages/setuptools/_distutils/fancy_getopt.py'>,\n",
              " 'distutils.dep_util': <module 'distutils.dep_util' from '/usr/local/lib/python3.10/dist-packages/setuptools/_distutils/dep_util.py'>,\n",
              " 'distutils.spawn': <module 'distutils.spawn' from '/usr/local/lib/python3.10/dist-packages/setuptools/_distutils/spawn.py'>,\n",
              " 'distutils.util': <module 'distutils.util' from '/usr/local/lib/python3.10/dist-packages/setuptools/_distutils/util.py'>,\n",
              " 'distutils.dist': <module 'distutils.dist' from '/usr/local/lib/python3.10/dist-packages/setuptools/_distutils/dist.py'>,\n",
              " 'distutils.dir_util': <module 'distutils.dir_util' from '/usr/local/lib/python3.10/dist-packages/setuptools/_distutils/dir_util.py'>,\n",
              " 'distutils.file_util': <module 'distutils.file_util' from '/usr/local/lib/python3.10/dist-packages/setuptools/_distutils/file_util.py'>,\n",
              " 'zipfile': <module 'zipfile' from '/usr/lib/python3.10/zipfile.py'>,\n",
              " 'pwd': <module 'pwd' (built-in)>,\n",
              " 'grp': <module 'grp' (built-in)>,\n",
              " 'distutils.archive_util': <module 'distutils.archive_util' from '/usr/local/lib/python3.10/dist-packages/setuptools/_distutils/archive_util.py'>,\n",
              " 'distutils.cmd': <module 'distutils.cmd' from '/usr/local/lib/python3.10/dist-packages/setuptools/_distutils/cmd.py'>,\n",
              " 'distutils.config': <module 'distutils.config' from '/usr/local/lib/python3.10/dist-packages/setuptools/_distutils/config.py'>,\n",
              " 'distutils.extension': <module 'distutils.extension' from '/usr/local/lib/python3.10/dist-packages/setuptools/_distutils/extension.py'>,\n",
              " 'distutils.core': <module 'distutils.core' from '/usr/local/lib/python3.10/dist-packages/setuptools/_distutils/core.py'>,\n",
              " 'distutils.command._framework_compat': <module 'distutils.command._framework_compat' from '/usr/local/lib/python3.10/dist-packages/setuptools/_distutils/command/_framework_compat.py'>,\n",
              " 'distutils._collections': <module 'distutils._collections' from '/usr/local/lib/python3.10/dist-packages/setuptools/_distutils/_collections.py'>,\n",
              " 'distutils.command.install': <module 'distutils.command.install' from '/usr/local/lib/python3.10/dist-packages/setuptools/_distutils/command/install.py'>,\n",
              " 'distutils.command.install_egg_info': <module 'distutils.command.install_egg_info' from '/usr/local/lib/python3.10/dist-packages/setuptools/_distutils/command/install_egg_info.py'>,\n",
              " '_distutils_system_mod': <module '_distutils_system_mod' from '/usr/lib/python3.10/_distutils_system_mod.py'>,\n",
              " 'setuptools._distutils': <module 'distutils' (/usr/local/lib/python3.10/dist-packages/setuptools/_distutils/__init__.py)>,\n",
              " '_distutils_hack.override': <module '_distutils_hack.override' from '/usr/local/lib/python3.10/dist-packages/_distutils_hack/override.py'>,\n",
              " 'setuptools.warnings': <module 'setuptools.warnings' from '/usr/local/lib/python3.10/dist-packages/setuptools/warnings.py'>,\n",
              " '_csv': <module '_csv' (built-in)>,\n",
              " 'csv': <module 'csv' from '/usr/lib/python3.10/csv.py'>,\n",
              " 'importlib.metadata._functools': <module 'importlib.metadata._functools' from '/usr/lib/python3.10/importlib/metadata/_functools.py'>,\n",
              " 'importlib.metadata._text': <module 'importlib.metadata._text' from '/usr/lib/python3.10/importlib/metadata/_text.py'>,\n",
              " 'importlib.metadata._adapters': <module 'importlib.metadata._adapters' from '/usr/lib/python3.10/importlib/metadata/_adapters.py'>,\n",
              " 'importlib.metadata._meta': <module 'importlib.metadata._meta' from '/usr/lib/python3.10/importlib/metadata/_meta.py'>,\n",
              " 'importlib.metadata._collections': <module 'importlib.metadata._collections' from '/usr/lib/python3.10/importlib/metadata/_collections.py'>,\n",
              " 'importlib.metadata._itertools': <module 'importlib.metadata._itertools' from '/usr/lib/python3.10/importlib/metadata/_itertools.py'>,\n",
              " 'importlib.metadata': <module 'importlib.metadata' from '/usr/lib/python3.10/importlib/metadata/__init__.py'>,\n",
              " 'importlib._adapters': <module 'importlib._adapters' from '/usr/lib/python3.10/importlib/_adapters.py'>,\n",
              " 'importlib._common': <module 'importlib._common' from '/usr/lib/python3.10/importlib/_common.py'>,\n",
              " 'importlib.resources': <module 'importlib.resources' from '/usr/lib/python3.10/importlib/resources.py'>,\n",
              " 'setuptools._importlib': <module 'setuptools._importlib' from '/usr/local/lib/python3.10/dist-packages/setuptools/_importlib.py'>,\n",
              " 'setuptools.version': <module 'setuptools.version' from '/usr/local/lib/python3.10/dist-packages/setuptools/version.py'>,\n",
              " 'distutils.filelist': <module 'distutils.filelist' from '/usr/local/lib/python3.10/dist-packages/setuptools/_distutils/filelist.py'>,\n",
              " 'setuptools.monkey': <module 'setuptools.monkey' from '/usr/local/lib/python3.10/dist-packages/setuptools/monkey.py'>,\n",
              " 'setuptools.extension': <module 'setuptools.extension' from '/usr/local/lib/python3.10/dist-packages/setuptools/extension.py'>,\n",
              " 'distutils.log': <module 'distutils.log' from '/usr/local/lib/python3.10/dist-packages/setuptools/_distutils/log.py'>,\n",
              " 'setuptools.extern': <module 'setuptools.extern' from '/usr/local/lib/python3.10/dist-packages/setuptools/extern/__init__.py'>,\n",
              " 'setuptools._vendor': <module 'setuptools._vendor' from '/usr/local/lib/python3.10/dist-packages/setuptools/_vendor/__init__.py'>,\n",
              " 'setuptools._vendor.packaging': <module 'setuptools.extern.packaging' (<setuptools.extern.VendorImporter object at 0x7e072477c2e0>)>,\n",
              " 'setuptools.extern.packaging': <module 'setuptools.extern.packaging' (<setuptools.extern.VendorImporter object at 0x7e072477c2e0>)>,\n",
              " 'setuptools._vendor.ordered_set': <module 'setuptools.extern.ordered_set' (<setuptools.extern.VendorImporter object at 0x7e072477c2e0>)>,\n",
              " 'setuptools.extern.ordered_set': <module 'setuptools.extern.ordered_set' (<setuptools.extern.VendorImporter object at 0x7e072477c2e0>)>,\n",
              " 'setuptools._vendor.more_itertools.recipes': <module 'setuptools._vendor.more_itertools.recipes' from '/usr/local/lib/python3.10/dist-packages/setuptools/_vendor/more_itertools/recipes.py'>,\n",
              " 'setuptools._vendor.more_itertools.more': <module 'setuptools._vendor.more_itertools.more' from '/usr/local/lib/python3.10/dist-packages/setuptools/_vendor/more_itertools/more.py'>,\n",
              " 'setuptools._vendor.more_itertools': <module 'setuptools.extern.more_itertools' (<setuptools.extern.VendorImporter object at 0x7e072477c2e0>)>,\n",
              " 'setuptools.extern.more_itertools': <module 'setuptools.extern.more_itertools' (<setuptools.extern.VendorImporter object at 0x7e072477c2e0>)>,\n",
              " 'distutils.command.bdist': <module 'distutils.command.bdist' from '/usr/local/lib/python3.10/dist-packages/setuptools/_distutils/command/bdist.py'>,\n",
              " 'setuptools.command': <module 'setuptools.command' from '/usr/local/lib/python3.10/dist-packages/setuptools/command/__init__.py'>,\n",
              " 'setuptools.windows_support': <module 'setuptools.windows_support' from '/usr/local/lib/python3.10/dist-packages/setuptools/windows_support.py'>,\n",
              " 'setuptools.errors': <module 'setuptools.errors' from '/usr/local/lib/python3.10/dist-packages/setuptools/errors.py'>,\n",
              " 'setuptools._vendor.packaging._elffile': <module 'setuptools._vendor.packaging._elffile' from '/usr/local/lib/python3.10/dist-packages/setuptools/_vendor/packaging/_elffile.py'>,\n",
              " 'setuptools._vendor.packaging._manylinux': <module 'setuptools._vendor.packaging._manylinux' from '/usr/local/lib/python3.10/dist-packages/setuptools/_vendor/packaging/_manylinux.py'>,\n",
              " 'setuptools._vendor.packaging._musllinux': <module 'setuptools._vendor.packaging._musllinux' from '/usr/local/lib/python3.10/dist-packages/setuptools/_vendor/packaging/_musllinux.py'>,\n",
              " 'setuptools.extern.packaging.tags': <module 'setuptools.extern.packaging.tags' from '/usr/local/lib/python3.10/dist-packages/setuptools/_vendor/packaging/tags.py'>,\n",
              " 'setuptools.extern.packaging._structures': <module 'setuptools.extern.packaging._structures' from '/usr/local/lib/python3.10/dist-packages/setuptools/_vendor/packaging/_structures.py'>,\n",
              " 'setuptools.extern.packaging.version': <module 'setuptools.extern.packaging.version' from '/usr/local/lib/python3.10/dist-packages/setuptools/_vendor/packaging/version.py'>,\n",
              " 'setuptools.extern.packaging.utils': <module 'setuptools.extern.packaging.utils' from '/usr/local/lib/python3.10/dist-packages/setuptools/_vendor/packaging/utils.py'>,\n",
              " 'setuptools.extern.packaging.specifiers': <module 'setuptools.extern.packaging.specifiers' from '/usr/local/lib/python3.10/dist-packages/setuptools/_vendor/packaging/specifiers.py'>,\n",
              " 'setuptools.extern.packaging._tokenizer': <module 'setuptools.extern.packaging._tokenizer' from '/usr/local/lib/python3.10/dist-packages/setuptools/_vendor/packaging/_tokenizer.py'>,\n",
              " 'setuptools.extern.packaging._parser': <module 'setuptools.extern.packaging._parser' from '/usr/local/lib/python3.10/dist-packages/setuptools/_vendor/packaging/_parser.py'>,\n",
              " 'setuptools.extern.packaging.markers': <module 'setuptools.extern.packaging.markers' from '/usr/local/lib/python3.10/dist-packages/setuptools/_vendor/packaging/markers.py'>,\n",
              " 'setuptools.extern.packaging.requirements': <module 'setuptools.extern.packaging.requirements' from '/usr/local/lib/python3.10/dist-packages/setuptools/_vendor/packaging/requirements.py'>,\n",
              " 'setuptools._path': <module 'setuptools._path' from '/usr/local/lib/python3.10/dist-packages/setuptools/_path.py'>,\n",
              " 'setuptools.config.expand': <module 'setuptools.config.expand' from '/usr/local/lib/python3.10/dist-packages/setuptools/config/expand.py'>,\n",
              " 'setuptools.config.setupcfg': <module 'setuptools.config.setupcfg' from '/usr/local/lib/python3.10/dist-packages/setuptools/config/setupcfg.py'>,\n",
              " 'setuptools.config': <module 'setuptools.config' from '/usr/local/lib/python3.10/dist-packages/setuptools/config/__init__.py'>,\n",
              " 'email._header_value_parser': <module 'email._header_value_parser' from '/usr/lib/python3.10/email/_header_value_parser.py'>,\n",
              " 'email.headerregistry': <module 'email.headerregistry' from '/usr/lib/python3.10/email/headerregistry.py'>,\n",
              " 'setuptools.config._apply_pyprojecttoml': <module 'setuptools.config._apply_pyprojecttoml' from '/usr/local/lib/python3.10/dist-packages/setuptools/config/_apply_pyprojecttoml.py'>,\n",
              " 'setuptools.config.pyprojecttoml': <module 'setuptools.config.pyprojecttoml' from '/usr/local/lib/python3.10/dist-packages/setuptools/config/pyprojecttoml.py'>,\n",
              " 'setuptools.discovery': <module 'setuptools.discovery' from '/usr/local/lib/python3.10/dist-packages/setuptools/discovery.py'>,\n",
              " 'setuptools._vendor.jaraco': <module 'setuptools.extern.jaraco' (<setuptools.extern.VendorImporter object at 0x7e072477c2e0>)>,\n",
              " 'setuptools.extern.jaraco': <module 'setuptools.extern.jaraco' (<setuptools.extern.VendorImporter object at 0x7e072477c2e0>)>,\n",
              " 'setuptools.extern.jaraco.functools': <module 'setuptools.extern.jaraco.functools' from '/usr/local/lib/python3.10/dist-packages/setuptools/_vendor/jaraco/functools.py'>,\n",
              " 'setuptools.extern.jaraco.context': <module 'setuptools.extern.jaraco.context' from '/usr/local/lib/python3.10/dist-packages/setuptools/_vendor/jaraco/context.py'>,\n",
              " 'setuptools.extern.jaraco.text': <module 'setuptools.extern.jaraco.text' from '/usr/local/lib/python3.10/dist-packages/setuptools/_vendor/jaraco/text/__init__.py'>,\n",
              " 'setuptools._reqs': <module 'setuptools._reqs' from '/usr/local/lib/python3.10/dist-packages/setuptools/_reqs.py'>,\n",
              " 'setuptools._itertools': <module 'setuptools._itertools' from '/usr/local/lib/python3.10/dist-packages/setuptools/_itertools.py'>,\n",
              " 'setuptools._entry_points': <module 'setuptools._entry_points' from '/usr/local/lib/python3.10/dist-packages/setuptools/_entry_points.py'>,\n",
              " 'setuptools._normalization': <module 'setuptools._normalization' from '/usr/local/lib/python3.10/dist-packages/setuptools/_normalization.py'>,\n",
              " 'setuptools.dist': <module 'setuptools.dist' from '/usr/local/lib/python3.10/dist-packages/setuptools/dist.py'>,\n",
              " 'setuptools.py34compat': <module 'setuptools.py34compat' from '/usr/local/lib/python3.10/dist-packages/setuptools/py34compat.py'>,\n",
              " 'setuptools._imp': <module 'setuptools._imp' from '/usr/local/lib/python3.10/dist-packages/setuptools/_imp.py'>,\n",
              " 'setuptools.depends': <module 'setuptools.depends' from '/usr/local/lib/python3.10/dist-packages/setuptools/depends.py'>,\n",
              " 'setuptools.logging': <module 'setuptools.logging' from '/usr/local/lib/python3.10/dist-packages/setuptools/logging.py'>,\n",
              " 'setuptools.msvc': <module 'setuptools.msvc' from '/usr/local/lib/python3.10/dist-packages/setuptools/msvc.py'>,\n",
              " 'setuptools': <module 'setuptools' from '/usr/local/lib/python3.10/dist-packages/setuptools/__init__.py'>,\n",
              " 'distutils': <module 'distutils' (/usr/local/lib/python3.10/dist-packages/setuptools/_distutils/__init__.py)>,\n",
              " 'distutils.version': <module 'distutils.version' from '/usr/local/lib/python3.10/dist-packages/setuptools/_distutils/version.py'>,\n",
              " 'ipykernel.eventloops': <module 'ipykernel.eventloops' from '/usr/local/lib/python3.10/dist-packages/ipykernel/eventloops.py'>,\n",
              " 'ipykernel.ipkernel': <module 'ipykernel.ipkernel' from '/usr/local/lib/python3.10/dist-packages/ipykernel/ipkernel.py'>,\n",
              " 'ipykernel.parentpoller': <module 'ipykernel.parentpoller' from '/usr/local/lib/python3.10/dist-packages/ipykernel/parentpoller.py'>,\n",
              " 'ipykernel.kernelapp': <module 'ipykernel.kernelapp' from '/usr/local/lib/python3.10/dist-packages/ipykernel/kernelapp.py'>,\n",
              " 'google.colab._import_hooks._altair': <module 'google.colab._import_hooks._altair' from '/usr/local/lib/python3.10/dist-packages/google/colab/_import_hooks/_altair.py'>,\n",
              " 'google.colab._import_hooks._bokeh': <module 'google.colab._import_hooks._bokeh' from '/usr/local/lib/python3.10/dist-packages/google/colab/_import_hooks/_bokeh.py'>,\n",
              " 'google.colab._import_hooks._client_info': <module 'google.colab._import_hooks._client_info' from '/usr/local/lib/python3.10/dist-packages/google/colab/_import_hooks/_client_info.py'>,\n",
              " 'google.colab._import_hooks._cv2': <module 'google.colab._import_hooks._cv2' from '/usr/local/lib/python3.10/dist-packages/google/colab/_import_hooks/_cv2.py'>,\n",
              " 'google.colab._import_hooks._generativeai': <module 'google.colab._import_hooks._generativeai' from '/usr/local/lib/python3.10/dist-packages/google/colab/_import_hooks/_generativeai.py'>,\n",
              " 'google.colab._import_hooks._pydrive': <module 'google.colab._import_hooks._pydrive' from '/usr/local/lib/python3.10/dist-packages/google/colab/_import_hooks/_pydrive.py'>,\n",
              " 'google.colab._import_hooks._pydrive2': <module 'google.colab._import_hooks._pydrive2' from '/usr/local/lib/python3.10/dist-packages/google/colab/_import_hooks/_pydrive2.py'>,\n",
              " 'google.colab._import_hooks': <module 'google.colab._import_hooks' from '/usr/local/lib/python3.10/dist-packages/google/colab/_import_hooks/__init__.py'>,\n",
              " 'google.colab._import_magics': <module 'google.colab._import_magics' from '/usr/local/lib/python3.10/dist-packages/google/colab/_import_magics.py'>,\n",
              " 'google.colab._installation_commands': <module 'google.colab._installation_commands' from '/usr/local/lib/python3.10/dist-packages/google/colab/_installation_commands.py'>,\n",
              " 'google.colab._interactive_table_helper': <module 'google.colab._interactive_table_helper' from '/usr/local/lib/python3.10/dist-packages/google/colab/_interactive_table_helper.py'>,\n",
              " 'google.colab._generate_with_variable': <module 'google.colab._generate_with_variable' from '/usr/local/lib/python3.10/dist-packages/google/colab/_generate_with_variable.py'>,\n",
              " 'google.colab._quickchart': <module 'google.colab._quickchart' from '/usr/local/lib/python3.10/dist-packages/google/colab/_quickchart.py'>,\n",
              " 'google.colab._ipython': <module 'google.colab._ipython' from '/usr/local/lib/python3.10/dist-packages/google/colab/_ipython.py'>,\n",
              " 'google.colab.errors': <module 'google.colab.errors' from '/usr/local/lib/python3.10/dist-packages/google/colab/errors.py'>,\n",
              " 'google.colab._message': <module 'google.colab._message' from '/usr/local/lib/python3.10/dist-packages/google/colab/_message.py'>,\n",
              " 'google.colab.output._js': <module 'google.colab.output._js' from '/usr/local/lib/python3.10/dist-packages/google/colab/output/_js.py'>,\n",
              " 'google.colab.output._publish': <module 'google.colab.output._publish' from '/usr/local/lib/python3.10/dist-packages/google/colab/output/_publish.py'>,\n",
              " 'google.colab.output._js_builder': <module 'google.colab.output._js_builder' from '/usr/local/lib/python3.10/dist-packages/google/colab/output/_js_builder.py'>,\n",
              " 'google.colab.output._area': <module 'google.colab.output._area' from '/usr/local/lib/python3.10/dist-packages/google/colab/output/_area.py'>,\n",
              " 'google.colab.output._tags': <module 'google.colab.output._tags' from '/usr/local/lib/python3.10/dist-packages/google/colab/output/_tags.py'>,\n",
              " 'google.colab.output._util': <module 'google.colab.output._util' from '/usr/local/lib/python3.10/dist-packages/google/colab/output/_util.py'>,\n",
              " 'google.colab.output._widgets': <module 'google.colab.output._widgets' from '/usr/local/lib/python3.10/dist-packages/google/colab/output/_widgets.py'>,\n",
              " 'google.colab.output': <module 'google.colab.output' from '/usr/local/lib/python3.10/dist-packages/google/colab/output/__init__.py'>,\n",
              " 'google.colab._quickchart_hint_button': <module 'google.colab._quickchart_hint_button' from '/usr/local/lib/python3.10/dist-packages/google/colab/_quickchart_hint_button.py'>,\n",
              " 'google.colab._quickchart_lib': <module 'google.colab._quickchart_lib' from '/usr/local/lib/python3.10/dist-packages/google/colab/_quickchart_lib.py'>,\n",
              " 'google.colab.autoviz': <module 'google.colab.autoviz' from '/usr/local/lib/python3.10/dist-packages/google/colab/autoviz.py'>,\n",
              " 'google.colab.widgets._widget': <module 'google.colab.widgets._widget' from '/usr/local/lib/python3.10/dist-packages/google/colab/widgets/_widget.py'>,\n",
              " 'google.colab.widgets._grid': <module 'google.colab.widgets._grid' from '/usr/local/lib/python3.10/dist-packages/google/colab/widgets/_grid.py'>,\n",
              " 'google.colab.widgets._tabbar': <module 'google.colab.widgets._tabbar' from '/usr/local/lib/python3.10/dist-packages/google/colab/widgets/_tabbar.py'>,\n",
              " 'google.colab.widgets': <module 'google.colab.widgets' from '/usr/local/lib/python3.10/dist-packages/google/colab/widgets/__init__.py'>,\n",
              " 'IPython.utils.traitlets': <module 'IPython.utils.traitlets' from '/usr/local/lib/python3.10/dist-packages/IPython/utils/traitlets.py'>,\n",
              " 'google.colab.data_table': <module 'google.colab.data_table' from '/usr/local/lib/python3.10/dist-packages/google/colab/data_table.py'>,\n",
              " 'google.colab._interactive_table_hint_button': <module 'google.colab._interactive_table_hint_button' from '/usr/local/lib/python3.10/dist-packages/google/colab/_interactive_table_hint_button.py'>,\n",
              " 'google.colab._inspector': <module 'google.colab._inspector' from '/usr/local/lib/python3.10/dist-packages/google/colab/_inspector.py'>,\n",
              " 'numpy._globals': <module 'numpy._globals' from '/usr/local/lib/python3.10/dist-packages/numpy/_globals.py'>,\n",
              " 'numpy.__config__': <module 'numpy.__config__' from '/usr/local/lib/python3.10/dist-packages/numpy/__config__.py'>,\n",
              " 'numpy._distributor_init': <module 'numpy._distributor_init' from '/usr/local/lib/python3.10/dist-packages/numpy/_distributor_init.py'>,\n",
              " 'numpy._version': <module 'numpy._version' from '/usr/local/lib/python3.10/dist-packages/numpy/_version.py'>,\n",
              " 'numpy.version': <module 'numpy.version' from '/usr/local/lib/python3.10/dist-packages/numpy/version.py'>,\n",
              " 'numpy.core._multiarray_umath': <module 'numpy.core._multiarray_umath' from '/usr/local/lib/python3.10/dist-packages/numpy/core/_multiarray_umath.cpython-310-x86_64-linux-gnu.so'>,\n",
              " 'numpy.compat._inspect': <module 'numpy.compat._inspect' from '/usr/local/lib/python3.10/dist-packages/numpy/compat/_inspect.py'>,\n",
              " 'numpy.compat._pep440': <module 'numpy.compat._pep440' from '/usr/local/lib/python3.10/dist-packages/numpy/compat/_pep440.py'>,\n",
              " 'numpy.compat.py3k': <module 'numpy.compat.py3k' from '/usr/local/lib/python3.10/dist-packages/numpy/compat/py3k.py'>,\n",
              " 'numpy.compat': <module 'numpy.compat' from '/usr/local/lib/python3.10/dist-packages/numpy/compat/__init__.py'>,\n",
              " 'numpy.core.overrides': <module 'numpy.core.overrides' from '/usr/local/lib/python3.10/dist-packages/numpy/core/overrides.py'>,\n",
              " 'numpy.core.multiarray': <module 'numpy.core.multiarray' from '/usr/local/lib/python3.10/dist-packages/numpy/core/multiarray.py'>,\n",
              " 'numpy.core.umath': <module 'numpy.core.umath' from '/usr/local/lib/python3.10/dist-packages/numpy/core/umath.py'>,\n",
              " 'numpy.core._string_helpers': <module 'numpy.core._string_helpers' from '/usr/local/lib/python3.10/dist-packages/numpy/core/_string_helpers.py'>,\n",
              " 'numpy.core._dtype': <module 'numpy.core._dtype' from '/usr/local/lib/python3.10/dist-packages/numpy/core/_dtype.py'>,\n",
              " 'numpy.core._type_aliases': <module 'numpy.core._type_aliases' from '/usr/local/lib/python3.10/dist-packages/numpy/core/_type_aliases.py'>,\n",
              " 'numpy.core.numerictypes': <module 'numpy.core.numerictypes' from '/usr/local/lib/python3.10/dist-packages/numpy/core/numerictypes.py'>,\n",
              " 'numpy.core._exceptions': <module 'numpy.core._exceptions' from '/usr/local/lib/python3.10/dist-packages/numpy/core/_exceptions.py'>,\n",
              " 'numpy.core._methods': <module 'numpy.core._methods' from '/usr/local/lib/python3.10/dist-packages/numpy/core/_methods.py'>,\n",
              " 'numpy.core.fromnumeric': <module 'numpy.core.fromnumeric' from '/usr/local/lib/python3.10/dist-packages/numpy/core/fromnumeric.py'>,\n",
              " 'numpy.core.shape_base': <module 'numpy.core.shape_base' from '/usr/local/lib/python3.10/dist-packages/numpy/core/shape_base.py'>,\n",
              " 'numpy.core._ufunc_config': <module 'numpy.core._ufunc_config' from '/usr/local/lib/python3.10/dist-packages/numpy/core/_ufunc_config.py'>,\n",
              " 'numpy.core.arrayprint': <module 'numpy.core.arrayprint' from '/usr/local/lib/python3.10/dist-packages/numpy/core/arrayprint.py'>,\n",
              " 'numpy.core._asarray': <module 'numpy.core._asarray' from '/usr/local/lib/python3.10/dist-packages/numpy/core/_asarray.py'>,\n",
              " 'numpy.core.numeric': <module 'numpy.core.numeric' from '/usr/local/lib/python3.10/dist-packages/numpy/core/numeric.py'>,\n",
              " 'numpy.core.defchararray': <module 'numpy.core.defchararray' from '/usr/local/lib/python3.10/dist-packages/numpy/core/defchararray.py'>,\n",
              " 'numpy.core.records': <module 'numpy.core.records' from '/usr/local/lib/python3.10/dist-packages/numpy/core/records.py'>,\n",
              " 'numpy.core.memmap': <module 'numpy.core.memmap' from '/usr/local/lib/python3.10/dist-packages/numpy/core/memmap.py'>,\n",
              " 'numpy.core.function_base': <module 'numpy.core.function_base' from '/usr/local/lib/python3.10/dist-packages/numpy/core/function_base.py'>,\n",
              " 'numpy.core._machar': <module 'numpy.core._machar' from '/usr/local/lib/python3.10/dist-packages/numpy/core/_machar.py'>,\n",
              " 'numpy.core.getlimits': <module 'numpy.core.getlimits' from '/usr/local/lib/python3.10/dist-packages/numpy/core/getlimits.py'>,\n",
              " 'numpy.core.einsumfunc': <module 'numpy.core.einsumfunc' from '/usr/local/lib/python3.10/dist-packages/numpy/core/einsumfunc.py'>,\n",
              " 'numpy.core._multiarray_tests': <module 'numpy.core._multiarray_tests' from '/usr/local/lib/python3.10/dist-packages/numpy/core/_multiarray_tests.cpython-310-x86_64-linux-gnu.so'>,\n",
              " 'numpy.core._add_newdocs': <module 'numpy.core._add_newdocs' from '/usr/local/lib/python3.10/dist-packages/numpy/core/_add_newdocs.py'>,\n",
              " 'numpy.core._add_newdocs_scalars': <module 'numpy.core._add_newdocs_scalars' from '/usr/local/lib/python3.10/dist-packages/numpy/core/_add_newdocs_scalars.py'>,\n",
              " 'numpy.core._dtype_ctypes': <module 'numpy.core._dtype_ctypes' from '/usr/local/lib/python3.10/dist-packages/numpy/core/_dtype_ctypes.py'>,\n",
              " 'numpy.core._internal': <module 'numpy.core._internal' from '/usr/local/lib/python3.10/dist-packages/numpy/core/_internal.py'>,\n",
              " 'numpy._pytesttester': <module 'numpy._pytesttester' from '/usr/local/lib/python3.10/dist-packages/numpy/_pytesttester.py'>,\n",
              " 'numpy.core': <module 'numpy.core' from '/usr/local/lib/python3.10/dist-packages/numpy/core/__init__.py'>,\n",
              " 'numpy.lib.mixins': <module 'numpy.lib.mixins' from '/usr/local/lib/python3.10/dist-packages/numpy/lib/mixins.py'>,\n",
              " 'numpy.lib.ufunclike': <module 'numpy.lib.ufunclike' from '/usr/local/lib/python3.10/dist-packages/numpy/lib/ufunclike.py'>,\n",
              " 'numpy.lib.type_check': <module 'numpy.lib.type_check' from '/usr/local/lib/python3.10/dist-packages/numpy/lib/type_check.py'>,\n",
              " 'numpy.lib.scimath': <module 'numpy.lib.scimath' from '/usr/local/lib/python3.10/dist-packages/numpy/lib/scimath.py'>,\n",
              " 'numpy.lib.stride_tricks': <module 'numpy.lib.stride_tricks' from '/usr/local/lib/python3.10/dist-packages/numpy/lib/stride_tricks.py'>,\n",
              " 'numpy.lib.twodim_base': <module 'numpy.lib.twodim_base' from '/usr/local/lib/python3.10/dist-packages/numpy/lib/twodim_base.py'>,\n",
              " 'numpy.linalg._umath_linalg': <module 'numpy.linalg._umath_linalg' from '/usr/local/lib/python3.10/dist-packages/numpy/linalg/_umath_linalg.cpython-310-x86_64-linux-gnu.so'>,\n",
              " 'numpy.linalg.linalg': <module 'numpy.linalg.linalg' from '/usr/local/lib/python3.10/dist-packages/numpy/linalg/linalg.py'>,\n",
              " 'numpy.linalg': <module 'numpy.linalg' from '/usr/local/lib/python3.10/dist-packages/numpy/linalg/__init__.py'>,\n",
              " 'numpy.matrixlib.defmatrix': <module 'numpy.matrixlib.defmatrix' from '/usr/local/lib/python3.10/dist-packages/numpy/matrixlib/defmatrix.py'>,\n",
              " 'numpy.matrixlib': <module 'numpy.matrixlib' from '/usr/local/lib/python3.10/dist-packages/numpy/matrixlib/__init__.py'>,\n",
              " 'numpy.lib.histograms': <module 'numpy.lib.histograms' from '/usr/local/lib/python3.10/dist-packages/numpy/lib/histograms.py'>,\n",
              " 'numpy.lib.function_base': <module 'numpy.lib.function_base' from '/usr/local/lib/python3.10/dist-packages/numpy/lib/function_base.py'>,\n",
              " 'numpy.lib.index_tricks': <module 'numpy.lib.index_tricks' from '/usr/local/lib/python3.10/dist-packages/numpy/lib/index_tricks.py'>,\n",
              " 'numpy.lib.nanfunctions': <module 'numpy.lib.nanfunctions' from '/usr/local/lib/python3.10/dist-packages/numpy/lib/nanfunctions.py'>,\n",
              " 'numpy.lib.shape_base': <module 'numpy.lib.shape_base' from '/usr/local/lib/python3.10/dist-packages/numpy/lib/shape_base.py'>,\n",
              " 'numpy.lib.polynomial': <module 'numpy.lib.polynomial' from '/usr/local/lib/python3.10/dist-packages/numpy/lib/polynomial.py'>,\n",
              " 'numpy.lib.utils': <module 'numpy.lib.utils' from '/usr/local/lib/python3.10/dist-packages/numpy/lib/utils.py'>,\n",
              " 'numpy.lib.arraysetops': <module 'numpy.lib.arraysetops' from '/usr/local/lib/python3.10/dist-packages/numpy/lib/arraysetops.py'>,\n",
              " 'numpy.lib.format': <module 'numpy.lib.format' from '/usr/local/lib/python3.10/dist-packages/numpy/lib/format.py'>,\n",
              " 'numpy.lib._datasource': <module 'numpy.lib._datasource' from '/usr/local/lib/python3.10/dist-packages/numpy/lib/_datasource.py'>,\n",
              " 'numpy.lib._iotools': <module 'numpy.lib._iotools' from '/usr/local/lib/python3.10/dist-packages/numpy/lib/_iotools.py'>,\n",
              " 'numpy.lib.npyio': <module 'numpy.lib.npyio' from '/usr/local/lib/python3.10/dist-packages/numpy/lib/npyio.py'>,\n",
              " 'numpy.lib.arrayterator': <module 'numpy.lib.arrayterator' from '/usr/local/lib/python3.10/dist-packages/numpy/lib/arrayterator.py'>,\n",
              " 'numpy.lib.arraypad': <module 'numpy.lib.arraypad' from '/usr/local/lib/python3.10/dist-packages/numpy/lib/arraypad.py'>,\n",
              " 'numpy.lib._version': <module 'numpy.lib._version' from '/usr/local/lib/python3.10/dist-packages/numpy/lib/_version.py'>,\n",
              " 'numpy.lib': <module 'numpy.lib' from '/usr/local/lib/python3.10/dist-packages/numpy/lib/__init__.py'>,\n",
              " 'numpy.fft._pocketfft_internal': <module 'numpy.fft._pocketfft_internal' from '/usr/local/lib/python3.10/dist-packages/numpy/fft/_pocketfft_internal.cpython-310-x86_64-linux-gnu.so'>,\n",
              " 'numpy.fft._pocketfft': <module 'numpy.fft._pocketfft' from '/usr/local/lib/python3.10/dist-packages/numpy/fft/_pocketfft.py'>,\n",
              " 'numpy.fft.helper': <module 'numpy.fft.helper' from '/usr/local/lib/python3.10/dist-packages/numpy/fft/helper.py'>,\n",
              " 'numpy.fft': <module 'numpy.fft' from '/usr/local/lib/python3.10/dist-packages/numpy/fft/__init__.py'>,\n",
              " 'numpy.polynomial.polyutils': <module 'numpy.polynomial.polyutils' from '/usr/local/lib/python3.10/dist-packages/numpy/polynomial/polyutils.py'>,\n",
              " 'numpy.polynomial._polybase': <module 'numpy.polynomial._polybase' from '/usr/local/lib/python3.10/dist-packages/numpy/polynomial/_polybase.py'>,\n",
              " 'numpy.polynomial.polynomial': <module 'numpy.polynomial.polynomial' from '/usr/local/lib/python3.10/dist-packages/numpy/polynomial/polynomial.py'>,\n",
              " 'numpy.polynomial.chebyshev': <module 'numpy.polynomial.chebyshev' from '/usr/local/lib/python3.10/dist-packages/numpy/polynomial/chebyshev.py'>,\n",
              " 'numpy.polynomial.legendre': <module 'numpy.polynomial.legendre' from '/usr/local/lib/python3.10/dist-packages/numpy/polynomial/legendre.py'>,\n",
              " 'numpy.polynomial.hermite': <module 'numpy.polynomial.hermite' from '/usr/local/lib/python3.10/dist-packages/numpy/polynomial/hermite.py'>,\n",
              " 'numpy.polynomial.hermite_e': <module 'numpy.polynomial.hermite_e' from '/usr/local/lib/python3.10/dist-packages/numpy/polynomial/hermite_e.py'>,\n",
              " 'numpy.polynomial.laguerre': <module 'numpy.polynomial.laguerre' from '/usr/local/lib/python3.10/dist-packages/numpy/polynomial/laguerre.py'>,\n",
              " 'numpy.polynomial': <module 'numpy.polynomial' from '/usr/local/lib/python3.10/dist-packages/numpy/polynomial/__init__.py'>,\n",
              " 'numpy.random._common': <module 'numpy.random._common' from '/usr/local/lib/python3.10/dist-packages/numpy/random/_common.cpython-310-x86_64-linux-gnu.so'>,\n",
              " 'secrets': <module 'secrets' from '/usr/lib/python3.10/secrets.py'>,\n",
              " 'numpy.random.bit_generator': <module 'numpy.random.bit_generator' from '/usr/local/lib/python3.10/dist-packages/numpy/random/bit_generator.cpython-310-x86_64-linux-gnu.so'>,\n",
              " 'numpy.random._bounded_integers': <module 'numpy.random._bounded_integers' from '/usr/local/lib/python3.10/dist-packages/numpy/random/_bounded_integers.cpython-310-x86_64-linux-gnu.so'>,\n",
              " 'numpy.random._mt19937': <module 'numpy.random._mt19937' from '/usr/local/lib/python3.10/dist-packages/numpy/random/_mt19937.cpython-310-x86_64-linux-gnu.so'>,\n",
              " 'numpy.random.mtrand': <module 'numpy.random.mtrand' from '/usr/local/lib/python3.10/dist-packages/numpy/random/mtrand.cpython-310-x86_64-linux-gnu.so'>,\n",
              " 'numpy.random._philox': <module 'numpy.random._philox' from '/usr/local/lib/python3.10/dist-packages/numpy/random/_philox.cpython-310-x86_64-linux-gnu.so'>,\n",
              " 'numpy.random._pcg64': <module 'numpy.random._pcg64' from '/usr/local/lib/python3.10/dist-packages/numpy/random/_pcg64.cpython-310-x86_64-linux-gnu.so'>,\n",
              " 'numpy.random._sfc64': <module 'numpy.random._sfc64' from '/usr/local/lib/python3.10/dist-packages/numpy/random/_sfc64.cpython-310-x86_64-linux-gnu.so'>,\n",
              " 'numpy.random._generator': <module 'numpy.random._generator' from '/usr/local/lib/python3.10/dist-packages/numpy/random/_generator.cpython-310-x86_64-linux-gnu.so'>,\n",
              " 'numpy.random._pickle': <module 'numpy.random._pickle' from '/usr/local/lib/python3.10/dist-packages/numpy/random/_pickle.py'>,\n",
              " 'numpy.random': <module 'numpy.random' from '/usr/local/lib/python3.10/dist-packages/numpy/random/__init__.py'>,\n",
              " 'numpy.ctypeslib': <module 'numpy.ctypeslib' from '/usr/local/lib/python3.10/dist-packages/numpy/ctypeslib.py'>,\n",
              " 'numpy.ma.core': <module 'numpy.ma.core' from '/usr/local/lib/python3.10/dist-packages/numpy/ma/core.py'>,\n",
              " 'numpy.ma.extras': <module 'numpy.ma.extras' from '/usr/local/lib/python3.10/dist-packages/numpy/ma/extras.py'>,\n",
              " 'numpy.ma': <module 'numpy.ma' from '/usr/local/lib/python3.10/dist-packages/numpy/ma/__init__.py'>,\n",
              " 'numpy': <module 'numpy' from '/usr/local/lib/python3.10/dist-packages/numpy/__init__.py'>,\n",
              " 'PIL._version': <module 'PIL._version' from '/usr/local/lib/python3.10/dist-packages/PIL/_version.py'>,\n",
              " 'PIL': <module 'PIL' from '/usr/local/lib/python3.10/dist-packages/PIL/__init__.py'>,\n",
              " 'google.colab._reprs': <module 'google.colab._reprs' from '/usr/local/lib/python3.10/dist-packages/google/colab/_reprs.py'>,\n",
              " 'google.colab._shell_customizations': <module 'google.colab._shell_customizations' from '/usr/local/lib/python3.10/dist-packages/google/colab/_shell_customizations.py'>,\n",
              " 'google.colab._system_commands': <module 'google.colab._system_commands' from '/usr/local/lib/python3.10/dist-packages/google/colab/_system_commands.py'>,\n",
              " 'google.colab._tensorflow_magics': <module 'google.colab._tensorflow_magics' from '/usr/local/lib/python3.10/dist-packages/google/colab/_tensorflow_magics.py'>,\n",
              " 'http.server': <module 'http.server' from '/usr/lib/python3.10/http/server.py'>,\n",
              " 'google.colab.files': <module 'google.colab.files' from '/usr/local/lib/python3.10/dist-packages/google/colab/files.py'>,\n",
              " 'google.colab.auth': <module 'google.colab.auth' from '/usr/local/lib/python3.10/dist-packages/google/colab/auth.py'>,\n",
              " 'pexpect.popen_spawn': <module 'pexpect.popen_spawn' from '/usr/local/lib/python3.10/dist-packages/pexpect/popen_spawn.py'>,\n",
              " 'psutil._common': <module 'psutil._common' from '/usr/local/lib/python3.10/dist-packages/psutil/_common.py'>,\n",
              " 'psutil._compat': <module 'psutil._compat' from '/usr/local/lib/python3.10/dist-packages/psutil/_compat.py'>,\n",
              " 'psutil._psposix': <module 'psutil._psposix' from '/usr/local/lib/python3.10/dist-packages/psutil/_psposix.py'>,\n",
              " 'psutil._psutil_linux': <module 'psutil._psutil_linux' from '/usr/local/lib/python3.10/dist-packages/psutil/_psutil_linux.abi3.so'>,\n",
              " 'psutil._psutil_posix': <module 'psutil._psutil_posix' from '/usr/local/lib/python3.10/dist-packages/psutil/_psutil_posix.abi3.so'>,\n",
              " 'psutil._pslinux': <module 'psutil._pslinux' from '/usr/local/lib/python3.10/dist-packages/psutil/_pslinux.py'>,\n",
              " 'psutil': <module 'psutil' from '/usr/local/lib/python3.10/dist-packages/psutil/__init__.py'>,\n",
              " 'google.colab.drive': <module 'google.colab.drive' from '/usr/local/lib/python3.10/dist-packages/google/colab/drive.py'>,\n",
              " 'gzip': <module 'gzip' from '/usr/lib/python3.10/gzip.py'>,\n",
              " 'socks': <module 'socks' from '/usr/local/lib/python3.10/dist-packages/socks.py'>,\n",
              " 'pyparsing.util': <module 'pyparsing.util' from '/usr/local/lib/python3.10/dist-packages/pyparsing/util.py'>,\n",
              " 'pyparsing.unicode': <module 'pyparsing.unicode' from '/usr/local/lib/python3.10/dist-packages/pyparsing/unicode.py'>,\n",
              " 'pyparsing.exceptions': <module 'pyparsing.exceptions' from '/usr/local/lib/python3.10/dist-packages/pyparsing/exceptions.py'>,\n",
              " 'pyparsing.actions': <module 'pyparsing.actions' from '/usr/local/lib/python3.10/dist-packages/pyparsing/actions.py'>,\n",
              " 'pyparsing.results': <module 'pyparsing.results' from '/usr/local/lib/python3.10/dist-packages/pyparsing/results.py'>,\n",
              " 'pyparsing.core': <module 'pyparsing.core' from '/usr/local/lib/python3.10/dist-packages/pyparsing/core.py'>,\n",
              " 'pyparsing.helpers': <module 'pyparsing.helpers' from '/usr/local/lib/python3.10/dist-packages/pyparsing/helpers.py'>,\n",
              " 'pyparsing.testing': <module 'pyparsing.testing' from '/usr/local/lib/python3.10/dist-packages/pyparsing/testing.py'>,\n",
              " 'pyparsing.common': <module 'pyparsing.common' from '/usr/local/lib/python3.10/dist-packages/pyparsing/common.py'>,\n",
              " 'pyparsing': <module 'pyparsing' from '/usr/local/lib/python3.10/dist-packages/pyparsing/__init__.py'>,\n",
              " 'httplib2.error': <module 'httplib2.error' from '/usr/local/lib/python3.10/dist-packages/httplib2/error.py'>,\n",
              " 'httplib2.auth': <module 'httplib2.auth' from '/usr/local/lib/python3.10/dist-packages/httplib2/auth.py'>,\n",
              " 'httplib2.iri2uri': <module 'httplib2.iri2uri' from '/usr/local/lib/python3.10/dist-packages/httplib2/iri2uri.py'>,\n",
              " 'certifi.core': <module 'certifi.core' from '/usr/local/lib/python3.10/dist-packages/certifi/core.py'>,\n",
              " 'certifi': <module 'certifi' from '/usr/local/lib/python3.10/dist-packages/certifi/__init__.py'>,\n",
              " 'httplib2.certs': <module 'httplib2.certs' from '/usr/local/lib/python3.10/dist-packages/httplib2/certs.py'>,\n",
              " 'importlib.readers': <module 'importlib.readers' from '/usr/lib/python3.10/importlib/readers.py'>,\n",
              " 'httplib2': <module 'httplib2' from '/usr/local/lib/python3.10/dist-packages/httplib2/__init__.py'>,\n",
              " 'google.colab.runtime': <module 'google.colab.runtime' from '/usr/local/lib/python3.10/dist-packages/google/colab/runtime.py'>,\n",
              " 'google.colab.snippets': <module 'google.colab.snippets' from '/usr/local/lib/python3.10/dist-packages/google/colab/snippets.py'>,\n",
              " 'google.colab': <module 'google.colab' from '/usr/local/lib/python3.10/dist-packages/google/colab/__init__.py'>,\n",
              " 'google.colab._history': <module 'google.colab._history' from '/usr/local/lib/python3.10/dist-packages/google/colab/_history.py'>,\n",
              " 'google.colab._pip': <module 'google.colab._pip' from '/usr/local/lib/python3.10/dist-packages/google/colab/_pip.py'>,\n",
              " 'IPython.core.inputtransformer': <module 'IPython.core.inputtransformer' from '/usr/local/lib/python3.10/dist-packages/IPython/core/inputtransformer.py'>,\n",
              " 'IPython.core.inputsplitter': <module 'IPython.core.inputsplitter' from '/usr/local/lib/python3.10/dist-packages/IPython/core/inputsplitter.py'>,\n",
              " 'google.colab._shell': <module 'google.colab._shell' from '/usr/local/lib/python3.10/dist-packages/google/colab/_shell.py'>,\n",
              " 'google.colab._kernel': <module 'google.colab._kernel' from '/usr/local/lib/python3.10/dist-packages/google/colab/_kernel.py'>,\n",
              " 'faulthandler': <module 'faulthandler' (built-in)>,\n",
              " 'IPython.core.completerlib': <module 'IPython.core.completerlib' from '/usr/local/lib/python3.10/dist-packages/IPython/core/completerlib.py'>,\n",
              " 'packaging': <module 'packaging' from '/usr/local/lib/python3.10/dist-packages/packaging/__init__.py'>,\n",
              " 'packaging._structures': <module 'packaging._structures' from '/usr/local/lib/python3.10/dist-packages/packaging/_structures.py'>,\n",
              " 'packaging.version': <module 'packaging.version' from '/usr/local/lib/python3.10/dist-packages/packaging/version.py'>,\n",
              " 'matplotlib._api.deprecation': <module 'matplotlib._api.deprecation' from '/usr/local/lib/python3.10/dist-packages/matplotlib/_api/deprecation.py'>,\n",
              " 'matplotlib._api': <module 'matplotlib._api' from '/usr/local/lib/python3.10/dist-packages/matplotlib/_api/__init__.py'>,\n",
              " 'matplotlib._version': <module 'matplotlib._version' from '/usr/local/lib/python3.10/dist-packages/matplotlib/_version.py'>,\n",
              " 'matplotlib._c_internal_utils': <module 'matplotlib._c_internal_utils' from '/usr/local/lib/python3.10/dist-packages/matplotlib/_c_internal_utils.cpython-310-x86_64-linux-gnu.so'>,\n",
              " 'matplotlib.cbook': <module 'matplotlib.cbook' from '/usr/local/lib/python3.10/dist-packages/matplotlib/cbook/__init__.py'>,\n",
              " 'matplotlib._docstring': <module 'matplotlib._docstring' from '/usr/local/lib/python3.10/dist-packages/matplotlib/_docstring.py'>,\n",
              " 'xml.parsers': <module 'xml.parsers' from '/usr/lib/python3.10/xml/parsers/__init__.py'>,\n",
              " 'pyexpat.errors': <module 'pyexpat.errors'>,\n",
              " 'pyexpat.model': <module 'pyexpat.model'>,\n",
              " 'pyexpat': <module 'pyexpat' (built-in)>,\n",
              " 'xml.parsers.expat.model': <module 'pyexpat.model'>,\n",
              " 'xml.parsers.expat.errors': <module 'pyexpat.errors'>,\n",
              " 'xml.parsers.expat': <module 'xml.parsers.expat' from '/usr/lib/python3.10/xml/parsers/expat.py'>,\n",
              " 'defusedxml.common': <module 'defusedxml.common' from '/usr/local/lib/python3.10/dist-packages/defusedxml/common.py'>,\n",
              " 'defusedxml': <module 'defusedxml' from '/usr/local/lib/python3.10/dist-packages/defusedxml/__init__.py'>,\n",
              " 'xml.etree': <module 'xml.etree' from '/usr/lib/python3.10/xml/etree/__init__.py'>,\n",
              " 'xml.etree.ElementPath': <module 'xml.etree.ElementPath' from '/usr/lib/python3.10/xml/etree/ElementPath.py'>,\n",
              " '_elementtree': <module '_elementtree' (built-in)>,\n",
              " 'xml.etree.ElementTree': <module 'xml.etree.ElementTree' from '/usr/lib/python3.10/xml/etree/ElementTree.py'>,\n",
              " 'defusedxml.ElementTree': <module 'defusedxml.ElementTree' from '/usr/local/lib/python3.10/dist-packages/defusedxml/ElementTree.py'>,\n",
              " 'PIL.ExifTags': <module 'PIL.ExifTags' from '/usr/local/lib/python3.10/dist-packages/PIL/ExifTags.py'>,\n",
              " 'PIL.ImageMode': <module 'PIL.ImageMode' from '/usr/local/lib/python3.10/dist-packages/PIL/ImageMode.py'>,\n",
              " 'PIL.TiffTags': <module 'PIL.TiffTags' from '/usr/local/lib/python3.10/dist-packages/PIL/TiffTags.py'>,\n",
              " 'PIL._binary': <module 'PIL._binary' from '/usr/local/lib/python3.10/dist-packages/PIL/_binary.py'>,\n",
              " 'PIL._deprecate': <module 'PIL._deprecate' from '/usr/local/lib/python3.10/dist-packages/PIL/_deprecate.py'>,\n",
              " 'PIL._util': <module 'PIL._util' from '/usr/local/lib/python3.10/dist-packages/PIL/_util.py'>,\n",
              " 'PIL._imaging': <module 'PIL._imaging' from '/usr/local/lib/python3.10/dist-packages/PIL/_imaging.cpython-310-x86_64-linux-gnu.so'>,\n",
              " 'cffi.lock': <module 'cffi.lock' from '/usr/local/lib/python3.10/dist-packages/cffi/lock.py'>,\n",
              " 'cffi.error': <module 'cffi.error' from '/usr/local/lib/python3.10/dist-packages/cffi/error.py'>,\n",
              " 'cffi.model': <module 'cffi.model' from '/usr/local/lib/python3.10/dist-packages/cffi/model.py'>,\n",
              " 'cffi.api': <module 'cffi.api' from '/usr/local/lib/python3.10/dist-packages/cffi/api.py'>,\n",
              " 'cffi': <module 'cffi' from '/usr/local/lib/python3.10/dist-packages/cffi/__init__.py'>,\n",
              " 'PIL.Image': <module 'PIL.Image' from '/usr/local/lib/python3.10/dist-packages/PIL/Image.py'>,\n",
              " 'PIL.ImageChops': <module 'PIL.ImageChops' from '/usr/local/lib/python3.10/dist-packages/PIL/ImageChops.py'>,\n",
              " 'PIL.ImageFile': <module 'PIL.ImageFile' from '/usr/local/lib/python3.10/dist-packages/PIL/ImageFile.py'>,\n",
              " 'PIL.GimpGradientFile': <module 'PIL.GimpGradientFile' from '/usr/local/lib/python3.10/dist-packages/PIL/GimpGradientFile.py'>,\n",
              " 'PIL.GimpPaletteFile': <module 'PIL.GimpPaletteFile' from '/usr/local/lib/python3.10/dist-packages/PIL/GimpPaletteFile.py'>,\n",
              " 'PIL.ImageColor': <module 'PIL.ImageColor' from '/usr/local/lib/python3.10/dist-packages/PIL/ImageColor.py'>,\n",
              " 'PIL.PaletteFile': <module 'PIL.PaletteFile' from '/usr/local/lib/python3.10/dist-packages/PIL/PaletteFile.py'>,\n",
              " 'PIL.ImagePalette': <module 'PIL.ImagePalette' from '/usr/local/lib/python3.10/dist-packages/PIL/ImagePalette.py'>,\n",
              " 'PIL.ImageSequence': <module 'PIL.ImageSequence' from '/usr/local/lib/python3.10/dist-packages/PIL/ImageSequence.py'>,\n",
              " 'PIL.PngImagePlugin': <module 'PIL.PngImagePlugin' from '/usr/local/lib/python3.10/dist-packages/PIL/PngImagePlugin.py'>,\n",
              " 'matplotlib._cm': <module 'matplotlib._cm' from '/usr/local/lib/python3.10/dist-packages/matplotlib/_cm.py'>,\n",
              " 'matplotlib._path': <module 'matplotlib._path' from '/usr/local/lib/python3.10/dist-packages/matplotlib/_path.cpython-310-x86_64-linux-gnu.so'>,\n",
              " 'matplotlib.bezier': <module 'matplotlib.bezier' from '/usr/local/lib/python3.10/dist-packages/matplotlib/bezier.py'>,\n",
              " 'matplotlib.path': <module 'matplotlib.path' from '/usr/local/lib/python3.10/dist-packages/matplotlib/path.py'>,\n",
              " 'matplotlib.transforms': <module 'matplotlib.transforms' from '/usr/local/lib/python3.10/dist-packages/matplotlib/transforms.py'>,\n",
              " 'matplotlib.ticker': <module 'matplotlib.ticker' from '/usr/local/lib/python3.10/dist-packages/matplotlib/ticker.py'>,\n",
              " 'matplotlib.scale': <module 'matplotlib.scale' from '/usr/local/lib/python3.10/dist-packages/matplotlib/scale.py'>,\n",
              " 'matplotlib._color_data': <module 'matplotlib._color_data' from '/usr/local/lib/python3.10/dist-packages/matplotlib/_color_data.py'>,\n",
              " 'matplotlib.colors': <module 'matplotlib.colors' from '/usr/local/lib/python3.10/dist-packages/matplotlib/colors.py'>,\n",
              " 'matplotlib._fontconfig_pattern': <module 'matplotlib._fontconfig_pattern' from '/usr/local/lib/python3.10/dist-packages/matplotlib/_fontconfig_pattern.py'>,\n",
              " 'matplotlib._enums': <module 'matplotlib._enums' from '/usr/local/lib/python3.10/dist-packages/matplotlib/_enums.py'>,\n",
              " 'cycler': <module 'cycler' from '/usr/local/lib/python3.10/dist-packages/cycler/__init__.py'>,\n",
              " 'matplotlib.rcsetup': <module 'matplotlib.rcsetup' from '/usr/local/lib/python3.10/dist-packages/matplotlib/rcsetup.py'>,\n",
              " 'matplotlib.ft2font': <module 'matplotlib.ft2font' from '/usr/local/lib/python3.10/dist-packages/matplotlib/ft2font.cpython-310-x86_64-linux-gnu.so'>,\n",
              " 'kiwisolver.exceptions': <module 'kiwisolver.exceptions' from '/usr/local/lib/python3.10/dist-packages/kiwisolver/exceptions.py'>,\n",
              " ...}"
            ]
          },
          "metadata": {},
          "execution_count": 100
        }
      ]
    },
    {
      "cell_type": "code",
      "source": [
        "from info import name, age, hello\n",
        "\n",
        "print(name)"
      ],
      "metadata": {
        "colab": {
          "base_uri": "https://localhost:8080/"
        },
        "id": "HGpdf65i2d-b",
        "outputId": "03ba2ddf-8e99-43e4-8e49-ead0bf30885c"
      },
      "execution_count": 101,
      "outputs": [
        {
          "output_type": "stream",
          "name": "stdout",
          "text": [
            "leehojun\n"
          ]
        }
      ]
    },
    {
      "cell_type": "code",
      "source": [
        "# 2번\n",
        "# 여러 모듈을 포함해야 하는 실무에서는 2번이 선호됩니다.\n",
        "\n",
        "import info\n",
        "\n",
        "info.name\n",
        "info.age\n",
        "info.hello()"
      ],
      "metadata": {
        "colab": {
          "base_uri": "https://localhost:8080/"
        },
        "id": "gCOxDKvT2gLh",
        "outputId": "746a1378-c5f6-4e49-8c1c-23f0564d775f"
      },
      "execution_count": 102,
      "outputs": [
        {
          "output_type": "stream",
          "name": "stdout",
          "text": [
            "안녕하세요 저는 이호준입니다.\n"
          ]
        }
      ]
    },
    {
      "cell_type": "code",
      "source": [
        "# 문제가 있는 코드\n",
        "from info import name, age, hello\n",
        "from infotwo import name,age\n",
        "\n",
        "print(name)"
      ],
      "metadata": {
        "id": "o3Xh4o_y2pH4"
      },
      "execution_count": null,
      "outputs": []
    },
    {
      "cell_type": "code",
      "source": [
        "# 카카오 로그인, 구글 로그인, 엑셀 로드 ,문자를 보내거나\n",
        "# 모듈로 나와있음\n",
        "# 라이브러리, 프레임워크, 서드파티 강자\n",
        "\n",
        "\n",
        "# 라이브러리: 내 코드에 라이브러리가 섞여서 들어가는 코드 / ex) 크롤링 - request , bs4\n",
        "# 프레임웤: 설계 도면이 정해져있어서 설계도면 대로 코딩을 해야하는 경우 / 레고처럼\n",
        "# 서드파티: 프레임웍에 결합되는 코드 / ex) Django - 로그인, DRF, cors"
      ],
      "metadata": {
        "id": "dNAckNGC25ND"
      },
      "execution_count": null,
      "outputs": []
    },
    {
      "cell_type": "markdown",
      "source": [
        "# 자주 사용되는 표준 라이브러리(모듈)"
      ],
      "metadata": {
        "id": "_mWPFfQt4ylv"
      }
    },
    {
      "cell_type": "code",
      "source": [
        "import os\n",
        "\n",
        "# Django에 V3.x에서 os 모듈 제외됨\n",
        "# os 모듈 대신 Path(from pathlib import Path)라는 모듈 추가됨\n",
        "# os 모듈은 너무 강력함\n",
        "# os 모듈의 경로지정이 리눅스 친화적(윈도우친화적이 아님)\n",
        "\n",
        "os.mkdir('licat') # licat이란 폴더 생성, 삭제는 os.rmdir()\n",
        "os.getcwd() # 현재 경로 반환\n",
        "os.open('a.txt', os.O_CREAT | os.O_WRONLY) # 파일 생성(os.O_CREAT: 필요한 경우 파일을 생성, os.O_WRONLY: 파일을 쓰기 전용 모드로 연다.)\n",
        "os.rename('a.txt', 'b.txt') # a.txt파일을 b.txt파일로 변경\n",
        "os.remove('b.txt')"
      ],
      "metadata": {
        "id": "bSYfqE0U5Mrz"
      },
      "execution_count": null,
      "outputs": []
    },
    {
      "cell_type": "code",
      "source": [
        "import math\n",
        "\n",
        "math.pi"
      ],
      "metadata": {
        "colab": {
          "base_uri": "https://localhost:8080/"
        },
        "id": "CfkGkpF-5zWQ",
        "outputId": "5f1566fb-6612-4a82-9126-be93ab41a770"
      },
      "execution_count": 112,
      "outputs": [
        {
          "output_type": "execute_result",
          "data": {
            "text/plain": [
              "3.141592653589793"
            ]
          },
          "metadata": {},
          "execution_count": 112
        }
      ]
    },
    {
      "cell_type": "code",
      "source": [
        "import datetime\n",
        "\n",
        "s = datetime.datetime(2023, 9, 19, 14, 10)\n",
        "print(s)\n",
        "print(s.year, s.month, s.day, s.hour, s.minute)\n",
        "\n",
        "s = datetime.datetime(2023, 9, 18, 14, 10)\n",
        "print(s.weekday()) # 월요일0, 화요일1, 수요일2 ... 일요일6\n",
        "\n",
        "today = datetime.date.today()\n",
        "days = datetime.timedelta(days=100)\n",
        "today + days # 100일 후 시간\n",
        "\n",
        "graduation_date = datetime.date(2023, 12, 29)\n",
        "today = datetime.date.today()\n",
        "\n",
        "print(graduation_date - today) # 졸업까지 남은 일자\n"
      ],
      "metadata": {
        "colab": {
          "base_uri": "https://localhost:8080/"
        },
        "id": "qBQWNx3m5uft",
        "outputId": "d032b290-2e40-4e55-ee13-6aa4f8ff8f94"
      },
      "execution_count": 113,
      "outputs": [
        {
          "output_type": "stream",
          "name": "stdout",
          "text": [
            "2023-09-19 14:10:00\n",
            "2023 9 19 14 10\n",
            "0\n",
            "-19 days, 0:00:00\n"
          ]
        }
      ]
    },
    {
      "cell_type": "markdown",
      "source": [
        "## json\n",
        "\n",
        "이런식으로 사용하진 않음\n",
        "s = [{....}]\n",
        "\n",
        "앞에 변수명을 사용하지 않음\n",
        "[{....}]\n",
        "\n",
        "쌍따옴표 사용 \"\"\n",
        "인덱스들은 true만가능, True는 불가"
      ],
      "metadata": {
        "id": "8GnKGNTb6sZg"
      }
    },
    {
      "cell_type": "code",
      "source": [
        "# (point4)주의! True는 안됩니다. true여야 합니다.\n",
        "[{\n",
        "    \"지역이름\": \"서울\", # point2 json은 쌍 따옴표여야 합니다!\n",
        "    \"확진자수\": 5607, # point3 dict key와 콜론은 붙여쓰고 콜론과 value는 한 칸 띄어씁니다.\n",
        "    \"격리해제수\": 5050,\n",
        "    \"사망자수\": 66,\n",
        "    \"십만명당발생율\": 57.61,\n",
        "    \"지역별확진자비율\": 22.53\n",
        "},\n",
        "{\n",
        "    \"지역이름\": \"부산\",\n",
        "    \"확진자수\": 491,\n",
        "    \"격리해제수\": 423,\n",
        "    \"사망자수\": 4,\n",
        "    \"십만명당발생율\": 14.39,\n",
        "    \"지역별확진자비율\": 1.97\n",
        "},\n",
        "{\n",
        "    \"지역이름\": \"대구\",\n",
        "    \"확진자수\": 7141,\n",
        "    \"격리해제수\": 6933,\n",
        "    \"사망자수\": 196,\n",
        "    \"십만명당발생율\": 293.09,\n",
        "    \"지역별확진자비율\": 28.69\n",
        "}]"
      ],
      "metadata": {
        "id": "6kU0wMQd6_zR"
      },
      "execution_count": null,
      "outputs": []
    },
    {
      "cell_type": "code",
      "source": [
        "data = [\n",
        "  {\n",
        "    \"_id\": \"044829e8-9d9c-43be-C881-afc426ec9134\",\n",
        "    \"index\": \"1\",\n",
        "    \"name\": \"용기준\",\n",
        "    \"email\": \"user-7jxpy5y@Sit.com\",\n",
        "    \"phone\": \"010-4407-4333\",\n",
        "    \"country\": \"네덜란드\",\n",
        "    \"address\": \"양재로 76-6\",\n",
        "    \"job\": \"검사\"\n",
        "  },\n",
        "  {\n",
        "    \"_id\": \"f01326f2-d4d0-4700-C0e3-f84ece54b6cb\",\n",
        "    \"index\": \"2\",\n",
        "    \"name\": \"인규리\",\n",
        "    \"email\": \"user-l8rhtqf@egestas.net\",\n",
        "    \"phone\": \"010-4126-2990\",\n",
        "    \"country\": \"중국\",\n",
        "    \"address\": \"성동로 22-7\",\n",
        "    \"job\": \"간호사\"\n",
        "  },\n",
        "  {\n",
        "    \"_id\": \"b931ea6e-b4cd-4b52-C3e6-22e9779cff1e\",\n",
        "    \"index\": \"3\",\n",
        "    \"name\": \"단인성\",\n",
        "    \"email\": \"user-no8losf@auctor.org\",\n",
        "    \"phone\": \"010-2785-3415\",\n",
        "    \"country\": \"콜롬비아\",\n",
        "    \"address\": \"서소문로 50-7\",\n",
        "    \"job\": \"작가\"\n",
        "  },\n",
        "  {\n",
        "    \"_id\": \"4fa8b9e8-8679-43dc-Affe-0757d1436d72\",\n",
        "    \"index\": \"4\",\n",
        "    \"name\": \"기민율\",\n",
        "    \"email\": \"user-gu3mdf0@scelerisque.com\",\n",
        "    \"phone\": \"010-5350-2880\",\n",
        "    \"country\": \"라이베리아\",\n",
        "    \"address\": \"사직로 13-1\",\n",
        "    \"job\": \"에너지공학기술자\"\n",
        "  },\n",
        "  {\n",
        "    \"_id\": \"f774242b-2eec-4c89-C65a-b625d2e72de2\",\n",
        "    \"index\": \"5\",\n",
        "    \"name\": \"음애린\",\n",
        "    \"email\": \"user-edxbg9z@maximus.co.kr\",\n",
        "    \"phone\": \"010-8408-4024\",\n",
        "    \"country\": \"코모로\",\n",
        "    \"address\": \"뚝섬로 59-6\",\n",
        "    \"job\": \"약사 및 한약사\"\n",
        "  }\n",
        "]\n",
        "\n",
        "print(str(data[0]))"
      ],
      "metadata": {
        "colab": {
          "base_uri": "https://localhost:8080/"
        },
        "id": "aRjAk0br8zbH",
        "outputId": "69ba65e2-2973-4e97-cad7-2d8726f30147"
      },
      "execution_count": 116,
      "outputs": [
        {
          "output_type": "stream",
          "name": "stdout",
          "text": [
            "{'_id': '044829e8-9d9c-43be-C881-afc426ec9134', 'index': '1', 'name': '용기준', 'email': 'user-7jxpy5y@Sit.com', 'phone': '010-4407-4333', 'country': '네덜란드', 'address': '양재로 76-6', 'job': '검사'}\n"
          ]
        }
      ]
    },
    {
      "cell_type": "code",
      "source": [
        "import json\n",
        "\n",
        "json.dumps(data)"
      ],
      "metadata": {
        "colab": {
          "base_uri": "https://localhost:8080/",
          "height": 164
        },
        "id": "uvJbZfEw9IqZ",
        "outputId": "91f28b7d-2355-4164-fec6-06c120c01227"
      },
      "execution_count": 118,
      "outputs": [
        {
          "output_type": "execute_result",
          "data": {
            "text/plain": [
              "'[{\"_id\": \"044829e8-9d9c-43be-C881-afc426ec9134\", \"index\": \"1\", \"name\": \"\\\\uc6a9\\\\uae30\\\\uc900\", \"email\": \"user-7jxpy5y@Sit.com\", \"phone\": \"010-4407-4333\", \"country\": \"\\\\ub124\\\\ub35c\\\\ub780\\\\ub4dc\", \"address\": \"\\\\uc591\\\\uc7ac\\\\ub85c 76-6\", \"job\": \"\\\\uac80\\\\uc0ac\"}, {\"_id\": \"f01326f2-d4d0-4700-C0e3-f84ece54b6cb\", \"index\": \"2\", \"name\": \"\\\\uc778\\\\uaddc\\\\ub9ac\", \"email\": \"user-l8rhtqf@egestas.net\", \"phone\": \"010-4126-2990\", \"country\": \"\\\\uc911\\\\uad6d\", \"address\": \"\\\\uc131\\\\ub3d9\\\\ub85c 22-7\", \"job\": \"\\\\uac04\\\\ud638\\\\uc0ac\"}, {\"_id\": \"b931ea6e-b4cd-4b52-C3e6-22e9779cff1e\", \"index\": \"3\", \"name\": \"\\\\ub2e8\\\\uc778\\\\uc131\", \"email\": \"user-no8losf@auctor.org\", \"phone\": \"010-2785-3415\", \"country\": \"\\\\ucf5c\\\\ub86c\\\\ube44\\\\uc544\", \"address\": \"\\\\uc11c\\\\uc18c\\\\ubb38\\\\ub85c 50-7\", \"job\": \"\\\\uc791\\\\uac00\"}, {\"_id\": \"4fa8b9e8-8679-43dc-Affe-0757d1436d72\", \"index\": \"4\", \"name\": \"\\\\uae30\\\\ubbfc\\\\uc728\", \"email\": \"user-gu3mdf0@scelerisque.com\", \"phone\": \"010-5350-2880\", \"country\": \"\\\\ub77c\\\\uc774\\\\ubca0\\\\ub9ac\\\\uc544\", \"address\": \"\\\\uc0ac\\\\uc9c1\\\\ub85c 13-1\", \"job\": \"\\\\uc5d0\\\\ub108\\\\uc9c0\\\\uacf5\\\\ud559\\\\uae30\\\\uc220\\\\uc790\"}, {\"_id\": \"f774242b-2eec-4c89-C65a-b625d2e72de2\", \"index\": \"5\", \"name\": \"\\\\uc74c\\\\uc560\\\\ub9b0\", \"email\": \"user-edxbg9z@maximus.co.kr\", \"phone\": \"010-8408-4024\", \"country\": \"\\\\ucf54\\\\ubaa8\\\\ub85c\", \"address\": \"\\\\ub69d\\\\uc12c\\\\ub85c 59-6\", \"job\": \"\\\\uc57d\\\\uc0ac \\\\ubc0f \\\\ud55c\\\\uc57d\\\\uc0ac\"}]'"
            ],
            "application/vnd.google.colaboratory.intrinsic+json": {
              "type": "string"
            }
          },
          "metadata": {},
          "execution_count": 118
        }
      ]
    },
    {
      "cell_type": "code",
      "source": [
        "s = json.dumps(data)\n",
        "d = json.loads(s)\n",
        "print(d) # dict\n",
        "\n",
        "# Python 자료형 -> String 자료형으로 (직렬화)\n",
        "# String 자료형 - > python 자료형으로 (역직렬화)\n",
        "\n"
      ],
      "metadata": {
        "colab": {
          "base_uri": "https://localhost:8080/"
        },
        "id": "5ySme00X9kcl",
        "outputId": "e483a0fc-6483-4104-f63c-e15366d10312"
      },
      "execution_count": 119,
      "outputs": [
        {
          "output_type": "stream",
          "name": "stdout",
          "text": [
            "[{'_id': '044829e8-9d9c-43be-C881-afc426ec9134', 'index': '1', 'name': '용기준', 'email': 'user-7jxpy5y@Sit.com', 'phone': '010-4407-4333', 'country': '네덜란드', 'address': '양재로 76-6', 'job': '검사'}, {'_id': 'f01326f2-d4d0-4700-C0e3-f84ece54b6cb', 'index': '2', 'name': '인규리', 'email': 'user-l8rhtqf@egestas.net', 'phone': '010-4126-2990', 'country': '중국', 'address': '성동로 22-7', 'job': '간호사'}, {'_id': 'b931ea6e-b4cd-4b52-C3e6-22e9779cff1e', 'index': '3', 'name': '단인성', 'email': 'user-no8losf@auctor.org', 'phone': '010-2785-3415', 'country': '콜롬비아', 'address': '서소문로 50-7', 'job': '작가'}, {'_id': '4fa8b9e8-8679-43dc-Affe-0757d1436d72', 'index': '4', 'name': '기민율', 'email': 'user-gu3mdf0@scelerisque.com', 'phone': '010-5350-2880', 'country': '라이베리아', 'address': '사직로 13-1', 'job': '에너지공학기술자'}, {'_id': 'f774242b-2eec-4c89-C65a-b625d2e72de2', 'index': '5', 'name': '음애린', 'email': 'user-edxbg9z@maximus.co.kr', 'phone': '010-8408-4024', 'country': '코모로', 'address': '뚝섬로 59-6', 'job': '약사 및 한약사'}]\n"
          ]
        }
      ]
    },
    {
      "cell_type": "code",
      "source": [
        "import json\n",
        "\n",
        "d = {\n",
        "    'one': 1,\n",
        "    'two': 2,\n",
        "    'three': 3\n",
        "}\n",
        "\n",
        "s = json.dumps(d)\n",
        "print(type(s)) # str\n",
        "d = json.loads(s)\n",
        "print(type(d)) # dict"
      ],
      "metadata": {
        "id": "Bxnx9snF6lAY"
      },
      "execution_count": null,
      "outputs": []
    },
    {
      "cell_type": "code",
      "source": [
        "import collections\n",
        "\n",
        "d = collections.deque([1, 2, 3, 4])\n",
        "d.rotate(1) # 1번 오른쪽으로 쉬프트 합니다. 숫자를 2로 바꾸어 비교해보세요.\n",
        "d # 출력: deque([4, 1, 2, 3])\n",
        "\n",
        "c = collections.Counter('hello world')\n",
        "c # 출력: Counter({'h': 1, 'e': 1, 'l': 3, 'o': 2, ' ': 1, 'w': 1, 'r': 1, 'd': 1})\n",
        "c.most_common()\n",
        "# 출력:\n",
        "'''\n",
        "[('l', 3),\n",
        " ('o', 2),\n",
        " ('h', 1),\n",
        " ('e', 1),\n",
        " (' ', 1),\n",
        " ('w', 1),\n",
        " ('r', 1),\n",
        " ('d', 1)]\n",
        "'''"
      ],
      "metadata": {
        "colab": {
          "base_uri": "https://localhost:8080/",
          "height": 35
        },
        "id": "TjbHC_sEBg8B",
        "outputId": "c907d5da-5d58-4c2c-9bd9-0538b7d8ee5f"
      },
      "execution_count": 123,
      "outputs": [
        {
          "output_type": "execute_result",
          "data": {
            "text/plain": [
              "\"\\n[('l', 3),\\n ('o', 2),\\n ('h', 1),\\n ('e', 1),\\n (' ', 1),\\n ('w', 1),\\n ('r', 1),\\n ('d', 1)]\\n\""
            ],
            "application/vnd.google.colaboratory.intrinsic+json": {
              "type": "string"
            }
          },
          "metadata": {},
          "execution_count": 123
        }
      ]
    },
    {
      "cell_type": "code",
      "source": [
        "import collections\n",
        "# 알고리즘 문제에서 정말 많이 사용합니다.\n",
        "# deque 문제 : 페이지 교체 알고리즘, 회전 초\n",
        "\n",
        "d = collections.deque([1, 2, 3, 4])\n",
        "\n",
        "d.rotate(1) # 1번 오른쪽으로 쉬프트 합니다. 숫자를 2로 바꾸어 비교해보세요.\n",
        "d # 출력: deque([4, 1, 2, 3])\n",
        "d.rotate(2) # 2번 오른쪽으로 쉬프트 합니다. 숫자를 2로 바꾸어 비교해보세요.\n",
        "d # 출력: deque([3, 4, 1, 2])"
      ],
      "metadata": {
        "colab": {
          "base_uri": "https://localhost:8080/"
        },
        "id": "etLg_LbtBxoz",
        "outputId": "a964212c-54ea-43e5-a467-bb4eef53b027"
      },
      "execution_count": 122,
      "outputs": [
        {
          "output_type": "execute_result",
          "data": {
            "text/plain": [
              "deque([3, 4, 1, 2])"
            ]
          },
          "metadata": {},
          "execution_count": 122
        }
      ]
    },
    {
      "cell_type": "code",
      "source": [
        "import requests\n",
        "from bs4 import BeautifulSoup\n",
        "\n",
        "paullab_url = 'https://paullab.co.kr/bookservice/'\n",
        "response = requests.get(paullab_url)\n",
        "response.encoding = 'utf-8'\n",
        "html = response.text\n",
        "\n",
        "soup = BeautifulSoup(html, 'html.parser')\n",
        "\n",
        "bookservices = soup.select('.col-lg-6 > h2') # col-lg-6 클래스 안의 h2 태그 탐색\n",
        "for no, book in enumerate(bookservices, 1):\n",
        "    print(no, book.text)"
      ],
      "metadata": {
        "id": "RR3DWS_AChmD"
      },
      "execution_count": null,
      "outputs": []
    },
    {
      "cell_type": "code",
      "source": [
        "with open('test.txt', 'w') as f:\n",
        "    f.write('hello world!')"
      ],
      "metadata": {
        "id": "3AUztvGKDhSp"
      },
      "execution_count": null,
      "outputs": []
    },
    {
      "cell_type": "code",
      "source": [
        "import requests\n",
        "# requests는 다양한 분야에서 사용이 됩니다. 테스트 용도로도 사용하고, 패킷 조작 등 통신에 관련된 것에 폭넓게 사용됩니다.\n",
        "\n",
        "from bs4 import BeautifulSoup\n",
        "\n",
        "paullab_url = 'https://paullab.co.kr/bookservice/'\n",
        "response = requests.get(paullab_url)\n",
        "response.encoding = 'utf-8'\n",
        "html = response.text\n",
        "\n",
        "soup = BeautifulSoup(html, 'html.parser')\n",
        "\n",
        "bookservices = soup.select('.col-lg-6 > h2') # col-lg-6 클래스 안의 h2 태그 탐색\n",
        "for no, book in enumerate(bookservices, 1):\n",
        "    print(no, book.text)"
      ],
      "metadata": {
        "colab": {
          "base_uri": "https://localhost:8080/"
        },
        "id": "lWnWpAzXC54q",
        "outputId": "957d3e2e-4652-44cd-e82a-a4bb4f4235f7"
      },
      "execution_count": 127,
      "outputs": [
        {
          "output_type": "stream",
          "name": "stdout",
          "text": [
            "1 메모혁신 Notion(노션) 활용 가이드\n",
            "2 이력서 작성 가이드\n",
            "3 제주코딩베이스캠프 Code Festival: Python 100제 1부\n",
            "4 튜토리얼로 배우는 HTML&CSS\n",
            "5 코딩도장 튜토리얼로 배우는 Python 1편 object\n",
            "6 코딩도장 튜토리얼로 배우는 python 2편 제어문\n",
            "7 코딩도장 튜토리얼로 배우는 Python 문제풀이\n",
            "8 타노스의 건틀릿 알고리즘 With Python\n",
            "9 xlsxwriter 튜토리얼로 배우는 Python 엑셀 프로그래밍\n",
            "10 러플 튜토리얼로 배우는 Python\n",
            "11 인공지능을 활용한 업무자동화 With Google Developers Group JEJU\n"
          ]
        }
      ]
    },
    {
      "cell_type": "code",
      "source": [
        "s =''\n",
        "bookservices = soup.select('.col-lg-6 > h2') # col-lg-6 클래스 안의 h2 태그 탐색\n",
        "for no, book in enumerate(bookservices, 1):\n",
        "\n",
        "    s +=f'<h2>{no}, {book.text}</h2>'\n",
        "\n",
        "with open('test.html', 'w') as f:\n",
        "    f.write(s)"
      ],
      "metadata": {
        "id": "P3G0pDTODr2M"
      },
      "execution_count": 128,
      "outputs": []
    },
    {
      "cell_type": "code",
      "source": [
        "# 이 데이터를 DB에도 넣을 수 있고(import sqlite3)\n",
        "# 파일로도 생성할 수 있는데 여러 형식으로 파일로 생성해보며 여러분과 얘기 나눠보도록 하겠습니다.\n",
        "import requests\n",
        "from bs4 import BeautifulSoup\n",
        "\n",
        "paullab_url = 'https://paullab.co.kr/bookservice/'\n",
        "response = requests.get(paullab_url)\n",
        "response.encoding = 'utf-8'\n",
        "html = response.text\n",
        "\n",
        "soup = BeautifulSoup(html, 'html.parser')"
      ],
      "metadata": {
        "id": "Vav-zLo-Drsy"
      },
      "execution_count": null,
      "outputs": []
    },
    {
      "cell_type": "code",
      "source": [
        "s = ''\n",
        "bookservices = soup.select('.col-lg-6 > h2') # col-lg-6 클래스 안의 h2 태그 탐색\n",
        "bookcover = soup.select('.book_cover')\n",
        "\n",
        "for no, book in enumerate(zip(bookservices, bookcover), 1):\n",
        "    s += f'<h2>{no}. {book[0].text}</h2><img width=\"100px\" src=\"https://paullab.co.kr/bookservice/{book[1][\"src\"]}\"/>'\n",
        "\n",
        "with open('test.html', 'w') as f:\n",
        "    f.write(s)"
      ],
      "metadata": {
        "id": "6bsf2VzVFqSP"
      },
      "execution_count": null,
      "outputs": []
    },
    {
      "cell_type": "code",
      "source": [
        "# html로 뽑기\n",
        "s = ''\n",
        "bookservices = soup.select('.col-lg-6 > h2') # col-lg-6 클래스 안의 h2 태그 탐색\n",
        "bookcover = soup.select('.book_cover')\n",
        "\n",
        "for no, book in enumerate(zip(bookservices, bookcover), 1):\n",
        "    s += f'<h2>{no}. {book[0].text}</h2><img width=\"100px\" src=\"https://paullab.co.kr/bookservice/{book[1][\"src\"]}\"/>'\n",
        "\n",
        "with open('test.html', 'w') as f:\n",
        "    f.write(s)"
      ],
      "metadata": {
        "id": "JJtlVsyZGJ8U"
      },
      "execution_count": null,
      "outputs": []
    },
    {
      "cell_type": "code",
      "source": [
        "# csv로 뽑기\n",
        "s = ''\n",
        "bookservices = soup.select('.col-lg-6 > h2') # col-lg-6 클래스 안의 h2 태그 탐색\n",
        "bookcover = soup.select('.book_cover')\n",
        "\n",
        "for no, book in enumerate(zip(bookservices, bookcover), 1):\n",
        "    s += f'{no}, {book[0].text}, \"https://paullab.co.kr/bookservice/{book[1][\"src\"]}\"\\n'\n",
        "\n",
        "with open('test.csv', 'w') as f:\n",
        "    f.write(s)"
      ],
      "metadata": {
        "id": "-WKQXcugGLhA"
      },
      "execution_count": null,
      "outputs": []
    },
    {
      "cell_type": "markdown",
      "source": [
        "json으로 뽑을 땐\n",
        "{{}} 이렇게 코딩해야 추출가능; 중괄호 2개\n",
        "\n"
      ],
      "metadata": {
        "id": "8DZ8tjjFC61y"
      }
    },
    {
      "cell_type": "code",
      "source": [
        "# json로 뽑기\n",
        "# 따옴표 없을 때, \\' 또는 \\\"로 각각 표\n",
        "s = '['\n",
        "bookservices = soup.select('.col-lg-6 > h2') # col-lg-6 클래스 안의 h2 태그 탐색\n",
        "bookcover = soup.select('.book_cover')\n",
        "\n",
        "for no, book in enumerate(zip(bookservices, bookcover), 1):\n",
        "    s += f'{{\\'number\\': {no}, bookname: {book[0].text}}},'\n",
        "\n",
        "s = s[:-1] + ']'\n",
        "s\n",
        "\n",
        "with open('test.json', 'w') as f:\n",
        "    f.write(s)"
      ],
      "metadata": {
        "id": "fyJIUFisHCiP"
      },
      "execution_count": null,
      "outputs": []
    },
    {
      "cell_type": "code",
      "source": [
        "print('hello')\n",
        "try:\n",
        "    s = 1/0\n",
        "    print(s)\n",
        "except:\n",
        "    print('error가 발생되었습니다!')\n",
        "print('world')"
      ],
      "metadata": {
        "id": "QuuTOe0CI0XP"
      },
      "execution_count": null,
      "outputs": []
    },
    {
      "cell_type": "code",
      "source": [
        "try:\n",
        "    # s = 1/0\n",
        "    l = []\n",
        "    l.appnd(10)\n",
        "    print(s)\n",
        "except ZeroDivisionError:\n",
        "    print('0으로 나누어졌습니다!')\n",
        "except AttributeError:\n",
        "    print('메서드 없어요!')"
      ],
      "metadata": {
        "id": "a637WIYxJd81"
      },
      "execution_count": null,
      "outputs": []
    },
    {
      "cell_type": "code",
      "source": [
        "try:\n",
        "    s = 1/1 # 0에서 1로 값을 바꾸었습니다.\n",
        "    print(s)\n",
        "    l = [1, 2, 3]\n",
        "    print(l[3])\n",
        "except ZeroDivisionError:\n",
        "    print('0으로 나누어졌습니다!')\n",
        "except:\n",
        "    print('오류가 났습니다!')"
      ],
      "metadata": {
        "id": "nHmzM9zcJlk-"
      },
      "execution_count": null,
      "outputs": []
    },
    {
      "cell_type": "code",
      "source": [
        "test = 'hello'\n",
        "\n",
        "assert test == 'hello', '애러 메시지 1' #1\n",
        "assert test == 'world', '애러 메시지 2' #2\n",
        "assert test + 3 == 5, '애러 메시지 3' #3"
      ],
      "metadata": {
        "colab": {
          "base_uri": "https://localhost:8080/",
          "height": 239
        },
        "id": "Wu0lVBbxKJGg",
        "outputId": "f6e8dd0d-319e-4adb-9d48-f60fe6d8c688"
      },
      "execution_count": 129,
      "outputs": [
        {
          "output_type": "error",
          "ename": "AssertionError",
          "evalue": "애러 메시지 2",
          "traceback": [
            "\u001b[0;31m---------------------------------------------------------------------------\u001b[0m",
            "\u001b[0;31mAssertionError\u001b[0m                            Traceback (most recent call last)",
            "\u001b[0;32m<ipython-input-129-71f97c55260d>\u001b[0m in \u001b[0;36m<cell line: 4>\u001b[0;34m()\u001b[0m\n\u001b[1;32m      2\u001b[0m \u001b[0;34m\u001b[0m\u001b[0m\n\u001b[1;32m      3\u001b[0m \u001b[0;32massert\u001b[0m \u001b[0mtest\u001b[0m \u001b[0;34m==\u001b[0m \u001b[0;34m'hello'\u001b[0m\u001b[0;34m,\u001b[0m \u001b[0;34m'애러 메시지 1'\u001b[0m \u001b[0;31m#1\u001b[0m\u001b[0;34m\u001b[0m\u001b[0;34m\u001b[0m\u001b[0m\n\u001b[0;32m----> 4\u001b[0;31m \u001b[0;32massert\u001b[0m \u001b[0mtest\u001b[0m \u001b[0;34m==\u001b[0m \u001b[0;34m'world'\u001b[0m\u001b[0;34m,\u001b[0m \u001b[0;34m'애러 메시지 2'\u001b[0m \u001b[0;31m#2\u001b[0m\u001b[0;34m\u001b[0m\u001b[0;34m\u001b[0m\u001b[0m\n\u001b[0m\u001b[1;32m      5\u001b[0m \u001b[0;32massert\u001b[0m \u001b[0mtest\u001b[0m \u001b[0;34m+\u001b[0m \u001b[0;36m3\u001b[0m \u001b[0;34m==\u001b[0m \u001b[0;36m5\u001b[0m\u001b[0;34m,\u001b[0m \u001b[0;34m'애러 메시지 3'\u001b[0m \u001b[0;31m#3\u001b[0m\u001b[0;34m\u001b[0m\u001b[0;34m\u001b[0m\u001b[0m\n",
            "\u001b[0;31mAssertionError\u001b[0m: 애러 메시지 2"
          ]
        }
      ]
    },
    {
      "cell_type": "code",
      "source": [
        "# 게시물 5개 쓰는 코드\n",
        "# assert 게시물.count() == 5"
      ],
      "metadata": {
        "id": "ZvsoJsWrKLet"
      },
      "execution_count": null,
      "outputs": []
    },
    {
      "cell_type": "code",
      "source": [
        "raise\n",
        "raise ValueError\n",
        "raise ValueError('코드를 잘~~만들어주세요.')\n"
      ],
      "metadata": {
        "id": "K5oyhPA0KmIy"
      },
      "execution_count": null,
      "outputs": []
    },
    {
      "cell_type": "code",
      "source": [
        "# 에러를 커스터마이즈 할 수 있습니다.\n",
        "class Licat(Exception): #Exception을 상속받으면 됩니다.\n",
        "    pass\n",
        "\n",
        "raise Licat"
      ],
      "metadata": {
        "id": "0vNaqVgyK02j"
      },
      "execution_count": null,
      "outputs": []
    },
    {
      "cell_type": "code",
      "source": [
        "class Licat(Exception):\n",
        "    def __init__(self):\n",
        "        super().__init__('입력된 값이 leehojun이 아닙니다.')\n",
        "\n",
        "raise Licat"
      ],
      "metadata": {
        "id": "fM1Xd1OBK2nl"
      },
      "execution_count": null,
      "outputs": []
    },
    {
      "cell_type": "code",
      "source": [
        "# https://world.weniv.co.kr/ 에서 사용하고 있는 여러 애러 중 하나\n",
        "class OutOfWorld(Exception):\n",
        "    \"\"\"\n",
        "    밖으로 나갔을 때 출력하는 애러\n",
        "    \"\"\"\n",
        "\n",
        "    def __init__(self):\n",
        "        print(\"error.OutOfWorld: out of world\", type=\"error\")\n",
        "        super().__init__(\"out of world\")"
      ],
      "metadata": {
        "id": "zhJ7_3r3LgrO"
      },
      "execution_count": null,
      "outputs": []
    }
  ]
}