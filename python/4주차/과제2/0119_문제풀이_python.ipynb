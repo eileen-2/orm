{
  "nbformat": 4,
  "nbformat_minor": 0,
  "metadata": {
    "colab": {
      "provenance": [],
      "authorship_tag": "ABX9TyNs3mAvrffWbLMX2HJy1QlD",
      "include_colab_link": true
    },
    "kernelspec": {
      "name": "python3",
      "display_name": "Python 3"
    },
    "language_info": {
      "name": "python"
    }
  },
  "cells": [
    {
      "cell_type": "markdown",
      "metadata": {
        "id": "view-in-github",
        "colab_type": "text"
      },
      "source": [
        "<a href=\"https://colab.research.google.com/github/eileen-2/orm/blob/main/0119_%EB%AC%B8%EC%A0%9C%ED%92%80%EC%9D%B4_python.ipynb\" target=\"_parent\"><img src=\"https://colab.research.google.com/assets/colab-badge.svg\" alt=\"Open In Colab\"/></a>"
      ]
    },
    {
      "cell_type": "code",
      "execution_count": 1,
      "metadata": {
        "id": "hoGRUbH6BpU8"
      },
      "outputs": [],
      "source": [
        "#프로그래머스 문제 풀이"
      ]
    },
    {
      "cell_type": "code",
      "source": [
        "def (data):\n",
        "    return\n",
        "solution()"
      ],
      "metadata": {
        "id": "iqGuEfNeL3Hg"
      },
      "execution_count": null,
      "outputs": []
    },
    {
      "cell_type": "markdown",
      "source": [
        "# 홀수 짝수 찾기\n",
        "# https://school.programmers.co.kr/learn/courses/30/lessons/120824"
      ],
      "metadata": {
        "id": "Ne1rxEFTSev_"
      }
    },
    {
      "cell_type": "code",
      "source": [
        "def solution(date):\n",
        "    짝수 = [i % 2 == 0 for i in data]\n",
        "    홀수 = [i % 2 != 0 for i in data]\n",
        "    return [sum(짝수), sum(홀수)]\n"
      ],
      "metadata": {
        "id": "aa9IBzyLPt3o"
      },
      "execution_count": 8,
      "outputs": []
    },
    {
      "cell_type": "code",
      "source": [
        "def solution(data):\n",
        "    count = 0\n",
        "    for i in data:\n",
        "        if i % 2 == 0:\n",
        "            count += 1\n",
        "        return [count, len(data)-count]\n"
      ],
      "metadata": {
        "id": "QqFrcffNLkmV"
      },
      "execution_count": 7,
      "outputs": []
    },
    {
      "cell_type": "code",
      "source": [
        "def solution(num_list):\n",
        "    answer = [0, 0]\n",
        "    for i in num_list:\n",
        "        answer[i % 2] += 1\n",
        "    return answer"
      ],
      "metadata": {
        "id": "16rLA51FMl18"
      },
      "execution_count": null,
      "outputs": []
    },
    {
      "cell_type": "code",
      "source": [
        "# 좋은 풀이는 아닙니다.\n",
        "# data의 가변 최대치를 봅니다.\n",
        "def solution(data):\n",
        "    짝수 = [i % 2 == 0 for i in data]\n",
        "    return [sum(짝수), len(data) - sum(짝수)] # sum이 순회합니다."
      ],
      "metadata": {
        "id": "83h8BPdqRa57"
      },
      "execution_count": null,
      "outputs": []
    },
    {
      "cell_type": "code",
      "source": [
        "def solution(data):\n",
        "    짝수 = [i % 2 == 0 for i in data]\n",
        "    갯수 = sum(짝수)\n",
        "    return [갯수, len(data)-갯수]"
      ],
      "metadata": {
        "id": "ksgx5iViR4Km"
      },
      "execution_count": 9,
      "outputs": []
    },
    {
      "cell_type": "markdown",
      "source": [
        "# 머쓱이보다 키 큰 사람\n",
        "# https://school.programmers.co.kr/learn/courses/30/lessons/120585\n"
      ],
      "metadata": {
        "id": "Bockuib6SW65"
      }
    },
    {
      "cell_type": "code",
      "source": [
        "#리스트에 리스트인 것은 언패킹해서 쓰세요. 코드 가독성 좋아짐.\n",
        "def solution(data):\n",
        "    count = 0\n",
        "    for i in arry:\n",
        "        if i > height:\n",
        "            count += 1\n",
        "        return count"
      ],
      "metadata": {
        "id": "m4AJkdWxSW5p"
      },
      "execution_count": null,
      "outputs": []
    },
    {
      "cell_type": "code",
      "source": [
        "# filter는 len가 없습니다!!!!!!\n",
        "def solution(arry, height):\n",
        "    print(listfilter(lambda x: x> height, array))\n",
        "        return\n",
        "\n",
        "solution([149, 180, 192, 170], 167)"
      ],
      "metadata": {
        "id": "MeT3y8oeTmf-"
      },
      "execution_count": null,
      "outputs": []
    },
    {
      "cell_type": "code",
      "source": [
        "# filter는 len가 없습니다!\n",
        "def solution(array, height):\n",
        "    return len(list(filter(lambda x: x > height, array)))\n",
        "\n",
        "solution([149, 180, 192, 170], 167)\n",
        "\n",
        "# 왜 filter는 len이 없을까?\n",
        "# 순회 돌기 전까지는 실행이 되지 않는 함수\n",
        "# for와 같이 순회를 돌아야 그때서 각 원소 별로 접근\n",
        "# 주문만 하고 아직 제조 되지 않은 커피 같은 존재\n",
        "# 커피를 달라고 소리쳐야(순회, 형변환) 그때서야 제조가 됩니다"
      ],
      "metadata": {
        "colab": {
          "base_uri": "https://localhost:8080/"
        },
        "id": "630cgv7YUGaL",
        "outputId": "e5f30adf-a017-4116-9d8c-65e016f11649"
      },
      "execution_count": 15,
      "outputs": [
        {
          "output_type": "execute_result",
          "data": {
            "text/plain": [
              "3"
            ]
          },
          "metadata": {},
          "execution_count": 15
        }
      ]
    },
    {
      "cell_type": "code",
      "source": [
        "def solution(array, height):\n",
        "    return(sum(map(lambda x: x>height, array)))\n",
        "\n",
        "solution([149, 180, 192, 170], 167)"
      ],
      "metadata": {
        "colab": {
          "base_uri": "https://localhost:8080/"
        },
        "id": "M-RtAXe_UzJK",
        "outputId": "7c968db8-b9e7-4338-d4c5-43246ee6babd"
      },
      "execution_count": 14,
      "outputs": [
        {
          "output_type": "execute_result",
          "data": {
            "text/plain": [
              "3"
            ]
          },
          "metadata": {},
          "execution_count": 14
        }
      ]
    },
    {
      "cell_type": "code",
      "source": [
        "def solution(array, height):\n",
        "     return sum([i > height for i in array])\n",
        "\n",
        "solution([149, 180, 192, 170], 167)"
      ],
      "metadata": {
        "colab": {
          "base_uri": "https://localhost:8080/"
        },
        "id": "Jiel8NhsVHA8",
        "outputId": "2c5d7497-6fd8-4a89-8ec2-00fe819bdb62"
      },
      "execution_count": 13,
      "outputs": [
        {
          "output_type": "execute_result",
          "data": {
            "text/plain": [
              "3"
            ]
          },
          "metadata": {},
          "execution_count": 13
        }
      ]
    },
    {
      "cell_type": "markdown",
      "source": [
        "# 숨어있는 숫자의 덧셈\n",
        "\n",
        "\n",
        "https://school.programmers.co.kr/learn/courses/30/lessons/120851"
      ],
      "metadata": {
        "id": "angmaVIJVG_v"
      }
    },
    {
      "cell_type": "code",
      "source": [
        "def solution():\n",
        "    pass\n",
        "\n",
        "solution(\"aAb1B2cC34oOp\")"
      ],
      "metadata": {
        "id": "AtHETE-mWQQh"
      },
      "execution_count": null,
      "outputs": []
    },
    {
      "cell_type": "code",
      "source": [
        "# 오답, 그러나 이렇게도 많이 사용합니다.\n",
        "def solution(my_string):\n",
        "    count = 0 # if -> ture면 count에 저장해라.\n",
        "    for i in my_string:\n",
        "        if i.isdigit():\n",
        "            count += 1\n",
        "\n",
        "solution(\"aAb1B2cC34oOp\")"
      ],
      "metadata": {
        "id": "8v5fgfHnWt6M"
      },
      "execution_count": null,
      "outputs": []
    },
    {
      "cell_type": "code",
      "source": [
        "def solution(my_string):\n",
        "    result = 0\n",
        "    for i in my_string:\n",
        "        if i.isdigit():\n",
        "            result += int(i)\n",
        "\n",
        "    return result\n",
        "\n",
        "solution(\"aAb1B2cC34oOp\")"
      ],
      "metadata": {
        "colab": {
          "base_uri": "https://localhost:8080/"
        },
        "id": "5p3hkuEuWWbX",
        "outputId": "b6e88a94-12b4-43ed-dd25-357ea0639616"
      },
      "execution_count": 18,
      "outputs": [
        {
          "output_type": "execute_result",
          "data": {
            "text/plain": [
              "10"
            ]
          },
          "metadata": {},
          "execution_count": 18
        }
      ]
    },
    {
      "cell_type": "code",
      "source": [
        "# 효율적이진 않지만, 문법 복습차원에서\n",
        "def solution(my_string):\n",
        "    return list(filter(str.isdigit, list(my_string)))\n",
        "\n",
        "\n",
        "solution(\"aAb1B2cC34oOp\")"
      ],
      "metadata": {
        "colab": {
          "base_uri": "https://localhost:8080/"
        },
        "id": "UHq19QozWy0i",
        "outputId": "282a0164-416e-432e-8a05-b2abff523c95"
      },
      "execution_count": 26,
      "outputs": [
        {
          "output_type": "execute_result",
          "data": {
            "text/plain": [
              "['1', '2', '3', '4']"
            ]
          },
          "metadata": {},
          "execution_count": 26
        }
      ]
    },
    {
      "cell_type": "code",
      "source": [
        "def solution(my_string):\n",
        "    return filter(str.isdigit, my_string)\n",
        "\n",
        "\n",
        "solution(\"aAb1B2cC34oOp\")"
      ],
      "metadata": {
        "colab": {
          "base_uri": "https://localhost:8080/"
        },
        "id": "ju3xyqVsXfFL",
        "outputId": "271b8420-51cc-4af0-b1ec-744479d7a151"
      },
      "execution_count": 28,
      "outputs": [
        {
          "output_type": "execute_result",
          "data": {
            "text/plain": [
              "<filter at 0x7e54ac12b100>"
            ]
          },
          "metadata": {},
          "execution_count": 28
        }
      ]
    },
    {
      "cell_type": "code",
      "source": [
        "# isdigit에 ()가 있고 없고의 차이는 무엇인가요?\n",
        "def 함수(x):\n",
        "    return x.isdigit()\n",
        "\n",
        "def solution(my_string):\n",
        "    return list(filter(str.isdigit, my_string)) # str에서 제공하는 isdigit함수에 my_string 인자가 하나씩 들어와서 True or false 판별해서 필터\n",
        "\n",
        "\n",
        "solution(\"aAb1B2cC34oOp\")"
      ],
      "metadata": {
        "colab": {
          "base_uri": "https://localhost:8080/"
        },
        "id": "41NlisgfX0bh",
        "outputId": "0459c85f-4a6a-44a2-e013-2e51f8a0dde9"
      },
      "execution_count": 31,
      "outputs": [
        {
          "output_type": "execute_result",
          "data": {
            "text/plain": [
              "['1', '2', '3', '4']"
            ]
          },
          "metadata": {},
          "execution_count": 31
        }
      ]
    },
    {
      "cell_type": "code",
      "source": [
        "def solution(my_string):\n",
        "    return sum(map(lambda x: int(x) if x.isdigit() else False, my_string))\n",
        "\n",
        "solution(\"aAb1B2cC34oOp\")"
      ],
      "metadata": {
        "colab": {
          "base_uri": "https://localhost:8080/"
        },
        "id": "WbaVToV_YfMz",
        "outputId": "c45aef66-8126-4eae-8a17-58c8d17a250f"
      },
      "execution_count": 37,
      "outputs": [
        {
          "output_type": "execute_result",
          "data": {
            "text/plain": [
              "10"
            ]
          },
          "metadata": {},
          "execution_count": 37
        }
      ]
    },
    {
      "cell_type": "code",
      "source": [
        "# r은 raw 날 것의 라는 뜻임\n",
        "# 실무에서 자주쓰는 용어 raw != low\n",
        "# raw data 전달해줘: 가공하지 않은 순수 데이터를 달라는 얘기\n",
        "\n",
        "r'hello\\world'\n",
        "\n",
        "print('hello\\nworld')\n",
        "print(r'hello\\nworld')"
      ],
      "metadata": {
        "colab": {
          "base_uri": "https://localhost:8080/"
        },
        "id": "6totW7H_ZaBB",
        "outputId": "87e925c9-b09a-4971-c693-203d3e35d523"
      },
      "execution_count": 41,
      "outputs": [
        {
          "output_type": "stream",
          "name": "stdout",
          "text": [
            "hello\n",
            "world\n",
            "hello\\nworld\n"
          ]
        }
      ]
    },
    {
      "cell_type": "code",
      "source": [
        "import re\n",
        "re.findall(r'[0-9]',\"aAb1B2cC34oOp\")"
      ],
      "metadata": {
        "colab": {
          "base_uri": "https://localhost:8080/"
        },
        "id": "0Bqkg-GUZWWk",
        "outputId": "05358568-6045-4a50-f78b-9b61ca55dd58"
      },
      "execution_count": 42,
      "outputs": [
        {
          "output_type": "execute_result",
          "data": {
            "text/plain": [
              "['1', '2', '3', '4']"
            ]
          },
          "metadata": {},
          "execution_count": 42
        }
      ]
    },
    {
      "cell_type": "code",
      "source": [
        "import re\n",
        "\n",
        "def solution(s):\n",
        "    sum(map(int, re.findall(r'[0-9]', s))) #map은 정수형으로 형변환 가능, 리스트나 반복가능한 객체에 함수 적용할때.\n",
        "\n",
        "solution(\"aAb1B2cC34oOp\")"
      ],
      "metadata": {
        "id": "pqQxozW-dS8P"
      },
      "execution_count": 44,
      "outputs": []
    },
    {
      "cell_type": "code",
      "source": [
        "import re\n",
        "\n",
        "def solution(s):\n",
        "    return sum(map(int, (re.sub(r'[a-zA-Z]', '', s)))) # sub는 대체하기\n",
        "\n",
        "solution('aAb1B2cC34oOp')"
      ],
      "metadata": {
        "colab": {
          "base_uri": "https://localhost:8080/"
        },
        "id": "IdiKL3_UeLbH",
        "outputId": "87306b0a-85a8-484e-f7a6-5e690712f664"
      },
      "execution_count": 45,
      "outputs": [
        {
          "output_type": "execute_result",
          "data": {
            "text/plain": [
              "10"
            ]
          },
          "metadata": {},
          "execution_count": 45
        }
      ]
    },
    {
      "cell_type": "markdown",
      "source": [
        "# 암호해독\n",
        "https://school.programmers.co.kr/learn/courses/30/lessons/120892"
      ],
      "metadata": {
        "id": "x-2DsJJ5e5KO"
      }
    },
    {
      "cell_type": "code",
      "source": [
        "def solution(cipher, code):\n",
        "    return cipher[code-1::code]\n",
        "\n",
        "solution(\"dfjardstddetckdaccccdegk\", 4)\n",
        "'''\n",
        "문자열 슬라이싱은 [시작 인덱스:끝 인덱스:스텝] 형태로 사용합니다. 여기서 시작 인덱스는 슬라이싱을 시작할 위치, 끝 인덱스는 슬라이싱을 끝낼 위치 (하지만 이 인덱스 직전까지만 포함됩니다), 그리고 스텝은 몇 개의 요소를 건너뛰면서 가져올지를 결정하는 값이에요.\n",
        "\n",
        "solution 함수에서 사용된 슬라이싱 cipher[code-1::code]를 분석해볼게요:\n",
        "\n",
        "code-1은 슬라이싱이 시작될 인덱스를 의미합니다. code가 4이면, code-1은 3이 되겠죠. 파이썬은 0부터 인덱싱을 시작하므로, 실제로는 4번째 문자에서 슬라이싱이 시작됩니다.\n",
        "두 번째 콜론(:) 뒤의 code는 스텝을 의미합니다. 여기서는 4이므로, 현재 인덱스에서 시작해서 매 4번째 문자를 가져옵니다.\n",
        "끝 인덱스가 지정되지 않았으므로, 문자열의 끝까지 슬라이싱합니다.\n",
        "예제 solution(\"dfjardstddetckdaccccdegk\", 4)를 통해 설명드리면:\n",
        "\n",
        "\"dfjardstddetckdaccccdegk\" 문자열에서 4번째 문자인 'a'부터 시작합니다.\n",
        "여기서부터 4개의 문자를 건너뛰고 다음 문자를 가져옵니다: 'r', 's', 'd', 'e', 'k' (각각 인덱스 3, 7, 11, 15, 19에 해당합니다).\n",
        "'''"
      ],
      "metadata": {
        "colab": {
          "base_uri": "https://localhost:8080/",
          "height": 35
        },
        "id": "fYuWK0Eze457",
        "outputId": "d446c926-2372-4ebf-8c64-f173bec78864"
      },
      "execution_count": 46,
      "outputs": [
        {
          "output_type": "execute_result",
          "data": {
            "text/plain": [
              "'attack'"
            ],
            "application/vnd.google.colaboratory.intrinsic+json": {
              "type": "string"
            }
          },
          "metadata": {},
          "execution_count": 46
        }
      ]
    },
    {
      "cell_type": "code",
      "source": [
        "def solution(cipher, code):\n",
        "    count = 1\n",
        "    for i in cipher:\n",
        "        if count == code:\n",
        "            print(i)\n",
        "            count = 0\n",
        "        count += 1\n",
        "\n",
        "solution(\"dfjardstddetckdaccccdegk\", 4)"
      ],
      "metadata": {
        "colab": {
          "base_uri": "https://localhost:8080/"
        },
        "id": "p9N1aQc-fTio",
        "outputId": "09ff5728-d862-4d55-a5f9-0e42e81f07cb"
      },
      "execution_count": 59,
      "outputs": [
        {
          "output_type": "stream",
          "name": "stdout",
          "text": [
            "a\n",
            "t\n",
            "t\n",
            "a\n",
            "c\n",
            "k\n"
          ]
        }
      ]
    },
    {
      "cell_type": "code",
      "source": [
        "code = \"dfjardstddetckdaccccdegk\"\n",
        "code[-1::2]"
      ],
      "metadata": {
        "colab": {
          "base_uri": "https://localhost:8080/",
          "height": 35
        },
        "id": "DPPeZURYfdfJ",
        "outputId": "18a03ac5-6294-4891-be66-77804325eb4f"
      },
      "execution_count": 54,
      "outputs": [
        {
          "output_type": "execute_result",
          "data": {
            "text/plain": [
              "'k'"
            ],
            "application/vnd.google.colaboratory.intrinsic+json": {
              "type": "string"
            }
          },
          "metadata": {},
          "execution_count": 54
        }
      ]
    },
    {
      "cell_type": "code",
      "source": [
        "def solution(cipher, code):\n",
        "    count = 1\n",
        "    for i, j in enumerate(cipher, 1):\n",
        "        if i % code == 0:\n",
        "            print(j)\n",
        "\n",
        "solution(\"dfjardstddetckdaccccdegk\", 4)"
      ],
      "metadata": {
        "colab": {
          "base_uri": "https://localhost:8080/"
        },
        "id": "c80Wss7ogVB5",
        "outputId": "6be37c11-44ae-4360-f892-d972db61186f"
      },
      "execution_count": 63,
      "outputs": [
        {
          "output_type": "stream",
          "name": "stdout",
          "text": [
            "a\n",
            "t\n",
            "t\n",
            "a\n",
            "c\n",
            "k\n"
          ]
        }
      ]
    },
    {
      "cell_type": "code",
      "source": [
        "# 3 7 11 15\n",
        "# 이런 풀이는 권하지 않습니다.\n",
        "def solution(cipher, code):\n",
        "    result = ''\n",
        "    for i in range(1, len(cipher) // code + 1):\n",
        "        result += cipher[i * code - 1]\n",
        "    return result\n",
        "\n",
        "solution(\"dfjardstddetckdaccccdegk\", 4)"
      ],
      "metadata": {
        "colab": {
          "base_uri": "https://localhost:8080/",
          "height": 35
        },
        "id": "EEy2F0PVg6Y0",
        "outputId": "bab00df2-aad1-4748-df6c-46925f87422c"
      },
      "execution_count": 75,
      "outputs": [
        {
          "output_type": "execute_result",
          "data": {
            "text/plain": [
              "'attack'"
            ],
            "application/vnd.google.colaboratory.intrinsic+json": {
              "type": "string"
            }
          },
          "metadata": {},
          "execution_count": 75
        }
      ]
    },
    {
      "cell_type": "markdown",
      "source": [
        "# 3 6 9 게임\n",
        "https://school.programmers.co.kr/learn/courses/30/lessons/120891\n"
      ],
      "metadata": {
        "id": "L_3j7Mx2i9UW"
      }
    },
    {
      "cell_type": "code",
      "source": [
        "def solution(order):\n",
        "    order = str(order)\n",
        "    return order.count('3') + order.count('6') +order.count('9')\n",
        "\n",
        "solution('29423')"
      ],
      "metadata": {
        "colab": {
          "base_uri": "https://localhost:8080/"
        },
        "id": "cI4QFlnxjHma",
        "outputId": "2d227c6a-661d-445f-d83d-ff42c3c645af"
      },
      "execution_count": 78,
      "outputs": [
        {
          "output_type": "execute_result",
          "data": {
            "text/plain": [
              "2"
            ]
          },
          "metadata": {},
          "execution_count": 78
        }
      ]
    },
    {
      "cell_type": "code",
      "source": [
        "import re\n",
        "\n",
        "re.findall(r'[369]','1231231234839291')"
      ],
      "metadata": {
        "colab": {
          "base_uri": "https://localhost:8080/"
        },
        "id": "Fidekxwxjlub",
        "outputId": "bc6ee498-8165-4982-d05e-9f7161bbf636"
      },
      "execution_count": 79,
      "outputs": [
        {
          "output_type": "execute_result",
          "data": {
            "text/plain": [
              "['3', '3', '3', '3', '9', '9']"
            ]
          },
          "metadata": {},
          "execution_count": 79
        }
      ]
    },
    {
      "cell_type": "code",
      "source": [
        "import re\n",
        "\n",
        "\n",
        "def solution(order):\n",
        "    order = str(order)\n",
        "    return len(list(re.findall(r'[369]', order)))"
      ],
      "metadata": {
        "id": "zc2RE9EDj5yf"
      },
      "execution_count": 80,
      "outputs": []
    },
    {
      "cell_type": "markdown",
      "source": [
        "중복문자 제거하기\n",
        "https://school.programmers.co.kr/learn/courses/30/lessons/120888"
      ],
      "metadata": {
        "id": "oZL0pYOfkT5U"
      }
    },
    {
      "cell_type": "code",
      "source": [
        "def solution(s):\n",
        "    answer = ''\n",
        "    for i in s:\n",
        "        if i not in answer:\n",
        "            answer += i\n",
        "        return(answer)\n",
        "\n",
        "solution('people')"
      ],
      "metadata": {
        "colab": {
          "base_uri": "https://localhost:8080/",
          "height": 35
        },
        "id": "G5S6ZjlvkeiX",
        "outputId": "68ec2d8b-eeb9-4660-b66e-b466ff1677e8"
      },
      "execution_count": 89,
      "outputs": [
        {
          "output_type": "execute_result",
          "data": {
            "text/plain": [
              "'p'"
            ],
            "application/vnd.google.colaboratory.intrinsic+json": {
              "type": "string"
            }
          },
          "metadata": {},
          "execution_count": 89
        }
      ]
    },
    {
      "cell_type": "code",
      "source": [
        "def solution(my_string):\n",
        "    return ''.join(dict.fromkeys(my_string)) # 딕셔너리는 키중복이 안된다를 이용함.\n",
        "\n",
        "solution('people')"
      ],
      "metadata": {
        "colab": {
          "base_uri": "https://localhost:8080/",
          "height": 35
        },
        "id": "ivkYmbHVk3OA",
        "outputId": "118b3234-3f4b-495f-b2a2-1d000ad93f47"
      },
      "execution_count": 91,
      "outputs": [
        {
          "output_type": "execute_result",
          "data": {
            "text/plain": [
              "'peol'"
            ],
            "application/vnd.google.colaboratory.intrinsic+json": {
              "type": "string"
            }
          },
          "metadata": {},
          "execution_count": 91
        }
      ]
    },
    {
      "cell_type": "markdown",
      "source": [
        "A로 B 만들기\n",
        "https://school.programmers.co.kr/learn/courses/30/lessons/120886\n"
      ],
      "metadata": {
        "id": "FRih5hVVm-Ej"
      }
    },
    {
      "cell_type": "code",
      "source": [
        "def reverse(n):\n",
        "    if len(n) <= 1:\n",
        "        return n\n",
        "    return reverse(n[1:]) + n[0]\n",
        "\n",
        "reverse(\"olleh\")\n",
        "\n"
      ],
      "metadata": {
        "colab": {
          "base_uri": "https://localhost:8080/",
          "height": 35
        },
        "id": "ZeqVkaTEnGlj",
        "outputId": "00dac011-b593-48e8-aed5-89ae3fd1d15c"
      },
      "execution_count": 111,
      "outputs": [
        {
          "output_type": "execute_result",
          "data": {
            "text/plain": [
              "'hello'"
            ],
            "application/vnd.google.colaboratory.intrinsic+json": {
              "type": "string"
            }
          },
          "metadata": {},
          "execution_count": 111
        }
      ]
    },
    {
      "cell_type": "code",
      "source": [
        "def solution(before, after):\n",
        "    if len(before) != len(after):\n",
        "        return 0\n",
        "    return 1 if sorted(before) == sorted(after) else 0\n",
        "\n",
        "solution('olleh', 'hello')"
      ],
      "metadata": {
        "colab": {
          "base_uri": "https://localhost:8080/"
        },
        "id": "MgOLyJV1uaW_",
        "outputId": "04e9f38a-e133-45f4-d5e4-38b7961d5470"
      },
      "execution_count": 105,
      "outputs": [
        {
          "output_type": "execute_result",
          "data": {
            "text/plain": [
              "1"
            ]
          },
          "metadata": {},
          "execution_count": 105
        }
      ]
    },
    {
      "cell_type": "code",
      "source": [
        "import collections\n",
        "\n",
        "collections.Counter(\"olleh\")\n",
        "collections.Counter('olleh') == collections.Counter('hello')"
      ],
      "metadata": {
        "colab": {
          "base_uri": "https://localhost:8080/"
        },
        "id": "WgeNVY4Iv4bK",
        "outputId": "fbec507f-b1c7-4584-c334-c35b2bfabc29"
      },
      "execution_count": 112,
      "outputs": [
        {
          "output_type": "execute_result",
          "data": {
            "text/plain": [
              "True"
            ]
          },
          "metadata": {},
          "execution_count": 112
        }
      ]
    },
    {
      "cell_type": "code",
      "source": [
        "def solution(before, after):\n",
        "    a = list(after)\n",
        "    for i in before:\n",
        "        if i in a:\n",
        "            a.remove(i)\n",
        "        else:\n",
        "            return 0\n",
        "    if a:   # 없어도 맞긴하지만 냅둡시다\n",
        "        return 0\n",
        "    return 1\n",
        "\n",
        "solution(\"olleh\", \"hello\")\n"
      ],
      "metadata": {
        "colab": {
          "base_uri": "https://localhost:8080/"
        },
        "id": "GOuPDjcgwTM-",
        "outputId": "096c624e-2cde-4aeb-e7fb-4484a8eea17b"
      },
      "execution_count": 117,
      "outputs": [
        {
          "output_type": "stream",
          "name": "stdout",
          "text": [
            "['h', 'e', 'l', 'l', 'o']\n"
          ]
        },
        {
          "output_type": "execute_result",
          "data": {
            "text/plain": [
              "0"
            ]
          },
          "metadata": {},
          "execution_count": 117
        }
      ]
    },
    {
      "cell_type": "code",
      "source": [
        "# 회문\n",
        "'''\n",
        "'hello' -> 'elloh' -> 'llohe'\n",
        "'hello' -> 'ohell' -> 'lohel'\n",
        "# collections.deque\n",
        "'''\n",
        "# 문제1, 'hello를 앞뒤로 이동시켜 'llohe'를 만들 수 있나요\n",
        "'hellohello'\n",
        "\n",
        "# 문제 2, 몇칸 이동했나요\n",
        "'hellohello'.index('llohe')"
      ],
      "metadata": {
        "colab": {
          "base_uri": "https://localhost:8080/"
        },
        "id": "0d-q5tHyxadT",
        "outputId": "c8a7488c-29c4-4455-902b-e062828a7b69"
      },
      "execution_count": 119,
      "outputs": [
        {
          "output_type": "execute_result",
          "data": {
            "text/plain": [
              "2"
            ]
          },
          "metadata": {},
          "execution_count": 119
        }
      ]
    },
    {
      "cell_type": "markdown",
      "source": [
        "저주의 숫자\n",
        "https://school.programmers.co.kr/learn/courses/30/lessons/120871\n"
      ],
      "metadata": {
        "id": "lOmOLyp_ygoJ"
      }
    },
    {
      "cell_type": "code",
      "source": [
        "# 십진수       3숫자마을\n",
        "# 1                 1\n",
        "# 2                 2\n",
        "# 3                 4\n",
        "# 4                 5\n",
        "# 5                 7\n",
        "# 6                 8\n",
        "# 7                 10\n",
        "# 8                 11\n",
        "# 9                 14\n",
        "# 10                16\n",
        "\n",
        "\n",
        "\n",
        "\n",
        "\n"
      ],
      "metadata": {
        "id": "ZBaM-sijy4an"
      },
      "execution_count": 120,
      "outputs": []
    },
    {
      "cell_type": "code",
      "source": [
        "#[True, True, False...]"
      ],
      "metadata": {
        "id": "KAFKgdMvzgUU"
      },
      "execution_count": null,
      "outputs": []
    },
    {
      "cell_type": "code",
      "source": [
        "#filter('3이 들어간 숫자', filter('3의배수인 숫자', [1,2,3,4,5,6,7,8,9,10]))"
      ],
      "metadata": {
        "id": "Ba4WWbzoy8tv"
      },
      "execution_count": null,
      "outputs": []
    },
    {
      "cell_type": "code",
      "source": [
        "list(filter(lambda x: (x % 3 != 0) and ('3' not in str(x)), range(100)))[15-1]"
      ],
      "metadata": {
        "colab": {
          "base_uri": "https://localhost:8080/"
        },
        "id": "8Nw-cDqnz-BW",
        "outputId": "1dba72f2-0367-4c07-87c7-43f7799db151"
      },
      "execution_count": 127,
      "outputs": [
        {
          "output_type": "execute_result",
          "data": {
            "text/plain": [
              "25"
            ]
          },
          "metadata": {},
          "execution_count": 127
        }
      ]
    },
    {
      "cell_type": "code",
      "source": [
        "def solution(num):\n",
        "    return list(filter(lambda x: (x % 3 != 0) and ('3' not in str(x)), range(1000)))[num-1]\n",
        "\n",
        "solution(15)"
      ],
      "metadata": {
        "colab": {
          "base_uri": "https://localhost:8080/"
        },
        "id": "WulbDtrS0UmJ",
        "outputId": "01101ac4-b005-4210-97b1-22f54cbf2402"
      },
      "execution_count": 128,
      "outputs": [
        {
          "output_type": "execute_result",
          "data": {
            "text/plain": [
              "25"
            ]
          },
          "metadata": {},
          "execution_count": 128
        }
      ]
    },
    {
      "cell_type": "code",
      "source": [
        "def solution(num):\n",
        "    l = []\n",
        "    for i in range(1000):\n",
        "        if i % 3 != 0:\n",
        "            l.append(i)\n",
        "        elif '3' not in str(i):\n",
        "            l.append(i)\n",
        "    print(l)\n",
        "solution(15)"
      ],
      "metadata": {
        "colab": {
          "base_uri": "https://localhost:8080/"
        },
        "id": "LoljgpOJ1VyT",
        "outputId": "c7ee90c7-eeeb-4083-f188-2cb9ffc80bc8"
      },
      "execution_count": 132,
      "outputs": [
        {
          "output_type": "stream",
          "name": "stdout",
          "text": [
            "[0, 1, 2, 4, 5, 6, 7, 8, 9, 10, 11, 12, 13, 14, 15, 16, 17, 18, 19, 20, 21, 22, 23, 24, 25, 26, 27, 28, 29, 31, 32, 34, 35, 37, 38, 40, 41, 42, 43, 44, 45, 46, 47, 48, 49, 50, 51, 52, 53, 54, 55, 56, 57, 58, 59, 60, 61, 62, 64, 65, 66, 67, 68, 69, 70, 71, 72, 73, 74, 75, 76, 77, 78, 79, 80, 81, 82, 83, 84, 85, 86, 87, 88, 89, 90, 91, 92, 94, 95, 96, 97, 98, 99, 100, 101, 102, 103, 104, 105, 106, 107, 108, 109, 110, 111, 112, 113, 114, 115, 116, 117, 118, 119, 120, 121, 122, 124, 125, 126, 127, 128, 129, 130, 131, 133, 134, 136, 137, 139, 140, 141, 142, 143, 144, 145, 146, 147, 148, 149, 150, 151, 152, 154, 155, 156, 157, 158, 159, 160, 161, 162, 163, 164, 165, 166, 167, 168, 169, 170, 171, 172, 173, 174, 175, 176, 177, 178, 179, 180, 181, 182, 184, 185, 186, 187, 188, 189, 190, 191, 192, 193, 194, 195, 196, 197, 198, 199, 200, 201, 202, 203, 204, 205, 206, 207, 208, 209, 210, 211, 212, 214, 215, 216, 217, 218, 219, 220, 221, 222, 223, 224, 225, 226, 227, 228, 229, 230, 232, 233, 235, 236, 238, 239, 240, 241, 242, 244, 245, 246, 247, 248, 249, 250, 251, 252, 253, 254, 255, 256, 257, 258, 259, 260, 261, 262, 263, 264, 265, 266, 267, 268, 269, 270, 271, 272, 274, 275, 276, 277, 278, 279, 280, 281, 282, 283, 284, 285, 286, 287, 288, 289, 290, 291, 292, 293, 294, 295, 296, 297, 298, 299, 301, 302, 304, 305, 307, 308, 310, 311, 313, 314, 316, 317, 319, 320, 322, 323, 325, 326, 328, 329, 331, 332, 334, 335, 337, 338, 340, 341, 343, 344, 346, 347, 349, 350, 352, 353, 355, 356, 358, 359, 361, 362, 364, 365, 367, 368, 370, 371, 373, 374, 376, 377, 379, 380, 382, 383, 385, 386, 388, 389, 391, 392, 394, 395, 397, 398, 400, 401, 402, 403, 404, 405, 406, 407, 408, 409, 410, 411, 412, 413, 414, 415, 416, 417, 418, 419, 420, 421, 422, 424, 425, 426, 427, 428, 429, 430, 431, 433, 434, 436, 437, 439, 440, 441, 442, 443, 444, 445, 446, 447, 448, 449, 450, 451, 452, 454, 455, 456, 457, 458, 459, 460, 461, 462, 463, 464, 465, 466, 467, 468, 469, 470, 471, 472, 473, 474, 475, 476, 477, 478, 479, 480, 481, 482, 484, 485, 486, 487, 488, 489, 490, 491, 492, 493, 494, 495, 496, 497, 498, 499, 500, 501, 502, 503, 504, 505, 506, 507, 508, 509, 510, 511, 512, 514, 515, 516, 517, 518, 519, 520, 521, 522, 523, 524, 525, 526, 527, 528, 529, 530, 532, 533, 535, 536, 538, 539, 540, 541, 542, 544, 545, 546, 547, 548, 549, 550, 551, 552, 553, 554, 555, 556, 557, 558, 559, 560, 561, 562, 563, 564, 565, 566, 567, 568, 569, 570, 571, 572, 574, 575, 576, 577, 578, 579, 580, 581, 582, 583, 584, 585, 586, 587, 588, 589, 590, 591, 592, 593, 594, 595, 596, 597, 598, 599, 600, 601, 602, 604, 605, 606, 607, 608, 609, 610, 611, 612, 613, 614, 615, 616, 617, 618, 619, 620, 621, 622, 623, 624, 625, 626, 627, 628, 629, 631, 632, 634, 635, 637, 638, 640, 641, 642, 643, 644, 645, 646, 647, 648, 649, 650, 651, 652, 653, 654, 655, 656, 657, 658, 659, 660, 661, 662, 664, 665, 666, 667, 668, 669, 670, 671, 672, 673, 674, 675, 676, 677, 678, 679, 680, 681, 682, 683, 684, 685, 686, 687, 688, 689, 690, 691, 692, 694, 695, 696, 697, 698, 699, 700, 701, 702, 703, 704, 705, 706, 707, 708, 709, 710, 711, 712, 713, 714, 715, 716, 717, 718, 719, 720, 721, 722, 724, 725, 726, 727, 728, 729, 730, 731, 733, 734, 736, 737, 739, 740, 741, 742, 743, 744, 745, 746, 747, 748, 749, 750, 751, 752, 754, 755, 756, 757, 758, 759, 760, 761, 762, 763, 764, 765, 766, 767, 768, 769, 770, 771, 772, 773, 774, 775, 776, 777, 778, 779, 780, 781, 782, 784, 785, 786, 787, 788, 789, 790, 791, 792, 793, 794, 795, 796, 797, 798, 799, 800, 801, 802, 803, 804, 805, 806, 807, 808, 809, 810, 811, 812, 814, 815, 816, 817, 818, 819, 820, 821, 822, 823, 824, 825, 826, 827, 828, 829, 830, 832, 833, 835, 836, 838, 839, 840, 841, 842, 844, 845, 846, 847, 848, 849, 850, 851, 852, 853, 854, 855, 856, 857, 858, 859, 860, 861, 862, 863, 864, 865, 866, 867, 868, 869, 870, 871, 872, 874, 875, 876, 877, 878, 879, 880, 881, 882, 883, 884, 885, 886, 887, 888, 889, 890, 891, 892, 893, 894, 895, 896, 897, 898, 899, 900, 901, 902, 904, 905, 906, 907, 908, 909, 910, 911, 912, 913, 914, 915, 916, 917, 918, 919, 920, 921, 922, 923, 924, 925, 926, 927, 928, 929, 931, 932, 934, 935, 937, 938, 940, 941, 942, 943, 944, 945, 946, 947, 948, 949, 950, 951, 952, 953, 954, 955, 956, 957, 958, 959, 960, 961, 962, 964, 965, 966, 967, 968, 969, 970, 971, 972, 973, 974, 975, 976, 977, 978, 979, 980, 981, 982, 983, 984, 985, 986, 987, 988, 989, 990, 991, 992, 994, 995, 996, 997, 998, 999]\n"
          ]
        }
      ]
    },
    {
      "cell_type": "markdown",
      "source": [
        "진료순서정하기\n",
        "https://school.programmers.co.kr/learn/courses/30/lessons/120835"
      ],
      "metadata": {
        "id": "7zsmoa-uH_dJ"
      }
    },
    {
      "cell_type": "code",
      "source": [
        "# emergency     result\n",
        "# [3, 76, 24]   [3, 1,2]\n",
        "\n",
        "\n",
        "def solution(emergency):\n",
        "    sorted_emergency = sorted(emergency, reverse=True)\n",
        "    return [sorted_emergency.index(i) + 1 for i in emergency]\n",
        "\n",
        "\n",
        "solution([3, 76, 24])"
      ],
      "metadata": {
        "colab": {
          "base_uri": "https://localhost:8080/"
        },
        "id": "ZUG4SlJeICDm",
        "outputId": "b921631d-3f70-4c09-b0ce-8fdaf354bf38"
      },
      "execution_count": 142,
      "outputs": [
        {
          "output_type": "execute_result",
          "data": {
            "text/plain": [
              "[3, 1, 2]"
            ]
          },
          "metadata": {},
          "execution_count": 142
        }
      ]
    },
    {
      "cell_type": "code",
      "source": [
        "emergency = [3, 76, 24]\n",
        "sorted_emergency = sorted(emergency, reverse = True)\n",
        "sorted_emergency\n",
        "\n",
        "[sorted_emergency.index(i)+1 for i in emergency]"
      ],
      "metadata": {
        "colab": {
          "base_uri": "https://localhost:8080/"
        },
        "id": "APr2iJHzIkFd",
        "outputId": "9ae24ba2-627c-4410-9fe3-52166e5f4cbd"
      },
      "execution_count": 139,
      "outputs": [
        {
          "output_type": "execute_result",
          "data": {
            "text/plain": [
              "[3, 1, 2]"
            ]
          },
          "metadata": {},
          "execution_count": 139
        }
      ]
    },
    {
      "cell_type": "code",
      "source": [
        "data = ['제주', '경기', '전주'] # ['064', '031', '063']\n",
        "data2 = {\n",
        "    '제주': '064',\n",
        "    '경기': '031',\n",
        "    '전주': '063'\n",
        "}\n",
        "\n",
        "[data2[i] for i in data]"
      ],
      "metadata": {
        "colab": {
          "base_uri": "https://localhost:8080/"
        },
        "id": "1JgLtVL7Kr9Q",
        "outputId": "63ccf2a7-eef1-44e4-b85d-22585aea2c7e"
      },
      "execution_count": 140,
      "outputs": [
        {
          "output_type": "execute_result",
          "data": {
            "text/plain": [
              "['064', '031', '063']"
            ]
          },
          "metadata": {},
          "execution_count": 140
        }
      ]
    },
    {
      "cell_type": "markdown",
      "source": [
        "## 가까운 수\n",
        "링크: https://school.programmers.co.kr/learn/courses/30/lessons/120890"
      ],
      "metadata": {
        "id": "sSR2PtHLLvhA"
      }
    },
    {
      "cell_type": "code",
      "source": [
        "#[3, 10, 28] -> [17, 10, 8] 정렬문제->sorted문제(작거나 크거나 가까운 수)\n",
        "#원하는 숫자: 20\n",
        "#result : 28"
      ],
      "metadata": {
        "id": "jQ-IB411MBST"
      },
      "execution_count": null,
      "outputs": []
    },
    {
      "cell_type": "code",
      "source": [
        "l = [3, 10, 28]\n",
        "sorted(l, key=lambda x:abs(x-20))[0] # 예외가 있을 수 있어서 절대값 abs처리"
      ],
      "metadata": {
        "colab": {
          "base_uri": "https://localhost:8080/"
        },
        "id": "cX4czLesMYfL",
        "outputId": "4a5d5e2c-bdf6-439b-ddd6-ff4cbebee1a7"
      },
      "execution_count": 148,
      "outputs": [
        {
          "output_type": "execute_result",
          "data": {
            "text/plain": [
              "28"
            ]
          },
          "metadata": {},
          "execution_count": 148
        }
      ]
    },
    {
      "cell_type": "code",
      "source": [
        "# 오류 같은 값이 있으면 더 작은 값이 반환되게\n",
        "def solution(array, n):\n",
        "    return sorted(array, key=lambda x: abs(x-20))[0]"
      ],
      "metadata": {
        "id": "mJNQRMYfMdnH"
      },
      "execution_count": 149,
      "outputs": []
    },
    {
      "cell_type": "code",
      "source": [
        "#[3, 10, 28, 30, 12] -> [17, 10, 8, 10, 8] 정렬문제->sorted문제(작거나 크거나 가까운 수)\n",
        "#원하는 숫자: 20\n",
        "#result : 28\n",
        "\n",
        "array = [3, 10, 28, 30, 12]\n",
        "n = 20\n",
        "\n",
        "sorted(array, key = lambda x: (abs(x-n), x))[0]"
      ],
      "metadata": {
        "colab": {
          "base_uri": "https://localhost:8080/"
        },
        "id": "pXmiIoorNjwd",
        "outputId": "a79f9725-09ab-4a05-893d-f10b51ebd96b"
      },
      "execution_count": 151,
      "outputs": [
        {
          "output_type": "execute_result",
          "data": {
            "text/plain": [
              "12"
            ]
          },
          "metadata": {},
          "execution_count": 151
        }
      ]
    },
    {
      "cell_type": "code",
      "source": [
        "array = [3, 10, 28, 30, 12]\n",
        "n = 20\n",
        "'''\n",
        "28 - 20 = 8\n",
        "12 - 20 = -8\n",
        "\n",
        "20 - 28 == -8\n",
        "20 - 12 == 8\n",
        "'''\n",
        "sorted(array, key = lambda x: (abs(x-n), n-x))[0] #x와 n의 자리를 바꿔보면! 차이가 큰 순으로"
      ],
      "metadata": {
        "colab": {
          "base_uri": "https://localhost:8080/"
        },
        "id": "2aG78OH5Pjbz",
        "outputId": "bd42b13d-f5f6-4fc0-969c-49f4df977cbe"
      },
      "execution_count": 156,
      "outputs": [
        {
          "output_type": "execute_result",
          "data": {
            "text/plain": [
              "28"
            ]
          },
          "metadata": {},
          "execution_count": 156
        }
      ]
    },
    {
      "cell_type": "markdown",
      "source": [
        "k의 갯수\n",
        "https://school.programmers.co.kr/learn/courses/30/lessons/120887\n",
        "\n"
      ],
      "metadata": {
        "id": "MYbYc-5wQRHo"
      }
    },
    {
      "cell_type": "code",
      "source": [
        "#i   j   k\n",
        "#1   13  1\n",
        "\n",
        "i = 1\n",
        "j = 13\n",
        "k = 1\n",
        "\n",
        "str(list(range(i,j+1))).count(str(k)) #'[1, 11, 13]].count('1')"
      ],
      "metadata": {
        "colab": {
          "base_uri": "https://localhost:8080/"
        },
        "id": "pynp0lRWQccX",
        "outputId": "84bc2d3c-fbb2-4958-b6bd-1bc45a2af931"
      },
      "execution_count": 161,
      "outputs": [
        {
          "output_type": "execute_result",
          "data": {
            "text/plain": [
              "6"
            ]
          },
          "metadata": {},
          "execution_count": 161
        }
      ]
    },
    {
      "cell_type": "code",
      "source": [
        "a = 10\n",
        "b = 20\n",
        "\n",
        "# swap\n",
        "\n",
        "temp = a\n",
        "a = b\n",
        "b = temp\n",
        "\n",
        "# python에서 사용하는 swap\n",
        "\n",
        "a = 10\n",
        "b = 20\n",
        "a, b = b, a\n",
        "a, b\n"
      ],
      "metadata": {
        "colab": {
          "base_uri": "https://localhost:8080/"
        },
        "id": "3KDWVVYRRLNw",
        "outputId": "5ed84fd8-664d-45eb-9cd0-0b3bdbdeb97b"
      },
      "execution_count": 162,
      "outputs": [
        {
          "output_type": "execute_result",
          "data": {
            "text/plain": [
              "(20, 10)"
            ]
          },
          "metadata": {},
          "execution_count": 162
        }
      ]
    },
    {
      "cell_type": "code",
      "source": [
        "i = 1\n",
        "j = 13\n",
        "k = 1\n",
        "\n",
        "count = 0\n",
        "for temp in range(i, j):\n",
        "    count += str(temp).count(str(k))\n",
        "\n",
        "count"
      ],
      "metadata": {
        "colab": {
          "base_uri": "https://localhost:8080/"
        },
        "id": "J5CWMEw0UjUX",
        "outputId": "5acf68b0-7e9c-4776-f66b-5838258a59e2"
      },
      "execution_count": 168,
      "outputs": [
        {
          "output_type": "execute_result",
          "data": {
            "text/plain": [
              "5"
            ]
          },
          "metadata": {},
          "execution_count": 168
        }
      ]
    },
    {
      "cell_type": "code",
      "source": [
        "def solution(i, j, k):\n",
        "    return str(list(range(i,j+1))).count(str(k)) #'[1, 11, 13]].count('1')"
      ],
      "metadata": {
        "id": "9dundFX9U7aC"
      },
      "execution_count": 170,
      "outputs": []
    },
    {
      "cell_type": "code",
      "source": [
        "# 각 선분이 있는 곳의 총 길이의 합 문제\n",
        "# [0, 5], [3, 5], [7, 10]\n",
        "\n",
        "선 = [False] * 10\n",
        "선"
      ],
      "metadata": {
        "colab": {
          "base_uri": "https://localhost:8080/"
        },
        "id": "wlRh8C3dVawm",
        "outputId": "59f50d18-4358-42f0-8bf8-7e6b3b2bef55"
      },
      "execution_count": 179,
      "outputs": [
        {
          "output_type": "execute_result",
          "data": {
            "text/plain": [
              "[False, False, False, False, False, False, False, False, False, False]"
            ]
          },
          "metadata": {},
          "execution_count": 179
        }
      ]
    },
    {
      "cell_type": "code",
      "source": [
        "for i in range(0, 5):\n",
        "    선[i] = True\n",
        "\n",
        "선"
      ],
      "metadata": {
        "colab": {
          "base_uri": "https://localhost:8080/"
        },
        "id": "wpFxBcVnW-gQ",
        "outputId": "a5063f2d-67f1-424e-f041-7f9a8e399aae"
      },
      "execution_count": 180,
      "outputs": [
        {
          "output_type": "execute_result",
          "data": {
            "text/plain": [
              "[True, True, True, True, True, False, False, False, False, False]"
            ]
          },
          "metadata": {},
          "execution_count": 180
        }
      ]
    },
    {
      "cell_type": "code",
      "source": [
        "for i in range(3, 5):\n",
        "    선[i] = True\n",
        "\n",
        "선"
      ],
      "metadata": {
        "colab": {
          "base_uri": "https://localhost:8080/"
        },
        "id": "UCzlDAOXXP6H",
        "outputId": "44261e8f-866d-4bb3-c163-9609618f22a9"
      },
      "execution_count": 181,
      "outputs": [
        {
          "output_type": "execute_result",
          "data": {
            "text/plain": [
              "[True, True, True, True, True, False, False, False, False, False]"
            ]
          },
          "metadata": {},
          "execution_count": 181
        }
      ]
    },
    {
      "cell_type": "code",
      "source": [
        "for i in range(7, 10):\n",
        "    선[i] = True\n",
        "\n",
        "선"
      ],
      "metadata": {
        "colab": {
          "base_uri": "https://localhost:8080/"
        },
        "id": "MfDMpwXQXRXe",
        "outputId": "8b010e6f-70ab-41bb-f5e4-a09aa7ebcadc"
      },
      "execution_count": 182,
      "outputs": [
        {
          "output_type": "execute_result",
          "data": {
            "text/plain": [
              "[True, True, True, True, True, False, False, True, True, True]"
            ]
          },
          "metadata": {},
          "execution_count": 182
        }
      ]
    },
    {
      "cell_type": "code",
      "source": [
        "sum(선)"
      ],
      "metadata": {
        "colab": {
          "base_uri": "https://localhost:8080/"
        },
        "id": "kp8NNT5jXWI4",
        "outputId": "a7a9b1b7-5a34-4c70-8f77-65c97578dac1"
      },
      "execution_count": 183,
      "outputs": [
        {
          "output_type": "execute_result",
          "data": {
            "text/plain": [
              "8"
            ]
          },
          "metadata": {},
          "execution_count": 183
        }
      ]
    },
    {
      "cell_type": "code",
      "source": [
        "a = 10; b= 10\n",
        "a, b"
      ],
      "metadata": {
        "colab": {
          "base_uri": "https://localhost:8080/"
        },
        "id": "R_0QqSuVYjF3",
        "outputId": "5744d361-a5dc-4a27-e73e-49bd6827b2f7"
      },
      "execution_count": 189,
      "outputs": [
        {
          "output_type": "execute_result",
          "data": {
            "text/plain": [
              "(10, 10)"
            ]
          },
          "metadata": {},
          "execution_count": 189
        }
      ]
    },
    {
      "cell_type": "code",
      "source": [
        "#에라토스테네의 체: 소수판별: 알고리즘 문제로 내는 건....\n",
        "소수 = [True] * 120\n",
        "소수[0] = 소수[1] = False\n",
        "\n",
        "for i in range(4, 120, 2):\n",
        "    소수[i] = False\n",
        "\n",
        "for i in range(6, 120, 3):\n",
        "    소수[i] = False\n",
        "\n",
        "for i in range(10, 120, 5):\n",
        "    소수[i] = False\n",
        "\n",
        "소수\n",
        "\n"
      ],
      "metadata": {
        "id": "pTZZvFGwXn3t"
      },
      "execution_count": null,
      "outputs": []
    },
    {
      "cell_type": "code",
      "source": [
        "for 소수, 판별 in enumerate(소수):\n",
        "    if 판별:\n",
        "        print(소수)"
      ],
      "metadata": {
        "id": "JVilYbeqYPIV"
      },
      "execution_count": null,
      "outputs": []
    },
    {
      "cell_type": "markdown",
      "source": [
        "https://100.pyalgo.co.kr/?page=23"
      ],
      "metadata": {
        "id": "WuCNkK2bbb5W"
      }
    },
    {
      "cell_type": "code",
      "source": [
        "# ([1,3,5],[7,9,11][13, 15,17],7)"
      ],
      "metadata": {
        "id": "QeOFxsfBbx1j"
      },
      "execution_count": null,
      "outputs": []
    },
    {
      "cell_type": "code",
      "source": [
        "s = [[[1, 3, 5],[7, 9, 11],[13, 15, 17],7]]\n",
        "\n",
        "sum(s, [])\n"
      ],
      "metadata": {
        "colab": {
          "base_uri": "https://localhost:8080/"
        },
        "id": "cfAW6dfDb5Uq",
        "outputId": "057b3d31-73c5-4431-e455-4dbf80362cc7"
      },
      "execution_count": 199,
      "outputs": [
        {
          "output_type": "execute_result",
          "data": {
            "text/plain": [
              "[[1, 3, 5], [7, 9, 11], [13, 15, 17], 7]"
            ]
          },
          "metadata": {},
          "execution_count": 199
        }
      ]
    },
    {
      "cell_type": "code",
      "source": [
        "import numpy as np\n",
        "\n",
        "x = np.array([1, 2, 3])\n",
        "x * 2"
      ],
      "metadata": {
        "colab": {
          "base_uri": "https://localhost:8080/"
        },
        "id": "jTRBEE0BcP3Q",
        "outputId": "398d36a3-dd6a-49f9-8176-9c57ceb94498"
      },
      "execution_count": 200,
      "outputs": [
        {
          "output_type": "execute_result",
          "data": {
            "text/plain": [
              "array([2, 4, 6])"
            ]
          },
          "metadata": {},
          "execution_count": 200
        }
      ]
    },
    {
      "cell_type": "code",
      "source": [
        "s = [[1, 3, 5],[7, 9, 11],[13, 15, 17]]\n",
        "s = np.array(s)\n",
        "행, 렬 = np.where(s ==7) # 어떤 숫자의 위치 반환 where\n",
        "행"
      ],
      "metadata": {
        "colab": {
          "base_uri": "https://localhost:8080/"
        },
        "id": "SqNkykM2cV8O",
        "outputId": "f9765ab7-7f20-4c27-df7b-85b4198a8562"
      },
      "execution_count": 205,
      "outputs": [
        {
          "output_type": "execute_result",
          "data": {
            "text/plain": [
              "array([1])"
            ]
          },
          "metadata": {},
          "execution_count": 205
        }
      ]
    },
    {
      "cell_type": "code",
      "source": [
        "# 지뢰찾기 - 행령 -> numpy를 활용하면 쉽게 풀린다\n",
        "x = [[0, 1, 0, 0],\n",
        "    [0, 1, 0, 0],\n",
        "    [0, 1, 0, 0],\n",
        "    [0, 1, 0, 0]]\n",
        "\n",
        "\n",
        "x = np.array(x)\n",
        "np.where(x ==1)\n"
      ],
      "metadata": {
        "colab": {
          "base_uri": "https://localhost:8080/"
        },
        "id": "8Q6veti6cz_P",
        "outputId": "82aec657-33cf-4eea-a7e9-f8f67caabfc5"
      },
      "execution_count": 208,
      "outputs": [
        {
          "output_type": "execute_result",
          "data": {
            "text/plain": [
              "(array([0, 1, 2, 3]), array([1, 1, 1, 1]))"
            ]
          },
          "metadata": {},
          "execution_count": 208
        }
      ]
    },
    {
      "cell_type": "code",
      "source": [
        "x = [[0, 1, 0, 0],\n",
        "     [0, 1, 0, 0],\n",
        "     [0, 1, 0, 0],\n",
        "     [0, 1, 0, 0]]\n",
        "\n",
        "s = 0\n",
        "for i in x:\n",
        "    s += i.count(1)\n",
        "\n",
        "s"
      ],
      "metadata": {
        "colab": {
          "base_uri": "https://localhost:8080/"
        },
        "id": "OfDdh-tYdROY",
        "outputId": "d3ef608e-1ec8-4453-ff55-ed724ba48e9b"
      },
      "execution_count": 213,
      "outputs": [
        {
          "output_type": "execute_result",
          "data": {
            "text/plain": [
              "4"
            ]
          },
          "metadata": {},
          "execution_count": 213
        }
      ]
    },
    {
      "cell_type": "code",
      "source": [
        "x = [[0, 1, 0, 0],\n",
        "     [0, 1, 0, 0],\n",
        "     [0, 0, 0, 1]]\n",
        "\n",
        "x = np.array(x)\n",
        "x == 1  # true, false로 출력\n"
      ],
      "metadata": {
        "colab": {
          "base_uri": "https://localhost:8080/"
        },
        "id": "eacG6vv2dmdr",
        "outputId": "a7bfd189-a4cc-4716-cec4-5e30e63d7b20"
      },
      "execution_count": 217,
      "outputs": [
        {
          "output_type": "execute_result",
          "data": {
            "text/plain": [
              "array([[False,  True, False, False],\n",
              "       [False,  True, False, False],\n",
              "       [False, False, False,  True]])"
            ]
          },
          "metadata": {},
          "execution_count": 217
        }
      ]
    },
    {
      "cell_type": "code",
      "source": [
        "x = [[0, 5, 2, 0],\n",
        "     [0, 1, 3, 0],\n",
        "     [2, 1, 0, 7]]\n",
        "\n",
        "x = np.array(x)\n",
        "x > 3"
      ],
      "metadata": {
        "colab": {
          "base_uri": "https://localhost:8080/"
        },
        "id": "NlMg-NIVeH_g",
        "outputId": "5c45cfe4-7d1e-4b2c-bff0-86d9a28c9b99"
      },
      "execution_count": 219,
      "outputs": [
        {
          "output_type": "execute_result",
          "data": {
            "text/plain": [
              "array([[False,  True, False, False],\n",
              "       [False, False, False, False],\n",
              "       [False, False, False,  True]])"
            ]
          },
          "metadata": {},
          "execution_count": 219
        }
      ]
    }
  ]
}