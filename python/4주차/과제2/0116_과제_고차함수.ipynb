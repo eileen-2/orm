{
  "nbformat": 4,
  "nbformat_minor": 0,
  "metadata": {
    "colab": {
      "provenance": [],
      "authorship_tag": "ABX9TyPY3NGdl4p9v3l3DwSkuFPo",
      "include_colab_link": true
    },
    "kernelspec": {
      "name": "python3",
      "display_name": "Python 3"
    },
    "language_info": {
      "name": "python"
    }
  },
  "cells": [
    {
      "cell_type": "markdown",
      "metadata": {
        "id": "view-in-github",
        "colab_type": "text"
      },
      "source": [
        "<a href=\"https://colab.research.google.com/github/eileen-2/orm/blob/main/0116_%EA%B3%BC%EC%A0%9C_%EA%B3%A0%EC%B0%A8%ED%95%A8%EC%88%98.ipynb\" target=\"_parent\"><img src=\"https://colab.research.google.com/assets/colab-badge.svg\" alt=\"Open In Colab\"/></a>"
      ]
    },
    {
      "cell_type": "code",
      "execution_count": null,
      "metadata": {
        "colab": {
          "base_uri": "https://localhost:8080/"
        },
        "id": "eJqZMV_DNyyi",
        "outputId": "f92d920e-8a13-4fb1-b2ed-c9ad94ff1914"
      },
      "outputs": [
        {
          "output_type": "stream",
          "name": "stdout",
          "text": [
            "[2, 4, 6, 8]\n"
          ]
        }
      ],
      "source": [
        "#문제 1: 함수를 인자로 받는 고차함수\n",
        "'''\n",
        "주어진 리스트와 함수를 인자로 받아,\n",
        "리스트의 각 요소에 해당 함수를 적용한\n",
        "결과를 반환하는 고차함수 apply_function을 작성해주세요.\n",
        "'''\n",
        "\n",
        "def apply_function(lst, func):\n",
        "    return list(map(func, lst))\n",
        "\n",
        "result = apply_function([1, 2, 3, 4], lambda x: x * 2)\n",
        "print(result)  # [2, 4, 6, 8]이 출력되어야 함\n",
        "\n"
      ]
    },
    {
      "cell_type": "code",
      "source": [
        "#문제 2: 함수를 반환하는 고차함수\n",
        "'''\n",
        "정수 n을 인자로 받아,\n",
        "다른 정수 x에 n을 곱하는 함수를\n",
        "반환하는 고차함수 multiply_by_n을 작성해주세요.\n",
        "힌트를 드리자면 반환 값은 lambda여야 합니다.\n",
        "'''\n",
        "\n",
        "def multiply_by_n(n):\n",
        "    def mul_by(y):\n",
        "        return n * y\n",
        "    return mul_by\n",
        "\n",
        "multiplier = multiply_by_n(5)\n",
        "print(multiplier(3))  # 15가 출력되어야 함"
      ],
      "metadata": {
        "colab": {
          "base_uri": "https://localhost:8080/"
        },
        "id": "f7S9dwgHN29b",
        "outputId": "d9fc8c57-12b6-49c0-e64e-ed1e48c2a54b"
      },
      "execution_count": null,
      "outputs": [
        {
          "output_type": "stream",
          "name": "stdout",
          "text": [
            "15\n"
          ]
        }
      ]
    }
  ]
}