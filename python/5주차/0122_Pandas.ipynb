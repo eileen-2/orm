{
  "nbformat": 4,
  "nbformat_minor": 0,
  "metadata": {
    "colab": {
      "provenance": [],
      "authorship_tag": "ABX9TyPS9TKBdc8zL+DZB5JGzAX3",
      "include_colab_link": true
    },
    "kernelspec": {
      "name": "python3",
      "display_name": "Python 3"
    },
    "language_info": {
      "name": "python"
    }
  },
  "cells": [
    {
      "cell_type": "markdown",
      "metadata": {
        "id": "view-in-github",
        "colab_type": "text"
      },
      "source": [
        "<a href=\"https://colab.research.google.com/github/eileen-2/orm/blob/main/0122_Pandas.ipynb\" target=\"_parent\"><img src=\"https://colab.research.google.com/assets/colab-badge.svg\" alt=\"Open In Colab\"/></a>"
      ]
    },
    {
      "cell_type": "markdown",
      "source": [
        "#1. 판다스 개요"
      ],
      "metadata": {
        "id": "7VwtkWAvtZ4D"
      }
    },
    {
      "cell_type": "code",
      "execution_count": 1,
      "metadata": {
        "id": "VwufhJQTtEnk"
      },
      "outputs": [],
      "source": [
        "# dataframe(2차원 배열 구조) 생성"
      ]
    },
    {
      "cell_type": "code",
      "source": [
        "import pandas as pd #pandas를 pd로 별칭으로 불러\n",
        "\n",
        "\n",
        "data = {'이름': ['홍길동', '임꺽정', '이순신'],\n",
        "        '나이': [30, 35, 40],\n",
        "        '도시': ['서울', '부산', '광주']}\n",
        "df = pd.DataFrame(data)\n",
        "print(df)"
      ],
      "metadata": {
        "colab": {
          "base_uri": "https://localhost:8080/"
        },
        "id": "hfqDeBUktRLs",
        "outputId": "96c97503-2a5b-4450-fd26-65795776a75e"
      },
      "execution_count": 3,
      "outputs": [
        {
          "output_type": "stream",
          "name": "stdout",
          "text": [
            "    이름  나이  도시\n",
            "0  홍길동  30  서울\n",
            "1  임꺽정  35  부산\n",
            "2  이순신  40  광주\n"
          ]
        }
      ]
    },
    {
      "cell_type": "code",
      "source": [
        "# Series : 1차원 배열 구조\n",
        "- 하나의 열 = 하나의 데이터 프레임(열)\n",
        "- 고유한 인덱스 값 부여(기본은 0부터)\n",
        "- 이게 모이면 dataframe\n",
        "\n",
        "# DataFrame : 2차원 배열 구조"
      ],
      "metadata": {
        "id": "CUP6TaPztS1b"
      },
      "execution_count": null,
      "outputs": []
    },
    {
      "cell_type": "code",
      "source": [
        "# Series 생성\n",
        "import pandas as pd\n",
        "\n",
        "\n",
        "name = pd.Series(['홍길동', '임꺽정', '이순신'])\n"
      ],
      "metadata": {
        "id": "ryDE0NHtvcq2"
      },
      "execution_count": 5,
      "outputs": []
    },
    {
      "cell_type": "code",
      "source": [
        "print(name)\n",
        "type(name)"
      ],
      "metadata": {
        "colab": {
          "base_uri": "https://localhost:8080/"
        },
        "id": "tO-sHbNNvnyj",
        "outputId": "f3c6eafd-1c62-4fdd-fa1e-2b099f79e25c"
      },
      "execution_count": 8,
      "outputs": [
        {
          "output_type": "stream",
          "name": "stdout",
          "text": [
            "0    홍길동\n",
            "1    임꺽정\n",
            "2    이순신\n",
            "dtype: object\n"
          ]
        },
        {
          "output_type": "execute_result",
          "data": {
            "text/plain": [
              "pandas.core.series.Series"
            ]
          },
          "metadata": {},
          "execution_count": 8
        }
      ]
    },
    {
      "cell_type": "code",
      "source": [
        "# 파일 불러오기\n",
        "import pandas as pd\n",
        "\n",
        "# 엑셀 파일을 DataFrame으로 불러오기\n",
        "df = pd.read_excel(\"example.xlsx\")\n",
        "df = pd.read_csv(\"example.csv\")"
      ],
      "metadata": {
        "id": "ZEaebkdUwtFo"
      },
      "execution_count": null,
      "outputs": []
    },
    {
      "cell_type": "code",
      "source": [
        "# 샘플 파일 불러오기\n",
        "pd.read_csv(\"/content/sample_data/california_housing_test.csv\")"
      ],
      "metadata": {
        "colab": {
          "base_uri": "https://localhost:8080/",
          "height": 444
        },
        "id": "qzfMQ9w8w0Jp",
        "outputId": "28c5bf13-851d-4b32-8e03-9801c402401b"
      },
      "execution_count": 10,
      "outputs": [
        {
          "output_type": "execute_result",
          "data": {
            "text/plain": [
              "      longitude  latitude  housing_median_age  total_rooms  total_bedrooms  \\\n",
              "0       -122.05     37.37                27.0       3885.0           661.0   \n",
              "1       -118.30     34.26                43.0       1510.0           310.0   \n",
              "2       -117.81     33.78                27.0       3589.0           507.0   \n",
              "3       -118.36     33.82                28.0         67.0            15.0   \n",
              "4       -119.67     36.33                19.0       1241.0           244.0   \n",
              "...         ...       ...                 ...          ...             ...   \n",
              "2995    -119.86     34.42                23.0       1450.0           642.0   \n",
              "2996    -118.14     34.06                27.0       5257.0          1082.0   \n",
              "2997    -119.70     36.30                10.0        956.0           201.0   \n",
              "2998    -117.12     34.10                40.0         96.0            14.0   \n",
              "2999    -119.63     34.42                42.0       1765.0           263.0   \n",
              "\n",
              "      population  households  median_income  median_house_value  \n",
              "0         1537.0       606.0         6.6085            344700.0  \n",
              "1          809.0       277.0         3.5990            176500.0  \n",
              "2         1484.0       495.0         5.7934            270500.0  \n",
              "3           49.0        11.0         6.1359            330000.0  \n",
              "4          850.0       237.0         2.9375             81700.0  \n",
              "...          ...         ...            ...                 ...  \n",
              "2995      1258.0       607.0         1.1790            225000.0  \n",
              "2996      3496.0      1036.0         3.3906            237200.0  \n",
              "2997       693.0       220.0         2.2895             62000.0  \n",
              "2998        46.0        14.0         3.2708            162500.0  \n",
              "2999       753.0       260.0         8.5608            500001.0  \n",
              "\n",
              "[3000 rows x 9 columns]"
            ],
            "text/html": [
              "\n",
              "  <div id=\"df-75fa3ffa-61ee-4000-9dda-c4ece0c9e7e9\" class=\"colab-df-container\">\n",
              "    <div>\n",
              "<style scoped>\n",
              "    .dataframe tbody tr th:only-of-type {\n",
              "        vertical-align: middle;\n",
              "    }\n",
              "\n",
              "    .dataframe tbody tr th {\n",
              "        vertical-align: top;\n",
              "    }\n",
              "\n",
              "    .dataframe thead th {\n",
              "        text-align: right;\n",
              "    }\n",
              "</style>\n",
              "<table border=\"1\" class=\"dataframe\">\n",
              "  <thead>\n",
              "    <tr style=\"text-align: right;\">\n",
              "      <th></th>\n",
              "      <th>longitude</th>\n",
              "      <th>latitude</th>\n",
              "      <th>housing_median_age</th>\n",
              "      <th>total_rooms</th>\n",
              "      <th>total_bedrooms</th>\n",
              "      <th>population</th>\n",
              "      <th>households</th>\n",
              "      <th>median_income</th>\n",
              "      <th>median_house_value</th>\n",
              "    </tr>\n",
              "  </thead>\n",
              "  <tbody>\n",
              "    <tr>\n",
              "      <th>0</th>\n",
              "      <td>-122.05</td>\n",
              "      <td>37.37</td>\n",
              "      <td>27.0</td>\n",
              "      <td>3885.0</td>\n",
              "      <td>661.0</td>\n",
              "      <td>1537.0</td>\n",
              "      <td>606.0</td>\n",
              "      <td>6.6085</td>\n",
              "      <td>344700.0</td>\n",
              "    </tr>\n",
              "    <tr>\n",
              "      <th>1</th>\n",
              "      <td>-118.30</td>\n",
              "      <td>34.26</td>\n",
              "      <td>43.0</td>\n",
              "      <td>1510.0</td>\n",
              "      <td>310.0</td>\n",
              "      <td>809.0</td>\n",
              "      <td>277.0</td>\n",
              "      <td>3.5990</td>\n",
              "      <td>176500.0</td>\n",
              "    </tr>\n",
              "    <tr>\n",
              "      <th>2</th>\n",
              "      <td>-117.81</td>\n",
              "      <td>33.78</td>\n",
              "      <td>27.0</td>\n",
              "      <td>3589.0</td>\n",
              "      <td>507.0</td>\n",
              "      <td>1484.0</td>\n",
              "      <td>495.0</td>\n",
              "      <td>5.7934</td>\n",
              "      <td>270500.0</td>\n",
              "    </tr>\n",
              "    <tr>\n",
              "      <th>3</th>\n",
              "      <td>-118.36</td>\n",
              "      <td>33.82</td>\n",
              "      <td>28.0</td>\n",
              "      <td>67.0</td>\n",
              "      <td>15.0</td>\n",
              "      <td>49.0</td>\n",
              "      <td>11.0</td>\n",
              "      <td>6.1359</td>\n",
              "      <td>330000.0</td>\n",
              "    </tr>\n",
              "    <tr>\n",
              "      <th>4</th>\n",
              "      <td>-119.67</td>\n",
              "      <td>36.33</td>\n",
              "      <td>19.0</td>\n",
              "      <td>1241.0</td>\n",
              "      <td>244.0</td>\n",
              "      <td>850.0</td>\n",
              "      <td>237.0</td>\n",
              "      <td>2.9375</td>\n",
              "      <td>81700.0</td>\n",
              "    </tr>\n",
              "    <tr>\n",
              "      <th>...</th>\n",
              "      <td>...</td>\n",
              "      <td>...</td>\n",
              "      <td>...</td>\n",
              "      <td>...</td>\n",
              "      <td>...</td>\n",
              "      <td>...</td>\n",
              "      <td>...</td>\n",
              "      <td>...</td>\n",
              "      <td>...</td>\n",
              "    </tr>\n",
              "    <tr>\n",
              "      <th>2995</th>\n",
              "      <td>-119.86</td>\n",
              "      <td>34.42</td>\n",
              "      <td>23.0</td>\n",
              "      <td>1450.0</td>\n",
              "      <td>642.0</td>\n",
              "      <td>1258.0</td>\n",
              "      <td>607.0</td>\n",
              "      <td>1.1790</td>\n",
              "      <td>225000.0</td>\n",
              "    </tr>\n",
              "    <tr>\n",
              "      <th>2996</th>\n",
              "      <td>-118.14</td>\n",
              "      <td>34.06</td>\n",
              "      <td>27.0</td>\n",
              "      <td>5257.0</td>\n",
              "      <td>1082.0</td>\n",
              "      <td>3496.0</td>\n",
              "      <td>1036.0</td>\n",
              "      <td>3.3906</td>\n",
              "      <td>237200.0</td>\n",
              "    </tr>\n",
              "    <tr>\n",
              "      <th>2997</th>\n",
              "      <td>-119.70</td>\n",
              "      <td>36.30</td>\n",
              "      <td>10.0</td>\n",
              "      <td>956.0</td>\n",
              "      <td>201.0</td>\n",
              "      <td>693.0</td>\n",
              "      <td>220.0</td>\n",
              "      <td>2.2895</td>\n",
              "      <td>62000.0</td>\n",
              "    </tr>\n",
              "    <tr>\n",
              "      <th>2998</th>\n",
              "      <td>-117.12</td>\n",
              "      <td>34.10</td>\n",
              "      <td>40.0</td>\n",
              "      <td>96.0</td>\n",
              "      <td>14.0</td>\n",
              "      <td>46.0</td>\n",
              "      <td>14.0</td>\n",
              "      <td>3.2708</td>\n",
              "      <td>162500.0</td>\n",
              "    </tr>\n",
              "    <tr>\n",
              "      <th>2999</th>\n",
              "      <td>-119.63</td>\n",
              "      <td>34.42</td>\n",
              "      <td>42.0</td>\n",
              "      <td>1765.0</td>\n",
              "      <td>263.0</td>\n",
              "      <td>753.0</td>\n",
              "      <td>260.0</td>\n",
              "      <td>8.5608</td>\n",
              "      <td>500001.0</td>\n",
              "    </tr>\n",
              "  </tbody>\n",
              "</table>\n",
              "<p>3000 rows × 9 columns</p>\n",
              "</div>\n",
              "    <div class=\"colab-df-buttons\">\n",
              "\n",
              "  <div class=\"colab-df-container\">\n",
              "    <button class=\"colab-df-convert\" onclick=\"convertToInteractive('df-75fa3ffa-61ee-4000-9dda-c4ece0c9e7e9')\"\n",
              "            title=\"Convert this dataframe to an interactive table.\"\n",
              "            style=\"display:none;\">\n",
              "\n",
              "  <svg xmlns=\"http://www.w3.org/2000/svg\" height=\"24px\" viewBox=\"0 -960 960 960\">\n",
              "    <path d=\"M120-120v-720h720v720H120Zm60-500h600v-160H180v160Zm220 220h160v-160H400v160Zm0 220h160v-160H400v160ZM180-400h160v-160H180v160Zm440 0h160v-160H620v160ZM180-180h160v-160H180v160Zm440 0h160v-160H620v160Z\"/>\n",
              "  </svg>\n",
              "    </button>\n",
              "\n",
              "  <style>\n",
              "    .colab-df-container {\n",
              "      display:flex;\n",
              "      gap: 12px;\n",
              "    }\n",
              "\n",
              "    .colab-df-convert {\n",
              "      background-color: #E8F0FE;\n",
              "      border: none;\n",
              "      border-radius: 50%;\n",
              "      cursor: pointer;\n",
              "      display: none;\n",
              "      fill: #1967D2;\n",
              "      height: 32px;\n",
              "      padding: 0 0 0 0;\n",
              "      width: 32px;\n",
              "    }\n",
              "\n",
              "    .colab-df-convert:hover {\n",
              "      background-color: #E2EBFA;\n",
              "      box-shadow: 0px 1px 2px rgba(60, 64, 67, 0.3), 0px 1px 3px 1px rgba(60, 64, 67, 0.15);\n",
              "      fill: #174EA6;\n",
              "    }\n",
              "\n",
              "    .colab-df-buttons div {\n",
              "      margin-bottom: 4px;\n",
              "    }\n",
              "\n",
              "    [theme=dark] .colab-df-convert {\n",
              "      background-color: #3B4455;\n",
              "      fill: #D2E3FC;\n",
              "    }\n",
              "\n",
              "    [theme=dark] .colab-df-convert:hover {\n",
              "      background-color: #434B5C;\n",
              "      box-shadow: 0px 1px 3px 1px rgba(0, 0, 0, 0.15);\n",
              "      filter: drop-shadow(0px 1px 2px rgba(0, 0, 0, 0.3));\n",
              "      fill: #FFFFFF;\n",
              "    }\n",
              "  </style>\n",
              "\n",
              "    <script>\n",
              "      const buttonEl =\n",
              "        document.querySelector('#df-75fa3ffa-61ee-4000-9dda-c4ece0c9e7e9 button.colab-df-convert');\n",
              "      buttonEl.style.display =\n",
              "        google.colab.kernel.accessAllowed ? 'block' : 'none';\n",
              "\n",
              "      async function convertToInteractive(key) {\n",
              "        const element = document.querySelector('#df-75fa3ffa-61ee-4000-9dda-c4ece0c9e7e9');\n",
              "        const dataTable =\n",
              "          await google.colab.kernel.invokeFunction('convertToInteractive',\n",
              "                                                    [key], {});\n",
              "        if (!dataTable) return;\n",
              "\n",
              "        const docLinkHtml = 'Like what you see? Visit the ' +\n",
              "          '<a target=\"_blank\" href=https://colab.research.google.com/notebooks/data_table.ipynb>data table notebook</a>'\n",
              "          + ' to learn more about interactive tables.';\n",
              "        element.innerHTML = '';\n",
              "        dataTable['output_type'] = 'display_data';\n",
              "        await google.colab.output.renderOutput(dataTable, element);\n",
              "        const docLink = document.createElement('div');\n",
              "        docLink.innerHTML = docLinkHtml;\n",
              "        element.appendChild(docLink);\n",
              "      }\n",
              "    </script>\n",
              "  </div>\n",
              "\n",
              "\n",
              "<div id=\"df-b158286e-2f04-446a-ba59-c7dadf51da30\">\n",
              "  <button class=\"colab-df-quickchart\" onclick=\"quickchart('df-b158286e-2f04-446a-ba59-c7dadf51da30')\"\n",
              "            title=\"Suggest charts\"\n",
              "            style=\"display:none;\">\n",
              "\n",
              "<svg xmlns=\"http://www.w3.org/2000/svg\" height=\"24px\"viewBox=\"0 0 24 24\"\n",
              "     width=\"24px\">\n",
              "    <g>\n",
              "        <path d=\"M19 3H5c-1.1 0-2 .9-2 2v14c0 1.1.9 2 2 2h14c1.1 0 2-.9 2-2V5c0-1.1-.9-2-2-2zM9 17H7v-7h2v7zm4 0h-2V7h2v10zm4 0h-2v-4h2v4z\"/>\n",
              "    </g>\n",
              "</svg>\n",
              "  </button>\n",
              "\n",
              "<style>\n",
              "  .colab-df-quickchart {\n",
              "      --bg-color: #E8F0FE;\n",
              "      --fill-color: #1967D2;\n",
              "      --hover-bg-color: #E2EBFA;\n",
              "      --hover-fill-color: #174EA6;\n",
              "      --disabled-fill-color: #AAA;\n",
              "      --disabled-bg-color: #DDD;\n",
              "  }\n",
              "\n",
              "  [theme=dark] .colab-df-quickchart {\n",
              "      --bg-color: #3B4455;\n",
              "      --fill-color: #D2E3FC;\n",
              "      --hover-bg-color: #434B5C;\n",
              "      --hover-fill-color: #FFFFFF;\n",
              "      --disabled-bg-color: #3B4455;\n",
              "      --disabled-fill-color: #666;\n",
              "  }\n",
              "\n",
              "  .colab-df-quickchart {\n",
              "    background-color: var(--bg-color);\n",
              "    border: none;\n",
              "    border-radius: 50%;\n",
              "    cursor: pointer;\n",
              "    display: none;\n",
              "    fill: var(--fill-color);\n",
              "    height: 32px;\n",
              "    padding: 0;\n",
              "    width: 32px;\n",
              "  }\n",
              "\n",
              "  .colab-df-quickchart:hover {\n",
              "    background-color: var(--hover-bg-color);\n",
              "    box-shadow: 0 1px 2px rgba(60, 64, 67, 0.3), 0 1px 3px 1px rgba(60, 64, 67, 0.15);\n",
              "    fill: var(--button-hover-fill-color);\n",
              "  }\n",
              "\n",
              "  .colab-df-quickchart-complete:disabled,\n",
              "  .colab-df-quickchart-complete:disabled:hover {\n",
              "    background-color: var(--disabled-bg-color);\n",
              "    fill: var(--disabled-fill-color);\n",
              "    box-shadow: none;\n",
              "  }\n",
              "\n",
              "  .colab-df-spinner {\n",
              "    border: 2px solid var(--fill-color);\n",
              "    border-color: transparent;\n",
              "    border-bottom-color: var(--fill-color);\n",
              "    animation:\n",
              "      spin 1s steps(1) infinite;\n",
              "  }\n",
              "\n",
              "  @keyframes spin {\n",
              "    0% {\n",
              "      border-color: transparent;\n",
              "      border-bottom-color: var(--fill-color);\n",
              "      border-left-color: var(--fill-color);\n",
              "    }\n",
              "    20% {\n",
              "      border-color: transparent;\n",
              "      border-left-color: var(--fill-color);\n",
              "      border-top-color: var(--fill-color);\n",
              "    }\n",
              "    30% {\n",
              "      border-color: transparent;\n",
              "      border-left-color: var(--fill-color);\n",
              "      border-top-color: var(--fill-color);\n",
              "      border-right-color: var(--fill-color);\n",
              "    }\n",
              "    40% {\n",
              "      border-color: transparent;\n",
              "      border-right-color: var(--fill-color);\n",
              "      border-top-color: var(--fill-color);\n",
              "    }\n",
              "    60% {\n",
              "      border-color: transparent;\n",
              "      border-right-color: var(--fill-color);\n",
              "    }\n",
              "    80% {\n",
              "      border-color: transparent;\n",
              "      border-right-color: var(--fill-color);\n",
              "      border-bottom-color: var(--fill-color);\n",
              "    }\n",
              "    90% {\n",
              "      border-color: transparent;\n",
              "      border-bottom-color: var(--fill-color);\n",
              "    }\n",
              "  }\n",
              "</style>\n",
              "\n",
              "  <script>\n",
              "    async function quickchart(key) {\n",
              "      const quickchartButtonEl =\n",
              "        document.querySelector('#' + key + ' button');\n",
              "      quickchartButtonEl.disabled = true;  // To prevent multiple clicks.\n",
              "      quickchartButtonEl.classList.add('colab-df-spinner');\n",
              "      try {\n",
              "        const charts = await google.colab.kernel.invokeFunction(\n",
              "            'suggestCharts', [key], {});\n",
              "      } catch (error) {\n",
              "        console.error('Error during call to suggestCharts:', error);\n",
              "      }\n",
              "      quickchartButtonEl.classList.remove('colab-df-spinner');\n",
              "      quickchartButtonEl.classList.add('colab-df-quickchart-complete');\n",
              "    }\n",
              "    (() => {\n",
              "      let quickchartButtonEl =\n",
              "        document.querySelector('#df-b158286e-2f04-446a-ba59-c7dadf51da30 button');\n",
              "      quickchartButtonEl.style.display =\n",
              "        google.colab.kernel.accessAllowed ? 'block' : 'none';\n",
              "    })();\n",
              "  </script>\n",
              "</div>\n",
              "\n",
              "    </div>\n",
              "  </div>\n"
            ]
          },
          "metadata": {},
          "execution_count": 10
        }
      ]
    },
    {
      "cell_type": "markdown",
      "source": [
        "- head() ; 기본 5줄 보여주기 / 데이터 깨짐 확인(인코딩 오류) / 값이 밀리진 않았는지\n",
        "- tail() ; 마지막 5줄\n",
        "- info()\n",
        "- describe() ; 통계적 요약정보 출력 / mix / max / mean / 표준편차\n",
        "- inplace = True? ;\n",
        "-->inplace= False가 기본 값이고처리된 값만 보여주고 반영되지 않는데\n",
        "-->inplace=True를 하면 원본 직접수정.\n",
        "- dropna; 결측치 제\n"
      ],
      "metadata": {
        "id": "9ZIH5m7jxU1h"
      }
    },
    {
      "cell_type": "code",
      "source": [
        "# head()메서드 실습; 데이터 깨짐 확인(인코딩 오류) / 값이 밀리진 않았는지\n",
        "# 요구정의서/ 컬럼에 대한 히스토리!\n",
        "# 샘플데이터는 캐글 문서 설명 참고\n",
        "\n",
        "test = pd.read_csv(\"/content/sample_data/california_housing_test.csv\")\n",
        "print(test.head())\n",
        "print(test.tail())"
      ],
      "metadata": {
        "colab": {
          "base_uri": "https://localhost:8080/"
        },
        "id": "AWjFVVJnx4Uw",
        "outputId": "3e9af26d-8453-44f1-ed1b-161d78443746"
      },
      "execution_count": 12,
      "outputs": [
        {
          "output_type": "stream",
          "name": "stdout",
          "text": [
            "   longitude  latitude  housing_median_age  total_rooms  total_bedrooms  \\\n",
            "0    -122.05     37.37                27.0       3885.0           661.0   \n",
            "1    -118.30     34.26                43.0       1510.0           310.0   \n",
            "2    -117.81     33.78                27.0       3589.0           507.0   \n",
            "3    -118.36     33.82                28.0         67.0            15.0   \n",
            "4    -119.67     36.33                19.0       1241.0           244.0   \n",
            "\n",
            "   population  households  median_income  median_house_value  \n",
            "0      1537.0       606.0         6.6085            344700.0  \n",
            "1       809.0       277.0         3.5990            176500.0  \n",
            "2      1484.0       495.0         5.7934            270500.0  \n",
            "3        49.0        11.0         6.1359            330000.0  \n",
            "4       850.0       237.0         2.9375             81700.0  \n",
            "      longitude  latitude  housing_median_age  total_rooms  total_bedrooms  \\\n",
            "2995    -119.86     34.42                23.0       1450.0           642.0   \n",
            "2996    -118.14     34.06                27.0       5257.0          1082.0   \n",
            "2997    -119.70     36.30                10.0        956.0           201.0   \n",
            "2998    -117.12     34.10                40.0         96.0            14.0   \n",
            "2999    -119.63     34.42                42.0       1765.0           263.0   \n",
            "\n",
            "      population  households  median_income  median_house_value  \n",
            "2995      1258.0       607.0         1.1790            225000.0  \n",
            "2996      3496.0      1036.0         3.3906            237200.0  \n",
            "2997       693.0       220.0         2.2895             62000.0  \n",
            "2998        46.0        14.0         3.2708            162500.0  \n",
            "2999       753.0       260.0         8.5608            500001.0  \n"
          ]
        }
      ]
    },
    {
      "cell_type": "code",
      "source": [
        "print(test.info())"
      ],
      "metadata": {
        "colab": {
          "base_uri": "https://localhost:8080/"
        },
        "id": "46h8AX1Hy9h6",
        "outputId": "291f7b27-1801-4867-c8f8-baeccfd24edf"
      },
      "execution_count": 14,
      "outputs": [
        {
          "output_type": "stream",
          "name": "stdout",
          "text": [
            "<class 'pandas.core.frame.DataFrame'>\n",
            "RangeIndex: 3000 entries, 0 to 2999\n",
            "Data columns (total 9 columns):\n",
            " #   Column              Non-Null Count  Dtype  \n",
            "---  ------              --------------  -----  \n",
            " 0   longitude           3000 non-null   float64\n",
            " 1   latitude            3000 non-null   float64\n",
            " 2   housing_median_age  3000 non-null   float64\n",
            " 3   total_rooms         3000 non-null   float64\n",
            " 4   total_bedrooms      3000 non-null   float64\n",
            " 5   population          3000 non-null   float64\n",
            " 6   households          3000 non-null   float64\n",
            " 7   median_income       3000 non-null   float64\n",
            " 8   median_house_value  3000 non-null   float64\n",
            "dtypes: float64(9)\n",
            "memory usage: 211.1 KB\n",
            "None\n"
          ]
        }
      ]
    },
    {
      "cell_type": "code",
      "source": [
        "# 요구정의서 / 컬럼에 대한 히스토리!\n",
        "\n",
        "test1 = pd.read_csv(\"/content/sample_data/california_housing_train.csv\")\n",
        "print(test1.head())\n",
        "print(test1.tail())\n",
        "\n",
        "# NULL\n",
        "# 1. Null이 있으면 머신러닝 모델의 대부분을 돌리지 못함(딥러닝도 거의 동일)\n",
        "# 2. xgboost / 딥러닝 일부 모델 중 옵션 변경(Null -> 하나의 값)\n",
        "# 3. Null -> 0(x), NAN(x) Null을 임의로 치환을 하는 건 굉장히 위험하다.\n",
        "# 4. Null 최대한 제거하고 분석하는 것을 추천 -> Null을 가지고 있는 데이터가 다른 데이터와 다른지 아닌지 파"
      ],
      "metadata": {
        "colab": {
          "base_uri": "https://localhost:8080/"
        },
        "id": "-I7blwP5z-Sa",
        "outputId": "d9333345-5c6a-41d0-d266-90a8637174db"
      },
      "execution_count": 17,
      "outputs": [
        {
          "output_type": "stream",
          "name": "stdout",
          "text": [
            "   longitude  latitude  housing_median_age  total_rooms  total_bedrooms  \\\n",
            "0    -114.31     34.19                15.0       5612.0          1283.0   \n",
            "1    -114.47     34.40                19.0       7650.0          1901.0   \n",
            "2    -114.56     33.69                17.0        720.0           174.0   \n",
            "3    -114.57     33.64                14.0       1501.0           337.0   \n",
            "4    -114.57     33.57                20.0       1454.0           326.0   \n",
            "\n",
            "   population  households  median_income  median_house_value  \n",
            "0      1015.0       472.0         1.4936             66900.0  \n",
            "1      1129.0       463.0         1.8200             80100.0  \n",
            "2       333.0       117.0         1.6509             85700.0  \n",
            "3       515.0       226.0         3.1917             73400.0  \n",
            "4       624.0       262.0         1.9250             65500.0  \n",
            "       longitude  latitude  housing_median_age  total_rooms  total_bedrooms  \\\n",
            "16995    -124.26     40.58                52.0       2217.0           394.0   \n",
            "16996    -124.27     40.69                36.0       2349.0           528.0   \n",
            "16997    -124.30     41.84                17.0       2677.0           531.0   \n",
            "16998    -124.30     41.80                19.0       2672.0           552.0   \n",
            "16999    -124.35     40.54                52.0       1820.0           300.0   \n",
            "\n",
            "       population  households  median_income  median_house_value  \n",
            "16995       907.0       369.0         2.3571            111400.0  \n",
            "16996      1194.0       465.0         2.5179             79000.0  \n",
            "16997      1244.0       456.0         3.0313            103600.0  \n",
            "16998      1298.0       478.0         1.9797             85800.0  \n",
            "16999       806.0       270.0         3.0147             94600.0  \n"
          ]
        }
      ]
    },
    {
      "cell_type": "code",
      "source": [
        "# DataFrame의 통계적 요약 정보 출력\n",
        "\n",
        "#describe 출력 후 확인할 우선순위\n",
        "# 1. Min / Max - > 999999 / -999999 / 이상한 문자로 된 값\n",
        "# 2. Mean - > 평균이 우리가 아는 수치와 비슷한지\n",
        "# 3. 25% 50% 75% -> 데이터가 편중되어 있는지 아니면 잘 분포되어 있는지 - > 표준편차\n",
        "   #ex)  1 1 1 1 1 1 1 1 2 3 4 5 ( 우리 어플 사용량!)\n",
        "print(test1.describe())\n",
        "print(test.describe())"
      ],
      "metadata": {
        "colab": {
          "base_uri": "https://localhost:8080/"
        },
        "id": "7WM3V03e0Dp8",
        "outputId": "4ddc2056-0bac-48b2-d7bc-26bc095b321e"
      },
      "execution_count": 19,
      "outputs": [
        {
          "output_type": "stream",
          "name": "stdout",
          "text": [
            "          longitude      latitude  housing_median_age   total_rooms  \\\n",
            "count  17000.000000  17000.000000        17000.000000  17000.000000   \n",
            "mean    -119.562108     35.625225           28.589353   2643.664412   \n",
            "std        2.005166      2.137340           12.586937   2179.947071   \n",
            "min     -124.350000     32.540000            1.000000      2.000000   \n",
            "25%     -121.790000     33.930000           18.000000   1462.000000   \n",
            "50%     -118.490000     34.250000           29.000000   2127.000000   \n",
            "75%     -118.000000     37.720000           37.000000   3151.250000   \n",
            "max     -114.310000     41.950000           52.000000  37937.000000   \n",
            "\n",
            "       total_bedrooms    population    households  median_income  \\\n",
            "count    17000.000000  17000.000000  17000.000000   17000.000000   \n",
            "mean       539.410824   1429.573941    501.221941       3.883578   \n",
            "std        421.499452   1147.852959    384.520841       1.908157   \n",
            "min          1.000000      3.000000      1.000000       0.499900   \n",
            "25%        297.000000    790.000000    282.000000       2.566375   \n",
            "50%        434.000000   1167.000000    409.000000       3.544600   \n",
            "75%        648.250000   1721.000000    605.250000       4.767000   \n",
            "max       6445.000000  35682.000000   6082.000000      15.000100   \n",
            "\n",
            "       median_house_value  \n",
            "count        17000.000000  \n",
            "mean        207300.912353  \n",
            "std         115983.764387  \n",
            "min          14999.000000  \n",
            "25%         119400.000000  \n",
            "50%         180400.000000  \n",
            "75%         265000.000000  \n",
            "max         500001.000000  \n",
            "         longitude    latitude  housing_median_age   total_rooms  \\\n",
            "count  3000.000000  3000.00000         3000.000000   3000.000000   \n",
            "mean   -119.589200    35.63539           28.845333   2599.578667   \n",
            "std       1.994936     2.12967           12.555396   2155.593332   \n",
            "min    -124.180000    32.56000            1.000000      6.000000   \n",
            "25%    -121.810000    33.93000           18.000000   1401.000000   \n",
            "50%    -118.485000    34.27000           29.000000   2106.000000   \n",
            "75%    -118.020000    37.69000           37.000000   3129.000000   \n",
            "max    -114.490000    41.92000           52.000000  30450.000000   \n",
            "\n",
            "       total_bedrooms    population  households  median_income  \\\n",
            "count     3000.000000   3000.000000  3000.00000    3000.000000   \n",
            "mean       529.950667   1402.798667   489.91200       3.807272   \n",
            "std        415.654368   1030.543012   365.42271       1.854512   \n",
            "min          2.000000      5.000000     2.00000       0.499900   \n",
            "25%        291.000000    780.000000   273.00000       2.544000   \n",
            "50%        437.000000   1155.000000   409.50000       3.487150   \n",
            "75%        636.000000   1742.750000   597.25000       4.656475   \n",
            "max       5419.000000  11935.000000  4930.00000      15.000100   \n",
            "\n",
            "       median_house_value  \n",
            "count          3000.00000  \n",
            "mean         205846.27500  \n",
            "std          113119.68747  \n",
            "min           22500.00000  \n",
            "25%          121200.00000  \n",
            "50%          177650.00000  \n",
            "75%          263975.00000  \n",
            "max          500001.00000  \n"
          ]
        }
      ]
    },
    {
      "cell_type": "code",
      "source": [
        "#결측치 처리"
      ],
      "metadata": {
        "id": "iQwcN7z76Vqd"
      },
      "execution_count": null,
      "outputs": []
    },
    {
      "cell_type": "code",
      "source": [
        "import pandas as pd\n",
        "import numpy as np\n",
        "\n",
        "# 샘플 데이터프레임 생성\n",
        "data = {'이름': ['홍길동', '임꺽정', None],\n",
        "        '나이': [30, None, 40],\n",
        "        '도시': ['서울', '부산', '광주']}\n",
        "df = pd.DataFrame(data)"
      ],
      "metadata": {
        "id": "4IQsdN0n6vO6"
      },
      "execution_count": 30,
      "outputs": []
    },
    {
      "cell_type": "code",
      "source": [
        "df.head()\n",
        "df.tail()\n",
        "df.describe()"
      ],
      "metadata": {
        "colab": {
          "base_uri": "https://localhost:8080/",
          "height": 300
        },
        "id": "5u5Q5aaQ6vN0",
        "outputId": "7d75e4a6-da64-483c-fcb0-c3854bc22dd3"
      },
      "execution_count": 36,
      "outputs": [
        {
          "output_type": "execute_result",
          "data": {
            "text/plain": [
              "         나이\n",
              "count   1.0\n",
              "mean   30.0\n",
              "std     NaN\n",
              "min    30.0\n",
              "25%    30.0\n",
              "50%    30.0\n",
              "75%    30.0\n",
              "max    30.0"
            ],
            "text/html": [
              "\n",
              "  <div id=\"df-15bc11e4-4eab-4cef-8f13-4a59dab3ab6f\" class=\"colab-df-container\">\n",
              "    <div>\n",
              "<style scoped>\n",
              "    .dataframe tbody tr th:only-of-type {\n",
              "        vertical-align: middle;\n",
              "    }\n",
              "\n",
              "    .dataframe tbody tr th {\n",
              "        vertical-align: top;\n",
              "    }\n",
              "\n",
              "    .dataframe thead th {\n",
              "        text-align: right;\n",
              "    }\n",
              "</style>\n",
              "<table border=\"1\" class=\"dataframe\">\n",
              "  <thead>\n",
              "    <tr style=\"text-align: right;\">\n",
              "      <th></th>\n",
              "      <th>나이</th>\n",
              "    </tr>\n",
              "  </thead>\n",
              "  <tbody>\n",
              "    <tr>\n",
              "      <th>count</th>\n",
              "      <td>1.0</td>\n",
              "    </tr>\n",
              "    <tr>\n",
              "      <th>mean</th>\n",
              "      <td>30.0</td>\n",
              "    </tr>\n",
              "    <tr>\n",
              "      <th>std</th>\n",
              "      <td>NaN</td>\n",
              "    </tr>\n",
              "    <tr>\n",
              "      <th>min</th>\n",
              "      <td>30.0</td>\n",
              "    </tr>\n",
              "    <tr>\n",
              "      <th>25%</th>\n",
              "      <td>30.0</td>\n",
              "    </tr>\n",
              "    <tr>\n",
              "      <th>50%</th>\n",
              "      <td>30.0</td>\n",
              "    </tr>\n",
              "    <tr>\n",
              "      <th>75%</th>\n",
              "      <td>30.0</td>\n",
              "    </tr>\n",
              "    <tr>\n",
              "      <th>max</th>\n",
              "      <td>30.0</td>\n",
              "    </tr>\n",
              "  </tbody>\n",
              "</table>\n",
              "</div>\n",
              "    <div class=\"colab-df-buttons\">\n",
              "\n",
              "  <div class=\"colab-df-container\">\n",
              "    <button class=\"colab-df-convert\" onclick=\"convertToInteractive('df-15bc11e4-4eab-4cef-8f13-4a59dab3ab6f')\"\n",
              "            title=\"Convert this dataframe to an interactive table.\"\n",
              "            style=\"display:none;\">\n",
              "\n",
              "  <svg xmlns=\"http://www.w3.org/2000/svg\" height=\"24px\" viewBox=\"0 -960 960 960\">\n",
              "    <path d=\"M120-120v-720h720v720H120Zm60-500h600v-160H180v160Zm220 220h160v-160H400v160Zm0 220h160v-160H400v160ZM180-400h160v-160H180v160Zm440 0h160v-160H620v160ZM180-180h160v-160H180v160Zm440 0h160v-160H620v160Z\"/>\n",
              "  </svg>\n",
              "    </button>\n",
              "\n",
              "  <style>\n",
              "    .colab-df-container {\n",
              "      display:flex;\n",
              "      gap: 12px;\n",
              "    }\n",
              "\n",
              "    .colab-df-convert {\n",
              "      background-color: #E8F0FE;\n",
              "      border: none;\n",
              "      border-radius: 50%;\n",
              "      cursor: pointer;\n",
              "      display: none;\n",
              "      fill: #1967D2;\n",
              "      height: 32px;\n",
              "      padding: 0 0 0 0;\n",
              "      width: 32px;\n",
              "    }\n",
              "\n",
              "    .colab-df-convert:hover {\n",
              "      background-color: #E2EBFA;\n",
              "      box-shadow: 0px 1px 2px rgba(60, 64, 67, 0.3), 0px 1px 3px 1px rgba(60, 64, 67, 0.15);\n",
              "      fill: #174EA6;\n",
              "    }\n",
              "\n",
              "    .colab-df-buttons div {\n",
              "      margin-bottom: 4px;\n",
              "    }\n",
              "\n",
              "    [theme=dark] .colab-df-convert {\n",
              "      background-color: #3B4455;\n",
              "      fill: #D2E3FC;\n",
              "    }\n",
              "\n",
              "    [theme=dark] .colab-df-convert:hover {\n",
              "      background-color: #434B5C;\n",
              "      box-shadow: 0px 1px 3px 1px rgba(0, 0, 0, 0.15);\n",
              "      filter: drop-shadow(0px 1px 2px rgba(0, 0, 0, 0.3));\n",
              "      fill: #FFFFFF;\n",
              "    }\n",
              "  </style>\n",
              "\n",
              "    <script>\n",
              "      const buttonEl =\n",
              "        document.querySelector('#df-15bc11e4-4eab-4cef-8f13-4a59dab3ab6f button.colab-df-convert');\n",
              "      buttonEl.style.display =\n",
              "        google.colab.kernel.accessAllowed ? 'block' : 'none';\n",
              "\n",
              "      async function convertToInteractive(key) {\n",
              "        const element = document.querySelector('#df-15bc11e4-4eab-4cef-8f13-4a59dab3ab6f');\n",
              "        const dataTable =\n",
              "          await google.colab.kernel.invokeFunction('convertToInteractive',\n",
              "                                                    [key], {});\n",
              "        if (!dataTable) return;\n",
              "\n",
              "        const docLinkHtml = 'Like what you see? Visit the ' +\n",
              "          '<a target=\"_blank\" href=https://colab.research.google.com/notebooks/data_table.ipynb>data table notebook</a>'\n",
              "          + ' to learn more about interactive tables.';\n",
              "        element.innerHTML = '';\n",
              "        dataTable['output_type'] = 'display_data';\n",
              "        await google.colab.output.renderOutput(dataTable, element);\n",
              "        const docLink = document.createElement('div');\n",
              "        docLink.innerHTML = docLinkHtml;\n",
              "        element.appendChild(docLink);\n",
              "      }\n",
              "    </script>\n",
              "  </div>\n",
              "\n",
              "\n",
              "<div id=\"df-dce90e3a-63ee-47e7-bb04-7a780016fd1b\">\n",
              "  <button class=\"colab-df-quickchart\" onclick=\"quickchart('df-dce90e3a-63ee-47e7-bb04-7a780016fd1b')\"\n",
              "            title=\"Suggest charts\"\n",
              "            style=\"display:none;\">\n",
              "\n",
              "<svg xmlns=\"http://www.w3.org/2000/svg\" height=\"24px\"viewBox=\"0 0 24 24\"\n",
              "     width=\"24px\">\n",
              "    <g>\n",
              "        <path d=\"M19 3H5c-1.1 0-2 .9-2 2v14c0 1.1.9 2 2 2h14c1.1 0 2-.9 2-2V5c0-1.1-.9-2-2-2zM9 17H7v-7h2v7zm4 0h-2V7h2v10zm4 0h-2v-4h2v4z\"/>\n",
              "    </g>\n",
              "</svg>\n",
              "  </button>\n",
              "\n",
              "<style>\n",
              "  .colab-df-quickchart {\n",
              "      --bg-color: #E8F0FE;\n",
              "      --fill-color: #1967D2;\n",
              "      --hover-bg-color: #E2EBFA;\n",
              "      --hover-fill-color: #174EA6;\n",
              "      --disabled-fill-color: #AAA;\n",
              "      --disabled-bg-color: #DDD;\n",
              "  }\n",
              "\n",
              "  [theme=dark] .colab-df-quickchart {\n",
              "      --bg-color: #3B4455;\n",
              "      --fill-color: #D2E3FC;\n",
              "      --hover-bg-color: #434B5C;\n",
              "      --hover-fill-color: #FFFFFF;\n",
              "      --disabled-bg-color: #3B4455;\n",
              "      --disabled-fill-color: #666;\n",
              "  }\n",
              "\n",
              "  .colab-df-quickchart {\n",
              "    background-color: var(--bg-color);\n",
              "    border: none;\n",
              "    border-radius: 50%;\n",
              "    cursor: pointer;\n",
              "    display: none;\n",
              "    fill: var(--fill-color);\n",
              "    height: 32px;\n",
              "    padding: 0;\n",
              "    width: 32px;\n",
              "  }\n",
              "\n",
              "  .colab-df-quickchart:hover {\n",
              "    background-color: var(--hover-bg-color);\n",
              "    box-shadow: 0 1px 2px rgba(60, 64, 67, 0.3), 0 1px 3px 1px rgba(60, 64, 67, 0.15);\n",
              "    fill: var(--button-hover-fill-color);\n",
              "  }\n",
              "\n",
              "  .colab-df-quickchart-complete:disabled,\n",
              "  .colab-df-quickchart-complete:disabled:hover {\n",
              "    background-color: var(--disabled-bg-color);\n",
              "    fill: var(--disabled-fill-color);\n",
              "    box-shadow: none;\n",
              "  }\n",
              "\n",
              "  .colab-df-spinner {\n",
              "    border: 2px solid var(--fill-color);\n",
              "    border-color: transparent;\n",
              "    border-bottom-color: var(--fill-color);\n",
              "    animation:\n",
              "      spin 1s steps(1) infinite;\n",
              "  }\n",
              "\n",
              "  @keyframes spin {\n",
              "    0% {\n",
              "      border-color: transparent;\n",
              "      border-bottom-color: var(--fill-color);\n",
              "      border-left-color: var(--fill-color);\n",
              "    }\n",
              "    20% {\n",
              "      border-color: transparent;\n",
              "      border-left-color: var(--fill-color);\n",
              "      border-top-color: var(--fill-color);\n",
              "    }\n",
              "    30% {\n",
              "      border-color: transparent;\n",
              "      border-left-color: var(--fill-color);\n",
              "      border-top-color: var(--fill-color);\n",
              "      border-right-color: var(--fill-color);\n",
              "    }\n",
              "    40% {\n",
              "      border-color: transparent;\n",
              "      border-right-color: var(--fill-color);\n",
              "      border-top-color: var(--fill-color);\n",
              "    }\n",
              "    60% {\n",
              "      border-color: transparent;\n",
              "      border-right-color: var(--fill-color);\n",
              "    }\n",
              "    80% {\n",
              "      border-color: transparent;\n",
              "      border-right-color: var(--fill-color);\n",
              "      border-bottom-color: var(--fill-color);\n",
              "    }\n",
              "    90% {\n",
              "      border-color: transparent;\n",
              "      border-bottom-color: var(--fill-color);\n",
              "    }\n",
              "  }\n",
              "</style>\n",
              "\n",
              "  <script>\n",
              "    async function quickchart(key) {\n",
              "      const quickchartButtonEl =\n",
              "        document.querySelector('#' + key + ' button');\n",
              "      quickchartButtonEl.disabled = true;  // To prevent multiple clicks.\n",
              "      quickchartButtonEl.classList.add('colab-df-spinner');\n",
              "      try {\n",
              "        const charts = await google.colab.kernel.invokeFunction(\n",
              "            'suggestCharts', [key], {});\n",
              "      } catch (error) {\n",
              "        console.error('Error during call to suggestCharts:', error);\n",
              "      }\n",
              "      quickchartButtonEl.classList.remove('colab-df-spinner');\n",
              "      quickchartButtonEl.classList.add('colab-df-quickchart-complete');\n",
              "    }\n",
              "    (() => {\n",
              "      let quickchartButtonEl =\n",
              "        document.querySelector('#df-dce90e3a-63ee-47e7-bb04-7a780016fd1b button');\n",
              "      quickchartButtonEl.style.display =\n",
              "        google.colab.kernel.accessAllowed ? 'block' : 'none';\n",
              "    })();\n",
              "  </script>\n",
              "</div>\n",
              "\n",
              "    </div>\n",
              "  </div>\n"
            ]
          },
          "metadata": {},
          "execution_count": 36
        }
      ]
    },
    {
      "cell_type": "code",
      "source": [
        "# 결측치가 포함된 데이터프레임 출력\n",
        "print(\"원본 데이터프레임:\\n\", df)\n",
        "\n",
        "# 결측치 제거\n",
        "df.dropna(inplace=True)\n"
      ],
      "metadata": {
        "colab": {
          "base_uri": "https://localhost:8080/"
        },
        "id": "JqSzv4Bb6VpE",
        "outputId": "3ca3cf84-b9a7-4b11-b75e-a338290cb959"
      },
      "execution_count": 32,
      "outputs": [
        {
          "output_type": "stream",
          "name": "stdout",
          "text": [
            "원본 데이터프레임:\n",
            "      이름    나이  도시\n",
            "0   홍길동  30.0  서울\n",
            "1   임꺽정   NaN  부산\n",
            "2  None  40.0  광주\n"
          ]
        }
      ]
    },
    {
      "cell_type": "code",
      "source": [
        "# 결측치가 포함된 데이터프레임 출력\n",
        "print(\"원본 데이터프레임:\\n\", df)\n",
        "\n",
        "# 결측치 제거\n",
        "df.dropna(inplace=False)\n"
      ],
      "metadata": {
        "colab": {
          "base_uri": "https://localhost:8080/",
          "height": 136
        },
        "id": "XEkFO0zS7QIB",
        "outputId": "f32f1be1-8552-4410-b1f3-2a505daf6d70"
      },
      "execution_count": 34,
      "outputs": [
        {
          "output_type": "stream",
          "name": "stdout",
          "text": [
            "원본 데이터프레임:\n",
            "     이름    나이  도시\n",
            "0  홍길동  30.0  서울\n"
          ]
        },
        {
          "output_type": "execute_result",
          "data": {
            "text/plain": [
              "    이름    나이  도시\n",
              "0  홍길동  30.0  서울"
            ],
            "text/html": [
              "\n",
              "  <div id=\"df-0b679ac6-af43-4a65-8d52-514cf525606f\" class=\"colab-df-container\">\n",
              "    <div>\n",
              "<style scoped>\n",
              "    .dataframe tbody tr th:only-of-type {\n",
              "        vertical-align: middle;\n",
              "    }\n",
              "\n",
              "    .dataframe tbody tr th {\n",
              "        vertical-align: top;\n",
              "    }\n",
              "\n",
              "    .dataframe thead th {\n",
              "        text-align: right;\n",
              "    }\n",
              "</style>\n",
              "<table border=\"1\" class=\"dataframe\">\n",
              "  <thead>\n",
              "    <tr style=\"text-align: right;\">\n",
              "      <th></th>\n",
              "      <th>이름</th>\n",
              "      <th>나이</th>\n",
              "      <th>도시</th>\n",
              "    </tr>\n",
              "  </thead>\n",
              "  <tbody>\n",
              "    <tr>\n",
              "      <th>0</th>\n",
              "      <td>홍길동</td>\n",
              "      <td>30.0</td>\n",
              "      <td>서울</td>\n",
              "    </tr>\n",
              "  </tbody>\n",
              "</table>\n",
              "</div>\n",
              "    <div class=\"colab-df-buttons\">\n",
              "\n",
              "  <div class=\"colab-df-container\">\n",
              "    <button class=\"colab-df-convert\" onclick=\"convertToInteractive('df-0b679ac6-af43-4a65-8d52-514cf525606f')\"\n",
              "            title=\"Convert this dataframe to an interactive table.\"\n",
              "            style=\"display:none;\">\n",
              "\n",
              "  <svg xmlns=\"http://www.w3.org/2000/svg\" height=\"24px\" viewBox=\"0 -960 960 960\">\n",
              "    <path d=\"M120-120v-720h720v720H120Zm60-500h600v-160H180v160Zm220 220h160v-160H400v160Zm0 220h160v-160H400v160ZM180-400h160v-160H180v160Zm440 0h160v-160H620v160ZM180-180h160v-160H180v160Zm440 0h160v-160H620v160Z\"/>\n",
              "  </svg>\n",
              "    </button>\n",
              "\n",
              "  <style>\n",
              "    .colab-df-container {\n",
              "      display:flex;\n",
              "      gap: 12px;\n",
              "    }\n",
              "\n",
              "    .colab-df-convert {\n",
              "      background-color: #E8F0FE;\n",
              "      border: none;\n",
              "      border-radius: 50%;\n",
              "      cursor: pointer;\n",
              "      display: none;\n",
              "      fill: #1967D2;\n",
              "      height: 32px;\n",
              "      padding: 0 0 0 0;\n",
              "      width: 32px;\n",
              "    }\n",
              "\n",
              "    .colab-df-convert:hover {\n",
              "      background-color: #E2EBFA;\n",
              "      box-shadow: 0px 1px 2px rgba(60, 64, 67, 0.3), 0px 1px 3px 1px rgba(60, 64, 67, 0.15);\n",
              "      fill: #174EA6;\n",
              "    }\n",
              "\n",
              "    .colab-df-buttons div {\n",
              "      margin-bottom: 4px;\n",
              "    }\n",
              "\n",
              "    [theme=dark] .colab-df-convert {\n",
              "      background-color: #3B4455;\n",
              "      fill: #D2E3FC;\n",
              "    }\n",
              "\n",
              "    [theme=dark] .colab-df-convert:hover {\n",
              "      background-color: #434B5C;\n",
              "      box-shadow: 0px 1px 3px 1px rgba(0, 0, 0, 0.15);\n",
              "      filter: drop-shadow(0px 1px 2px rgba(0, 0, 0, 0.3));\n",
              "      fill: #FFFFFF;\n",
              "    }\n",
              "  </style>\n",
              "\n",
              "    <script>\n",
              "      const buttonEl =\n",
              "        document.querySelector('#df-0b679ac6-af43-4a65-8d52-514cf525606f button.colab-df-convert');\n",
              "      buttonEl.style.display =\n",
              "        google.colab.kernel.accessAllowed ? 'block' : 'none';\n",
              "\n",
              "      async function convertToInteractive(key) {\n",
              "        const element = document.querySelector('#df-0b679ac6-af43-4a65-8d52-514cf525606f');\n",
              "        const dataTable =\n",
              "          await google.colab.kernel.invokeFunction('convertToInteractive',\n",
              "                                                    [key], {});\n",
              "        if (!dataTable) return;\n",
              "\n",
              "        const docLinkHtml = 'Like what you see? Visit the ' +\n",
              "          '<a target=\"_blank\" href=https://colab.research.google.com/notebooks/data_table.ipynb>data table notebook</a>'\n",
              "          + ' to learn more about interactive tables.';\n",
              "        element.innerHTML = '';\n",
              "        dataTable['output_type'] = 'display_data';\n",
              "        await google.colab.output.renderOutput(dataTable, element);\n",
              "        const docLink = document.createElement('div');\n",
              "        docLink.innerHTML = docLinkHtml;\n",
              "        element.appendChild(docLink);\n",
              "      }\n",
              "    </script>\n",
              "  </div>\n",
              "\n",
              "\n",
              "    </div>\n",
              "  </div>\n"
            ]
          },
          "metadata": {},
          "execution_count": 34
        }
      ]
    },
    {
      "cell_type": "code",
      "source": [
        "# 결측치가 제거된 데이터프레임 출력\n",
        "print(\"\\n결측치 제거 후 데이터프레임:\\n\", df)"
      ],
      "metadata": {
        "colab": {
          "base_uri": "https://localhost:8080/"
        },
        "id": "NpS8rZaD7Hlt",
        "outputId": "5c584a6d-521f-4658-df22-7f13456ece4d"
      },
      "execution_count": 33,
      "outputs": [
        {
          "output_type": "stream",
          "name": "stdout",
          "text": [
            "\n",
            "결측치 제거 후 데이터프레임:\n",
            "     이름    나이  도시\n",
            "0  홍길동  30.0  서울\n"
          ]
        }
      ]
    },
    {
      "cell_type": "code",
      "source": [],
      "metadata": {
        "colab": {
          "base_uri": "https://localhost:8080/"
        },
        "id": "56T06iAe6YqR",
        "outputId": "3d26f077-80e4-40f7-bbfd-1faa1d7f4cdd"
      },
      "execution_count": 26,
      "outputs": [
        {
          "output_type": "stream",
          "name": "stdout",
          "text": [
            "<class 'pandas.core.frame.DataFrame'>\n",
            "RangeIndex: 3 entries, 0 to 2\n",
            "Data columns (total 3 columns):\n",
            " #   Column  Non-Null Count  Dtype  \n",
            "---  ------  --------------  -----  \n",
            " 0   이름      2 non-null      object \n",
            " 1   나이      2 non-null      float64\n",
            " 2   도시      3 non-null      object \n",
            "dtypes: float64(1), object(2)\n",
            "memory usage: 200.0+ bytes\n"
          ]
        }
      ]
    },
    {
      "cell_type": "code",
      "source": [
        "df.head()\n",
        "df.tail()"
      ],
      "metadata": {
        "colab": {
          "base_uri": "https://localhost:8080/",
          "height": 81
        },
        "id": "51GATsjW6cGH",
        "outputId": "9121f479-4212-4515-fc4a-54ff7f1e9c4d"
      },
      "execution_count": 23,
      "outputs": [
        {
          "output_type": "execute_result",
          "data": {
            "text/plain": [
              "    이름    나이  도시\n",
              "0  홍길동  30.0  서울"
            ],
            "text/html": [
              "\n",
              "  <div id=\"df-e3e3a183-e64f-43d1-8822-6f288e9c57ab\" class=\"colab-df-container\">\n",
              "    <div>\n",
              "<style scoped>\n",
              "    .dataframe tbody tr th:only-of-type {\n",
              "        vertical-align: middle;\n",
              "    }\n",
              "\n",
              "    .dataframe tbody tr th {\n",
              "        vertical-align: top;\n",
              "    }\n",
              "\n",
              "    .dataframe thead th {\n",
              "        text-align: right;\n",
              "    }\n",
              "</style>\n",
              "<table border=\"1\" class=\"dataframe\">\n",
              "  <thead>\n",
              "    <tr style=\"text-align: right;\">\n",
              "      <th></th>\n",
              "      <th>이름</th>\n",
              "      <th>나이</th>\n",
              "      <th>도시</th>\n",
              "    </tr>\n",
              "  </thead>\n",
              "  <tbody>\n",
              "    <tr>\n",
              "      <th>0</th>\n",
              "      <td>홍길동</td>\n",
              "      <td>30.0</td>\n",
              "      <td>서울</td>\n",
              "    </tr>\n",
              "  </tbody>\n",
              "</table>\n",
              "</div>\n",
              "    <div class=\"colab-df-buttons\">\n",
              "\n",
              "  <div class=\"colab-df-container\">\n",
              "    <button class=\"colab-df-convert\" onclick=\"convertToInteractive('df-e3e3a183-e64f-43d1-8822-6f288e9c57ab')\"\n",
              "            title=\"Convert this dataframe to an interactive table.\"\n",
              "            style=\"display:none;\">\n",
              "\n",
              "  <svg xmlns=\"http://www.w3.org/2000/svg\" height=\"24px\" viewBox=\"0 -960 960 960\">\n",
              "    <path d=\"M120-120v-720h720v720H120Zm60-500h600v-160H180v160Zm220 220h160v-160H400v160Zm0 220h160v-160H400v160ZM180-400h160v-160H180v160Zm440 0h160v-160H620v160ZM180-180h160v-160H180v160Zm440 0h160v-160H620v160Z\"/>\n",
              "  </svg>\n",
              "    </button>\n",
              "\n",
              "  <style>\n",
              "    .colab-df-container {\n",
              "      display:flex;\n",
              "      gap: 12px;\n",
              "    }\n",
              "\n",
              "    .colab-df-convert {\n",
              "      background-color: #E8F0FE;\n",
              "      border: none;\n",
              "      border-radius: 50%;\n",
              "      cursor: pointer;\n",
              "      display: none;\n",
              "      fill: #1967D2;\n",
              "      height: 32px;\n",
              "      padding: 0 0 0 0;\n",
              "      width: 32px;\n",
              "    }\n",
              "\n",
              "    .colab-df-convert:hover {\n",
              "      background-color: #E2EBFA;\n",
              "      box-shadow: 0px 1px 2px rgba(60, 64, 67, 0.3), 0px 1px 3px 1px rgba(60, 64, 67, 0.15);\n",
              "      fill: #174EA6;\n",
              "    }\n",
              "\n",
              "    .colab-df-buttons div {\n",
              "      margin-bottom: 4px;\n",
              "    }\n",
              "\n",
              "    [theme=dark] .colab-df-convert {\n",
              "      background-color: #3B4455;\n",
              "      fill: #D2E3FC;\n",
              "    }\n",
              "\n",
              "    [theme=dark] .colab-df-convert:hover {\n",
              "      background-color: #434B5C;\n",
              "      box-shadow: 0px 1px 3px 1px rgba(0, 0, 0, 0.15);\n",
              "      filter: drop-shadow(0px 1px 2px rgba(0, 0, 0, 0.3));\n",
              "      fill: #FFFFFF;\n",
              "    }\n",
              "  </style>\n",
              "\n",
              "    <script>\n",
              "      const buttonEl =\n",
              "        document.querySelector('#df-e3e3a183-e64f-43d1-8822-6f288e9c57ab button.colab-df-convert');\n",
              "      buttonEl.style.display =\n",
              "        google.colab.kernel.accessAllowed ? 'block' : 'none';\n",
              "\n",
              "      async function convertToInteractive(key) {\n",
              "        const element = document.querySelector('#df-e3e3a183-e64f-43d1-8822-6f288e9c57ab');\n",
              "        const dataTable =\n",
              "          await google.colab.kernel.invokeFunction('convertToInteractive',\n",
              "                                                    [key], {});\n",
              "        if (!dataTable) return;\n",
              "\n",
              "        const docLinkHtml = 'Like what you see? Visit the ' +\n",
              "          '<a target=\"_blank\" href=https://colab.research.google.com/notebooks/data_table.ipynb>data table notebook</a>'\n",
              "          + ' to learn more about interactive tables.';\n",
              "        element.innerHTML = '';\n",
              "        dataTable['output_type'] = 'display_data';\n",
              "        await google.colab.output.renderOutput(dataTable, element);\n",
              "        const docLink = document.createElement('div');\n",
              "        docLink.innerHTML = docLinkHtml;\n",
              "        element.appendChild(docLink);\n",
              "      }\n",
              "    </script>\n",
              "  </div>\n",
              "\n",
              "\n",
              "    </div>\n",
              "  </div>\n"
            ]
          },
          "metadata": {},
          "execution_count": 23
        }
      ]
    },
    {
      "cell_type": "markdown",
      "source": [
        "## pandas 기초\n",
        "- df.shape(행의수, 열의수) ; 튜플로 반환\n",
        "- df.dtype(); 데이터 타입(속성)\n",
        "- df.index(); 행번호(인덱스)를 임의로 지정가능\n",
        "- df.colunms(); 열의 이름\n",
        "- df.loc[변수명]\n",
        "- df.iloc[위치]"
      ],
      "metadata": {
        "id": "105hthb5-BBR"
      }
    },
    {
      "cell_type": "markdown",
      "source": [
        "#2. 데이터 프레임 예시"
      ],
      "metadata": {
        "id": "s6Nrl5hD-tfZ"
      }
    },
    {
      "cell_type": "code",
      "source": [
        "# Pandas DataFrame 예시\n",
        "import pandas as pd\n",
        "\n",
        "df = pd.DataFrame({\n",
        "    'Name': ['Alice', 'Bob', 'Charlie'],\n",
        "    'Age': [25, 30, 35],\n",
        "    'City': ['New York', 'Paris', 'Berlin']\n",
        "})\n",
        "\n",
        "# 각 속성 호출\n",
        "print(\"Shape:\", df.shape)\n",
        "print(\"Data Types:\\n\", df.dtypes)\n",
        "print(\"Index:\", df.index)\n",
        "print(\"Columns:\", df.columns)"
      ],
      "metadata": {
        "colab": {
          "base_uri": "https://localhost:8080/"
        },
        "id": "nADlkT58-oDe",
        "outputId": "d5659ca1-f549-461b-8f83-ef072b957c6b"
      },
      "execution_count": 37,
      "outputs": [
        {
          "output_type": "stream",
          "name": "stdout",
          "text": [
            "Shape: (3, 3)\n",
            "Data Types:\n",
            " Name    object\n",
            "Age      int64\n",
            "City    object\n",
            "dtype: object\n",
            "Index: RangeIndex(start=0, stop=3, step=1)\n",
            "Columns: Index(['Name', 'Age', 'City'], dtype='object')\n"
          ]
        }
      ]
    },
    {
      "cell_type": "code",
      "source": [
        "print(\"Shape of DataFrame:\", df.shape)"
      ],
      "metadata": {
        "colab": {
          "base_uri": "https://localhost:8080/"
        },
        "id": "aECkobe3-1kv",
        "outputId": "07d8afe7-0636-4b09-f533-27d32c4dd074"
      },
      "execution_count": 39,
      "outputs": [
        {
          "output_type": "stream",
          "name": "stdout",
          "text": [
            "Shape of DataFrame: (3, 3)\n"
          ]
        }
      ]
    },
    {
      "cell_type": "code",
      "source": [
        "print(\"Data Types:\\n\", df.dtypes)"
      ],
      "metadata": {
        "colab": {
          "base_uri": "https://localhost:8080/"
        },
        "id": "q_Pr7509_i2y",
        "outputId": "2086ca20-1ec5-4917-8e35-59995380e4fb"
      },
      "execution_count": 41,
      "outputs": [
        {
          "output_type": "stream",
          "name": "stdout",
          "text": [
            "Data Types:\n",
            " Name    object\n",
            "Age      int64\n",
            "City    object\n",
            "dtype: object\n"
          ]
        }
      ]
    },
    {
      "cell_type": "code",
      "source": [
        "print(\"Index: \", df.index)"
      ],
      "metadata": {
        "colab": {
          "base_uri": "https://localhost:8080/"
        },
        "id": "Ei9uNWRV_oI8",
        "outputId": "e467bee6-cb4b-4279-f7b2-66f4293dbafc"
      },
      "execution_count": 42,
      "outputs": [
        {
          "output_type": "stream",
          "name": "stdout",
          "text": [
            "Index:  RangeIndex(start=0, stop=3, step=1)\n"
          ]
        }
      ]
    },
    {
      "cell_type": "code",
      "source": [
        "# 데이터 형식"
      ],
      "metadata": {
        "id": "x_cbxvGRAJti"
      },
      "execution_count": null,
      "outputs": []
    },
    {
      "cell_type": "code",
      "source": [
        "# - 정수형 / 실수형 ; int / float\n",
        "# - 문자형 ; object\n",
        "# - 불린형 ; True / False\n",
        "# - 날짜/ 시간형"
      ],
      "metadata": {
        "id": "8AHHklEsAMmf"
      },
      "execution_count": null,
      "outputs": []
    },
    {
      "cell_type": "code",
      "source": [
        "# 데이터 형식 변환 astype"
      ],
      "metadata": {
        "id": "FXJ3Gg0iAMkY"
      },
      "execution_count": null,
      "outputs": []
    },
    {
      "cell_type": "code",
      "source": [
        "import pandas as pd\n",
        "\n",
        "# 예시 데이터프레임 생성\n",
        "data = {\n",
        "    'Name': ['Alice', 'Bob'],  # 문자열 타입\n",
        "    'Age': ['25', '30'],       # 숫자 데이터를 문자열로 표현\n",
        "    'Member': ['True', 'False'],  # 불린 데이터를 문자열로 표현\n",
        "    'Join Date': ['2021-01-01', '2021-07-01']  # 날짜 데이터를 문자열로 표현\n",
        "}\n",
        "\n",
        "df = pd.DataFrame(data)\n",
        "\n",
        "#DB -> 문자열 저장 - > 메모리 / 저장용량\n",
        "\n",
        "# 결과 출력\n",
        "print(df)\n",
        "print(df.dtypes)"
      ],
      "metadata": {
        "colab": {
          "base_uri": "https://localhost:8080/"
        },
        "id": "Jkas_Lr5AMiC",
        "outputId": "d6454f8c-3969-4fe7-be8e-53d22eb3bc8a"
      },
      "execution_count": 43,
      "outputs": [
        {
          "output_type": "stream",
          "name": "stdout",
          "text": [
            "    Name Age Member   Join Date\n",
            "0  Alice  25   True  2021-01-01\n",
            "1    Bob  30  False  2021-07-01\n",
            "Name         object\n",
            "Age          object\n",
            "Member       object\n",
            "Join Date    object\n",
            "dtype: object\n"
          ]
        }
      ]
    },
    {
      "cell_type": "code",
      "source": [
        "# 데이터 타입 변환\n",
        "df['Age'] = df['Age'].astype(int)  # 'Age' 열을 정수형으로\n",
        "\n",
        "# 결과 출력\n",
        "print(df)\n",
        "print(df.dtypes)\n"
      ],
      "metadata": {
        "colab": {
          "base_uri": "https://localhost:8080/"
        },
        "id": "UlXfKoMQAqtC",
        "outputId": "6ca66b8b-83a6-4593-a1ae-223a05fde307"
      },
      "execution_count": 45,
      "outputs": [
        {
          "output_type": "stream",
          "name": "stdout",
          "text": [
            "    Name  Age Member   Join Date\n",
            "0  Alice   25   True  2021-01-01\n",
            "1    Bob   30  False  2021-07-01\n",
            "Name         object\n",
            "Age           int64\n",
            "Member       object\n",
            "Join Date    object\n",
            "dtype: object\n"
          ]
        }
      ]
    },
    {
      "cell_type": "code",
      "source": [
        "# 데이터 타입 변환\n",
        "df['Member'] = df['Member'].astype(bool)  # 'Member' 열을 불린형으로\n",
        "\n",
        "# 결과 출력\n",
        "print(df)\n",
        "print(df.dtypes)\n"
      ],
      "metadata": {
        "colab": {
          "base_uri": "https://localhost:8080/"
        },
        "id": "HXdk52XgAqrj",
        "outputId": "97620d32-15e3-406a-e2c4-aef69efd8866"
      },
      "execution_count": 46,
      "outputs": [
        {
          "output_type": "stream",
          "name": "stdout",
          "text": [
            "    Name  Age  Member   Join Date\n",
            "0  Alice   25    True  2021-01-01\n",
            "1    Bob   30    True  2021-07-01\n",
            "Name         object\n",
            "Age           int64\n",
            "Member         bool\n",
            "Join Date    object\n",
            "dtype: object\n"
          ]
        }
      ]
    },
    {
      "cell_type": "code",
      "source": [
        "\n",
        "# 데이터 타입 변환\n",
        "df['Join Date'] = pd.to_datetime(df['Join Date'])  # 'Join Date' 열을 datetime으로 변환\n",
        "\n",
        "# 결과 출력\n",
        "print(df)\n",
        "print(df.dtypes)"
      ],
      "metadata": {
        "colab": {
          "base_uri": "https://localhost:8080/"
        },
        "id": "ozlKMac6BWSD",
        "outputId": "bfa1abed-cfa7-4aff-9929-0b222d437403"
      },
      "execution_count": 47,
      "outputs": [
        {
          "output_type": "stream",
          "name": "stdout",
          "text": [
            "    Name  Age  Member  Join Date\n",
            "0  Alice   25    True 2021-01-01\n",
            "1    Bob   30    True 2021-07-01\n",
            "Name                 object\n",
            "Age                   int64\n",
            "Member                 bool\n",
            "Join Date    datetime64[ns]\n",
            "dtype: object\n"
          ]
        }
      ]
    },
    {
      "cell_type": "code",
      "source": [
        "# 데이터 프레임에서 특정열을 선택"
      ],
      "metadata": {
        "id": "aOcAambDBWPE"
      },
      "execution_count": null,
      "outputs": []
    },
    {
      "cell_type": "code",
      "source": [
        "df_joindate = df['Join Date'] # 하나의 행, 시리즈로 불러옴"
      ],
      "metadata": {
        "id": "rcGpHlj-B0FP"
      },
      "execution_count": 52,
      "outputs": []
    },
    {
      "cell_type": "code",
      "source": [
        "df_joindate.info()"
      ],
      "metadata": {
        "colab": {
          "base_uri": "https://localhost:8080/"
        },
        "id": "-hlmWvdEB0CV",
        "outputId": "a510511f-394c-4b47-95a0-46440a6fc5b6"
      },
      "execution_count": 53,
      "outputs": [
        {
          "output_type": "stream",
          "name": "stdout",
          "text": [
            "<class 'pandas.core.series.Series'>\n",
            "RangeIndex: 2 entries, 0 to 1\n",
            "Series name: Join Date\n",
            "Non-Null Count  Dtype         \n",
            "--------------  -----         \n",
            "2 non-null      datetime64[ns]\n",
            "dtypes: datetime64[ns](1)\n",
            "memory usage: 144.0 bytes\n"
          ]
        }
      ]
    },
    {
      "cell_type": "code",
      "source": [
        "df_joindate_age = df[['Join Date', 'Age']] # 두개의 행, 데이터프레임으로 불러"
      ],
      "metadata": {
        "id": "3Oh3AK8sCOnb"
      },
      "execution_count": 55,
      "outputs": []
    },
    {
      "cell_type": "code",
      "source": [
        "df_joindate_age.info()"
      ],
      "metadata": {
        "colab": {
          "base_uri": "https://localhost:8080/"
        },
        "id": "HN3-ABAOCOk9",
        "outputId": "dcc06911-ef13-4ce9-d159-8241ec6fd6a9"
      },
      "execution_count": 56,
      "outputs": [
        {
          "output_type": "stream",
          "name": "stdout",
          "text": [
            "<class 'pandas.core.frame.DataFrame'>\n",
            "RangeIndex: 2 entries, 0 to 1\n",
            "Data columns (total 2 columns):\n",
            " #   Column     Non-Null Count  Dtype         \n",
            "---  ------     --------------  -----         \n",
            " 0   Join Date  2 non-null      datetime64[ns]\n",
            " 1   Age        2 non-null      int64         \n",
            "dtypes: datetime64[ns](1), int64(1)\n",
            "memory usage: 160.0 bytes\n"
          ]
        }
      ]
    },
    {
      "cell_type": "code",
      "source": [
        "import pandas as pd\n",
        "import numpy as np\n",
        "\n",
        "# 예시 데이터프레임 생성\n",
        "data = {\n",
        "    'Name': ['Alice', 'Bob', 'Charlie'],\n",
        "    'Age': [25, 30, 35],\n",
        "    'City': ['New York', 'Paris', 'Berlin']\n",
        "}\n",
        "df = pd.DataFrame(data)\n"
      ],
      "metadata": {
        "id": "Fxqsewp5C5HY"
      },
      "execution_count": 57,
      "outputs": []
    },
    {
      "cell_type": "code",
      "source": [
        "\n",
        "# 단일 열 선택 -> 결과는 Series\n",
        "age_series = df['Age']\n",
        "print(type(age_series))\n"
      ],
      "metadata": {
        "colab": {
          "base_uri": "https://localhost:8080/"
        },
        "id": "HbXHRBecC8yX",
        "outputId": "a186b1cb-d5d0-4dcb-8583-167bfbbe7333"
      },
      "execution_count": 58,
      "outputs": [
        {
          "output_type": "stream",
          "name": "stdout",
          "text": [
            "<class 'pandas.core.series.Series'>\n"
          ]
        }
      ]
    },
    {
      "cell_type": "code",
      "source": [
        "# 다중 열 선택 -> 결과는 DataFrame\n",
        "\n",
        "subset_df = df[['Name', 'City']]\n",
        "print(type(subset_df))"
      ],
      "metadata": {
        "colab": {
          "base_uri": "https://localhost:8080/"
        },
        "id": "lW1-S5CuDCnj",
        "outputId": "9556b719-7238-47ef-f790-5de51e4b78e1"
      },
      "execution_count": 62,
      "outputs": [
        {
          "output_type": "stream",
          "name": "stdout",
          "text": [
            "<class 'pandas.core.frame.DataFrame'>\n"
          ]
        }
      ]
    },
    {
      "cell_type": "code",
      "source": [
        "# loc 사용 예시\n",
        "print(df.loc[:, 'Age'])"
      ],
      "metadata": {
        "colab": {
          "base_uri": "https://localhost:8080/"
        },
        "id": "nHgJnT0gDMrg",
        "outputId": "f0d2b274-e498-4446-cdf5-3e75e3c96fab"
      },
      "execution_count": 63,
      "outputs": [
        {
          "output_type": "stream",
          "name": "stdout",
          "text": [
            "0    25.0\n",
            "1     NaN\n",
            "2    35.0\n",
            "Name: Age, dtype: float64\n"
          ]
        }
      ]
    },
    {
      "cell_type": "code",
      "source": [
        "# iloc 사용 예시\n",
        "print(df.iloc[:, 1])"
      ],
      "metadata": {
        "colab": {
          "base_uri": "https://localhost:8080/"
        },
        "id": "la53S5EjDQYO",
        "outputId": "2969aebd-c9bc-41db-c1f0-657997cb83ee"
      },
      "execution_count": 64,
      "outputs": [
        {
          "output_type": "stream",
          "name": "stdout",
          "text": [
            "0    25.0\n",
            "1     NaN\n",
            "2    35.0\n",
            "Name: Age, dtype: float64\n"
          ]
        }
      ]
    },
    {
      "cell_type": "code",
      "source": [
        "# 결측치 추가\n",
        "# [행 / 열]\n",
        "df.loc[1, 'Age'] = np.nan\n",
        "print(df)"
      ],
      "metadata": {
        "colab": {
          "base_uri": "https://localhost:8080/"
        },
        "id": "tOzpBY0fDiek",
        "outputId": "f574ab14-ba5d-4bac-9316-b8b9c013e343"
      },
      "execution_count": 68,
      "outputs": [
        {
          "output_type": "stream",
          "name": "stdout",
          "text": [
            "      Name   Age      City\n",
            "0    Alice  25.0  New York\n",
            "1      Bob   NaN     Paris\n",
            "2  Charlie  35.0    Berlin\n"
          ]
        }
      ]
    },
    {
      "cell_type": "code",
      "source": [
        "# 결측치 확인\n",
        "# isnull => null이 아니면 false\n",
        "#        => null 이면 True\n",
        "\n",
        "print(df['Age'].isnull())"
      ],
      "metadata": {
        "colab": {
          "base_uri": "https://localhost:8080/"
        },
        "id": "_epmtOWLC-uT",
        "outputId": "2731d2ae-5dbe-4f50-fcd9-5c5d74618c49"
      },
      "execution_count": 66,
      "outputs": [
        {
          "output_type": "stream",
          "name": "stdout",
          "text": [
            "0    False\n",
            "1     True\n",
            "2    False\n",
            "Name: Age, dtype: bool\n"
          ]
        }
      ]
    },
    {
      "cell_type": "markdown",
      "source": [
        "# 메서드"
      ],
      "metadata": {
        "id": "hDwSuwMKHyFu"
      }
    },
    {
      "cell_type": "code",
      "source": [
        "# 일반적인 메서드\n",
        "\n",
        "##시리즈!!! 에서만 작동 가능한 메서드\n",
        "# sum() : 시리즈 내 모든 값의 합계\n",
        "# mean() : 시리즈 값의 평균 계산\n",
        "# value_counts() : 시리즈 내 각 값 빈도 계산"
      ],
      "metadata": {
        "id": "-srsWsOHH0VT"
      },
      "execution_count": null,
      "outputs": []
    },
    {
      "cell_type": "code",
      "source": [
        "#Series 메서드 활용"
      ],
      "metadata": {
        "id": "o8se1x7xIRZq"
      },
      "execution_count": null,
      "outputs": []
    },
    {
      "cell_type": "code",
      "source": [
        "import pandas as pd\n",
        "\n",
        "# Series 생성\n",
        "data = pd.Series([10, 20, 20, 30, 40])\n",
        "\n",
        "# sum(), mean(), value_counts() 사용 예시\n",
        "print(\"Sum:\", data.sum())           # 합계\n",
        "print(\"Mean:\", data.mean())         # 평균\n",
        "print(\"Value Counts:\\n\", data.value_counts())  # 빈도 계산"
      ],
      "metadata": {
        "colab": {
          "base_uri": "https://localhost:8080/"
        },
        "id": "K8OavqiXILQA",
        "outputId": "099d0bbc-4c65-4c15-8b48-9d93ade74049"
      },
      "execution_count": 69,
      "outputs": [
        {
          "output_type": "stream",
          "name": "stdout",
          "text": [
            "Sum: 120\n",
            "Mean: 24.0\n",
            "Value Counts:\n",
            " 20    2\n",
            "10    1\n",
            "30    1\n",
            "40    1\n",
            "dtype: int64\n"
          ]
        }
      ]
    },
    {
      "cell_type": "code",
      "source": [
        "import pandas as pd\n",
        "\n",
        "# Series 생성\n",
        "data = pd.Series([10, 15, 20, 25, 30])\n",
        "\n",
        "# 다양한 메서드 활용\n",
        "print(\"Minimum:\", data.min())          # 최소값\n",
        "print(\"Maximum:\", data.max())          # 최대값\n",
        "print(\"Standard Deviation:\", data.std())  # 표준편차(분산의 루트값)\n",
        "print(\"Variance:\", data.var())          # 분산\n",
        "print(\"Number of Unique Values:\", data.nunique())  # 고유값 개수\n",
        "\n",
        "# 데이터프레임 요약\n",
        "df = pd.DataFrame({\n",
        "    'Age': [25, 30, 35, 40, 45],\n",
        "    'Salary': [50000, 55000, 60000, 65000, 70000]\n",
        "})\n",
        "print(\"\\nDataFrame Summary:\\n\", df.describe())\n",
        "print(\"\\nDataFrame Info:\")\n",
        "df.info()"
      ],
      "metadata": {
        "colab": {
          "base_uri": "https://localhost:8080/"
        },
        "id": "uBtSC9LQIyDa",
        "outputId": "1ef5e64d-3ddf-460b-ff14-1ee2e8e9060d"
      },
      "execution_count": 70,
      "outputs": [
        {
          "output_type": "stream",
          "name": "stdout",
          "text": [
            "Minimum: 10\n",
            "Maximum: 30\n",
            "Standard Deviation: 7.905694150420948\n",
            "Variance: 62.5\n",
            "Number of Unique Values: 5\n",
            "\n",
            "DataFrame Summary:\n",
            "              Age       Salary\n",
            "count   5.000000      5.00000\n",
            "mean   35.000000  60000.00000\n",
            "std     7.905694   7905.69415\n",
            "min    25.000000  50000.00000\n",
            "25%    30.000000  55000.00000\n",
            "50%    35.000000  60000.00000\n",
            "75%    40.000000  65000.00000\n",
            "max    45.000000  70000.00000\n",
            "\n",
            "DataFrame Info:\n",
            "<class 'pandas.core.frame.DataFrame'>\n",
            "RangeIndex: 5 entries, 0 to 4\n",
            "Data columns (total 2 columns):\n",
            " #   Column  Non-Null Count  Dtype\n",
            "---  ------  --------------  -----\n",
            " 0   Age     5 non-null      int64\n",
            " 1   Salary  5 non-null      int64\n",
            "dtypes: int64(2)\n",
            "memory usage: 208.0 bytes\n"
          ]
        }
      ]
    },
    {
      "cell_type": "code",
      "source": [
        "# 실습!\n",
        "test = pd.read_csv(\"/content/sample_data/california_housing_train.csv\")\n",
        "test\n",
        "# 데이터프레임의 'housing_median_age' 열을 Series로 변환하고 숫자형으로 변환\n",
        "test_series = test['housing_median_age']"
      ],
      "metadata": {
        "id": "S2Ozx22lKJ32"
      },
      "execution_count": 73,
      "outputs": []
    },
    {
      "cell_type": "code",
      "source": [
        "print(test_series)"
      ],
      "metadata": {
        "colab": {
          "base_uri": "https://localhost:8080/"
        },
        "id": "71d3IbaEKjTq",
        "outputId": "64369289-70ac-44b8-fde2-679496c27771"
      },
      "execution_count": 74,
      "outputs": [
        {
          "output_type": "stream",
          "name": "stdout",
          "text": [
            "0        15.0\n",
            "1        19.0\n",
            "2        17.0\n",
            "3        14.0\n",
            "4        20.0\n",
            "         ... \n",
            "16995    52.0\n",
            "16996    36.0\n",
            "16997    17.0\n",
            "16998    19.0\n",
            "16999    52.0\n",
            "Name: housing_median_age, Length: 17000, dtype: float64\n"
          ]
        }
      ]
    },
    {
      "cell_type": "code",
      "source": [
        "# 시리즈에 있는 값을 불러온다\n",
        "# 불린 연산이 가능\n",
        "# 조건부 연산 중요!!!!!\n",
        "high_age = test_series > 17.0\n",
        "print(\"High age:\\n\", high_age.head())"
      ],
      "metadata": {
        "colab": {
          "base_uri": "https://localhost:8080/"
        },
        "id": "lxQItub7LPMu",
        "outputId": "457244ef-d43b-4a4e-b1d3-c567b8924e32"
      },
      "execution_count": 77,
      "outputs": [
        {
          "output_type": "stream",
          "name": "stdout",
          "text": [
            "High age:\n",
            " 0    False\n",
            "1     True\n",
            "2    False\n",
            "3    False\n",
            "4     True\n",
            "Name: housing_median_age, dtype: bool\n"
          ]
        }
      ]
    },
    {
      "cell_type": "code",
      "source": [
        "# 조건을 만족하는 것만 출력\n",
        "filtered_series = test_series[high_age]\n",
        "print(\"Filtered Series:\\n\", filtered_series.head())"
      ],
      "metadata": {
        "colab": {
          "base_uri": "https://localhost:8080/"
        },
        "id": "xvW3Iac4LqYt",
        "outputId": "585386cd-7529-434d-cfc3-b7061a882240"
      },
      "execution_count": 78,
      "outputs": [
        {
          "output_type": "stream",
          "name": "stdout",
          "text": [
            "Filtered Series:\n",
            " 1    19.0\n",
            "4    20.0\n",
            "5    29.0\n",
            "6    25.0\n",
            "7    41.0\n",
            "Name: housing_median_age, dtype: float64\n"
          ]
        }
      ]
    },
    {
      "cell_type": "code",
      "source": [
        "import pandas as pd\n",
        "\n",
        "df = pd.DataFrame({\n",
        "    'A': [1, 2, 3],\n",
        "    'B': [4, 5, 6],\n",
        "    'C': [7, 8, 9]\n",
        "})\n",
        "\n",
        "# 열 이름 변경\n",
        "# columns({변경전 : 변경후, 변경전, 변경후})\n",
        "df = df.rename(columns={'A': 'X', 'B': 'Y', 'C': 'Z'})\n",
        "print(df)"
      ],
      "metadata": {
        "colab": {
          "base_uri": "https://localhost:8080/"
        },
        "id": "joBw9mRgMoS8",
        "outputId": "7c62a53e-878e-4b52-ff62-a6b2c1c56caa"
      },
      "execution_count": 79,
      "outputs": [
        {
          "output_type": "stream",
          "name": "stdout",
          "text": [
            "   X  Y  Z\n",
            "0  1  4  7\n",
            "1  2  5  8\n",
            "2  3  6  9\n"
          ]
        }
      ]
    },
    {
      "cell_type": "code",
      "source": [
        "df = pd.DataFrame({\n",
        "    'A': [1, 2, 3],\n",
        "    'B': [4, 5, 6],\n",
        "    'C': [7, 8, 9]\n",
        "})\n",
        "\n",
        "#모든 열 이름 변경\n",
        "df.columns = ['x', 'y', 'z']\n",
        "print(df)"
      ],
      "metadata": {
        "colab": {
          "base_uri": "https://localhost:8080/"
        },
        "id": "o2HFI9EnNBHZ",
        "outputId": "d627f098-be1c-4774-e7a2-d794d0c41652"
      },
      "execution_count": 80,
      "outputs": [
        {
          "output_type": "stream",
          "name": "stdout",
          "text": [
            "   x  y  z\n",
            "0  1  4  7\n",
            "1  2  5  8\n",
            "2  3  6  9\n"
          ]
        }
      ]
    },
    {
      "cell_type": "code",
      "source": [
        "import pandas as pd\n",
        "\n",
        "df = pd.DataFrame({\n",
        "    'Name': ['Alice', 'Bob', 'Charlie'],\n",
        "    'Age': [25, 30, 35]\n",
        "})\n",
        "\n",
        "#'Salary'라는 새 열 추가\n",
        "# 이건 많이 사용하지 않음\n",
        "# concat / join 으로 데이터 결합\n",
        "df['Salary'] = [50000, 60000, 70000]\n",
        "print(df)"
      ],
      "metadata": {
        "colab": {
          "base_uri": "https://localhost:8080/"
        },
        "id": "4MlOl12nNfzs",
        "outputId": "de6c8eae-b3fe-4543-a361-9127f7c2d27f"
      },
      "execution_count": 81,
      "outputs": [
        {
          "output_type": "stream",
          "name": "stdout",
          "text": [
            "      Name  Age  Salary\n",
            "0    Alice   25   50000\n",
            "1      Bob   30   60000\n",
            "2  Charlie   35   70000\n"
          ]
        }
      ]
    },
    {
      "cell_type": "code",
      "source": [
        "#'Age' 열 삭제\n",
        "# 중요함\n",
        "# drop을 사용하는 이유:\n",
        "# 1. ram 효율 증대 -> 처음만 import -> 작업시 필요한 변수만 활용\n",
        "# 2. 머신러닝/ 딥러닝 - >\n",
        "df = df.drop('Age', axis=1)\n",
        "print(df)"
      ],
      "metadata": {
        "colab": {
          "base_uri": "https://localhost:8080/"
        },
        "id": "1lmco77wNiUZ",
        "outputId": "13e59801-9022-425f-f547-958d0c557e61"
      },
      "execution_count": 82,
      "outputs": [
        {
          "output_type": "stream",
          "name": "stdout",
          "text": [
            "      Name  Salary\n",
            "0    Alice   50000\n",
            "1      Bob   60000\n",
            "2  Charlie   70000\n"
          ]
        }
      ]
    },
    {
      "cell_type": "code",
      "source": [
        "import pandas as pd\n",
        "\n",
        "#Sample DataFrames\n",
        "df1 = pd.DataFrame({'A': [1, 2], 'B': [3, 4]})\n",
        "df2 = pd.DataFrame({'A': [5, 6], 'B': [7, 8]})\n",
        "\n",
        "#가로로 연결 (열 방향)\n",
        "result = pd.concat([df1, df2], axis=1)\n",
        "\n",
        "print(df1)\n",
        "print(df2)\n",
        "print(result)"
      ],
      "metadata": {
        "colab": {
          "base_uri": "https://localhost:8080/"
        },
        "id": "1cfMWjf-PPLE",
        "outputId": "35604703-60df-41de-9290-617bc1bcbfea"
      },
      "execution_count": 87,
      "outputs": [
        {
          "output_type": "stream",
          "name": "stdout",
          "text": [
            "   A  B\n",
            "0  1  3\n",
            "1  2  4\n",
            "   A  B\n",
            "0  5  7\n",
            "1  6  8\n",
            "   A  B  A  B\n",
            "0  1  3  5  7\n",
            "1  2  4  6  8\n"
          ]
        }
      ]
    },
    {
      "cell_type": "code",
      "source": [
        "import pandas as pd\n",
        "\n",
        "# Sample DataFrames with different column names\n",
        "df1 = pd.DataFrame({'A': [1, 2], 'B': [3, 4]})\n",
        "df2 = pd.DataFrame({'X': [5, 6], 'Y': [7, 8]})\n",
        "\n",
        "# 가로로 연결 (열 방향) - 열 이름 다름\n",
        "result = pd.concat([df1, df2], axis=1, ignore_index=True)\n",
        "\n",
        "print(df1)\n",
        "print(df2)\n",
        "print(result)"
      ],
      "metadata": {
        "colab": {
          "base_uri": "https://localhost:8080/"
        },
        "id": "0IpHt1kIPRiR",
        "outputId": "de78bc6e-2422-403a-84fb-2f4cbc1c423f"
      },
      "execution_count": 86,
      "outputs": [
        {
          "output_type": "stream",
          "name": "stdout",
          "text": [
            "   A  B\n",
            "0  1  3\n",
            "1  2  4\n",
            "   X  Y\n",
            "0  5  7\n",
            "1  6  8\n",
            "   0  1  2  3\n",
            "0  1  3  5  7\n",
            "1  2  4  6  8\n"
          ]
        }
      ]
    },
    {
      "cell_type": "code",
      "source": [
        "# 어떨때 사용?\n",
        "# 2023년 1월~ 2024년 1월 : 데이터 있어서 분석했다.\n",
        "# 2024년 2월~ :신규고객데이터, 과거 데이터 붙이기 등 -> 인덱스 재설정으로 계\n",
        "\n",
        "import pandas as pd\n",
        "\n",
        "#Sample DataFrames with different index\n",
        "df1 = pd.DataFrame({'A': [1, 2], 'B': [3, 4]}, index=[0, 1])\n",
        "df2 = pd.DataFrame({'A': [5, 6], 'B': [7, 8]}, index=[2, 3])\n",
        "\n",
        "#세로로 연결 (행 방향) - 인덱스 다름\n",
        "result = pd.concat([df1, df2], ignore_index=True)\n",
        "\n",
        "print(result)"
      ],
      "metadata": {
        "colab": {
          "base_uri": "https://localhost:8080/"
        },
        "id": "_6JuH4k_Qq-M",
        "outputId": "9d5392b4-986b-40f7-f885-be62bb43da45"
      },
      "execution_count": 88,
      "outputs": [
        {
          "output_type": "stream",
          "name": "stdout",
          "text": [
            "   A  B\n",
            "0  1  3\n",
            "1  2  4\n",
            "2  5  7\n",
            "3  6  8\n"
          ]
        }
      ]
    },
    {
      "cell_type": "markdown",
      "source": [
        "![image.png](data:image/png;base64,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)"
      ],
      "metadata": {
        "id": "7P5fanRmSuJu"
      }
    },
    {
      "cell_type": "markdown",
      "source": [
        "# EDA"
      ],
      "metadata": {
        "id": "nsGyiyO4SvDl"
      }
    },
    {
      "cell_type": "code",
      "source": [
        "# 데이터 수집 > 처리정제> 분석> 최적화"
      ],
      "metadata": {
        "id": "FMXw3za0ngtm"
      },
      "execution_count": null,
      "outputs": []
    },
    {
      "cell_type": "code",
      "source": [
        "import pandas as pd\n",
        "dataset = pd.read_csv('/content/The-Big-List-20231127-Reviews-to-4650.csv', encoding='latin1')"
      ],
      "metadata": {
        "id": "DH-mAZOJp4Tz"
      },
      "execution_count": 130,
      "outputs": []
    },
    {
      "cell_type": "code",
      "source": [
        "dataset.head()"
      ],
      "metadata": {
        "colab": {
          "base_uri": "https://localhost:8080/",
          "height": 206
        },
        "id": "_f-aRYi-p7uw",
        "outputId": "a771431e-b60e-4a8d-c5ab-ced1f03d06a0"
      },
      "execution_count": 117,
      "outputs": [
        {
          "output_type": "execute_result",
          "data": {
            "text/plain": [
              "   Review #          Brand                                            Variety  \\\n",
              "0      4650        Jasmine                XXL Bihun Segera Penang White Curry   \n",
              "1      4649        Indomie               Mi Instan Mi Keriting Goreng Spesial   \n",
              "2      4648           MAMA  Oriental Kitchen Dried Instant Noodles Truffle...   \n",
              "3      4647         Ottogi               Jin Jjajang Smoked Black Bean Flavor   \n",
              "4      4646  Samyang Foods                                      Samyand Ramen   \n",
              "\n",
              "  Style        Country Stars   T  \n",
              "0  Pack       Malaysia     5 NaN  \n",
              "1  Pack      Indonesia     5 NaN  \n",
              "2  Pack       Thailand   4.5 NaN  \n",
              "3  Pack  United States   4.5 NaN  \n",
              "4  Pack  United States     5 NaN  "
            ],
            "text/html": [
              "\n",
              "  <div id=\"df-0b11118f-d54b-45f2-865a-e72ae81274b3\" class=\"colab-df-container\">\n",
              "    <div>\n",
              "<style scoped>\n",
              "    .dataframe tbody tr th:only-of-type {\n",
              "        vertical-align: middle;\n",
              "    }\n",
              "\n",
              "    .dataframe tbody tr th {\n",
              "        vertical-align: top;\n",
              "    }\n",
              "\n",
              "    .dataframe thead th {\n",
              "        text-align: right;\n",
              "    }\n",
              "</style>\n",
              "<table border=\"1\" class=\"dataframe\">\n",
              "  <thead>\n",
              "    <tr style=\"text-align: right;\">\n",
              "      <th></th>\n",
              "      <th>Review #</th>\n",
              "      <th>Brand</th>\n",
              "      <th>Variety</th>\n",
              "      <th>Style</th>\n",
              "      <th>Country</th>\n",
              "      <th>Stars</th>\n",
              "      <th>T</th>\n",
              "    </tr>\n",
              "  </thead>\n",
              "  <tbody>\n",
              "    <tr>\n",
              "      <th>0</th>\n",
              "      <td>4650</td>\n",
              "      <td>Jasmine</td>\n",
              "      <td>XXL Bihun Segera Penang White Curry</td>\n",
              "      <td>Pack</td>\n",
              "      <td>Malaysia</td>\n",
              "      <td>5</td>\n",
              "      <td>NaN</td>\n",
              "    </tr>\n",
              "    <tr>\n",
              "      <th>1</th>\n",
              "      <td>4649</td>\n",
              "      <td>Indomie</td>\n",
              "      <td>Mi Instan Mi Keriting Goreng Spesial</td>\n",
              "      <td>Pack</td>\n",
              "      <td>Indonesia</td>\n",
              "      <td>5</td>\n",
              "      <td>NaN</td>\n",
              "    </tr>\n",
              "    <tr>\n",
              "      <th>2</th>\n",
              "      <td>4648</td>\n",
              "      <td>MAMA</td>\n",
              "      <td>Oriental Kitchen Dried Instant Noodles Truffle...</td>\n",
              "      <td>Pack</td>\n",
              "      <td>Thailand</td>\n",
              "      <td>4.5</td>\n",
              "      <td>NaN</td>\n",
              "    </tr>\n",
              "    <tr>\n",
              "      <th>3</th>\n",
              "      <td>4647</td>\n",
              "      <td>Ottogi</td>\n",
              "      <td>Jin Jjajang Smoked Black Bean Flavor</td>\n",
              "      <td>Pack</td>\n",
              "      <td>United States</td>\n",
              "      <td>4.5</td>\n",
              "      <td>NaN</td>\n",
              "    </tr>\n",
              "    <tr>\n",
              "      <th>4</th>\n",
              "      <td>4646</td>\n",
              "      <td>Samyang Foods</td>\n",
              "      <td>Samyand Ramen</td>\n",
              "      <td>Pack</td>\n",
              "      <td>United States</td>\n",
              "      <td>5</td>\n",
              "      <td>NaN</td>\n",
              "    </tr>\n",
              "  </tbody>\n",
              "</table>\n",
              "</div>\n",
              "    <div class=\"colab-df-buttons\">\n",
              "\n",
              "  <div class=\"colab-df-container\">\n",
              "    <button class=\"colab-df-convert\" onclick=\"convertToInteractive('df-0b11118f-d54b-45f2-865a-e72ae81274b3')\"\n",
              "            title=\"Convert this dataframe to an interactive table.\"\n",
              "            style=\"display:none;\">\n",
              "\n",
              "  <svg xmlns=\"http://www.w3.org/2000/svg\" height=\"24px\" viewBox=\"0 -960 960 960\">\n",
              "    <path d=\"M120-120v-720h720v720H120Zm60-500h600v-160H180v160Zm220 220h160v-160H400v160Zm0 220h160v-160H400v160ZM180-400h160v-160H180v160Zm440 0h160v-160H620v160ZM180-180h160v-160H180v160Zm440 0h160v-160H620v160Z\"/>\n",
              "  </svg>\n",
              "    </button>\n",
              "\n",
              "  <style>\n",
              "    .colab-df-container {\n",
              "      display:flex;\n",
              "      gap: 12px;\n",
              "    }\n",
              "\n",
              "    .colab-df-convert {\n",
              "      background-color: #E8F0FE;\n",
              "      border: none;\n",
              "      border-radius: 50%;\n",
              "      cursor: pointer;\n",
              "      display: none;\n",
              "      fill: #1967D2;\n",
              "      height: 32px;\n",
              "      padding: 0 0 0 0;\n",
              "      width: 32px;\n",
              "    }\n",
              "\n",
              "    .colab-df-convert:hover {\n",
              "      background-color: #E2EBFA;\n",
              "      box-shadow: 0px 1px 2px rgba(60, 64, 67, 0.3), 0px 1px 3px 1px rgba(60, 64, 67, 0.15);\n",
              "      fill: #174EA6;\n",
              "    }\n",
              "\n",
              "    .colab-df-buttons div {\n",
              "      margin-bottom: 4px;\n",
              "    }\n",
              "\n",
              "    [theme=dark] .colab-df-convert {\n",
              "      background-color: #3B4455;\n",
              "      fill: #D2E3FC;\n",
              "    }\n",
              "\n",
              "    [theme=dark] .colab-df-convert:hover {\n",
              "      background-color: #434B5C;\n",
              "      box-shadow: 0px 1px 3px 1px rgba(0, 0, 0, 0.15);\n",
              "      filter: drop-shadow(0px 1px 2px rgba(0, 0, 0, 0.3));\n",
              "      fill: #FFFFFF;\n",
              "    }\n",
              "  </style>\n",
              "\n",
              "    <script>\n",
              "      const buttonEl =\n",
              "        document.querySelector('#df-0b11118f-d54b-45f2-865a-e72ae81274b3 button.colab-df-convert');\n",
              "      buttonEl.style.display =\n",
              "        google.colab.kernel.accessAllowed ? 'block' : 'none';\n",
              "\n",
              "      async function convertToInteractive(key) {\n",
              "        const element = document.querySelector('#df-0b11118f-d54b-45f2-865a-e72ae81274b3');\n",
              "        const dataTable =\n",
              "          await google.colab.kernel.invokeFunction('convertToInteractive',\n",
              "                                                    [key], {});\n",
              "        if (!dataTable) return;\n",
              "\n",
              "        const docLinkHtml = 'Like what you see? Visit the ' +\n",
              "          '<a target=\"_blank\" href=https://colab.research.google.com/notebooks/data_table.ipynb>data table notebook</a>'\n",
              "          + ' to learn more about interactive tables.';\n",
              "        element.innerHTML = '';\n",
              "        dataTable['output_type'] = 'display_data';\n",
              "        await google.colab.output.renderOutput(dataTable, element);\n",
              "        const docLink = document.createElement('div');\n",
              "        docLink.innerHTML = docLinkHtml;\n",
              "        element.appendChild(docLink);\n",
              "      }\n",
              "    </script>\n",
              "  </div>\n",
              "\n",
              "\n",
              "<div id=\"df-776f97f9-4085-419a-bf95-75c2785d12ed\">\n",
              "  <button class=\"colab-df-quickchart\" onclick=\"quickchart('df-776f97f9-4085-419a-bf95-75c2785d12ed')\"\n",
              "            title=\"Suggest charts\"\n",
              "            style=\"display:none;\">\n",
              "\n",
              "<svg xmlns=\"http://www.w3.org/2000/svg\" height=\"24px\"viewBox=\"0 0 24 24\"\n",
              "     width=\"24px\">\n",
              "    <g>\n",
              "        <path d=\"M19 3H5c-1.1 0-2 .9-2 2v14c0 1.1.9 2 2 2h14c1.1 0 2-.9 2-2V5c0-1.1-.9-2-2-2zM9 17H7v-7h2v7zm4 0h-2V7h2v10zm4 0h-2v-4h2v4z\"/>\n",
              "    </g>\n",
              "</svg>\n",
              "  </button>\n",
              "\n",
              "<style>\n",
              "  .colab-df-quickchart {\n",
              "      --bg-color: #E8F0FE;\n",
              "      --fill-color: #1967D2;\n",
              "      --hover-bg-color: #E2EBFA;\n",
              "      --hover-fill-color: #174EA6;\n",
              "      --disabled-fill-color: #AAA;\n",
              "      --disabled-bg-color: #DDD;\n",
              "  }\n",
              "\n",
              "  [theme=dark] .colab-df-quickchart {\n",
              "      --bg-color: #3B4455;\n",
              "      --fill-color: #D2E3FC;\n",
              "      --hover-bg-color: #434B5C;\n",
              "      --hover-fill-color: #FFFFFF;\n",
              "      --disabled-bg-color: #3B4455;\n",
              "      --disabled-fill-color: #666;\n",
              "  }\n",
              "\n",
              "  .colab-df-quickchart {\n",
              "    background-color: var(--bg-color);\n",
              "    border: none;\n",
              "    border-radius: 50%;\n",
              "    cursor: pointer;\n",
              "    display: none;\n",
              "    fill: var(--fill-color);\n",
              "    height: 32px;\n",
              "    padding: 0;\n",
              "    width: 32px;\n",
              "  }\n",
              "\n",
              "  .colab-df-quickchart:hover {\n",
              "    background-color: var(--hover-bg-color);\n",
              "    box-shadow: 0 1px 2px rgba(60, 64, 67, 0.3), 0 1px 3px 1px rgba(60, 64, 67, 0.15);\n",
              "    fill: var(--button-hover-fill-color);\n",
              "  }\n",
              "\n",
              "  .colab-df-quickchart-complete:disabled,\n",
              "  .colab-df-quickchart-complete:disabled:hover {\n",
              "    background-color: var(--disabled-bg-color);\n",
              "    fill: var(--disabled-fill-color);\n",
              "    box-shadow: none;\n",
              "  }\n",
              "\n",
              "  .colab-df-spinner {\n",
              "    border: 2px solid var(--fill-color);\n",
              "    border-color: transparent;\n",
              "    border-bottom-color: var(--fill-color);\n",
              "    animation:\n",
              "      spin 1s steps(1) infinite;\n",
              "  }\n",
              "\n",
              "  @keyframes spin {\n",
              "    0% {\n",
              "      border-color: transparent;\n",
              "      border-bottom-color: var(--fill-color);\n",
              "      border-left-color: var(--fill-color);\n",
              "    }\n",
              "    20% {\n",
              "      border-color: transparent;\n",
              "      border-left-color: var(--fill-color);\n",
              "      border-top-color: var(--fill-color);\n",
              "    }\n",
              "    30% {\n",
              "      border-color: transparent;\n",
              "      border-left-color: var(--fill-color);\n",
              "      border-top-color: var(--fill-color);\n",
              "      border-right-color: var(--fill-color);\n",
              "    }\n",
              "    40% {\n",
              "      border-color: transparent;\n",
              "      border-right-color: var(--fill-color);\n",
              "      border-top-color: var(--fill-color);\n",
              "    }\n",
              "    60% {\n",
              "      border-color: transparent;\n",
              "      border-right-color: var(--fill-color);\n",
              "    }\n",
              "    80% {\n",
              "      border-color: transparent;\n",
              "      border-right-color: var(--fill-color);\n",
              "      border-bottom-color: var(--fill-color);\n",
              "    }\n",
              "    90% {\n",
              "      border-color: transparent;\n",
              "      border-bottom-color: var(--fill-color);\n",
              "    }\n",
              "  }\n",
              "</style>\n",
              "\n",
              "  <script>\n",
              "    async function quickchart(key) {\n",
              "      const quickchartButtonEl =\n",
              "        document.querySelector('#' + key + ' button');\n",
              "      quickchartButtonEl.disabled = true;  // To prevent multiple clicks.\n",
              "      quickchartButtonEl.classList.add('colab-df-spinner');\n",
              "      try {\n",
              "        const charts = await google.colab.kernel.invokeFunction(\n",
              "            'suggestCharts', [key], {});\n",
              "      } catch (error) {\n",
              "        console.error('Error during call to suggestCharts:', error);\n",
              "      }\n",
              "      quickchartButtonEl.classList.remove('colab-df-spinner');\n",
              "      quickchartButtonEl.classList.add('colab-df-quickchart-complete');\n",
              "    }\n",
              "    (() => {\n",
              "      let quickchartButtonEl =\n",
              "        document.querySelector('#df-776f97f9-4085-419a-bf95-75c2785d12ed button');\n",
              "      quickchartButtonEl.style.display =\n",
              "        google.colab.kernel.accessAllowed ? 'block' : 'none';\n",
              "    })();\n",
              "  </script>\n",
              "</div>\n",
              "\n",
              "    </div>\n",
              "  </div>\n"
            ]
          },
          "metadata": {},
          "execution_count": 117
        }
      ]
    },
    {
      "cell_type": "code",
      "source": [
        "dataset.describe()"
      ],
      "metadata": {
        "colab": {
          "base_uri": "https://localhost:8080/",
          "height": 300
        },
        "id": "EvbT7qdhqBiE",
        "outputId": "d5f9079a-6442-41e2-86bf-7326a4224381"
      },
      "execution_count": 118,
      "outputs": [
        {
          "output_type": "execute_result",
          "data": {
            "text/plain": [
              "          Review #    T\n",
              "count  4650.000000  0.0\n",
              "mean   2325.500000  NaN\n",
              "std    1342.483706  NaN\n",
              "min       1.000000  NaN\n",
              "25%    1163.250000  NaN\n",
              "50%    2325.500000  NaN\n",
              "75%    3487.750000  NaN\n",
              "max    4650.000000  NaN"
            ],
            "text/html": [
              "\n",
              "  <div id=\"df-1c63f7e8-5db6-4770-94a1-bac818d245bb\" class=\"colab-df-container\">\n",
              "    <div>\n",
              "<style scoped>\n",
              "    .dataframe tbody tr th:only-of-type {\n",
              "        vertical-align: middle;\n",
              "    }\n",
              "\n",
              "    .dataframe tbody tr th {\n",
              "        vertical-align: top;\n",
              "    }\n",
              "\n",
              "    .dataframe thead th {\n",
              "        text-align: right;\n",
              "    }\n",
              "</style>\n",
              "<table border=\"1\" class=\"dataframe\">\n",
              "  <thead>\n",
              "    <tr style=\"text-align: right;\">\n",
              "      <th></th>\n",
              "      <th>Review #</th>\n",
              "      <th>T</th>\n",
              "    </tr>\n",
              "  </thead>\n",
              "  <tbody>\n",
              "    <tr>\n",
              "      <th>count</th>\n",
              "      <td>4650.000000</td>\n",
              "      <td>0.0</td>\n",
              "    </tr>\n",
              "    <tr>\n",
              "      <th>mean</th>\n",
              "      <td>2325.500000</td>\n",
              "      <td>NaN</td>\n",
              "    </tr>\n",
              "    <tr>\n",
              "      <th>std</th>\n",
              "      <td>1342.483706</td>\n",
              "      <td>NaN</td>\n",
              "    </tr>\n",
              "    <tr>\n",
              "      <th>min</th>\n",
              "      <td>1.000000</td>\n",
              "      <td>NaN</td>\n",
              "    </tr>\n",
              "    <tr>\n",
              "      <th>25%</th>\n",
              "      <td>1163.250000</td>\n",
              "      <td>NaN</td>\n",
              "    </tr>\n",
              "    <tr>\n",
              "      <th>50%</th>\n",
              "      <td>2325.500000</td>\n",
              "      <td>NaN</td>\n",
              "    </tr>\n",
              "    <tr>\n",
              "      <th>75%</th>\n",
              "      <td>3487.750000</td>\n",
              "      <td>NaN</td>\n",
              "    </tr>\n",
              "    <tr>\n",
              "      <th>max</th>\n",
              "      <td>4650.000000</td>\n",
              "      <td>NaN</td>\n",
              "    </tr>\n",
              "  </tbody>\n",
              "</table>\n",
              "</div>\n",
              "    <div class=\"colab-df-buttons\">\n",
              "\n",
              "  <div class=\"colab-df-container\">\n",
              "    <button class=\"colab-df-convert\" onclick=\"convertToInteractive('df-1c63f7e8-5db6-4770-94a1-bac818d245bb')\"\n",
              "            title=\"Convert this dataframe to an interactive table.\"\n",
              "            style=\"display:none;\">\n",
              "\n",
              "  <svg xmlns=\"http://www.w3.org/2000/svg\" height=\"24px\" viewBox=\"0 -960 960 960\">\n",
              "    <path d=\"M120-120v-720h720v720H120Zm60-500h600v-160H180v160Zm220 220h160v-160H400v160Zm0 220h160v-160H400v160ZM180-400h160v-160H180v160Zm440 0h160v-160H620v160ZM180-180h160v-160H180v160Zm440 0h160v-160H620v160Z\"/>\n",
              "  </svg>\n",
              "    </button>\n",
              "\n",
              "  <style>\n",
              "    .colab-df-container {\n",
              "      display:flex;\n",
              "      gap: 12px;\n",
              "    }\n",
              "\n",
              "    .colab-df-convert {\n",
              "      background-color: #E8F0FE;\n",
              "      border: none;\n",
              "      border-radius: 50%;\n",
              "      cursor: pointer;\n",
              "      display: none;\n",
              "      fill: #1967D2;\n",
              "      height: 32px;\n",
              "      padding: 0 0 0 0;\n",
              "      width: 32px;\n",
              "    }\n",
              "\n",
              "    .colab-df-convert:hover {\n",
              "      background-color: #E2EBFA;\n",
              "      box-shadow: 0px 1px 2px rgba(60, 64, 67, 0.3), 0px 1px 3px 1px rgba(60, 64, 67, 0.15);\n",
              "      fill: #174EA6;\n",
              "    }\n",
              "\n",
              "    .colab-df-buttons div {\n",
              "      margin-bottom: 4px;\n",
              "    }\n",
              "\n",
              "    [theme=dark] .colab-df-convert {\n",
              "      background-color: #3B4455;\n",
              "      fill: #D2E3FC;\n",
              "    }\n",
              "\n",
              "    [theme=dark] .colab-df-convert:hover {\n",
              "      background-color: #434B5C;\n",
              "      box-shadow: 0px 1px 3px 1px rgba(0, 0, 0, 0.15);\n",
              "      filter: drop-shadow(0px 1px 2px rgba(0, 0, 0, 0.3));\n",
              "      fill: #FFFFFF;\n",
              "    }\n",
              "  </style>\n",
              "\n",
              "    <script>\n",
              "      const buttonEl =\n",
              "        document.querySelector('#df-1c63f7e8-5db6-4770-94a1-bac818d245bb button.colab-df-convert');\n",
              "      buttonEl.style.display =\n",
              "        google.colab.kernel.accessAllowed ? 'block' : 'none';\n",
              "\n",
              "      async function convertToInteractive(key) {\n",
              "        const element = document.querySelector('#df-1c63f7e8-5db6-4770-94a1-bac818d245bb');\n",
              "        const dataTable =\n",
              "          await google.colab.kernel.invokeFunction('convertToInteractive',\n",
              "                                                    [key], {});\n",
              "        if (!dataTable) return;\n",
              "\n",
              "        const docLinkHtml = 'Like what you see? Visit the ' +\n",
              "          '<a target=\"_blank\" href=https://colab.research.google.com/notebooks/data_table.ipynb>data table notebook</a>'\n",
              "          + ' to learn more about interactive tables.';\n",
              "        element.innerHTML = '';\n",
              "        dataTable['output_type'] = 'display_data';\n",
              "        await google.colab.output.renderOutput(dataTable, element);\n",
              "        const docLink = document.createElement('div');\n",
              "        docLink.innerHTML = docLinkHtml;\n",
              "        element.appendChild(docLink);\n",
              "      }\n",
              "    </script>\n",
              "  </div>\n",
              "\n",
              "\n",
              "<div id=\"df-870c62d0-6e05-4d17-b31f-b1951c911b89\">\n",
              "  <button class=\"colab-df-quickchart\" onclick=\"quickchart('df-870c62d0-6e05-4d17-b31f-b1951c911b89')\"\n",
              "            title=\"Suggest charts\"\n",
              "            style=\"display:none;\">\n",
              "\n",
              "<svg xmlns=\"http://www.w3.org/2000/svg\" height=\"24px\"viewBox=\"0 0 24 24\"\n",
              "     width=\"24px\">\n",
              "    <g>\n",
              "        <path d=\"M19 3H5c-1.1 0-2 .9-2 2v14c0 1.1.9 2 2 2h14c1.1 0 2-.9 2-2V5c0-1.1-.9-2-2-2zM9 17H7v-7h2v7zm4 0h-2V7h2v10zm4 0h-2v-4h2v4z\"/>\n",
              "    </g>\n",
              "</svg>\n",
              "  </button>\n",
              "\n",
              "<style>\n",
              "  .colab-df-quickchart {\n",
              "      --bg-color: #E8F0FE;\n",
              "      --fill-color: #1967D2;\n",
              "      --hover-bg-color: #E2EBFA;\n",
              "      --hover-fill-color: #174EA6;\n",
              "      --disabled-fill-color: #AAA;\n",
              "      --disabled-bg-color: #DDD;\n",
              "  }\n",
              "\n",
              "  [theme=dark] .colab-df-quickchart {\n",
              "      --bg-color: #3B4455;\n",
              "      --fill-color: #D2E3FC;\n",
              "      --hover-bg-color: #434B5C;\n",
              "      --hover-fill-color: #FFFFFF;\n",
              "      --disabled-bg-color: #3B4455;\n",
              "      --disabled-fill-color: #666;\n",
              "  }\n",
              "\n",
              "  .colab-df-quickchart {\n",
              "    background-color: var(--bg-color);\n",
              "    border: none;\n",
              "    border-radius: 50%;\n",
              "    cursor: pointer;\n",
              "    display: none;\n",
              "    fill: var(--fill-color);\n",
              "    height: 32px;\n",
              "    padding: 0;\n",
              "    width: 32px;\n",
              "  }\n",
              "\n",
              "  .colab-df-quickchart:hover {\n",
              "    background-color: var(--hover-bg-color);\n",
              "    box-shadow: 0 1px 2px rgba(60, 64, 67, 0.3), 0 1px 3px 1px rgba(60, 64, 67, 0.15);\n",
              "    fill: var(--button-hover-fill-color);\n",
              "  }\n",
              "\n",
              "  .colab-df-quickchart-complete:disabled,\n",
              "  .colab-df-quickchart-complete:disabled:hover {\n",
              "    background-color: var(--disabled-bg-color);\n",
              "    fill: var(--disabled-fill-color);\n",
              "    box-shadow: none;\n",
              "  }\n",
              "\n",
              "  .colab-df-spinner {\n",
              "    border: 2px solid var(--fill-color);\n",
              "    border-color: transparent;\n",
              "    border-bottom-color: var(--fill-color);\n",
              "    animation:\n",
              "      spin 1s steps(1) infinite;\n",
              "  }\n",
              "\n",
              "  @keyframes spin {\n",
              "    0% {\n",
              "      border-color: transparent;\n",
              "      border-bottom-color: var(--fill-color);\n",
              "      border-left-color: var(--fill-color);\n",
              "    }\n",
              "    20% {\n",
              "      border-color: transparent;\n",
              "      border-left-color: var(--fill-color);\n",
              "      border-top-color: var(--fill-color);\n",
              "    }\n",
              "    30% {\n",
              "      border-color: transparent;\n",
              "      border-left-color: var(--fill-color);\n",
              "      border-top-color: var(--fill-color);\n",
              "      border-right-color: var(--fill-color);\n",
              "    }\n",
              "    40% {\n",
              "      border-color: transparent;\n",
              "      border-right-color: var(--fill-color);\n",
              "      border-top-color: var(--fill-color);\n",
              "    }\n",
              "    60% {\n",
              "      border-color: transparent;\n",
              "      border-right-color: var(--fill-color);\n",
              "    }\n",
              "    80% {\n",
              "      border-color: transparent;\n",
              "      border-right-color: var(--fill-color);\n",
              "      border-bottom-color: var(--fill-color);\n",
              "    }\n",
              "    90% {\n",
              "      border-color: transparent;\n",
              "      border-bottom-color: var(--fill-color);\n",
              "    }\n",
              "  }\n",
              "</style>\n",
              "\n",
              "  <script>\n",
              "    async function quickchart(key) {\n",
              "      const quickchartButtonEl =\n",
              "        document.querySelector('#' + key + ' button');\n",
              "      quickchartButtonEl.disabled = true;  // To prevent multiple clicks.\n",
              "      quickchartButtonEl.classList.add('colab-df-spinner');\n",
              "      try {\n",
              "        const charts = await google.colab.kernel.invokeFunction(\n",
              "            'suggestCharts', [key], {});\n",
              "      } catch (error) {\n",
              "        console.error('Error during call to suggestCharts:', error);\n",
              "      }\n",
              "      quickchartButtonEl.classList.remove('colab-df-spinner');\n",
              "      quickchartButtonEl.classList.add('colab-df-quickchart-complete');\n",
              "    }\n",
              "    (() => {\n",
              "      let quickchartButtonEl =\n",
              "        document.querySelector('#df-870c62d0-6e05-4d17-b31f-b1951c911b89 button');\n",
              "      quickchartButtonEl.style.display =\n",
              "        google.colab.kernel.accessAllowed ? 'block' : 'none';\n",
              "    })();\n",
              "  </script>\n",
              "</div>\n",
              "\n",
              "    </div>\n",
              "  </div>\n"
            ]
          },
          "metadata": {},
          "execution_count": 118
        }
      ]
    },
    {
      "cell_type": "code",
      "source": [
        "dataset.info()"
      ],
      "metadata": {
        "colab": {
          "base_uri": "https://localhost:8080/"
        },
        "id": "GznfqxmvqFwd",
        "outputId": "81d3003b-f988-4aaf-a576-d53184818485"
      },
      "execution_count": 119,
      "outputs": [
        {
          "output_type": "stream",
          "name": "stdout",
          "text": [
            "<class 'pandas.core.frame.DataFrame'>\n",
            "RangeIndex: 4650 entries, 0 to 4649\n",
            "Data columns (total 7 columns):\n",
            " #   Column    Non-Null Count  Dtype  \n",
            "---  ------    --------------  -----  \n",
            " 0   Review #  4650 non-null   int64  \n",
            " 1   Brand     4650 non-null   object \n",
            " 2   Variety   4650 non-null   object \n",
            " 3   Style     4650 non-null   object \n",
            " 4   Country   4650 non-null   object \n",
            " 5   Stars     4648 non-null   object \n",
            " 6   T         0 non-null      float64\n",
            "dtypes: float64(1), int64(1), object(5)\n",
            "memory usage: 254.4+ KB\n"
          ]
        }
      ]
    },
    {
      "cell_type": "code",
      "source": [
        "print(dataset['Brand'].value_counts())"
      ],
      "metadata": {
        "colab": {
          "base_uri": "https://localhost:8080/"
        },
        "id": "5pW5v37RqR6Q",
        "outputId": "8436e57f-4137-4b50-a597-ca309fb02dec"
      },
      "execution_count": 120,
      "outputs": [
        {
          "output_type": "stream",
          "name": "stdout",
          "text": [
            "Nissin             567\n",
            "Maruchan           182\n",
            "Myojo              152\n",
            "Nongshim           136\n",
            "Samyang Foods      122\n",
            "                  ... \n",
            "Kiseki Foods         1\n",
            "Xiuhe                1\n",
            "Dr. McDougall's      1\n",
            "Hi-Lai Foods         1\n",
            "Westbrae             1\n",
            "Name: Brand, Length: 698, dtype: int64\n"
          ]
        }
      ]
    },
    {
      "cell_type": "code",
      "source": [
        "# 고유값 확인 => 중복되지 않는값\n",
        "dataset.nunique()"
      ],
      "metadata": {
        "colab": {
          "base_uri": "https://localhost:8080/"
        },
        "id": "bYcxM9StqiGP",
        "outputId": "143e8d43-7070-4ecb-8ca7-cdfaedcfb032"
      },
      "execution_count": 121,
      "outputs": [
        {
          "output_type": "execute_result",
          "data": {
            "text/plain": [
              "Review #    4650\n",
              "Brand        698\n",
              "Variety     4325\n",
              "Style         10\n",
              "Country       54\n",
              "Stars         53\n",
              "T              0\n",
              "dtype: int64"
            ]
          },
          "metadata": {},
          "execution_count": 121
        }
      ]
    },
    {
      "cell_type": "code",
      "source": [
        "# 총 데이터셋 4650개, 7개의 컬럼"
      ],
      "metadata": {
        "id": "dVy13pTSq5Q4"
      },
      "execution_count": null,
      "outputs": []
    },
    {
      "cell_type": "code",
      "source": [
        "# 결측치 제거\n",
        "# True = 1 False = 0\n",
        "print(dataset.isnull().sum()) # null의 갯수가 sum됨"
      ],
      "metadata": {
        "colab": {
          "base_uri": "https://localhost:8080/"
        },
        "id": "Ntg-RUPqrAau",
        "outputId": "cc2f1cca-12e1-4ac1-e432-b63d1bc327c7"
      },
      "execution_count": 122,
      "outputs": [
        {
          "output_type": "stream",
          "name": "stdout",
          "text": [
            "Review #       0\n",
            "Brand          0\n",
            "Variety        0\n",
            "Style          0\n",
            "Country        0\n",
            "Stars          2\n",
            "T           4650\n",
            "dtype: int64\n"
          ]
        }
      ]
    },
    {
      "cell_type": "code",
      "source": [
        "dataset"
      ],
      "metadata": {
        "colab": {
          "base_uri": "https://localhost:8080/",
          "height": 528
        },
        "id": "r3pVsIDdsN8Y",
        "outputId": "e77988e5-164e-43b2-ebd5-6148af844177"
      },
      "execution_count": 134,
      "outputs": [
        {
          "output_type": "execute_result",
          "data": {
            "text/plain": [
              "      Review #          Brand  \\\n",
              "0         4650        Jasmine   \n",
              "1         4649        Indomie   \n",
              "2         4648           MAMA   \n",
              "3         4647         Ottogi   \n",
              "4         4646  Samyang Foods   \n",
              "...        ...            ...   \n",
              "4645         5          Vifon   \n",
              "4646         4        Wai Wai   \n",
              "4647         3        Wai Wai   \n",
              "4648         2        Wai Wai   \n",
              "4649         1       Westbrae   \n",
              "\n",
              "                                                Variety Style        Country  \\\n",
              "0                   XXL Bihun Segera Penang White Curry  Pack       Malaysia   \n",
              "1                  Mi Instan Mi Keriting Goreng Spesial  Pack      Indonesia   \n",
              "2     Oriental Kitchen Dried Instant Noodles Truffle...  Pack       Thailand   \n",
              "3                  Jin Jjajang Smoked Black Bean Flavor  Pack  United States   \n",
              "4                                         Samyand Ramen  Pack  United States   \n",
              "...                                                 ...   ...            ...   \n",
              "4645  Hu Tiu Nam Vang [\"Phnom Penh\" style] Asian Sty...  Bowl        Vietnam   \n",
              "4646                     Oriental Style Instant Noodles  Pack       Thailand   \n",
              "4647                                     Tom Yum Shrimp  Pack       Thailand   \n",
              "4648                               Tom Yum Chili Flavor  Pack       Thailand   \n",
              "4649                                         Miso Ramen  Pack  United States   \n",
              "\n",
              "     Stars   T  \n",
              "0        5 NaN  \n",
              "1        5 NaN  \n",
              "2      4.5 NaN  \n",
              "3      4.5 NaN  \n",
              "4        5 NaN  \n",
              "...    ...  ..  \n",
              "4645   3.5 NaN  \n",
              "4646     1 NaN  \n",
              "4647     2 NaN  \n",
              "4648     2 NaN  \n",
              "4649   0.5 NaN  \n",
              "\n",
              "[4650 rows x 7 columns]"
            ],
            "text/html": [
              "\n",
              "  <div id=\"df-be6ff06c-6435-4396-b1cd-cbb80971b175\" class=\"colab-df-container\">\n",
              "    <div>\n",
              "<style scoped>\n",
              "    .dataframe tbody tr th:only-of-type {\n",
              "        vertical-align: middle;\n",
              "    }\n",
              "\n",
              "    .dataframe tbody tr th {\n",
              "        vertical-align: top;\n",
              "    }\n",
              "\n",
              "    .dataframe thead th {\n",
              "        text-align: right;\n",
              "    }\n",
              "</style>\n",
              "<table border=\"1\" class=\"dataframe\">\n",
              "  <thead>\n",
              "    <tr style=\"text-align: right;\">\n",
              "      <th></th>\n",
              "      <th>Review #</th>\n",
              "      <th>Brand</th>\n",
              "      <th>Variety</th>\n",
              "      <th>Style</th>\n",
              "      <th>Country</th>\n",
              "      <th>Stars</th>\n",
              "      <th>T</th>\n",
              "    </tr>\n",
              "  </thead>\n",
              "  <tbody>\n",
              "    <tr>\n",
              "      <th>0</th>\n",
              "      <td>4650</td>\n",
              "      <td>Jasmine</td>\n",
              "      <td>XXL Bihun Segera Penang White Curry</td>\n",
              "      <td>Pack</td>\n",
              "      <td>Malaysia</td>\n",
              "      <td>5</td>\n",
              "      <td>NaN</td>\n",
              "    </tr>\n",
              "    <tr>\n",
              "      <th>1</th>\n",
              "      <td>4649</td>\n",
              "      <td>Indomie</td>\n",
              "      <td>Mi Instan Mi Keriting Goreng Spesial</td>\n",
              "      <td>Pack</td>\n",
              "      <td>Indonesia</td>\n",
              "      <td>5</td>\n",
              "      <td>NaN</td>\n",
              "    </tr>\n",
              "    <tr>\n",
              "      <th>2</th>\n",
              "      <td>4648</td>\n",
              "      <td>MAMA</td>\n",
              "      <td>Oriental Kitchen Dried Instant Noodles Truffle...</td>\n",
              "      <td>Pack</td>\n",
              "      <td>Thailand</td>\n",
              "      <td>4.5</td>\n",
              "      <td>NaN</td>\n",
              "    </tr>\n",
              "    <tr>\n",
              "      <th>3</th>\n",
              "      <td>4647</td>\n",
              "      <td>Ottogi</td>\n",
              "      <td>Jin Jjajang Smoked Black Bean Flavor</td>\n",
              "      <td>Pack</td>\n",
              "      <td>United States</td>\n",
              "      <td>4.5</td>\n",
              "      <td>NaN</td>\n",
              "    </tr>\n",
              "    <tr>\n",
              "      <th>4</th>\n",
              "      <td>4646</td>\n",
              "      <td>Samyang Foods</td>\n",
              "      <td>Samyand Ramen</td>\n",
              "      <td>Pack</td>\n",
              "      <td>United States</td>\n",
              "      <td>5</td>\n",
              "      <td>NaN</td>\n",
              "    </tr>\n",
              "    <tr>\n",
              "      <th>...</th>\n",
              "      <td>...</td>\n",
              "      <td>...</td>\n",
              "      <td>...</td>\n",
              "      <td>...</td>\n",
              "      <td>...</td>\n",
              "      <td>...</td>\n",
              "      <td>...</td>\n",
              "    </tr>\n",
              "    <tr>\n",
              "      <th>4645</th>\n",
              "      <td>5</td>\n",
              "      <td>Vifon</td>\n",
              "      <td>Hu Tiu Nam Vang [\"Phnom Penh\" style] Asian Sty...</td>\n",
              "      <td>Bowl</td>\n",
              "      <td>Vietnam</td>\n",
              "      <td>3.5</td>\n",
              "      <td>NaN</td>\n",
              "    </tr>\n",
              "    <tr>\n",
              "      <th>4646</th>\n",
              "      <td>4</td>\n",
              "      <td>Wai Wai</td>\n",
              "      <td>Oriental Style Instant Noodles</td>\n",
              "      <td>Pack</td>\n",
              "      <td>Thailand</td>\n",
              "      <td>1</td>\n",
              "      <td>NaN</td>\n",
              "    </tr>\n",
              "    <tr>\n",
              "      <th>4647</th>\n",
              "      <td>3</td>\n",
              "      <td>Wai Wai</td>\n",
              "      <td>Tom Yum Shrimp</td>\n",
              "      <td>Pack</td>\n",
              "      <td>Thailand</td>\n",
              "      <td>2</td>\n",
              "      <td>NaN</td>\n",
              "    </tr>\n",
              "    <tr>\n",
              "      <th>4648</th>\n",
              "      <td>2</td>\n",
              "      <td>Wai Wai</td>\n",
              "      <td>Tom Yum Chili Flavor</td>\n",
              "      <td>Pack</td>\n",
              "      <td>Thailand</td>\n",
              "      <td>2</td>\n",
              "      <td>NaN</td>\n",
              "    </tr>\n",
              "    <tr>\n",
              "      <th>4649</th>\n",
              "      <td>1</td>\n",
              "      <td>Westbrae</td>\n",
              "      <td>Miso Ramen</td>\n",
              "      <td>Pack</td>\n",
              "      <td>United States</td>\n",
              "      <td>0.5</td>\n",
              "      <td>NaN</td>\n",
              "    </tr>\n",
              "  </tbody>\n",
              "</table>\n",
              "<p>4650 rows × 7 columns</p>\n",
              "</div>\n",
              "    <div class=\"colab-df-buttons\">\n",
              "\n",
              "  <div class=\"colab-df-container\">\n",
              "    <button class=\"colab-df-convert\" onclick=\"convertToInteractive('df-be6ff06c-6435-4396-b1cd-cbb80971b175')\"\n",
              "            title=\"Convert this dataframe to an interactive table.\"\n",
              "            style=\"display:none;\">\n",
              "\n",
              "  <svg xmlns=\"http://www.w3.org/2000/svg\" height=\"24px\" viewBox=\"0 -960 960 960\">\n",
              "    <path d=\"M120-120v-720h720v720H120Zm60-500h600v-160H180v160Zm220 220h160v-160H400v160Zm0 220h160v-160H400v160ZM180-400h160v-160H180v160Zm440 0h160v-160H620v160ZM180-180h160v-160H180v160Zm440 0h160v-160H620v160Z\"/>\n",
              "  </svg>\n",
              "    </button>\n",
              "\n",
              "  <style>\n",
              "    .colab-df-container {\n",
              "      display:flex;\n",
              "      gap: 12px;\n",
              "    }\n",
              "\n",
              "    .colab-df-convert {\n",
              "      background-color: #E8F0FE;\n",
              "      border: none;\n",
              "      border-radius: 50%;\n",
              "      cursor: pointer;\n",
              "      display: none;\n",
              "      fill: #1967D2;\n",
              "      height: 32px;\n",
              "      padding: 0 0 0 0;\n",
              "      width: 32px;\n",
              "    }\n",
              "\n",
              "    .colab-df-convert:hover {\n",
              "      background-color: #E2EBFA;\n",
              "      box-shadow: 0px 1px 2px rgba(60, 64, 67, 0.3), 0px 1px 3px 1px rgba(60, 64, 67, 0.15);\n",
              "      fill: #174EA6;\n",
              "    }\n",
              "\n",
              "    .colab-df-buttons div {\n",
              "      margin-bottom: 4px;\n",
              "    }\n",
              "\n",
              "    [theme=dark] .colab-df-convert {\n",
              "      background-color: #3B4455;\n",
              "      fill: #D2E3FC;\n",
              "    }\n",
              "\n",
              "    [theme=dark] .colab-df-convert:hover {\n",
              "      background-color: #434B5C;\n",
              "      box-shadow: 0px 1px 3px 1px rgba(0, 0, 0, 0.15);\n",
              "      filter: drop-shadow(0px 1px 2px rgba(0, 0, 0, 0.3));\n",
              "      fill: #FFFFFF;\n",
              "    }\n",
              "  </style>\n",
              "\n",
              "    <script>\n",
              "      const buttonEl =\n",
              "        document.querySelector('#df-be6ff06c-6435-4396-b1cd-cbb80971b175 button.colab-df-convert');\n",
              "      buttonEl.style.display =\n",
              "        google.colab.kernel.accessAllowed ? 'block' : 'none';\n",
              "\n",
              "      async function convertToInteractive(key) {\n",
              "        const element = document.querySelector('#df-be6ff06c-6435-4396-b1cd-cbb80971b175');\n",
              "        const dataTable =\n",
              "          await google.colab.kernel.invokeFunction('convertToInteractive',\n",
              "                                                    [key], {});\n",
              "        if (!dataTable) return;\n",
              "\n",
              "        const docLinkHtml = 'Like what you see? Visit the ' +\n",
              "          '<a target=\"_blank\" href=https://colab.research.google.com/notebooks/data_table.ipynb>data table notebook</a>'\n",
              "          + ' to learn more about interactive tables.';\n",
              "        element.innerHTML = '';\n",
              "        dataTable['output_type'] = 'display_data';\n",
              "        await google.colab.output.renderOutput(dataTable, element);\n",
              "        const docLink = document.createElement('div');\n",
              "        docLink.innerHTML = docLinkHtml;\n",
              "        element.appendChild(docLink);\n",
              "      }\n",
              "    </script>\n",
              "  </div>\n",
              "\n",
              "\n",
              "<div id=\"df-37b43fc4-74f6-4c9c-b39d-64401b803c66\">\n",
              "  <button class=\"colab-df-quickchart\" onclick=\"quickchart('df-37b43fc4-74f6-4c9c-b39d-64401b803c66')\"\n",
              "            title=\"Suggest charts\"\n",
              "            style=\"display:none;\">\n",
              "\n",
              "<svg xmlns=\"http://www.w3.org/2000/svg\" height=\"24px\"viewBox=\"0 0 24 24\"\n",
              "     width=\"24px\">\n",
              "    <g>\n",
              "        <path d=\"M19 3H5c-1.1 0-2 .9-2 2v14c0 1.1.9 2 2 2h14c1.1 0 2-.9 2-2V5c0-1.1-.9-2-2-2zM9 17H7v-7h2v7zm4 0h-2V7h2v10zm4 0h-2v-4h2v4z\"/>\n",
              "    </g>\n",
              "</svg>\n",
              "  </button>\n",
              "\n",
              "<style>\n",
              "  .colab-df-quickchart {\n",
              "      --bg-color: #E8F0FE;\n",
              "      --fill-color: #1967D2;\n",
              "      --hover-bg-color: #E2EBFA;\n",
              "      --hover-fill-color: #174EA6;\n",
              "      --disabled-fill-color: #AAA;\n",
              "      --disabled-bg-color: #DDD;\n",
              "  }\n",
              "\n",
              "  [theme=dark] .colab-df-quickchart {\n",
              "      --bg-color: #3B4455;\n",
              "      --fill-color: #D2E3FC;\n",
              "      --hover-bg-color: #434B5C;\n",
              "      --hover-fill-color: #FFFFFF;\n",
              "      --disabled-bg-color: #3B4455;\n",
              "      --disabled-fill-color: #666;\n",
              "  }\n",
              "\n",
              "  .colab-df-quickchart {\n",
              "    background-color: var(--bg-color);\n",
              "    border: none;\n",
              "    border-radius: 50%;\n",
              "    cursor: pointer;\n",
              "    display: none;\n",
              "    fill: var(--fill-color);\n",
              "    height: 32px;\n",
              "    padding: 0;\n",
              "    width: 32px;\n",
              "  }\n",
              "\n",
              "  .colab-df-quickchart:hover {\n",
              "    background-color: var(--hover-bg-color);\n",
              "    box-shadow: 0 1px 2px rgba(60, 64, 67, 0.3), 0 1px 3px 1px rgba(60, 64, 67, 0.15);\n",
              "    fill: var(--button-hover-fill-color);\n",
              "  }\n",
              "\n",
              "  .colab-df-quickchart-complete:disabled,\n",
              "  .colab-df-quickchart-complete:disabled:hover {\n",
              "    background-color: var(--disabled-bg-color);\n",
              "    fill: var(--disabled-fill-color);\n",
              "    box-shadow: none;\n",
              "  }\n",
              "\n",
              "  .colab-df-spinner {\n",
              "    border: 2px solid var(--fill-color);\n",
              "    border-color: transparent;\n",
              "    border-bottom-color: var(--fill-color);\n",
              "    animation:\n",
              "      spin 1s steps(1) infinite;\n",
              "  }\n",
              "\n",
              "  @keyframes spin {\n",
              "    0% {\n",
              "      border-color: transparent;\n",
              "      border-bottom-color: var(--fill-color);\n",
              "      border-left-color: var(--fill-color);\n",
              "    }\n",
              "    20% {\n",
              "      border-color: transparent;\n",
              "      border-left-color: var(--fill-color);\n",
              "      border-top-color: var(--fill-color);\n",
              "    }\n",
              "    30% {\n",
              "      border-color: transparent;\n",
              "      border-left-color: var(--fill-color);\n",
              "      border-top-color: var(--fill-color);\n",
              "      border-right-color: var(--fill-color);\n",
              "    }\n",
              "    40% {\n",
              "      border-color: transparent;\n",
              "      border-right-color: var(--fill-color);\n",
              "      border-top-color: var(--fill-color);\n",
              "    }\n",
              "    60% {\n",
              "      border-color: transparent;\n",
              "      border-right-color: var(--fill-color);\n",
              "    }\n",
              "    80% {\n",
              "      border-color: transparent;\n",
              "      border-right-color: var(--fill-color);\n",
              "      border-bottom-color: var(--fill-color);\n",
              "    }\n",
              "    90% {\n",
              "      border-color: transparent;\n",
              "      border-bottom-color: var(--fill-color);\n",
              "    }\n",
              "  }\n",
              "</style>\n",
              "\n",
              "  <script>\n",
              "    async function quickchart(key) {\n",
              "      const quickchartButtonEl =\n",
              "        document.querySelector('#' + key + ' button');\n",
              "      quickchartButtonEl.disabled = true;  // To prevent multiple clicks.\n",
              "      quickchartButtonEl.classList.add('colab-df-spinner');\n",
              "      try {\n",
              "        const charts = await google.colab.kernel.invokeFunction(\n",
              "            'suggestCharts', [key], {});\n",
              "      } catch (error) {\n",
              "        console.error('Error during call to suggestCharts:', error);\n",
              "      }\n",
              "      quickchartButtonEl.classList.remove('colab-df-spinner');\n",
              "      quickchartButtonEl.classList.add('colab-df-quickchart-complete');\n",
              "    }\n",
              "    (() => {\n",
              "      let quickchartButtonEl =\n",
              "        document.querySelector('#df-37b43fc4-74f6-4c9c-b39d-64401b803c66 button');\n",
              "      quickchartButtonEl.style.display =\n",
              "        google.colab.kernel.accessAllowed ? 'block' : 'none';\n",
              "    })();\n",
              "  </script>\n",
              "</div>\n",
              "\n",
              "  <div id=\"id_183d5226-f7ba-481d-9d36-82b7e7cc8612\">\n",
              "    <style>\n",
              "      .colab-df-generate {\n",
              "        background-color: #E8F0FE;\n",
              "        border: none;\n",
              "        border-radius: 50%;\n",
              "        cursor: pointer;\n",
              "        display: none;\n",
              "        fill: #1967D2;\n",
              "        height: 32px;\n",
              "        padding: 0 0 0 0;\n",
              "        width: 32px;\n",
              "      }\n",
              "\n",
              "      .colab-df-generate:hover {\n",
              "        background-color: #E2EBFA;\n",
              "        box-shadow: 0px 1px 2px rgba(60, 64, 67, 0.3), 0px 1px 3px 1px rgba(60, 64, 67, 0.15);\n",
              "        fill: #174EA6;\n",
              "      }\n",
              "\n",
              "      [theme=dark] .colab-df-generate {\n",
              "        background-color: #3B4455;\n",
              "        fill: #D2E3FC;\n",
              "      }\n",
              "\n",
              "      [theme=dark] .colab-df-generate:hover {\n",
              "        background-color: #434B5C;\n",
              "        box-shadow: 0px 1px 3px 1px rgba(0, 0, 0, 0.15);\n",
              "        filter: drop-shadow(0px 1px 2px rgba(0, 0, 0, 0.3));\n",
              "        fill: #FFFFFF;\n",
              "      }\n",
              "    </style>\n",
              "    <button class=\"colab-df-generate\" onclick=\"generateWithVariable('dataset')\"\n",
              "            title=\"Generate code using this dataframe.\"\n",
              "            style=\"display:none;\">\n",
              "\n",
              "  <svg xmlns=\"http://www.w3.org/2000/svg\" height=\"24px\"viewBox=\"0 0 24 24\"\n",
              "       width=\"24px\">\n",
              "    <path d=\"M7,19H8.4L18.45,9,17,7.55,7,17.6ZM5,21V16.75L18.45,3.32a2,2,0,0,1,2.83,0l1.4,1.43a1.91,1.91,0,0,1,.58,1.4,1.91,1.91,0,0,1-.58,1.4L9.25,21ZM18.45,9,17,7.55Zm-12,3A5.31,5.31,0,0,0,4.9,8.1,5.31,5.31,0,0,0,1,6.5,5.31,5.31,0,0,0,4.9,4.9,5.31,5.31,0,0,0,6.5,1,5.31,5.31,0,0,0,8.1,4.9,5.31,5.31,0,0,0,12,6.5,5.46,5.46,0,0,0,6.5,12Z\"/>\n",
              "  </svg>\n",
              "    </button>\n",
              "    <script>\n",
              "      (() => {\n",
              "      const buttonEl =\n",
              "        document.querySelector('#id_183d5226-f7ba-481d-9d36-82b7e7cc8612 button.colab-df-generate');\n",
              "      buttonEl.style.display =\n",
              "        google.colab.kernel.accessAllowed ? 'block' : 'none';\n",
              "\n",
              "      buttonEl.onclick = () => {\n",
              "        google.colab.notebook.generateWithVariable('dataset');\n",
              "      }\n",
              "      })();\n",
              "    </script>\n",
              "  </div>\n",
              "\n",
              "    </div>\n",
              "  </div>\n"
            ]
          },
          "metadata": {},
          "execution_count": 134
        }
      ]
    },
    {
      "cell_type": "code",
      "source": [
        "dataset = dataset.drop('T', axis = 1) # T행 제거"
      ],
      "metadata": {
        "id": "u29fqVZTrUqd"
      },
      "execution_count": 139,
      "outputs": []
    },
    {
      "cell_type": "code",
      "source": [
        "dataset"
      ],
      "metadata": {
        "colab": {
          "base_uri": "https://localhost:8080/",
          "height": 89
        },
        "id": "x9bACoszrYqn",
        "outputId": "828b850b-81d2-42b0-b54b-6eceee2af33e"
      },
      "execution_count": 129,
      "outputs": [
        {
          "output_type": "execute_result",
          "data": {
            "text/plain": [
              "Empty DataFrame\n",
              "Columns: [Review #, Brand, Variety, Style, Country, Stars, T]\n",
              "Index: []"
            ],
            "text/html": [
              "\n",
              "  <div id=\"df-2c2cfe82-5e3e-4dd9-b1f3-e3d7b9681401\" class=\"colab-df-container\">\n",
              "    <div>\n",
              "<style scoped>\n",
              "    .dataframe tbody tr th:only-of-type {\n",
              "        vertical-align: middle;\n",
              "    }\n",
              "\n",
              "    .dataframe tbody tr th {\n",
              "        vertical-align: top;\n",
              "    }\n",
              "\n",
              "    .dataframe thead th {\n",
              "        text-align: right;\n",
              "    }\n",
              "</style>\n",
              "<table border=\"1\" class=\"dataframe\">\n",
              "  <thead>\n",
              "    <tr style=\"text-align: right;\">\n",
              "      <th></th>\n",
              "      <th>Review #</th>\n",
              "      <th>Brand</th>\n",
              "      <th>Variety</th>\n",
              "      <th>Style</th>\n",
              "      <th>Country</th>\n",
              "      <th>Stars</th>\n",
              "      <th>T</th>\n",
              "    </tr>\n",
              "  </thead>\n",
              "  <tbody>\n",
              "  </tbody>\n",
              "</table>\n",
              "</div>\n",
              "    <div class=\"colab-df-buttons\">\n",
              "\n",
              "  <div class=\"colab-df-container\">\n",
              "    <button class=\"colab-df-convert\" onclick=\"convertToInteractive('df-2c2cfe82-5e3e-4dd9-b1f3-e3d7b9681401')\"\n",
              "            title=\"Convert this dataframe to an interactive table.\"\n",
              "            style=\"display:none;\">\n",
              "\n",
              "  <svg xmlns=\"http://www.w3.org/2000/svg\" height=\"24px\" viewBox=\"0 -960 960 960\">\n",
              "    <path d=\"M120-120v-720h720v720H120Zm60-500h600v-160H180v160Zm220 220h160v-160H400v160Zm0 220h160v-160H400v160ZM180-400h160v-160H180v160Zm440 0h160v-160H620v160ZM180-180h160v-160H180v160Zm440 0h160v-160H620v160Z\"/>\n",
              "  </svg>\n",
              "    </button>\n",
              "\n",
              "  <style>\n",
              "    .colab-df-container {\n",
              "      display:flex;\n",
              "      gap: 12px;\n",
              "    }\n",
              "\n",
              "    .colab-df-convert {\n",
              "      background-color: #E8F0FE;\n",
              "      border: none;\n",
              "      border-radius: 50%;\n",
              "      cursor: pointer;\n",
              "      display: none;\n",
              "      fill: #1967D2;\n",
              "      height: 32px;\n",
              "      padding: 0 0 0 0;\n",
              "      width: 32px;\n",
              "    }\n",
              "\n",
              "    .colab-df-convert:hover {\n",
              "      background-color: #E2EBFA;\n",
              "      box-shadow: 0px 1px 2px rgba(60, 64, 67, 0.3), 0px 1px 3px 1px rgba(60, 64, 67, 0.15);\n",
              "      fill: #174EA6;\n",
              "    }\n",
              "\n",
              "    .colab-df-buttons div {\n",
              "      margin-bottom: 4px;\n",
              "    }\n",
              "\n",
              "    [theme=dark] .colab-df-convert {\n",
              "      background-color: #3B4455;\n",
              "      fill: #D2E3FC;\n",
              "    }\n",
              "\n",
              "    [theme=dark] .colab-df-convert:hover {\n",
              "      background-color: #434B5C;\n",
              "      box-shadow: 0px 1px 3px 1px rgba(0, 0, 0, 0.15);\n",
              "      filter: drop-shadow(0px 1px 2px rgba(0, 0, 0, 0.3));\n",
              "      fill: #FFFFFF;\n",
              "    }\n",
              "  </style>\n",
              "\n",
              "    <script>\n",
              "      const buttonEl =\n",
              "        document.querySelector('#df-2c2cfe82-5e3e-4dd9-b1f3-e3d7b9681401 button.colab-df-convert');\n",
              "      buttonEl.style.display =\n",
              "        google.colab.kernel.accessAllowed ? 'block' : 'none';\n",
              "\n",
              "      async function convertToInteractive(key) {\n",
              "        const element = document.querySelector('#df-2c2cfe82-5e3e-4dd9-b1f3-e3d7b9681401');\n",
              "        const dataTable =\n",
              "          await google.colab.kernel.invokeFunction('convertToInteractive',\n",
              "                                                    [key], {});\n",
              "        if (!dataTable) return;\n",
              "\n",
              "        const docLinkHtml = 'Like what you see? Visit the ' +\n",
              "          '<a target=\"_blank\" href=https://colab.research.google.com/notebooks/data_table.ipynb>data table notebook</a>'\n",
              "          + ' to learn more about interactive tables.';\n",
              "        element.innerHTML = '';\n",
              "        dataTable['output_type'] = 'display_data';\n",
              "        await google.colab.output.renderOutput(dataTable, element);\n",
              "        const docLink = document.createElement('div');\n",
              "        docLink.innerHTML = docLinkHtml;\n",
              "        element.appendChild(docLink);\n",
              "      }\n",
              "    </script>\n",
              "  </div>\n",
              "\n",
              "\n",
              "  <div id=\"id_4674b1ad-056b-4089-9aa9-4cb8bc35c53b\">\n",
              "    <style>\n",
              "      .colab-df-generate {\n",
              "        background-color: #E8F0FE;\n",
              "        border: none;\n",
              "        border-radius: 50%;\n",
              "        cursor: pointer;\n",
              "        display: none;\n",
              "        fill: #1967D2;\n",
              "        height: 32px;\n",
              "        padding: 0 0 0 0;\n",
              "        width: 32px;\n",
              "      }\n",
              "\n",
              "      .colab-df-generate:hover {\n",
              "        background-color: #E2EBFA;\n",
              "        box-shadow: 0px 1px 2px rgba(60, 64, 67, 0.3), 0px 1px 3px 1px rgba(60, 64, 67, 0.15);\n",
              "        fill: #174EA6;\n",
              "      }\n",
              "\n",
              "      [theme=dark] .colab-df-generate {\n",
              "        background-color: #3B4455;\n",
              "        fill: #D2E3FC;\n",
              "      }\n",
              "\n",
              "      [theme=dark] .colab-df-generate:hover {\n",
              "        background-color: #434B5C;\n",
              "        box-shadow: 0px 1px 3px 1px rgba(0, 0, 0, 0.15);\n",
              "        filter: drop-shadow(0px 1px 2px rgba(0, 0, 0, 0.3));\n",
              "        fill: #FFFFFF;\n",
              "      }\n",
              "    </style>\n",
              "    <button class=\"colab-df-generate\" onclick=\"generateWithVariable('dataset')\"\n",
              "            title=\"Generate code using this dataframe.\"\n",
              "            style=\"display:none;\">\n",
              "\n",
              "  <svg xmlns=\"http://www.w3.org/2000/svg\" height=\"24px\"viewBox=\"0 0 24 24\"\n",
              "       width=\"24px\">\n",
              "    <path d=\"M7,19H8.4L18.45,9,17,7.55,7,17.6ZM5,21V16.75L18.45,3.32a2,2,0,0,1,2.83,0l1.4,1.43a1.91,1.91,0,0,1,.58,1.4,1.91,1.91,0,0,1-.58,1.4L9.25,21ZM18.45,9,17,7.55Zm-12,3A5.31,5.31,0,0,0,4.9,8.1,5.31,5.31,0,0,0,1,6.5,5.31,5.31,0,0,0,4.9,4.9,5.31,5.31,0,0,0,6.5,1,5.31,5.31,0,0,0,8.1,4.9,5.31,5.31,0,0,0,12,6.5,5.46,5.46,0,0,0,6.5,12Z\"/>\n",
              "  </svg>\n",
              "    </button>\n",
              "    <script>\n",
              "      (() => {\n",
              "      const buttonEl =\n",
              "        document.querySelector('#id_4674b1ad-056b-4089-9aa9-4cb8bc35c53b button.colab-df-generate');\n",
              "      buttonEl.style.display =\n",
              "        google.colab.kernel.accessAllowed ? 'block' : 'none';\n",
              "\n",
              "      buttonEl.onclick = () => {\n",
              "        google.colab.notebook.generateWithVariable('dataset');\n",
              "      }\n",
              "      })();\n",
              "    </script>\n",
              "  </div>\n",
              "\n",
              "    </div>\n",
              "  </div>\n"
            ]
          },
          "metadata": {},
          "execution_count": 129
        }
      ]
    },
    {
      "cell_type": "code",
      "source": [
        "dataset = dataset.dropna() #t행제거후 다시 할당"
      ],
      "metadata": {
        "id": "M9JcqfC9sV_N"
      },
      "execution_count": 141,
      "outputs": []
    },
    {
      "cell_type": "code",
      "source": [
        "dataset.info() # 확인작업"
      ],
      "metadata": {
        "colab": {
          "base_uri": "https://localhost:8080/"
        },
        "id": "xJFQeN5BsXoC",
        "outputId": "0513695a-ee53-4c40-972a-7edbf5fe8731"
      },
      "execution_count": 142,
      "outputs": [
        {
          "output_type": "stream",
          "name": "stdout",
          "text": [
            "<class 'pandas.core.frame.DataFrame'>\n",
            "Int64Index: 4648 entries, 0 to 4649\n",
            "Data columns (total 6 columns):\n",
            " #   Column    Non-Null Count  Dtype \n",
            "---  ------    --------------  ----- \n",
            " 0   Review #  4648 non-null   int64 \n",
            " 1   Brand     4648 non-null   object\n",
            " 2   Variety   4648 non-null   object\n",
            " 3   Style     4648 non-null   object\n",
            " 4   Country   4648 non-null   object\n",
            " 5   Stars     4648 non-null   object\n",
            "dtypes: int64(1), object(5)\n",
            "memory usage: 254.2+ KB\n"
          ]
        }
      ]
    },
    {
      "cell_type": "code",
      "source": [
        "# Stars 컬럼의 비숫자값을 NaN으로 변환\n",
        "dataset['Stars'] = pd.to_numeric(dataset['Stars'], errors = 'coerce') # 별점 평점\n",
        "dataset = dataset.dropna(subset = ['Stars'])"
      ],
      "metadata": {
        "colab": {
          "base_uri": "https://localhost:8080/"
        },
        "id": "mTvItWMLs32S",
        "outputId": "97a97530-cb3e-4946-9aa5-d9423cb051e7"
      },
      "execution_count": 153,
      "outputs": [
        {
          "output_type": "stream",
          "name": "stderr",
          "text": [
            "<ipython-input-153-26e81fd92ea6>:2: SettingWithCopyWarning: \n",
            "A value is trying to be set on a copy of a slice from a DataFrame.\n",
            "Try using .loc[row_indexer,col_indexer] = value instead\n",
            "\n",
            "See the caveats in the documentation: https://pandas.pydata.org/pandas-docs/stable/user_guide/indexing.html#returning-a-view-versus-a-copy\n",
            "  dataset['Stars'] = pd.to_numeric(dataset['Stars'], errors = 'coerce') # 별점 평점\n"
          ]
        }
      ]
    },
    {
      "cell_type": "code",
      "source": [
        "dataset.describe()"
      ],
      "metadata": {
        "colab": {
          "base_uri": "https://localhost:8080/",
          "height": 300
        },
        "id": "oTWVb2_VtH1Z",
        "outputId": "eb500860-31de-4cd0-d4c6-44d80f539d62"
      },
      "execution_count": 144,
      "outputs": [
        {
          "output_type": "execute_result",
          "data": {
            "text/plain": [
              "          Review #        Stars\n",
              "count  4648.000000  4635.000000\n",
              "mean   2324.620267     3.840982\n",
              "std    1342.096800     6.440785\n",
              "min       1.000000     0.000000\n",
              "25%    1162.750000     3.500000\n",
              "50%    2324.500000     3.750000\n",
              "75%    3486.250000     4.500000\n",
              "max    4650.000000   435.000000"
            ],
            "text/html": [
              "\n",
              "  <div id=\"df-16905d05-9c83-459b-9124-13cdc242e5ae\" class=\"colab-df-container\">\n",
              "    <div>\n",
              "<style scoped>\n",
              "    .dataframe tbody tr th:only-of-type {\n",
              "        vertical-align: middle;\n",
              "    }\n",
              "\n",
              "    .dataframe tbody tr th {\n",
              "        vertical-align: top;\n",
              "    }\n",
              "\n",
              "    .dataframe thead th {\n",
              "        text-align: right;\n",
              "    }\n",
              "</style>\n",
              "<table border=\"1\" class=\"dataframe\">\n",
              "  <thead>\n",
              "    <tr style=\"text-align: right;\">\n",
              "      <th></th>\n",
              "      <th>Review #</th>\n",
              "      <th>Stars</th>\n",
              "    </tr>\n",
              "  </thead>\n",
              "  <tbody>\n",
              "    <tr>\n",
              "      <th>count</th>\n",
              "      <td>4648.000000</td>\n",
              "      <td>4635.000000</td>\n",
              "    </tr>\n",
              "    <tr>\n",
              "      <th>mean</th>\n",
              "      <td>2324.620267</td>\n",
              "      <td>3.840982</td>\n",
              "    </tr>\n",
              "    <tr>\n",
              "      <th>std</th>\n",
              "      <td>1342.096800</td>\n",
              "      <td>6.440785</td>\n",
              "    </tr>\n",
              "    <tr>\n",
              "      <th>min</th>\n",
              "      <td>1.000000</td>\n",
              "      <td>0.000000</td>\n",
              "    </tr>\n",
              "    <tr>\n",
              "      <th>25%</th>\n",
              "      <td>1162.750000</td>\n",
              "      <td>3.500000</td>\n",
              "    </tr>\n",
              "    <tr>\n",
              "      <th>50%</th>\n",
              "      <td>2324.500000</td>\n",
              "      <td>3.750000</td>\n",
              "    </tr>\n",
              "    <tr>\n",
              "      <th>75%</th>\n",
              "      <td>3486.250000</td>\n",
              "      <td>4.500000</td>\n",
              "    </tr>\n",
              "    <tr>\n",
              "      <th>max</th>\n",
              "      <td>4650.000000</td>\n",
              "      <td>435.000000</td>\n",
              "    </tr>\n",
              "  </tbody>\n",
              "</table>\n",
              "</div>\n",
              "    <div class=\"colab-df-buttons\">\n",
              "\n",
              "  <div class=\"colab-df-container\">\n",
              "    <button class=\"colab-df-convert\" onclick=\"convertToInteractive('df-16905d05-9c83-459b-9124-13cdc242e5ae')\"\n",
              "            title=\"Convert this dataframe to an interactive table.\"\n",
              "            style=\"display:none;\">\n",
              "\n",
              "  <svg xmlns=\"http://www.w3.org/2000/svg\" height=\"24px\" viewBox=\"0 -960 960 960\">\n",
              "    <path d=\"M120-120v-720h720v720H120Zm60-500h600v-160H180v160Zm220 220h160v-160H400v160Zm0 220h160v-160H400v160ZM180-400h160v-160H180v160Zm440 0h160v-160H620v160ZM180-180h160v-160H180v160Zm440 0h160v-160H620v160Z\"/>\n",
              "  </svg>\n",
              "    </button>\n",
              "\n",
              "  <style>\n",
              "    .colab-df-container {\n",
              "      display:flex;\n",
              "      gap: 12px;\n",
              "    }\n",
              "\n",
              "    .colab-df-convert {\n",
              "      background-color: #E8F0FE;\n",
              "      border: none;\n",
              "      border-radius: 50%;\n",
              "      cursor: pointer;\n",
              "      display: none;\n",
              "      fill: #1967D2;\n",
              "      height: 32px;\n",
              "      padding: 0 0 0 0;\n",
              "      width: 32px;\n",
              "    }\n",
              "\n",
              "    .colab-df-convert:hover {\n",
              "      background-color: #E2EBFA;\n",
              "      box-shadow: 0px 1px 2px rgba(60, 64, 67, 0.3), 0px 1px 3px 1px rgba(60, 64, 67, 0.15);\n",
              "      fill: #174EA6;\n",
              "    }\n",
              "\n",
              "    .colab-df-buttons div {\n",
              "      margin-bottom: 4px;\n",
              "    }\n",
              "\n",
              "    [theme=dark] .colab-df-convert {\n",
              "      background-color: #3B4455;\n",
              "      fill: #D2E3FC;\n",
              "    }\n",
              "\n",
              "    [theme=dark] .colab-df-convert:hover {\n",
              "      background-color: #434B5C;\n",
              "      box-shadow: 0px 1px 3px 1px rgba(0, 0, 0, 0.15);\n",
              "      filter: drop-shadow(0px 1px 2px rgba(0, 0, 0, 0.3));\n",
              "      fill: #FFFFFF;\n",
              "    }\n",
              "  </style>\n",
              "\n",
              "    <script>\n",
              "      const buttonEl =\n",
              "        document.querySelector('#df-16905d05-9c83-459b-9124-13cdc242e5ae button.colab-df-convert');\n",
              "      buttonEl.style.display =\n",
              "        google.colab.kernel.accessAllowed ? 'block' : 'none';\n",
              "\n",
              "      async function convertToInteractive(key) {\n",
              "        const element = document.querySelector('#df-16905d05-9c83-459b-9124-13cdc242e5ae');\n",
              "        const dataTable =\n",
              "          await google.colab.kernel.invokeFunction('convertToInteractive',\n",
              "                                                    [key], {});\n",
              "        if (!dataTable) return;\n",
              "\n",
              "        const docLinkHtml = 'Like what you see? Visit the ' +\n",
              "          '<a target=\"_blank\" href=https://colab.research.google.com/notebooks/data_table.ipynb>data table notebook</a>'\n",
              "          + ' to learn more about interactive tables.';\n",
              "        element.innerHTML = '';\n",
              "        dataTable['output_type'] = 'display_data';\n",
              "        await google.colab.output.renderOutput(dataTable, element);\n",
              "        const docLink = document.createElement('div');\n",
              "        docLink.innerHTML = docLinkHtml;\n",
              "        element.appendChild(docLink);\n",
              "      }\n",
              "    </script>\n",
              "  </div>\n",
              "\n",
              "\n",
              "<div id=\"df-eed488f8-3302-4cdf-b495-5168db65febb\">\n",
              "  <button class=\"colab-df-quickchart\" onclick=\"quickchart('df-eed488f8-3302-4cdf-b495-5168db65febb')\"\n",
              "            title=\"Suggest charts\"\n",
              "            style=\"display:none;\">\n",
              "\n",
              "<svg xmlns=\"http://www.w3.org/2000/svg\" height=\"24px\"viewBox=\"0 0 24 24\"\n",
              "     width=\"24px\">\n",
              "    <g>\n",
              "        <path d=\"M19 3H5c-1.1 0-2 .9-2 2v14c0 1.1.9 2 2 2h14c1.1 0 2-.9 2-2V5c0-1.1-.9-2-2-2zM9 17H7v-7h2v7zm4 0h-2V7h2v10zm4 0h-2v-4h2v4z\"/>\n",
              "    </g>\n",
              "</svg>\n",
              "  </button>\n",
              "\n",
              "<style>\n",
              "  .colab-df-quickchart {\n",
              "      --bg-color: #E8F0FE;\n",
              "      --fill-color: #1967D2;\n",
              "      --hover-bg-color: #E2EBFA;\n",
              "      --hover-fill-color: #174EA6;\n",
              "      --disabled-fill-color: #AAA;\n",
              "      --disabled-bg-color: #DDD;\n",
              "  }\n",
              "\n",
              "  [theme=dark] .colab-df-quickchart {\n",
              "      --bg-color: #3B4455;\n",
              "      --fill-color: #D2E3FC;\n",
              "      --hover-bg-color: #434B5C;\n",
              "      --hover-fill-color: #FFFFFF;\n",
              "      --disabled-bg-color: #3B4455;\n",
              "      --disabled-fill-color: #666;\n",
              "  }\n",
              "\n",
              "  .colab-df-quickchart {\n",
              "    background-color: var(--bg-color);\n",
              "    border: none;\n",
              "    border-radius: 50%;\n",
              "    cursor: pointer;\n",
              "    display: none;\n",
              "    fill: var(--fill-color);\n",
              "    height: 32px;\n",
              "    padding: 0;\n",
              "    width: 32px;\n",
              "  }\n",
              "\n",
              "  .colab-df-quickchart:hover {\n",
              "    background-color: var(--hover-bg-color);\n",
              "    box-shadow: 0 1px 2px rgba(60, 64, 67, 0.3), 0 1px 3px 1px rgba(60, 64, 67, 0.15);\n",
              "    fill: var(--button-hover-fill-color);\n",
              "  }\n",
              "\n",
              "  .colab-df-quickchart-complete:disabled,\n",
              "  .colab-df-quickchart-complete:disabled:hover {\n",
              "    background-color: var(--disabled-bg-color);\n",
              "    fill: var(--disabled-fill-color);\n",
              "    box-shadow: none;\n",
              "  }\n",
              "\n",
              "  .colab-df-spinner {\n",
              "    border: 2px solid var(--fill-color);\n",
              "    border-color: transparent;\n",
              "    border-bottom-color: var(--fill-color);\n",
              "    animation:\n",
              "      spin 1s steps(1) infinite;\n",
              "  }\n",
              "\n",
              "  @keyframes spin {\n",
              "    0% {\n",
              "      border-color: transparent;\n",
              "      border-bottom-color: var(--fill-color);\n",
              "      border-left-color: var(--fill-color);\n",
              "    }\n",
              "    20% {\n",
              "      border-color: transparent;\n",
              "      border-left-color: var(--fill-color);\n",
              "      border-top-color: var(--fill-color);\n",
              "    }\n",
              "    30% {\n",
              "      border-color: transparent;\n",
              "      border-left-color: var(--fill-color);\n",
              "      border-top-color: var(--fill-color);\n",
              "      border-right-color: var(--fill-color);\n",
              "    }\n",
              "    40% {\n",
              "      border-color: transparent;\n",
              "      border-right-color: var(--fill-color);\n",
              "      border-top-color: var(--fill-color);\n",
              "    }\n",
              "    60% {\n",
              "      border-color: transparent;\n",
              "      border-right-color: var(--fill-color);\n",
              "    }\n",
              "    80% {\n",
              "      border-color: transparent;\n",
              "      border-right-color: var(--fill-color);\n",
              "      border-bottom-color: var(--fill-color);\n",
              "    }\n",
              "    90% {\n",
              "      border-color: transparent;\n",
              "      border-bottom-color: var(--fill-color);\n",
              "    }\n",
              "  }\n",
              "</style>\n",
              "\n",
              "  <script>\n",
              "    async function quickchart(key) {\n",
              "      const quickchartButtonEl =\n",
              "        document.querySelector('#' + key + ' button');\n",
              "      quickchartButtonEl.disabled = true;  // To prevent multiple clicks.\n",
              "      quickchartButtonEl.classList.add('colab-df-spinner');\n",
              "      try {\n",
              "        const charts = await google.colab.kernel.invokeFunction(\n",
              "            'suggestCharts', [key], {});\n",
              "      } catch (error) {\n",
              "        console.error('Error during call to suggestCharts:', error);\n",
              "      }\n",
              "      quickchartButtonEl.classList.remove('colab-df-spinner');\n",
              "      quickchartButtonEl.classList.add('colab-df-quickchart-complete');\n",
              "    }\n",
              "    (() => {\n",
              "      let quickchartButtonEl =\n",
              "        document.querySelector('#df-eed488f8-3302-4cdf-b495-5168db65febb button');\n",
              "      quickchartButtonEl.style.display =\n",
              "        google.colab.kernel.accessAllowed ? 'block' : 'none';\n",
              "    })();\n",
              "  </script>\n",
              "</div>\n",
              "\n",
              "    </div>\n",
              "  </div>\n"
            ]
          },
          "metadata": {},
          "execution_count": 144
        }
      ]
    },
    {
      "cell_type": "code",
      "source": [
        "# 중복 데이터 확인 duplicates()\n",
        "duplicates_count = df.duplicated().sum()\n",
        "print(duplicates_count)"
      ],
      "metadata": {
        "colab": {
          "base_uri": "https://localhost:8080/"
        },
        "id": "SMMR1FqYtXxF",
        "outputId": "61b3226b-d03b-48d0-e73b-aaaccd71da4c"
      },
      "execution_count": 146,
      "outputs": [
        {
          "output_type": "stream",
          "name": "stdout",
          "text": [
            "0\n"
          ]
        }
      ]
    },
    {
      "cell_type": "code",
      "source": [
        "dataset"
      ],
      "metadata": {
        "colab": {
          "base_uri": "https://localhost:8080/",
          "height": 424
        },
        "id": "COwrZCf0tuUB",
        "outputId": "b97f0c90-aeeb-405d-f177-f226e870df2a"
      },
      "execution_count": 148,
      "outputs": [
        {
          "output_type": "execute_result",
          "data": {
            "text/plain": [
              "      Review #          Brand  \\\n",
              "0         4650        Jasmine   \n",
              "1         4649        Indomie   \n",
              "2         4648           MAMA   \n",
              "3         4647         Ottogi   \n",
              "4         4646  Samyang Foods   \n",
              "...        ...            ...   \n",
              "4645         5          Vifon   \n",
              "4646         4        Wai Wai   \n",
              "4647         3        Wai Wai   \n",
              "4648         2        Wai Wai   \n",
              "4649         1       Westbrae   \n",
              "\n",
              "                                                Variety Style        Country  \\\n",
              "0                   XXL Bihun Segera Penang White Curry  Pack       Malaysia   \n",
              "1                  Mi Instan Mi Keriting Goreng Spesial  Pack      Indonesia   \n",
              "2     Oriental Kitchen Dried Instant Noodles Truffle...  Pack       Thailand   \n",
              "3                  Jin Jjajang Smoked Black Bean Flavor  Pack  United States   \n",
              "4                                         Samyand Ramen  Pack  United States   \n",
              "...                                                 ...   ...            ...   \n",
              "4645  Hu Tiu Nam Vang [\"Phnom Penh\" style] Asian Sty...  Bowl        Vietnam   \n",
              "4646                     Oriental Style Instant Noodles  Pack       Thailand   \n",
              "4647                                     Tom Yum Shrimp  Pack       Thailand   \n",
              "4648                               Tom Yum Chili Flavor  Pack       Thailand   \n",
              "4649                                         Miso Ramen  Pack  United States   \n",
              "\n",
              "      Stars  \n",
              "0       5.0  \n",
              "1       5.0  \n",
              "2       4.5  \n",
              "3       4.5  \n",
              "4       5.0  \n",
              "...     ...  \n",
              "4645    3.5  \n",
              "4646    1.0  \n",
              "4647    2.0  \n",
              "4648    2.0  \n",
              "4649    0.5  \n",
              "\n",
              "[4648 rows x 6 columns]"
            ],
            "text/html": [
              "\n",
              "  <div id=\"df-63f68128-e681-4feb-9997-9769dce849af\" class=\"colab-df-container\">\n",
              "    <div>\n",
              "<style scoped>\n",
              "    .dataframe tbody tr th:only-of-type {\n",
              "        vertical-align: middle;\n",
              "    }\n",
              "\n",
              "    .dataframe tbody tr th {\n",
              "        vertical-align: top;\n",
              "    }\n",
              "\n",
              "    .dataframe thead th {\n",
              "        text-align: right;\n",
              "    }\n",
              "</style>\n",
              "<table border=\"1\" class=\"dataframe\">\n",
              "  <thead>\n",
              "    <tr style=\"text-align: right;\">\n",
              "      <th></th>\n",
              "      <th>Review #</th>\n",
              "      <th>Brand</th>\n",
              "      <th>Variety</th>\n",
              "      <th>Style</th>\n",
              "      <th>Country</th>\n",
              "      <th>Stars</th>\n",
              "    </tr>\n",
              "  </thead>\n",
              "  <tbody>\n",
              "    <tr>\n",
              "      <th>0</th>\n",
              "      <td>4650</td>\n",
              "      <td>Jasmine</td>\n",
              "      <td>XXL Bihun Segera Penang White Curry</td>\n",
              "      <td>Pack</td>\n",
              "      <td>Malaysia</td>\n",
              "      <td>5.0</td>\n",
              "    </tr>\n",
              "    <tr>\n",
              "      <th>1</th>\n",
              "      <td>4649</td>\n",
              "      <td>Indomie</td>\n",
              "      <td>Mi Instan Mi Keriting Goreng Spesial</td>\n",
              "      <td>Pack</td>\n",
              "      <td>Indonesia</td>\n",
              "      <td>5.0</td>\n",
              "    </tr>\n",
              "    <tr>\n",
              "      <th>2</th>\n",
              "      <td>4648</td>\n",
              "      <td>MAMA</td>\n",
              "      <td>Oriental Kitchen Dried Instant Noodles Truffle...</td>\n",
              "      <td>Pack</td>\n",
              "      <td>Thailand</td>\n",
              "      <td>4.5</td>\n",
              "    </tr>\n",
              "    <tr>\n",
              "      <th>3</th>\n",
              "      <td>4647</td>\n",
              "      <td>Ottogi</td>\n",
              "      <td>Jin Jjajang Smoked Black Bean Flavor</td>\n",
              "      <td>Pack</td>\n",
              "      <td>United States</td>\n",
              "      <td>4.5</td>\n",
              "    </tr>\n",
              "    <tr>\n",
              "      <th>4</th>\n",
              "      <td>4646</td>\n",
              "      <td>Samyang Foods</td>\n",
              "      <td>Samyand Ramen</td>\n",
              "      <td>Pack</td>\n",
              "      <td>United States</td>\n",
              "      <td>5.0</td>\n",
              "    </tr>\n",
              "    <tr>\n",
              "      <th>...</th>\n",
              "      <td>...</td>\n",
              "      <td>...</td>\n",
              "      <td>...</td>\n",
              "      <td>...</td>\n",
              "      <td>...</td>\n",
              "      <td>...</td>\n",
              "    </tr>\n",
              "    <tr>\n",
              "      <th>4645</th>\n",
              "      <td>5</td>\n",
              "      <td>Vifon</td>\n",
              "      <td>Hu Tiu Nam Vang [\"Phnom Penh\" style] Asian Sty...</td>\n",
              "      <td>Bowl</td>\n",
              "      <td>Vietnam</td>\n",
              "      <td>3.5</td>\n",
              "    </tr>\n",
              "    <tr>\n",
              "      <th>4646</th>\n",
              "      <td>4</td>\n",
              "      <td>Wai Wai</td>\n",
              "      <td>Oriental Style Instant Noodles</td>\n",
              "      <td>Pack</td>\n",
              "      <td>Thailand</td>\n",
              "      <td>1.0</td>\n",
              "    </tr>\n",
              "    <tr>\n",
              "      <th>4647</th>\n",
              "      <td>3</td>\n",
              "      <td>Wai Wai</td>\n",
              "      <td>Tom Yum Shrimp</td>\n",
              "      <td>Pack</td>\n",
              "      <td>Thailand</td>\n",
              "      <td>2.0</td>\n",
              "    </tr>\n",
              "    <tr>\n",
              "      <th>4648</th>\n",
              "      <td>2</td>\n",
              "      <td>Wai Wai</td>\n",
              "      <td>Tom Yum Chili Flavor</td>\n",
              "      <td>Pack</td>\n",
              "      <td>Thailand</td>\n",
              "      <td>2.0</td>\n",
              "    </tr>\n",
              "    <tr>\n",
              "      <th>4649</th>\n",
              "      <td>1</td>\n",
              "      <td>Westbrae</td>\n",
              "      <td>Miso Ramen</td>\n",
              "      <td>Pack</td>\n",
              "      <td>United States</td>\n",
              "      <td>0.5</td>\n",
              "    </tr>\n",
              "  </tbody>\n",
              "</table>\n",
              "<p>4648 rows × 6 columns</p>\n",
              "</div>\n",
              "    <div class=\"colab-df-buttons\">\n",
              "\n",
              "  <div class=\"colab-df-container\">\n",
              "    <button class=\"colab-df-convert\" onclick=\"convertToInteractive('df-63f68128-e681-4feb-9997-9769dce849af')\"\n",
              "            title=\"Convert this dataframe to an interactive table.\"\n",
              "            style=\"display:none;\">\n",
              "\n",
              "  <svg xmlns=\"http://www.w3.org/2000/svg\" height=\"24px\" viewBox=\"0 -960 960 960\">\n",
              "    <path d=\"M120-120v-720h720v720H120Zm60-500h600v-160H180v160Zm220 220h160v-160H400v160Zm0 220h160v-160H400v160ZM180-400h160v-160H180v160Zm440 0h160v-160H620v160ZM180-180h160v-160H180v160Zm440 0h160v-160H620v160Z\"/>\n",
              "  </svg>\n",
              "    </button>\n",
              "\n",
              "  <style>\n",
              "    .colab-df-container {\n",
              "      display:flex;\n",
              "      gap: 12px;\n",
              "    }\n",
              "\n",
              "    .colab-df-convert {\n",
              "      background-color: #E8F0FE;\n",
              "      border: none;\n",
              "      border-radius: 50%;\n",
              "      cursor: pointer;\n",
              "      display: none;\n",
              "      fill: #1967D2;\n",
              "      height: 32px;\n",
              "      padding: 0 0 0 0;\n",
              "      width: 32px;\n",
              "    }\n",
              "\n",
              "    .colab-df-convert:hover {\n",
              "      background-color: #E2EBFA;\n",
              "      box-shadow: 0px 1px 2px rgba(60, 64, 67, 0.3), 0px 1px 3px 1px rgba(60, 64, 67, 0.15);\n",
              "      fill: #174EA6;\n",
              "    }\n",
              "\n",
              "    .colab-df-buttons div {\n",
              "      margin-bottom: 4px;\n",
              "    }\n",
              "\n",
              "    [theme=dark] .colab-df-convert {\n",
              "      background-color: #3B4455;\n",
              "      fill: #D2E3FC;\n",
              "    }\n",
              "\n",
              "    [theme=dark] .colab-df-convert:hover {\n",
              "      background-color: #434B5C;\n",
              "      box-shadow: 0px 1px 3px 1px rgba(0, 0, 0, 0.15);\n",
              "      filter: drop-shadow(0px 1px 2px rgba(0, 0, 0, 0.3));\n",
              "      fill: #FFFFFF;\n",
              "    }\n",
              "  </style>\n",
              "\n",
              "    <script>\n",
              "      const buttonEl =\n",
              "        document.querySelector('#df-63f68128-e681-4feb-9997-9769dce849af button.colab-df-convert');\n",
              "      buttonEl.style.display =\n",
              "        google.colab.kernel.accessAllowed ? 'block' : 'none';\n",
              "\n",
              "      async function convertToInteractive(key) {\n",
              "        const element = document.querySelector('#df-63f68128-e681-4feb-9997-9769dce849af');\n",
              "        const dataTable =\n",
              "          await google.colab.kernel.invokeFunction('convertToInteractive',\n",
              "                                                    [key], {});\n",
              "        if (!dataTable) return;\n",
              "\n",
              "        const docLinkHtml = 'Like what you see? Visit the ' +\n",
              "          '<a target=\"_blank\" href=https://colab.research.google.com/notebooks/data_table.ipynb>data table notebook</a>'\n",
              "          + ' to learn more about interactive tables.';\n",
              "        element.innerHTML = '';\n",
              "        dataTable['output_type'] = 'display_data';\n",
              "        await google.colab.output.renderOutput(dataTable, element);\n",
              "        const docLink = document.createElement('div');\n",
              "        docLink.innerHTML = docLinkHtml;\n",
              "        element.appendChild(docLink);\n",
              "      }\n",
              "    </script>\n",
              "  </div>\n",
              "\n",
              "\n",
              "<div id=\"df-f00dc8f7-6948-4913-85d3-3a767be635c0\">\n",
              "  <button class=\"colab-df-quickchart\" onclick=\"quickchart('df-f00dc8f7-6948-4913-85d3-3a767be635c0')\"\n",
              "            title=\"Suggest charts\"\n",
              "            style=\"display:none;\">\n",
              "\n",
              "<svg xmlns=\"http://www.w3.org/2000/svg\" height=\"24px\"viewBox=\"0 0 24 24\"\n",
              "     width=\"24px\">\n",
              "    <g>\n",
              "        <path d=\"M19 3H5c-1.1 0-2 .9-2 2v14c0 1.1.9 2 2 2h14c1.1 0 2-.9 2-2V5c0-1.1-.9-2-2-2zM9 17H7v-7h2v7zm4 0h-2V7h2v10zm4 0h-2v-4h2v4z\"/>\n",
              "    </g>\n",
              "</svg>\n",
              "  </button>\n",
              "\n",
              "<style>\n",
              "  .colab-df-quickchart {\n",
              "      --bg-color: #E8F0FE;\n",
              "      --fill-color: #1967D2;\n",
              "      --hover-bg-color: #E2EBFA;\n",
              "      --hover-fill-color: #174EA6;\n",
              "      --disabled-fill-color: #AAA;\n",
              "      --disabled-bg-color: #DDD;\n",
              "  }\n",
              "\n",
              "  [theme=dark] .colab-df-quickchart {\n",
              "      --bg-color: #3B4455;\n",
              "      --fill-color: #D2E3FC;\n",
              "      --hover-bg-color: #434B5C;\n",
              "      --hover-fill-color: #FFFFFF;\n",
              "      --disabled-bg-color: #3B4455;\n",
              "      --disabled-fill-color: #666;\n",
              "  }\n",
              "\n",
              "  .colab-df-quickchart {\n",
              "    background-color: var(--bg-color);\n",
              "    border: none;\n",
              "    border-radius: 50%;\n",
              "    cursor: pointer;\n",
              "    display: none;\n",
              "    fill: var(--fill-color);\n",
              "    height: 32px;\n",
              "    padding: 0;\n",
              "    width: 32px;\n",
              "  }\n",
              "\n",
              "  .colab-df-quickchart:hover {\n",
              "    background-color: var(--hover-bg-color);\n",
              "    box-shadow: 0 1px 2px rgba(60, 64, 67, 0.3), 0 1px 3px 1px rgba(60, 64, 67, 0.15);\n",
              "    fill: var(--button-hover-fill-color);\n",
              "  }\n",
              "\n",
              "  .colab-df-quickchart-complete:disabled,\n",
              "  .colab-df-quickchart-complete:disabled:hover {\n",
              "    background-color: var(--disabled-bg-color);\n",
              "    fill: var(--disabled-fill-color);\n",
              "    box-shadow: none;\n",
              "  }\n",
              "\n",
              "  .colab-df-spinner {\n",
              "    border: 2px solid var(--fill-color);\n",
              "    border-color: transparent;\n",
              "    border-bottom-color: var(--fill-color);\n",
              "    animation:\n",
              "      spin 1s steps(1) infinite;\n",
              "  }\n",
              "\n",
              "  @keyframes spin {\n",
              "    0% {\n",
              "      border-color: transparent;\n",
              "      border-bottom-color: var(--fill-color);\n",
              "      border-left-color: var(--fill-color);\n",
              "    }\n",
              "    20% {\n",
              "      border-color: transparent;\n",
              "      border-left-color: var(--fill-color);\n",
              "      border-top-color: var(--fill-color);\n",
              "    }\n",
              "    30% {\n",
              "      border-color: transparent;\n",
              "      border-left-color: var(--fill-color);\n",
              "      border-top-color: var(--fill-color);\n",
              "      border-right-color: var(--fill-color);\n",
              "    }\n",
              "    40% {\n",
              "      border-color: transparent;\n",
              "      border-right-color: var(--fill-color);\n",
              "      border-top-color: var(--fill-color);\n",
              "    }\n",
              "    60% {\n",
              "      border-color: transparent;\n",
              "      border-right-color: var(--fill-color);\n",
              "    }\n",
              "    80% {\n",
              "      border-color: transparent;\n",
              "      border-right-color: var(--fill-color);\n",
              "      border-bottom-color: var(--fill-color);\n",
              "    }\n",
              "    90% {\n",
              "      border-color: transparent;\n",
              "      border-bottom-color: var(--fill-color);\n",
              "    }\n",
              "  }\n",
              "</style>\n",
              "\n",
              "  <script>\n",
              "    async function quickchart(key) {\n",
              "      const quickchartButtonEl =\n",
              "        document.querySelector('#' + key + ' button');\n",
              "      quickchartButtonEl.disabled = true;  // To prevent multiple clicks.\n",
              "      quickchartButtonEl.classList.add('colab-df-spinner');\n",
              "      try {\n",
              "        const charts = await google.colab.kernel.invokeFunction(\n",
              "            'suggestCharts', [key], {});\n",
              "      } catch (error) {\n",
              "        console.error('Error during call to suggestCharts:', error);\n",
              "      }\n",
              "      quickchartButtonEl.classList.remove('colab-df-spinner');\n",
              "      quickchartButtonEl.classList.add('colab-df-quickchart-complete');\n",
              "    }\n",
              "    (() => {\n",
              "      let quickchartButtonEl =\n",
              "        document.querySelector('#df-f00dc8f7-6948-4913-85d3-3a767be635c0 button');\n",
              "      quickchartButtonEl.style.display =\n",
              "        google.colab.kernel.accessAllowed ? 'block' : 'none';\n",
              "    })();\n",
              "  </script>\n",
              "</div>\n",
              "\n",
              "  <div id=\"id_cdfaa9d2-cb22-4309-8f38-3f30bfb6c75e\">\n",
              "    <style>\n",
              "      .colab-df-generate {\n",
              "        background-color: #E8F0FE;\n",
              "        border: none;\n",
              "        border-radius: 50%;\n",
              "        cursor: pointer;\n",
              "        display: none;\n",
              "        fill: #1967D2;\n",
              "        height: 32px;\n",
              "        padding: 0 0 0 0;\n",
              "        width: 32px;\n",
              "      }\n",
              "\n",
              "      .colab-df-generate:hover {\n",
              "        background-color: #E2EBFA;\n",
              "        box-shadow: 0px 1px 2px rgba(60, 64, 67, 0.3), 0px 1px 3px 1px rgba(60, 64, 67, 0.15);\n",
              "        fill: #174EA6;\n",
              "      }\n",
              "\n",
              "      [theme=dark] .colab-df-generate {\n",
              "        background-color: #3B4455;\n",
              "        fill: #D2E3FC;\n",
              "      }\n",
              "\n",
              "      [theme=dark] .colab-df-generate:hover {\n",
              "        background-color: #434B5C;\n",
              "        box-shadow: 0px 1px 3px 1px rgba(0, 0, 0, 0.15);\n",
              "        filter: drop-shadow(0px 1px 2px rgba(0, 0, 0, 0.3));\n",
              "        fill: #FFFFFF;\n",
              "      }\n",
              "    </style>\n",
              "    <button class=\"colab-df-generate\" onclick=\"generateWithVariable('dataset')\"\n",
              "            title=\"Generate code using this dataframe.\"\n",
              "            style=\"display:none;\">\n",
              "\n",
              "  <svg xmlns=\"http://www.w3.org/2000/svg\" height=\"24px\"viewBox=\"0 0 24 24\"\n",
              "       width=\"24px\">\n",
              "    <path d=\"M7,19H8.4L18.45,9,17,7.55,7,17.6ZM5,21V16.75L18.45,3.32a2,2,0,0,1,2.83,0l1.4,1.43a1.91,1.91,0,0,1,.58,1.4,1.91,1.91,0,0,1-.58,1.4L9.25,21ZM18.45,9,17,7.55Zm-12,3A5.31,5.31,0,0,0,4.9,8.1,5.31,5.31,0,0,0,1,6.5,5.31,5.31,0,0,0,4.9,4.9,5.31,5.31,0,0,0,6.5,1,5.31,5.31,0,0,0,8.1,4.9,5.31,5.31,0,0,0,12,6.5,5.46,5.46,0,0,0,6.5,12Z\"/>\n",
              "  </svg>\n",
              "    </button>\n",
              "    <script>\n",
              "      (() => {\n",
              "      const buttonEl =\n",
              "        document.querySelector('#id_cdfaa9d2-cb22-4309-8f38-3f30bfb6c75e button.colab-df-generate');\n",
              "      buttonEl.style.display =\n",
              "        google.colab.kernel.accessAllowed ? 'block' : 'none';\n",
              "\n",
              "      buttonEl.onclick = () => {\n",
              "        google.colab.notebook.generateWithVariable('dataset');\n",
              "      }\n",
              "      })();\n",
              "    </script>\n",
              "  </div>\n",
              "\n",
              "    </div>\n",
              "  </div>\n"
            ]
          },
          "metadata": {},
          "execution_count": 148
        }
      ]
    },
    {
      "cell_type": "code",
      "source": [
        "#IQR 기반 이상치 제거\n",
        "Q1 = dataset['Stars'].quantile(0.25)\n",
        "Q3 = dataset['Stars'].quantile(0.75)\n",
        "IQR = Q3 - Q1\n",
        "dataset = dataset[~((dataset['Stars'] < (Q1 - 1.5 * IQR)) | (dataset['Stars'] > (Q3 + 1.5 * IQR)))]"
      ],
      "metadata": {
        "id": "Osu5HsSjuC5e"
      },
      "execution_count": 150,
      "outputs": []
    },
    {
      "cell_type": "code",
      "source": [
        "Q1"
      ],
      "metadata": {
        "colab": {
          "base_uri": "https://localhost:8080/"
        },
        "id": "AOgcTAz_uHZY",
        "outputId": "522f55fa-d4e2-450e-ad2c-f9769ad952e5"
      },
      "execution_count": 151,
      "outputs": [
        {
          "output_type": "execute_result",
          "data": {
            "text/plain": [
              "3.5"
            ]
          },
          "metadata": {},
          "execution_count": 151
        }
      ]
    },
    {
      "cell_type": "code",
      "source": [
        "Q3"
      ],
      "metadata": {
        "colab": {
          "base_uri": "https://localhost:8080/"
        },
        "id": "pMqrBEEHuJGz",
        "outputId": "d1fa3276-3660-4c3b-cc49-03a43a45b1a2"
      },
      "execution_count": 152,
      "outputs": [
        {
          "output_type": "execute_result",
          "data": {
            "text/plain": [
              "4.5"
            ]
          },
          "metadata": {},
          "execution_count": 152
        }
      ]
    },
    {
      "cell_type": "code",
      "source": [
        "# 박스플롯을 사용한 이상치 탐지\n",
        "import matplotlib.pyplot as plt\n",
        "\n",
        "plt.boxplot(dataset['Stars'])\n",
        "plt.title('Boxplot of Stars Ratings')\n",
        "plt.ylim(1, 7)  # y축 범위를 1에서 5로 설정\n",
        "plt.show()"
      ],
      "metadata": {
        "colab": {
          "base_uri": "https://localhost:8080/",
          "height": 452
        },
        "id": "jvmPywCYtlIH",
        "outputId": "389c9c6c-7326-411f-fd92-f813d8aa138e"
      },
      "execution_count": 155,
      "outputs": [
        {
          "output_type": "display_data",
          "data": {
            "text/plain": [
              "<Figure size 640x480 with 1 Axes>"
            ],
            "image/png": "[encoded data removed]"
          },
          "metadata": {}
        }
      ]
    },
    {
      "cell_type": "markdown",
      "source": [
        "# 데이터 대시보드 구축\n"
      ],
      "metadata": {
        "id": "LgsmqjXYziQq"
      }
    },
    {
      "cell_type": "code",
      "source": [
        "# 대시보드 만들기\n",
        "# 1. 누가 볼 것인가?\n",
        "# 2. 어떤 정보를 보여줄 것인가.\n",
        "# 3. 시각화 유형 결정\n"
      ],
      "metadata": {
        "id": "Lg4ULfcyzkln"
      },
      "execution_count": null,
      "outputs": []
    }
  ]
}