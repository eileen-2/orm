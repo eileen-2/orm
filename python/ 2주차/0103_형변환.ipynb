{
  "nbformat": 4,
  "nbformat_minor": 0,
  "metadata": {
    "colab": {
      "provenance": [],
      "authorship_tag": "ABX9TyMIOJGfW4S4KFGBbyEotQHM",
      "include_colab_link": true
    },
    "kernelspec": {
      "name": "python3",
      "display_name": "Python 3"
    },
    "language_info": {
      "name": "python"
    }
  },
  "cells": [
    {
      "cell_type": "markdown",
      "metadata": {
        "id": "view-in-github",
        "colab_type": "text"
      },
      "source": [
        "<a href=\"https://colab.research.google.com/github/eileen-2/orm/blob/main/0103_%ED%98%95%EB%B3%80%ED%99%98.ipynb\" target=\"_parent\"><img src=\"https://colab.research.google.com/assets/colab-badge.svg\" alt=\"Open In Colab\"/></a>"
      ]
    },
    {
      "cell_type": "markdown",
      "source": [
        "#1. python에서의 형변환"
      ],
      "metadata": {
        "id": "EOxh3mKtuqXe"
      }
    },
    {
      "cell_type": "code",
      "source": [
        "#1. 형변환 기본 예제\n",
        "# 문자형>숫자형으로 바꾸지 못함\n",
        "#input으로 받은 데이터는 = str\n",
        "#잘못된 예시\n",
        "\n",
        "월급 = input('월급을 입력하세요:')\n",
        "연봉 = 월급 *12\n",
        "print(연봉)"
      ],
      "metadata": {
        "colab": {
          "base_uri": "https://localhost:8080/"
        },
        "id": "1I0Sv0lZvSPX",
        "outputId": "2ce3551e-d08b-48dc-a83c-3fbc2cfeffce"
      },
      "execution_count": 5,
      "outputs": [
        {
          "output_type": "stream",
          "name": "stdout",
          "text": [
            "월급을 입력하세요:6000000\n",
            "600000060000006000000600000060000006000000600000060000006000000600000060000006000000\n"
          ]
        }
      ]
    },
    {
      "cell_type": "code",
      "source": [
        "#올바른 예시\n",
        "\n",
        "월급 = input('월급을 입력하세요:')\n",
        "연봉 = int(월급) *12\n",
        "print(연봉)\n"
      ],
      "metadata": {
        "colab": {
          "base_uri": "https://localhost:8080/"
        },
        "id": "76ZVp7lou00e",
        "outputId": "d4f817ed-62e7-4534-c025-0ea624931013"
      },
      "execution_count": 6,
      "outputs": [
        {
          "output_type": "stream",
          "name": "stdout",
          "text": [
            "월급을 입력하세요:6000000\n",
            "72000000\n"
          ]
        }
      ]
    },
    {
      "cell_type": "code",
      "source": [
        "#1.2 소수형 -> 정수형\n",
        "\n",
        "f = 3.14159\n",
        "number = int(f)     #int로 변환하기 위해 어디에 int를 먹여야 하는지.\n",
        "print(number) #출력 = 3"
      ],
      "metadata": {
        "colab": {
          "base_uri": "https://localhost:8080/"
        },
        "id": "Bao_CQkLwEsI",
        "outputId": "a4743c83-6eb1-4196-80f7-e470e4c2bef2"
      },
      "execution_count": 9,
      "outputs": [
        {
          "output_type": "stream",
          "name": "stdout",
          "text": [
            "3\n"
          ]
        }
      ]
    },
    {
      "cell_type": "code",
      "source": [
        "#1.3 불린 -> 정수형\n",
        "\n",
        "true_int = int(True)\n",
        "false_int = int(False)\n",
        "\n",
        "print(type(true_int))\n",
        "print(type(false_int))\n",
        "print(true_int)  # 출력: 1\n",
        "print(false_int)  # 출력: 0\n"
      ],
      "metadata": {
        "colab": {
          "base_uri": "https://localhost:8080/"
        },
        "id": "W2VyBoziwW9i",
        "outputId": "b31c6cf7-58c9-4de7-ef62-a594aad4972e"
      },
      "execution_count": 12,
      "outputs": [
        {
          "output_type": "stream",
          "name": "stdout",
          "text": [
            "<class 'int'>\n",
            "<class 'int'>\n",
            "1\n",
            "0\n"
          ]
        }
      ]
    },
    {
      "cell_type": "code",
      "source": [
        "#1.4 None은 변형이 안된다.\n",
        "None\n",
        "print(None)\n",
        "print(int(None))"
      ],
      "metadata": {
        "colab": {
          "base_uri": "https://localhost:8080/",
          "height": 255
        },
        "id": "OwKeMy8dw0R6",
        "outputId": "76b02336-5674-470e-df60-960a045e7fc2"
      },
      "execution_count": 15,
      "outputs": [
        {
          "output_type": "stream",
          "name": "stdout",
          "text": [
            "None\n"
          ]
        },
        {
          "output_type": "error",
          "ename": "TypeError",
          "evalue": "ignored",
          "traceback": [
            "\u001b[0;31m---------------------------------------------------------------------------\u001b[0m",
            "\u001b[0;31mTypeError\u001b[0m                                 Traceback (most recent call last)",
            "\u001b[0;32m<ipython-input-15-2d80f1c03dfd>\u001b[0m in \u001b[0;36m<cell line: 3>\u001b[0;34m()\u001b[0m\n\u001b[1;32m      1\u001b[0m \u001b[0;32mNone\u001b[0m\u001b[0;34m\u001b[0m\u001b[0;34m\u001b[0m\u001b[0m\n\u001b[1;32m      2\u001b[0m \u001b[0mprint\u001b[0m\u001b[0;34m(\u001b[0m\u001b[0;32mNone\u001b[0m\u001b[0;34m)\u001b[0m\u001b[0;34m\u001b[0m\u001b[0;34m\u001b[0m\u001b[0m\n\u001b[0;32m----> 3\u001b[0;31m \u001b[0mprint\u001b[0m\u001b[0;34m(\u001b[0m\u001b[0mint\u001b[0m\u001b[0;34m(\u001b[0m\u001b[0;32mNone\u001b[0m\u001b[0;34m)\u001b[0m\u001b[0;34m)\u001b[0m\u001b[0;34m\u001b[0m\u001b[0;34m\u001b[0m\u001b[0m\n\u001b[0m",
            "\u001b[0;31mTypeError\u001b[0m: int() argument must be a string, a bytes-like object or a real number, not 'NoneType'"
          ]
        }
      ]
    },
    {
      "cell_type": "code",
      "source": [
        "#1.5 str 형변환\n",
        "\n",
        "n = 123\n",
        "print(type(n))\n",
        "\n",
        "m = 123.4\n",
        "print(type(n))\n",
        "\n",
        "n = str(n)\n",
        "print(type(n))\n",
        "\n",
        "m = str(m)\n",
        "print(type(m))"
      ],
      "metadata": {
        "colab": {
          "base_uri": "https://localhost:8080/"
        },
        "id": "qaQ5RWUxxGkN",
        "outputId": "d3f93438-af3d-4d96-b112-3a49228f0326"
      },
      "execution_count": 21,
      "outputs": [
        {
          "output_type": "stream",
          "name": "stdout",
          "text": [
            "<class 'int'>\n",
            "<class 'int'>\n",
            "<class 'str'>\n",
            "<class 'str'>\n"
          ]
        }
      ]
    },
    {
      "cell_type": "code",
      "source": [
        "#1.6 bool형변환\n",
        "# 조건문에서 많이 사용\n",
        "# 빈자료형 = false\n",
        "  #> None\n",
        "# 공백 = true = 값이 존재\n",
        "# false = __빈 문자열, 빈 리스트, 0, None__\n",
        "\n",
        "print(\"bool('test'):\", bool('test'))\n",
        "print(\"bool(' '):\", bool(' '))\n",
        "print(\"bool(''):\", bool(''))\n",
        "print(\"bool(100):\", bool(100))\n",
        "print(\"bool(1):\", bool(1))\n",
        "print(\"bool(0):\", bool(0))\n",
        "print(\"bool(-1):\", bool(-1))\n",
        "print(\"bool(None):\", bool(None))\n",
        "print(\"bool([]):\", bool([]))\n",
        "print(\"bool(tuple()):\", bool(tuple()))\n",
        "print(\"bool({}):\", bool({}))\n",
        "print(\"bool(set()):\", bool(set()))\n",
        "\n",
        "bool('test'): True\n",
        "bool(' '): True\n",
        "bool(''): False\n",
        "bool(100): True\n",
        "bool(1): True\n",
        "bool(0): False\n",
        "bool(-1): True\n",
        "bool(None): False\n",
        "bool([]): False\n",
        "bool(tuple()): False\n",
        "bool({}): False\n",
        "bool(set()): False\n",
        "\n"
      ],
      "metadata": {
        "colab": {
          "base_uri": "https://localhost:8080/",
          "height": 146
        },
        "id": "hAuVGxLRxmUc",
        "outputId": "a68cefb7-fee4-4edc-8aa0-827eb9121f61"
      },
      "execution_count": 22,
      "outputs": [
        {
          "output_type": "error",
          "ename": "SyntaxError",
          "evalue": "ignored",
          "traceback": [
            "\u001b[0;36m  File \u001b[0;32m\"<ipython-input-22-fc15ae265a98>\"\u001b[0;36m, line \u001b[0;32m20\u001b[0m\n\u001b[0;31m    bool('test'): True\u001b[0m\n\u001b[0m    ^\u001b[0m\n\u001b[0;31mSyntaxError\u001b[0m\u001b[0;31m:\u001b[0m illegal target for annotation\n"
          ]
        }
      ]
    },
    {
      "cell_type": "code",
      "source": [
        "#1.7 float형변환\n",
        "\n",
        "s = 10\n",
        "print(float(s)) #정수의 값>실수형변환\n",
        "\n",
        "s = '10'\n",
        "print(float(s)) # 문자열 안에 정수로 입력된 값>실수형변환\n",
        "\n",
        "s = '3.14'\n",
        "print(float(s)) # 문자열 안에 실수>실수형변환"
      ],
      "metadata": {
        "colab": {
          "base_uri": "https://localhost:8080/"
        },
        "id": "Q7OomvCUyfY7",
        "outputId": "b7dbcdb2-120b-4450-8373-e9d215c24eca"
      },
      "execution_count": 24,
      "outputs": [
        {
          "output_type": "stream",
          "name": "stdout",
          "text": [
            "10.0\n",
            "10.0\n",
            "3.14\n"
          ]
        }
      ]
    },
    {
      "cell_type": "code",
      "source": [
        "#무한대\n",
        "infinity = float('inf')\n",
        "neg_infinity = float('-inf')\n",
        "not_a_number = float('nan')"
      ],
      "metadata": {
        "id": "ExffP1B6yzQ5"
      },
      "execution_count": 27,
      "outputs": []
    },
    {
      "cell_type": "code",
      "source": [
        "print(infinity)\n",
        "print(neg_infinity)\n",
        "print(not_a_number)\n",
        "\n",
        "10 / 1 # 항상 실수형"
      ],
      "metadata": {
        "colab": {
          "base_uri": "https://localhost:8080/"
        },
        "id": "cepIlp1pzAdL",
        "outputId": "e7186e0e-6f76-41e9-b0a6-d0cf10bbfd40"
      },
      "execution_count": 32,
      "outputs": [
        {
          "output_type": "stream",
          "name": "stdout",
          "text": [
            "inf\n",
            "-inf\n",
            "nan\n"
          ]
        },
        {
          "output_type": "execute_result",
          "data": {
            "text/plain": [
              "10.0"
            ]
          },
          "metadata": {},
          "execution_count": 32
        }
      ]
    },
    {
      "cell_type": "markdown",
      "source": [
        "1. 정수형은 list로 변환 불가\n",
        "2. tuple형은 값의 변경이 불가\n",
        "3. dic형은 쌍으로 존재,쌍이 없는 일반 문자열은 변환 불가\n",
        "3. set형은 중복제거, 순서가 바뀜\n",
        "5. 실수형->문자형: 정수만 출력"
      ],
      "metadata": {
        "id": "DBKsmmig0xlN"
      }
    },
    {
      "cell_type": "code",
      "source": [
        "x = 1.0\n",
        "x = str(x)\n",
        "int(float(x))"
      ],
      "metadata": {
        "colab": {
          "base_uri": "https://localhost:8080/"
        },
        "id": "ghUp6mqh1QUb",
        "outputId": "f4d4f316-d7e1-46c0-e383-4b2c816267fb"
      },
      "execution_count": 35,
      "outputs": [
        {
          "output_type": "execute_result",
          "data": {
            "text/plain": [
              "1"
            ]
          },
          "metadata": {},
          "execution_count": 35
        }
      ]
    },
    {
      "cell_type": "code",
      "source": [
        "# map\n",
        "\n",
        "list(map(int, ['10', '20', '30'])) # 출력: [10, 20, 30]\n",
        "list(map(int, '12345')) # 출력: [1, 2, 3, 4, 5]"
      ],
      "metadata": {
        "colab": {
          "base_uri": "https://localhost:8080/"
        },
        "id": "wYtBIaJJ1gSw",
        "outputId": "17110050-dcd5-4614-8eda-48f574d30ae6"
      },
      "execution_count": 38,
      "outputs": [
        {
          "output_type": "execute_result",
          "data": {
            "text/plain": [
              "[1, 2, 3, 4, 5]"
            ]
          },
          "metadata": {},
          "execution_count": 38
        }
      ]
    }
  ]
}