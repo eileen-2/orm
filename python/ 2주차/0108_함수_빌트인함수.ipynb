{
  "nbformat": 4,
  "nbformat_minor": 0,
  "metadata": {
    "colab": {
      "provenance": [],
      "authorship_tag": "ABX9TyN14fljp2MCIrEI7sfNpqtF",
      "include_colab_link": true
    },
    "kernelspec": {
      "name": "python3",
      "display_name": "Python 3"
    },
    "language_info": {
      "name": "python"
    }
  },
  "cells": [
    {
      "cell_type": "markdown",
      "metadata": {
        "id": "view-in-github",
        "colab_type": "text"
      },
      "source": [
        "<a href=\"https://colab.research.google.com/github/eileen-2/orm/blob/main/0108_%ED%95%A8%EC%88%98_%EB%B9%8C%ED%8A%B8%EC%9D%B8%ED%95%A8%EC%88%98.ipynb\" target=\"_parent\"><img src=\"https://colab.research.google.com/assets/colab-badge.svg\" alt=\"Open In Colab\"/></a>"
      ]
    },
    {
      "cell_type": "markdown",
      "source": [
        "#1. 빌트인 함수(built-in function)란?\n",
        "\n",
        "- Built-in functions 또는 내장 함수\n",
        "- 추가적인 코드를 작성하지 않고도 사용\n"
      ],
      "metadata": {
        "id": "ByyFodachzBj"
      }
    },
    {
      "cell_type": "markdown",
      "source": [
        "#1.1 빌트인 함수 종료\n",
        "\n",
        "1.요소 전체의 true, false 판별"
      ],
      "metadata": {
        "id": "lZYnlee9sFZ2"
      }
    },
    {
      "cell_type": "code",
      "source": [
        "# 모두다 true = > true\n",
        "all([1,1,1,1])"
      ],
      "metadata": {
        "colab": {
          "base_uri": "https://localhost:8080/"
        },
        "id": "6VcyIgy5sJdy",
        "outputId": "3346e971-37ed-4f54-e676-dc196c291d70"
      },
      "execution_count": 4,
      "outputs": [
        {
          "output_type": "execute_result",
          "data": {
            "text/plain": [
              "True"
            ]
          },
          "metadata": {},
          "execution_count": 4
        }
      ]
    },
    {
      "cell_type": "code",
      "source": [
        "# 하나라도 true 면 true(or과 비슷)\n",
        "any([True, False, False])"
      ],
      "metadata": {
        "colab": {
          "base_uri": "https://localhost:8080/"
        },
        "id": "kvfguSfOsQTC",
        "outputId": "e55ce5f5-ab22-4cb3-e6f1-ecfd60cfea11"
      },
      "execution_count": 6,
      "outputs": [
        {
          "output_type": "execute_result",
          "data": {
            "text/plain": [
              "True"
            ]
          },
          "metadata": {},
          "execution_count": 6
        }
      ]
    },
    {
      "cell_type": "code",
      "source": [
        "# map 함수 ; 리스트 요소 각각 빼옴.\n",
        "#함수는 기존의 리스트(또는 튜플)의 모든 요소에 특정 함수를 적용한 결과를 map 객체 형태로 반환하는 함수\n",
        "def 제곱(x):\n",
        "    return x ** 2\n",
        "list(map(제곱, [1, 2, 3, 4])) # 출력: [1, 4, 9, 16]"
      ],
      "metadata": {
        "colab": {
          "base_uri": "https://localhost:8080/"
        },
        "id": "nKVsBInysqTx",
        "outputId": "a14f8933-de4e-4816-dca9-94908c9cce22"
      },
      "execution_count": 8,
      "outputs": [
        {
          "output_type": "execute_result",
          "data": {
            "text/plain": [
              "[1, 4, 9, 16]"
            ]
          },
          "metadata": {},
          "execution_count": 8
        }
      ]
    },
    {
      "cell_type": "code",
      "source": [
        "# lambda 함수 : 같은 내용의 함수를 한줄로 표현\n",
        "list(map(lambda x : x ** 2, [1, 2, 3, 4])) # 출력: [1, 4, 9, 16]"
      ],
      "metadata": {
        "colab": {
          "base_uri": "https://localhost:8080/"
        },
        "id": "dsJ5rhgbs9SF",
        "outputId": "87c2839a-f7e3-4196-c2aa-a0b639e7bf5f"
      },
      "execution_count": 9,
      "outputs": [
        {
          "output_type": "execute_result",
          "data": {
            "text/plain": [
              "[1, 4, 9, 16]"
            ]
          },
          "metadata": {},
          "execution_count": 9
        }
      ]
    },
    {
      "cell_type": "code",
      "source": [
        "#filter(조건 함수, 리스트 또는 튜플)\n",
        "#순회할 수 있는 객체의 요소 중 특정 조건을 만족하는 요소만을 선택하여 반환\n",
        "\n",
        "list(filter(lambda x : x > 50, range(100)))"
      ],
      "metadata": {
        "colab": {
          "base_uri": "https://localhost:8080/"
        },
        "id": "QJ7yAXMStvXa",
        "outputId": "2ce3d00b-22cc-4723-aba0-449aa6d006ce"
      },
      "execution_count": 10,
      "outputs": [
        {
          "output_type": "execute_result",
          "data": {
            "text/plain": [
              "[51,\n",
              " 52,\n",
              " 53,\n",
              " 54,\n",
              " 55,\n",
              " 56,\n",
              " 57,\n",
              " 58,\n",
              " 59,\n",
              " 60,\n",
              " 61,\n",
              " 62,\n",
              " 63,\n",
              " 64,\n",
              " 65,\n",
              " 66,\n",
              " 67,\n",
              " 68,\n",
              " 69,\n",
              " 70,\n",
              " 71,\n",
              " 72,\n",
              " 73,\n",
              " 74,\n",
              " 75,\n",
              " 76,\n",
              " 77,\n",
              " 78,\n",
              " 79,\n",
              " 80,\n",
              " 81,\n",
              " 82,\n",
              " 83,\n",
              " 84,\n",
              " 85,\n",
              " 86,\n",
              " 87,\n",
              " 88,\n",
              " 89,\n",
              " 90,\n",
              " 91,\n",
              " 92,\n",
              " 93,\n",
              " 94,\n",
              " 95,\n",
              " 96,\n",
              " 97,\n",
              " 98,\n",
              " 99]"
            ]
          },
          "metadata": {},
          "execution_count": 10
        }
      ]
    },
    {
      "cell_type": "code",
      "source": [
        "#zip 여러 개의 순회 할 수 있는 객체의 요소를 묶어서 반환/\n",
        "# zip(순회할 수 있는 객체1, 순회할 수 있는 객체2...)\n",
        "\n",
        "print(zip('ab', '12'))\n",
        "list(zip('ab', '12'))"
      ],
      "metadata": {
        "colab": {
          "base_uri": "https://localhost:8080/"
        },
        "id": "ximsQ8Qlt54v",
        "outputId": "883e1f5d-3704-4c73-c331-e56f2332649f"
      },
      "execution_count": 16,
      "outputs": [
        {
          "output_type": "stream",
          "name": "stdout",
          "text": [
            "<zip object at 0x7b503b9c62c0>\n"
          ]
        },
        {
          "output_type": "execute_result",
          "data": {
            "text/plain": [
              "[('a', '1'), ('b', '2')]"
            ]
          },
          "metadata": {},
          "execution_count": 16
        }
      ]
    },
    {
      "cell_type": "code",
      "source": [
        "list(zip('ab', '12',[10, 20]))"
      ],
      "metadata": {
        "colab": {
          "base_uri": "https://localhost:8080/"
        },
        "id": "qLQ7BfWVuaAn",
        "outputId": "ed878d8e-3323-4d79-c6a0-9baaf4d8225a"
      },
      "execution_count": 18,
      "outputs": [
        {
          "output_type": "execute_result",
          "data": {
            "text/plain": [
              "[('a', '1', 10), ('b', '2', 20)]"
            ]
          },
          "metadata": {},
          "execution_count": 18
        }
      ]
    },
    {
      "cell_type": "code",
      "source": [
        "x = [2, 4, 8, 16, 32, 64, 128]\n",
        "list(zip(x, x[1:], x[2:]))"
      ],
      "metadata": {
        "colab": {
          "base_uri": "https://localhost:8080/"
        },
        "id": "Y_5RG53Tv3Sj",
        "outputId": "ea5d9a1c-5aa5-42fb-ab92-3e0e0b2ab0b4"
      },
      "execution_count": 20,
      "outputs": [
        {
          "output_type": "execute_result",
          "data": {
            "text/plain": [
              "[(2, 4, 8), (4, 8, 16), (8, 16, 32), (16, 32, 64), (32, 64, 128)]"
            ]
          },
          "metadata": {},
          "execution_count": 20
        }
      ]
    },
    {
      "cell_type": "code",
      "source": [
        "sum([[1, 2], [10, 20], [100, 200]], [])"
      ],
      "metadata": {
        "colab": {
          "base_uri": "https://localhost:8080/"
        },
        "id": "ytwR-ksOv9EI",
        "outputId": "90b8de3a-d431-4ce3-8690-1ce1842c1649"
      },
      "execution_count": 21,
      "outputs": [
        {
          "output_type": "execute_result",
          "data": {
            "text/plain": [
              "[1, 2, 10, 20, 100, 200]"
            ]
          },
          "metadata": {},
          "execution_count": 21
        }
      ]
    },
    {
      "cell_type": "markdown",
      "source": [],
      "metadata": {
        "id": "fmSXDqjPwAiN"
      }
    },
    {
      "cell_type": "code",
      "source": [
        "sum(sum([[1, 2], [10, 20], [100, 200]], []))"
      ],
      "metadata": {
        "colab": {
          "base_uri": "https://localhost:8080/"
        },
        "id": "giaZ2gezwArq",
        "outputId": "23fbe339-1b85-42f3-9431-7345bdad5340"
      },
      "execution_count": 23,
      "outputs": [
        {
          "output_type": "execute_result",
          "data": {
            "text/plain": [
              "333"
            ]
          },
          "metadata": {},
          "execution_count": 23
        }
      ]
    },
    {
      "cell_type": "code",
      "source": [
        "class Charactor:\n",
        "    def __repr__(self):\n",
        "        return 'hello'\n",
        "    def __str__(self):\n",
        "        return 'world'\n",
        "\n",
        "hero = Charactor()\n",
        "print(hero) # 출력 : 'world'\n",
        "hero # 출력 : 'hello'"
      ],
      "metadata": {
        "colab": {
          "base_uri": "https://localhost:8080/"
        },
        "id": "2HQKvMlcwEFz",
        "outputId": "70f25c30-429b-4aca-9ce9-ef8cd7edd603"
      },
      "execution_count": 25,
      "outputs": [
        {
          "output_type": "stream",
          "name": "stdout",
          "text": [
            "world\n"
          ]
        },
        {
          "output_type": "execute_result",
          "data": {
            "text/plain": [
              "hello"
            ]
          },
          "metadata": {},
          "execution_count": 25
        }
      ]
    },
    {
      "cell_type": "code",
      "source": [
        "# range 순차적인 수열 생성 / 시퀀스 자료형(튜플, 리슽, 문자열 등) / 연산가\n",
        "range(1, 10, 2) # 출력: range(1, 10, 2)\n",
        "list(range(1, 10, 2)) # 출력: [1, 3, 5, 7, 9]"
      ],
      "metadata": {
        "colab": {
          "base_uri": "https://localhost:8080/"
        },
        "id": "jy05tfirwGUA",
        "outputId": "7cdc131c-3988-44e7-cabf-11413450caf5"
      },
      "execution_count": 27,
      "outputs": [
        {
          "output_type": "execute_result",
          "data": {
            "text/plain": [
              "[1, 3, 5, 7, 9]"
            ]
          },
          "metadata": {},
          "execution_count": 27
        }
      ]
    },
    {
      "cell_type": "code",
      "source": [
        "# enumerate() : 반복문에서 주로 사용\n",
        "# 반복할 수 있는 객체의 인덱스와 값을 함께 반환\n",
        "# 같은 'key' 값으로 묶는다.\n",
        "values = ['A', 'B', 'C', 'D']\n",
        "print(list(enumerate(values)))\n",
        "print(list(enumerate(values, 1)))\n",
        "print(list(enumerate(values, 100)))"
      ],
      "metadata": {
        "colab": {
          "base_uri": "https://localhost:8080/"
        },
        "id": "19YYEnLrwKPn",
        "outputId": "1deee4ed-0094-4ddc-9034-485f1ca83dab"
      },
      "execution_count": 29,
      "outputs": [
        {
          "output_type": "stream",
          "name": "stdout",
          "text": [
            "[(0, 'A'), (1, 'B'), (2, 'C'), (3, 'D')]\n",
            "[(1, 'A'), (2, 'B'), (3, 'C'), (4, 'D')]\n",
            "[(100, 'A'), (101, 'B'), (102, 'C'), (103, 'D')]\n"
          ]
        }
      ]
    },
    {
      "cell_type": "code",
      "source": [
        "# sorted : 기본정렬: 오름차순\n",
        "# reverse = true -> 내림차순\n",
        "# key 값에 사용자 정의 함수도 넣을 수 있다.\n",
        "\n",
        "sorted([1, 2, 100, 200, 3, 4, 10, 20])\n",
        "# 출력 : [1, 2, 3, 4, 10, 20, 100, 200]\n"
      ],
      "metadata": {
        "colab": {
          "base_uri": "https://localhost:8080/"
        },
        "id": "r-LitEyxx1My",
        "outputId": "82179a5b-ad99-452f-d279-a090d32b9caa"
      },
      "execution_count": 32,
      "outputs": [
        {
          "output_type": "execute_result",
          "data": {
            "text/plain": [
              "[1, 2, 3, 4, 10, 20, 100, 200]"
            ]
          },
          "metadata": {},
          "execution_count": 32
        }
      ]
    },
    {
      "cell_type": "code",
      "source": [
        "sorted(['21', '21', '12', '22', '53', '15'], key=lambda x:x[-1])\n",
        "# 출력 : ['21', '21', '12', '22', '53', '15']"
      ],
      "metadata": {
        "colab": {
          "base_uri": "https://localhost:8080/"
        },
        "id": "yX4OeOOwx-2e",
        "outputId": "8a405b0b-6818-4b60-d0ba-58edd9ff351f"
      },
      "execution_count": 34,
      "outputs": [
        {
          "output_type": "execute_result",
          "data": {
            "text/plain": [
              "['21', '21', '12', '22', '53', '15']"
            ]
          },
          "metadata": {},
          "execution_count": 34
        }
      ]
    },
    {
      "cell_type": "code",
      "source": [
        "print(lambda x:x[-1])"
      ],
      "metadata": {
        "colab": {
          "base_uri": "https://localhost:8080/"
        },
        "id": "WxOodoEhyPcW",
        "outputId": "7a2dd897-80c4-4429-dfca-d74ec534dcad"
      },
      "execution_count": 37,
      "outputs": [
        {
          "output_type": "stream",
          "name": "stdout",
          "text": [
            "<function <lambda> at 0x7b502e7e28c0>\n"
          ]
        }
      ]
    },
    {
      "cell_type": "code",
      "source": [],
      "metadata": {
        "id": "Bo59QmY8yRbS"
      },
      "execution_count": null,
      "outputs": []
    }
  ]
}