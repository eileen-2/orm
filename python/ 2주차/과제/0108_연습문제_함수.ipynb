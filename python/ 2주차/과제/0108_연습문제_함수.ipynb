{
  "nbformat": 4,
  "nbformat_minor": 0,
  "metadata": {
    "colab": {
      "provenance": [],
      "authorship_tag": "ABX9TyNWD7/YkptOCXylcTgrSAIs",
      "include_colab_link": true
    },
    "kernelspec": {
      "name": "python3",
      "display_name": "Python 3"
    },
    "language_info": {
      "name": "python"
    }
  },
  "cells": [
    {
      "cell_type": "markdown",
      "metadata": {
        "id": "view-in-github",
        "colab_type": "text"
      },
      "source": [
        "<a href=\"https://colab.research.google.com/github/eileen-2/orm/blob/main/0108_%EC%97%B0%EC%8A%B5%EB%AC%B8%EC%A0%9C_%ED%95%A8%EC%88%98.ipynb\" target=\"_parent\"><img src=\"https://colab.research.google.com/assets/colab-badge.svg\" alt=\"Open In Colab\"/></a>"
      ]
    },
    {
      "cell_type": "code",
      "execution_count": 3,
      "metadata": {
        "colab": {
          "base_uri": "https://localhost:8080/"
        },
        "id": "Sq3zNjrpynm_",
        "outputId": "226680c5-a61a-4f5b-b27c-2f97f6ab45a6"
      },
      "outputs": [
        {
          "output_type": "stream",
          "name": "stdout",
          "text": [
            "I\n",
            "love\n",
            "python\n"
          ]
        }
      ],
      "source": [
        "#1,\n",
        "a = 'pithon'\n",
        "\n",
        "def 함수1():\n",
        "    def 함수2():\n",
        "        print('love')\n",
        "\n",
        "    print('I') #1번 출력값 - 함수1() 내 출력이어서 제일 먼저 출력\n",
        "    함수2() # 2번 출력값 함수2()는 함수1() 내 지역함수여서 2번째로 출력\n",
        "    return \"python\" #3번 출력값  마지막으로 python이 반환되어서 3번 출력\n",
        "\n",
        "\n",
        "a = 함수1()\n",
        "print(a)"
      ]
    },
    {
      "cell_type": "code",
      "source": [
        "#2,함수를 이용하여 계산기 프로그램을 만들어주세요.\n",
        "\n",
        "def plus(num1, num2):\n",
        "    return num1 + num2 #num1, num2를 변수로 가지는 plus 함수\n",
        "\n",
        "def minus(num1, num2):\n",
        "    return num1 - num2 # num1, num2를 변수로 가지는 minus 함수\n",
        "\n",
        "def multiply(num1, num2):\n",
        "    return num1*num2 #num1, num2를 변수로 가지는 multiply 함수\n",
        "\n",
        "def divide(num1, num2):\n",
        "    return num1 / num2 # num1,num2를 변수로 가지는 divide 함\n",
        "\n",
        "print(f'plus : {plus(10, 5)}')\n",
        "print(f'minus : {minus(10, 5)}')\n",
        "print(f'multiply : {multiply(10, 5)}')\n",
        "print(f'divide : {divide(10, 5)}')\n"
      ],
      "metadata": {
        "colab": {
          "base_uri": "https://localhost:8080/"
        },
        "id": "nnH6iaH7z3u6",
        "outputId": "369b1682-6bcd-4899-fb9e-42872db99d58"
      },
      "execution_count": 14,
      "outputs": [
        {
          "output_type": "stream",
          "name": "stdout",
          "text": [
            "plus : 15\n",
            "minus : 5\n",
            "multiply : 50\n",
            "divide : 2.0\n"
          ]
        }
      ]
    },
    {
      "cell_type": "code",
      "source": [
        "#2-1. 2번의 해답을 이용하여 a와 b를 더한 값과 a와 b를 뺀 값을 곱하는 함수를 만들어주세요.\n",
        "#     아래와 같은 값이 있다면 (2 + 3) * (2 - 3) = -5가 출력이 되어야 합니다.\n",
        "\n",
        "def f(a, b):\n",
        "    x = (a + b) * (a - b)\n",
        "    return x\n",
        "print(f(2, 3))"
      ],
      "metadata": {
        "colab": {
          "base_uri": "https://localhost:8080/"
        },
        "id": "0Amyiyf11km7",
        "outputId": "b11367b2-125c-4371-8679-db91ac8790bc"
      },
      "execution_count": 20,
      "outputs": [
        {
          "output_type": "stream",
          "name": "stdout",
          "text": [
            "-5\n"
          ]
        }
      ]
    },
    {
      "cell_type": "code",
      "source": [
        "#3, x의 n제곱을 구하는 함수를 만들어주세요.\n",
        "#재귀함수를 이용하여 만들어야하며, x은 0이 아닙니다. (x, n > 1)\n",
        "\n",
        "def f(x, n):\n",
        "    x != 0\n",
        "    y = x ** n\n",
        "    return y\n",
        "\n",
        "print(f(2, 3))"
      ],
      "metadata": {
        "colab": {
          "base_uri": "https://localhost:8080/"
        },
        "id": "1kZM-R8a2LSr",
        "outputId": "9c2fa28b-82f4-47b5-8ef6-28a91ece7331"
      },
      "execution_count": 35,
      "outputs": [
        {
          "output_type": "stream",
          "name": "stdout",
          "text": [
            "8\n"
          ]
        }
      ]
    },
    {
      "cell_type": "code",
      "source": [
        "#4, 이 데이터에서 licat을 출력해주세요. 단, 직접 접근은 안됩니다. data[1]로 접근하는 것은 안됩니다.\n",
        "data = [['weniv CTO binky', 2], ['weniv CEO licat', 1], ['weniv COO mura', 2]]\n",
        "w, q, s = data\n",
        "x = (q[-2])\n",
        "x.split(' ')\n",
        "x[10:]\n"
      ],
      "metadata": {
        "colab": {
          "base_uri": "https://localhost:8080/",
          "height": 35
        },
        "id": "3ZxqPozV4JdM",
        "outputId": "9bd2bcfe-89fd-4e80-90cb-25e09bc3fa80"
      },
      "execution_count": 131,
      "outputs": [
        {
          "output_type": "execute_result",
          "data": {
            "text/plain": [
              "'licat'"
            ],
            "application/vnd.google.colaboratory.intrinsic+json": {
              "type": "string"
            }
          },
          "metadata": {},
          "execution_count": 131
        }
      ]
    },
    {
      "cell_type": "code",
      "source": [
        "#5, 다음 함수 is_palindrome를 완성하시오.\n",
        "#이 함수는 하나의 문자열을 인자로 받아,\n",
        "#해당 문자열이 앞으로 읽으나 뒤로 읽으나 같은 단어이면 True를, 아니면 False를 반환해야 합니다.\n",
        "def is_palindrome(a):\n",
        "    a = input()\n",
        "\n",
        "    if a == a[::-1]:\n",
        "        return True\n",
        "    else:\n",
        "        return False\n",
        "print(is_palindrome(a))\n",
        "\n"
      ],
      "metadata": {
        "colab": {
          "base_uri": "https://localhost:8080/"
        },
        "id": "vSvCWU6o9ut0",
        "outputId": "0a2b7509-f779-4aac-e437-7cd3228173f6"
      },
      "execution_count": 171,
      "outputs": [
        {
          "output_type": "stream",
          "name": "stdout",
          "text": [
            "apple\n",
            "False\n"
          ]
        }
      ]
    },
    {
      "cell_type": "code",
      "source": [
        "# 6. 리스트 numbers가 주어졌을 때, 이 리스트 내의 모든 짝수를 제거하는 코드를 작성하시오.\n",
        "numbers = [2, 3, 4, 5, 6, 7, 8, 9, 10]\n",
        "numbers = [num for num in numbers if num % 2 != 0] #리스트 컴프리헨\n",
        "\n",
        "print(numbers)  # 결과: [3, 5, 7, 9]"
      ],
      "metadata": {
        "colab": {
          "base_uri": "https://localhost:8080/"
        },
        "id": "uyHi-O047FmL",
        "outputId": "b1f8be57-70b7-48c5-83bb-8a52ec47150c"
      },
      "execution_count": 210,
      "outputs": [
        {
          "output_type": "stream",
          "name": "stdout",
          "text": [
            "[3, 5, 7, 9]\n"
          ]
        }
      ]
    },
    {
      "cell_type": "code",
      "source": [
        "#7, 이 코드는 복잡한 데이터 구조를 실행하는 예제입니다. 리스트의 첫 번째 요소[2,3,4,5,6]를 기준으로 오름차순 정렬을 수행합니다.\n",
        "data = [\n",
        "    [2, 'hello world', 30],\n",
        "    [3, 'hworl', 33],\n",
        "    [5, 'hello wo', 35],\n",
        "    [4, 'hello w', 31],\n",
        "    [6, 'hello w', 39]\n",
        "]\n",
        "\n",
        "# 1번째 문제: 첫 번째 요소의 값을 정렬하세요.\n",
        "sorted(data, reverse = False)\n",
        "\n",
        "# 2번째 문제: 두 번째 요소의 문자열 길이를 기준으로 정렬하세요.\n",
        "sorted(data, key=lambda x:len(x[1]))\n",
        "# sorted([11, 5, 7, 8, 7])를 정렬하는 것과 같습니다. 다만 숫자 값으로 반환하는 것이 아니라 object로 반환하죠.'\n",
        "\n",
        "# 3번째 문제: 세 번째 요소 기준으로 정렬하세요.\n",
        "sorted(data, key=lambda x:x[2])\n",
        "\n",
        "# 4번째 문제: 첫번째 요소와 세 번째 요소의 차가 큰 순으로 출력해주세요.\n",
        "# 예를 들어 [2, 'hello world', 30]의 경우 30 - 2 == 28입니다. 이런 차 순서대로 출력하시면 됩니다.\n",
        "sorted(data, key=lambda x:x[0]-x[2])\n",
        "sorted(data, key=lambda x:x[2]-x[0], reverse=True)"
      ],
      "metadata": {
        "colab": {
          "base_uri": "https://localhost:8080/"
        },
        "id": "cVHfCG-oDMlL",
        "outputId": "d5795f48-cb62-4400-e071-c03d04e79348"
      },
      "execution_count": 220,
      "outputs": [
        {
          "output_type": "execute_result",
          "data": {
            "text/plain": [
              "[[6, 'hello w', 39],\n",
              " [3, 'hworl', 33],\n",
              " [5, 'hello wo', 35],\n",
              " [2, 'hello world', 30],\n",
              " [4, 'hello w', 31]]"
            ]
          },
          "metadata": {},
          "execution_count": 220
        }
      ]
    },
    {
      "cell_type": "code",
      "source": [
        "sorted(zip(s, s[1:]), key=lambda x:x[1]-x[0])\n",
        "# 출력 : [(3, 4), (1, 3), (4, 8), (13, 17), (17, 20), (8, 13)]"
      ],
      "metadata": {
        "colab": {
          "base_uri": "https://localhost:8080/",
          "height": 276
        },
        "id": "9A7UXc2PFr4f",
        "outputId": "326e3912-d59e-4b13-cd05-7d6465cc8042"
      },
      "execution_count": 222,
      "outputs": [
        {
          "output_type": "error",
          "ename": "TypeError",
          "evalue": "unsupported operand type(s) for -: 'int' and 'str'",
          "traceback": [
            "\u001b[0;31m---------------------------------------------------------------------------\u001b[0m",
            "\u001b[0;31mTypeError\u001b[0m                                 Traceback (most recent call last)",
            "\u001b[0;32m<ipython-input-222-9e91d16ca20f>\u001b[0m in \u001b[0;36m<cell line: 1>\u001b[0;34m()\u001b[0m\n\u001b[0;32m----> 1\u001b[0;31m \u001b[0msorted\u001b[0m\u001b[0;34m(\u001b[0m\u001b[0mzip\u001b[0m\u001b[0;34m(\u001b[0m\u001b[0ms\u001b[0m\u001b[0;34m,\u001b[0m \u001b[0ms\u001b[0m\u001b[0;34m[\u001b[0m\u001b[0;36m1\u001b[0m\u001b[0;34m:\u001b[0m\u001b[0;34m]\u001b[0m\u001b[0;34m)\u001b[0m\u001b[0;34m,\u001b[0m \u001b[0mkey\u001b[0m\u001b[0;34m=\u001b[0m\u001b[0;32mlambda\u001b[0m \u001b[0mx\u001b[0m\u001b[0;34m:\u001b[0m\u001b[0mx\u001b[0m\u001b[0;34m[\u001b[0m\u001b[0;36m1\u001b[0m\u001b[0;34m]\u001b[0m\u001b[0;34m-\u001b[0m\u001b[0mx\u001b[0m\u001b[0;34m[\u001b[0m\u001b[0;36m0\u001b[0m\u001b[0;34m]\u001b[0m\u001b[0;34m)\u001b[0m\u001b[0;34m\u001b[0m\u001b[0;34m\u001b[0m\u001b[0m\n\u001b[0m\u001b[1;32m      2\u001b[0m \u001b[0;31m# 출력 : [(3, 4), (1, 3), (4, 8), (13, 17), (17, 20), (8, 13)]\u001b[0m\u001b[0;34m\u001b[0m\u001b[0;34m\u001b[0m\u001b[0m\n",
            "\u001b[0;32m<ipython-input-222-9e91d16ca20f>\u001b[0m in \u001b[0;36m<lambda>\u001b[0;34m(x)\u001b[0m\n\u001b[0;32m----> 1\u001b[0;31m \u001b[0msorted\u001b[0m\u001b[0;34m(\u001b[0m\u001b[0mzip\u001b[0m\u001b[0;34m(\u001b[0m\u001b[0ms\u001b[0m\u001b[0;34m,\u001b[0m \u001b[0ms\u001b[0m\u001b[0;34m[\u001b[0m\u001b[0;36m1\u001b[0m\u001b[0;34m:\u001b[0m\u001b[0;34m]\u001b[0m\u001b[0;34m)\u001b[0m\u001b[0;34m,\u001b[0m \u001b[0mkey\u001b[0m\u001b[0;34m=\u001b[0m\u001b[0;32mlambda\u001b[0m \u001b[0mx\u001b[0m\u001b[0;34m:\u001b[0m\u001b[0mx\u001b[0m\u001b[0;34m[\u001b[0m\u001b[0;36m1\u001b[0m\u001b[0;34m]\u001b[0m\u001b[0;34m-\u001b[0m\u001b[0mx\u001b[0m\u001b[0;34m[\u001b[0m\u001b[0;36m0\u001b[0m\u001b[0;34m]\u001b[0m\u001b[0;34m)\u001b[0m\u001b[0;34m\u001b[0m\u001b[0;34m\u001b[0m\u001b[0m\n\u001b[0m\u001b[1;32m      2\u001b[0m \u001b[0;31m# 출력 : [(3, 4), (1, 3), (4, 8), (13, 17), (17, 20), (8, 13)]\u001b[0m\u001b[0;34m\u001b[0m\u001b[0;34m\u001b[0m\u001b[0m\n",
            "\u001b[0;31mTypeError\u001b[0m: unsupported operand type(s) for -: 'int' and 'str'"
          ]
        }
      ]
    },
    {
      "cell_type": "code",
      "source": [
        "#99. 실전 문제\n",
        "\n",
        "'''\n",
        "아래 문제를 풀어보세요!\n",
        "'숫자' 배열을 '승수' 배열과 짝지어서 승수만큼 제곱을 시켜줄 것 입니다.\n",
        "답은 하단에 있으니 꼭 문제를 풀어보시고 확인해주세요:)\n",
        "숫자 = [1, 2, 3, 4, 5]\n",
        "승수 = [2, 2, 2, 3, 3]\n",
        "'''\n",
        "\n",
        "#문제\n",
        "#1. 숫자의 승수를 zip으로 맵핑해서 진행하세요.\n",
        "숫자 = [1, 2, 3, 4, 5]\n",
        "승수 = [2, 2, 2, 3, 3]\n",
        "list(zip(숫자, 승수))\n",
        "\n"
      ],
      "metadata": {
        "colab": {
          "base_uri": "https://localhost:8080/"
        },
        "id": "pMsWCTYpGRKu",
        "outputId": "1646fe4e-ab81-46dc-8049-526273715516"
      },
      "execution_count": 241,
      "outputs": [
        {
          "output_type": "execute_result",
          "data": {
            "text/plain": [
              "[(1, 2), (2, 2), (3, 2), (4, 3), (5, 3)]"
            ]
          },
          "metadata": {},
          "execution_count": 241
        }
      ]
    },
    {
      "cell_type": "code",
      "source": [
        "#2. 숫자를 승수만큼 제곱하여 결과값을 표현해주세요.\n",
        "\n",
        "숫자 = [1, 2, 3, 4, 5]\n",
        "승수 = [2, 2, 2, 3, 3]\n",
        "list(map(lambda x:x[0] ** x[1], zip(숫자, 승수)))"
      ],
      "metadata": {
        "colab": {
          "base_uri": "https://localhost:8080/"
        },
        "id": "Uvxq5Cn2G1qO",
        "outputId": "59c024d7-8c0e-4305-930b-b3b5cd3cc708"
      },
      "execution_count": 252,
      "outputs": [
        {
          "output_type": "execute_result",
          "data": {
            "text/plain": [
              "[1, 4, 9, 64, 125]"
            ]
          },
          "metadata": {},
          "execution_count": 252
        }
      ]
    },
    {
      "cell_type": "code",
      "source": [
        "#3. 승수한 값이 100이상인 값을 출력하세요.\n",
        "\n",
        "숫자 = [1, 2, 3, 4, 5]\n",
        "승수 = [2, 2, 2, 3, 3]\n",
        "\n",
        "def select():\n",
        "    결과 = list(map(lambda x: x[0] ** x[1], zip(숫자, 승수)))\n",
        "    선택된_값 = [값 for 값 in 결과 if 값 >= 100]\n",
        "    return 선택된_값\n",
        "\n",
        "print(select())"
      ],
      "metadata": {
        "colab": {
          "base_uri": "https://localhost:8080/"
        },
        "id": "M8bP92LEINXk",
        "outputId": "f2090cf4-6d28-44ca-8cf9-c588707ce3f8"
      },
      "execution_count": 265,
      "outputs": [
        {
          "output_type": "stream",
          "name": "stdout",
          "text": [
            "[125]\n"
          ]
        }
      ]
    },
    {
      "cell_type": "code",
      "source": [
        "#4. 승수한 값을 모두 더하세요.\n",
        "숫자 = [1, 2, 3, 4, 5]\n",
        "승수 = [2, 2, 2, 3, 3]\n",
        "\n",
        "결과 = list(map(lambda x: x[0] ** x[1], zip(숫자, 승수)))\n",
        "총계 = sum(결과)\n",
        "\n",
        "print(총계)"
      ],
      "metadata": {
        "colab": {
          "base_uri": "https://localhost:8080/"
        },
        "id": "pzTMNsFdJv-y",
        "outputId": "73884309-31e6-404e-b7df-3503ffd156d9"
      },
      "execution_count": 267,
      "outputs": [
        {
          "output_type": "stream",
          "name": "stdout",
          "text": [
            "203\n"
          ]
        }
      ]
    }
  ]
}