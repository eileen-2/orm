{
  "nbformat": 4,
  "nbformat_minor": 0,
  "metadata": {
    "colab": {
      "provenance": [],
      "authorship_tag": "ABX9TyOtOGaA++UYdqeJ8N3ah1Rh",
      "include_colab_link": true
    },
    "kernelspec": {
      "name": "python3",
      "display_name": "Python 3"
    },
    "language_info": {
      "name": "python"
    }
  },
  "cells": [
    {
      "cell_type": "markdown",
      "metadata": {
        "id": "view-in-github",
        "colab_type": "text"
      },
      "source": [
        "<a href=\"https://colab.research.google.com/github/eileen-2/orm/blob/main/0102_%EA%B3%BC%EC%A0%9C2.ipynb\" target=\"_parent\"><img src=\"https://colab.research.google.com/assets/colab-badge.svg\" alt=\"Open In Colab\"/></a>"
      ]
    },
    {
      "cell_type": "markdown",
      "source": [
        "문제15 : 자기소개\n"
      ],
      "metadata": {
        "id": "aWM-q_WfQ1Bg"
      }
    },
    {
      "cell_type": "code",
      "source": [
        "input('안녕하세요. 저는 ___입니다.')\n",
        "name = '김다정'\n",
        "print(f'안녕하세요. 저는 {name}입니다.')"
      ],
      "metadata": {
        "colab": {
          "base_uri": "https://localhost:8080/"
        },
        "id": "TGYUmBGLQ465",
        "outputId": "1174550c-1224-4dca-d1f7-5f74c4a6a388"
      },
      "execution_count": 1,
      "outputs": [
        {
          "output_type": "stream",
          "name": "stdout",
          "text": [
            "안녕하세요. 저는 ___입니다.김다정\n",
            "안녕하세요. 저는 김다정입니다.\n"
          ]
        }
      ]
    }
  ]
}