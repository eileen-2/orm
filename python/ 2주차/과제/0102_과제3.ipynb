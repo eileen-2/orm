{
  "nbformat": 4,
  "nbformat_minor": 0,
  "metadata": {
    "colab": {
      "provenance": [],
      "authorship_tag": "ABX9TyMvwoy7PyTpPMRO93AVnVzR",
      "include_colab_link": true
    },
    "kernelspec": {
      "name": "python3",
      "display_name": "Python 3"
    },
    "language_info": {
      "name": "python"
    }
  },
  "cells": [
    {
      "cell_type": "markdown",
      "metadata": {
        "id": "view-in-github",
        "colab_type": "text"
      },
      "source": [
        "<a href=\"https://colab.research.google.com/github/eileen-2/orm/blob/main/0102_%EA%B3%BC%EC%A0%9C3.ipynb\" target=\"_parent\"><img src=\"https://colab.research.google.com/assets/colab-badge.svg\" alt=\"Open In Colab\"/></a>"
      ]
    },
    {
      "cell_type": "code",
      "execution_count": 2,
      "metadata": {
        "colab": {
          "base_uri": "https://localhost:8080/"
        },
        "id": "0si9KyP0Rh3B",
        "outputId": "f750d68e-2d63-4eb2-e243-ef2a1beb4777"
      },
      "outputs": [
        {
          "output_type": "stream",
          "name": "stdout",
          "text": [
            "5.0\n"
          ]
        }
      ],
      "source": [
        "print(10/2)"
      ]
    },
    {
      "cell_type": "markdown",
      "source": [
        "답은 x"
      ],
      "metadata": {
        "id": "Yy8uqTH2RytH"
      }
    },
    {
      "cell_type": "code",
      "source": [],
      "metadata": {
        "id": "_4-CKWXSR3CA"
      },
      "execution_count": null,
      "outputs": []
    }
  ]
}