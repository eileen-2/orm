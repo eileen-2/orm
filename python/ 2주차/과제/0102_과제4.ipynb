{
  "nbformat": 4,
  "nbformat_minor": 0,
  "metadata": {
    "colab": {
      "provenance": [],
      "authorship_tag": "ABX9TyMEuGoICi1fFSH76GVRd1Pb",
      "include_colab_link": true
    },
    "kernelspec": {
      "name": "python3",
      "display_name": "Python 3"
    },
    "language_info": {
      "name": "python"
    }
  },
  "cells": [
    {
      "cell_type": "markdown",
      "metadata": {
        "id": "view-in-github",
        "colab_type": "text"
      },
      "source": [
        "<a href=\"https://colab.research.google.com/github/eileen-2/orm/blob/main/0102_%EA%B3%BC%EC%A0%9C4.ipynb\" target=\"_parent\"><img src=\"https://colab.research.google.com/assets/colab-badge.svg\" alt=\"Open In Colab\"/></a>"
      ]
    },
    {
      "cell_type": "markdown",
      "source": [
        "문제39 : 오타 수정하기\n",
        "문장이 입력되면 모든 q를 e로, b를 n으로 바꾸는 프로그램을 작성해 주세요."
      ],
      "metadata": {
        "id": "BP3oXxB5R8ED"
      }
    },
    {
      "cell_type": "code",
      "source": [
        "a = \"querty\"\n",
        "\n",
        "a.replace(\"q\",\"e\")"
      ],
      "metadata": {
        "colab": {
          "base_uri": "https://localhost:8080/",
          "height": 35
        },
        "id": "OklRqS_ZSF_z",
        "outputId": "d819b17e-c558-4162-eabf-0199b8c45d58"
      },
      "execution_count": 9,
      "outputs": [
        {
          "output_type": "execute_result",
          "data": {
            "text/plain": [
              "'euerty'"
            ],
            "application/vnd.google.colaboratory.intrinsic+json": {
              "type": "string"
            }
          },
          "metadata": {},
          "execution_count": 9
        }
      ]
    },
    {
      "cell_type": "code",
      "source": [
        "a=\"hqllo my bamq is hyqwob\"\n",
        "\n",
        "a.replace(\"q\",\"e\")"
      ],
      "metadata": {
        "colab": {
          "base_uri": "https://localhost:8080/",
          "height": 35
        },
        "id": "ptYaKWm3SO3Y",
        "outputId": "463b0d20-3073-4925-b737-07c76bd0afcc"
      },
      "execution_count": 11,
      "outputs": [
        {
          "output_type": "execute_result",
          "data": {
            "text/plain": [
              "'hello my bame is hyewob'"
            ],
            "application/vnd.google.colaboratory.intrinsic+json": {
              "type": "string"
            }
          },
          "metadata": {},
          "execution_count": 11
        }
      ]
    },
    {
      "cell_type": "code",
      "source": [
        "data = input()\n",
        "\n",
        "print(data.replace('q', 'e').replace('b', 'n'))"
      ],
      "metadata": {
        "colab": {
          "base_uri": "https://localhost:8080/"
        },
        "id": "fCSY-cdUTuuZ",
        "outputId": "3400c29e-d50e-465c-c807-f8038847cec1"
      },
      "execution_count": 14,
      "outputs": [
        {
          "output_type": "stream",
          "name": "stdout",
          "text": [
            "hqllo my bamq is hyqwob\n",
            "hello my name is hyewon\n"
          ]
        }
      ]
    }
  ]
}