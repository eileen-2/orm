{
  "nbformat": 4,
  "nbformat_minor": 0,
  "metadata": {
    "colab": {
      "provenance": [],
      "authorship_tag": "ABX9TyMmM6sNebl5WzgTAKeO1HB2",
      "include_colab_link": true
    },
    "kernelspec": {
      "name": "python3",
      "display_name": "Python 3"
    },
    "language_info": {
      "name": "python"
    }
  },
  "cells": [
    {
      "cell_type": "markdown",
      "metadata": {
        "id": "view-in-github",
        "colab_type": "text"
      },
      "source": [
        "<a href=\"https://colab.research.google.com/github/eileen-2/orm/blob/main/0108_%ED%95%A8%EC%88%98_%EA%B8%B0%EB%B3%B8.ipynb\" target=\"_parent\"><img src=\"https://colab.research.google.com/assets/colab-badge.svg\" alt=\"Open In Colab\"/></a>"
      ]
    },
    {
      "cell_type": "code",
      "execution_count": 1,
      "metadata": {
        "id": "qFib6jiqjk_7",
        "colab": {
          "base_uri": "https://localhost:8080/",
          "height": 35
        },
        "outputId": "fed88f33-f4a5-4b1c-bf8d-00bb2f63fb35"
      },
      "outputs": [
        {
          "output_type": "execute_result",
          "data": {
            "text/plain": [
              "'\\n- 코드 실행 날짜:20240108\\n- 버전: V0.1\\n- 작성자 : 이은희\\n- 코드내용: 함수\\n'"
            ],
            "application/vnd.google.colaboratory.intrinsic+json": {
              "type": "string"
            }
          },
          "metadata": {},
          "execution_count": 1
        }
      ],
      "source": [
        "'''\n",
        "- 코드 실행 날짜:20240108\n",
        "- 버전: V0.1\n",
        "- 작성자 : 이은희\n",
        "- 코드내용: 함수\n",
        "'''"
      ]
    },
    {
      "cell_type": "markdown",
      "source": [
        "#1. 함수\n",
        "\n",
        "' 특정 작업을 수행하는 코드 블록을 하나의 이름 아래로 모은 것'\n",
        "\n",
        "- def 함수명():~~ return\n",
        "- 들여쓰기 4공백 > 탭과 띄어쓰기 중 하나로 통일\n",
        "- 함수범위: def~ 들여쓰기 되어있는 라인까지\n",
        "- 왜 사용? 가독성, 관리, 재사용\n",
        "\n"
      ],
      "metadata": {
        "id": "epDDG2iaqvNw"
      }
    },
    {
      "cell_type": "code",
      "source": [
        "#1. 함수 만들어 보기\n",
        "\n",
        "def this_expect(): #def: 함수 / expect: 함수의 이름 + ()':'"
      ],
      "metadata": {
        "colab": {
          "base_uri": "https://localhost:8080/",
          "height": 147
        },
        "id": "NEqAtv9tsXEd",
        "outputId": "61ac4f29-84aa-457d-ad90-c25af86bff16"
      },
      "execution_count": 3,
      "outputs": [
        {
          "output_type": "error",
          "ename": "SyntaxError",
          "evalue": "incomplete input (<ipython-input-3-d8b68a722edd>, line 3)",
          "traceback": [
            "\u001b[0;36m  File \u001b[0;32m\"<ipython-input-3-d8b68a722edd>\"\u001b[0;36m, line \u001b[0;32m3\u001b[0m\n\u001b[0;31m    def expectation(): #def: 함수 / expect: 함수의 이름 + ()':'\u001b[0m\n\u001b[0m                                                        ^\u001b[0m\n\u001b[0;31mSyntaxError\u001b[0m\u001b[0;31m:\u001b[0m incomplete input\n"
          ]
        }
      ]
    },
    {
      "cell_type": "code",
      "source": [
        "#2. 들여쓰기\n",
        "def this_expect():\n",
        "    print('1')\n",
        "    print('2')\n",
        "    print('3')\n",
        "# 함수의 실행\n",
        "this_expect() #def와 :은 필요하지 않음.\n"
      ],
      "metadata": {
        "colab": {
          "base_uri": "https://localhost:8080/"
        },
        "id": "LuTXoYL3sr10",
        "outputId": "8be0f6f9-5233-4300-a078-4f25ab13a3a7"
      },
      "execution_count": 5,
      "outputs": [
        {
          "output_type": "stream",
          "name": "stdout",
          "text": [
            "1\n",
            "2\n",
            "3\n"
          ]
        }
      ]
    },
    {
      "cell_type": "code",
      "source": [
        "def this_expect():\n",
        "    print('1')\n",
        "    print('2')\n",
        "print('3')\n",
        "this_expect()\n"
      ],
      "metadata": {
        "colab": {
          "base_uri": "https://localhost:8080/"
        },
        "id": "_3wZsnpztsU5",
        "outputId": "c2821a3a-86d7-496d-c6c5-27f10cac4a7e"
      },
      "execution_count": 14,
      "outputs": [
        {
          "output_type": "stream",
          "name": "stdout",
          "text": [
            "3\n",
            "1\n",
            "2\n"
          ]
        }
      ]
    },
    {
      "cell_type": "markdown",
      "source": [
        "#1.2 함수의 기본 구조\n",
        "\n",
        "'함수 = 함수의 선언, 이름, 입력, 기능 및 연산, 출력, 호출'\n",
        "-\n",
        "def 함수명(입력):\n",
        "    기능, 연산\n",
        "    return # 할당된 변수를 함수의 결과로 반환\n",
        "print(\"함수명()=\", 호출)\n",
        "\n",
        "def function(x, y): # x, y = 매개변수\n",
        "    z = x + y       # x + y : 연산\n",
        "    print(z)       \n",
        "print(f'function(5, 7) = {function(5, 7)}')  \n",
        "\n",
        "** 변수 지정안할 시 : None 반환\n",
        "    ** 아무 코드를 넣지 않은 경우 : `pass`\n",
        "    > 아니면 error 반환됨.\n",
        "\n",
        "------\n",
        "- **입력**:  **`x, y`**는 **`function_name`**에서 사용할 변수, 매개변수(파라미터, parameter)\n",
        "    \n",
        "    함수 =(파라미터(parameter, 매개변수, 인자)):\n",
        "        f(아규먼트(argument, 인수))\n",
        "   -  ** 파라미터가 없는 함수도 있음. 괄호 안에 어떤 값도 받지 않음.\n",
        "    \n",
        "    \n",
        "- **기능과 연산**: **`z = x + y`**는 **`function`**의 내부에서 수행되는 연산\n",
        "    \n",
        "   - 변수에 값을 할당\n",
        "   -데이터 구조를 조작 등\n",
        "    \n",
        "    ** 아무 코드를 넣지 않은 경우 : `pass`\n",
        "    > 아니면 error 반환됨."
      ],
      "metadata": {
        "id": "eRbps8uX1jla"
      }
    },
    {
      "cell_type": "code",
      "source": [
        "def function(x, y):\n",
        "    z = x + y\n",
        "    print(z)\n",
        "print(f'function(5, 7) = {function(5, 7)}')"
      ],
      "metadata": {
        "colab": {
          "base_uri": "https://localhost:8080/"
        },
        "id": "_Q3Q9xHf5pp1",
        "outputId": "e467a685-5e63-4ceb-975c-a817bf053429"
      },
      "execution_count": 44,
      "outputs": [
        {
          "output_type": "stream",
          "name": "stdout",
          "text": [
            "12\n",
            "function(5, 7) = None\n"
          ]
        }
      ]
    },
    {
      "cell_type": "code",
      "source": [],
      "metadata": {
        "id": "o8IjxC7n5pr2"
      },
      "execution_count": null,
      "outputs": []
    },
    {
      "cell_type": "code",
      "source": [
        "def function(x, y):\n",
        "    z = x + y\n",
        "    return z\n",
        "print(\"function(10, 9)=\", function(10,9))"
      ],
      "metadata": {
        "colab": {
          "base_uri": "https://localhost:8080/"
        },
        "id": "aMFvkEgQ2owb",
        "outputId": "ab0c2cdc-b5bb-4b52-df52-eb8aeac10f88"
      },
      "execution_count": 19,
      "outputs": [
        {
          "output_type": "stream",
          "name": "stdout",
          "text": [
            "function(10, 9)= 19\n"
          ]
        }
      ]
    },
    {
      "cell_type": "code",
      "source": [
        "def function_name(x, y):\n",
        "    z = x + y\n",
        "    return z\n",
        "print(f'function_name(10, 9) = {function_name(10, 9)}')"
      ],
      "metadata": {
        "colab": {
          "base_uri": "https://localhost:8080/"
        },
        "id": "y5RVjggK3eND",
        "outputId": "ff3b9e49-619b-47c6-9b4d-bdf146054cc5"
      },
      "execution_count": 20,
      "outputs": [
        {
          "output_type": "stream",
          "name": "stdout",
          "text": [
            "function_name(10, 9) = 19\n"
          ]
        }
      ]
    },
    {
      "cell_type": "markdown",
      "source": [
        "- **선언**: **`def`**\n",
        "    \n",
        "    함수는 **`def`** 선언\n",
        "    \n",
        "- **이름**: **`function_name`**\n",
        "    \n",
        "    함수의 이름은 함수를 식별, 규칙 있음. 재사용\n",
        "    \n",
        "- **입력**:  **`x, y`**는 **`function_name`**에서 사용할 변수, 매개변수(파라미터, parameter)\n",
        "    \n",
        "    함수 = 파라미터(parameter, 매개변수, 인자) -> 아규먼트(argument, 인수)\n",
        "   -  ** 파라미터가 없는 함수도 있음. 괄호 안에 어떤 값도 받지 않음.\n",
        "    \n",
        "    \n",
        "- **기능과 연산**: **`z = x + y`**는 **`function`**의 내부에서 수행되는 연산\n",
        "    \n",
        "   - 변수에 값을 할당\n",
        "   -데이터 구조를 조작 등\n",
        "    \n",
        "    ** 아무 코드를 넣지 않은 경우 : `pass`\n",
        "    > 아니면 error 반환됨."
      ],
      "metadata": {
        "id": "hNAHbWRr4HG1"
      }
    },
    {
      "cell_type": "code",
      "source": [
        "#2.1 입력 매개변수가 없고, 반환 값도 없는 함수\n",
        " - > 매개변수가 없으므로 매개변수에 영향을 받지 않고 결과 호출\n",
        "def simple_function():\n",
        "    print('hello world')\n",
        "\n",
        "print(simple_function())"
      ],
      "metadata": {
        "colab": {
          "base_uri": "https://localhost:8080/"
        },
        "id": "SrMczLmg4g-K",
        "outputId": "0a4fb2d9-309c-4e71-962e-f39ffe69f2ac"
      },
      "execution_count": 46,
      "outputs": [
        {
          "output_type": "stream",
          "name": "stdout",
          "text": [
            "hello world\n",
            "None\n"
          ]
        }
      ]
    },
    {
      "cell_type": "code",
      "source": [
        "# 2.2 파라미터 없고, 반환값은 있는 함수\n",
        "#- >매개변수 유무에 상관없이 함수 적용 -> return값 반환\n",
        "\n",
        "def give_me_five():\n",
        "    return 5\n",
        "result = 5 #비슷한 느\n",
        "result = give_me_five() #할당! 함수명 호출> return = 5\n",
        "print(result) # 출력: 5"
      ],
      "metadata": {
        "colab": {
          "base_uri": "https://localhost:8080/",
          "height": 147
        },
        "id": "hwt2LPdi9vyx",
        "outputId": "740d4b2e-b0a4-47fb-b402-4a647abaf286"
      },
      "execution_count": 48,
      "outputs": [
        {
          "output_type": "error",
          "ename": "SyntaxError",
          "evalue": "invalid syntax (<ipython-input-48-421830667169>, line 2)",
          "traceback": [
            "\u001b[0;36m  File \u001b[0;32m\"<ipython-input-48-421830667169>\"\u001b[0;36m, line \u001b[0;32m2\u001b[0m\n\u001b[0;31m    - >매개변수 유무에 상관없이 함수 적용 -> return값 반환\u001b[0m\n\u001b[0m      ^\u001b[0m\n\u001b[0;31mSyntaxError\u001b[0m\u001b[0;31m:\u001b[0m invalid syntax\n"
          ]
        }
      ]
    },
    {
      "cell_type": "code",
      "source": [
        "# 2.3 파라미터 있고, 반환값은 없는 함수(원래는 None 결과)\n",
        "def greeting(name):\n",
        "    print(f'hello, {name}!') #return 없음-> 결과는 None값임.print로 출력하지 않으면 안나옴. {name}을 받으면 이대로 출력해라\n",
        "\n",
        "print(greeting('Licat')) #함수호출, name = 'Licat' 받아서 greeting이라는 함수 호출\n",
        "                         #print()로 return을 가져오라고 명령을 안하면 None 반환안됨"
      ],
      "metadata": {
        "colab": {
          "base_uri": "https://localhost:8080/"
        },
        "id": "uK-k7ZaoCHTD",
        "outputId": "13909242-c688-401c-92d5-993b41ef35d2"
      },
      "execution_count": 61,
      "outputs": [
        {
          "output_type": "stream",
          "name": "stdout",
          "text": [
            "hello, Licat!\n",
            "None\n"
          ]
        }
      ]
    },
    {
      "cell_type": "code",
      "source": [
        "# 2.4 파라미터 있고, 반환값은 있는 함수"
      ],
      "metadata": {
        "id": "BvWb8O5zD9HA"
      },
      "execution_count": 62,
      "outputs": []
    },
    {
      "cell_type": "code",
      "source": [
        "def add_numbers(x, y):\n",
        "    sum = x + y #파라미터 x, y를 sum으로 연산\n",
        "    return sum # 결과 sum에 저\n",
        "\n",
        "# 함수 호출\n",
        "result = add_numbers(5, 3) #result인수에 x, y 가 할당된 함수 add_number 연산\n",
        "print(result)  # 출력: 8 #print로 결과 출력"
      ],
      "metadata": {
        "colab": {
          "base_uri": "https://localhost:8080/"
        },
        "id": "xtvRoBRJEu5Q",
        "outputId": "0084c39b-bef9-41b3-e95a-16a03257d8f0"
      },
      "execution_count": 64,
      "outputs": [
        {
          "output_type": "stream",
          "name": "stdout",
          "text": [
            "8\n"
          ]
        }
      ]
    },
    {
      "cell_type": "code",
      "source": [
        "## print()와 return의 구분!!!!!!!!!!!!!\n",
        "\n",
        "def function(x, y):\n",
        "    z = x + y\n",
        "    print(z)\n",
        "print(f'function(5, 7) = {function(5, 7)}')\n",
        "\n"
      ],
      "metadata": {
        "colab": {
          "base_uri": "https://localhost:8080/"
        },
        "id": "6im0DY-2Fybd",
        "outputId": "573a5de9-a2bf-457e-84da-a57c090e96cf"
      },
      "execution_count": 65,
      "outputs": [
        {
          "output_type": "stream",
          "name": "stdout",
          "text": [
            "12\n",
            "function(5, 7) = None\n"
          ]
        }
      ]
    },
    {
      "cell_type": "code",
      "source": [
        "print(print('hello')) #함수의 반환값이 없으므로 None이 출력"
      ],
      "metadata": {
        "colab": {
          "base_uri": "https://localhost:8080/"
        },
        "id": "pe718-TUF6E1",
        "outputId": "3365dc45-1ad7-4938-fe92-605f14b25699"
      },
      "execution_count": 66,
      "outputs": [
        {
          "output_type": "stream",
          "name": "stdout",
          "text": [
            "hello\n",
            "None\n"
          ]
        }
      ]
    },
    {
      "cell_type": "code",
      "source": [],
      "metadata": {
        "id": "Od7vWRAgF8l0"
      },
      "execution_count": null,
      "outputs": []
    }
  ]
}