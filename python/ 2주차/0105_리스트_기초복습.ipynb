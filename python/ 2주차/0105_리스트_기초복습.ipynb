{
  "nbformat": 4,
  "nbformat_minor": 0,
  "metadata": {
    "colab": {
      "provenance": [],
      "authorship_tag": "ABX9TyPmq2yR362EtNMifegKLKVE",
      "include_colab_link": true
    },
    "kernelspec": {
      "name": "python3",
      "display_name": "Python 3"
    },
    "language_info": {
      "name": "python"
    }
  },
  "cells": [
    {
      "cell_type": "markdown",
      "metadata": {
        "id": "view-in-github",
        "colab_type": "text"
      },
      "source": [
        "<a href=\"https://colab.research.google.com/github/eileen-2/orm/blob/main/0105_%EB%A6%AC%EC%8A%A4%ED%8A%B8_%EA%B8%B0%EC%B4%88%EB%B3%B5%EC%8A%B5.ipynb\" target=\"_parent\"><img src=\"https://colab.research.google.com/assets/colab-badge.svg\" alt=\"Open In Colab\"/></a>"
      ]
    },
    {
      "cell_type": "code",
      "execution_count": 11,
      "metadata": {
        "colab": {
          "base_uri": "https://localhost:8080/",
          "height": 90
        },
        "id": "CLNI4pe2J2GJ",
        "outputId": "d1bd91d0-8ce2-4726-c90f-7e4e04206018"
      },
      "outputs": [
        {
          "output_type": "stream",
          "name": "stdout",
          "text": [
            "hello worldhello worldhello worldhello worldhello worldhello worldhello \\orldhello worldhello worldhello world\n",
            "hello worldhelloworld\n",
            "hello worldhello world\n"
          ]
        },
        {
          "output_type": "execute_result",
          "data": {
            "text/plain": [
              "'hi world hi world'"
            ],
            "application/vnd.google.colaboratory.intrinsic+json": {
              "type": "string"
            }
          },
          "metadata": {},
          "execution_count": 11
        }
      ],
      "source": [
        "#회색 줄은 영문자 80자, 한글은 32자\n",
        "#PEP8, PEP 20\n",
        "\n",
        "#해결책1: 역슬러시 넣는 방법(권고하지 않음, 이스케이프 문자랑 혼동)\n",
        "print('hello worldhello worldhello worldhello worldhello worldhello worldhello \\orldhello worldhello worldhello world')\n",
        "\n",
        "#해결책2 : '' '' 사이를 공백으로 잇기(엔터치기)\n",
        "print('hello world' 'helloworld')\n",
        "print('hello world'\n",
        "      'hello world')\n",
        "\n",
        "\n",
        "#질문: 메서드 체인으로 길어지면?\n",
        "#답: 메서드 체인 80자 이상 -> 이미 가독성 문제\n",
        "# 메서드 체이닝 3개 이상은 권하지 않음\n",
        "\n",
        "#허용함\n",
        "'hello world'.upper()     .split(' ')    .pop()    .lower()\n",
        "\n",
        "#허용하지 않음(\\n치고 줄바꿈한 코드)\n",
        "\n",
        "#문제 있는 코드\n",
        "'hello world'.upper().split(' ').pop().lower\n",
        "\n",
        "#문제가 덜한 코드\n",
        "대문자 = 'hello world'.upper()\n",
        "잘린대문자 = 대문자.split(' ')\n",
        "\n",
        "#문자열 메서드\n",
        "dir('hello world') #메서드, 매직메서드, (클래스 변수, 인스턴스 변수)\n",
        "\n",
        "#문제1, find() , index()의 차이\n",
        "#find 오류시 -1(-1은 true 결과값)\n",
        "#index 오류시 error\n",
        "#실무에서 사용하는 코드 : 둘 다 많이 사용\n",
        "\n",
        "#문제2, isdigit? 전부 숫자인지 판단\n",
        "'123'.isdigit()\n",
        "'12h3'.isdigit()\n",
        "\n",
        "#문제3, replace가 어디까지 변환하는지?\n",
        "'hello world hello world'.replace('hello', 'hi') #모두 다 변환이 됩니다. 몇 개만 변환되지 않음.\n",
        "#알아둬야할 사항: replace는 정규표현식이 안된다. replace 정규표현식으로 사용하고 싶으면 re.sub사용해야함.\n",
        "\n",
        "#문제4 strip(공백제거)\n",
        "\n",
        "#문제5 zfill(앞에 0으로 원하는 자릿수만큼 채우기)"
      ]
    },
    {
      "cell_type": "markdown",
      "source": [
        "#리스트\n",
        "\n",
        "- 변경이 가능한 자료형\n",
        "- 순서가 있는 자료형(시퀀스 자료형, 인덱싱, 슬라이싱)"
      ],
      "metadata": {
        "id": "1DWyGp-jPzcu"
      }
    },
    {
      "cell_type": "code",
      "source": [
        "a = 10\n",
        "b = a\n",
        "c = b\n",
        "\n",
        "print(c)\n",
        "\n",
        "a = 10\n",
        "b = a\n",
        "c = b\n",
        "a = 20\n",
        "print(c)\n",
        "\n",
        "#-5~256까지 id는 같음\n",
        "a = 10\n",
        "b = a\n",
        "\n",
        "print(id(a))\n",
        "print(id(b))\n",
        "\n",
        "a = 10\n",
        "b = 10\n",
        "\n",
        "print(id(a))\n",
        "print(id(b))\n",
        "print(a is b)\n",
        "\n",
        "a = 257\n",
        "b = 257\n",
        "\n",
        "print(id(a))\n",
        "print(id(b))\n",
        "print(a is b)\n"
      ],
      "metadata": {
        "colab": {
          "base_uri": "https://localhost:8080/"
        },
        "id": "wVVRP_QXTeyg",
        "outputId": "9de5dd15-9e5e-471f-a5ba-a8a46af25a42"
      },
      "execution_count": 15,
      "outputs": [
        {
          "output_type": "stream",
          "name": "stdout",
          "text": [
            "10\n",
            "10\n",
            "132686589133328\n",
            "132686589133328\n",
            "132686589133328\n",
            "132686589133328\n",
            "True\n",
            "132685541228592\n",
            "132685541228688\n",
            "False\n"
          ]
        }
      ]
    },
    {
      "cell_type": "code",
      "source": [
        "l = [10, 20, 30]\n",
        "\n",
        "# 라인 수가 길어졌을 때에는 이렇게 사용하길 권함\n",
        "# 권고1\n",
        "l = [10,\n",
        "     20,\n",
        "     30] #줄바꿔서 입력하기 가능\n",
        "\n",
        "# 권고2 (실무에서 더 자주 사용하는 방)\n",
        "l = [\n",
        "    10,\n",
        "    20,\n",
        "    30,\n",
        "]\n",
        "# 문제가 있습니다. 통신을 할 때에는 JSON이라는 형식을 사용하게 되는데\n",
        "# JSON은 마지막에 콤마를 허용하지 않습니다.\n",
        "\n",
        "# 왜 문제가 있는 권고2번이 더 많이 사용되는가?\n",
        "# 실무에서는 콤마를 버전업으로 인식하 경우도 많고,\n",
        "# 콤마를 빼먹는 경우가 많다.\n",
        "# 편의성: Ctrl + C, Ctrl + V하기 편해서\n",
        "# formatter : 자동 변환 SW 사용 -> (python black formatter) => 권고!!!\n"
      ],
      "metadata": {
        "id": "xNajiEgUP7Vs"
      },
      "execution_count": 12,
      "outputs": []
    },
    {
      "cell_type": "code",
      "source": [
        "l = [10, 20, 30, 40]\n",
        "l[2]\n",
        "l[-2:] #마이너스 인덱싱, 마이너스 슬라이싱은 최종적으로 양수로 치환됩니다.\n",
        "l[3:]\n",
        "# 변수명[stop]\n",
        "# 변수명[start:stop]\n",
        "# 변수명[start:stop:step]\n",
        "\n",
        "type(l), dir(l)\n",
        "# type은 검색 키워드, gpt질문키워드가 될 수 있습니다.\n",
        "# dir은 대략적인 속성을 알 수 있습니다."
      ],
      "metadata": {
        "colab": {
          "base_uri": "https://localhost:8080/"
        },
        "id": "LY-YgrsOSnec",
        "outputId": "2feb9a88-2b78-490c-f12d-70eb941d2a6d"
      },
      "execution_count": 34,
      "outputs": [
        {
          "output_type": "execute_result",
          "data": {
            "text/plain": [
              "(list,\n",
              " ['__add__',\n",
              "  '__class__',\n",
              "  '__class_getitem__',\n",
              "  '__contains__',\n",
              "  '__delattr__',\n",
              "  '__delitem__',\n",
              "  '__dir__',\n",
              "  '__doc__',\n",
              "  '__eq__',\n",
              "  '__format__',\n",
              "  '__ge__',\n",
              "  '__getattribute__',\n",
              "  '__getitem__',\n",
              "  '__gt__',\n",
              "  '__hash__',\n",
              "  '__iadd__',\n",
              "  '__imul__',\n",
              "  '__init__',\n",
              "  '__init_subclass__',\n",
              "  '__iter__',\n",
              "  '__le__',\n",
              "  '__len__',\n",
              "  '__lt__',\n",
              "  '__mul__',\n",
              "  '__ne__',\n",
              "  '__new__',\n",
              "  '__reduce__',\n",
              "  '__reduce_ex__',\n",
              "  '__repr__',\n",
              "  '__reversed__',\n",
              "  '__rmul__',\n",
              "  '__setattr__',\n",
              "  '__setitem__',\n",
              "  '__sizeof__',\n",
              "  '__str__',\n",
              "  '__subclasshook__',\n",
              "  'append',\n",
              "  'clear',\n",
              "  'copy',\n",
              "  'count',\n",
              "  'extend',\n",
              "  'index',\n",
              "  'insert',\n",
              "  'pop',\n",
              "  'remove',\n",
              "  'reverse',\n",
              "  'sort'])"
            ]
          },
          "metadata": {},
          "execution_count": 34
        }
      ]
    },
    {
      "cell_type": "code",
      "source": [
        "# __add__가 있으니 더하기는 어디까지 될까 => 테스트\n",
        "# __mul__이 있으니 더하기는 어디까지 될까 => 테스트\n",
        "\n",
        "l = [10, 20, 30]\n",
        "# l + 100 # 정수 더하기는 안됩니다!\n",
        "l + [100]\n",
        "l + [100, 200]\n",
        "l * 3 # 정수 곱하기는 됩니다.\n",
        "# l * [1, 2] #리스트 곱하기는 안됨\n"
      ],
      "metadata": {
        "colab": {
          "base_uri": "https://localhost:8080/"
        },
        "id": "oZ_b4hmPb1na",
        "outputId": "613c5d65-1088-4344-cb92-dbfa403ef8f1"
      },
      "execution_count": 38,
      "outputs": [
        {
          "output_type": "execute_result",
          "data": {
            "text/plain": [
              "[10, 20, 30, 10, 20, 30, 10, 20, 30]"
            ]
          },
          "metadata": {},
          "execution_count": 38
        }
      ]
    },
    {
      "cell_type": "code",
      "source": [
        "l = [1, 2, 3] * 3\n",
        "l[1] = 1000\n",
        "l"
      ],
      "metadata": {
        "colab": {
          "base_uri": "https://localhost:8080/"
        },
        "id": "HbejaumVcVG-",
        "outputId": "e3971f1e-7407-4755-ea08-dc2f74517e87"
      },
      "execution_count": 40,
      "outputs": [
        {
          "output_type": "execute_result",
          "data": {
            "text/plain": [
              "[1, 1000, 3, 1, 2, 3, 1, 2, 3]"
            ]
          },
          "metadata": {},
          "execution_count": 40
        }
      ]
    },
    {
      "cell_type": "code",
      "source": [
        "# 리스트는 곱하기 매우매우 주의!\n",
        "# 곱하기가 2중으로 있을 때에는 나중에 배울 \"리스트컴프리헨션\" tkdyd\n",
        "l = [[1, 2, 3] * 3] * 2\n",
        "l[1][0] = 1000\n",
        "l"
      ],
      "metadata": {
        "colab": {
          "base_uri": "https://localhost:8080/"
        },
        "id": "_wS8W-_Qcc7W",
        "outputId": "fb3b0f95-b6a9-4a23-b815-27a2b05433b9"
      },
      "execution_count": 44,
      "outputs": [
        {
          "output_type": "execute_result",
          "data": {
            "text/plain": [
              "[[1000, 2, 3, 1, 2, 3, 1, 2, 3], [1000, 2, 3, 1, 2, 3, 1, 2, 3]]"
            ]
          },
          "metadata": {},
          "execution_count": 44
        }
      ]
    },
    {
      "cell_type": "code",
      "source": [
        "l[1][1] = 10000\n",
        "l"
      ],
      "metadata": {
        "colab": {
          "base_uri": "https://localhost:8080/"
        },
        "id": "JasNLPE4chpz",
        "outputId": "588a086a-04b0-4506-f9ff-165218cfaf1b"
      },
      "execution_count": 45,
      "outputs": [
        {
          "output_type": "execute_result",
          "data": {
            "text/plain": [
              "[[1000, 10000, 3, 1, 2, 3, 1, 2, 3], [1000, 10000, 3, 1, 2, 3, 1, 2, 3]]"
            ]
          },
          "metadata": {},
          "execution_count": 45
        }
      ]
    },
    {
      "cell_type": "markdown",
      "source": [
        "# str은 안됩니다.\n",
        "s = 'hello world'\n",
        "ss = s.replace('h', 'y')\n",
        "print(ss)\n",
        "s = 'y' + s[1:]\n"
      ],
      "metadata": {
        "id": "b5Fy0XkBYR5t"
      }
    },
    {
      "cell_type": "code",
      "source": [
        "a = 10\n",
        "aa = 10\n",
        "print(a)\n",
        "print(aa)\n",
        "print(a)"
      ],
      "metadata": {
        "id": "yMAlHlyNZFGr"
      },
      "execution_count": null,
      "outputs": []
    },
    {
      "cell_type": "code",
      "source": [
        "s = s.replace('h', 'y')\n",
        "s ='y' + s[1:]\n",
        "print(s)"
      ],
      "metadata": {
        "colab": {
          "base_uri": "https://localhost:8080/"
        },
        "id": "Jt6fHdfrYlsD",
        "outputId": "d4ff768e-efe7-4197-8677-f687df4b9840"
      },
      "execution_count": 46,
      "outputs": [
        {
          "output_type": "stream",
          "name": "stdout",
          "text": [
            "yello world\n"
          ]
        }
      ]
    },
    {
      "cell_type": "code",
      "source": [
        "# 암기해주세요.\n",
        "\n",
        "x = 10 # 스칼라\n",
        "x = [10] # 벡터\n",
        "x = [10, 20] # 벡터\n",
        "x = [[10, 20], [10, 20]] # 메트릭스 (행렬)\n",
        "x = [[[10, 20], [10, 20]], [[10, 20], [10, 20]]] # 텐서(3차원 이상 행)"
      ],
      "metadata": {
        "id": "OnEl8IPkc9SQ"
      },
      "execution_count": 48,
      "outputs": []
    },
    {
      "cell_type": "code",
      "source": [
        "# 텐서플로? google에서 만든 딥러닝 라이브러리\n",
        "# 인공지능 => 행렬의 연산"
      ],
      "metadata": {
        "id": "soAJuYixeUMM"
      },
      "execution_count": 49,
      "outputs": []
    },
    {
      "cell_type": "code",
      "source": [
        "x = [[1, 2], [3, 4], [5, 6]]\n",
        "x[1]\n",
        "x[1][1]"
      ],
      "metadata": {
        "colab": {
          "base_uri": "https://localhost:8080/"
        },
        "id": "7PYcQ995eb1a",
        "outputId": "1a8e8223-4c87-4143-d353-20d39ec35618"
      },
      "execution_count": 53,
      "outputs": [
        {
          "output_type": "execute_result",
          "data": {
            "text/plain": [
              "4"
            ]
          },
          "metadata": {},
          "execution_count": 53
        }
      ]
    },
    {
      "cell_type": "code",
      "source": [
        "x = [[1, 2], [3, 'hello world'], [5, 6]]\n",
        "print(x[1])\n",
        "print(x[1][1])\n",
        "print(x[1][1][6:])"
      ],
      "metadata": {
        "colab": {
          "base_uri": "https://localhost:8080/"
        },
        "id": "EqrxYflOe3ty",
        "outputId": "09e81d6f-6a3c-4aaa-92e6-7e167bb135b2"
      },
      "execution_count": 58,
      "outputs": [
        {
          "output_type": "stream",
          "name": "stdout",
          "text": [
            "[3, 'hello world']\n",
            "hello world\n",
            "world\n"
          ]
        }
      ]
    },
    {
      "cell_type": "code",
      "source": [
        "x = 10\n",
        "\n",
        "print(x)\n",
        "x\n",
        "\n",
        "x = '10'\n",
        "print(x) #__str__\n",
        "x # __repr__\n",
        "\n",
        "#프린트와 그냥 변수출력은 다르다."
      ],
      "metadata": {
        "colab": {
          "base_uri": "https://localhost:8080/",
          "height": 90
        },
        "id": "SHhpOItpfcGj",
        "outputId": "9cfa6219-a50c-4cf2-aeef-60f159686ccb"
      },
      "execution_count": 62,
      "outputs": [
        {
          "output_type": "stream",
          "name": "stdout",
          "text": [
            "10\n",
            "132686589133328\n",
            "10\n"
          ]
        },
        {
          "output_type": "execute_result",
          "data": {
            "text/plain": [
              "'10'"
            ],
            "application/vnd.google.colaboratory.intrinsic+json": {
              "type": "string"
            }
          },
          "metadata": {},
          "execution_count": 62
        }
      ]
    },
    {
      "cell_type": "code",
      "source": [
        "# 리스트 메서드\n",
        "l = [10, 20, 30]\n",
        "dir(l)\n",
        "\n",
        "# 공백제거\n",
        "# shift + Tap\n",
        "# Ctrl + [ 또는 ]\n",
        "'append',\n",
        "'clear',\n",
        "'copy',\n",
        "'count',\n",
        "'extend',\n",
        "'index',\n",
        "'insert',\n",
        "'pop',\n",
        "'remove',\n",
        "'reverse',\n",
        "'sort'"
      ],
      "metadata": {
        "id": "QPI0qEoUfv0t"
      },
      "execution_count": null,
      "outputs": []
    },
    {
      "cell_type": "markdown",
      "source": [
        "# python - list - method - append\n"
      ],
      "metadata": {
        "id": "4devNkj4hNa5"
      }
    },
    {
      "cell_type": "code",
      "source": [
        "l.append(100)\n",
        "l"
      ],
      "metadata": {
        "colab": {
          "base_uri": "https://localhost:8080/"
        },
        "id": "0C41NpwugV74",
        "outputId": "edff1b57-a643-4f7b-fc63-d823769d424d"
      },
      "execution_count": 65,
      "outputs": [
        {
          "output_type": "execute_result",
          "data": {
            "text/plain": [
              "[10, 20, 30, 100, 100]"
            ]
          },
          "metadata": {},
          "execution_count": 65
        }
      ]
    },
    {
      "cell_type": "code",
      "source": [
        "# 앞에 추가 하는 방법 1\n",
        "l = [1000] + l\n",
        "\n",
        "# 앞에 추가 하는 방법 2\n",
        "x = 10000\n",
        "l = [x] + l[:]\n",
        "\n",
        "\n",
        "# 앞에 추가 하는 방법 3\n",
        "l.insert(0, 999)\n",
        "l"
      ],
      "metadata": {
        "colab": {
          "base_uri": "https://localhost:8080/"
        },
        "id": "UlTi8NAShYrm",
        "outputId": "7e143d44-b852-42df-fa46-aa71252db2b3"
      },
      "execution_count": 73,
      "outputs": [
        {
          "output_type": "execute_result",
          "data": {
            "text/plain": [
              "[999,\n",
              " 10000,\n",
              " 1000,\n",
              " 999,\n",
              " 10000,\n",
              " 1000,\n",
              " 999,\n",
              " 10000,\n",
              " 1000,\n",
              " 999,\n",
              " 10000,\n",
              " 1000,\n",
              " 999,\n",
              " 10000,\n",
              " 1000,\n",
              " 10000,\n",
              " 1000,\n",
              " 10000,\n",
              " 1000,\n",
              " 1000,\n",
              " 10,\n",
              " 20,\n",
              " 30,\n",
              " 100,\n",
              " 100]"
            ]
          },
          "metadata": {},
          "execution_count": 73
        }
      ]
    },
    {
      "cell_type": "code",
      "source": [
        "#pop() ; 뒤에서 값을 꺼내는 방법\n",
        "l = [10, 20, 30,40]\n",
        "l.pop()\n",
        "l"
      ],
      "metadata": {
        "colab": {
          "base_uri": "https://localhost:8080/"
        },
        "id": "oBb35fltkaIf",
        "outputId": "cd4cb4cb-0c8f-4945-8952-341a539cfaf9"
      },
      "execution_count": 75,
      "outputs": [
        {
          "output_type": "execute_result",
          "data": {
            "text/plain": [
              "[10, 20, 30]"
            ]
          },
          "metadata": {},
          "execution_count": 75
        }
      ]
    },
    {
      "cell_type": "code",
      "source": [
        "# pop(0) ; 앞에서 값을 꺼내는 방법\n",
        "l = [10, 20, 30, 40]\n",
        "l.pop(0) #결과: 10\n",
        "l\n"
      ],
      "metadata": {
        "colab": {
          "base_uri": "https://localhost:8080/"
        },
        "id": "tM-Z-jb3kelv",
        "outputId": "ca5806a2-8891-41e6-b3a5-d1f8e8791b07"
      },
      "execution_count": 77,
      "outputs": [
        {
          "output_type": "execute_result",
          "data": {
            "text/plain": [
              "[20, 30, 40]"
            ]
          },
          "metadata": {},
          "execution_count": 77
        }
      ]
    },
    {
      "cell_type": "code",
      "source": [
        "l = [10, 20, 30, 40]\n",
        "l[:-1] # [10, 20, 30]\n",
        "l[1:] #[20, 30, 40]"
      ],
      "metadata": {
        "colab": {
          "base_uri": "https://localhost:8080/"
        },
        "id": "UzGSB7rSkgjw",
        "outputId": "acfa9a04-46ba-4099-dedd-c207374105fb"
      },
      "execution_count": 81,
      "outputs": [
        {
          "output_type": "execute_result",
          "data": {
            "text/plain": [
              "[20, 30, 40]"
            ]
          },
          "metadata": {},
          "execution_count": 81
        }
      ]
    },
    {
      "cell_type": "code",
      "source": [
        "l = [10, 20, 30, 40]\n",
        "l.index(100)"
      ],
      "metadata": {
        "colab": {
          "base_uri": "https://localhost:8080/",
          "height": 203
        },
        "id": "rJRF9suqk23D",
        "outputId": "0e1a4641-c6dd-47b1-9268-d08de12870da"
      },
      "execution_count": 83,
      "outputs": [
        {
          "output_type": "error",
          "ename": "ValueError",
          "evalue": "100 is not in list",
          "traceback": [
            "\u001b[0;31m---------------------------------------------------------------------------\u001b[0m",
            "\u001b[0;31mValueError\u001b[0m                                Traceback (most recent call last)",
            "\u001b[0;32m<ipython-input-83-bad06103bff7>\u001b[0m in \u001b[0;36m<cell line: 2>\u001b[0;34m()\u001b[0m\n\u001b[1;32m      1\u001b[0m \u001b[0ml\u001b[0m \u001b[0;34m=\u001b[0m \u001b[0;34m[\u001b[0m\u001b[0;36m10\u001b[0m\u001b[0;34m,\u001b[0m \u001b[0;36m20\u001b[0m\u001b[0;34m,\u001b[0m \u001b[0;36m30\u001b[0m\u001b[0;34m,\u001b[0m \u001b[0;36m40\u001b[0m\u001b[0;34m]\u001b[0m\u001b[0;34m\u001b[0m\u001b[0;34m\u001b[0m\u001b[0m\n\u001b[0;32m----> 2\u001b[0;31m \u001b[0ml\u001b[0m\u001b[0;34m.\u001b[0m\u001b[0mindex\u001b[0m\u001b[0;34m(\u001b[0m\u001b[0;36m100\u001b[0m\u001b[0;34m)\u001b[0m\u001b[0;34m\u001b[0m\u001b[0;34m\u001b[0m\u001b[0m\n\u001b[0m",
            "\u001b[0;31mValueError\u001b[0m: 100 is not in list"
          ]
        }
      ]
    },
    {
      "cell_type": "code",
      "source": [
        "# 암기하세요\n",
        "# index -> error => error 없이 코드를 짜고 싶다면?\n",
        "# str에 find처럼 코드를 짜고 싶을 때?\n",
        "# 슬라이싱을 사용합니다. => 슬라이싱은 index가 벗어나더라도 error가 나지 않는다!\n",
        "\n",
        "l = [10, 20, 30, 40]\n",
        "l[100:101]"
      ],
      "metadata": {
        "colab": {
          "base_uri": "https://localhost:8080/"
        },
        "id": "O9iBTISOlNbc",
        "outputId": "7e2da659-fa03-4e1d-a027-26b43d3d94d4"
      },
      "execution_count": 86,
      "outputs": [
        {
          "output_type": "execute_result",
          "data": {
            "text/plain": [
              "[]"
            ]
          },
          "metadata": {},
          "execution_count": 86
        }
      ]
    },
    {
      "cell_type": "code",
      "source": [
        "# 다 제거하고 싶을 때 clear\n",
        "l = [10, 20, 30, 40]\n",
        "l.clear()\n",
        "l"
      ],
      "metadata": {
        "colab": {
          "base_uri": "https://localhost:8080/"
        },
        "id": "0fxHvk9ZlriO",
        "outputId": "84ac087a-9d55-4c13-c5dd-133f891c7c5c"
      },
      "execution_count": 88,
      "outputs": [
        {
          "output_type": "execute_result",
          "data": {
            "text/plain": [
              "[]"
            ]
          },
          "metadata": {},
          "execution_count": 88
        }
      ]
    },
    {
      "cell_type": "code",
      "source": [
        "l = [10, 20, 30, 40]\n",
        "ll = l\n",
        "\n",
        "l[0]=1000\n",
        "print(id(l), id(ll))\n",
        "print(ll)"
      ],
      "metadata": {
        "colab": {
          "base_uri": "https://localhost:8080/"
        },
        "id": "XKTiJ8lJl5eh",
        "outputId": "d42f0460-1c51-4291-d88d-e8eae19cc0df"
      },
      "execution_count": 96,
      "outputs": [
        {
          "output_type": "stream",
          "name": "stdout",
          "text": [
            "132685541227776 132685541227776\n",
            "[1000, 20, 30, 40]\n"
          ]
        }
      ]
    },
    {
      "cell_type": "code",
      "source": [
        "l = [10, 20, 30, 40]\n",
        "ll = l.copy() #얕은 복사와 깊은 복사가 있음. 개념은 나중에...\n",
        "\n",
        "l[0] = 1000\n",
        "ll\n",
        "print(l is ll)\n",
        "id(l), id(ll) #id 가 달라짐"
      ],
      "metadata": {
        "colab": {
          "base_uri": "https://localhost:8080/"
        },
        "id": "5P0vexl-mO-A",
        "outputId": "b29f175b-99d1-47d1-a8b9-275115d86033"
      },
      "execution_count": 101,
      "outputs": [
        {
          "output_type": "stream",
          "name": "stdout",
          "text": [
            "False\n"
          ]
        },
        {
          "output_type": "execute_result",
          "data": {
            "text/plain": [
              "(132686376876800, 132685321174080)"
            ]
          },
          "metadata": {},
          "execution_count": 101
        }
      ]
    },
    {
      "cell_type": "code",
      "source": [
        "l = [10, 20, 30, 40]\n",
        "ll = l[:] #얕은 복사와 깊은 복사가 있음. 개념은 나중에...\n",
        "\n",
        "l[0] = 1000\n",
        "ll\n",
        "print(l is ll)\n",
        "print(l, ll) # 다른\n",
        "id(l), id(ll) #id 가 달라짐"
      ],
      "metadata": {
        "colab": {
          "base_uri": "https://localhost:8080/"
        },
        "id": "y5ZvXLEUmsB1",
        "outputId": "2104b8bd-ec27-484a-fe37-805e06d8a208"
      },
      "execution_count": 104,
      "outputs": [
        {
          "output_type": "stream",
          "name": "stdout",
          "text": [
            "False\n",
            "[1000, 20, 30, 40] [10, 20, 30, 40]\n"
          ]
        },
        {
          "output_type": "execute_result",
          "data": {
            "text/plain": [
              "(132685320080000, 132685318309312)"
            ]
          },
          "metadata": {},
          "execution_count": 104
        }
      ]
    },
    {
      "cell_type": "code",
      "source": [
        "l = ['1', '1', 1, 2, 2, 2, 3, 3]\n",
        "l.count(1) #숫자를 카운트"
      ],
      "metadata": {
        "colab": {
          "base_uri": "https://localhost:8080/"
        },
        "id": "abyYhb1xnAQQ",
        "outputId": "9433e385-eefd-4b37-b89b-2e9efb9f95f1"
      },
      "execution_count": 107,
      "outputs": [
        {
          "output_type": "execute_result",
          "data": {
            "text/plain": [
              "1"
            ]
          },
          "metadata": {},
          "execution_count": 107
        }
      ]
    },
    {
      "cell_type": "code",
      "source": [
        "\n",
        "str([1,2,3,4,5,6,7,8,9,10,11,12,13,14,15]).count('1')\n",
        "# str(1부터_10000까지_리스트).count('8')\n",
        "list(range(10))\n",
        "str(list(range(20))).count('8')\n",
        "'''\n",
        "count_8 = sum(str(number).count('8') for number in range(1, 10001))\n",
        "count_8\n",
        "'''\n"
      ],
      "metadata": {
        "colab": {
          "base_uri": "https://localhost:8080/",
          "height": 35
        },
        "id": "7Z1IBqO8nUhd",
        "outputId": "29f810df-7f2e-4a1f-cee6-9fd1c255afba"
      },
      "execution_count": 112,
      "outputs": [
        {
          "output_type": "execute_result",
          "data": {
            "text/plain": [
              "\"\\ncount_8 = sum(str(number).count('8') for number in range(1, 10001))\\ncount_8\\n\""
            ],
            "application/vnd.google.colaboratory.intrinsic+json": {
              "type": "string"
            }
          },
          "metadata": {},
          "execution_count": 112
        }
      ]
    },
    {
      "cell_type": "code",
      "source": [
        "str(list(range(20))).count('8')\n"
      ],
      "metadata": {
        "colab": {
          "base_uri": "https://localhost:8080/"
        },
        "id": "02TX3_aJn-K_",
        "outputId": "8507f68e-0d07-48ce-992a-01157ce364af"
      },
      "execution_count": 114,
      "outputs": [
        {
          "output_type": "execute_result",
          "data": {
            "text/plain": [
              "2"
            ]
          },
          "metadata": {},
          "execution_count": 114
        }
      ]
    },
    {
      "cell_type": "code",
      "source": [
        "# 요소 추가\n",
        "l = [10, 20, 30, 40]\n",
        "l.extend([50, 60])\n",
        "l"
      ],
      "metadata": {
        "colab": {
          "base_uri": "https://localhost:8080/"
        },
        "id": "I2bxBuZnpWRX",
        "outputId": "7c31fef7-3caf-4773-fee5-c75dc61aed0e"
      },
      "execution_count": 117,
      "outputs": [
        {
          "output_type": "execute_result",
          "data": {
            "text/plain": [
              "[10, 20, 30, 40, 50, 60]"
            ]
          },
          "metadata": {},
          "execution_count": 117
        }
      ]
    },
    {
      "cell_type": "code",
      "source": [
        "#객체 개별추가\n",
        "l = [10, 20, 30, 40]\n",
        "l.append([50, 60]) # 이렇게 많이 사용, 기억하시오.\n",
        "l"
      ],
      "metadata": {
        "colab": {
          "base_uri": "https://localhost:8080/"
        },
        "id": "UJm7sCxRpcQG",
        "outputId": "699b0032-edc4-4d9a-dfaa-9d5b55001131"
      },
      "execution_count": 120,
      "outputs": [
        {
          "output_type": "execute_result",
          "data": {
            "text/plain": [
              "[10, 20, 30, 40, [50, 60]]"
            ]
          },
          "metadata": {},
          "execution_count": 120
        }
      ]
    },
    {
      "cell_type": "code",
      "source": [
        "l = [10, 20, 30, 40]\n",
        "l.extend('hello') #extend(보통리스트), extend(순회가능한 객체)\n",
        "l"
      ],
      "metadata": {
        "colab": {
          "base_uri": "https://localhost:8080/"
        },
        "id": "af2aGBUJptii",
        "outputId": "5e138237-7011-441c-f133-999d0bca53c6"
      },
      "execution_count": 123,
      "outputs": [
        {
          "output_type": "execute_result",
          "data": {
            "text/plain": [
              "[10, 20, 30, 40, 'h', 'e', 'l', 'l', 'o']"
            ]
          },
          "metadata": {},
          "execution_count": 123
        }
      ]
    },
    {
      "cell_type": "code",
      "source": [
        "l= [1, 1, 1, 2, 2, 2, 3, 3]\n",
        "l.remove(1) #한가지 요소를 지울 때 사용\n",
        "l"
      ],
      "metadata": {
        "colab": {
          "base_uri": "https://localhost:8080/"
        },
        "id": "eSGeBO1Jp4sJ",
        "outputId": "60be0950-d9c6-4080-96a7-ca3b0dbe9443"
      },
      "execution_count": 134,
      "outputs": [
        {
          "output_type": "execute_result",
          "data": {
            "text/plain": [
              "[1, 1, 2, 2, 2, 3, 3]"
            ]
          },
          "metadata": {},
          "execution_count": 134
        }
      ]
    },
    {
      "cell_type": "code",
      "source": [
        "# filter\n",
        "# 모든 요소를 filtering 하고 싶을 때에는\n",
        "# remove가 아니라 filter라는 것을 사용한다.\n",
        "\n",
        "def f(x):\n",
        "    return x != 1\n",
        "l = [1, 1, 1, 2, 2, 2, 3, 3, 3]\n",
        "list(filter(f, l))"
      ],
      "metadata": {
        "colab": {
          "base_uri": "https://localhost:8080/"
        },
        "id": "AYS4DvyaqLTn",
        "outputId": "54c2c02d-f5aa-4050-cde0-a5f0b52801ac"
      },
      "execution_count": 142,
      "outputs": [
        {
          "output_type": "execute_result",
          "data": {
            "text/plain": [
              "[2, 2, 2, 3, 3, 3]"
            ]
          },
          "metadata": {},
          "execution_count": 142
        }
      ]
    },
    {
      "cell_type": "code",
      "source": [
        "# reverse는 원본이 변함.(입력된 원본은 대부분 보존하려 합니다.)\n",
        "l = [1, 2, 3, 4, 9, 5, 6, 7]\n",
        "l.reverse()\n",
        "l #역순임. 역정렬은 아닙니다.\n",
        "\n",
        "# 역정렬은 정렬의 역순입니다.\n",
        "# 역순은 단순히 순서를 뒤집는 것"
      ],
      "metadata": {
        "colab": {
          "base_uri": "https://localhost:8080/"
        },
        "id": "u_U2a0g1q6az",
        "outputId": "801ad2bc-0506-4add-9910-3f8ca5388562"
      },
      "execution_count": 144,
      "outputs": [
        {
          "output_type": "execute_result",
          "data": {
            "text/plain": [
              "[7, 6, 5, 9, 4, 3, 2, 1]"
            ]
          },
          "metadata": {},
          "execution_count": 144
        }
      ]
    },
    {
      "cell_type": "code",
      "source": [
        "l = [1, 2, 3, 4, 9, 5, 6, 7]\n",
        "list(reversed(l)) #reversed는 원본을 변경하지 않습니다."
      ],
      "metadata": {
        "colab": {
          "base_uri": "https://localhost:8080/"
        },
        "id": "wPPfQvbyrU83",
        "outputId": "cd1d49a2-8cab-4864-c36c-aaba5834400a"
      },
      "execution_count": 148,
      "outputs": [
        {
          "output_type": "execute_result",
          "data": {
            "text/plain": [
              "[7, 6, 5, 9, 4, 3, 2, 1]"
            ]
          },
          "metadata": {},
          "execution_count": 148
        }
      ]
    },
    {
      "cell_type": "code",
      "source": [
        "# 정렬시키기 sort\n",
        "l = [1, 2, 3, 4, 9, 5, 6, 7]\n",
        "l.sort()\n",
        "l"
      ],
      "metadata": {
        "colab": {
          "base_uri": "https://localhost:8080/"
        },
        "id": "CITmTGVCssRL",
        "outputId": "a46ac071-98d2-4d74-acd8-8fba97dc3ac4"
      },
      "execution_count": 150,
      "outputs": [
        {
          "output_type": "execute_result",
          "data": {
            "text/plain": [
              "[1, 2, 3, 4, 5, 6, 7, 9]"
            ]
          },
          "metadata": {},
          "execution_count": 150
        }
      ]
    },
    {
      "cell_type": "code",
      "source": [
        "#\n",
        "l = [1, 2, 3, 4, 9, 5, 6, 7]\n",
        "l.sort()\n",
        "l.reverse()\n",
        "l #원본을 바꾸는 역정렬"
      ],
      "metadata": {
        "colab": {
          "base_uri": "https://localhost:8080/"
        },
        "id": "5O7QhpZfs2Pd",
        "outputId": "ab97d80e-e9a3-4dfd-ec6f-019ec4ecb6a9"
      },
      "execution_count": 153,
      "outputs": [
        {
          "output_type": "execute_result",
          "data": {
            "text/plain": [
              "[9, 7, 6, 5, 4, 3, 2, 1]"
            ]
          },
          "metadata": {},
          "execution_count": 153
        }
      ]
    },
    {
      "cell_type": "code",
      "source": [
        "# sorted\n",
        "l = [1, 2, 3, 4, 9, 5, 6, 7]\n",
        "sorted(l) #원본을 변경하지 않습니다."
      ],
      "metadata": {
        "colab": {
          "base_uri": "https://localhost:8080/"
        },
        "id": "mPLKtidBtDeH",
        "outputId": "ce657aa2-7b70-4d2f-ca00-c36ff3c2f085"
      },
      "execution_count": 155,
      "outputs": [
        {
          "output_type": "execute_result",
          "data": {
            "text/plain": [
              "[1, 2, 3, 4, 5, 6, 7, 9]"
            ]
          },
          "metadata": {},
          "execution_count": 155
        }
      ]
    },
    {
      "cell_type": "code",
      "source": [
        "# sort, sorted, reverse, reversed 알고리즘 문제에서도 1문제는 거의 나온다고 보시면 됩니다.\n",
        "# 최솟값, 최댓값 등등 정렬 문제"
      ],
      "metadata": {
        "id": "JhxRJZC6tSkR"
      },
      "execution_count": 156,
      "outputs": []
    },
    {
      "cell_type": "code",
      "source": [
        "# 옵션값\n",
        "# 어떻게 사용되는지만 구경\n",
        "# 국, 영, 수, 이름\n",
        "s = [[100, 87, 91,'이호준'],[56,38,89,'이준호'],[33,86,100,'홍길동']]\n",
        "\n",
        "def f(x):\n",
        "    return x[0]\n",
        "\n",
        "sorted(s, key=f)\n",
        "sorted(s, key=f, reverse=True)\n"
      ],
      "metadata": {
        "colab": {
          "base_uri": "https://localhost:8080/"
        },
        "id": "xGmobyZduSTU",
        "outputId": "04e70722-0dcd-4559-c4c4-47e725b218d5"
      },
      "execution_count": 159,
      "outputs": [
        {
          "output_type": "execute_result",
          "data": {
            "text/plain": [
              "[[100, 87, 91, '이호준'], [56, 38, 89, '이준호'], [33, 86, 100, '홍길동']]"
            ]
          },
          "metadata": {},
          "execution_count": 159
        }
      ]
    },
    {
      "cell_type": "code",
      "source": [
        "s = [[100, 87, 91,'이호준'],[56,38,89,'이준호'],[33,86,100,'홍길동']]\n",
        "\n",
        "def f(x):\n",
        "    return x[0] + x[1] + x[2] #평균점수가 높은 순으로 정렬 ->여기서 평균으로 나누기위해 3으로 나누지 않아도 됨(합계가 높으면 평균이 높으니)\n",
        "\n",
        "sorted(s, key=f)\n",
        "sorted(s, key=f, reverse=True)"
      ],
      "metadata": {
        "colab": {
          "base_uri": "https://localhost:8080/"
        },
        "id": "QPsd4J4XvBkD",
        "outputId": "3a1b910f-5740-404b-8150-ab19fef948bb"
      },
      "execution_count": 164,
      "outputs": [
        {
          "output_type": "execute_result",
          "data": {
            "text/plain": [
              "[[100, 87, 91, '이호준'], [33, 86, 100, '홍길동'], [56, 38, 89, '이준호']]"
            ]
          },
          "metadata": {},
          "execution_count": 164
        }
      ]
    }
  ]
}