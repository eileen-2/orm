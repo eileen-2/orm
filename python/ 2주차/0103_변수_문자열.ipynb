{
  "nbformat": 4,
  "nbformat_minor": 0,
  "metadata": {
    "colab": {
      "provenance": [],
      "authorship_tag": "ABX9TyM4TGLS7kJOUyKOD32MvasC",
      "include_colab_link": true
    },
    "kernelspec": {
      "name": "python3",
      "display_name": "Python 3"
    },
    "language_info": {
      "name": "python"
    }
  },
  "cells": [
    {
      "cell_type": "markdown",
      "metadata": {
        "id": "view-in-github",
        "colab_type": "text"
      },
      "source": [
        "<a href=\"https://colab.research.google.com/github/eileen-2/orm/blob/main/0103_%EB%B3%80%EC%88%98_%EB%AC%B8%EC%9E%90%EC%97%B4.ipynb\" target=\"_parent\"><img src=\"https://colab.research.google.com/assets/colab-badge.svg\" alt=\"Open In Colab\"/></a>"
      ]
    },
    {
      "cell_type": "markdown",
      "source": [
        "# 변수\n",
        "#1. 문자'열' 자료형(str) ;\n",
        "- 특정 단어 추출, 띄어쓰기로 잘라내기 등 가능\n",
        "* 순서가 있음 => 시퀀스 자료형\n",
        "> 정수형, 실수형 ; 순서가 없음\n",
        "* 띄어쓰기도 포함됨\n",
        "* 입력방법: '문자' or \"문자\"\n"
      ],
      "metadata": {
        "id": "OXeDECtFw9a0"
      }
    },
    {
      "cell_type": "code",
      "source": [
        "#1.1 문자열 기초\n",
        "\n",
        "x = 'hello'\n",
        "y = \"python\""
      ],
      "metadata": {
        "id": "tDEqrKR4yQOg"
      },
      "execution_count": 2,
      "outputs": []
    },
    {
      "cell_type": "code",
      "source": [
        "print(x,y)"
      ],
      "metadata": {
        "colab": {
          "base_uri": "https://localhost:8080/"
        },
        "id": "yuE-TF5myWlh",
        "outputId": "160c6c07-ab96-45ef-9413-109acb9d9447"
      },
      "execution_count": 4,
      "outputs": [
        {
          "output_type": "stream",
          "name": "stdout",
          "text": [
            "hello python\n"
          ]
        }
      ]
    },
    {
      "cell_type": "code",
      "source": [
        "print(type(x), type(y))"
      ],
      "metadata": {
        "colab": {
          "base_uri": "https://localhost:8080/"
        },
        "id": "hnOyWlPAyYnA",
        "outputId": "1b813838-7647-4891-e73b-0a50af0ec1a1"
      },
      "execution_count": 6,
      "outputs": [
        {
          "output_type": "stream",
          "name": "stdout",
          "text": [
            "<class 'str'> <class 'str'>\n"
          ]
        }
      ]
    },
    {
      "cell_type": "code",
      "source": [
        "i = '''안녕하세요.\n",
        "저는 이은희입니다.\n",
        "파이썬 올해는 정복하고 싶어요.\n",
        "'''\n",
        "\n",
        "j = \"\"\"안녕하세요.\n",
        "저는 이은희입니다.\n",
        "파이썬 올해는 정복하고 싶어요.\n",
        "\"\"\""
      ],
      "metadata": {
        "id": "QmQpn9jNydD1"
      },
      "execution_count": 7,
      "outputs": []
    },
    {
      "cell_type": "code",
      "source": [
        "i #\\n이스케이프가 나옴"
      ],
      "metadata": {
        "colab": {
          "base_uri": "https://localhost:8080/",
          "height": 35
        },
        "id": "aIjsT4EByr2h",
        "outputId": "18e22cbb-bc0e-481d-be21-6e54c543b960"
      },
      "execution_count": 8,
      "outputs": [
        {
          "output_type": "execute_result",
          "data": {
            "text/plain": [
              "'안녕하세요.\\n저는 이은희입니다.\\n파이썬 올해는 정복하고 싶어요.\\n'"
            ],
            "application/vnd.google.colaboratory.intrinsic+json": {
              "type": "string"
            }
          },
          "metadata": {},
          "execution_count": 8
        }
      ]
    },
    {
      "cell_type": "code",
      "source": [
        "print(i) #print로 출력하면 보기 깔끔하게 나옴, chatGPT 프롬프트 입력시 사용"
      ],
      "metadata": {
        "colab": {
          "base_uri": "https://localhost:8080/"
        },
        "id": "LtezDAdhytnp",
        "outputId": "51e0830d-46e4-4def-fdd3-fa48d93330a7"
      },
      "execution_count": 9,
      "outputs": [
        {
          "output_type": "stream",
          "name": "stdout",
          "text": [
            "안녕하세요.\n",
            "저는 이은희입니다.\n",
            "파이썬 올해는 정복하고 싶어요.\n",
            "\n"
          ]
        }
      ]
    },
    {
      "cell_type": "code",
      "source": [
        "#1.2 문자열 덧셈, 곱셈\n",
        "\n",
        "#문자열의 덧셈\n",
        "\n",
        "x = 'hello'\n",
        "y = \"python\"\n",
        "print(x + y) # 출력:hellopython\n",
        "\n",
        "x = '10'\n",
        "y = '20'\n",
        "print(x + y) # 출력:1020\n",
        "\n",
        "#문자열의 곱셈\n",
        "x = 'hello'\n",
        "\n",
        "print(x*3) # 출력: hellohellohello"
      ],
      "metadata": {
        "colab": {
          "base_uri": "https://localhost:8080/"
        },
        "id": "Ythgo2mBy3Sb",
        "outputId": "df8ad790-fde8-4229-b58f-31a4b488ddb4"
      },
      "execution_count": 15,
      "outputs": [
        {
          "output_type": "stream",
          "name": "stdout",
          "text": [
            "hellopython\n",
            "1020\n",
            "hellohellohello\n"
          ]
        }
      ]
    },
    {
      "cell_type": "markdown",
      "source": [
        "#1.1 문자열 인덱싱\n",
        "인덱스 = 문자열의 순서\n",
        "  - _글자 범위 넘어가면 error_\n"
      ],
      "metadata": {
        "id": "wZ3-rksl2jDV"
      }
    },
    {
      "cell_type": "code",
      "source": [
        "#1.1 문자열 인덱싱\n",
        "     #01 2 3 4 56\n",
        "s = '위니브 월드!'\n",
        "print(s[0]) #출력: '위'\n",
        "print(s[-1]) #출력: '!'  #맨 마지막 글자 출력시 기본 '-1'\n",
        "print(s[6])  #출력: '!'\n",
        "print(len(s))"
      ],
      "metadata": {
        "colab": {
          "base_uri": "https://localhost:8080/"
        },
        "id": "WrQHYovJ2ujw",
        "outputId": "c3462ccf-05cd-4717-b65b-2f82f8bc9bfa"
      },
      "execution_count": 20,
      "outputs": [
        {
          "output_type": "stream",
          "name": "stdout",
          "text": [
            "위\n",
            "!\n",
            "!\n",
            "7\n"
          ]
        }
      ]
    },
    {
      "cell_type": "markdown",
      "source": [
        "# 1.2 문자열 슬라이싱\n",
        "* [start:stop:step]\n",
        "  - step은 기본적으로 1\n",
        "  - 콜론과 함께 생략가능\n",
        "  - _글자 범위 넘어가도 NO error_\n",
        "> randrange와 같은 형식\n",
        "\n"
      ],
      "metadata": {
        "id": "GotLZC7J4BU2"
      }
    },
    {
      "cell_type": "code",
      "source": [
        "#1.2.1 문자열 슬라이싱\n",
        "    #0 1 2 34 5 6 7 8\n",
        "s = '위니브 월드 외곽'\n",
        "print(len(s))\n",
        "print(s[0:6]) #처음부터 5번째까지 출력\n",
        "print(s[0:9]) #처음부터 끝까지 출력\n",
        "print(s[0:]) #처음부터 끝까지 출력 , 글자수 모를때\n",
        "\n",
        "print(s[0:9:2]) #문자열 전체에서 두개 글자 간격으로 출력"
      ],
      "metadata": {
        "colab": {
          "base_uri": "https://localhost:8080/"
        },
        "id": "iGVFzsQ54ZP6",
        "outputId": "b9f115b8-bd1d-4a10-ab64-73d1e7826a20"
      },
      "execution_count": 27,
      "outputs": [
        {
          "output_type": "stream",
          "name": "stdout",
          "text": [
            "9\n",
            "위니브 월드\n",
            "위니브 월드 외곽\n",
            "위니브 월드 외곽\n",
            "위브월 곽\n"
          ]
        }
      ]
    },
    {
      "cell_type": "code",
      "source": [
        "#1.2.1 문자열 슬라이싱 예시\n",
        "\n",
        "s = 'weniv CEO licat'\n",
        "print(s[0:]) #처음부터 끝까지 출력\n",
        "print(s[3:]) #시작점을 설정하고 끝까지 출력\n",
        "print(s[:]) #전체 출력\n",
        "print(s[::-1]) #거꾸로 전체출력\n",
        "print(s[::2]) #전체 출력범위에서 두글자 간격으로 출력"
      ],
      "metadata": {
        "colab": {
          "base_uri": "https://localhost:8080/"
        },
        "id": "L5nbM6Yt4u3F",
        "outputId": "a69e7957-08f3-4388-a109-410b16048510"
      },
      "execution_count": 32,
      "outputs": [
        {
          "output_type": "stream",
          "name": "stdout",
          "text": [
            "weniv CEO licat\n",
            "iv CEO licat\n",
            "weniv CEO licat\n",
            "tacil OEC vinew\n",
            "wnvCOlct\n"
          ]
        }
      ]
    },
    {
      "cell_type": "code",
      "source": [
        "#1.2.1 문자열 슬라이스 실습\n",
        "\n",
        "s = 'weniv_licat.png'\n",
        "\n",
        "print(len(s))\n",
        "print(s[:11]) #출력:weniv_licat\n",
        "print(s[:-4]) #출력:weniv_licat"
      ],
      "metadata": {
        "colab": {
          "base_uri": "https://localhost:8080/"
        },
        "id": "tNuZA_OP5dBg",
        "outputId": "84859469-0866-42cd-ad59-b8c214b5ed51"
      },
      "execution_count": 38,
      "outputs": [
        {
          "output_type": "stream",
          "name": "stdout",
          "text": [
            "15\n",
            "weniv_licat\n",
            "weniv_licat\n"
          ]
        }
      ]
    },
    {
      "cell_type": "code",
      "source": [
        "# png출력 실습\n",
        "s = 'weniv_licat.png'\n",
        "\n",
        "print(s[12:]) #출력:png\n",
        "print(s[-3]) #출력:p\n",
        "print(s[-1:-4]) #오답/음에 방향으로 가려면 step값을 -로 명시해야 합니다.\n",
        "print(s[-1:-3:-1])"
      ],
      "metadata": {
        "colab": {
          "base_uri": "https://localhost:8080/"
        },
        "id": "KYA9ok3d6d-_",
        "outputId": "fc7226fd-a1fa-415a-a7c7-0bbc9cb7ae24"
      },
      "execution_count": 94,
      "outputs": [
        {
          "output_type": "stream",
          "name": "stdout",
          "text": [
            "png\n",
            "p\n",
            "\n",
            "gn\n"
          ]
        }
      ]
    },
    {
      "cell_type": "code",
      "source": [
        "#1.2.3 슬라이스 복사 - 다만 ID가 달라짐\n",
        "\n",
        "s = [1, 2, 3]\n",
        "ss = s[:]\n",
        "print(id(s)) #출력 id:138458713133312\n",
        "print(id(ss)) #출력 id:138458713132288"
      ],
      "metadata": {
        "colab": {
          "base_uri": "https://localhost:8080/"
        },
        "id": "5PIY6JQ57Qtd",
        "outputId": "552f6e50-593d-448b-f275-e1d265465856"
      },
      "execution_count": 59,
      "outputs": [
        {
          "output_type": "stream",
          "name": "stdout",
          "text": [
            "138458713133312\n",
            "138458713132288\n"
          ]
        }
      ]
    },
    {
      "cell_type": "markdown",
      "source": [
        "#1.3 문자열 메서드\n",
        "\n",
        "- lower() ;소문자\n",
        "- upper() ;대문자"
      ],
      "metadata": {
        "id": "f9Vnn8NS8Ypc"
      }
    },
    {
      "cell_type": "code",
      "source": [
        "#1.3.1 매서드1 : 대문자 소문자\n",
        "\n",
        "s = 'weniv CEO licat'\n",
        "s.lower() #출력: 소문자\n",
        "s.upper() #출력: 대문자\n",
        ""
      ],
      "metadata": {
        "colab": {
          "base_uri": "https://localhost:8080/",
          "height": 35
        },
        "id": "gZDU3kDH8skU",
        "outputId": "742a0cf3-a06a-49b0-b9d8-90b371989b6d"
      },
      "execution_count": 62,
      "outputs": [
        {
          "output_type": "execute_result",
          "data": {
            "text/plain": [
              "'WENIV CEO LICAT'"
            ],
            "application/vnd.google.colaboratory.intrinsic+json": {
              "type": "string"
            }
          },
          "metadata": {},
          "execution_count": 62
        }
      ]
    },
    {
      "cell_type": "code",
      "source": [
        "#1.3.2 메서드2 : find(), index()\n",
        "# find() : 찾을 수 없는 경우 -1 출력\n",
        "# index() : 찾을 수 없는 경우 error 출력\n",
        "\n",
        "s = 'weniv CEO licat'\n",
        "s.find('CEO') #문자열 찾아주는 메서드, 시작점 위치 찾아줌\n",
        "s.find('CTO') #찾을 수 없음\n",
        "s.index('CTO') # error"
      ],
      "metadata": {
        "colab": {
          "base_uri": "https://localhost:8080/",
          "height": 219
        },
        "id": "Hv-pLDbG810U",
        "outputId": "f36df669-17a3-4176-bcc6-76a5c17666a3"
      },
      "execution_count": 66,
      "outputs": [
        {
          "output_type": "error",
          "ename": "ValueError",
          "evalue": "ignored",
          "traceback": [
            "\u001b[0;31m---------------------------------------------------------------------------\u001b[0m",
            "\u001b[0;31mValueError\u001b[0m                                Traceback (most recent call last)",
            "\u001b[0;32m<ipython-input-66-67506929e164>\u001b[0m in \u001b[0;36m<cell line: 8>\u001b[0;34m()\u001b[0m\n\u001b[1;32m      6\u001b[0m \u001b[0ms\u001b[0m\u001b[0;34m.\u001b[0m\u001b[0mfind\u001b[0m\u001b[0;34m(\u001b[0m\u001b[0;34m'CEO'\u001b[0m\u001b[0;34m)\u001b[0m \u001b[0;31m#문자열 찾아주는 메서드, 시작점 위치 찾아줌\u001b[0m\u001b[0;34m\u001b[0m\u001b[0;34m\u001b[0m\u001b[0m\n\u001b[1;32m      7\u001b[0m \u001b[0ms\u001b[0m\u001b[0;34m.\u001b[0m\u001b[0mfind\u001b[0m\u001b[0;34m(\u001b[0m\u001b[0;34m'CTO'\u001b[0m\u001b[0;34m)\u001b[0m \u001b[0;31m#찾을 수 없음\u001b[0m\u001b[0;34m\u001b[0m\u001b[0;34m\u001b[0m\u001b[0m\n\u001b[0;32m----> 8\u001b[0;31m \u001b[0ms\u001b[0m\u001b[0;34m.\u001b[0m\u001b[0mindex\u001b[0m\u001b[0;34m(\u001b[0m\u001b[0;34m'CTO'\u001b[0m\u001b[0;34m)\u001b[0m \u001b[0;31m# error\u001b[0m\u001b[0;34m\u001b[0m\u001b[0;34m\u001b[0m\u001b[0m\n\u001b[0m",
            "\u001b[0;31mValueError\u001b[0m: substring not found"
          ]
        }
      ]
    },
    {
      "cell_type": "code",
      "source": [
        "#1.3.3. 메서드 3 : count() # 특정 문자열이나 숫자 개수를 셀 때, 일치하면 찾아줌\n",
        "s = 'weniv CEO licat'\n",
        "s.count('C') #대문자\n",
        "s.count('c') #소문자\n",
        "s.count('d') #없는글자\n",
        "s.count(' ') #공백"
      ],
      "metadata": {
        "colab": {
          "base_uri": "https://localhost:8080/"
        },
        "id": "hLZuRtu_9k6k",
        "outputId": "0aabd539-45b5-4132-d955-2f8430de0552"
      },
      "execution_count": 71,
      "outputs": [
        {
          "output_type": "execute_result",
          "data": {
            "text/plain": [
              "2"
            ]
          },
          "metadata": {},
          "execution_count": 71
        }
      ]
    },
    {
      "cell_type": "code",
      "source": [
        "#1.3.4 메서드4: strip() # 특정 문자열 양쪽 공백을 제거하는 메서드\n",
        "#엑셀에서는 trim()\n",
        "\n",
        "#신뢰를 100%하지 말아라\n",
        "#>>미세하게 조정하지 못하거나 제거되지 않을 수 있음\n",
        "\n",
        "s = '        weniv CEO licat         '\n",
        "s.strip() # 특정 문자열 양쪽 공백을 제거"
      ],
      "metadata": {
        "colab": {
          "base_uri": "https://localhost:8080/",
          "height": 35
        },
        "id": "jMxYr85L9w1h",
        "outputId": "07b19dab-eb63-49da-961d-ef3435f5248f"
      },
      "execution_count": 73,
      "outputs": [
        {
          "output_type": "execute_result",
          "data": {
            "text/plain": [
              "'weniv CEO licat'"
            ],
            "application/vnd.google.colaboratory.intrinsic+json": {
              "type": "string"
            }
          },
          "metadata": {},
          "execution_count": 73
        }
      ]
    },
    {
      "cell_type": "code",
      "source": [
        "'      ,!!   hello world   '.strip(' ,!') #공백, 느낌표제거 / 출력 : hello world\n",
        "'      ,!!   hello world   '.strip(' ,') #공백제거 / 출력 :!!   hello world"
      ],
      "metadata": {
        "id": "GJsmDbe9-ToC",
        "colab": {
          "base_uri": "https://localhost:8080/",
          "height": 35
        },
        "outputId": "c1c0e4c5-0a67-4dbb-fb12-c8b76b621748"
      },
      "execution_count": 75,
      "outputs": [
        {
          "output_type": "execute_result",
          "data": {
            "text/plain": [
              "'!!   hello world'"
            ],
            "application/vnd.google.colaboratory.intrinsic+json": {
              "type": "string"
            }
          },
          "metadata": {},
          "execution_count": 75
        }
      ]
    },
    {
      "cell_type": "code",
      "source": [
        "#1.3.5 메서드5: replace() # 특정 문자열 대체하는 메서드\n",
        "\n",
        "#대소문자 구분\n",
        "#수정된 문자열이 원본에 반영되지 않음>새 변수 할당 필요\n",
        "\n",
        "s = 'weniv CET licat'\n",
        "s.replace('CET','CEO')\n"
      ],
      "metadata": {
        "colab": {
          "base_uri": "https://localhost:8080/",
          "height": 35
        },
        "id": "E2FwBD8w-o5g",
        "outputId": "4087c331-b6d0-43cc-a893-97c61210a2db"
      },
      "execution_count": 76,
      "outputs": [
        {
          "output_type": "execute_result",
          "data": {
            "text/plain": [
              "'weniv CEO  licat'"
            ],
            "application/vnd.google.colaboratory.intrinsic+json": {
              "type": "string"
            }
          },
          "metadata": {},
          "execution_count": 76
        }
      ]
    },
    {
      "cell_type": "code",
      "source": [
        "s = 'weniv CEO licat'\n",
        "ss= s.replace('i', 'I') #문자열 내에서 모든 i를 I로 대체할 때 사용하는 method #출력: wenIv CEO lIcat\n",
        "print(ss)\n",
        "print(s)"
      ],
      "metadata": {
        "colab": {
          "base_uri": "https://localhost:8080/"
        },
        "id": "W3zsGn_R_Kf1",
        "outputId": "b48d0291-cc02-4c5a-9982-043fe0d148ed"
      },
      "execution_count": 86,
      "outputs": [
        {
          "output_type": "stream",
          "name": "stdout",
          "text": [
            "wenIv CEO lIcat\n",
            "weniv CEO licat\n"
          ]
        }
      ]
    },
    {
      "cell_type": "code",
      "source": [
        "#1.3.6 메서드6: split() / join() # 문자열을 나누고 합치는 메서드\n",
        "\n",
        "s = 'weniv CEO licat'\n",
        "s.split() # 공백을 기준으로 문자열 나누기 # 리스트 형식으로 나눠짐\n",
        "\n",
        "s = ['weniv', 'CEO', 'licat']\n",
        "'_'.join(s) #언더스코어(_)로 쪼개진 단어 연결"
      ],
      "metadata": {
        "colab": {
          "base_uri": "https://localhost:8080/",
          "height": 35
        },
        "id": "VeMWeq0h_ncP",
        "outputId": "6724e136-d932-42db-e919-ef0b6dcf48d3"
      },
      "execution_count": 102,
      "outputs": [
        {
          "output_type": "execute_result",
          "data": {
            "text/plain": [
              "'weniv_CEO_licat'"
            ],
            "application/vnd.google.colaboratory.intrinsic+json": {
              "type": "string"
            }
          },
          "metadata": {},
          "execution_count": 102
        }
      ]
    },
    {
      "cell_type": "code",
      "source": [
        "s = 'weniv:CEO:licat'\n",
        "s.split(':') #':'기준으로 나눠서 리스트 형식으로 결과가 출력"
      ],
      "metadata": {
        "colab": {
          "base_uri": "https://localhost:8080/"
        },
        "id": "Ksy2qo4vD_SZ",
        "outputId": "caf4fca8-a938-45f8-99b9-d48a56c4ca11"
      },
      "execution_count": 97,
      "outputs": [
        {
          "output_type": "execute_result",
          "data": {
            "text/plain": [
              "['weniv', 'CEO', 'licat']"
            ]
          },
          "metadata": {},
          "execution_count": 97
        }
      ]
    },
    {
      "cell_type": "code",
      "source": [
        "s = 'wenivCEOlicat'\n",
        "s.split() #기준이 없으므로 나눠지지 않고 출력"
      ],
      "metadata": {
        "colab": {
          "base_uri": "https://localhost:8080/"
        },
        "id": "GXXlrB-iEfNT",
        "outputId": "a5c895c6-880c-4245-d34c-103dd5a3d4c1"
      },
      "execution_count": 98,
      "outputs": [
        {
          "output_type": "execute_result",
          "data": {
            "text/plain": [
              "['wenivCEOlicat']"
            ]
          },
          "metadata": {},
          "execution_count": 98
        }
      ]
    },
    {
      "cell_type": "code",
      "source": [
        "s = ['weniv', 'CEO', 'licat']\n",
        "' '.join(s)"
      ],
      "metadata": {
        "colab": {
          "base_uri": "https://localhost:8080/",
          "height": 35
        },
        "id": "eBjXsa6EEh-Q",
        "outputId": "0e7a1904-9eb1-4210-868f-3dfa84098c98"
      },
      "execution_count": 104,
      "outputs": [
        {
          "output_type": "execute_result",
          "data": {
            "text/plain": [
              "'weniv CEO licat'"
            ],
            "application/vnd.google.colaboratory.intrinsic+json": {
              "type": "string"
            }
          },
          "metadata": {},
          "execution_count": 104
        }
      ]
    },
    {
      "cell_type": "code",
      "source": [
        "s = '010 7766 8555'\n",
        "'-'.join(s.split()) #split으로 쪼개고 '-'으로 나눠진 리스트를 다시 합침"
      ],
      "metadata": {
        "colab": {
          "base_uri": "https://localhost:8080/",
          "height": 35
        },
        "id": "L4diTSYTEt27",
        "outputId": "19501f71-a677-4a93-a059-55d42d037d6e"
      },
      "execution_count": 106,
      "outputs": [
        {
          "output_type": "execute_result",
          "data": {
            "text/plain": [
              "'010-7766-8555'"
            ],
            "application/vnd.google.colaboratory.intrinsic+json": {
              "type": "string"
            }
          },
          "metadata": {},
          "execution_count": 106
        }
      ]
    },
    {
      "cell_type": "code",
      "source": [
        "#1.3.7 메서드7: format()\n",
        "\n",
        "name = 'list'\n",
        "age = 29\n",
        "\n",
        "print('제 이름은 {}이고, 나이는 {}입니다.'.format(name, age))\n",
        "print(f'제 이름은 {name}이고, 나이는 {age}입니다') #이제는 이 버전"
      ],
      "metadata": {
        "colab": {
          "base_uri": "https://localhost:8080/"
        },
        "id": "sdNRVw4rFNmT",
        "outputId": "ade57ac7-c706-4dfb-b8b7-06383558b1ce"
      },
      "execution_count": 111,
      "outputs": [
        {
          "output_type": "stream",
          "name": "stdout",
          "text": [
            "제 이름은 list이고, 나이는 29입니다.\n",
            "제 이름은 list이고, 나이는 29입니다\n"
          ]
        }
      ]
    },
    {
      "cell_type": "code",
      "source": [
        "#1.3.8 메서드8: isdigit() # 문자열이 숫자로만 이루어져 있는 지 확인하는 메서드\n",
        "#공백 있으면 false\n",
        "s = '123'\n",
        "b = '1 23'\n",
        "s.isdigit()\n",
        "b.isdigit()"
      ],
      "metadata": {
        "colab": {
          "base_uri": "https://localhost:8080/"
        },
        "id": "6GVtJCInH_iZ",
        "outputId": "0f9458f4-9332-4a0a-d163-86f777f2dd86"
      },
      "execution_count": 114,
      "outputs": [
        {
          "output_type": "execute_result",
          "data": {
            "text/plain": [
              "False"
            ]
          },
          "metadata": {},
          "execution_count": 114
        }
      ]
    },
    {
      "cell_type": "code",
      "source": [
        "#1.3.9 메서드9: isalpha() #문자열이 알파멧으로만 이루어져 있는지 확인하는 메서드\n",
        "#공백 있으면 false\n",
        "\n",
        "s = 'hello world'\n",
        "s.isalpha()"
      ],
      "metadata": {
        "colab": {
          "base_uri": "https://localhost:8080/"
        },
        "id": "8v0wSSAzIYqH",
        "outputId": "41b767d7-b8bc-4f2c-a4ec-7c5345d0d282"
      },
      "execution_count": 113,
      "outputs": [
        {
          "output_type": "execute_result",
          "data": {
            "text/plain": [
              "False"
            ]
          },
          "metadata": {},
          "execution_count": 113
        }
      ]
    },
    {
      "cell_type": "code",
      "source": [
        "#1.3.10 메서드10: rjust() ljust() center()\n",
        "#문자열의 내용을 지정한 길이로 맞추고, 지정한 문자로 채우기\n",
        "#공백은 '-'으로 채움\n",
        "#지정한 길이를 넘는 문자열이면 채워지지 않음\n",
        "\n",
        "s = 'happy' #5글자, 10글자를 채워야하면 5글자가 공백\n",
        "s.rjust(10, '-') #출력값: -----happy 왼쪽을 -----으로 채움"
      ],
      "metadata": {
        "colab": {
          "base_uri": "https://localhost:8080/",
          "height": 35
        },
        "id": "Yk0K8TeVIiYP",
        "outputId": "e6952243-d5c5-4d35-d209-5ba44b0ce8af"
      },
      "execution_count": 117,
      "outputs": [
        {
          "output_type": "execute_result",
          "data": {
            "text/plain": [
              "'-----happy'"
            ],
            "application/vnd.google.colaboratory.intrinsic+json": {
              "type": "string"
            }
          },
          "metadata": {},
          "execution_count": 117
        }
      ]
    },
    {
      "cell_type": "code",
      "source": [
        "s = 'happy'\n",
        "s.ljust(6, '_')"
      ],
      "metadata": {
        "colab": {
          "base_uri": "https://localhost:8080/",
          "height": 35
        },
        "id": "IaSn4GsdJaRg",
        "outputId": "03d33b0e-d74f-4fc3-c56c-f0b5079d7e4a"
      },
      "execution_count": 120,
      "outputs": [
        {
          "output_type": "execute_result",
          "data": {
            "text/plain": [
              "'happy_'"
            ],
            "application/vnd.google.colaboratory.intrinsic+json": {
              "type": "string"
            }
          },
          "metadata": {},
          "execution_count": 120
        }
      ]
    },
    {
      "cell_type": "code",
      "source": [
        "s = '1234-1'\n",
        "s.ljust(8, '_')"
      ],
      "metadata": {
        "colab": {
          "base_uri": "https://localhost:8080/",
          "height": 35
        },
        "id": "WW8ElhncJ79O",
        "outputId": "f81e0706-5a76-4bbb-fdb6-764856638c1d"
      },
      "execution_count": 122,
      "outputs": [
        {
          "output_type": "execute_result",
          "data": {
            "text/plain": [
              "'1234-1__'"
            ],
            "application/vnd.google.colaboratory.intrinsic+json": {
              "type": "string"
            }
          },
          "metadata": {},
          "execution_count": 122
        }
      ]
    },
    {
      "cell_type": "code",
      "source": [
        "s = '900000-1'\n",
        "s.ljust(14, '*') #결과: 주민등록처럼 채우기"
      ],
      "metadata": {
        "colab": {
          "base_uri": "https://localhost:8080/",
          "height": 35
        },
        "id": "xquxhhOrKA1C",
        "outputId": "90e58362-3f65-455e-d26b-574cde593a69"
      },
      "execution_count": 124,
      "outputs": [
        {
          "output_type": "execute_result",
          "data": {
            "text/plain": [
              "'900000-1******'"
            ],
            "application/vnd.google.colaboratory.intrinsic+json": {
              "type": "string"
            }
          },
          "metadata": {},
          "execution_count": 124
        }
      ]
    },
    {
      "cell_type": "code",
      "source": [
        "s = 'happy'\n",
        "s.center(10, '-') #양쪽 짝이 안맞으면 오른쪽부터 채움\n"
      ],
      "metadata": {
        "colab": {
          "base_uri": "https://localhost:8080/",
          "height": 35
        },
        "id": "nqm9T2E2MY1W",
        "outputId": "1b71f87e-ad13-42f6-93c8-849511c820dd"
      },
      "execution_count": 126,
      "outputs": [
        {
          "output_type": "execute_result",
          "data": {
            "text/plain": [
              "'--happy---'"
            ],
            "application/vnd.google.colaboratory.intrinsic+json": {
              "type": "string"
            }
          },
          "metadata": {},
          "execution_count": 126
        }
      ]
    },
    {
      "cell_type": "code",
      "source": [
        "#1.3.11 메서드11: zfill()\n",
        "#문자열 앞쪽을 '0'으로 채워서 반환\n",
        "#고객번호, 파일명, 로그의 일련번호\n",
        "#csv로 불러오면 문자형이 숫자형으로 변경> 0을 채워서 길이 맞춰야함\n",
        "\n",
        "#문자열 숫자\n",
        "x = '42'\n",
        "result = x.zfill(7)\n",
        "print(result) #출력: 0000042\n",
        "\n",
        "#문자열 부호가 있는 숫자\n",
        "y = '-42'\n",
        "result = y.zfill(10)\n",
        "print(result) #출력 : -000000042\n",
        "\n",
        "#문자열\n",
        "z = 'abc'\n",
        "result = z.zfill(9)\n",
        "print(result)"
      ],
      "metadata": {
        "colab": {
          "base_uri": "https://localhost:8080/"
        },
        "id": "Aopv7PCOMajp",
        "outputId": "dcbd59c8-72b6-40e3-d7c5-0c674bf46867"
      },
      "execution_count": 130,
      "outputs": [
        {
          "output_type": "stream",
          "name": "stdout",
          "text": [
            "0000042\n",
            "-000000042\n",
            "000000abc\n"
          ]
        }
      ]
    },
    {
      "cell_type": "code",
      "source": [
        "filename = '1'.zfill(3) + \".jpg\"\n",
        "print(filename)"
      ],
      "metadata": {
        "colab": {
          "base_uri": "https://localhost:8080/"
        },
        "id": "8uzTh3dAN1r_",
        "outputId": "91ad2bf1-ac17-4fb3-c6d9-0821567b8fe4"
      },
      "execution_count": 131,
      "outputs": [
        {
          "output_type": "stream",
          "name": "stdout",
          "text": [
            "001.jpg\n"
          ]
        }
      ]
    },
    {
      "cell_type": "code",
      "source": [
        "년 = '24'\n",
        "월 = '1'\n",
        "일 = '3'\n",
        "오늘날짜 = 년 + 월 + 일\n",
        "print(오늘날짜)\n",
        "오늘날짜 = 년 + 월.zfill(2) + 일.zfill(2)\n",
        "print(오늘날짜)"
      ],
      "metadata": {
        "colab": {
          "base_uri": "https://localhost:8080/"
        },
        "id": "I5LMU2AkOJxx",
        "outputId": "38c93ec8-d25e-4817-c5d9-01d1d08e388e"
      },
      "execution_count": 148,
      "outputs": [
        {
          "output_type": "stream",
          "name": "stdout",
          "text": [
            "2413\n",
            "240103\n"
          ]
        }
      ]
    },
    {
      "cell_type": "code",
      "source": [
        "#1.3.12 메서드12: translate()\n",
        "# 문자열 내 특정 문자로 치환 / 제거\n",
        "#replace와 다르게 대량으로 치환\n",
        "\n",
        "#변환 테이블 생성해야함\n",
        "table = str.translate(\"abc\", \"123\") #변경할 문자, 변경될 문자\n",
        "text = \"abcde\"\n",
        "result = text.translate(table)\n",
        "print(result)  # 123de"
      ],
      "metadata": {
        "colab": {
          "base_uri": "https://localhost:8080/"
        },
        "id": "UsdFqd8jOU5l",
        "outputId": "54cac446-c0c3-4990-d6f7-a77da6bbe192"
      },
      "execution_count": 175,
      "outputs": [
        {
          "output_type": "stream",
          "name": "stdout",
          "text": [
            "abcde\n"
          ]
        }
      ]
    },
    {
      "cell_type": "code",
      "source": [
        "\n",
        "table = str.translate(\"abc\", \"123\") #변경할 문자, 변경될 문자\n",
        "text = \"abcde\"\n",
        "result = text.translate(table)\n",
        "print(result)  # 123de\n"
      ],
      "metadata": {
        "colab": {
          "base_uri": "https://localhost:8080/"
        },
        "id": "-SLComX_SXtn",
        "outputId": "bcd1242f-b8a4-4196-9c4e-6adc2eb3380d"
      },
      "execution_count": 169,
      "outputs": [
        {
          "output_type": "stream",
          "name": "stdout",
          "text": [
            "abcde\n"
          ]
        }
      ]
    },
    {
      "cell_type": "code",
      "source": [
        "\n",
        "# 'd'와 'e' 문자 제거하기\n",
        "table = str.maketrans('', '', 'de')\n",
        "text = \"abcde\"\n",
        "result = text.translate(table)\n",
        "print(result)  # abc\n"
      ],
      "metadata": {
        "colab": {
          "base_uri": "https://localhost:8080/"
        },
        "id": "_6Y68UDTR2RB",
        "outputId": "deefc91b-a788-4a17-ec50-1a78cbf0de8d"
      },
      "execution_count": 165,
      "outputs": [
        {
          "output_type": "stream",
          "name": "stdout",
          "text": [
            "abc\n"
          ]
        }
      ]
    },
    {
      "cell_type": "code",
      "source": [
        "#1.4. 이스케이프\n",
        "\n",
        "print(\"Hello\\nWorld!\") # Hello와 World! 사이에 줄바꿈이 일어납니다.\n",
        "print(\"Hello\\tWorld!\") # Hello와 World! 사이에 탭 간격이 생깁니다.\n",
        "print(\"She said, \\\"Hello World!\\\"\") # 큰따옴표 내부에 문자열을 출력합니다.\n",
        "print('She said, \\'Hello World!\\'') # 작은따옴표 내부에 문자열을 출력합니다.\n",
        "print(\"Backslash: \\\\\") # 백슬래시를 출력합니다."
      ],
      "metadata": {
        "colab": {
          "base_uri": "https://localhost:8080/"
        },
        "id": "EVrYJrpHSS28",
        "outputId": "14ab90d6-380c-44e2-8e9b-5dda69155877"
      },
      "execution_count": 177,
      "outputs": [
        {
          "output_type": "stream",
          "name": "stdout",
          "text": [
            "Hello\n",
            "World!\n",
            "Hello\tWorld!\n",
            "She said, \"Hello World!\"\n",
            "She said, 'Hello World!'\n",
            "Backslash: \\\n"
          ]
        }
      ]
    },
    {
      "cell_type": "code",
      "source": [
        "print(\"Hello\\nWorld!\")"
      ],
      "metadata": {
        "colab": {
          "base_uri": "https://localhost:8080/"
        },
        "id": "WQ3aHZpLT2Hk",
        "outputId": "97158587-08f6-4f56-b694-447ede23dc0e"
      },
      "execution_count": 178,
      "outputs": [
        {
          "output_type": "stream",
          "name": "stdout",
          "text": [
            "Hello\n",
            "World!\n"
          ]
        }
      ]
    },
    {
      "cell_type": "code",
      "source": [
        "print(\"Hello\\tWorld!\")"
      ],
      "metadata": {
        "colab": {
          "base_uri": "https://localhost:8080/"
        },
        "id": "FAjd4oi7T2nL",
        "outputId": "5b3f8519-8462-4580-bbbf-fc913a71bc0e"
      },
      "execution_count": 189,
      "outputs": [
        {
          "output_type": "stream",
          "name": "stdout",
          "text": [
            "Hello\tWorld!\n"
          ]
        }
      ]
    },
    {
      "cell_type": "code",
      "source": [
        "print(\"She said, \\\"Hello World!\\\"\")"
      ],
      "metadata": {
        "colab": {
          "base_uri": "https://localhost:8080/"
        },
        "id": "9wTCXwfAT4yw",
        "outputId": "62330d00-470c-4283-ee57-8eb5f74da7aa"
      },
      "execution_count": 180,
      "outputs": [
        {
          "output_type": "stream",
          "name": "stdout",
          "text": [
            "She said, \"Hello World!\"\n"
          ]
        }
      ]
    },
    {
      "cell_type": "code",
      "source": [
        "print('She said, \\'Hello World!\\'')\n",
        "print('She said, \\'Hello World!\\'')"
      ],
      "metadata": {
        "colab": {
          "base_uri": "https://localhost:8080/"
        },
        "id": "tWR1dYqaT8H8",
        "outputId": "1bd2282c-ceca-4b44-901e-99ad082e5130"
      },
      "execution_count": 186,
      "outputs": [
        {
          "output_type": "stream",
          "name": "stdout",
          "text": [
            "She said, 'Hello World!'\n",
            "She said, 'Hello World!'\n"
          ]
        }
      ]
    },
    {
      "cell_type": "code",
      "source": [
        "print(\"Backslash: \\\\\")"
      ],
      "metadata": {
        "colab": {
          "base_uri": "https://localhost:8080/"
        },
        "id": "IpI6KO2nUBw2",
        "outputId": "d50c974c-de5a-4d85-ff97-22d8b46b1ccd"
      },
      "execution_count": 182,
      "outputs": [
        {
          "output_type": "stream",
          "name": "stdout",
          "text": [
            "Backslash: \\\n"
          ]
        }
      ]
    },
    {
      "cell_type": "code",
      "source": [
        "print(\"Backslash: \\\\\")"
      ],
      "metadata": {
        "colab": {
          "base_uri": "https://localhost:8080/"
        },
        "id": "PzQBmBMMUEAJ",
        "outputId": "ddfd2e88-243c-487f-df47-f3bb8648921d"
      },
      "execution_count": 183,
      "outputs": [
        {
          "output_type": "stream",
          "name": "stdout",
          "text": [
            "Backslash: \\\n"
          ]
        }
      ]
    }
  ]
}