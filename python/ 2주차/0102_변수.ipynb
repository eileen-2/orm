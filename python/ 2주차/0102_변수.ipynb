{
  "nbformat": 4,
  "nbformat_minor": 0,
  "metadata": {
    "colab": {
      "provenance": [],
      "authorship_tag": "ABX9TyNE5ZEOBfSQmQpy3rQ7mchs",
      "include_colab_link": true
    },
    "kernelspec": {
      "name": "python3",
      "display_name": "Python 3"
    },
    "language_info": {
      "name": "python"
    }
  },
  "cells": [
    {
      "cell_type": "markdown",
      "metadata": {
        "id": "view-in-github",
        "colab_type": "text"
      },
      "source": [
        "<a href=\"https://colab.research.google.com/github/eileen-2/orm/blob/main/0102_%EB%B3%80%EC%88%98.ipynb\" target=\"_parent\"><img src=\"https://colab.research.google.com/assets/colab-badge.svg\" alt=\"Open In Colab\"/></a>"
      ]
    },
    {
      "cell_type": "code",
      "source": [
        "# y와 z는 10일까 20일까?\n",
        "x=10\n",
        "y=x #x = 10\n",
        "z=y #x = 10\n",
        "x=20 #x가 재할당됨. 그런데 y, z는 재할당 되지 않았으므로 기존 변수와 같다.\n",
        "print(y,z) # x값은 재할당, 'y, z'가 바뀌는 게 아니다."
      ],
      "metadata": {
        "colab": {
          "base_uri": "https://localhost:8080/"
        },
        "id": "BYr6fUC0P6ns",
        "outputId": "7d3aee1d-3e70-45be-ce77-770fa731e91c"
      },
      "execution_count": 8,
      "outputs": [
        {
          "output_type": "stream",
          "name": "stdout",
          "text": [
            "10 10\n"
          ]
        }
      ]
    },
    {
      "cell_type": "code",
      "execution_count": 7,
      "metadata": {
        "colab": {
          "base_uri": "https://localhost:8080/"
        },
        "id": "bctxGosJP0N0",
        "outputId": "3c8bf9c6-5b77-4816-c0d9-7b9e4fb05287"
      },
      "outputs": [
        {
          "output_type": "stream",
          "name": "stdout",
          "text": [
            "20 20\n",
            "20\n"
          ]
        }
      ],
      "source": [
        "# 변수 값 변경(재할당) 변수는 언제나 재할당 가능\n",
        "x=10\n",
        "y =x\n",
        "z =y\n",
        "x =20 #x가 재할당됨\n",
        "y =x #y = 20\n",
        "z = y #z = 20으로 변경\n",
        "print(y,z)\n",
        "print(x)"
      ]
    },
    {
      "cell_type": "markdown",
      "source": [
        "#1. 변수 지정\n",
        "\n",
        "- 알파벳(대문자와 소문자)\n",
        "- 숫자\n",
        "- 언더스코어(_)\n",
        "** 숫자 NO!\n",
        "** 파이썬 keyword NO!!\n",
        "** 클래스는 첫문자 대문자 ex)class.Test()\n",
        "** 스네이크 기법사용(띄어쓰기= \"언더스코어(_)\")\n",
        "\n",
        "#2. 변수 함수\n",
        "- type(): 타입 확인\n",
        "- dir(): 기능 확인"
      ],
      "metadata": {
        "id": "mfIdO9ZiP5cU"
      }
    },
    {
      "cell_type": "code",
      "source": [
        "# 변수의 속성확인 실습\n",
        "# 1. 숫자형\n",
        "x = 10\n",
        "print(type(x))\n",
        "print(dir(x))\n",
        "\n",
        "# 2. 문자형\n",
        "x = \"10\"\n",
        "print(type(x))\n",
        "print(dir(x))"
      ],
      "metadata": {
        "colab": {
          "base_uri": "https://localhost:8080/"
        },
        "id": "5eA2fkbGmitm",
        "outputId": "2b3e8468-56c4-45a4-9013-54a4664538d8"
      },
      "execution_count": 15,
      "outputs": [
        {
          "output_type": "stream",
          "name": "stdout",
          "text": [
            "<class 'int'>\n",
            "['__abs__', '__add__', '__and__', '__bool__', '__ceil__', '__class__', '__delattr__', '__dir__', '__divmod__', '__doc__', '__eq__', '__float__', '__floor__', '__floordiv__', '__format__', '__ge__', '__getattribute__', '__getnewargs__', '__gt__', '__hash__', '__index__', '__init__', '__init_subclass__', '__int__', '__invert__', '__le__', '__lshift__', '__lt__', '__mod__', '__mul__', '__ne__', '__neg__', '__new__', '__or__', '__pos__', '__pow__', '__radd__', '__rand__', '__rdivmod__', '__reduce__', '__reduce_ex__', '__repr__', '__rfloordiv__', '__rlshift__', '__rmod__', '__rmul__', '__ror__', '__round__', '__rpow__', '__rrshift__', '__rshift__', '__rsub__', '__rtruediv__', '__rxor__', '__setattr__', '__sizeof__', '__str__', '__sub__', '__subclasshook__', '__truediv__', '__trunc__', '__xor__', 'as_integer_ratio', 'bit_count', 'bit_length', 'conjugate', 'denominator', 'from_bytes', 'imag', 'numerator', 'real', 'to_bytes']\n",
            "<class 'str'>\n",
            "['__add__', '__class__', '__contains__', '__delattr__', '__dir__', '__doc__', '__eq__', '__format__', '__ge__', '__getattribute__', '__getitem__', '__getnewargs__', '__gt__', '__hash__', '__init__', '__init_subclass__', '__iter__', '__le__', '__len__', '__lt__', '__mod__', '__mul__', '__ne__', '__new__', '__reduce__', '__reduce_ex__', '__repr__', '__rmod__', '__rmul__', '__setattr__', '__sizeof__', '__str__', '__subclasshook__', 'capitalize', 'casefold', 'center', 'count', 'encode', 'endswith', 'expandtabs', 'find', 'format', 'format_map', 'index', 'isalnum', 'isalpha', 'isascii', 'isdecimal', 'isdigit', 'isidentifier', 'islower', 'isnumeric', 'isprintable', 'isspace', 'istitle', 'isupper', 'join', 'ljust', 'lower', 'lstrip', 'maketrans', 'partition', 'removeprefix', 'removesuffix', 'replace', 'rfind', 'rindex', 'rjust', 'rpartition', 'rsplit', 'rstrip', 'split', 'splitlines', 'startswith', 'strip', 'swapcase', 'title', 'translate', 'upper', 'zfill']\n"
          ]
        }
      ]
    },
    {
      "cell_type": "code",
      "source": [
        "# 변수의 삭제\n",
        "\n",
        "x = 10\n",
        "print(x)\n",
        "\n",
        "del x\n",
        "print(x)\n"
      ],
      "metadata": {
        "colab": {
          "base_uri": "https://localhost:8080/",
          "height": 237
        },
        "id": "SLZhvBzfm0Vb",
        "outputId": "0c215dc8-dd79-4290-eaa2-84956b87bf3b"
      },
      "execution_count": 28,
      "outputs": [
        {
          "output_type": "stream",
          "name": "stdout",
          "text": [
            "10\n"
          ]
        },
        {
          "output_type": "error",
          "ename": "NameError",
          "evalue": "ignored",
          "traceback": [
            "\u001b[0;31m---------------------------------------------------------------------------\u001b[0m",
            "\u001b[0;31mNameError\u001b[0m                                 Traceback (most recent call last)",
            "\u001b[0;32m<ipython-input-28-578d49220d10>\u001b[0m in \u001b[0;36m<cell line: 7>\u001b[0;34m()\u001b[0m\n\u001b[1;32m      5\u001b[0m \u001b[0;34m\u001b[0m\u001b[0m\n\u001b[1;32m      6\u001b[0m \u001b[0;32mdel\u001b[0m \u001b[0mx\u001b[0m\u001b[0;34m\u001b[0m\u001b[0;34m\u001b[0m\u001b[0m\n\u001b[0;32m----> 7\u001b[0;31m \u001b[0mprint\u001b[0m\u001b[0;34m(\u001b[0m\u001b[0mx\u001b[0m\u001b[0;34m)\u001b[0m\u001b[0;34m\u001b[0m\u001b[0;34m\u001b[0m\u001b[0m\n\u001b[0m",
            "\u001b[0;31mNameError\u001b[0m: name 'x' is not defined"
          ]
        }
      ]
    },
    {
      "cell_type": "markdown",
      "source": [
        "#2.1 변수의 여러가지 타입\n",
        "\n",
        "1. 숫자형\n",
        " - 정수형(int) 1 100 -15 2진법\n",
        " - 실수형(float) 1.5 0.0 -30.234\n",
        " - 복소수형(complex) 3 + 4j 2x + 8\n",
        "2. 논리자료형(bool) true / false\n",
        "3. 시퀀스형\n",
        "  - 문자열 자료형(str) 순서가 있음\n",
        "  - 리스트 자료형(list) __변경 가능__ []\n",
        "  - 튜플 자료형(tuple) __변경 불가능__()\n",
        "4. 컬렉션/컨테이너 자료형\n",
        "  - 리스트 자료형(list) 변경 가능 []\n",
        "  - 딕셔너리 자료형(dic)키와 쌍으로 {:}묶여있음\n",
        "  - 집합 셋 자료형(set) __중복 불허용__ {}\n",
        "\n",
        "5. None 자료형(none) 아무것도 없음을 명시, 대문자 N"
      ],
      "metadata": {
        "id": "pJ7wczI9ojXv"
      }
    },
    {
      "cell_type": "markdown",
      "source": [
        "#2.2 정수의 사칙연산\n",
        "\n",
        "1. 덧셈 = 정수\n",
        "2. 뺄셈 = 정수\n",
        "3. 곱셈 = 정수\n",
        "4. 나눗셈 =/ 정수가 아님"
      ],
      "metadata": {
        "id": "JmHCHHzdrbdR"
      }
    },
    {
      "cell_type": "code",
      "source": [
        "# 나눗셈 예제\n",
        "# 나눗셈은 부동소수점으로 변환이 됨 > int로 변경 필요\n",
        "\n",
        "x = 40\n",
        "y = 2\n",
        "result=x/y\n",
        "print(result)"
      ],
      "metadata": {
        "colab": {
          "base_uri": "https://localhost:8080/"
        },
        "id": "6W3IoLequCs-",
        "outputId": "ae6340d0-a725-4079-b536-40a59e2ba6fc"
      },
      "execution_count": 31,
      "outputs": [
        {
          "output_type": "stream",
          "name": "stdout",
          "text": [
            "20.0\n"
          ]
        }
      ]
    },
    {
      "cell_type": "code",
      "source": [
        "# 나눗셈 결과 int로 변경\n",
        "x = 40\n",
        "y = 2\n",
        "result=x/y\n",
        "print(int(result))\n"
      ],
      "metadata": {
        "colab": {
          "base_uri": "https://localhost:8080/"
        },
        "id": "npbvOUWQuQXd",
        "outputId": "ead50d61-9cea-4aa6-e957-a50b5a4610ac"
      },
      "execution_count": 37,
      "outputs": [
        {
          "output_type": "stream",
          "name": "stdout",
          "text": [
            "20\n"
          ]
        }
      ]
    },
    {
      "cell_type": "markdown",
      "source": [
        "# 2.3 진수(알고리즘, 코테에서 중요)-참고\n",
        "\n",
        "1. 2진수(binary): 0과 1로 구성\n",
        "   _2진수 앞에 '0b'를 입력한다_\n",
        "2. 8진수(octal)\n",
        "   _8진수 앞에 '0o'를 입력한다_\n",
        "3. 16진수(hexadecimal)\n",
        "  _16진수 앞에 '0x'를 입력한다_\n",
        "\n",
        "2.3.1. 진수로 변경시\n",
        "  - bin()\n",
        "  - oct()\n",
        "  - hex()\n",
        "\n"
      ],
      "metadata": {
        "id": "4muU2hGyuYJr"
      }
    },
    {
      "cell_type": "markdown",
      "source": [
        "#__2.4 메서드__\n",
        "\n",
        "; 자료형(정수, 실수, 문자열, 리스트 등)이 할 수 있는 일(함수)\n",
        "ex) 문자열 객체에서 대문자로 변경\n",
        "- dir(자료형) ; 메서드 확인\n",
        "  * 매직메서드; __add__ 언더스코어 있는 형\n",
        "\n",
        "  #메서드 사용법\n",
        "  변수.메서드명령어\n",
        "  x.upper()\n",
        "  "
      ],
      "metadata": {
        "id": "nO8JxExJyiAk"
      }
    },
    {
      "cell_type": "code",
      "source": [
        "# id(x), id(y)에 대해서\n",
        "# -5 ~ 256\n",
        "\n",
        "x = 257\n",
        "y = 257\n",
        "\n",
        "print(x,y)"
      ],
      "metadata": {
        "colab": {
          "base_uri": "https://localhost:8080/"
        },
        "id": "-chEFSkEz0UO",
        "outputId": "b8613950-718a-4c80-8214-ea97cf189ead"
      },
      "execution_count": 45,
      "outputs": [
        {
          "output_type": "stream",
          "name": "stdout",
          "text": [
            "257 257\n"
          ]
        }
      ]
    },
    {
      "cell_type": "code",
      "source": [
        "print(x == y) #print(x is y)"
      ],
      "metadata": {
        "colab": {
          "base_uri": "https://localhost:8080/"
        },
        "id": "6kxFCdH6z_zh",
        "outputId": "7e51a153-472b-4ead-f416-468995c5bbb5"
      },
      "execution_count": 48,
      "outputs": [
        {
          "output_type": "stream",
          "name": "stdout",
          "text": [
            "True\n"
          ]
        }
      ]
    },
    {
      "cell_type": "code",
      "source": [
        "print(x is y) #256이상일 때부터는 id 가 달라"
      ],
      "metadata": {
        "colab": {
          "base_uri": "https://localhost:8080/"
        },
        "id": "rIcLOVZ80ftz",
        "outputId": "29f32809-5d79-4e75-dd37-9e5ce2ba3cc1"
      },
      "execution_count": 49,
      "outputs": [
        {
          "output_type": "stream",
          "name": "stdout",
          "text": [
            "False\n"
          ]
        }
      ]
    },
    {
      "cell_type": "code",
      "source": [
        "print(id(x), id(y))"
      ],
      "metadata": {
        "colab": {
          "base_uri": "https://localhost:8080/"
        },
        "id": "u0I_DQXo0FfR",
        "outputId": "2314bedf-22a4-4e6a-fe7b-a9a7a0625691"
      },
      "execution_count": 47,
      "outputs": [
        {
          "output_type": "stream",
          "name": "stdout",
          "text": [
            "138884841693616 138884841696496\n"
          ]
        }
      ]
    },
    {
      "cell_type": "code",
      "source": [
        "x=5 #정수형 변술르 선언하는 일반적인 방\n",
        "type(x)"
      ],
      "metadata": {
        "colab": {
          "base_uri": "https://localhost:8080/"
        },
        "id": "hNkyOozR0Ijw",
        "outputId": "3b0966e4-5f20-48d6-9d3d-a53db104056e"
      },
      "execution_count": 51,
      "outputs": [
        {
          "output_type": "execute_result",
          "data": {
            "text/plain": [
              "int"
            ]
          },
          "metadata": {},
          "execution_count": 51
        }
      ]
    },
    {
      "cell_type": "code",
      "source": [
        "x = int(5)\n",
        "type(x)"
      ],
      "metadata": {
        "colab": {
          "base_uri": "https://localhost:8080/"
        },
        "id": "vaY_tiQ12FC_",
        "outputId": "49d8f290-071e-4cec-9839-a7873331c1b3"
      },
      "execution_count": 54,
      "outputs": [
        {
          "output_type": "execute_result",
          "data": {
            "text/plain": [
              "int"
            ]
          },
          "metadata": {},
          "execution_count": 54
        }
      ]
    },
    {
      "cell_type": "markdown",
      "source": [
        "#2.5 실수\n",
        "\n",
        "* class 'float'\n",
        "* 소수점으로 표현되는 타입\n",
        "\n",
        "# * float의 특수값 ; 실수형\n",
        "- inf : 양의 무한대를 나타내는 상수\n",
        "x = float('inf')\n",
        "- -inf : 음의 무한대를 나타내는 상수\n",
        "x = float('-inf')"
      ],
      "metadata": {
        "id": "a0MKotRp2krQ"
      }
    },
    {
      "cell_type": "code",
      "source": [
        "#무한대\n",
        "\n",
        "x_inf = float('inf')"
      ],
      "metadata": {
        "id": "LGmmpsR63QuR"
      },
      "execution_count": 57,
      "outputs": []
    },
    {
      "cell_type": "code",
      "source": [
        "print(x_inf)"
      ],
      "metadata": {
        "colab": {
          "base_uri": "https://localhost:8080/"
        },
        "id": "BLKnAi0Q3bNB",
        "outputId": "6bcc8c00-55be-4588-8ed3-6c630d606f9a"
      },
      "execution_count": 59,
      "outputs": [
        {
          "output_type": "stream",
          "name": "stdout",
          "text": [
            "inf\n"
          ]
        }
      ]
    },
    {
      "cell_type": "code",
      "source": [
        "x_inf = float('-inf')"
      ],
      "metadata": {
        "id": "Mkmow5g63gr8"
      },
      "execution_count": 62,
      "outputs": []
    },
    {
      "cell_type": "code",
      "source": [
        "print(x_inf)"
      ],
      "metadata": {
        "colab": {
          "base_uri": "https://localhost:8080/"
        },
        "id": "l9a5ANi-3l_m",
        "outputId": "999743b5-b1b6-4966-ce7c-5cc62d0c762e"
      },
      "execution_count": 64,
      "outputs": [
        {
          "output_type": "stream",
          "name": "stdout",
          "text": [
            "-inf\n"
          ]
        }
      ]
    },
    {
      "cell_type": "code",
      "source": [
        "# 부동소수점의 문제!\n",
        "\n",
        "x_test = 4.5\n",
        "y_test = 4.5\n",
        "print(x_test + y_test)"
      ],
      "metadata": {
        "colab": {
          "base_uri": "https://localhost:8080/"
        },
        "id": "S6-1AzRI3vh-",
        "outputId": "2ca73166-d23d-46e9-c777-666b4f2c8abf"
      },
      "execution_count": 66,
      "outputs": [
        {
          "output_type": "stream",
          "name": "stdout",
          "text": [
            "9.0\n"
          ]
        }
      ]
    },
    {
      "cell_type": "code",
      "source": [
        "# 부동소수점의 문제; 컴퓨터가 실수를 이진수로 표현하면서 발생하는 반올림 오차 때문\n",
        "x_test = 10.6\n",
        "y_test = 10.7\n",
        "print(x_test + y_test)"
      ],
      "metadata": {
        "colab": {
          "base_uri": "https://localhost:8080/"
        },
        "id": "cHRD1z5E38AA",
        "outputId": "e59f838f-909d-428c-fddb-c1773feac29a"
      },
      "execution_count": 72,
      "outputs": [
        {
          "output_type": "stream",
          "name": "stdout",
          "text": [
            "21.299999999999997\n"
          ]
        }
      ]
    },
    {
      "cell_type": "code",
      "source": [
        "# 부동소수점의 문제 해결법 : decimal / 정확도 올라감.\n",
        "import decimal\n",
        "float(decimal.Decimal('10.6') + decimal.Decimal('10.7'))"
      ],
      "metadata": {
        "colab": {
          "base_uri": "https://localhost:8080/"
        },
        "id": "pcHwmver4qRV",
        "outputId": "cfba14a0-a740-4164-ba61-c848e55431a7"
      },
      "execution_count": 74,
      "outputs": [
        {
          "output_type": "execute_result",
          "data": {
            "text/plain": [
              "21.3"
            ]
          },
          "metadata": {},
          "execution_count": 74
        }
      ]
    },
    {
      "cell_type": "code",
      "source": [
        "# 제곱형태\n",
        "\n",
        "print(2e3) #지수표현법, float형\n",
        "print(2E3)\n",
        "\n",
        "print(20000000)\n",
        "\n",
        "print(2 * (10 ** 3))"
      ],
      "metadata": {
        "colab": {
          "base_uri": "https://localhost:8080/"
        },
        "id": "QAInI_lS5U0j",
        "outputId": "0e9d6678-c245-4019-da99-3757c0c3793b"
      },
      "execution_count": 78,
      "outputs": [
        {
          "output_type": "stream",
          "name": "stdout",
          "text": [
            "2000.0\n",
            "2000.0\n",
            "20000000\n",
            "2000\n"
          ]
        }
      ]
    },
    {
      "cell_type": "markdown",
      "source": [
        "#2.6 복소수\n",
        "\n",
        "class complex\n",
        "복소수 3 + 4j 3은 실수, 4j가 허수\n"
      ],
      "metadata": {
        "id": "X9SEzYNc5yTm"
      }
    },
    {
      "cell_type": "code",
      "source": [
        "#복소수 출력\n",
        "\n",
        "x1 = 3 + 4j\n",
        "x2 = complex(3, 4)\n",
        "\n",
        "print(x1, x2)\n",
        "print(type(x1), type(x2))"
      ],
      "metadata": {
        "colab": {
          "base_uri": "https://localhost:8080/"
        },
        "id": "rGy4B_WN6GRx",
        "outputId": "94bad9c3-5413-4887-fa8e-589ed96e4e4d"
      },
      "execution_count": 81,
      "outputs": [
        {
          "output_type": "stream",
          "name": "stdout",
          "text": [
            "(3+4j) (3+4j)\n",
            "<class 'complex'> <class 'complex'>\n"
          ]
        }
      ]
    },
    {
      "cell_type": "code",
      "source": [
        "# 복소수 실수 출력\n",
        "\n",
        "x = 3 + 4j\n",
        "print(x.real)\n",
        "print(type(x.real))"
      ],
      "metadata": {
        "colab": {
          "base_uri": "https://localhost:8080/"
        },
        "id": "7nTMQpIV6OdM",
        "outputId": "79f75cb3-8853-47a8-a9ed-de72d62208e3"
      },
      "execution_count": 84,
      "outputs": [
        {
          "output_type": "stream",
          "name": "stdout",
          "text": [
            "3.0\n",
            "<class 'float'>\n"
          ]
        }
      ]
    },
    {
      "cell_type": "code",
      "source": [
        "# 복소수 허수 출력\n",
        "\n",
        "x = 3 + 4j\n",
        "print(x.imag)\n",
        "print(type(x.imag))"
      ],
      "metadata": {
        "colab": {
          "base_uri": "https://localhost:8080/"
        },
        "id": "uH2YZiYP6e6o",
        "outputId": "b3951758-2aca-4d5f-e5aa-2052b8d52003"
      },
      "execution_count": 86,
      "outputs": [
        {
          "output_type": "stream",
          "name": "stdout",
          "text": [
            "4.0\n",
            "<class 'float'>\n"
          ]
        }
      ]
    },
    {
      "cell_type": "markdown",
      "source": [],
      "metadata": {
        "id": "-952u84D7klk"
      }
    },
    {
      "cell_type": "code",
      "source": [
        "x = 3+4j\n",
        "(3 + 4j).real"
      ],
      "metadata": {
        "colab": {
          "base_uri": "https://localhost:8080/"
        },
        "id": "ZM2yAOKf6Ny3",
        "outputId": "effce8dc-fce9-4cc8-a066-016f8d54e972"
      },
      "execution_count": 89,
      "outputs": [
        {
          "output_type": "execute_result",
          "data": {
            "text/plain": [
              "3.0"
            ]
          },
          "metadata": {},
          "execution_count": 89
        }
      ]
    }
  ]
}