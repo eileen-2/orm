{
  "nbformat": 4,
  "nbformat_minor": 0,
  "metadata": {
    "colab": {
      "provenance": [],
      "authorship_tag": "ABX9TyOQZ4gZ5pePgGT+be4PZovB",
      "include_colab_link": true
    },
    "kernelspec": {
      "name": "python3",
      "display_name": "Python 3"
    },
    "language_info": {
      "name": "python"
    }
  },
  "cells": [
    {
      "cell_type": "markdown",
      "metadata": {
        "id": "view-in-github",
        "colab_type": "text"
      },
      "source": [
        "<a href=\"https://colab.research.google.com/github/eileen-2/orm/blob/main/0104_%EC%97%B0%EC%82%B0(%EA%B3%84%EC%86%8D).ipynb\" target=\"_parent\"><img src=\"https://colab.research.google.com/assets/colab-badge.svg\" alt=\"Open In Colab\"/></a>"
      ]
    },
    {
      "cell_type": "markdown",
      "source": [
        "#1. 논리연산자 (Logical Operators)\n",
        "- True or False\n",
        "\n",
        "- 여러 조건 함께 평가-> 하나의 bool 값으로 반환\n",
        " ex) 불 값에 대한 연산 /  int, float, str, list, tuple, dict 등 다른 오브젝트가 들어간 연산\n",
        "\n",
        "1. and ; 두가지 참 - > True\n",
        "2. or ; 둘 중 하나 참 - > True\n",
        "3. not ; 무조건 반대값 반환\n",
        "**값이 같아도 id가 달라서 false 나올 수 있음\n",
        "\n"
      ],
      "metadata": {
        "id": "zO4y9oF-6eav"
      }
    },
    {
      "cell_type": "code",
      "source": [
        "#1.1 논리연산자 예시\n",
        "\n",
        "for i in range(101):\n",
        "      if i % 3 == 0 and i % 5 == 0:\n",
        "          print(i)"
      ],
      "metadata": {
        "colab": {
          "base_uri": "https://localhost:8080/"
        },
        "id": "ho_0R03L8i_-",
        "outputId": "a241e965-168b-4997-cdf9-163b87819740"
      },
      "execution_count": 3,
      "outputs": [
        {
          "output_type": "stream",
          "name": "stdout",
          "text": [
            "0\n",
            "15\n",
            "30\n",
            "45\n",
            "60\n",
            "75\n",
            "90\n"
          ]
        }
      ]
    },
    {
      "cell_type": "markdown",
      "source": [
        "# 가장 많이 걸러지는 조건을 맨 앞에 두어야 리소스를 줄일 수 있다.\n",
        "* 휴면고객에 대해서 데이터를 받아서 가망고객\n",
        "\n",
        "> 휴면고객 100,000(DB)\n",
        "> 1차. 20~40만 먼저 거르기 - > 4만명(-6만명)\n",
        "> 2차. 10마원 이하로 사용한 고객 거르기 - > 2만명(-2만명)\n",
        "> 3차. 3번 이하로 구매한 고객 - >1만명(-1만명)"
      ],
      "metadata": {
        "id": "clj079BUBX3C"
      }
    },
    {
      "cell_type": "code",
      "source": [
        "#1.1 논리연산자 예시 2\n",
        "def test1():\n",
        "    print(\"test1 함수 호출!\")\n",
        "    return False\n",
        "\n",
        "def test2():\n",
        "    print(\"test2 함수 호출!\")\n",
        "    return True\n",
        "# 가장 많이 걸러지는 조건을 맨 앞에 두어야 리소스를 줄일 수 있다.\n",
        "result = test1() and test2()\n",
        "print(result)"
      ],
      "metadata": {
        "colab": {
          "base_uri": "https://localhost:8080/"
        },
        "id": "yl_I6iVT8rZV",
        "outputId": "f90caa08-0f8a-4bc9-fc5b-329e92c69bf1"
      },
      "execution_count": 4,
      "outputs": [
        {
          "output_type": "stream",
          "name": "stdout",
          "text": [
            "test1 함수 호출!\n",
            "False\n"
          ]
        }
      ]
    },
    {
      "cell_type": "code",
      "source": [
        "0 and 1"
      ],
      "metadata": {
        "colab": {
          "base_uri": "https://localhost:8080/"
        },
        "id": "V8DuTn_qAmm5",
        "outputId": "f7728106-0c18-4494-f24a-b63271a5591d"
      },
      "execution_count": 9,
      "outputs": [
        {
          "output_type": "execute_result",
          "data": {
            "text/plain": [
              "0"
            ]
          },
          "metadata": {},
          "execution_count": 9
        }
      ]
    },
    {
      "cell_type": "code",
      "source": [
        "bool(0 and 1)"
      ],
      "metadata": {
        "colab": {
          "base_uri": "https://localhost:8080/"
        },
        "id": "KGkinbKRFwEn",
        "outputId": "30f0e9c5-2ab2-47fa-c72f-76cc06d028b2"
      },
      "execution_count": 11,
      "outputs": [
        {
          "output_type": "execute_result",
          "data": {
            "text/plain": [
              "False"
            ]
          },
          "metadata": {},
          "execution_count": 11
        }
      ]
    },
    {
      "cell_type": "code",
      "source": [
        "print(0 and 1)"
      ],
      "metadata": {
        "colab": {
          "base_uri": "https://localhost:8080/"
        },
        "id": "c1FUYCacFyrp",
        "outputId": "056c1d50-6cfe-4462-aec6-2f01a312776c"
      },
      "execution_count": 12,
      "outputs": [
        {
          "output_type": "stream",
          "name": "stdout",
          "text": [
            "0\n"
          ]
        }
      ]
    },
    {
      "cell_type": "markdown",
      "source": [
        "# 2. 할당 연산자 ; not priority\n",
        "\n",
        "- 기본적인 할당 연산자는 '='\n",
        "- 우선순위는 대부분의 다른 연산자들보다 낮다!!"
      ],
      "metadata": {
        "id": "CIgjUDxADxD4"
      }
    },
    {
      "cell_type": "code",
      "source": [
        "#2.1 할당 연산자 실습\n",
        "#복리, 금리 계산할 때 활용할 수 있는 연산\n",
        "\n",
        "x = 5\n",
        "y = 2\n",
        "z = 10\n",
        "\n",
        "x1 = y*z #결과 : 20\n",
        "x2 = x + y * z # 결과 : 25\n",
        "x += y * z  # y * z 연산 후 x에 값을 더한 뒤에 할당합니다.\n",
        "print(x1)\n",
        "print(x2)\n",
        "print(x)"
      ],
      "metadata": {
        "colab": {
          "base_uri": "https://localhost:8080/"
        },
        "id": "TfxoGVRtEn7i",
        "outputId": "bb3dafbe-1d07-44f5-e095-72f320d38dec"
      },
      "execution_count": 13,
      "outputs": [
        {
          "output_type": "stream",
          "name": "stdout",
          "text": [
            "20\n",
            "25\n",
            "25\n"
          ]
        }
      ]
    },
    {
      "cell_type": "markdown",
      "source": [
        "#3. 식별연산(is 구문, id) ;주소를 비교\n",
        "\n",
        "1. is;\n",
        "- 두 변수가 같은 곳에 저장된 정보를 바라보고 있다면 ‘맞다’(True)를 알려줍니다. 다른 곳을 바라보고 있다면 ‘아니다’(False)를 알려줍니다.\n",
        "2. is not;\n",
        "- 두 변수가 같은 곳에 저장된 정보를 바라보고 있다면 '아니다(False)'를 알려줍니다. 다른 곳을 바라보고 있다면 '맞다(True)'를 알려줍니다.\n",
        "\n",
        "* __식별연산시 문자열, 숫자열, 공백 유의!!__"
      ],
      "metadata": {
        "id": "svew8SDrHR_7"
      }
    },
    {
      "cell_type": "code",
      "source": [
        "# 동일 인물 확인(겸업 금지 조항)\n",
        "coffee_employee = \"Brand\"\n",
        "orange_employee = \"Brand\"\n",
        "\n",
        "print(coffee_employee is orange_employee)\n",
        "print(coffee_employee == orange_employee)"
      ],
      "metadata": {
        "colab": {
          "base_uri": "https://localhost:8080/"
        },
        "id": "Cm8zUFQ3Hvn9",
        "outputId": "d4b7f428-dd59-4624-c508-c99efe36f3cc"
      },
      "execution_count": 14,
      "outputs": [
        {
          "output_type": "stream",
          "name": "stdout",
          "text": [
            "True\n",
            "True\n"
          ]
        }
      ]
    },
    {
      "cell_type": "code",
      "source": [
        "# -5~256 같은 주소, 그 범위 이상은 주소가 다름\n",
        "coffee_employee = -6\n",
        "orange_employee = -6\n",
        "\n",
        "print(coffee_employee is orange_employee)\n",
        "print(coffee_employee == orange_employee)"
      ],
      "metadata": {
        "colab": {
          "base_uri": "https://localhost:8080/"
        },
        "id": "xSlBDxcBHyUf",
        "outputId": "ee8f9803-b1ee-4cb9-e743-8be38904576a"
      },
      "execution_count": 16,
      "outputs": [
        {
          "output_type": "stream",
          "name": "stdout",
          "text": [
            "False\n",
            "True\n"
          ]
        }
      ]
    },
    {
      "cell_type": "code",
      "source": [
        "# -5~256 같은 주소, 그 범위 이상은 주소가 다름\n",
        "coffee_employee = 1000\n",
        "orange_employee = 1000\n",
        "\n",
        "print(coffee_employee is orange_employee) #id 까지 비교\n",
        "print(coffee_employee == orange_employee) #값이 같은 지 비교"
      ],
      "metadata": {
        "colab": {
          "base_uri": "https://localhost:8080/"
        },
        "id": "kUXh7uuTIQUy",
        "outputId": "d7c03864-43eb-44d7-9435-e604e8e36771"
      },
      "execution_count": 19,
      "outputs": [
        {
          "output_type": "stream",
          "name": "stdout",
          "text": [
            "False\n",
            "True\n"
          ]
        }
      ]
    },
    {
      "cell_type": "code",
      "source": [
        "# id주소가 다름\n",
        "print(id(coffee_employee))\n",
        "print(id(orange_employee))"
      ],
      "metadata": {
        "colab": {
          "base_uri": "https://localhost:8080/"
        },
        "id": "vW-eNfVAIot0",
        "outputId": "34a60ce9-14c4-4017-e009-d398dc6ec15b"
      },
      "execution_count": 22,
      "outputs": [
        {
          "output_type": "stream",
          "name": "stdout",
          "text": [
            "137621552256304\n",
            "137621552260912\n"
          ]
        }
      ]
    },
    {
      "cell_type": "code",
      "source": [
        "# 예시\n",
        "a = [1, 2, 3] #리스트형 [1,2,3]\n",
        "b = [1, 2, 3] #리스트형 [1,2,3]\n",
        "c = a # a 값을 재 할당\n"
      ],
      "metadata": {
        "id": "FTOrn_DVI2_-"
      },
      "execution_count": 24,
      "outputs": []
    },
    {
      "cell_type": "code",
      "source": [
        "print(a,b,c)"
      ],
      "metadata": {
        "colab": {
          "base_uri": "https://localhost:8080/"
        },
        "id": "QjQes4OOJHQr",
        "outputId": "605378fc-d35d-44ca-9957-7bc6e6f1fbe4"
      },
      "execution_count": 25,
      "outputs": [
        {
          "output_type": "stream",
          "name": "stdout",
          "text": [
            "[1, 2, 3] [1, 2, 3] [1, 2, 3]\n"
          ]
        }
      ]
    },
    {
      "cell_type": "code",
      "source": [
        "# 결과\n",
        "print('a == b', a == b) # a == b true\n",
        "print('a == c', a == c) # a == c true\n",
        "print('a is b', a is b) # a is b false # id가 다\n",
        "print('a is c', a is c) # a is c true\n",
        "\n",
        "print(id(a), id(b), id(c))"
      ],
      "metadata": {
        "colab": {
          "base_uri": "https://localhost:8080/"
        },
        "id": "UfI_UcbNJGvq",
        "outputId": "ce776f4b-13ca-4345-ef44-bc36c890a6ce"
      },
      "execution_count": 27,
      "outputs": [
        {
          "output_type": "stream",
          "name": "stdout",
          "text": [
            "a == b True\n",
            "a == c True\n",
            "a is b False\n",
            "a is c True\n",
            "137622039396480 137622442168384 137622039396480\n"
          ]
        }
      ]
    },
    {
      "cell_type": "code",
      "source": [
        "a = [1, 2, 3]\n",
        "b = a\n",
        "print(a is b)"
      ],
      "metadata": {
        "colab": {
          "base_uri": "https://localhost:8080/"
        },
        "id": "y4xUT2bvJMTq",
        "outputId": "827e6c0f-4f1e-4047-d3c1-7b0d1f82d1d5"
      },
      "execution_count": 30,
      "outputs": [
        {
          "output_type": "stream",
          "name": "stdout",
          "text": [
            "True\n"
          ]
        }
      ]
    },
    {
      "cell_type": "markdown",
      "source": [
        "#4. 멤버연산 (in 구문)\n",
        ";멤버 연산 in은 어떤 값이 목록 안에 있는지 확인\n",
        "\n",
        "- in\n",
        "; 값이 목록 안에 있으면 참(True)이에요.\n",
        "- not in\n",
        "; 값이 목록 안에 없으면 참(True)이에요.\n",
        "- 자료형태를 잘 파악하여 사용해야 함!\n",
        "\n",
        "* is / is not\n",
        "* in / not in\n",
        "**순서 주의**"
      ],
      "metadata": {
        "id": "9h92dOdOPe_G"
      }
    },
    {
      "cell_type": "code",
      "source": [
        "# 예시 1\n",
        "a = [1, 2, 3, 4]\n",
        "b = [1, 2, 3, 4]\n",
        "c = 'hello world'\n",
        "print([1] in a) #리스트 안에 리스트형 [1]이 있냐는 질문\n",
        "print(1 in a) #리스트 안에 정수형 1이 있냐는 질문"
      ],
      "metadata": {
        "colab": {
          "base_uri": "https://localhost:8080/"
        },
        "id": "rbbzgtmSP-PA",
        "outputId": "0b14ae2a-656a-448f-bde3-60b2497dd583"
      },
      "execution_count": 39,
      "outputs": [
        {
          "output_type": "stream",
          "name": "stdout",
          "text": [
            "False\n",
            "True\n"
          ]
        }
      ]
    },
    {
      "cell_type": "code",
      "source": [
        "#리스트형의 특수성!\n",
        "#자료형태를 잘 파악해야함.\n",
        "a_1 = [1, [2], 3, 4]\n",
        "#리스트 안에 있는 값은 정수형 : 1, 3, 4 / 리스트형 [2]"
      ],
      "metadata": {
        "id": "3PlsT0UkQbNd"
      },
      "execution_count": 40,
      "outputs": []
    },
    {
      "cell_type": "code",
      "source": [
        "a = [1, 2, 3, 4]\n",
        "b = [1, 2, 3, 4]\n",
        "c = 'hello world'\n",
        "print(1 in a and b) #1 in a가 참이므로 b를 산출함\n",
        "print(1 in a and 1 in b) #and 앞 뒤가 참이므로 참 산"
      ],
      "metadata": {
        "colab": {
          "base_uri": "https://localhost:8080/"
        },
        "id": "1dQvIsnQQ7Vz",
        "outputId": "69fdb1f1-4084-4707-d8e9-3b3533dc2c4a"
      },
      "execution_count": 43,
      "outputs": [
        {
          "output_type": "stream",
          "name": "stdout",
          "text": [
            "[1, 2, 3, 4]\n",
            "True\n"
          ]
        }
      ]
    },
    {
      "cell_type": "code",
      "source": [
        "# 결과\n",
        "print(1 in a) # 출력: True\n",
        "print(0 not in a) # 출력: True\n",
        "print([2] in b) # 출력: False\n",
        "print([1, 2] in b) # 출력: False\n",
        "print('h' in c) # 출력: True\n",
        "print('hello ' in c) # 출력: True"
      ],
      "metadata": {
        "colab": {
          "base_uri": "https://localhost:8080/"
        },
        "id": "vHmyH5PrQFC3",
        "outputId": "69f91b52-0e19-4d96-daf0-f47b01396ac9"
      },
      "execution_count": 44,
      "outputs": [
        {
          "output_type": "stream",
          "name": "stdout",
          "text": [
            "True\n",
            "True\n",
            "False\n",
            "False\n",
            "True\n",
            "True\n"
          ]
        }
      ]
    },
    {
      "cell_type": "code",
      "source": [
        "#set에서는 요소만, dict에서는 key값만 확인 가능\n",
        "\n",
        "a = {'key1': 'value1', 'key2': 'value2'} #딕셔너리\n",
        "b = {10, 10, 20}\n",
        "10 in b # 출력: True\n",
        "{10} in b # 출력: False, 주의\n",
        "{10, 20} in b # 출력: False, 주의\n",
        "\n",
        "'key1' in a # 출력: True\n",
        "'value1' in a # 출력: False\n",
        "('key1', 'key2') in a # 출력: False\n",
        "# {'key1':'value1'} in a # error"
      ],
      "metadata": {
        "colab": {
          "base_uri": "https://localhost:8080/"
        },
        "id": "LMPHWVHnR3N_",
        "outputId": "b33e1861-7802-4341-e531-33194821c378"
      },
      "execution_count": 46,
      "outputs": [
        {
          "output_type": "execute_result",
          "data": {
            "text/plain": [
              "False"
            ]
          },
          "metadata": {},
          "execution_count": 46
        }
      ]
    },
    {
      "cell_type": "markdown",
      "source": [
        "# 연산과 연산자 우선순위\n",
        "\n",
        "**연산자 우선순위**는 여러 연산자가 하나의 표현식(expression) 내에 있을 때 어떤 연산자가 먼저 계산되는지를 결정합니다.\n",
        "\n",
        "연산자의 우선순위는 수학에서의 연산 순서와 유사합니다. 예를 들면, 곱셈과 나눗셈은 덧셈이나 뺄셈보다 우선적으로 수행됩니다"
      ],
      "metadata": {
        "id": "IVVYiCxmSful"
      }
    },
    {
      "cell_type": "code",
      "source": [
        "-2 ** 2 # 출력: -4, -(2 ** 2)"
      ],
      "metadata": {
        "colab": {
          "base_uri": "https://localhost:8080/"
        },
        "id": "8JstwM91SgDp",
        "outputId": "94c29a84-db23-4745-a23e-bc714434d703"
      },
      "execution_count": 48,
      "outputs": [
        {
          "output_type": "execute_result",
          "data": {
            "text/plain": [
              "-4"
            ]
          },
          "metadata": {},
          "execution_count": 48
        }
      ]
    },
    {
      "cell_type": "code",
      "source": [
        "True * True and True + False"
      ],
      "metadata": {
        "colab": {
          "base_uri": "https://localhost:8080/"
        },
        "id": "xtkNDLnmSith",
        "outputId": "a6e62965-57fc-45b9-a4e1-649e5c534df6"
      },
      "execution_count": 50,
      "outputs": [
        {
          "output_type": "execute_result",
          "data": {
            "text/plain": [
              "1"
            ]
          },
          "metadata": {},
          "execution_count": 50
        }
      ]
    },
    {
      "cell_type": "code",
      "source": [
        "(True * True) and (True + False)"
      ],
      "metadata": {
        "colab": {
          "base_uri": "https://localhost:8080/"
        },
        "id": "YJkENswuSk2c",
        "outputId": "8b3eccd3-d286-47e4-faab-fe4182a1c800"
      },
      "execution_count": 52,
      "outputs": [
        {
          "output_type": "execute_result",
          "data": {
            "text/plain": [
              "1"
            ]
          },
          "metadata": {},
          "execution_count": 52
        }
      ]
    },
    {
      "cell_type": "code",
      "source": [
        "a = 10\n",
        "a *= 10 + 100\n",
        "a # 출력: 1100"
      ],
      "metadata": {
        "colab": {
          "base_uri": "https://localhost:8080/"
        },
        "id": "FJivlua8Sn9J",
        "outputId": "026f447a-16ea-45e6-b6b9-31059daf232e"
      },
      "execution_count": 54,
      "outputs": [
        {
          "output_type": "execute_result",
          "data": {
            "text/plain": [
              "1100"
            ]
          },
          "metadata": {},
          "execution_count": 54
        }
      ]
    },
    {
      "cell_type": "code",
      "source": [
        "# 퀴즈 답 확인\n",
        "greeting = \"안녕하세요\"\n",
        "print(\"안녕\" in greeting) #부분 문자열로 가지고 있으므로 true/멤버 연산 in은 어떤 값이 목록 안에 있는지 확인"
      ],
      "metadata": {
        "colab": {
          "base_uri": "https://localhost:8080/"
        },
        "id": "QsrXU-YkTPxW",
        "outputId": "c1e99837-f28d-4fec-c689-ccb55285d7ab"
      },
      "execution_count": 56,
      "outputs": [
        {
          "output_type": "stream",
          "name": "stdout",
          "text": [
            "True\n"
          ]
        }
      ]
    }
  ]
}