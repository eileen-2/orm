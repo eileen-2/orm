{
  "nbformat": 4,
  "nbformat_minor": 0,
  "metadata": {
    "colab": {
      "provenance": [],
      "authorship_tag": "ABX9TyM+C0LfSOWA36SV7553jV1S",
      "include_colab_link": true
    },
    "kernelspec": {
      "name": "python3",
      "display_name": "Python 3"
    },
    "language_info": {
      "name": "python"
    }
  },
  "cells": [
    {
      "cell_type": "markdown",
      "metadata": {
        "id": "view-in-github",
        "colab_type": "text"
      },
      "source": [
        "<a href=\"https://colab.research.google.com/github/eileen-2/orm/blob/main/0103_%EC%97%B0%EC%82%B0%EC%9E%90.ipynb\" target=\"_parent\"><img src=\"https://colab.research.google.com/assets/colab-badge.svg\" alt=\"Open In Colab\"/></a>"
      ]
    },
    {
      "cell_type": "markdown",
      "source": [
        "#1. 연산자\n",
        "\n",
        "##1.1 산술연산자\n",
        "서로 다른 형은 계산 불가\n",
        "\n",
        "\n",
        "1. 뺄셈\n",
        "-  문자열, 리스트, 튜플 불가\n",
        "> 항목을 제거하려면; 메서드나 슬라이싱 등\n",
        "- 셋형은 차집합 개념으로 뺄셈 가능\n",
        "\n",
        "2. 나눗셈\n",
        "- //\n",
        "- 첫번째 나눗셈 연산자: 항상 float 형식으로 반환\n",
        "- 음수의 나눗셈 결과; 내림 된다\n",
        "- '0'으로 나눌 수 없음(zero division)\n",
        "- 소수점 두번째 자리 : divide:.2f\n",
        "\n"
      ],
      "metadata": {
        "id": "4uCL4Rb47iSR"
      }
    },
    {
      "cell_type": "code",
      "source": [
        "#1.1 나누기/ 소수점 2번째 자리\n",
        "a = 10\n",
        "b = 3\n",
        "divide = a / b\n",
        "print(f'{a} ÷ {b} = {divide:.2f}')  # 결과: 10 ÷ 3 = 3.33 # 두번째자리까지 float 형으로 나타내줘."
      ],
      "metadata": {
        "colab": {
          "base_uri": "https://localhost:8080/"
        },
        "id": "RcN9hDfS-lq-",
        "outputId": "f90a12a4-c380-406e-bd9f-02c5315c9ad1"
      },
      "execution_count": 3,
      "outputs": [
        {
          "output_type": "stream",
          "name": "stdout",
          "text": [
            "10 ÷ 3 = 3.33\n"
          ]
        }
      ]
    },
    {
      "cell_type": "code",
      "source": [
        "print(divide)"
      ],
      "metadata": {
        "colab": {
          "base_uri": "https://localhost:8080/"
        },
        "id": "1zZW0EUE-0vx",
        "outputId": "37d54625-d77c-487f-e023-5afcbf9fb2ac"
      },
      "execution_count": 6,
      "outputs": [
        {
          "output_type": "stream",
          "name": "stdout",
          "text": [
            "3.3333333333333335\n"
          ]
        }
      ]
    },
    {
      "cell_type": "code",
      "source": [
        "#1.2 나머지\n",
        "\n",
        "10 % 3 # 결과: 1\n",
        "print(10/3) #소수 나머지\n",
        "print(10//3) # 몫\n",
        "print(10%3) # 나머지 #홀수/짝수, 나머지 1 반환\n",
        "10 % 0 # error\n",
        "\n",
        "\n",
        "\n"
      ],
      "metadata": {
        "colab": {
          "base_uri": "https://localhost:8080/",
          "height": 309
        },
        "id": "-6oQ0pgY_IIN",
        "outputId": "b2f7a133-d33e-4e3b-e404-b8f767bf5e9d"
      },
      "execution_count": 12,
      "outputs": [
        {
          "output_type": "stream",
          "name": "stdout",
          "text": [
            "3.3333333333333335\n",
            "3\n",
            "1\n"
          ]
        },
        {
          "output_type": "error",
          "ename": "ZeroDivisionError",
          "evalue": "ignored",
          "traceback": [
            "\u001b[0;31m---------------------------------------------------------------------------\u001b[0m",
            "\u001b[0;31mZeroDivisionError\u001b[0m                         Traceback (most recent call last)",
            "\u001b[0;32m<ipython-input-12-93a29c4164a4>\u001b[0m in \u001b[0;36m<cell line: 7>\u001b[0;34m()\u001b[0m\n\u001b[1;32m      5\u001b[0m \u001b[0mprint\u001b[0m\u001b[0;34m(\u001b[0m\u001b[0;36m10\u001b[0m\u001b[0;34m//\u001b[0m\u001b[0;36m3\u001b[0m\u001b[0;34m)\u001b[0m \u001b[0;31m# 몫\u001b[0m\u001b[0;34m\u001b[0m\u001b[0;34m\u001b[0m\u001b[0m\n\u001b[1;32m      6\u001b[0m \u001b[0mprint\u001b[0m\u001b[0;34m(\u001b[0m\u001b[0;36m10\u001b[0m\u001b[0;34m%\u001b[0m\u001b[0;36m3\u001b[0m\u001b[0;34m)\u001b[0m \u001b[0;31m# 나머지 #홀수/짝수, 나머지 1 반환\u001b[0m\u001b[0;34m\u001b[0m\u001b[0;34m\u001b[0m\u001b[0m\n\u001b[0;32m----> 7\u001b[0;31m \u001b[0;36m10\u001b[0m \u001b[0;34m%\u001b[0m \u001b[0;36m0\u001b[0m \u001b[0;31m# error\u001b[0m\u001b[0;34m\u001b[0m\u001b[0;34m\u001b[0m\u001b[0m\n\u001b[0m\u001b[1;32m      8\u001b[0m \u001b[0;34m\u001b[0m\u001b[0m\n\u001b[1;32m      9\u001b[0m \u001b[0;34m\u001b[0m\u001b[0m\n",
            "\u001b[0;31mZeroDivisionError\u001b[0m: integer division or modulo by zero"
          ]
        }
      ]
    },
    {
      "cell_type": "code",
      "source": [
        "#1.3 제곱 연산자\n",
        "# **\n",
        "#1/2 = 루트씌우기"
      ],
      "metadata": {
        "id": "f7BarnbXAcub"
      },
      "execution_count": 13,
      "outputs": []
    },
    {
      "cell_type": "code",
      "source": [
        "#1.3.1 음수의 제곱\n",
        "# 음수의 제곱은 결과가 복소수가 될 수 있다.\n",
        "\n",
        "-2 ** 2 #제곱이 진행된 후 부호가 붙으므로 결과 : -4"
      ],
      "metadata": {
        "colab": {
          "base_uri": "https://localhost:8080/"
        },
        "id": "Y5TBNFGLAopJ",
        "outputId": "415cb2b1-2300-4ed8-ff55-5d6c29eebfd8"
      },
      "execution_count": 15,
      "outputs": [
        {
          "output_type": "execute_result",
          "data": {
            "text/plain": [
              "-4"
            ]
          },
          "metadata": {},
          "execution_count": 15
        }
      ]
    },
    {
      "cell_type": "code",
      "source": [
        "(-2) ** 2 #음수를 괄호로 묶고 제곱하면 결과 : 4"
      ],
      "metadata": {
        "colab": {
          "base_uri": "https://localhost:8080/"
        },
        "id": "6m-qS6h_AwIc",
        "outputId": "809133f0-6177-4406-a609-668cd17f48ec"
      },
      "execution_count": 17,
      "outputs": [
        {
          "output_type": "execute_result",
          "data": {
            "text/plain": [
              "4"
            ]
          },
          "metadata": {},
          "execution_count": 17
        }
      ]
    },
    {
      "cell_type": "code",
      "source": [
        "2**3"
      ],
      "metadata": {
        "colab": {
          "base_uri": "https://localhost:8080/"
        },
        "id": "TnOLjwfQCgUr",
        "outputId": "d5e26278-618d-4595-e61f-84d0b1fc5b37"
      },
      "execution_count": 19,
      "outputs": [
        {
          "output_type": "execute_result",
          "data": {
            "text/plain": [
              "8"
            ]
          },
          "metadata": {},
          "execution_count": 19
        }
      ]
    },
    {
      "cell_type": "markdown",
      "source": [
        "## 1.2 비교연산자\n",
        "\n",
        "_True or False_\n",
        "두 값 비교해서 참인지 거짓인지 파악\n",
        "* == 같다\n",
        "* != 다르다\n",
        "* < 작다\n",
        "* <= 작거나 같다\n",
        "* '>' 크다\n",
        "* '>= 크거나 같다\n",
        "\n",
        "- 문자열, 리스트, 튜플 등 비교 가능\n",
        "\n"
      ],
      "metadata": {
        "id": "kOS1mzFRCptH"
      }
    },
    {
      "cell_type": "code",
      "source": [
        "#부동소숫점, 출력의 차이점.\n",
        "import math # 수학적인 연산 결과로만 판단해달라는 함수\n",
        "\n",
        "result = 0.1 + 0.2\n",
        "print(result == 0.3)              # False\n",
        "print(math.isclose(result, 0.3))  # True #수학적인 계산에 의거해서 판단해줘\n",
        "print(math.isclose(result, 0.29)) # False\n",
        "print(math.isclose(result, 0.31)) # False\n",
        "print(math.isclose(result, 0.30000001)) # False"
      ],
      "metadata": {
        "colab": {
          "base_uri": "https://localhost:8080/"
        },
        "id": "sVpdnC0kD30H",
        "outputId": "391bdb8f-0c15-41b4-9d6f-6b2cdb604b92"
      },
      "execution_count": 24,
      "outputs": [
        {
          "output_type": "stream",
          "name": "stdout",
          "text": [
            "False\n",
            "True\n",
            "False\n",
            "False\n",
            "False\n"
          ]
        }
      ]
    }
  ]
}