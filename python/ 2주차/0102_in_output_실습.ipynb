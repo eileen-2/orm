{
  "nbformat": 4,
  "nbformat_minor": 0,
  "metadata": {
    "colab": {
      "provenance": [],
      "authorship_tag": "ABX9TyNXzRYslewNfpW76kkTyCBy",
      "include_colab_link": true
    },
    "kernelspec": {
      "name": "python3",
      "display_name": "Python 3"
    },
    "language_info": {
      "name": "python"
    }
  },
  "cells": [
    {
      "cell_type": "markdown",
      "metadata": {
        "id": "view-in-github",
        "colab_type": "text"
      },
      "source": [
        "<a href=\"https://colab.research.google.com/github/eileen-2/orm/blob/main/0102_in_output_%EC%8B%A4%EC%8A%B5.ipynb\" target=\"_parent\"><img src=\"https://colab.research.google.com/assets/colab-badge.svg\" alt=\"Open In Colab\"/></a>"
      ]
    },
    {
      "cell_type": "markdown",
      "source": [
        "# 2024년 계획\n",
        "\n",
        "#1.1 input 함수 통해 계획 적기\n",
        "\n",
        "1. 올해는 __의 밸런스를 맞추는데 초점을 맞춘다.\n",
        "2. 올해는 __유지하고 __을 높이는 데 집중한다.\n",
        "3. 건강한 신체! 테니스 ___ 안정화 해야한다.\n",
        "4. 진영씨와의 __을 지킨다.\n",
        "5. 배달 음식보다는 __를 해먹는다.\n",
        "6. 파이썬 __.\n",
        "\n"
      ],
      "metadata": {
        "id": "R6a3ud_KfbMh"
      }
    },
    {
      "cell_type": "code",
      "source": [
        "sentence_1 = input(\"올해는 __의 밸런스를 맞추는데 초점을 맞춘다: \") #일과 삶"
      ],
      "metadata": {
        "id": "Wbza-d8HoUjp",
        "colab": {
          "base_uri": "https://localhost:8080/"
        },
        "outputId": "b5c42c2a-e672-40f0-9267-9361016a1536"
      },
      "execution_count": 7,
      "outputs": [
        {
          "name": "stdout",
          "output_type": "stream",
          "text": [
            "올해는 __의 밸런스를 맞추는데 초점을 맞춘다: 일과 삶\n"
          ]
        }
      ]
    },
    {
      "cell_type": "code",
      "source": [
        "print(f'올해는 {sentence_1}의 밸런스를 맞추는데 초점을 맞춘다.\\n')"
      ],
      "metadata": {
        "colab": {
          "base_uri": "https://localhost:8080/"
        },
        "id": "SQ03cATXpcgm",
        "outputId": "51a3ec1a-5c59-4ea6-e4f2-fe125d9f26e8"
      },
      "execution_count": 12,
      "outputs": [
        {
          "output_type": "stream",
          "name": "stdout",
          "text": [
            "올해는 일과 삶의 밸런스를 맞추는데 초점을 맞춘다.\n",
            "\n"
          ]
        }
      ]
    },
    {
      "cell_type": "code",
      "source": [
        "sentence_2 = input('올해는 __유지하고 __을 높이는 데 집중한다.') #독서모임, 질"
      ],
      "metadata": {
        "colab": {
          "base_uri": "https://localhost:8080/"
        },
        "id": "dSZoCDSqqh8r",
        "outputId": "9368575b-9b6e-4df3-9f8b-5a9d62c624a2"
      },
      "execution_count": 40,
      "outputs": [
        {
          "name": "stdout",
          "output_type": "stream",
          "text": [
            "올해는 __유지하고 __을 높이는 데 집중한다.독서모임 양보다질\n"
          ]
        }
      ]
    },
    {
      "cell_type": "code",
      "source": [
        "print(sentence_2)"
      ],
      "metadata": {
        "colab": {
          "base_uri": "https://localhost:8080/"
        },
        "id": "QydjqUSTy96V",
        "outputId": "172f831a-14db-46cd-c3b2-236432632794"
      },
      "execution_count": 41,
      "outputs": [
        {
          "output_type": "stream",
          "name": "stdout",
          "text": [
            "독서모임 양보다질\n"
          ]
        }
      ]
    },
    {
      "cell_type": "markdown",
      "source": [
        "#1.2 변수가 2개일때 나누기"
      ],
      "metadata": {
        "id": "soDLykhg4u7e"
      }
    },
    {
      "cell_type": "code",
      "source": [
        "word_1, word_2 = sentence_2.split() # 두 단어를 입력받고, (필수)공백을 기준으로 분리하여 답변을 변수인 word_1과 word_2에 저장함.\n"
      ],
      "metadata": {
        "id": "hRckCTFeqyZj"
      },
      "execution_count": 43,
      "outputs": []
    },
    {
      "cell_type": "markdown",
      "source": [
        "## split(), end\n",
        "* split()은 공백, 탭, 엔터로 분리해줌\n",
        "* end로 문장 합치기"
      ],
      "metadata": {
        "id": "oA-p8mhX4QJu"
      }
    },
    {
      "cell_type": "code",
      "source": [
        "print(f'올해는 {word_1}유지하고', end = \" \")\n",
        "print(f'{word_2}을 높이는 데 집중한다.')"
      ],
      "metadata": {
        "colab": {
          "base_uri": "https://localhost:8080/"
        },
        "id": "YNjxC9P0rCWO",
        "outputId": "f3fc4d3a-d732-4352-d4dd-1efb7bf7ba72"
      },
      "execution_count": 46,
      "outputs": [
        {
          "output_type": "stream",
          "name": "stdout",
          "text": [
            "올해는 독서모임유지하고 양보다질을 높이는 데 집중한다.\n"
          ]
        }
      ]
    },
    {
      "cell_type": "code",
      "source": [
        "1.3 두가지 단어를 한꺼번에 받기"
      ],
      "metadata": {
        "id": "6AgnTcKh5XXg"
      },
      "execution_count": null,
      "outputs": []
    },
    {
      "cell_type": "code",
      "source": [
        "a = input('건강한 신체! 테니스 _') #발리\n",
        "b = input('_ 안정화 해야한다.') #서브"
      ],
      "metadata": {
        "colab": {
          "base_uri": "https://localhost:8080/"
        },
        "id": "mNJjda8IzYzP",
        "outputId": "9be27ef3-26f1-47d2-d0b9-5b82f66dc657"
      },
      "execution_count": 47,
      "outputs": [
        {
          "name": "stdout",
          "output_type": "stream",
          "text": [
            "건강한 신체! 테니스 ___ 안정화 해야한다.발리와 서브\n"
          ]
        }
      ]
    },
    {
      "cell_type": "code",
      "source": [
        "print(f\"건강한 신체! 테니스 {a}\")\n",
        "print(f\"테니스 {b} 안정화 해야한다\",end =\"!\")"
      ],
      "metadata": {
        "id": "_srimM-A6Oh_"
      },
      "execution_count": null,
      "outputs": []
    },
    {
      "cell_type": "code",
      "source": [
        "sentence_4= input('진영씨와의 __을 지킨다.') #약속"
      ],
      "metadata": {
        "id": "Jej1MIhBzx8M"
      },
      "execution_count": null,
      "outputs": []
    },
    {
      "cell_type": "code",
      "source": [
        "print(f'진영씨와의 {sentence_4}을 지킨다.\\n')"
      ],
      "metadata": {
        "colab": {
          "base_uri": "https://localhost:8080/"
        },
        "id": "vNCPLbGgz3-l",
        "outputId": "f02fb157-4128-4133-8296-9afff454ffde"
      },
      "execution_count": 55,
      "outputs": [
        {
          "output_type": "stream",
          "name": "stdout",
          "text": [
            "진영씨와의 약속을 지킨다.\n",
            "\n"
          ]
        }
      ]
    },
    {
      "cell_type": "code",
      "source": [
        "sentence_5= input('배달 음식보다는 __를 해먹는다.') #요리"
      ],
      "metadata": {
        "colab": {
          "base_uri": "https://localhost:8080/"
        },
        "id": "P7VVOm4zz-j6",
        "outputId": "c38babfb-b318-4d57-cc53-5cf5f3a2912b"
      },
      "execution_count": 57,
      "outputs": [
        {
          "name": "stdout",
          "output_type": "stream",
          "text": [
            "배달 음식보다는 __를 해먹는다.요리\n"
          ]
        }
      ]
    },
    {
      "cell_type": "code",
      "source": [
        "print(f'배달 음식보다는 {sentence_5}를 해먹는다.\\n')"
      ],
      "metadata": {
        "colab": {
          "base_uri": "https://localhost:8080/"
        },
        "id": "4220o5qL0EHT",
        "outputId": "d144ad4d-1201-47af-8593-54749c2b7f31"
      },
      "execution_count": 59,
      "outputs": [
        {
          "output_type": "stream",
          "name": "stdout",
          "text": [
            "배달 음식보다는 요리를 해먹는다.\n",
            "\n"
          ]
        }
      ]
    },
    {
      "cell_type": "code",
      "source": [
        "sentence_6 = input('파이썬 __.') #정복"
      ],
      "metadata": {
        "colab": {
          "base_uri": "https://localhost:8080/"
        },
        "id": "Cd0qPxLD0NRb",
        "outputId": "51ad3852-a889-42b5-917e-6ef653fa86cf"
      },
      "execution_count": 61,
      "outputs": [
        {
          "name": "stdout",
          "output_type": "stream",
          "text": [
            "파이썬 __.정복\n"
          ]
        }
      ]
    },
    {
      "cell_type": "code",
      "source": [
        "print(f'파이썬 {sentence_6}')"
      ],
      "metadata": {
        "colab": {
          "base_uri": "https://localhost:8080/"
        },
        "id": "-kMDNoZC0Y2n",
        "outputId": "dba3bf0a-ca35-496b-e424-936bb611dc14"
      },
      "execution_count": 62,
      "outputs": [
        {
          "output_type": "stream",
          "name": "stdout",
          "text": [
            "파이썬 정복\n"
          ]
        }
      ]
    }
  ]
}