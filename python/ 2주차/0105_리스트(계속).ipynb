{
  "nbformat": 4,
  "nbformat_minor": 0,
  "metadata": {
    "colab": {
      "provenance": [],
      "authorship_tag": "ABX9TyPTDsxd/JtLcQHxlpEfKR1V",
      "include_colab_link": true
    },
    "kernelspec": {
      "name": "python3",
      "display_name": "Python 3"
    },
    "language_info": {
      "name": "python"
    }
  },
  "cells": [
    {
      "cell_type": "markdown",
      "metadata": {
        "id": "view-in-github",
        "colab_type": "text"
      },
      "source": [
        "<a href=\"https://colab.research.google.com/github/eileen-2/orm/blob/main/0105_%EB%A6%AC%EC%8A%A4%ED%8A%B8(%EA%B3%84%EC%86%8D).ipynb\" target=\"_parent\"><img src=\"https://colab.research.google.com/assets/colab-badge.svg\" alt=\"Open In Colab\"/></a>"
      ]
    },
    {
      "cell_type": "markdown",
      "source": [
        "#1. 리스트의 구조 및 특징\n",
        "\n",
        "##1.1 메모리 구조\n",
        "\n",
        "- 파이썬의 객체 저장 방식 = 객체 지향 = 모든 것은 객체 = 정수/실수/문자열/리스트/튜플/딕셔너리 등 모든 타입\n",
        "\n",
        "- 리스트 = 컨테이너 박스임\n",
        "         >  데이터 값 저장 != >>객체를 참조하는 주소를 저장\n",
        "         >  파이썬에서 각 객체의 주소들은 일반적으로 연속적이지 않습니다.\n",
        "\n",
        "## 1.3 메모리 효율성과 성능\n",
        "- 다양한 데이터를 지원 <> 메모리 저장소가 달라 느림"
      ],
      "metadata": {
        "id": "PExq1XN57Tn4"
      }
    },
    {
      "cell_type": "markdown",
      "source": [
        "#1.4 리스트 메서드\n"
      ],
      "metadata": {
        "id": "HwmbJmTUFLN4"
      }
    }
  ]
}