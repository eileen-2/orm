{
  "nbformat": 4,
  "nbformat_minor": 0,
  "metadata": {
    "colab": {
      "provenance": [],
      "authorship_tag": "ABX9TyNpUVwUEQVN51E9Kdb221fS",
      "include_colab_link": true
    },
    "kernelspec": {
      "name": "python3",
      "display_name": "Python 3"
    },
    "language_info": {
      "name": "python"
    }
  },
  "cells": [
    {
      "cell_type": "markdown",
      "metadata": {
        "id": "view-in-github",
        "colab_type": "text"
      },
      "source": [
        "<a href=\"https://colab.research.google.com/github/eileen-2/orm/blob/main/0102_Random%EB%9D%BC%EC%9D%B4%EB%B8%8C%EB%9F%AC%EB%A6%AC_%EA%B8%B0%EC%B4%88.ipynb\" target=\"_parent\"><img src=\"https://colab.research.google.com/assets/colab-badge.svg\" alt=\"Open In Colab\"/></a>"
      ]
    },
    {
      "cell_type": "markdown",
      "source": [
        "#Random 라이브러리 사용하기"
      ],
      "metadata": {
        "id": "ZejW7LxQ03Ee"
      }
    },
    {
      "cell_type": "code",
      "source": [
        "# 1. 기본 사용법\n",
        "\n",
        "import random\n",
        "'''\n",
        "0~9까지의 임의의 숫자를 선택하는 코드를 작성\n",
        "***시작은 무조건 0부터***\n",
        "10으로 입력하면 입력값의 -1, 즉 9까지 출력됨\n",
        "'''\n",
        "num = random. randrange(10)\n",
        "print(num)"
      ],
      "metadata": {
        "colab": {
          "base_uri": "https://localhost:8080/"
        },
        "id": "p2P0rqvE1DEw",
        "outputId": "c6ee9859-7463-45a2-b360-3a6c3e935922"
      },
      "execution_count": 6,
      "outputs": [
        {
          "output_type": "stream",
          "name": "stdout",
          "text": [
            "6\n"
          ]
        }
      ]
    },
    {
      "cell_type": "code",
      "source": [
        "# 1.2 시작값과 끝값을 지정\n",
        "# 이 경우도 끝값 -1까지 출력됨.\n",
        "num_1 = random.randrange(1, 46)\n",
        "num_2 = random.randrange(1, 46)\n",
        "num_3 = random.randrange(1, 46)\n",
        "num_4 = random.randrange(1, 46)\n",
        "num_5 = random.randrange(1, 46)\n",
        "num_6 = random.randrange(1, 46)\n",
        "print(\"오늘의 로또 번호는\", num_1, num_2, num_3, num_4, num_5, num_6)"
      ],
      "metadata": {
        "colab": {
          "base_uri": "https://localhost:8080/"
        },
        "id": "rlGPxJyN1Lpq",
        "outputId": "d3fa1b34-b607-49ff-b547-3667c4083f4d"
      },
      "execution_count": 37,
      "outputs": [
        {
          "output_type": "stream",
          "name": "stdout",
          "text": [
            "오늘의 로또 번호는 35 42 25 32 34 42\n"
          ]
        }
      ]
    },
    {
      "cell_type": "code",
      "source": [
        "# 1.3 간격 설정\n",
        "# 10부터 100까지 숫자 중에서 10의 간격으로 무작위 선택\n",
        "\n",
        "num10_100 = random.randrange(10, 101, 10)\n",
        "print(num10_100)"
      ],
      "metadata": {
        "colab": {
          "base_uri": "https://localhost:8080/"
        },
        "id": "50M6GIF92gcC",
        "outputId": "86c4d980-dda7-45cb-a849-7a00f241fe19"
      },
      "execution_count": 44,
      "outputs": [
        {
          "output_type": "stream",
          "name": "stdout",
          "text": [
            "30\n"
          ]
        }
      ]
    },
    {
      "cell_type": "markdown",
      "source": [
        "#2. Choice 함수\n",
        "\n",
        "random.choice()\n",
        "\n",
        "- 순서가 있는 시퀀스\n",
        "- 풀 내에서 무작위로 선택"
      ],
      "metadata": {
        "id": "rq8GvhAp3PPB"
      }
    },
    {
      "cell_type": "code",
      "source": [
        "# 1. Choice 기본 사용법\n",
        "\n",
        "#chosen_element  = random.choice(sequence)\n",
        "#문자를 선택할 때 많이 사용(숫자도 가능함. 단, 숫자는 random.randrange많이 사용)\n",
        "'''\n",
        "# 리스트([])에서 무작위 과일 선택\n",
        "-  다양한 정보를 한번에 받아오는 것 = 리스트\n",
        "'''\n",
        "elements = ['딸기', '키위', '체리']"
      ],
      "metadata": {
        "id": "A50CgE9H7jnW"
      },
      "execution_count": 45,
      "outputs": []
    },
    {
      "cell_type": "code",
      "source": [
        "print(elements)"
      ],
      "metadata": {
        "colab": {
          "base_uri": "https://localhost:8080/"
        },
        "id": "X5SNZg1e3PqD",
        "outputId": "182b421a-66f9-42fa-dd64-928b77f1c29d"
      },
      "execution_count": 46,
      "outputs": [
        {
          "output_type": "stream",
          "name": "stdout",
          "text": [
            "['딸기', '키위', '체리']\n"
          ]
        }
      ]
    },
    {
      "cell_type": "code",
      "source": [
        "choice_elements = random.choice(elements)"
      ],
      "metadata": {
        "id": "pJljhhWh3OEk"
      },
      "execution_count": 48,
      "outputs": []
    },
    {
      "cell_type": "code",
      "source": [
        "print(f'선택된 요소 : {choice_elements} 입니다. ') #셀 나눠 작성시 앞 셀의 선택된 요소로 실행>고정\n",
        "\n",
        "# 변경하고 싶으면 같은 셀에 choice와 print 입력"
      ],
      "metadata": {
        "id": "Ow6tADaA8Qv4"
      },
      "execution_count": null,
      "outputs": []
    },
    {
      "cell_type": "code",
      "source": [
        "# 2. 문자열에서 무작위 문자 선택\n",
        "\n",
        "greeting = \"안녕하세요\"\n",
        "choice_char = random.choice(greeting)\n",
        "print(choice_char)\n",
        "print(f\"선택된 문자: {choice_char} 입니다.\")"
      ],
      "metadata": {
        "id": "9bQFhelA8lmz",
        "colab": {
          "base_uri": "https://localhost:8080/"
        },
        "outputId": "f9273ed1-8951-4f2b-e43f-6b888ad03777"
      },
      "execution_count": 55,
      "outputs": [
        {
          "output_type": "stream",
          "name": "stdout",
          "text": [
            "하\n",
            "선택된 문자: 하 입니다.\n"
          ]
        }
      ]
    },
    {
      "cell_type": "markdown",
      "source": [
        "1)  \n",
        "- input output -> 문자열을 받아서 문자열 출력\n",
        "- random -> 무작위 숫자열 / 문자열 받아와서 출력!"
      ],
      "metadata": {
        "id": "PhTHXiE39txa"
      }
    },
    {
      "cell_type": "code",
      "source": [
        "test1 = input(\"임의의 숫자를 입력하세요\")"
      ],
      "metadata": {
        "colab": {
          "base_uri": "https://localhost:8080/"
        },
        "id": "ozNKR9jC-N-e",
        "outputId": "fd4ddcb2-5507-483b-92fc-a569c466458a"
      },
      "execution_count": 57,
      "outputs": [
        {
          "name": "stdout",
          "output_type": "stream",
          "text": [
            "임의의 숫자를 입력하세요10\n"
          ]
        }
      ]
    },
    {
      "cell_type": "code",
      "source": [
        "type(test1)"
      ],
      "metadata": {
        "colab": {
          "base_uri": "https://localhost:8080/"
        },
        "id": "RBW198J0-XO7",
        "outputId": "d4afd086-496f-48f2-9650-fc3d881694f7"
      },
      "execution_count": 59,
      "outputs": [
        {
          "output_type": "execute_result",
          "data": {
            "text/plain": [
              "str"
            ]
          },
          "metadata": {},
          "execution_count": 59
        }
      ]
    },
    {
      "cell_type": "code",
      "source": [
        "test2 = random.randrange(1,46)\n",
        "print(test2)"
      ],
      "metadata": {
        "colab": {
          "base_uri": "https://localhost:8080/"
        },
        "id": "q8J9NkkP-aAA",
        "outputId": "b892d24a-7e07-4d7c-d79f-ea6c5e876428"
      },
      "execution_count": 62,
      "outputs": [
        {
          "output_type": "stream",
          "name": "stdout",
          "text": [
            "18\n"
          ]
        }
      ]
    },
    {
      "cell_type": "code",
      "source": [
        "type(test2)"
      ],
      "metadata": {
        "colab": {
          "base_uri": "https://localhost:8080/"
        },
        "id": "pLRDlfJl-kGc",
        "outputId": "31190bb1-ce36-45e5-9628-214f0f20cbac"
      },
      "execution_count": 63,
      "outputs": [
        {
          "output_type": "execute_result",
          "data": {
            "text/plain": [
              "int"
            ]
          },
          "metadata": {},
          "execution_count": 63
        }
      ]
    },
    {
      "cell_type": "code",
      "source": [
        "print(int(test1)+test2) #input은 문자형으로 출력, randrange는 숫자형으로 출력\n",
        "                        #따라서 같이 사용할 경우, input을 숫자형으로 바꿔야함."
      ],
      "metadata": {
        "colab": {
          "base_uri": "https://localhost:8080/"
        },
        "id": "r89_DTWx-lmV",
        "outputId": "79c928f3-11b8-4f64-bfbc-72054dbe0e43"
      },
      "execution_count": 64,
      "outputs": [
        {
          "output_type": "stream",
          "name": "stdout",
          "text": [
            "28\n"
          ]
        }
      ]
    },
    {
      "cell_type": "markdown",
      "source": [
        "input은 문자형이 기본, 숫자형으로 출력하고 싶다면"
      ],
      "metadata": {
        "id": "13NSyUA0-rw3"
      }
    },
    {
      "cell_type": "code",
      "source": [
        "test3= int(input('숫자를 입력하세요'))"
      ],
      "metadata": {
        "colab": {
          "base_uri": "https://localhost:8080/"
        },
        "id": "5vzY6fOn_FTz",
        "outputId": "360ec77c-fa7f-4625-abfb-b66283478f62"
      },
      "execution_count": 65,
      "outputs": [
        {
          "name": "stdout",
          "output_type": "stream",
          "text": [
            "숫자를 입력하세요11\n"
          ]
        }
      ]
    },
    {
      "cell_type": "code",
      "source": [
        "type(test3 #이런식으로 아예 처음부터 int형으로 할 수 있음.)"
      ],
      "metadata": {
        "colab": {
          "base_uri": "https://localhost:8080/"
        },
        "id": "iqn_xGff_Mox",
        "outputId": "f980cf54-14d2-4e6a-ec1c-936ab1d68cc8"
      },
      "execution_count": 66,
      "outputs": [
        {
          "output_type": "execute_result",
          "data": {
            "text/plain": [
              "int"
            ]
          },
          "metadata": {},
          "execution_count": 66
        }
      ]
    },
    {
      "cell_type": "markdown",
      "source": [
        "## 주석달기 실습"
      ],
      "metadata": {
        "id": "x7Yu3Jib_NWY"
      }
    },
    {
      "cell_type": "code",
      "source": [
        "# 이 코드는 Random 라이브러리를 사용한 예시입니다.\n",
        "'''\n",
        "import random\n",
        "\n",
        "\n",
        "random_number1 = random.randint(1, 10)\n",
        "random_number2 = random.randint(1, 10)\n",
        "\n",
        "\n",
        "sum_of_numbers = random_number1 + random_number2\n",
        "\n",
        "\n",
        "print(f\"첫 번째 생성된 숫자: {random_number1}\")\n",
        "print(f\"두 번째 생성된 숫자: {random_number2}\")\n",
        "print(f\"두 숫자의 합: {sum_of_numbers}\")\n",
        "'''"
      ],
      "metadata": {
        "colab": {
          "base_uri": "https://localhost:8080/",
          "height": 90
        },
        "id": "kWc8BoWH_har",
        "outputId": "a3fbc11a-e88f-4db3-effd-f2076e25131c"
      },
      "execution_count": 74,
      "outputs": [
        {
          "output_type": "execute_result",
          "data": {
            "text/plain": [
              "'\\nimport random  \\n\\n\\nrandom_number1 = random.randint(1, 10)  \\nrandom_number2 = random.randint(1, 10)  \\n\\n\\nsum_of_numbers = random_number1 + random_number2\\n\\n\\nprint(f\"첫 번째 생성된 숫자: {random_number1}\")  \\nprint(f\"두 번째 생성된 숫자: {random_number2}\")  \\nprint(f\"두 숫자의 합: {sum_of_numbers}\")  \\n'"
            ],
            "application/vnd.google.colaboratory.intrinsic+json": {
              "type": "string"
            }
          },
          "metadata": {},
          "execution_count": 74
        }
      ]
    },
    {
      "cell_type": "code",
      "source": [
        "import random #random 라이브러리 불러오기"
      ],
      "metadata": {
        "id": "oYeQuk-s_m_Q"
      },
      "execution_count": 75,
      "outputs": []
    },
    {
      "cell_type": "code",
      "source": [],
      "metadata": {
        "id": "Z3kdD-xGAjq1"
      },
      "execution_count": null,
      "outputs": []
    },
    {
      "cell_type": "code",
      "source": [
        "random_number1 = random.randint(1, 10)  #1~9 중 임의의 숫자 한 개 가져오기\n",
        "random_number2 = random.randint(1, 10)  #1~9 중 임의의 숫자 한 개 가져오기"
      ],
      "metadata": {
        "id": "4j9uXAD8_qOk"
      },
      "execution_count": 70,
      "outputs": []
    },
    {
      "cell_type": "code",
      "source": [
        "sum_of_numbers = random_number1 + random_number2 # 생성된 두 숫자 합 계산"
      ],
      "metadata": {
        "id": "TVAupRUJ_xUX"
      },
      "execution_count": 72,
      "outputs": []
    },
    {
      "cell_type": "code",
      "source": [
        "print(f\"첫 번째 생성된 숫자: {random_number1}\")  #첫번째 생성된 값\n",
        "print(f\"두 번째 생성된 숫자: {random_number2}\")  # 두번째 생성된 값\n",
        "print(f\"두 숫자의 합: {sum_of_numbers}\")  # 생성된 두 숫자의 합 출력"
      ],
      "metadata": {
        "colab": {
          "base_uri": "https://localhost:8080/"
        },
        "id": "AiWWGBOGADpx",
        "outputId": "6d368de0-8252-4dda-9ac3-5474f918312e"
      },
      "execution_count": 73,
      "outputs": [
        {
          "output_type": "stream",
          "name": "stdout",
          "text": [
            "첫 번째 생성된 숫자: 4\n",
            "두 번째 생성된 숫자: 1\n",
            "두 숫자의 합: 5\n"
          ]
        }
      ]
    },
    {
      "cell_type": "code",
      "source": [
        "'''\n",
        "코드 실행 날짜:20240102\n",
        "버전: V0.1\n",
        "작성자 : 이은희\n",
        "코드내용: random 라이브러리 활용 예시(주석 실습 포함)\n",
        "'''\n",
        "# 이 코드는 Random 라이브러리를 사용한 예시입니다.\n",
        "\n",
        "import random  #random 라이브러리를 가져옵니다.\n",
        "\n",
        "# 두 개의 무작위 숫자를 생성하는 코드\n",
        "random_number1 = random.randint(1, 10)  #1~9까지 임의의 숫자 한개 생성\n",
        "random_number2 = random.randint(1, 10)  #1~9까지 임의의 숫자 한개 생성\n",
        "\n",
        "# 두 개의 무작위 숫자 합산하는 코드\n",
        "sum_of_numbers = random_number1 + random_number2 # 생성된 두 숫자의 합 계산\n",
        "\n",
        "#결과 출력\n",
        "print(f\"첫 번째 생성된 숫자: {random_number1}\")  #첫번쨰 생성된 값\n",
        "print(f\"두 번째 생성된 숫자: {random_number2}\")  #두번째 생성된 값\n",
        "print(f\"두 숫자의 합: {sum_of_numbers}\")  # 두 숫자의 합 출\n"
      ],
      "metadata": {
        "id": "6NgHGFXjAMQg"
      },
      "execution_count": null,
      "outputs": []
    }
  ]
}