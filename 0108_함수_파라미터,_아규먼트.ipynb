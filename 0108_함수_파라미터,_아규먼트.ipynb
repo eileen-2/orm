{
  "nbformat": 4,
  "nbformat_minor": 0,
  "metadata": {
    "colab": {
      "provenance": [],
      "authorship_tag": "ABX9TyPvJWjm7CvjzjdjbZ4bEMY8",
      "include_colab_link": true
    },
    "kernelspec": {
      "name": "python3",
      "display_name": "Python 3"
    },
    "language_info": {
      "name": "python"
    }
  },
  "cells": [
    {
      "cell_type": "markdown",
      "metadata": {
        "id": "view-in-github",
        "colab_type": "text"
      },
      "source": [
        "<a href=\"https://colab.research.google.com/github/eileen-2/orm/blob/main/0108_%ED%95%A8%EC%88%98_%ED%8C%8C%EB%9D%BC%EB%AF%B8%ED%84%B0%2C_%EC%95%84%EA%B7%9C%EB%A8%BC%ED%8A%B8.ipynb\" target=\"_parent\"><img src=\"https://colab.research.google.com/assets/colab-badge.svg\" alt=\"Open In Colab\"/></a>"
      ]
    },
    {
      "cell_type": "code",
      "execution_count": 1,
      "metadata": {
        "colab": {
          "base_uri": "https://localhost:8080/",
          "height": 35
        },
        "id": "XflKS06yHKu4",
        "outputId": "3ef067e1-174f-47b1-8c82-f0e7ba444521"
      },
      "outputs": [
        {
          "output_type": "execute_result",
          "data": {
            "text/plain": [
              "'\\n- 코드 실행 날짜:20240108\\n- 버전: V0.1\\n- 작성자 : 이은희\\n- 코드내용: 함수_파라미터, 아규먼트\\n'"
            ],
            "application/vnd.google.colaboratory.intrinsic+json": {
              "type": "string"
            }
          },
          "metadata": {},
          "execution_count": 1
        }
      ],
      "source": [
        "'''\n",
        "- 코드 실행 날짜:20240108\n",
        "- 버전: V0.1\n",
        "- 작성자 : 이은희\n",
        "- 코드내용: 함수_파라미터, 아규먼트\n",
        "'''"
      ]
    },
    {
      "cell_type": "markdown",
      "source": [
        "#1. 함수의 파라미터와 아규먼트\n",
        "\n",
        "---\n",
        "\n",
        "1. 파라미터 : 함수를 정의할 때 사용되는 변수\n",
        "2. 아규먼트 : 함수 호출 시 전달되는 실제 결과 값,함수 호출시 파라미\n"
      ],
      "metadata": {
        "id": "tDqowrDOHS_d"
      }
    },
    {
      "cell_type": "code",
      "source": [
        "# 파라미터의 기본 사용\n",
        "\n",
        "def f(a, b, c): # 파라미터\n",
        "    print(a, b, c)\n",
        "\n",
        "f(a=100, b=200, c=300) # 출력: 100 200 300 #키워드 지정한 인자(아규먼트)\n",
        "f(c=300, a=100, b=200) # 출력: 100 200 300"
      ],
      "metadata": {
        "colab": {
          "base_uri": "https://localhost:8080/"
        },
        "id": "9uCeEPVvHbgp",
        "outputId": "d436f561-48a3-4b09-f6af-2591f33fa914"
      },
      "execution_count": 3,
      "outputs": [
        {
          "output_type": "stream",
          "name": "stdout",
          "text": [
            "100 200 300\n",
            "100 200 300\n"
          ]
        }
      ]
    },
    {
      "cell_type": "code",
      "source": [
        "# 기본값을 가진 파라미터\n",
        "def f(a=10, b=20, c=30): #파라미터\n",
        "    print(a, b, c)\n",
        "\n",
        "f() # 출력: 10 20 30 #변수를 이미 지정했으므로 a, b, c에 할당된 값이 print문으로 반환됨.\n",
        "f(100, 10) # 출력: 100 10 30 #파라미터 a, b,에 새로운  값이 할당된 후 출력\n",
        "f(a=100, b=200, c=300) # 출력: 100 200 300 = 키워드 지정한 아규먼트\n",
        "f(c=300, a=100, b=200) # 출력: 100 200 300 = 키워드 지정한 아규먼트"
      ],
      "metadata": {
        "colab": {
          "base_uri": "https://localhost:8080/"
        },
        "id": "nh5L_s0QHwt8",
        "outputId": "908a508f-c6e2-4dab-fc53-adec6d97249b"
      },
      "execution_count": 6,
      "outputs": [
        {
          "output_type": "stream",
          "name": "stdout",
          "text": [
            "10 20 30\n",
            "100 10 30\n",
            "100 200 300\n",
            "100 200 300\n"
          ]
        }
      ]
    },
    {
      "cell_type": "code",
      "source": [
        "# 일부 파라미터만 기본값을 가지는 경우 (잘못된 예)\n",
        "# 기본값이 없는 파라미터가 기본값을 가진 파라미터 뒤에 올 수 없습니다.\n",
        "def f(a=10, b=20, c):\n",
        "    print(a, b, c) # error\n"
      ],
      "metadata": {
        "colab": {
          "base_uri": "https://localhost:8080/",
          "height": 147
        },
        "id": "BOvJBSbRJfn3",
        "outputId": "fee8ce61-43f1-47a8-fa03-6164b0e82803"
      },
      "execution_count": 16,
      "outputs": [
        {
          "output_type": "error",
          "ename": "SyntaxError",
          "evalue": "non-default argument follows default argument (<ipython-input-16-7b13a40b3ad0>, line 2)",
          "traceback": [
            "\u001b[0;36m  File \u001b[0;32m\"<ipython-input-16-7b13a40b3ad0>\"\u001b[0;36m, line \u001b[0;32m2\u001b[0m\n\u001b[0;31m    def f(a=10, b=20, c):\u001b[0m\n\u001b[0m                      ^\u001b[0m\n\u001b[0;31mSyntaxError\u001b[0m\u001b[0;31m:\u001b[0m non-default argument follows default argument\n"
          ]
        }
      ]
    },
    {
      "cell_type": "code",
      "source": [],
      "metadata": {
        "id": "PEuKXTb_J0YD"
      },
      "execution_count": null,
      "outputs": []
    },
    {
      "cell_type": "code",
      "source": [
        "# 일부 파라미터만 기본값을 가지는 경우 (올바른 예)\n",
        "# 기본값이 없는 파라미터에는 반드시 값을 전달해야 합니다.\n",
        "def f(a, b=20, c=10):\n",
        "    print(a, b, c)\n",
        "\n",
        "f(100, 10) # 출력: 100 10 10\n",
        "f(a=100, b=200, c=300) # 출력: 100 200 300\n",
        "f(c=300, a=100, b=200) # 출력: 100 200 300"
      ],
      "metadata": {
        "colab": {
          "base_uri": "https://localhost:8080/"
        },
        "id": "92BFs3DVJfh-",
        "outputId": "12da5392-fba3-4fc4-ed3e-8b4c35684c5e"
      },
      "execution_count": 17,
      "outputs": [
        {
          "output_type": "stream",
          "name": "stdout",
          "text": [
            "100 10 10\n",
            "100 200 300\n",
            "100 200 300\n"
          ]
        }
      ]
    },
    {
      "cell_type": "code",
      "source": [
        "# 파라미터 존재 - > 아규먼트를 통해 값을 입력해야함.\n",
        "def f(a, b=20, c=30):\n",
        "    print(a, b, c)\n",
        "\n",
        "# print(f()) # error\n",
        "print(f(100, 10)) # 출력 : 100, 10, 30\n",
        "print(f(a=100, b=200, c=300)) # 출력 : 100 200 300\n",
        "print(f(c=300, a=100, b=200)) # 출력 : 100 200 300\n",
        "# print(f(c=300)) # error #기본값이 없으므로 값을 할당받지 못해서 오류"
      ],
      "metadata": {
        "colab": {
          "base_uri": "https://localhost:8080/"
        },
        "id": "-1tXjCQ-KVsf",
        "outputId": "be10eb6b-ca45-43ed-b649-b9ac233224c7"
      },
      "execution_count": 18,
      "outputs": [
        {
          "output_type": "stream",
          "name": "stdout",
          "text": [
            "100 10 30\n",
            "None\n",
            "100 200 300\n",
            "None\n",
            "100 200 300\n",
            "None\n"
          ]
        }
      ]
    },
    {
      "cell_type": "code",
      "source": [
        "#1.4 컨벤션 자료형을 아규먼트로 넣었을 때\n",
        "# 주소록, 학기별 성적 등\n",
        "def add_element(my_list):\n",
        "    my_list.append(1)\n",
        "\n",
        "a = [2, 3, 4]\n",
        "add_element(a)\n",
        "print(a)  # 출력: [2, 3, 4, 1]"
      ],
      "metadata": {
        "colab": {
          "base_uri": "https://localhost:8080/"
        },
        "id": "TMP5FyimKqqt",
        "outputId": "25665386-20c4-46ef-9059-611decdae562"
      },
      "execution_count": 22,
      "outputs": [
        {
          "output_type": "stream",
          "name": "stdout",
          "text": [
            "[2, 3, 4, 1]\n"
          ]
        }
      ]
    },
    {
      "cell_type": "code",
      "source": [
        "#예시1\n",
        "def add_element(my_list):\n",
        "    my_list.append(1)\n",
        "    print(id(my_list)) # 출력: 135115033605760\n",
        "\n",
        "a = [2, 3, 4]\n",
        "add_element(a)\n",
        "print(id(a)) # 출력: 135115033605760\n",
        "print(a)  # 출력: [2, 3, 4, 1]"
      ],
      "metadata": {
        "colab": {
          "base_uri": "https://localhost:8080/"
        },
        "id": "NS0joNGKLffF",
        "outputId": "891c06f8-6a6e-4277-eb0d-2b0b3ee90d49"
      },
      "execution_count": 24,
      "outputs": [
        {
          "output_type": "stream",
          "name": "stdout",
          "text": [
            "134847913353472\n",
            "134847913353472\n",
            "[2, 3, 4, 1]\n"
          ]
        }
      ]
    },
    {
      "cell_type": "code",
      "source": [
        "def add_element(my_list):\n",
        "    my_list.append(1)\n",
        "    print(id(my_list)) # 출력: 135115033605760\n",
        "\n",
        "a = [2, 3, 4]\n",
        "add_element(a)\n",
        "print(id(a)) # 출력: 135115033605760\n",
        "print(a)\n"
      ],
      "metadata": {
        "colab": {
          "base_uri": "https://localhost:8080/"
        },
        "id": "38LShIfqLrTT",
        "outputId": "c96e7d46-8522-4697-d10c-315c714a3622"
      },
      "execution_count": 30,
      "outputs": [
        {
          "output_type": "stream",
          "name": "stdout",
          "text": [
            "134847613198720\n",
            "134847613198720\n",
            "[2, 3, 4, 1]\n"
          ]
        }
      ]
    },
    {
      "cell_type": "code",
      "source": [
        "#1.5 권장하지 않는 기본값\n",
        "\n",
        "#권장하지 않는 방법\n",
        "def append_to_list(value, lst=[]):\n",
        "    lst.append(value)\n",
        "    return lst # 예상치 못한 결과가 발생할 수 있습니다.\n",
        "#권장하는 방법\n",
        "def append_to_list(value, lst=None):\n",
        "    if lst is None:\n",
        "        lst = []\n",
        "    lst.append(value)\n",
        "    return lst"
      ],
      "metadata": {
        "id": "vSYWFqYAMI6D"
      },
      "execution_count": 31,
      "outputs": []
    },
    {
      "cell_type": "code",
      "source": [
        "append_to_list(1)"
      ],
      "metadata": {
        "colab": {
          "base_uri": "https://localhost:8080/"
        },
        "id": "zUESNSDafc4o",
        "outputId": "4c224330-c033-4fab-cf18-c351ab5ec31a"
      },
      "execution_count": 32,
      "outputs": [
        {
          "output_type": "execute_result",
          "data": {
            "text/plain": [
              "[1]"
            ]
          },
          "metadata": {},
          "execution_count": 32
        }
      ]
    },
    {
      "cell_type": "code",
      "source": [
        "append_to_list(2)"
      ],
      "metadata": {
        "colab": {
          "base_uri": "https://localhost:8080/"
        },
        "id": "cCBVHra9ffd1",
        "outputId": "ecbb2994-772b-4092-ead2-c4f12736e433"
      },
      "execution_count": 34,
      "outputs": [
        {
          "output_type": "execute_result",
          "data": {
            "text/plain": [
              "[1, 2, 2]"
            ]
          },
          "metadata": {},
          "execution_count": 34
        }
      ]
    },
    {
      "cell_type": "code",
      "source": [
        "def append_to_list(value, lst=None):\n",
        "    if lst is None:\n",
        "        lst = []\n",
        "    lst.append(value)\n",
        "    return lst\n"
      ],
      "metadata": {
        "id": "whT6CEuygNa1"
      },
      "execution_count": null,
      "outputs": []
    },
    {
      "cell_type": "code",
      "source": [
        "append_to_list(1)"
      ],
      "metadata": {
        "colab": {
          "base_uri": "https://localhost:8080/"
        },
        "id": "ArAp77fagOlL",
        "outputId": "c22b6532-07da-41a8-a63c-f568d4789632"
      },
      "execution_count": 35,
      "outputs": [
        {
          "output_type": "execute_result",
          "data": {
            "text/plain": [
              "[1, 2, 2, 1]"
            ]
          },
          "metadata": {},
          "execution_count": 35
        }
      ]
    },
    {
      "cell_type": "code",
      "source": [
        "append_to_list(2)"
      ],
      "metadata": {
        "colab": {
          "base_uri": "https://localhost:8080/"
        },
        "id": "jCUwdHm8gPfY",
        "outputId": "35b14f5f-8d52-416e-dc59-09b76e938fe3"
      },
      "execution_count": 36,
      "outputs": [
        {
          "output_type": "execute_result",
          "data": {
            "text/plain": [
              "[1, 2, 2, 1, 2]"
            ]
          },
          "metadata": {},
          "execution_count": 36
        }
      ]
    },
    {
      "cell_type": "markdown",
      "source": [
        "#1.2 지역변수와 전역변수\n",
        "\n",
        "- 지역변수 = 지역화폐\n",
        "-; locals()\n",
        "\n",
        "- 전역변수  = 글로벌\n",
        "-; global()\n"
      ],
      "metadata": {
        "id": "omzKQH1lgRD8"
      }
    },
    {
      "cell_type": "code",
      "source": [
        "#전역 변수\n",
        "test = 1\n",
        "\n",
        "#지역 변수\n",
        "def example():\n",
        "    test = 100\n",
        "    return test\n",
        "\n",
        "print(example())\n",
        "print(test)"
      ],
      "metadata": {
        "colab": {
          "base_uri": "https://localhost:8080/"
        },
        "id": "VmgtoeBDidN8",
        "outputId": "7d97946e-a2a0-4b20-bc25-4ac6896e63d6"
      },
      "execution_count": 40,
      "outputs": [
        {
          "output_type": "stream",
          "name": "stdout",
          "text": [
            "100\n",
            "1\n"
          ]
        }
      ]
    },
    {
      "cell_type": "code",
      "source": [
        "# 지역 변수 사용 예시_____오류는 어떻게 해결해야하지?\n",
        "def f():\n",
        "    a = 1 # 이 변수는 f() 내에서만 정의, 절대 바깥에서 사용 불가\n",
        "    print(a)  # 출력: 1\n",
        "\n",
        "f()\n",
        "print(a) #  a는 f 합수 내부에서만 정의. #a를 출력하려면 위의 선언한 함수에서 return = a라고 지정하면 됨."
      ],
      "metadata": {
        "colab": {
          "base_uri": "https://localhost:8080/"
        },
        "id": "2nQxrkoGhq6-",
        "outputId": "8ae9f1e7-b247-4238-bdd8-d22a74b06a92"
      },
      "execution_count": 41,
      "outputs": [
        {
          "output_type": "stream",
          "name": "stdout",
          "text": [
            "1\n",
            "[2, 3, 4, 1]\n"
          ]
        }
      ]
    },
    {
      "cell_type": "code",
      "source": [
        "def f():\n",
        "    a = 1 # 지역변수 함수 내에서만 작동\n",
        "    b = 2\n",
        "    c = 3\n",
        "    print(locals()) # 출력: {'a': 1} #지역변수가 어떤게 있는 지 확인하는 것 = locals()\n",
        "\n",
        "f()"
      ],
      "metadata": {
        "colab": {
          "base_uri": "https://localhost:8080/"
        },
        "id": "GENT-yxejoNV",
        "outputId": "ae3c2665-0c2d-42be-aa9f-ec29debd51ae"
      },
      "execution_count": 49,
      "outputs": [
        {
          "output_type": "stream",
          "name": "stdout",
          "text": [
            "{'a': 1, 'b': 2, 'c': 3}\n"
          ]
        }
      ]
    },
    {
      "cell_type": "code",
      "source": [
        "def f():\n",
        "    a = 1\n",
        "    b = 'hello'\n",
        "    def ff():\n",
        "        pass\n",
        "    print(locals()) # 출력: {'a': 1, 'b': 'hello', 'ff': <function f.<locals>.ff at 0x7a46e99d2c20>}\n",
        "f()"
      ],
      "metadata": {
        "colab": {
          "base_uri": "https://localhost:8080/"
        },
        "id": "vHjYFdXOj5HL",
        "outputId": "2af3666e-2e8b-4bbe-ac4d-2b71bdf04029"
      },
      "execution_count": 55,
      "outputs": [
        {
          "output_type": "stream",
          "name": "stdout",
          "text": [
            "{'a': 1, 'b': 'hello', 'ff': <function f.<locals>.ff at 0x7aa486ed64d0>}\n"
          ]
        }
      ]
    },
    {
      "cell_type": "code",
      "source": [
        "# global 함수 전역변수 지정\n",
        "a = 100\n",
        "\n",
        "def f():\n",
        "    a = 100 #이 구문으로 a를 바깥에서도 사용 (전역변수 지정)\n",
        "    a = a + 1\n",
        "    return a\n",
        "\n",
        "print(f())\n",
        " #함수 f 내에서 변수 a 가 수정"
      ],
      "metadata": {
        "colab": {
          "base_uri": "https://localhost:8080/"
        },
        "id": "Jr5LQLB-kOEz",
        "outputId": "e876832b-bbeb-4563-f290-396b92843ed9"
      },
      "execution_count": 67,
      "outputs": [
        {
          "output_type": "stream",
          "name": "stdout",
          "text": [
            "101\n"
          ]
        }
      ]
    },
    {
      "cell_type": "code",
      "source": [
        "# 역변수 예-global을 쓰지 않은 코드\n",
        "a = 100\n",
        "def f():\n",
        "    global a = a + 1 # error\n",
        "\n",
        "f()\n",
        "print(a)"
      ],
      "metadata": {
        "colab": {
          "base_uri": "https://localhost:8080/",
          "height": 147
        },
        "id": "1g_FNBwkk0x7",
        "outputId": "c37a64e1-106f-4b67-cab9-6b64f1e40253"
      },
      "execution_count": 65,
      "outputs": [
        {
          "output_type": "error",
          "ename": "SyntaxError",
          "evalue": "invalid syntax (<ipython-input-65-f666a2a3cb2e>, line 4)",
          "traceback": [
            "\u001b[0;36m  File \u001b[0;32m\"<ipython-input-65-f666a2a3cb2e>\"\u001b[0;36m, line \u001b[0;32m4\u001b[0m\n\u001b[0;31m    global a = a + 1 # error\u001b[0m\n\u001b[0m             ^\u001b[0m\n\u001b[0;31mSyntaxError\u001b[0m\u001b[0;31m:\u001b[0m invalid syntax\n"
          ]
        }
      ]
    },
    {
      "cell_type": "code",
      "source": [
        "# 전역변수 불러와서 쓰기\n",
        "a = 100\n",
        "\n",
        "def f():\n",
        "    print(a) # 출력: 100\n",
        "\n",
        "f()\n",
        "\n",
        "def ff():\n",
        "    b = a + 1\n",
        "    print(b) # 출력: 101\n",
        "    print(a)\n",
        "\n",
        "ff()"
      ],
      "metadata": {
        "colab": {
          "base_uri": "https://localhost:8080/"
        },
        "id": "JTktP-E5k_o6",
        "outputId": "a72f83bc-10a3-4acf-8064-8d267e1ee33a"
      },
      "execution_count": 64,
      "outputs": [
        {
          "output_type": "stream",
          "name": "stdout",
          "text": [
            "100\n",
            "101\n",
            "100\n"
          ]
        }
      ]
    },
    {
      "cell_type": "code",
      "source": [
        "a = 100\n",
        "\n",
        "def f():\n",
        "    a = 1000\n",
        "    print(a) # 출력: 1000\n",
        "\n",
        "f()"
      ],
      "metadata": {
        "colab": {
          "base_uri": "https://localhost:8080/"
        },
        "id": "HxPZ2JuQmKNd",
        "outputId": "e8e2cb7a-ed86-4485-de61-62ca9e962b48"
      },
      "execution_count": 68,
      "outputs": [
        {
          "output_type": "stream",
          "name": "stdout",
          "text": [
            "1000\n"
          ]
        }
      ]
    },
    {
      "cell_type": "code",
      "source": [
        "a = 10\n",
        "def f():\n",
        "    a = 100\n",
        "    print(a) # 출력: 100\n",
        "    def ff():\n",
        "        a = 1000\n",
        "        print(a) # 출력: 1000\n",
        "        def fff():\n",
        "            a = 10000 # 출력: 10000\n",
        "            print(a)\n",
        "        fff()\n",
        "    ff()\n",
        "f()"
      ],
      "metadata": {
        "colab": {
          "base_uri": "https://localhost:8080/"
        },
        "id": "S9aC0cWZn1EQ",
        "outputId": "d93c5a4c-61bb-47e3-cbe6-4ebbb8641660"
      },
      "execution_count": 70,
      "outputs": [
        {
          "output_type": "stream",
          "name": "stdout",
          "text": [
            "100\n",
            "1000\n",
            "10000\n"
          ]
        }
      ]
    },
    {
      "cell_type": "code",
      "source": [
        "a = 10\n",
        "def f():\n",
        "    a = 100\n",
        "    print(a)\n",
        "    def ff():\n",
        "        a = 1000\n",
        "        print(a)\n",
        "        def fff():\n",
        "            global a\n",
        "            print(a)\n",
        "        fff()\n",
        "    ff()\n",
        "f()\n",
        "print(a)"
      ],
      "metadata": {
        "colab": {
          "base_uri": "https://localhost:8080/"
        },
        "id": "0sj5Yd5wn6XN",
        "outputId": "6731f6a8-b03a-482d-ea37-4e5b5c2e301b"
      },
      "execution_count": 71,
      "outputs": [
        {
          "output_type": "stream",
          "name": "stdout",
          "text": [
            "100\n",
            "1000\n",
            "10\n",
            "10\n"
          ]
        }
      ]
    }
  ]
}