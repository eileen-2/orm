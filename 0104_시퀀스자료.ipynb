{
  "nbformat": 4,
  "nbformat_minor": 0,
  "metadata": {
    "colab": {
      "provenance": [],
      "authorship_tag": "ABX9TyPigWAVQiigNBZIxNSMUtHR",
      "include_colab_link": true
    },
    "kernelspec": {
      "name": "python3",
      "display_name": "Python 3"
    },
    "language_info": {
      "name": "python"
    }
  },
  "cells": [
    {
      "cell_type": "markdown",
      "metadata": {
        "id": "view-in-github",
        "colab_type": "text"
      },
      "source": [
        "<a href=\"https://colab.research.google.com/github/eileen-2/orm/blob/main/0104_%EC%8B%9C%ED%80%80%EC%8A%A4%EC%9E%90%EB%A3%8C.ipynb\" target=\"_parent\"><img src=\"https://colab.research.google.com/assets/colab-badge.svg\" alt=\"Open In Colab\"/></a>"
      ]
    },
    {
      "cell_type": "code",
      "execution_count": 2,
      "metadata": {
        "colab": {
          "base_uri": "https://localhost:8080/",
          "height": 35
        },
        "id": "eVVhDd4E6og9",
        "outputId": "435f420b-e115-4f28-f1c2-07ce8a7da6a6"
      },
      "outputs": [
        {
          "output_type": "execute_result",
          "data": {
            "text/plain": [
              "'\\n- 코드 실행 날짜:20240104\\n- 버전: V0.1\\n- 작성자 : 이은희\\n- 코드내용: 시퀀스 자료형\\n'"
            ],
            "application/vnd.google.colaboratory.intrinsic+json": {
              "type": "string"
            }
          },
          "metadata": {},
          "execution_count": 2
        }
      ],
      "source": [
        "'''\n",
        "- 코드 실행 날짜:20240104\n",
        "- 버전: V0.1\n",
        "- 작성자 : 이은희\n",
        "- 코드내용: 시퀀스 자료형\n",
        "'''"
      ]
    },
    {
      "cell_type": "markdown",
      "source": [
        "#1. 시퀀스 자료형\n",
        "\n",
        "- 여러 개의 항목들이 순서대로 나열된 구조를 나타내는 데이터 유형\n",
        "\n",
        "1. 리스트(List)\n",
        "2. 문자열(String)\n",
        "3. 튜플(Tuple)\n",
        "4. 바이트(Bytes)\n",
        "5. 바이트배열(Bytearray)\n",
        "6. 범위(range)\n",
        "\n",
        "##1.1. 인덱싱 (Indexing)\n"
      ],
      "metadata": {
        "id": "RjvHoVwR6thy"
      }
    },
    {
      "cell_type": "code",
      "source": [
        "#1.1 인덱싱\n",
        "          #01234\n",
        "      #(-)54321\n",
        "example = 'abcde'\n",
        "print(example[0]) # 출력: a\n",
        "print(example[2]) # 출력: c\n",
        "print(example[-2]) # 출력: d"
      ],
      "metadata": {
        "colab": {
          "base_uri": "https://localhost:8080/"
        },
        "id": "0r7_n-Ne7P56",
        "outputId": "56f9410a-c16a-41c2-fc6c-16792b922cec"
      },
      "execution_count": 4,
      "outputs": [
        {
          "output_type": "stream",
          "name": "stdout",
          "text": [
            "a\n",
            "c\n",
            "d\n"
          ]
        }
      ]
    },
    {
      "cell_type": "markdown",
      "source": [
        "##1.2. 슬라이싱(Slicing)\n"
      ],
      "metadata": {
        "id": "am0uxPy67ln1"
      }
    },
    {
      "cell_type": "code",
      "source": [
        "#1.2 슬라이싱\n",
        "#example = 'abcde'\n",
        "           #01234\n",
        "        #(-)54321\n",
        "\n",
        "print(example[1:3]) # 출력: bc\n",
        "print(example[-4:-1]) #출력: bcd, stop의 전자리까지 출력\n",
        "range(10)[3] # 출력: 3\n",
        "range(100)[::5] # 출력: range(0, 100, 5)"
      ],
      "metadata": {
        "colab": {
          "base_uri": "https://localhost:8080/"
        },
        "id": "Y9RpRjAG7tyc",
        "outputId": "3d4c3a0a-54cf-42fe-d3f3-547badd6409e"
      },
      "execution_count": 6,
      "outputs": [
        {
          "output_type": "stream",
          "name": "stdout",
          "text": [
            "bc\n",
            "bcd\n"
          ]
        },
        {
          "output_type": "execute_result",
          "data": {
            "text/plain": [
              "range(0, 100, 5)"
            ]
          },
          "metadata": {},
          "execution_count": 6
        }
      ]
    },
    {
      "cell_type": "code",
      "source": [
        "##1.3. 특정 항목의 포함 여부(Member)\n",
        "\n",
        "example = 'abcde'\n",
        "print('a' in example) # 출력: True\n",
        "print('z' in example) # 출력: False\n",
        "print('f' not in example) # 출력: True"
      ],
      "metadata": {
        "colab": {
          "base_uri": "https://localhost:8080/"
        },
        "id": "FGnSFRTF7ptA",
        "outputId": "936a6fce-ad84-4178-98aa-0b868443e1c0"
      },
      "execution_count": 13,
      "outputs": [
        {
          "output_type": "stream",
          "name": "stdout",
          "text": [
            "True\n",
            "False\n",
            "True\n"
          ]
        }
      ]
    },
    {
      "cell_type": "code",
      "source": [
        "##1.4. 연결 & 반복 (Iteration)\n",
        "\n",
        "example1 = 'abcde'\n",
        "example2 = 'f'\n",
        "print(example1 + example2) # 출력: abcdef\n",
        "print(example2 * 3)        # 출력: fff"
      ],
      "metadata": {
        "colab": {
          "base_uri": "https://localhost:8080/"
        },
        "id": "ylz6rzgn8zxt",
        "outputId": "793b3ce5-c62e-41b7-ec81-bb0ddee8eab6"
      },
      "execution_count": 14,
      "outputs": [
        {
          "output_type": "stream",
          "name": "stdout",
          "text": [
            "abcdef\n",
            "fff\n"
          ]
        }
      ]
    },
    {
      "cell_type": "markdown",
      "source": [
        "##1.5. 내장 함수\n",
        "\n",
        "1. len() ; 길이\n",
        "2. max() ; 최대값\n",
        "3. min() ; 최소값\n",
        "4. index()\n",
        "5. count() ; 개수\n"
      ],
      "metadata": {
        "id": "j1IldRZl9QEb"
      }
    },
    {
      "cell_type": "code",
      "source": [
        "#1.5 내장함수 사용 예시\n",
        "\n",
        "example = 'abcde'\n",
        "print(len(example))  # 출력: 5\n",
        "print(min(example))  # 출력: a"
      ],
      "metadata": {
        "colab": {
          "base_uri": "https://localhost:8080/"
        },
        "id": "4eDdVbOs9YEf",
        "outputId": "22f83e50-de30-46da-aa47-9f5b233820b0"
      },
      "execution_count": 17,
      "outputs": [
        {
          "output_type": "stream",
          "name": "stdout",
          "text": [
            "5\n",
            "a\n"
          ]
        }
      ]
    },
    {
      "cell_type": "markdown",
      "source": [
        "#2. 시퀀스 자료형의 패킹과 언패킹\n",
        "************중요함***********\n",
        "\n",
        ";데이터를 그룹화하거나 그룹에서 분해하는 간결한 방법\n",
        "- 패킹(packing)\n",
        "- 언패킹(unpacking)\n"
      ],
      "metadata": {
        "id": "9MP0ezQH9qOU"
      }
    },
    {
      "cell_type": "code",
      "source": [
        "#2.1 패킹\n",
        "\n",
        "# 튜플 패킹 >>>>> ','로 나열하면 튜플로 생성\n",
        "packed_tuple = 1, 2, 3, 4\n",
        "print(packed_tuple)  # 출력: (1, 2, 3, 4)\n",
        "print(type(packed_tuple))"
      ],
      "metadata": {
        "colab": {
          "base_uri": "https://localhost:8080/"
        },
        "id": "piweeAD496Hn",
        "outputId": "1f0220ff-aecf-4c59-c860-871af1c43adf"
      },
      "execution_count": 21,
      "outputs": [
        {
          "output_type": "stream",
          "name": "stdout",
          "text": [
            "(1, 2, 3, 4)\n",
            "<class 'tuple'>\n"
          ]
        }
      ]
    },
    {
      "cell_type": "code",
      "source": [
        "tuple_example = 1\n",
        "print(tuple_example)  # 출력: 1 >>> 정수\n",
        "print(type(tuple_example))"
      ],
      "metadata": {
        "colab": {
          "base_uri": "https://localhost:8080/"
        },
        "id": "En6pDG-d-CQ1",
        "outputId": "f00e86e9-efd7-4e41-ef45-c164d2fcc6c9"
      },
      "execution_count": 23,
      "outputs": [
        {
          "output_type": "stream",
          "name": "stdout",
          "text": [
            "1\n",
            "<class 'int'>\n"
          ]
        }
      ]
    },
    {
      "cell_type": "code",
      "source": [
        "#2.2 언패킹\n",
        "\n",
        "#튜플 언패킹, 언팩시 순서대로 변수에 할당되고 타입은 정수형으로 변환\n",
        "a, b, c, d = packed_tuple\n",
        "print(a)  # 출력: 1\n",
        "print(b)  # 출력: 2\n",
        "print(type(b)) #출력 : 정수형\n",
        "print(type(packed_tuple)) #출력: 튜플형"
      ],
      "metadata": {
        "colab": {
          "base_uri": "https://localhost:8080/"
        },
        "id": "_ghgxfp4-fXS",
        "outputId": "e56a0532-c8af-4745-f443-586f1a4898ed"
      },
      "execution_count": 28,
      "outputs": [
        {
          "output_type": "stream",
          "name": "stdout",
          "text": [
            "1\n",
            "2\n",
            "<class 'int'>\n",
            "<class 'tuple'>\n"
          ]
        }
      ]
    },
    {
      "cell_type": "code",
      "source": [
        "print(packed_tuple)"
      ],
      "metadata": {
        "colab": {
          "base_uri": "https://localhost:8080/"
        },
        "id": "JqJe-Hhc-szi",
        "outputId": "9081a4ed-1323-4f7e-d899-9bbca2b40069"
      },
      "execution_count": 29,
      "outputs": [
        {
          "output_type": "stream",
          "name": "stdout",
          "text": [
            "(1, 2, 3, 4)\n"
          ]
        }
      ]
    },
    {
      "cell_type": "code",
      "source": [
        "#다양한 패킹/언패킹\n",
        "#range는 0~n-1까지 숫자를 생성하는 함수\n",
        "\n",
        "a, b, c = range(3) #0, 1, 2\n",
        "print(a)\n",
        "print(range(3))\n",
        "print(a,b,c)"
      ],
      "metadata": {
        "colab": {
          "base_uri": "https://localhost:8080/"
        },
        "id": "EKsPJlpu_QOb",
        "outputId": "cf5d6803-8a70-4de0-9a95-509a6fd48953"
      },
      "execution_count": 38,
      "outputs": [
        {
          "output_type": "stream",
          "name": "stdout",
          "text": [
            "0\n",
            "range(0, 3)\n",
            "0 1 2\n"
          ]
        }
      ]
    },
    {
      "cell_type": "code",
      "source": [
        "a, b, c, d, e = 'hello'\n",
        "print(a)\n",
        "print(b)\n",
        "print(c)\n",
        "print(d)\n",
        "print(e)\n",
        "packed_tuple = a, b, c, d, e\n",
        "print(packed_tuple)\n",
        "print(type(packed_tuple))\n",
        "print(a, b, c, d, e)\n",
        "print(type(a, b, c, d, e))"
      ],
      "metadata": {
        "colab": {
          "base_uri": "https://localhost:8080/",
          "height": 364
        },
        "id": "jKJuTBUD_p_a",
        "outputId": "1fe9b7f0-a7fa-4e2b-d016-4f8d2fb2e270"
      },
      "execution_count": 44,
      "outputs": [
        {
          "output_type": "stream",
          "name": "stdout",
          "text": [
            "h\n",
            "e\n",
            "l\n",
            "l\n",
            "o\n",
            "('h', 'e', 'l', 'l', 'o')\n",
            "<class 'tuple'>\n",
            "h e l l o\n"
          ]
        },
        {
          "output_type": "error",
          "ename": "TypeError",
          "evalue": "ignored",
          "traceback": [
            "\u001b[0;31m---------------------------------------------------------------------------\u001b[0m",
            "\u001b[0;31mTypeError\u001b[0m                                 Traceback (most recent call last)",
            "\u001b[0;32m<ipython-input-44-7a71f87ee072>\u001b[0m in \u001b[0;36m<cell line: 11>\u001b[0;34m()\u001b[0m\n\u001b[1;32m      9\u001b[0m \u001b[0mprint\u001b[0m\u001b[0;34m(\u001b[0m\u001b[0mtype\u001b[0m\u001b[0;34m(\u001b[0m\u001b[0mpacked_tuple\u001b[0m\u001b[0;34m)\u001b[0m\u001b[0;34m)\u001b[0m\u001b[0;34m\u001b[0m\u001b[0;34m\u001b[0m\u001b[0m\n\u001b[1;32m     10\u001b[0m \u001b[0mprint\u001b[0m\u001b[0;34m(\u001b[0m\u001b[0ma\u001b[0m\u001b[0;34m,\u001b[0m \u001b[0mb\u001b[0m\u001b[0;34m,\u001b[0m \u001b[0mc\u001b[0m\u001b[0;34m,\u001b[0m \u001b[0md\u001b[0m\u001b[0;34m,\u001b[0m \u001b[0me\u001b[0m\u001b[0;34m)\u001b[0m\u001b[0;34m\u001b[0m\u001b[0;34m\u001b[0m\u001b[0m\n\u001b[0;32m---> 11\u001b[0;31m \u001b[0mprint\u001b[0m\u001b[0;34m(\u001b[0m\u001b[0mtype\u001b[0m\u001b[0;34m(\u001b[0m\u001b[0ma\u001b[0m\u001b[0;34m,\u001b[0m \u001b[0mb\u001b[0m\u001b[0;34m,\u001b[0m \u001b[0mc\u001b[0m\u001b[0;34m,\u001b[0m \u001b[0md\u001b[0m\u001b[0;34m,\u001b[0m \u001b[0me\u001b[0m\u001b[0;34m)\u001b[0m\u001b[0;34m)\u001b[0m\u001b[0;34m\u001b[0m\u001b[0;34m\u001b[0m\u001b[0m\n\u001b[0m",
            "\u001b[0;31mTypeError\u001b[0m: type() takes 1 or 3 arguments"
          ]
        }
      ]
    },
    {
      "cell_type": "code",
      "source": [
        "a, b = [10, 20]\n",
        "a # 출력: 0"
      ],
      "metadata": {
        "colab": {
          "base_uri": "https://localhost:8080/"
        },
        "id": "jzxkMmHQAXtc",
        "outputId": "2385fcb8-e745-41ad-d59f-e4a517d5d673"
      },
      "execution_count": 46,
      "outputs": [
        {
          "output_type": "execute_result",
          "data": {
            "text/plain": [
              "10"
            ]
          },
          "metadata": {},
          "execution_count": 46
        }
      ]
    },
    {
      "cell_type": "code",
      "source": [
        "for i, j in [[10, 20], [100, 200]]:\n",
        "    print(i, j)"
      ],
      "metadata": {
        "colab": {
          "base_uri": "https://localhost:8080/"
        },
        "id": "htAqMxvXAaS_",
        "outputId": "fb5b7de5-7eb3-4c38-cffd-f97464669d6e"
      },
      "execution_count": 47,
      "outputs": [
        {
          "output_type": "stream",
          "name": "stdout",
          "text": [
            "10 20\n",
            "100 200\n"
          ]
        }
      ]
    },
    {
      "cell_type": "code",
      "source": [
        "total_sum = 0\n",
        "\n",
        "for i in [10, 20]:\n",
        "      print(i)"
      ],
      "metadata": {
        "colab": {
          "base_uri": "https://localhost:8080/"
        },
        "id": "uyelGFm_Aazh",
        "outputId": "85fdea8a-a7e0-4bbe-a3bf-36e599f8fca5"
      },
      "execution_count": 49,
      "outputs": [
        {
          "output_type": "stream",
          "name": "stdout",
          "text": [
            "10\n",
            "20\n"
          ]
        }
      ]
    },
    {
      "cell_type": "code",
      "source": [
        "# 1.2.1. 별표(*)를 이용한 언패킹\n",
        "\n",
        "first, *middle, last = [1, 2, 3, 4, 5]\n",
        "print(first)    # 출력: 1\n",
        "print(middle)   # 출력: [2, 3, 4]\n",
        "print(last)     # 출력: 5"
      ],
      "metadata": {
        "colab": {
          "base_uri": "https://localhost:8080/"
        },
        "id": "JL_bhsIGApbK",
        "outputId": "3397f599-2787-4424-a72e-92b2622217d6"
      },
      "execution_count": 50,
      "outputs": [
        {
          "output_type": "stream",
          "name": "stdout",
          "text": [
            "1\n",
            "[2, 3, 4]\n",
            "5\n"
          ]
        }
      ]
    },
    {
      "cell_type": "code",
      "source": [
        "first, *middle, last = [1,2,3,4,5]\n",
        "print(first)\n",
        "type(first)\n",
        "print(middle)\n",
        "type(middle)\n",
        "print(last)\n",
        "type(last)"
      ],
      "metadata": {
        "colab": {
          "base_uri": "https://localhost:8080/"
        },
        "id": "eNwZ2OPuAtd7",
        "outputId": "57283707-ba51-4989-f61a-94b03fb05948"
      },
      "execution_count": 52,
      "outputs": [
        {
          "output_type": "stream",
          "name": "stdout",
          "text": [
            "1\n",
            "[2, 3, 4]\n",
            "5\n"
          ]
        },
        {
          "output_type": "execute_result",
          "data": {
            "text/plain": [
              "int"
            ]
          },
          "metadata": {},
          "execution_count": 52
        }
      ]
    },
    {
      "cell_type": "code",
      "source": [
        "*first, middle, last = [1,2,3,4,5]\n",
        "print(first)\n",
        "type(first)\n",
        "print(middle)\n",
        "type(middle)\n",
        "print(last)\n",
        "type(last)"
      ],
      "metadata": {
        "colab": {
          "base_uri": "https://localhost:8080/"
        },
        "id": "N_K5nkwSA-7D",
        "outputId": "bce25616-ecd4-4a08-d5fb-e50c28ea794e"
      },
      "execution_count": 54,
      "outputs": [
        {
          "output_type": "stream",
          "name": "stdout",
          "text": [
            "[1, 2, 3]\n",
            "4\n",
            "5\n"
          ]
        },
        {
          "output_type": "execute_result",
          "data": {
            "text/plain": [
              "int"
            ]
          },
          "metadata": {},
          "execution_count": 54
        }
      ]
    },
    {
      "cell_type": "code",
      "source": [
        "first, middle, *last = [1,2,3,4,5]\n",
        "print(first)\n",
        "type(first)\n",
        "print(middle)\n",
        "type(middle)\n",
        "print(last)\n",
        "type(last)"
      ],
      "metadata": {
        "colab": {
          "base_uri": "https://localhost:8080/"
        },
        "id": "mtebhm3GBDNF",
        "outputId": "8b623957-60a7-4b3e-e65a-d70da30e6602"
      },
      "execution_count": 56,
      "outputs": [
        {
          "output_type": "stream",
          "name": "stdout",
          "text": [
            "1\n",
            "2\n",
            "[3, 4, 5]\n"
          ]
        },
        {
          "output_type": "execute_result",
          "data": {
            "text/plain": [
              "list"
            ]
          },
          "metadata": {},
          "execution_count": 56
        }
      ]
    },
    {
      "cell_type": "code",
      "source": [
        "first, *middle = [1,2,3,4,5]\n",
        "print(first)\n",
        "type(first)\n",
        "print(middle)\n"
      ],
      "metadata": {
        "colab": {
          "base_uri": "https://localhost:8080/"
        },
        "id": "aej1TpPyBGLq",
        "outputId": "13a9d015-1098-4e2c-d76c-d1fd7c60ca8c"
      },
      "execution_count": 60,
      "outputs": [
        {
          "output_type": "stream",
          "name": "stdout",
          "text": [
            "1\n",
            "[2, 3, 4, 5]\n"
          ]
        }
      ]
    },
    {
      "cell_type": "code",
      "source": [
        "*first, middle = [1,2,3,4,5]\n",
        "print(first)\n",
        "type(first)\n",
        "print(middle)"
      ],
      "metadata": {
        "colab": {
          "base_uri": "https://localhost:8080/"
        },
        "id": "4H09Lyp3BKws",
        "outputId": "194ccf2c-1b20-4ffa-aa7b-7901f6c3b23e"
      },
      "execution_count": 62,
      "outputs": [
        {
          "output_type": "stream",
          "name": "stdout",
          "text": [
            "[1, 2, 3, 4]\n",
            "5\n"
          ]
        }
      ]
    }
  ]
}