{
  "nbformat": 4,
  "nbformat_minor": 0,
  "metadata": {
    "colab": {
      "provenance": [],
      "authorship_tag": "ABX9TyMzjcqOdTeBr5RRYX7DlbBC",
      "include_colab_link": true
    },
    "kernelspec": {
      "name": "python3",
      "display_name": "Python 3"
    },
    "language_info": {
      "name": "python"
    }
  },
  "cells": [
    {
      "cell_type": "markdown",
      "metadata": {
        "id": "view-in-github",
        "colab_type": "text"
      },
      "source": [
        "<a href=\"https://colab.research.google.com/github/eileen-2/orm/blob/main/0104_%EC%97%B0%EC%82%B0%EA%B3%BC%EA%B5%AC%EB%AC%B8_%EC%97%B0%EC%8A%B5%EB%AC%B8%EC%A0%9C.ipynb\" target=\"_parent\"><img src=\"https://colab.research.google.com/assets/colab-badge.svg\" alt=\"Open In Colab\"/></a>"
      ]
    },
    {
      "cell_type": "markdown",
      "source": [
        "- 코드 실행 날짜:20240104\n",
        "- 버전: V0.1\n",
        "- 작성자 : 이은희\n",
        "- 코드내용: 연산과 구문 연습문제\n",
        "\n"
      ],
      "metadata": {
        "id": "zWV6C5vKV3uN"
      }
    },
    {
      "cell_type": "code",
      "source": [
        "# 1, 코드의 실행 결괏값을 예상\n",
        "a = 100\n",
        "(a > 100) and (a < 200) #결과: f and t = False\n",
        "(a > 100) or (a < 200) #결과: f or t = true\n",
        "(a >= 100) and (a <= 200) #결과 : t and t = true\n",
        "(a >= 100) or (a <= 200) #결과 : t or t = true"
      ],
      "metadata": {
        "colab": {
          "base_uri": "https://localhost:8080/"
        },
        "id": "PE1Wt0TPWSFd",
        "outputId": "a9dde154-82cb-447f-d32d-84d1b81b0f7b"
      },
      "execution_count": 3,
      "outputs": [
        {
          "output_type": "execute_result",
          "data": {
            "text/plain": [
              "True"
            ]
          },
          "metadata": {},
          "execution_count": 3
        }
      ]
    },
    {
      "cell_type": "code",
      "source": [
        "(a > 100) and (a < 200)"
      ],
      "metadata": {
        "colab": {
          "base_uri": "https://localhost:8080/"
        },
        "id": "M0OA9YH_XHFb",
        "outputId": "fb0ae741-3013-4e79-c67a-b9a7c50aaf4d"
      },
      "execution_count": 5,
      "outputs": [
        {
          "output_type": "execute_result",
          "data": {
            "text/plain": [
              "False"
            ]
          },
          "metadata": {},
          "execution_count": 5
        }
      ]
    },
    {
      "cell_type": "code",
      "source": [
        "(a > 100) or (a < 200)"
      ],
      "metadata": {
        "colab": {
          "base_uri": "https://localhost:8080/"
        },
        "id": "SnqlScd1XLIB",
        "outputId": "4dec0813-990b-429a-ce5b-79cd77d08a31"
      },
      "execution_count": 7,
      "outputs": [
        {
          "output_type": "execute_result",
          "data": {
            "text/plain": [
              "True"
            ]
          },
          "metadata": {},
          "execution_count": 7
        }
      ]
    },
    {
      "cell_type": "code",
      "source": [
        "(a >= 100) and (a <= 200)"
      ],
      "metadata": {
        "colab": {
          "base_uri": "https://localhost:8080/"
        },
        "id": "Arfl7285XMwU",
        "outputId": "8f70f6ae-fefe-424c-bfe3-6b922fe1f0d3"
      },
      "execution_count": 8,
      "outputs": [
        {
          "output_type": "execute_result",
          "data": {
            "text/plain": [
              "True"
            ]
          },
          "metadata": {},
          "execution_count": 8
        }
      ]
    },
    {
      "cell_type": "code",
      "source": [
        "(a >= 100) or (a <= 200)"
      ],
      "metadata": {
        "colab": {
          "base_uri": "https://localhost:8080/"
        },
        "id": "guKfJ_IrXOdy",
        "outputId": "671631a8-048e-40c3-90a4-39fda677fe4b"
      },
      "execution_count": 10,
      "outputs": [
        {
          "output_type": "execute_result",
          "data": {
            "text/plain": [
              "True"
            ]
          },
          "metadata": {},
          "execution_count": 10
        }
      ]
    },
    {
      "cell_type": "code",
      "source": [
        "# 2, 코드의 실행 결괏값을 예상\n",
        "b = 25\n",
        "(b % 2 == 0) and (b % 5 == 0) #결과: 1 and 0 -> f and t -> false"
      ],
      "metadata": {
        "colab": {
          "base_uri": "https://localhost:8080/"
        },
        "id": "t34wOu4_WPzP",
        "outputId": "de7ecb59-39fb-4992-e7a1-7d2b89563ca1"
      },
      "execution_count": 1,
      "outputs": [
        {
          "output_type": "execute_result",
          "data": {
            "text/plain": [
              "False"
            ]
          },
          "metadata": {},
          "execution_count": 1
        }
      ]
    },
    {
      "cell_type": "code",
      "source": [
        "#3, 변수 c 안에 들어있는 가격을 100원짜리 몇개로 거슬러 줄 수 있는지 출력\n",
        "c = 1000\n",
        "c / 100\n",
        "print(c/100) #결과 : 10"
      ],
      "metadata": {
        "colab": {
          "base_uri": "https://localhost:8080/"
        },
        "id": "YO1IMCoXWn_9",
        "outputId": "72497897-032d-44c1-fba5-4c750719267f"
      },
      "execution_count": 11,
      "outputs": [
        {
          "output_type": "stream",
          "name": "stdout",
          "text": [
            "10.0\n"
          ]
        }
      ]
    },
    {
      "cell_type": "code",
      "source": [
        "#4, (심화문제) 입력한 금액을 5000원, 1000원, 500원, 100원으로 교환하는 프로그램을 만들어주세요.\n",
        "a = int(input(\"지폐를 넣어주세요: \"))\n",
        "if a == 5000:\n",
        "    print('5000원을 받았습니다. 교환할 화폐단위를 선택해주세요.')\n",
        "    c = int(input(\"교환할 화폐단위를 선택해주세요: \"))\n",
        "    if c in [1000, 500, 100]:\n",
        "        result = int(5000/c)\n",
        "    print(f'{c}원을 선택하셨습니다. 반환되는 지폐 {c}원권 {result}장을 확인하세요.')\n",
        "elif a == 1000:\n",
        "    print('1000원을 받았습니다. 교환 화폐단위를 선택해주세요.')\n",
        "    c = int(input(\"교환할 화폐단위를 선택해주세요: \"))\n",
        "    if c in [500, 100]:\n",
        "        result = int(1000/c)\n",
        "        print(f'{c}원을 선택하셨습니다. 반환되는 동전 {c}원 {result}개를 확인하세요.')\n",
        "elif a == 500:\n",
        "    c = int(input(\"교환할 화폐단위를 선택해주세요: \"))\n",
        "    if c == 100:\n",
        "        result = int(a/c)\n",
        "        print(f'{c}원을 선택하셨습니다. 반환되는 동전 {c}원 {result}개를 확인하세요.')"
      ],
      "metadata": {
        "colab": {
          "base_uri": "https://localhost:8080/"
        },
        "id": "tQkTpml8eSt4",
        "outputId": "eefcba7e-907c-4f2d-f536-b130adacf9da"
      },
      "execution_count": 55,
      "outputs": [
        {
          "output_type": "stream",
          "name": "stdout",
          "text": [
            "지폐를 넣어주세요: 1000\n",
            "1000원을 받았습니다. 교환 화폐단위를 선택해주세요.\n",
            "교환할 화폐단위를 선택해주세요: 100\n",
            "100원을 선택하셨습니다. 반환되는 동전 100원 10개를 확인하세요.\n"
          ]
        }
      ]
    },
    {
      "cell_type": "code",
      "source": [
        "# 선생님이 의도한 답안.......나와 아주 다른 생각이었군..............\n",
        "money = int(input(\"교환할 금액을 입력하세요: \"))\n",
        "\n",
        "# 5000원 지폐 개수 계산\n",
        "num_5000 = money // 5000\n",
        "money = money - num_5000 * 5000\n",
        "\n",
        "# 1000원 지폐 개수 계산\n",
        "num_1000 = money // 1000\n",
        "money = money - num_1000 * 1000\n",
        "\n",
        "# 500원 동전 개수 계산\n",
        "num_500 = money // 500\n",
        "money = money - num_500 * 500\n",
        "\n",
        "# 100원 동전 개수 계산\n",
        "num_100 = money // 100\n",
        "\n",
        "# 결과 출력\n",
        "print(\"5000원 지폐 개수:\", num_5000)\n",
        "print(\"1000원 지폐 개수:\", num_1000)\n",
        "print(\"500원 동전 개수:\", num_500)\n",
        "print(\"100원 동전 개수:\", num_100)"
      ],
      "metadata": {
        "colab": {
          "base_uri": "https://localhost:8080/"
        },
        "id": "dFNYwBKMehLd",
        "outputId": "4556e3ea-62a8-49e4-bb02-5413ba24ad73"
      },
      "execution_count": 56,
      "outputs": [
        {
          "output_type": "stream",
          "name": "stdout",
          "text": [
            "교환할 금액을 입력하세요: 100\n",
            "5000원 지폐 개수: 0\n",
            "1000원 지폐 개수: 0\n",
            "500원 동전 개수: 0\n",
            "100원 동전 개수: 1\n"
          ]
        }
      ]
    },
    {
      "cell_type": "code",
      "source": [
        "# 실습 2\n",
        "'''\n",
        "1. 사용자 입력받기; 원가와 할인율 입력받기\n",
        "2. 문자열 숫자로 변환; 원가와 할인율을 각각 float()함수를 사용하여 실수 변환\n",
        "3. 할인된 가격 계산; 할인된 가격을 계산(할인된 가격 = 원가 - (원가*할인율/100))\n",
        "4. 결과 출력; 계산된 할인된 가격을 print()함수로 출력\n",
        "'''\n",
        "\n",
        "#제품의 원가와 할인율 입력 받기\n",
        "original_price = float(input(\"원가를 입력해주세요.\"))\n",
        "discount_rate = float(input(\"할인율을 입력해주세요.\"))\n",
        "discounted_price = original_price - (original_price * discount_rate / 100)\n",
        "print(f'할인된 가격은 {int(discounted_price)}원입니다.')"
      ],
      "metadata": {
        "colab": {
          "base_uri": "https://localhost:8080/"
        },
        "id": "D-7BhWPre1Bv",
        "outputId": "56e72906-5de2-47d6-9a61-30bc3fb945c7"
      },
      "execution_count": 66,
      "outputs": [
        {
          "output_type": "stream",
          "name": "stdout",
          "text": [
            "원가를 입력해주세요.13000\n",
            "할인율을 입력해주세요.30\n",
            "할인된 가격은 9100원입니다.\n"
          ]
        }
      ]
    },
    {
      "cell_type": "code",
      "source": [
        "# 실습 3\n",
        "'''\n",
        "사용자 입력 받기:\n",
        "input() 함수를 사용하여 사용자의 이름과 나이를 입력받습니다.\n",
        "문자열을 숫자로 변환:\n",
        "입력받은 나이(문자열)를 int() 함수를 사용하여 정수로 변환합니다.\n",
        "산술 연산 수행:\n",
        "변환된 나이에 1을 더하여 다음 해의 나이를 계산합니다.\n",
        "문자열 길이 계산:\n",
        "len() 함수를 사용하여 사용자 이름의 길이를 계산합니다.\n",
        "성인 여부 판단:\n",
        "나이를 기준으로 성인 여부를 판단하여 불리언 값으로 표시합니다. (예: 18세 이상이면 True, 그렇지 않으면 False)\n",
        "결과 출력:\n",
        "계산된 나이, 이름의 길이, 성인 여부를 print() 함수를 사용하여 출력합니다.\n",
        "'''\n",
        "\n",
        "name = input(\"이름을 입력해주세요.\")\n",
        "age = int(input(\"나이를 입력해주세요.\"))\n",
        "next_year_age = age + 1 #next_year_age + = 1\n",
        "len(str(name))\n",
        "over_18 = bool(age >=18)\n",
        "print(f\"내년 나이: {next_year_age}, 이름길이 :{len(str(name))}, 성인여부{over_18}\")"
      ],
      "metadata": {
        "colab": {
          "base_uri": "https://localhost:8080/"
        },
        "id": "Eof93Vchgt15",
        "outputId": "610d5ee1-c0bc-49f2-d4c1-cbaf123af996"
      },
      "execution_count": 68,
      "outputs": [
        {
          "output_type": "stream",
          "name": "stdout",
          "text": [
            "이름을 입력해주세요.이은희\n",
            "나이를 입력해주세요.20\n",
            "내년 나이: 21, 이름길이 :3, 성인여부True\n"
          ]
        }
      ]
    },
    {
      "cell_type": "code",
      "source": [
        "# 사용자 입력 받기\n",
        "name = input(\"이름을 입력해주세요: \")\n",
        "age = int(input(\"나이를 입력해주세요: \"))\n",
        "\n",
        "# 산술 연산 수행: 다음 해의 나이 계산\n",
        "next_year_age = age + 1\n",
        "\n",
        "# 문자열 길이 계산: 사용자 이름의 길이\n",
        "name_length = len(name)\n",
        "\n",
        "# 성인 여부 판단: 18세 이상이면 True, 그렇지 않으면 False\n",
        "is_adult = age >= 18\n",
        "\n",
        "# 결과 출력\n",
        "print(f\"다음 해 나이: {next_year_age}, 이름 길이: {name_length}, 성인 여부: {is_adult}\")"
      ],
      "metadata": {
        "id": "dZRJx7h-jXn8"
      },
      "execution_count": null,
      "outputs": []
    }
  ]
}