{
  "nbformat": 4,
  "nbformat_minor": 0,
  "metadata": {
    "colab": {
      "provenance": [],
      "authorship_tag": "ABX9TyOWsTp9e9fphNYpoNmcjqlj",
      "include_colab_link": true
    },
    "kernelspec": {
      "name": "python3",
      "display_name": "Python 3"
    },
    "language_info": {
      "name": "python"
    }
  },
  "cells": [
    {
      "cell_type": "markdown",
      "metadata": {
        "id": "view-in-github",
        "colab_type": "text"
      },
      "source": [
        "<a href=\"https://colab.research.google.com/github/eileen-2/orm/blob/main/0118_f_string%2C_%EC%A0%95%EA%B7%9C%ED%91%9C%ED%98%84%EC%8B%9D.ipynb\" target=\"_parent\"><img src=\"https://colab.research.google.com/assets/colab-badge.svg\" alt=\"Open In Colab\"/></a>"
      ]
    },
    {
      "cell_type": "markdown",
      "source": [
        "# 파이썬 버전별 변동 사항\n"
      ],
      "metadata": {
        "id": "cYgkq8tI9Bu5"
      }
    },
    {
      "cell_type": "markdown",
      "source": [
        "- Python 3.5 : async / await\n",
        "비동기(asynchronous)는 일반적으로 여러 작업이 동시에 수행되는 방식을 의미합니다. 이는 작업이 시작되고 완료되는 시간이 겹치지 않아도 되며, 한 작업이 완료되기를 기다리지 않고 다음 작업을 시작할 수 있다는 것을 뜻합니다.\n",
        "\n",
        "Python에서의 비동기 프로그래밍은 asyncio 라이브러리를 통해 지원됩니다. 이 라이브러리는 이벤트 루프, 코루틴, 태스크 등의 개념을 통해 비동기 작업을 처리합니다.\n",
        "\n",
        "이벤트 루프: 비동기 작업들을 관리하고 실행하는 코어입니다.\n",
        "코루틴: 비동기 함수를 의미하며, 'async def'로 선언됩니다. 이들은 실행을 일시 중지하고 이벤트 루프로 제어를 반환한 후, 나중에 다시 시작할 수 있는 함수입니다.\n",
        "태스크: 코루틴의 실행을 스케줄링하는데 사용됩니다. 이벤트 루프는 이러한 태스크를 관리하고 실행합니다.\n",
        "이러한 비동기 프로그래밍은 I/O 바운드 작업(파일 또는 네트워크 작업 등)을 처리할 때 유용하며, 이를 통해 높은 동시성을 달성할 수 있습니다. 하지만 CPU 바운드 작업에서는 병렬 처리나 멀티스레딩이 더 효과적일 수 있습니다.\n",
        "\n",
        "\n",
        "- Python 3.6 : Dict에 순서 / f-string / 타입힌트\n",
        "\n",
        "- Python 3.7 : dataclasses\n",
        "\n",
        "- Python 3.8 : 왈러스 연산자(:=)\n",
        "\n",
        "- Python 3.9 : 딕셔너리 결합 연산자(|)\n",
        "\n",
        "- Python 3.10 : match"
      ],
      "metadata": {
        "id": "538gRkMK-gwa"
      }
    },
    {
      "cell_type": "code",
      "source": [
        "#관용적 방법\n",
        "class User:\n",
        "    def __init__(self, id, name, email):\n",
        "        self.id = id\n",
        "        self.name = name\n",
        "        self.email = email\n",
        "\n",
        "\n",
        "# dataclasses 사용법\n",
        "# 실무에서 아무도 안씀...정말 좋은 기능인데..\n",
        "from dataclasses import dataclass\n",
        "\n",
        "@dataclass\n",
        "class User:\n",
        "    id: int\n",
        "    name: str\n",
        "    email : str\n",
        "\n",
        "user = User(123, 'hojun', 'hojun@gmail')\n",
        "user"
      ],
      "metadata": {
        "id": "58I10CAO_HE3"
      },
      "execution_count": null,
      "outputs": []
    },
    {
      "cell_type": "code",
      "source": [
        "# 딕셔너리 결합 연산자\n",
        "x = {\"key1\": \"value1\"}\n",
        "y = {\"key2\": \"value2\"}\n",
        "z = x | y\n",
        "z"
      ],
      "metadata": {
        "id": "x2PCBUvp_4PY"
      },
      "execution_count": null,
      "outputs": []
    },
    {
      "cell_type": "markdown",
      "source": [
        "# 파일 입출력"
      ],
      "metadata": {
        "id": "OldzBa2dANQG"
      }
    },
    {
      "cell_type": "code",
      "source": [
        "# open(파일이름, 파일모드)\n",
        "f = open('python.txt', 'w') # 파일모드 : r, w, a, r+,\n",
        "f.close()"
      ],
      "metadata": {
        "id": "mHBerE_4APPu"
      },
      "execution_count": null,
      "outputs": []
    },
    {
      "cell_type": "code",
      "source": [
        "# 파일은 열였으면 꼭 닫아야함.\n",
        "# 메모리가 살아있다.\n",
        "f = open('python.txt', 'w') # 파일모드 : r, w, a, r+,\n",
        "f.write('hello world') # 내용기입하는 방\n",
        "f.close()"
      ],
      "metadata": {
        "id": "kyZTEuANAqZd"
      },
      "execution_count": null,
      "outputs": []
    },
    {
      "cell_type": "code",
      "source": [
        "# 파일 닫기를 까먹을 까봐 사용하는 방법.\n",
        "with open('test.txt', 'w') as f:\n",
        "    f.write('hello world!')"
      ],
      "metadata": {
        "id": "C5SFBkG3BCU3"
      },
      "execution_count": null,
      "outputs": []
    },
    {
      "cell_type": "code",
      "source": [
        "for i in range(10):\n",
        "    with open('test{i}.txt', 'w') as f:\n",
        "        f.write('hello world!')"
      ],
      "metadata": {
        "id": "jxn6a7tgBHfw"
      },
      "execution_count": null,
      "outputs": []
    },
    {
      "cell_type": "code",
      "source": [
        "db_data = [\n",
        "  {\n",
        "    \"_id\": \"7f5440ab-7e2f-4a42-Be13-89987fa65b32\",\n",
        "    \"index\": \"1\",\n",
        "    \"name\": \"등윤상\",\n",
        "    \"email\": \"user-qe89s09@ut.io\",\n",
        "    \"phone\": \"010-3542-7711\",\n",
        "    \"country\": \"키리바시\",\n",
        "    \"address\": \"방학로 74-9\",\n",
        "    \"job\": \"일러스트레이터\"\n",
        "  },\n",
        "  {\n",
        "    \"_id\": \"b4f7ade0-38bb-4e6f-B94a-18af1426eb30\",\n",
        "    \"index\": \"2\",\n",
        "    \"name\": \"노동규\",\n",
        "    \"email\": \"user-nyr5mqw@ornare.com\",\n",
        "    \"phone\": \"010-9743-6320\",\n",
        "    \"country\": \"베냉\",\n",
        "    \"address\": \"남부순환로 54-6\",\n",
        "    \"job\": \"애완동물미용사\"\n",
        "  },\n",
        "  {\n",
        "    \"_id\": \"5d788255-8d5e-4f03-B446-dbac6a147e37\",\n",
        "    \"index\": \"3\",\n",
        "    \"name\": \"경진아\",\n",
        "    \"email\": \"user-n7pey4v@Etiam.biz\",\n",
        "    \"phone\": \"010-4049-8718\",\n",
        "    \"country\": \"아르메니아\",\n",
        "    \"address\": \"강남대로 87-5\",\n",
        "    \"job\": \"플로리스트\"\n",
        "  },\n",
        "  {\n",
        "    \"_id\": \"083efce4-17ed-4e9f-Ad7c-f9aa0ac6cb79\",\n",
        "    \"index\": \"4\",\n",
        "    \"name\": \"복소유\",\n",
        "    \"email\": \"user-ohaz2is@nibh.biz\",\n",
        "    \"phone\": \"010-3400-5945\",\n",
        "    \"country\": \"페루\",\n",
        "    \"address\": \"양산로 78-1\",\n",
        "    \"job\": \"응급구조사\"\n",
        "  },\n",
        "  {\n",
        "    \"_id\": \"d54ce0fa-c025-4af6-Cd9a-b9d10aa8be5a\",\n",
        "    \"index\": \"5\",\n",
        "    \"name\": \"화예빈\",\n",
        "    \"email\": \"user-mnkpdlp@vel.net\",\n",
        "    \"phone\": \"010-3120-8720\",\n",
        "    \"country\": \"허드 및 맥도널드 제도\",\n",
        "    \"address\": \"한남대로 6-2\",\n",
        "    \"job\": \"전문의사\"\n",
        "  }\n",
        "]"
      ],
      "metadata": {
        "id": "wtgPO4vvBRmE"
      },
      "execution_count": null,
      "outputs": []
    },
    {
      "cell_type": "code",
      "source": [
        "# 미션 1\n",
        "# 각각의 회원 이름_info.txt로 각각 정보 정리\n",
        "\n",
        "# 미션2\n",
        "# 엑셀로 각각 정보 정리\n",
        "\n",
        "# 미션3\n",
        "# html로 table로 정리하기 -> table 클릭하면 정렬되게하기\n"
      ],
      "metadata": {
        "id": "F3ZSnXzJB0g5"
      },
      "execution_count": null,
      "outputs": []
    },
    {
      "cell_type": "code",
      "source": [
        "# 미션 1\n",
        "# 각각의 회원 이름_info.txt로 각각 정보 정리\n",
        "\n",
        "# 정보추출은 -> map!!!!!!!!!!!!!외워요\n",
        "\n",
        "list(map(lambda x: x['name'], db_data))\n",
        "\n",
        "for i, name in enumerate(map(lambda x: x['name'], db_data)): #enumerate 앞이 인덱스\n",
        "    with open(f'{name}_info.txt', 'w') as f:\n",
        "        f.write(str(db_data[i]))"
      ],
      "metadata": {
        "id": "A1e1Omf8GAUa"
      },
      "execution_count": null,
      "outputs": []
    },
    {
      "cell_type": "code",
      "source": [
        "# bs4 공식문서 : parser\n",
        "# https://www.crummy.com/software/BeautifulSoup/bs4/doc/"
      ],
      "metadata": {
        "id": "rtuvetoiG2iU"
      },
      "execution_count": null,
      "outputs": []
    },
    {
      "cell_type": "code",
      "source": [
        "from bs4 import BeautifulSoup\n",
        "import json\n",
        "\n",
        "soup = BeautifulSoup(str(db_data), 'html.parser')\n",
        "# json_data = json.loads(soup.text)\n",
        "# json_data"
      ],
      "metadata": {
        "id": "iY5tT8aOG2dS"
      },
      "execution_count": null,
      "outputs": []
    },
    {
      "cell_type": "code",
      "source": [
        "# 미션 2\n",
        "# 엑셀로 각각 정보 정리\n",
        "# \"_id\": \"d54ce0fa-c025-4af6-Cd9a-b9d10aa8be5a\",\n",
        "# \"index\": \"5\",\n",
        "# \"name\": \"화예빈\",\n",
        "# \"email\": \"user-mnkpdlp@vel.net\",\n",
        "# \"phone\": \"010-3120-8720\",\n",
        "# \"country\": \"허드 및 맥도널드 제도\",\n",
        "# \"address\": \"한남대로 6-2\",\n",
        "# \"job\": \"전문의사\"\n",
        "with open('data.csv', 'w') as f:\n",
        "    s = '아이디,인덱스,이름,이메일,휴대폰,나라,주소,직업\\n'\n",
        "    for i in db_data:\n",
        "        s += f'{i[\"_id\"]},{i[\"index\"]},{i[\"name\"]},{i[\"email\"]},{i[\"phone\"]},{i[\"country\"]},{i[\"address\"]},{i[\"job\"]}\\n'\n",
        "    f.write(s)"
      ],
      "metadata": {
        "id": "CsjCw3BJH58I"
      },
      "execution_count": null,
      "outputs": []
    },
    {
      "cell_type": "code",
      "source": [
        "!pip install xlsxwriter"
      ],
      "metadata": {
        "colab": {
          "base_uri": "https://localhost:8080/"
        },
        "id": "tqW8J5icJZ6r",
        "outputId": "1efd2f8e-8cc3-43dc-84b1-25d2fc6d4326"
      },
      "execution_count": null,
      "outputs": [
        {
          "output_type": "stream",
          "name": "stdout",
          "text": [
            "Collecting xlsxwriter\n",
            "  Downloading XlsxWriter-3.1.9-py3-none-any.whl (154 kB)\n",
            "\u001b[?25l     \u001b[90m━━━━━━━━━━━━━━━━━━━━━━━━━━━━━━━━━━━━━━━━\u001b[0m \u001b[32m0.0/154.8 kB\u001b[0m \u001b[31m?\u001b[0m eta \u001b[36m-:--:--\u001b[0m\r\u001b[2K     \u001b[91m━━━━━━━━━━━━━━━━━━━━━\u001b[0m\u001b[90m╺\u001b[0m\u001b[90m━━━━━━━━━━━━━━━━━━\u001b[0m \u001b[32m81.9/154.8 kB\u001b[0m \u001b[31m2.5 MB/s\u001b[0m eta \u001b[36m0:00:01\u001b[0m\r\u001b[2K     \u001b[90m━━━━━━━━━━━━━━━━━━━━━━━━━━━━━━━━━━━━━━━━\u001b[0m \u001b[32m154.8/154.8 kB\u001b[0m \u001b[31m3.1 MB/s\u001b[0m eta \u001b[36m0:00:00\u001b[0m\n",
            "\u001b[?25hInstalling collected packages: xlsxwriter\n",
            "Successfully installed xlsxwriter-3.1.9\n"
          ]
        }
      ]
    },
    {
      "cell_type": "code",
      "source": [
        "# 부록\n",
        "# 엑셀라이터\n",
        "# 복습x"
      ],
      "metadata": {
        "id": "ImQuE7zgJc4S"
      },
      "execution_count": null,
      "outputs": []
    },
    {
      "cell_type": "code",
      "source": [
        "# 워크북(엑셀 파일 1개)\n",
        "# 워크시트(sheet)\n",
        "# 셀(네모 칸 하나)"
      ],
      "metadata": {
        "id": "CaxxEnOAJqom"
      },
      "execution_count": null,
      "outputs": []
    },
    {
      "cell_type": "code",
      "source": [
        "# 파이썬으로 엑셀파일 만들기...와우...\n",
        "import xlsxwriter\n",
        "\n",
        "workbook = xlsxwriter.Workbook('hello.xlsx')\n",
        "worksheet = workbook.add_worksheet('test')\n",
        "\n",
        "import xlsxwriter\n",
        "\n",
        "workbook = xlsxwriter.Workbook('hello.xlsx')\n",
        "worksheet = workbook.add_worksheet('test')\n",
        "\n",
        "worksheet.write('A1', 'A')\n",
        "worksheet.write('B1', 'B')\n",
        "worksheet.write('C1', 'C')\n",
        "worksheet.write('A2', 'D')\n",
        "worksheet.write('B2', 'E')\n",
        "worksheet.write('C2', 'F')\n",
        "\n",
        "worksheet.write(2, 0, 'hello')\n",
        "worksheet.write(2, 1, 'world')\n",
        "worksheet.write(2, 2, 'hojun')\n",
        "\n",
        "workbook.close()"
      ],
      "metadata": {
        "id": "_PyrMml7KM-q"
      },
      "execution_count": null,
      "outputs": []
    },
    {
      "cell_type": "code",
      "source": [
        "for i in zip('ABC', 철수, 영희):\n",
        "    print(f'{i[0]}4', i[1]+i[2])"
      ],
      "metadata": {
        "colab": {
          "base_uri": "https://localhost:8080/"
        },
        "id": "SPBWViDNMVkS",
        "outputId": "37bd375e-18b5-4341-e80e-580c860bc418"
      },
      "execution_count": null,
      "outputs": [
        {
          "output_type": "stream",
          "name": "stdout",
          "text": [
            "A4 50\n",
            "B4 70\n",
            "C4 90\n"
          ]
        }
      ]
    },
    {
      "cell_type": "code",
      "source": [
        "import xlsxwriter\n",
        "\n",
        "workbook = xlsxwriter.Workbook('hello.xlsx')\n",
        "worksheet = workbook.add_worksheet('test')\n",
        "\n",
        "철수 = [10, 20, 30]\n",
        "영희 = [40, 50, 60]\n",
        "\n",
        "worksheet.write('A1', '국')\n",
        "worksheet.write('B1', '영')\n",
        "worksheet.write('C1', '수')\n",
        "worksheet.write('A2', 철수[0])\n",
        "worksheet.write('B2', 철수[1])\n",
        "worksheet.write('C2', 철수[2])\n",
        "worksheet.write('A3', 영희[0])\n",
        "worksheet.write('B3', 영희[1])\n",
        "worksheet.write('C3', 영희[2])\n",
        "\n",
        "for i in zip('ABC', 철수, 영희):\n",
        "    worksheet.write(f'{i[0]}4', i[1] + i[2])\n",
        "    # f-string 첫번째 인자 숫자'4'의 의미는 엑셀 행 번호를 의미함\n",
        "    #  \"                       i[0]의 의미는 A, B, C를 의미\n",
        "\n",
        "# D2에 평균 텍스트 삽입\n",
        "worksheet.write('D1', '평균')\n",
        "# 수식삽입\n",
        "worksheet.write('D2', '=sum(A2:C2)/3')\n",
        "worksheet.write('D3', '=sum(A3:C3)/3')\n",
        "\n",
        "\n",
        "workbook.close()"
      ],
      "metadata": {
        "id": "xRWj0lmxMmtl"
      },
      "execution_count": null,
      "outputs": []
    },
    {
      "cell_type": "code",
      "source": [
        "# 크롤링\n",
        "# 웹 크롤링 -> 엑셀\n",
        "# pdf 크롤링 -> 엑셀\n",
        "# 한글 크롤링 -> 엑셀\n",
        "\n",
        "# 파일 형식 변환\n",
        "# CSV -> xlsx\n",
        "# Json -> xlsx\n",
        "\n",
        "# 매크로\n",
        "# 매크로 작동 로직 -> 엑"
      ],
      "metadata": {
        "id": "dxOgHO3CNpTw"
      },
      "execution_count": null,
      "outputs": []
    },
    {
      "cell_type": "code",
      "source": [
        "# 미션3\n",
        "# html로 table로 정리하기 -> table 클릭하면 정렬되게하기\n"
      ],
      "metadata": {
        "id": "iZADso-sOa4M"
      },
      "execution_count": null,
      "outputs": []
    },
    {
      "cell_type": "code",
      "source": [
        "db_data"
      ],
      "metadata": {
        "colab": {
          "base_uri": "https://localhost:8080/"
        },
        "id": "bTR0xMx-OqJ1",
        "outputId": "446df041-183d-4a7d-aae6-420e8abcbbfb"
      },
      "execution_count": null,
      "outputs": [
        {
          "output_type": "execute_result",
          "data": {
            "text/plain": [
              "[{'_id': '7f5440ab-7e2f-4a42-Be13-89987fa65b32',\n",
              "  'index': '1',\n",
              "  'name': '등윤상',\n",
              "  'email': 'user-qe89s09@ut.io',\n",
              "  'phone': '010-3542-7711',\n",
              "  'country': '키리바시',\n",
              "  'address': '방학로 74-9',\n",
              "  'job': '일러스트레이터'},\n",
              " {'_id': 'b4f7ade0-38bb-4e6f-B94a-18af1426eb30',\n",
              "  'index': '2',\n",
              "  'name': '노동규',\n",
              "  'email': 'user-nyr5mqw@ornare.com',\n",
              "  'phone': '010-9743-6320',\n",
              "  'country': '베냉',\n",
              "  'address': '남부순환로 54-6',\n",
              "  'job': '애완동물미용사'},\n",
              " {'_id': '5d788255-8d5e-4f03-B446-dbac6a147e37',\n",
              "  'index': '3',\n",
              "  'name': '경진아',\n",
              "  'email': 'user-n7pey4v@Etiam.biz',\n",
              "  'phone': '010-4049-8718',\n",
              "  'country': '아르메니아',\n",
              "  'address': '강남대로 87-5',\n",
              "  'job': '플로리스트'},\n",
              " {'_id': '083efce4-17ed-4e9f-Ad7c-f9aa0ac6cb79',\n",
              "  'index': '4',\n",
              "  'name': '복소유',\n",
              "  'email': 'user-ohaz2is@nibh.biz',\n",
              "  'phone': '010-3400-5945',\n",
              "  'country': '페루',\n",
              "  'address': '양산로 78-1',\n",
              "  'job': '응급구조사'},\n",
              " {'_id': 'd54ce0fa-c025-4af6-Cd9a-b9d10aa8be5a',\n",
              "  'index': '5',\n",
              "  'name': '화예빈',\n",
              "  'email': 'user-mnkpdlp@vel.net',\n",
              "  'phone': '010-3120-8720',\n",
              "  'country': '허드 및 맥도널드 제도',\n",
              "  'address': '한남대로 6-2',\n",
              "  'job': '전문의사'}]"
            ]
          },
          "metadata": {},
          "execution_count": 30
        }
      ]
    },
    {
      "cell_type": "code",
      "source": [
        "s = '''\n",
        "<style>\n",
        "    table {\n",
        "        border-collapse: collapse;\n",
        "        width: 100%;\n",
        "        border: 1px solid black;\n",
        "    }\n",
        "    tr, td, th {\n",
        "        border: 1px solid black;\n",
        "    }\n",
        "</style>\n",
        "<table>\n",
        "    <tr>\n",
        "        <th>아이디</th>\n",
        "        <th>인덱스</th>\n",
        "        <th>이름</th>\n",
        "        <th>이메일</th>\n",
        "        <th>휴대폰</th>\n",
        "        <th>나라</th>\n",
        "        <th>주소</th>\n",
        "        <th>직업</th>\n",
        "    </tr>\n",
        "'''\n",
        "s += f'''\n",
        "<tr>\n",
        "        <td>{db_data[0][\"_id\"]}</td>\n",
        "        <td>{db_data[0][\"index\"]}</td>\n",
        "        <td>{db_data[0][\"name\"]}</td>\n",
        "        <td>{db_data[0][\"email\"]}</td>\n",
        "        <td>{db_data[0][\"phone\"]}</td>\n",
        "        <td>{db_data[0][\"country\"]}</td>\n",
        "        <td>{db_data[0][\"address\"]}</td>\n",
        "        <td>{db_data[0][\"job\"]}</td>\n",
        "    </tr>\n",
        "</table>'''\n",
        "s"
      ],
      "metadata": {
        "colab": {
          "base_uri": "https://localhost:8080/",
          "height": 127
        },
        "id": "CCkh7JGQPpS6",
        "outputId": "22190af1-f3cb-4faf-b562-526d3a26549a"
      },
      "execution_count": null,
      "outputs": [
        {
          "output_type": "execute_result",
          "data": {
            "text/plain": [
              "'\\n<style>\\n    table {\\n        border-collapse: collapse;\\n        width: 100%;\\n        border: 1px solid black;\\n    }\\n    tr, td, th {\\n        border: 1px solid black;\\n    }\\n</style>\\n<table>\\n    <tr>\\n        <th>아이디</th>\\n        <th>인덱스</th>\\n        <th>이름</th>\\n        <th>이메일</th>\\n        <th>휴대폰</th>\\n        <th>나라</th>\\n        <th>주소</th>\\n        <th>직업</th>\\n    </tr>\\n    <tr>\\n        <td>hojun</td>\\n        <td>hojun</td>\\n        <td>hojun</td>\\n        <td>hojun</td>\\n        <td>hojun</td>\\n        <td>hojun</td>\\n        <td>hojun</td>\\n        <td>hojun</td>\\n    </tr>\\n</table>\\n'"
            ],
            "application/vnd.google.colaboratory.intrinsic+json": {
              "type": "string"
            }
          },
          "metadata": {},
          "execution_count": 31
        }
      ]
    },
    {
      "cell_type": "code",
      "source": [
        "s = '''\n",
        "<style>\n",
        "    table {\n",
        "        border-collapse: collapse;\n",
        "        width: 100%;\n",
        "        border: 1px solid black;\n",
        "    }\n",
        "    tr, td, th {\n",
        "        border: 1px solid black;\n",
        "    }\n",
        "</style>\n",
        "<table>\n",
        "    <tr>\n",
        "        <th>아이디</th>\n",
        "        <th>인덱스</th>\n",
        "        <th>이름</th>\n",
        "        <th>이메일</th>\n",
        "        <th>휴대폰</th>\n",
        "        <th>나라</th>\n",
        "        <th>주소</th>\n",
        "        <th>직업</th>\n",
        "    </tr>\n",
        "'''\n",
        "\n",
        "for item in db_data:\n",
        "    s += f'''\n",
        "        <tr>\n",
        "                <td>{item[\"_id\"]}</td>\n",
        "                <td>{item[\"index\"]}</td>\n",
        "                <td>{item[\"name\"]}</td>\n",
        "                <td>{item[\"email\"]}</td>\n",
        "                <td>{item[\"phone\"]}</td>\n",
        "                <td>{item[\"country\"]}</td>\n",
        "                <td>{item[\"address\"]}</td>\n",
        "                <td>{item[\"job\"]}</td>\n",
        "        </tr>\n",
        "        '''\n",
        "\n",
        "s += '</table>'\n",
        "\n",
        "with open('test.html', 'w') as f:\n",
        "    f.write(s)"
      ],
      "metadata": {
        "id": "OmUiBCSuW9ys"
      },
      "execution_count": null,
      "outputs": []
    },
    {
      "cell_type": "code",
      "source": [
        "f = open('data.csv', 'r')\n",
        "while True:\n",
        "    line = f.readline() #readline : 한 라인씩 읽어옴\n",
        "    if not line:\n",
        "        break\n",
        "    print(line, end='')\n",
        "f.close()"
      ],
      "metadata": {
        "colab": {
          "base_uri": "https://localhost:8080/"
        },
        "id": "K6wJUHxhXFAF",
        "outputId": "ecd82a3b-72b7-44ca-8157-dea1e36c5b57"
      },
      "execution_count": null,
      "outputs": [
        {
          "output_type": "stream",
          "name": "stdout",
          "text": [
            "아이디,인덱스,이름,이메일,휴대폰,나라,주소,직업\n",
            "7f5440ab-7e2f-4a42-Be13-89987fa65b32,1,등윤상,user-qe89s09@ut.io,010-3542-7711,키리바시,방학로 74-9,일러스트레이터\n",
            "b4f7ade0-38bb-4e6f-B94a-18af1426eb30,2,노동규,user-nyr5mqw@ornare.com,010-9743-6320,베냉,남부순환로 54-6,애완동물미용사\n",
            "5d788255-8d5e-4f03-B446-dbac6a147e37,3,경진아,user-n7pey4v@Etiam.biz,010-4049-8718,아르메니아,강남대로 87-5,플로리스트\n",
            "083efce4-17ed-4e9f-Ad7c-f9aa0ac6cb79,4,복소유,user-ohaz2is@nibh.biz,010-3400-5945,페루,양산로 78-1,응급구조사\n",
            "d54ce0fa-c025-4af6-Cd9a-b9d10aa8be5a,5,화예빈,user-mnkpdlp@vel.net,010-3120-8720,허드 및 맥도널드 제도,한남대로 6-2,전문의사\n"
          ]
        }
      ]
    },
    {
      "cell_type": "code",
      "source": [
        "f = open('data.csv', 'r')\n",
        "data = f.read()\n",
        "print(data)\n",
        "f.close()"
      ],
      "metadata": {
        "colab": {
          "base_uri": "https://localhost:8080/"
        },
        "id": "WorYbVoGXE6l",
        "outputId": "2ee6e96a-9569-4bc3-ff89-f72d34b8b2f2"
      },
      "execution_count": null,
      "outputs": [
        {
          "output_type": "stream",
          "name": "stdout",
          "text": [
            "아이디,인덱스,이름,이메일,휴대폰,나라,주소,직업\n",
            "7f5440ab-7e2f-4a42-Be13-89987fa65b32,1,등윤상,user-qe89s09@ut.io,010-3542-7711,키리바시,방학로 74-9,일러스트레이터\n",
            "b4f7ade0-38bb-4e6f-B94a-18af1426eb30,2,노동규,user-nyr5mqw@ornare.com,010-9743-6320,베냉,남부순환로 54-6,애완동물미용사\n",
            "5d788255-8d5e-4f03-B446-dbac6a147e37,3,경진아,user-n7pey4v@Etiam.biz,010-4049-8718,아르메니아,강남대로 87-5,플로리스트\n",
            "083efce4-17ed-4e9f-Ad7c-f9aa0ac6cb79,4,복소유,user-ohaz2is@nibh.biz,010-3400-5945,페루,양산로 78-1,응급구조사\n",
            "d54ce0fa-c025-4af6-Cd9a-b9d10aa8be5a,5,화예빈,user-mnkpdlp@vel.net,010-3120-8720,허드 및 맥도널드 제도,한남대로 6-2,전문의사\n",
            "\n"
          ]
        }
      ]
    },
    {
      "cell_type": "code",
      "source": [
        "f = open('data.csv', 'r')\n",
        "s = '<p>hello world!</p>'\n",
        "f.write(s)\n",
        "f.close()"
      ],
      "metadata": {
        "colab": {
          "base_uri": "https://localhost:8080/",
          "height": 239
        },
        "id": "Je73ODvxXYXR",
        "outputId": "99299b0e-aecc-4a93-c219-5118dd226f46"
      },
      "execution_count": null,
      "outputs": [
        {
          "output_type": "error",
          "ename": "UnsupportedOperation",
          "evalue": "not writable",
          "traceback": [
            "\u001b[0;31m---------------------------------------------------------------------------\u001b[0m",
            "\u001b[0;31mUnsupportedOperation\u001b[0m                      Traceback (most recent call last)",
            "\u001b[0;32m<ipython-input-39-11334bf6e6e7>\u001b[0m in \u001b[0;36m<cell line: 3>\u001b[0;34m()\u001b[0m\n\u001b[1;32m      1\u001b[0m \u001b[0mf\u001b[0m \u001b[0;34m=\u001b[0m \u001b[0mopen\u001b[0m\u001b[0;34m(\u001b[0m\u001b[0;34m'data.csv'\u001b[0m\u001b[0;34m,\u001b[0m \u001b[0;34m'r'\u001b[0m\u001b[0;34m)\u001b[0m\u001b[0;34m\u001b[0m\u001b[0;34m\u001b[0m\u001b[0m\n\u001b[1;32m      2\u001b[0m \u001b[0ms\u001b[0m \u001b[0;34m=\u001b[0m \u001b[0;34m'<p>hello world!</p>'\u001b[0m\u001b[0;34m\u001b[0m\u001b[0;34m\u001b[0m\u001b[0m\n\u001b[0;32m----> 3\u001b[0;31m \u001b[0mf\u001b[0m\u001b[0;34m.\u001b[0m\u001b[0mwrite\u001b[0m\u001b[0;34m(\u001b[0m\u001b[0ms\u001b[0m\u001b[0;34m)\u001b[0m\u001b[0;34m\u001b[0m\u001b[0;34m\u001b[0m\u001b[0m\n\u001b[0m\u001b[1;32m      4\u001b[0m \u001b[0mf\u001b[0m\u001b[0;34m.\u001b[0m\u001b[0mclose\u001b[0m\u001b[0;34m(\u001b[0m\u001b[0;34m)\u001b[0m\u001b[0;34m\u001b[0m\u001b[0;34m\u001b[0m\u001b[0m\n",
            "\u001b[0;31mUnsupportedOperation\u001b[0m: not writable"
          ]
        }
      ]
    },
    {
      "cell_type": "markdown",
      "source": [
        "# 비트연산"
      ],
      "metadata": {
        "id": "H2HGImV7YKPL"
      }
    },
    {
      "cell_type": "code",
      "source": [
        "# 비트 and 연산자 &는 두 비트열의 동일한 위치에 1이 있는 경우에만 1을 반환합니다.\n",
        "\n",
        "# 10진법\n",
        "# 1542 => 1 * (10**3) + 5 * (10**2) + 4 * (10 **1) + 2 * (10**0)\n",
        "# 16진법\n",
        "# 1542 => 1 * (16**3) + 5 * (16**2) + 4 * (16 **1) + 2 * (16**0)\n",
        "# 8진법\n",
        "# 1542 => 1 * (8**3) + 5 * (8**2) + 4 * (8 **1) + 2 * (8**0)\n"
      ],
      "metadata": {
        "id": "Gg0kHe-UYQ6y"
      },
      "execution_count": null,
      "outputs": []
    },
    {
      "cell_type": "code",
      "source": [
        "# 진법 변환\n",
        "\n",
        "#10진 == 2진\n",
        "1 == 1\n",
        "2 == 10\n",
        "4 == 100\n",
        "8 == 1000\n",
        "16 == 10000\n",
        "\n",
        "# 9는? 8 + 1 => 1000 + 1 => 1001\n",
        "# 15는? 16 - 1 => 10000 - 1 => 1111"
      ],
      "metadata": {
        "id": "iUM2pHH2ZWeP"
      },
      "execution_count": null,
      "outputs": []
    },
    {
      "cell_type": "code",
      "source": [
        "# 3 & 9\n",
        "# and 연산\n",
        "# 0011\n",
        "# 1001\n",
        "# ----\n",
        "# 0001"
      ],
      "metadata": {
        "colab": {
          "base_uri": "https://localhost:8080/",
          "height": 147
        },
        "id": "Z2gj7LTvZ6XR",
        "outputId": "386a15b2-369c-4a02-829c-6637138034e9"
      },
      "execution_count": null,
      "outputs": [
        {
          "output_type": "error",
          "ename": "SyntaxError",
          "evalue": "leading zeros in decimal integer literals are not permitted; use an 0o prefix for octal integers (<ipython-input-42-d188afd2384f>, line 3)",
          "traceback": [
            "\u001b[0;36m  File \u001b[0;32m\"<ipython-input-42-d188afd2384f>\"\u001b[0;36m, line \u001b[0;32m3\u001b[0m\n\u001b[0;31m    0011\u001b[0m\n\u001b[0m    ^\u001b[0m\n\u001b[0;31mSyntaxError\u001b[0m\u001b[0;31m:\u001b[0m leading zeros in decimal integer literals are not permitted; use an 0o prefix for octal integers\n"
          ]
        }
      ]
    },
    {
      "cell_type": "code",
      "source": [
        "# 3 | 9\n",
        "# or 연산\n",
        "# 0011\n",
        "# 1001\n",
        "# ----\n",
        "# 1011 -> 11"
      ],
      "metadata": {
        "id": "_0MrvUoNaXVI"
      },
      "execution_count": null,
      "outputs": []
    },
    {
      "cell_type": "code",
      "source": [
        "3 | 9"
      ],
      "metadata": {
        "colab": {
          "base_uri": "https://localhost:8080/"
        },
        "id": "8P6RwD4xauKp",
        "outputId": "6a5e9b3f-47f6-48c4-e922-ebf6172e14cb"
      },
      "execution_count": null,
      "outputs": [
        {
          "output_type": "execute_result",
          "data": {
            "text/plain": [
              "11"
            ]
          },
          "metadata": {},
          "execution_count": 44
        }
      ]
    },
    {
      "cell_type": "code",
      "source": [
        "매개변수\t값\n",
        "n\t5\n",
        "arr1\t[9, 20, 28, 18, 11]\n",
        "arr2\t[30, 1, 21, 17, 28]\n",
        "출력\t[\"#####\",\"# # #\", \"### #\", \"# ##\", \"#####\"]"
      ],
      "metadata": {
        "id": "4li7GV6Ecc3G"
      },
      "execution_count": null,
      "outputs": []
    },
    {
      "cell_type": "code",
      "source": [
        "bin(9 | 30)[2:]\n",
        "bin(9 | 30)[2:].replace('1', '#').replace('0', ' ')\n",
        "\n",
        "arr1=[9, 20, 28, 18, 11]\n",
        "arr2=[30, 1, 21, 17, 28]\n",
        "\n",
        "for i, j in zip(arr1, arr2): # 순회하면서 객체 꺼내서 묶\n",
        "    print(bin(i | j)[2:].replace('1', '#').replace('0', ' '))\n"
      ],
      "metadata": {
        "colab": {
          "base_uri": "https://localhost:8080/"
        },
        "id": "u_1zyetWdxH5",
        "outputId": "3a6be4b5-9357-494f-ddea-9298f3acdbbc"
      },
      "execution_count": null,
      "outputs": [
        {
          "output_type": "stream",
          "name": "stdout",
          "text": [
            "#####\n",
            "# # #\n",
            "### #\n",
            "#  ##\n",
            "#####\n"
          ]
        }
      ]
    },
    {
      "cell_type": "code",
      "source": [
        "bin(31)\n",
        "\n",
        "int('0b11111', 2)\n",
        "int('11111', 2)"
      ],
      "metadata": {
        "colab": {
          "base_uri": "https://localhost:8080/"
        },
        "id": "_3YNUHgrhkZq",
        "outputId": "306d2a05-4ebd-4fd1-b2ce-6e6c095b660e"
      },
      "execution_count": null,
      "outputs": [
        {
          "output_type": "execute_result",
          "data": {
            "text/plain": [
              "31"
            ]
          },
          "metadata": {},
          "execution_count": 53
        }
      ]
    },
    {
      "cell_type": "markdown",
      "source": [
        "# f-string"
      ],
      "metadata": {
        "id": "kRdbIDWjiHSb"
      }
    },
    {
      "cell_type": "code",
      "source": [
        "#print에 들어가는 문자열 만들기\n",
        "name = '이호준'\n",
        "age = 10\n",
        "\n",
        "'제 이름은 %s 이고 제 나이는 %d입니다.'%(name, age) # %용법\n",
        "'제 이름은 {}이고 제 나이는 {}입니다.'.format(name, age) # format용법\n",
        "f'제 이름은 {name}이고 제 나이는 {age}입니다.' #f-string용법(권)"
      ],
      "metadata": {
        "colab": {
          "base_uri": "https://localhost:8080/",
          "height": 35
        },
        "id": "rggCobpbiJIt",
        "outputId": "bf943db8-cef6-4768-ca53-bda1d22d3fdc"
      },
      "execution_count": null,
      "outputs": [
        {
          "output_type": "execute_result",
          "data": {
            "text/plain": [
              "'제 이름은 이호준이고 제 나이는 10입니다.'"
            ],
            "application/vnd.google.colaboratory.intrinsic+json": {
              "type": "string"
            }
          },
          "metadata": {},
          "execution_count": 57
        }
      ]
    },
    {
      "cell_type": "code",
      "source": [
        "# format과 f-string\n",
        "삼 = '짝'*3\n",
        "칠 = '짝'*7\n",
        "print('삼삼칠 박수 : {0}!!! {0}!!! {1}!!! '.format(삼, 칠))\n",
        "print(f'삼삼칠 박수 : {삼}!!! {삼}!!! {칠}!!!')"
      ],
      "metadata": {
        "colab": {
          "base_uri": "https://localhost:8080/"
        },
        "id": "0pPcom94jWad",
        "outputId": "ae7cddd7-689c-4edb-fd36-65706a5ebffc"
      },
      "execution_count": null,
      "outputs": [
        {
          "output_type": "stream",
          "name": "stdout",
          "text": [
            "삼삼칠 박수 : 짝짝짝!!! 짝짝짝!!! 짝짝짝짝짝짝짝!!! \n",
            "삼삼칠 박수 : 짝짝짝!!! 짝짝짝!!! 짝짝짝짝짝짝짝!!!\n"
          ]
        }
      ]
    },
    {
      "cell_type": "code",
      "source": [
        "#소수점 두번째자리까지\n",
        "\n",
        "one_length = 5.343123123\n",
        "\n",
        "\n",
        "print(f'{one_length}입니다.')\n",
        "print(f'{one_length:.1f} 입니다.')\n",
        "print('{0:.2f}'.format(one_length))\n",
        "print('{:.2f}'.format(one_length))\n",
        "\n"
      ],
      "metadata": {
        "colab": {
          "base_uri": "https://localhost:8080/"
        },
        "id": "ppY_QX0ZkFZ9",
        "outputId": "b8bb7592-36e0-428e-ca4d-1e6b7b325021"
      },
      "execution_count": null,
      "outputs": [
        {
          "output_type": "stream",
          "name": "stdout",
          "text": [
            "5.343123123입니다.\n",
            "5.3 입니다.\n",
            "5.34\n",
            "5.34\n"
          ]
        }
      ]
    },
    {
      "cell_type": "code",
      "source": [
        "#정렬하기\n",
        "\n",
        "age = 100\n",
        "\n",
        "print('당신의 나이는 [{:^15}]세'.format(22))\n",
        "print(f'당신의 나이는 [{age:^15}]세') # 가운데 정렬\n",
        "print(f'당신의 나이는 [{age:<15}]세') # 왼쪽 정렬\n",
        "print(f'당신의 나이는 [{age:>15}]세') # 오른쪽 정렬\n",
        "print(f'당신의 나이는 [{age:#^15}]세') # 남는 공간 '#'으로 채우고 가운데정렬\n",
        "print(f'당신의 나이는 [{age:=^15}]세') # 남는 공간 '='으로 채우고 가운데정렬\n",
        "\n",
        "\n",
        "\n",
        "\n"
      ],
      "metadata": {
        "colab": {
          "base_uri": "https://localhost:8080/"
        },
        "id": "HDy14D26klht",
        "outputId": "02c3cfe3-2878-42b0-ce9e-eb124d1f7bd9"
      },
      "execution_count": null,
      "outputs": [
        {
          "output_type": "stream",
          "name": "stdout",
          "text": [
            "당신의 나이는 [      22       ]세\n",
            "당신의 나이는 [      100      ]세\n",
            "당신의 나이는 [100            ]세\n",
            "당신의 나이는 [            100]세\n",
            "당신의 나이는 [######100######]세\n",
            "당신의 나이는 [======100======]세\n"
          ]
        }
      ]
    },
    {
      "cell_type": "code",
      "source": [
        "age = 10\n",
        "print(f\"My set is {{age*1, age*2, age*3}}.\")  # 출력: My set is {age*1, age*2, age*3}}.\n",
        "print(f\"My set is {{{age*1, age*2, age*3}}}.\")  # 출력: My set is {10}.\n",
        "# 중괄호 3개로 표현해야 중괄호 표현 + 변수 들어와서 계산됨."
      ],
      "metadata": {
        "colab": {
          "base_uri": "https://localhost:8080/"
        },
        "id": "1Ac1hTe8ldYs",
        "outputId": "5b08ad32-fd38-4168-83f9-c52e0f2fe4f4"
      },
      "execution_count": null,
      "outputs": [
        {
          "output_type": "stream",
          "name": "stdout",
          "text": [
            "My set is {(10, 20, 30)}.\n"
          ]
        }
      ]
    },
    {
      "cell_type": "code",
      "source": [
        "#컴프리헨션\n",
        "\n",
        "l = []\n",
        "\n",
        "for i in range(2, 10):\n",
        "    for j in range(1, 10):\n",
        "        l.append(f'{i}*{j}={i*j}')\n",
        "\n",
        "l"
      ],
      "metadata": {
        "id": "6v57UbiNmV5_"
      },
      "execution_count": null,
      "outputs": []
    },
    {
      "cell_type": "code",
      "source": [
        "[f'{i}*{j}={i*j}' for i in range(2, 10) for j in range(1, 10)]"
      ],
      "metadata": {
        "id": "5V3VJC0tmmkt"
      },
      "execution_count": null,
      "outputs": []
    },
    {
      "cell_type": "markdown",
      "source": [
        "# 비동기와 코루틴\n",
        "\n",
        "1. 비동기\n",
        "; 비동기 프로그래밍이란 프로그램의 흐름을 블록(block)하지 않고 다른 작업을 계속 진행할 수 있도록 하는 프로그래밍 패러다임입니다. 즉, 하나의 작업이 완료될 때까지 기다리지 않고 다른 작업을 진행"
      ],
      "metadata": {
        "id": "_WigSoWnnQBd"
      }
    },
    {
      "cell_type": "code",
      "source": [
        "!pip install nest_asyncio"
      ],
      "metadata": {
        "colab": {
          "base_uri": "https://localhost:8080/"
        },
        "id": "j86I8Q74nRdh",
        "outputId": "fc51f30b-2999-4f68-f9a6-f8319d7a00c7"
      },
      "execution_count": null,
      "outputs": [
        {
          "output_type": "stream",
          "name": "stdout",
          "text": [
            "Requirement already satisfied: nest_asyncio in /usr/local/lib/python3.10/dist-packages (1.5.8)\n"
          ]
        }
      ]
    },
    {
      "cell_type": "code",
      "source": [
        "import nest_asyncio\n",
        "\n",
        "nest_asyncio.apply()"
      ],
      "metadata": {
        "id": "SiRb3cjMoseb"
      },
      "execution_count": null,
      "outputs": []
    },
    {
      "cell_type": "code",
      "source": [
        "#동기\n",
        "import time\n",
        "\n",
        "def job(number):\n",
        "    print(f\"Job {number} started\")\n",
        "    time.sleep(1)  # 매우 오래 걸리는 작업, 일반 sleep은 CPU를 쉬게 합니다.\n",
        "    print(f\"Job {number} completed\")\n",
        "\n",
        "job(1)\n",
        "job(2)\n",
        "job(3)"
      ],
      "metadata": {
        "colab": {
          "base_uri": "https://localhost:8080/"
        },
        "id": "dp8alAW5oxjM",
        "outputId": "5b8f1bd8-319d-418e-e93e-67437d1d19eb"
      },
      "execution_count": null,
      "outputs": [
        {
          "output_type": "stream",
          "name": "stdout",
          "text": [
            "Job 1 started\n",
            "Job 1 completed\n",
            "Job 2 started\n",
            "Job 2 completed\n",
            "Job 3 started\n",
            "Job 3 completed\n"
          ]
        }
      ]
    },
    {
      "cell_type": "code",
      "source": [
        "# colab에서 작동하는 코드\n",
        "# 기본은 colab에서 작동하지 않습니다.\n",
        "import asyncio\n",
        "\n",
        "async def job(number):\n",
        "    print(f\"Job {number} started\")\n",
        "    await asyncio.sleep(1) # 주의! 매우 오래 걸리는 작업, asyncio.sleep은 비동기 처리를 할 수 있도록 합니다.(다른 작업이 가능합니다.)\n",
        "    print(f\"Job {number} completed\")\n",
        "\n",
        "async def main(): #async를 주면 비동기 함수가 됩니다.\n",
        "    await asyncio.gather(job(1), job(2), job(3)) # await asyncio.wait([job(1), job(2), job(3)])\n",
        "\n",
        "asyncio.run(main()) #이 함수적용하면 따른 루트로 돌아가고: 비동기\n",
        "print('hello world')"
      ],
      "metadata": {
        "colab": {
          "base_uri": "https://localhost:8080/"
        },
        "id": "1OU4B5Vuo2th",
        "outputId": "dbb45692-6556-4694-ec81-91337190779d"
      },
      "execution_count": null,
      "outputs": [
        {
          "output_type": "stream",
          "name": "stdout",
          "text": [
            "Job 1 started\n",
            "Job 2 started\n",
            "Job 3 started\n",
            "Job 1 completed\n",
            "Job 2 completed\n",
            "Job 3 completed\n",
            "hello world\n"
          ]
        }
      ]
    },
    {
      "cell_type": "code",
      "source": [
        "import asyncio\n",
        "\n",
        "async def job(number):\n",
        "    print(f\"Job {number} started\")\n",
        "    await asyncio.sleep(1)  # 매우 오래 걸리는 작업\n",
        "    print(f\"Job {number} completed\")\n",
        "\n",
        "await job(1)\n",
        "await job(2)\n",
        "await job(3)"
      ],
      "metadata": {
        "colab": {
          "base_uri": "https://localhost:8080/"
        },
        "id": "EMtD_1-PpDSZ",
        "outputId": "dec64e62-deed-4f1a-db8b-772634b50f93"
      },
      "execution_count": null,
      "outputs": [
        {
          "output_type": "stream",
          "name": "stdout",
          "text": [
            "Job 1 started\n",
            "Job 1 completed\n",
            "Job 2 started\n",
            "Job 2 completed\n",
            "Job 3 started\n",
            "Job 3 completed\n"
          ]
        }
      ]
    },
    {
      "cell_type": "code",
      "source": [
        "# 코루틴\n",
        "\n",
        "def job():\n",
        "    print('job')\n",
        "\n",
        "print(job)"
      ],
      "metadata": {
        "colab": {
          "base_uri": "https://localhost:8080/"
        },
        "id": "hGDo1j-_rQjW",
        "outputId": "1baf05e5-a051-4cc5-c2e1-c933fb054187"
      },
      "execution_count": null,
      "outputs": [
        {
          "output_type": "stream",
          "name": "stdout",
          "text": [
            "<function job at 0x7c1fb97723b0>\n"
          ]
        }
      ]
    },
    {
      "cell_type": "code",
      "source": [
        "async def job():\n",
        "    print('job')\n",
        "\n",
        "print(job) # <function job at 0x7fc8cb38ef80>\n",
        "job() # <coroutine object job at 0x7fc8cb32bc30>, print('job')이 실행되진 않습니다!\n",
        "#비동기로 실행시켜줘야 실행됨.asyncio.run()"
      ],
      "metadata": {
        "colab": {
          "base_uri": "https://localhost:8080/"
        },
        "id": "wWPO8ypbrYYh",
        "outputId": "65f0ed26-3945-4823-f165-d4a69141b0ea"
      },
      "execution_count": null,
      "outputs": [
        {
          "output_type": "stream",
          "name": "stdout",
          "text": [
            "<function job at 0x7c1fb97731c0>\n"
          ]
        },
        {
          "output_type": "execute_result",
          "data": {
            "text/plain": [
              "<coroutine object job at 0x7c1fb96e4900>"
            ]
          },
          "metadata": {},
          "execution_count": 88
        }
      ]
    },
    {
      "cell_type": "code",
      "source": [
        "async def job():\n",
        "    print('job')\n",
        "\n",
        "async def main():\n",
        "    return await job()\n",
        "\n",
        "print(main()) # <coroutine object main at 0x7fc8cb22bf40>\n",
        "print(await main()) # None\n",
        "asyncio.run(main()) # 코루틴 자체를 실행하려면 비동기 실행 함수를 적용해줘야함."
      ],
      "metadata": {
        "colab": {
          "base_uri": "https://localhost:8080/"
        },
        "id": "tdPa9XZ_refx",
        "outputId": "4b6024f1-2edb-4608-b605-c95f39c50629"
      },
      "execution_count": null,
      "outputs": [
        {
          "output_type": "stream",
          "name": "stdout",
          "text": [
            "<coroutine object main at 0x7c1fb95e5a10>\n",
            "job\n",
            "None\n",
            "job\n"
          ]
        },
        {
          "output_type": "stream",
          "name": "stderr",
          "text": [
            "<ipython-input-89-6f8b275b5f44>:7: RuntimeWarning: coroutine 'main' was never awaited\n",
            "  print(main()) # <coroutine object main at 0x7fc8cb22bf40>\n",
            "RuntimeWarning: Enable tracemalloc to get the object allocation traceback\n"
          ]
        }
      ]
    },
    {
      "cell_type": "markdown",
      "source": [
        "# 정규표현식 - 별 2개\n",
        "\n",
        "- 유효성 검증(validator)\n",
        "- 문자열 처리\n",
        "- 코딩테스트\n",
        "\n",
        "\n"
      ],
      "metadata": {
        "id": "B5nhnlwL9ogl"
      }
    },
    {
      "cell_type": "code",
      "source": [
        "# https://regexr.com/5nvc2\n"
      ],
      "metadata": {
        "id": "MEeJ7uHy9qv9"
      },
      "execution_count": null,
      "outputs": []
    },
    {
      "cell_type": "code",
      "source": [
        "010[- .][0-9][0-9][0-9][0-9][- .][0-9][0-9][0-9][0-9]\n",
        "\n",
        "\n",
        "\n",
        "_* : 앞에 있는 문자가 0개 ~ N개\n",
        "_+ : 앞에 있는 문자가 1개 ~ N개\n",
        "_? : 앞에 있는 문자가 0개 ~ 1개\n",
        "010[- .]?[0-9][0-9][0-9][0-9][- .]?[0-9][0-9][0-9][0-9]\n",
        "\n",
        "{3} : 3개\n",
        "{3,} : 3개 이상\n",
        "{1,3} : 1개 ~ 3개\n",
        "010[- .]?[0-9]{4}[- .]?[0-9]{4}\n",
        "\n",
        "_* : 앞에 있는 문자가 0개 ~ N개 ({0,})\n",
        "_+ : 앞에 있는 문자가 1개 ~ N개({1,})\n",
        "_? : 앞에 있는 문자가 0개 ~ 1개 ({0,1})\n",
        "\n",
        "/[0-9]{3}[-.* ][0-9]{4}[-.* ][0-9]{4}/gm\n",
        "#전화번호\n",
        "/[0-9a-zA-Z]{2,3}[-.* ][0-9]{3,4}[-.* ][0-9]{4}/gm\n",
        "/[0-9]{2,3}[-.* ][0-9]{3,4}[-.* ][0-9]{4}/gm\n",
        "[0-9]{2,3}[-.* ]?[0-9]{3,4}[-.* ]?[0-9]{4}\n",
        "\n",
        "# 이메일\n",
        "/[0-9a-zA-Z]+@[0-9a-zA-Z]+.[a-zA-Z]+/gm\n",
        "[a-zA-Z0-9+-_.]+@[a-zA-Z0-9-]+\\.[a-zA-Z0-9-.]+\n",
        "\n",
        "#캐릭터클래스\n",
        "\n",
        "/\\w/gm : 워드\n",
        "/\\w{5} /gm : 5개의 글자와 스페이스 하나\n",
        "/\\W/gm : not 워드\n",
        "/\\d/gm : 숫자\n",
        "/\\D/gm : not 숫자\n",
        "/\\s/gm : 스페이스\n",
        "/\\S/gm : not 스페이스\n",
        "\n",
        "\\d{3}[- .]?\\d{3,4}[- .]?\\d{4}$\n",
        "\n",
        "/\\[.*]/gm : 대괄호([]) 안에 감싸여진 문자열\n",
        "/\\(.*\\)/gm : 소괄호 안에 감싸여진 문자열\n",
        "/\\\\.*\\//gm : 이미 사용되고 있는 특수문자로 감싸여진 문자열\n",
        "/-.*-/gm : 이스케이프 문자를 사용할 필요가 없는 경우\n",
        "/\\^\\^/gm : 이스케이프 문자가 필요한 경우\n",
        "/:\\)/gm : 이스케이프 문자가 필요한 경우\n",
        "\\[.*\\], \\[.*\\]"
      ],
      "metadata": {
        "id": "21pYMcOwBUrD"
      },
      "execution_count": null,
      "outputs": []
    },
    {
      "cell_type": "code",
      "source": [
        "# 사용되는 패턴\n",
        "# 1\n",
        "p = re.compile(r'([0-9]|10)([SDT])([\\*\\#]?)')\n",
        "p.findall('1S2D*3T')\n",
        "\n",
        "# 2\n",
        "re.findall(r'([0-9]|10)([SDT])([\\*\\#]?)', '1S2D*3T')\n",
        "\n",
        "# 자주 사용하는 메서드\n",
        "sub() : 매치된 부분을 치환 (str에 replace와 같은 역활) # 가장 많이 사용.\n",
        "findall() : 매치된 부분 모두 리스트 반환"
      ],
      "metadata": {
        "id": "tt8Qae09Kw1P"
      },
      "execution_count": null,
      "outputs": []
    },
    {
      "cell_type": "code",
      "source": [
        "# 1S // 2D* // 3T\n",
        "# 스타상, 아차상 빼고 진행\n",
        "# 함정!\n",
        "# 문자열 문자의 함정\n",
        "\n",
        "l = []\n",
        "for i in '1S2D*10T':\n",
        "    if i.isdigit():\n",
        "        l.append(int(i))\n",
        "    elif i == 'S':\n",
        "        l[-1] = l[-1] ** 1\n",
        "    elif i == 'D':\n",
        "        l[-1] = l[-1] ** 2\n",
        "    elif i == 'T':\n",
        "        l[-1] = l[-1] ** 3\n",
        "\n",
        "sum(l)"
      ],
      "metadata": {
        "colab": {
          "base_uri": "https://localhost:8080/"
        },
        "id": "6VtxTdBrK3aV",
        "outputId": "8923adb4-2efe-452f-e05e-346eff344ae8"
      },
      "execution_count": 107,
      "outputs": [
        {
          "output_type": "execute_result",
          "data": {
            "text/plain": [
              "6"
            ]
          },
          "metadata": {},
          "execution_count": 107
        }
      ]
    },
    {
      "cell_type": "markdown",
      "source": [
        "## findall"
      ],
      "metadata": {
        "id": "E6F3b9J_P5Kj"
      }
    },
    {
      "cell_type": "code",
      "source": [
        "import re\n",
        "\n",
        "list(re.findall(r'([0-9]|10)([SDT])([\\*\\#]?)', '1S2D*3T'))"
      ],
      "metadata": {
        "colab": {
          "base_uri": "https://localhost:8080/"
        },
        "id": "zw7WlYvvLaKR",
        "outputId": "c18038c7-3bd8-418d-df83-e1e8c449e499"
      },
      "execution_count": 97,
      "outputs": [
        {
          "output_type": "execute_result",
          "data": {
            "text/plain": [
              "[('1', 'S', ''), ('2', 'D', '*'), ('3', 'T', '')]"
            ]
          },
          "metadata": {},
          "execution_count": 97
        }
      ]
    },
    {
      "cell_type": "code",
      "source": [
        "d = {\n",
        "    'S' : 1,\n",
        "    'D' : 2,\n",
        "    'T' : 3\n",
        "}\n",
        "for 점수, 승수, 상 in re.findall(r'([0-9]|10)([SDT])([\\*\\#]?)', '1S2D*10T'):\n",
        "    print(int(점수) **d[승수])"
      ],
      "metadata": {
        "colab": {
          "base_uri": "https://localhost:8080/"
        },
        "id": "X1JBJAMnNU_t",
        "outputId": "fd43ca76-87e4-4244-9530-2cbb63b3b19a"
      },
      "execution_count": 101,
      "outputs": [
        {
          "output_type": "stream",
          "name": "stdout",
          "text": [
            "1\n",
            "4\n",
            "1000\n"
          ]
        }
      ]
    },
    {
      "cell_type": "code",
      "source": [
        "import re\n",
        "\n",
        "re.findall(r'([rev])(10|[0-9])', 'a10b9r1ce33uab8wc918v2cv11v9')"
      ],
      "metadata": {
        "colab": {
          "base_uri": "https://localhost:8080/"
        },
        "id": "vakvrXArN9p4",
        "outputId": "9fc0796f-b658-4857-fd48-2f09df08bade"
      },
      "execution_count": 108,
      "outputs": [
        {
          "output_type": "execute_result",
          "data": {
            "text/plain": [
              "[('r', '1'), ('e', '3'), ('v', '2'), ('v', '1'), ('v', '9')]"
            ]
          },
          "metadata": {},
          "execution_count": 108
        }
      ]
    },
    {
      "cell_type": "markdown",
      "source": [
        "## sub\n",
        "\n",
        "replace와 같음."
      ],
      "metadata": {
        "id": "X6RoaIJyP7ys"
      }
    },
    {
      "cell_type": "code",
      "source": [
        "# https://school.programmers.co.kr/learn/courses/30/lessons/120849\n",
        "\n",
        "\"nice to meet you\".replace('a', '').replace('e','').replace('i', '').replace('o','').replace('u','')"
      ],
      "metadata": {
        "colab": {
          "base_uri": "https://localhost:8080/",
          "height": 35
        },
        "id": "W0TSndQ2PlAh",
        "outputId": "0285f751-a0c2-48c6-c989-57def84ea7cd"
      },
      "execution_count": 110,
      "outputs": [
        {
          "output_type": "execute_result",
          "data": {
            "text/plain": [
              "'nc t mt y'"
            ],
            "application/vnd.google.colaboratory.intrinsic+json": {
              "type": "string"
            }
          },
          "metadata": {},
          "execution_count": 110
        }
      ]
    },
    {
      "cell_type": "code",
      "source": [
        "# 복습 x\n",
        "\n",
        "s = \"nice to meet you\"\n",
        "ch = s.maketrans(\"aeiou\",\"     \");\n",
        "\n",
        "print(s.translate(ch))"
      ],
      "metadata": {
        "colab": {
          "base_uri": "https://localhost:8080/"
        },
        "id": "bn7fbJCTQQyc",
        "outputId": "e4e761f2-2818-4253-9206-7458220ff327"
      },
      "execution_count": 113,
      "outputs": [
        {
          "output_type": "stream",
          "name": "stdout",
          "text": [
            "n c  t  m  t y  \n"
          ]
        }
      ]
    },
    {
      "cell_type": "code",
      "source": [
        "# 정규표현식 풀이\n",
        "import re\n",
        "\n",
        "def solution(my_string):\n",
        "    return re.sub(r\"[aeiou]\",\"\", my_string)"
      ],
      "metadata": {
        "id": "WLdgVimvQlzN"
      },
      "execution_count": 115,
      "outputs": []
    },
    {
      "cell_type": "code",
      "source": [
        "# 모든 문자열 제거하고 숫자를 더해주세요.\n",
        "\n",
        "import re\n",
        "def solution(my_string):\n",
        "    return re.sub(r\"[a-zA-Z]\", \"\", my_string)\n",
        "\n",
        "solution('hello1928ljwlie123slie21e1j3')"
      ],
      "metadata": {
        "colab": {
          "base_uri": "https://localhost:8080/",
          "height": 35
        },
        "id": "_7Hp2EY3RA2d",
        "outputId": "6c68cf4a-db10-429b-efd0-dce87aebbcba"
      },
      "execution_count": 116,
      "outputs": [
        {
          "output_type": "execute_result",
          "data": {
            "text/plain": [
              "'19281232113'"
            ],
            "application/vnd.google.colaboratory.intrinsic+json": {
              "type": "string"
            }
          },
          "metadata": {},
          "execution_count": 116
        }
      ]
    },
    {
      "cell_type": "code",
      "source": [
        "import re\n",
        "def solution(my_string):\n",
        "    sum(map(int, list(re.sub(r\"[a-zA-Z]\", \"\", my_string))))\n",
        "    return\n",
        "\n",
        "solution('hello1928ljwlie123slie21e1j3')"
      ],
      "metadata": {
        "id": "_jFbV_k7Rf6N"
      },
      "execution_count": 117,
      "outputs": []
    },
    {
      "cell_type": "code",
      "source": [
        "list(re.findall(r'[0-9]', 'hello1928ljwlie123slie21e1j3'))\n",
        "list(re.findall(r'[0-9]+', 'hello1928ljwlie123slie21e1j3'))"
      ],
      "metadata": {
        "colab": {
          "base_uri": "https://localhost:8080/"
        },
        "id": "AouchV0-SGSr",
        "outputId": "8ebf7c13-a1af-4269-f5ea-8268402f2f99"
      },
      "execution_count": 118,
      "outputs": [
        {
          "output_type": "execute_result",
          "data": {
            "text/plain": [
              "['1928', '123', '21', '1', '3']"
            ]
          },
          "metadata": {},
          "execution_count": 118
        }
      ]
    },
    {
      "cell_type": "code",
      "source": [
        "# 숫자가 아닌 것을 추출하세요\n",
        "\n",
        "import re\n",
        "my_string = 'aAb1B2cC34o0p'\n",
        "\n",
        "re.sub('\\d','', my_string)"
      ],
      "metadata": {
        "colab": {
          "base_uri": "https://localhost:8080/",
          "height": 35
        },
        "id": "MJ8ZgZzET-GK",
        "outputId": "5b73ad85-8d38-40e1-d85d-b40cbd96d58c"
      },
      "execution_count": 119,
      "outputs": [
        {
          "output_type": "execute_result",
          "data": {
            "text/plain": [
              "'aAbBcCop'"
            ],
            "application/vnd.google.colaboratory.intrinsic+json": {
              "type": "string"
            }
          },
          "metadata": {},
          "execution_count": 119
        }
      ]
    },
    {
      "cell_type": "code",
      "source": [
        "# 숫자만 추\n",
        "import re\n",
        "\n",
        "my_string = \"aAb1B2cC34oOp\"\n",
        "re.sub('[^1-9]', '', my_string)"
      ],
      "metadata": {
        "colab": {
          "base_uri": "https://localhost:8080/",
          "height": 35
        },
        "id": "b4STPveWUT1S",
        "outputId": "36d5ee42-c75d-4fc4-fa74-04353aeaf7e7"
      },
      "execution_count": 120,
      "outputs": [
        {
          "output_type": "execute_result",
          "data": {
            "text/plain": [
              "'1234'"
            ],
            "application/vnd.google.colaboratory.intrinsic+json": {
              "type": "string"
            }
          },
          "metadata": {},
          "execution_count": 120
        }
      ]
    },
    {
      "cell_type": "code",
      "source": [
        "# 복습 x\n",
        "\n",
        "import re\n",
        "\n",
        "print(re.sub(r'([0-9]{3})-([0-9]{4})-([0-9]{4})', r'\\1!\\2!\\3', '010-5000-3000'))\n",
        "print(re.sub(r'([0-9]{3})-([0-9]{4})-([0-9]{4})', r'\\1/\\2/\\3', '010-5000-3000'))\n",
        "print(re.sub(r'([0-9]{3})-([0-9]{4})-([0-9]{4})', r'[\\1][\\2][\\3]', '010-5000-3000'))\n",
        "print(re.sub(r'([0-9]{3})-([0-9]{4})-([0-9]{4})', r'지역번호: \\1 전화번호: \\2\\3', '010-5000-3000'))\n"
      ],
      "metadata": {
        "colab": {
          "base_uri": "https://localhost:8080/"
        },
        "id": "qr1oR31OUTyQ",
        "outputId": "a2126d2e-9b70-4d17-862a-9ab3f159c2c3"
      },
      "execution_count": 123,
      "outputs": [
        {
          "output_type": "stream",
          "name": "stdout",
          "text": [
            "010!5000!3000\n",
            "010/5000/3000\n",
            "[010][5000][3000]\n",
            "지역번호: 010 전화번호: 50003000\n"
          ]
        }
      ]
    },
    {
      "cell_type": "code",
      "source": [
        "# 복습 x\n",
        "# 시니어때는 이런 문법을 사용할 일이 있습니다.\n",
        "\n",
        "import re\n",
        "\n",
        "print(re.sub(r'(?P<one>[0-9]{3})-(?P<two>[0-9]{4})-(?P<three>[0-9]{4})', r'\\g<one>!\\g<two>!\\g<three>', '010-5000-3000'))"
      ],
      "metadata": {
        "colab": {
          "base_uri": "https://localhost:8080/"
        },
        "id": "GhhHaFD9X9vF",
        "outputId": "73818eaf-52de-485b-f3df-55478c0058c4"
      },
      "execution_count": 126,
      "outputs": [
        {
          "output_type": "stream",
          "name": "stdout",
          "text": [
            "010!5000!3000\n"
          ]
        }
      ]
    },
    {
      "cell_type": "code",
      "source": [
        "import re\n",
        "\n",
        "text = '''# This is a h1\n",
        "## This is a h2\n",
        "### This is a h3\n",
        "#### This is a h4\n",
        "##### This is a h5\n",
        "###### This is a h6\n",
        "\n",
        "* This is a bulleted list\n",
        "  * This is a nested bulleted list\n",
        "\n",
        "**This is bold text**\n",
        "\n",
        "_This is italic text_\n",
        "\n",
        "~~This text is strikethrough~~\n",
        "'''\n",
        "\n",
        "def markdown_to_html(markdown):\n",
        "    html = re.sub(r'### (.*)', r'\\1', markdown)\n",
        "    html = re.sub(r'## (.*)', r'\\1', html)\n",
        "    html = re.sub(r'# (.*)', r'\\1', html)\n",
        "    html = re.sub(r'`(.*)`', r'\\1', html)\n",
        "    html = re.sub(r'\\*\\*(.*)\\*\\*', r'\\1', html)\n",
        "    html = re.sub(r'_(.*)_', r'\\1', html)\n",
        "    html = re.sub(r'~~(.*)~~', r'\\1', html)\n",
        "    html = re.sub(r'^(>+) (.*)', r'\\1\\2', html)\n",
        "    # html = re.sub(r'^\\* (.*)', r'\\1', html, flags=re.M+re.S)\n",
        "    return html\n",
        "\n",
        "print(markdown_to_html(text))"
      ],
      "metadata": {
        "id": "IFV874LDZou5"
      },
      "execution_count": null,
      "outputs": []
    },
    {
      "cell_type": "code",
      "source": [
        "import re\n",
        "\n",
        "text = '''# This is a h1\n",
        "## This is a h2\n",
        "### This is a h3\n",
        "#### This is a h4\n",
        "##### This is a h5\n",
        "###### This is a h6\n",
        "\n",
        "* This is a bulleted list\n",
        "  * This is a nested bulleted list\n",
        "\n",
        "**This is bold text**\n",
        "\n",
        "_This is italic text_\n",
        "\n",
        "~~This text is strikethrough~~\n",
        "'''\n",
        "\n",
        "def markdown_to_html(markdown):\n",
        "    html = re.sub(r'# (.*)', r'<h1>\\1</h1>', markdown)\n",
        "    # html = re.sub(r'## (.*)', r'\\1', html)\n",
        "    # html = re.sub(r'### (.*)', r'\\1', html)\n",
        "    # html = re.sub(r'`(.*)`', r'\\1', html)\n",
        "    # html = re.sub(r'\\*\\*(.*)\\*\\*', r'\\1', html)\n",
        "    # html = re.sub(r'_(.*)_', r'\\1', html)\n",
        "    # html = re.sub(r'~~(.*)~~', r'\\1', html)\n",
        "    # html = re.sub(r'^(>+) (.*)', r'\\1\\2', html)\n",
        "    # html = re.sub(r'^\\* (.*)', r'\\1', html, flags=re.M+re.S)\n",
        "    return html\n",
        "\n",
        "print(markdown_to_html(text))"
      ],
      "metadata": {
        "id": "xG2jLQNBaMeE"
      },
      "execution_count": null,
      "outputs": []
    },
    {
      "cell_type": "code",
      "source": [
        "import re\n",
        "\n",
        "text = '''# This is a h1\n",
        "## This is a h2\n",
        "### This is a h3\n",
        "\n",
        "**This is bold text**\n",
        "'''\n",
        "\n",
        "def markdown_to_html(markdown):\n",
        "    html = re.sub(r'### (.*)', r'<h3>\\1<h3>', markdown)\n",
        "    html = re.sub(r'## (.*)', r'<h2>\\1<h2>', html)\n",
        "    html = re.sub(r'# (.*)', r'<h1>\\1</h1>', html)\n",
        "    html = re.sub(r'\\*\\*(.*)\\*\\*', r'<strong>\\1</strong>', html)\n",
        "    return html\n",
        "\n",
        "print(markdown_to_html(text))"
      ],
      "metadata": {
        "id": "rxjMPJija_cR"
      },
      "execution_count": null,
      "outputs": []
    }
  ]
}