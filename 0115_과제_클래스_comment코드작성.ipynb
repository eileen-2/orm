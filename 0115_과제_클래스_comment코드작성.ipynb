{
  "nbformat": 4,
  "nbformat_minor": 0,
  "metadata": {
    "colab": {
      "provenance": [],
      "authorship_tag": "ABX9TyM9VS66x5VcM+bB4l+6XEQ4",
      "include_colab_link": true
    },
    "kernelspec": {
      "name": "python3",
      "display_name": "Python 3"
    },
    "language_info": {
      "name": "python"
    }
  },
  "cells": [
    {
      "cell_type": "markdown",
      "metadata": {
        "id": "view-in-github",
        "colab_type": "text"
      },
      "source": [
        "<a href=\"https://colab.research.google.com/github/eileen-2/orm/blob/main/0115_%EA%B3%BC%EC%A0%9C_%ED%81%B4%EB%9E%98%EC%8A%A4_comment%EC%BD%94%EB%93%9C%EC%9E%91%EC%84%B1.ipynb\" target=\"_parent\"><img src=\"https://colab.research.google.com/assets/colab-badge.svg\" alt=\"Open In Colab\"/></a>"
      ]
    },
    {
      "cell_type": "code",
      "execution_count": null,
      "metadata": {
        "id": "s4FLFsOIDPjv"
      },
      "outputs": [],
      "source": [
        "'''\n",
        "`class Comment`를 작성해주세요.\n",
        "\n",
        "요구사항\n",
        "# 인스턴스\n",
        "* 각 댓글은 고유한 ID, 작성자 이름, 댓글 내용, 작성 시간을 가져야 합니다.\n",
        "\n",
        "* 댓글은 하나 이상의 대댓글을 가질 수 있어야 합니다.\n",
        "\n",
        "# 대댓글 인스턴스 부모인 comment 종속\n",
        "* 대댓글도 Comment 클래스의 인스턴스로 생성되며, 원 댓글에 종속됩니다.\n",
        "\n",
        "# 오늘 배운 datetime() '%Y-%m-%d'' end = \" \"?\n",
        "* 시간은 '년-월-일 시:분' 형식으로 표시되어야 합니다.\n",
        "\n",
        "# print 함수? display_comment 메서드?\n",
        "* (선택 과제) 댓글 출력 기능 - 계층적 출력을 해보세요.\n",
        "\n",
        "# 이건 어떻게 구현 하는겨?\n",
        "* (선택 과제)댓글에 대한 좋아요 기능을 추가할 수 있습니다.\n",
        "'''"
      ]
    },
    {
      "cell_type": "code",
      "source": [
        "import datetime\n",
        "\n",
        "class Comment: # Comment 클래스 생성\n",
        "    id_count = 0 #클래스변수로 id_count 생성\n",
        "\n",
        "    def __init__(self, author, content): #초기 값 세팅 메서드\n",
        "        self.id = Comment.id_count # 클래스변수인 id_count받아서 객체마다 고유 id 부여\n",
        "        Comment.id_count += 1 #id 생성될 때 1씩 증가\n",
        "        self.author = author # 작성자 받을 수 있게\n",
        "        self.content = content # 게시물 받을 수 있게\n",
        "        self.created_at = datetime.datetime.now().strftime('%Y-%m-%d %H:%M') # 현재 시간, 날짜 생성\n",
        "        self.replies = [] # 댓글에 달린 대댓글 저장할 임시 리스트 생성\n",
        "        self.liked_users = [] #좋아요수를 저장할 임시 리스트 생\n",
        "\n",
        "    def add_reply(self, comment): #댓글 추가하는 메서드\n",
        "        self.replies.append(comment) # 댓글에 대댓글 작성시 리스트에 추가\n",
        "\n",
        "    def like(self, user): # 좋아요 기능 메서드\n",
        "        if user in self.liked_users: #좋아요 누른 유저를 순회하면서\n",
        "            self.liked_users.remove(user) #좋아요 취소하면, 삭제\n",
        "            self.likes -= 1 #기존 좋아요 수에서 -1씩 감소\n",
        "            print(f\"{user}님이 좋아요를 취소하셨습니다.\") #프린트 문으로 좋아요 취소를 알림\n",
        "        else: #좋아요를 취소하지 않은 경우,\n",
        "            self.liked_users.append(user) # 좋아요 하나를 append로 추가\n",
        "            self.likes += 1 # 기존 좋아요 수에서 1씩 증가\n",
        "            print(f\"{user}님이 좋아요를 누르셨습니다.\") # 프린트문으로 좋아요 추가를 알림\n",
        "\n",
        "    def display_comment(self, level=0): #댓글 보여주는 메서드(댓글, 댓글의 깊이; 기본값 = 0)\n",
        "        print('\\t' * level + f'{self.author}({self.likes} likes): {self.content}\\\n",
        "         [{self.created_at}]')\n",
        "        #'\\t' * level은 탭(tab)을 level만큼 넣는 거에요.\n",
        "        #댓글의 깊이만큼 들여쓰기> 작성자의 이름, 좋아요 수, 댓글 내용, 작성 시간\n",
        "        for reply in self.replies:\n",
        "        #자기 댓글에 달린 대댓글들을 하나씩 보면서, 그 대댓글도 화면에 보여주라는 명령\n",
        "            reply.display_comment(level + 1)\n",
        "        #원본 댓글에 대댓글이 달리면 그 대댓글은 한 칸 뒤로 물러서서 나타나고,\n",
        "        #그 대댓글에 또 대댓글이 달리면 또 한 칸 뒤로 물러서서 나타나는 거\n",
        "\n",
        "    def delete(self): #삭제 메서드\n",
        "        if self.replies: #만약 댓글이 있으면(true)\n",
        "            print(\"이 댓글에는 대댓글이 있습니다. 대댓글을 먼저 삭제해주세요.\")\n",
        "        #이 댓글에는 대댓글이 있습니다. 대댓글을 먼저 삭제해주세요. 로 안내\n",
        "        else:#아닌 경우,\n",
        "            self.author = None\n",
        "            self.content = \"이 댓글은 삭제되었습니다.\"\n",
        "            print(\"댓글이 삭제되었습니다.\")\n",
        "        # 댓글 삭제\n",
        "\n",
        "# 댓글 생성\n",
        "comment1 = Comment(\"홍길동\", \"안녕하세요, 반갑습니다.\")\n",
        "comment2 = Comment(\"이순신\", \"저도 반갑습니다!\")\n",
        "\n",
        "# 댓글에 좋아요\n",
        "comment1.like()\n",
        "\n",
        "# 대댓글 생성\n",
        "reply1 = Comment(\"김유신\", \"저도 여기 있습니다.\")\n",
        "comment1.add_reply(reply1)\n",
        "\n",
        "# 댓글 출력\n",
        "comment1.display_comment()\n",
        "comment2.display_comment()\n"
      ],
      "metadata": {
        "colab": {
          "base_uri": "https://localhost:8080/"
        },
        "id": "3MmnVuFcGFHD",
        "outputId": "4e64235f-436f-4a33-f887-ed416b16c75a"
      },
      "execution_count": null,
      "outputs": [
        {
          "output_type": "stream",
          "name": "stdout",
          "text": [
            "홍길동(1 likes): 안녕하세요, 반갑습니다. [2024-01-15 08:34]\n",
            "\t김유신(0 likes): 저도 여기 있습니다. [2024-01-15 08:34]\n",
            "이순신(0 likes): 저도 반갑습니다! [2024-01-15 08:34]\n"
          ]
        }
      ]
    }
  ]
}