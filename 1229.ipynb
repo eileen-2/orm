{
  "nbformat": 4,
  "nbformat_minor": 0,
  "metadata": {
    "colab": {
      "provenance": [],
      "toc_visible": true,
      "authorship_tag": "ABX9TyMCle6IKa7CmUImjRct1TWW",
      "include_colab_link": true
    },
    "kernelspec": {
      "name": "python3",
      "display_name": "Python 3"
    },
    "language_info": {
      "name": "python"
    }
  },
  "cells": [
    {
      "cell_type": "markdown",
      "metadata": {
        "id": "view-in-github",
        "colab_type": "text"
      },
      "source": [
        "<a href=\"https://colab.research.google.com/github/eileen-2/orm/blob/main/12_29.ipynb\" target=\"_parent\"><img src=\"https://colab.research.google.com/assets/colab-badge.svg\" alt=\"Open In Colab\"/></a>"
      ]
    },
    {
      "cell_type": "markdown",
      "source": [
        "'.ipynb'\n",
        "# 마크다운이 먹히는 확장자명\n",
        "'.py'\n",
        "# 텍스트 파일 처럼 바뀜\n",
        "\n"
      ],
      "metadata": {
        "id": "O6oZXiNW7RMx"
      }
    },
    {
      "cell_type": "code",
      "source": [
        "print(\"Hello world\")"
      ],
      "metadata": {
        "colab": {
          "base_uri": "https://localhost:8080/"
        },
        "id": "_sem8Zht9J2Y",
        "outputId": "4823a240-7116-44c2-853e-10879f43e690"
      },
      "execution_count": 4,
      "outputs": [
        {
          "output_type": "stream",
          "name": "stdout",
          "text": [
            "Hello world\n"
          ]
        }
      ]
    },
    {
      "cell_type": "code",
      "source": [
        "print(\"Hello\")"
      ],
      "metadata": {
        "colab": {
          "base_uri": "https://localhost:8080/"
        },
        "id": "7zhYgMVB9zvU",
        "outputId": "b85b02f1-20f2-4ccd-ee1e-764d9ffa3df2"
      },
      "execution_count": 6,
      "outputs": [
        {
          "output_type": "stream",
          "name": "stdout",
          "text": [
            "Hello\n"
          ]
        }
      ]
    },
    {
      "cell_type": "markdown",
      "source": [
        "#1. 구글 코랩 기초\n",
        "1. (필수) ctrl+Enter: 해당셀 실행\n"
      ],
      "metadata": {
        "id": "q87k3XhP-gpZ"
      }
    },
    {
      "cell_type": "markdown",
      "source": [
        "2. (필수) Alt + Enter : 해당셀 실행 +코드 작성"
      ],
      "metadata": {
        "id": "tpfOVLN7-x4l"
      }
    },
    {
      "cell_type": "code",
      "source": [
        "print(\"Hello\")"
      ],
      "metadata": {
        "colab": {
          "base_uri": "https://localhost:8080/"
        },
        "id": "74BWq1Zl-2zp",
        "outputId": "5cea91b0-6ce6-4000-9535-0888df31d914"
      },
      "execution_count": 8,
      "outputs": [
        {
          "output_type": "stream",
          "name": "stdout",
          "text": [
            "Hello\n"
          ]
        }
      ]
    },
    {
      "cell_type": "code",
      "source": [
        "print(\"모두연\")"
      ],
      "metadata": {
        "colab": {
          "base_uri": "https://localhost:8080/"
        },
        "id": "OrrvsTlp-7kq",
        "outputId": "9e5697f9-b655-4783-fa9e-411d171b4094"
      },
      "execution_count": 10,
      "outputs": [
        {
          "output_type": "stream",
          "name": "stdout",
          "text": [
            "모두연\n"
          ]
        }
      ]
    },
    {
      "cell_type": "code",
      "source": [
        "print(\"모두연\")"
      ],
      "metadata": {
        "colab": {
          "base_uri": "https://localhost:8080/"
        },
        "id": "RtdI7muZ_FCw",
        "outputId": "5bec5eef-1f33-4253-f974-fcfa8d2dd62f"
      },
      "execution_count": 11,
      "outputs": [
        {
          "output_type": "stream",
          "name": "stdout",
          "text": [
            "모두연\n"
          ]
        }
      ]
    },
    {
      "cell_type": "code",
      "source": [
        "print(\"모두연\")"
      ],
      "metadata": {
        "colab": {
          "base_uri": "https://localhost:8080/"
        },
        "id": "-MyAoZw8_G-a",
        "outputId": "302a6773-f653-42c6-ed26-86b9615dac71"
      },
      "execution_count": 13,
      "outputs": [
        {
          "output_type": "stream",
          "name": "stdout",
          "text": [
            "모두연\n"
          ]
        }
      ]
    },
    {
      "cell_type": "markdown",
      "source": [
        "3. Ctrl + M A : 코드 셀 위에 삽입\n",
        "4. Ctrl + M B : 코드 셀 아래 삽입\n",
        "5. Ctrl + M D : 셀 삭제\n",
        "6. Ctrl + M M : 마크다운 셀로 변경\n",
        "7. Ctrl + M Y : 코드 셀로 변경\n",
        "8. Ctrl + M Z : 실행취소"
      ],
      "metadata": {
        "id": "zKHosxIP_OKP"
      }
    },
    {
      "cell_type": "markdown",
      "source": [
        "# 3. 수정 관련된 단축키\n",
        "\n",
        "1. Ctrl + Alt + 위/아래 ; 동시에 여러 셀 선택\n",
        "* 자주 쓰는 예시 필요\n",
        "\n",
        "- (자주) Ctrl(Command) + D : 같은 단어 찾아 동시 수정\n",
        "- Ctrl(Command) + Shift + L : 동일 단어를 전체로 찾아 동시 수정\n",
        "- Alt(Option) + Shift + 화살표위아래 : - 해당내용을 위나 아래 복사해서 붙여넣기\n",
        "- Alt(Option) + 화살표위아래 : 해당 내용을 위나 아래로 보내기\n",
        "- (자주) Ctrl(Command) + Alt(Option) + 화살표위아래 : 위아래 동시 수정\n",
        "- (자주) Home, End : 문장의 양 끝\n",
        "- (필수) Ctrl + / : 주석\n",
        "- (필수) Shift(cmd) + Del : 한 줄 지우기\n",
        "- (필수) Tab, Ctrl + ] : 들여쓰기\n",
        "- (필수) Shift + Tab, Ctrl + [ : 내어쓰기"
      ],
      "metadata": {
        "id": "7NEzMkn7BY4p"
      }
    },
    {
      "cell_type": "code",
      "source": [
        "# 데이터셋 불러오기\n",
        "import pandas as pd\n",
        "data = pd.read_csv(\"example_dataset.csv\")\n",
        "\n",
        "#각 컬럼에 대한 평균 계산\n",
        "mean_age = data['age'].mean()\n",
        "mean_height = data['height'].mean()\n",
        "mean_weight = data['weight'].mean()\n",
        "\n",
        "print(\"Average Height:\", mean_height)\n",
        "print(\"Average Age:\", mean_age)\n",
        "print(\"Average Weight:\", mean_weight)"
      ],
      "metadata": {
        "id": "lf_bYoi3_ebN"
      },
      "execution_count": null,
      "outputs": []
    },
    {
      "cell_type": "code",
      "source": [
        "# 데이터셋 불러오기\n",
        "import pandas as pd\n",
        "data = pd.read_csv(\"example_dataset.csv\")\n",
        "\n",
        "# 각 컬럼에 대한 평균 계산\n",
        "mean_age_years = data['age_years'].mean()\n",
        "mean_height_cm = data['height_cm'].mean()\n",
        "mean_weight_kg = data['weight_kg'].mean()\n",
        "\n",
        "print(\"Average Age in Years:\", mean_age_years)\n",
        "print(\"Average Height in cm:\", mean_height_cm)\n",
        "print(\"Average Weight in kg:\", mean_weight_kg)"
      ],
      "metadata": {
        "id": "2ElWbW49BWlp"
      },
      "execution_count": null,
      "outputs": []
    },
    {
      "cell_type": "markdown",
      "source": [],
      "metadata": {
        "id": "FTsFjcTz_jbE"
      }
    },
    {
      "cell_type": "code",
      "source": [
        "5. Ctrl + M D : 셀 삭제"
      ],
      "metadata": {
        "id": "aB-aF2Mq_sQ-"
      },
      "execution_count": null,
      "outputs": []
    },
    {
      "cell_type": "code",
      "source": [
        "print(\"실습을 완료했어요\")"
      ],
      "metadata": {
        "id": "X-geFEe3GFRc",
        "colab": {
          "base_uri": "https://localhost:8080/"
        },
        "outputId": "a0f4863d-c08d-4a33-c1d1-81e592c0c9d9"
      },
      "execution_count": 25,
      "outputs": [
        {
          "output_type": "stream",
          "name": "stdout",
          "text": [
            "실습을 완료했어요\n"
          ]
        }
      ]
    },
    {
      "cell_type": "markdown",
      "source": [
        "# 4. 마크다운\n",
        "## 4.1 헤더\n",
        "### 4.1.1 사용법\n",
        "제목을 입력하는 기능\n"
      ],
      "metadata": {
        "id": "C-govE2oHMtZ"
      }
    },
    {
      "cell_type": "markdown",
      "source": [
        "## 4.2 강조\n",
        "\n",
        "강조\n",
        "*강조*\n",
        "**강조**"
      ],
      "metadata": {
        "id": "q4i5CvfuJ78H"
      }
    },
    {
      "cell_type": "markdown",
      "source": [
        "## 4.3 목록(Lists)\n",
        "\n",
        "**1. 순서가 있는 목록**\n",
        "  1. 순서 1번\n",
        "  2. 순서 2번\n",
        "  3. 순서 3번\n",
        "  \n",
        "**2. 순서가 없는 목록**\n",
        "  * 순서 없는 것 1\n",
        "  * 순서 없는 것 2\n",
        "  * 순서 없는 것 3"
      ],
      "metadata": {
        "id": "3xuFbH5yKnbd"
      }
    },
    {
      "cell_type": "markdown",
      "source": [
        "# 4.4 링크\n",
        "\n",
        "* 사용법 : [텍스트](URL) 형식을 사용해서 하이퍼링크를 삽입합니다.\n",
        "* [Pyalgo](https://pyalgo.co.kr/)\n"
      ],
      "metadata": {
        "id": "XY4HFgX6LSJl"
      }
    },
    {
      "cell_type": "markdown",
      "source": [
        "# 4.5 이미지\n",
        "\n",
        "* 사용법 : ![대체 텍스트](이미지 URL)\n",
        "* 이미지 주소 복사하기로 해야함\n",
        "* ![python](https://w7.pngwing.com/pngs/177/303/png-transparent-autocad-dxf-hello-world-angle-child-text-thumbnail.png)"
      ],
      "metadata": {
        "id": "YBwjPiThLPy5"
      }
    },
    {
      "cell_type": "markdown",
      "source": [
        "# 4.6 코드\n",
        "\n",
        "- **인라인 코드**: `를 사용해서 텍스트 내 코드를 삽입\n",
        "- **코드 블록**: 여러 줄의 코드를 나타낼때는\n",
        "`print(\"Hello World\")`"
      ],
      "metadata": {
        "id": "2gp7gXxeLIr3"
      }
    },
    {
      "cell_type": "markdown",
      "source": [
        "# 4.7 기타\n",
        "* 취소선 ~~취소선~~\n",
        "* 인용문\n",
        "> 인용문 1입니다.\n",
        ">> 인용문 1-1입니다.\n",
        "* 구분선\n",
        "---\n",
        "`마크다운`\n",
        "[마크다운](https://gist.github.com/ihoneymon/652be052a0727ad59601)"
      ],
      "metadata": {
        "id": "hxvROKwFNdwh"
      }
    },
    {
      "cell_type": "code",
      "source": [
        "\n"
      ],
      "metadata": {
        "id": "lqZavekNPFqB"
      },
      "execution_count": null,
      "outputs": []
    }
  ]
}