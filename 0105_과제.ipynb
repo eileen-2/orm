{
  "nbformat": 4,
  "nbformat_minor": 0,
  "metadata": {
    "colab": {
      "provenance": [],
      "authorship_tag": "ABX9TyNFpeV01Mc0OFfoAlTB0cO8",
      "include_colab_link": true
    },
    "kernelspec": {
      "name": "python3",
      "display_name": "Python 3"
    },
    "language_info": {
      "name": "python"
    }
  },
  "cells": [
    {
      "cell_type": "markdown",
      "metadata": {
        "id": "view-in-github",
        "colab_type": "text"
      },
      "source": [
        "<a href=\"https://colab.research.google.com/github/eileen-2/orm/blob/main/0105_%EA%B3%BC%EC%A0%9C.ipynb\" target=\"_parent\"><img src=\"https://colab.research.google.com/assets/colab-badge.svg\" alt=\"Open In Colab\"/></a>"
      ]
    },
    {
      "cell_type": "code",
      "source": [
        "#1 다음 값은 어떤 값이 출력되는지 이유를 설명하세요.\n",
        "#1.1 'hello' and 1 #결과: 문자열(t) and t => 1\n",
        "#1.2 10 or 'hello world' #결과: 정수(t) or ;'hello world'=> 10\n",
        "\n",
        "#2. 아래 dict에 'three' key를 이용하여 '3'라는 값을 출력해주세요. 없을 경우 애러가 나는 것이 아니라 '3'이라는 값을 출력해야 합니다.\n",
        "d = {'one': 1, 'two': 2}\n",
        "\n",
        "d.get('three', '3')\n",
        "\n",
        "#3, 다음 리스트에서 100은 어떻게 꺼낼 수 있나요?\n",
        "l = [1, [10, 20], [3, [100, 200], 5]]\n",
        "\n",
        "l[2][1][0]\n",
        "\n",
        "\n",
        "#4, 아래 숫자를 모두 더해주세요.\n",
        "l = [[1, 2], [3, 4]]\n",
        "\n",
        "sum = l[0] + l[1]\n",
        "print(sum)\n",
        "sum[0] + sum[1] + sum[2] + sum[3]\n",
        "\n",
        "#5, (난이도 있는 문제) filter를 사용하여 아래 리스트에서 짝수를 모두 더하는 코드를 작성해주세요.\n",
        "l = ([1, 2, 3, 4, 5, 6, 7, 8, 9, 10])\n",
        "#정답: 30\n",
        "l[1::2]\n",
        "a, b, c, d, e = l[1::2]\n",
        "total = a + b + c + d + e\n",
        "print(total)\n",
        "\n"
      ],
      "metadata": {
        "id": "533h2l6VdZfU"
      },
      "execution_count": 66,
      "outputs": []
    },
    {
      "cell_type": "code",
      "source": [],
      "metadata": {
        "id": "WpfeQkV45RbL"
      },
      "execution_count": 66,
      "outputs": []
    },
    {
      "cell_type": "code",
      "source": [
        "#2. 아래 dict에 'three' key를 이용하여 '3'라는 값을 출력해주세요. 없을 경우 애러가 나는 것이 아니라 '3'이라는 값을 출력해야 합니다.\n",
        "d = {'one': 1, 'two': 2}\n",
        "\n",
        "d.get('three', '3')"
      ],
      "metadata": {
        "id": "mPXodVuR5Rcv"
      },
      "execution_count": null,
      "outputs": []
    },
    {
      "cell_type": "code",
      "execution_count": 42,
      "metadata": {
        "id": "99f4Lptwcw5X"
      },
      "outputs": [],
      "source": [
        "# 다음 값은 어떤 값이 출력되는지 이유를 설명하세요.\n",
        "#1.1 'hello' and 1 #결과: 문자열(t) and t => 1\n",
        "#1.2 10 or 'hello world' #결과: 정수(t) or ;'hello world'=> 10\n"
      ]
    },
    {
      "cell_type": "code",
      "source": [
        "#2. 아래 dict에 'three' key를 이용하여 '3'라는 값을 출력해주세요. 없을 경우 애러가 나는 것이 아니라 '3'이라는 값을 출력해야 합니다.\n",
        "d = {'one': 1, 'two': 2}\n",
        "\n",
        "d.get('three', '3')"
      ],
      "metadata": {
        "colab": {
          "base_uri": "https://localhost:8080/",
          "height": 35
        },
        "id": "73rfC5Wqc5AK",
        "outputId": "5ca4be3d-f1e8-4de7-ebf2-c617748ccade"
      },
      "execution_count": 12,
      "outputs": [
        {
          "output_type": "execute_result",
          "data": {
            "text/plain": [
              "'3'"
            ],
            "application/vnd.google.colaboratory.intrinsic+json": {
              "type": "string"
            }
          },
          "metadata": {},
          "execution_count": 12
        }
      ]
    },
    {
      "cell_type": "code",
      "source": [
        "#3, 다음 리스트에서 100은 어떻게 꺼낼 수 있나요?\n",
        "l = [1, [10, 20], [3, [100, 200], 5]]\n",
        "\n",
        "l[2][1][0]"
      ],
      "metadata": {
        "colab": {
          "base_uri": "https://localhost:8080/"
        },
        "id": "-j2x_kqCc6UF",
        "outputId": "63f662c1-fa00-4e95-924d-e967d5baf660"
      },
      "execution_count": 43,
      "outputs": [
        {
          "output_type": "execute_result",
          "data": {
            "text/plain": [
              "100"
            ]
          },
          "metadata": {},
          "execution_count": 43
        }
      ]
    },
    {
      "cell_type": "code",
      "source": [
        "#아래 숫자를 모두 더해주세요.\n",
        "l = [[1, 2], [3, 4]]\n",
        "\n",
        "sum = l[0] + l[1]\n",
        "print(sum)\n",
        "sum[0] + sum[1] + sum[2] + sum[3]\n"
      ],
      "metadata": {
        "colab": {
          "base_uri": "https://localhost:8080/"
        },
        "id": "RLdf2Ucsc7dI",
        "outputId": "e90ce82b-a1a5-43ea-a2aa-20dfb270cc59"
      },
      "execution_count": 36,
      "outputs": [
        {
          "output_type": "stream",
          "name": "stdout",
          "text": [
            "[1, 2, 3, 4]\n"
          ]
        },
        {
          "output_type": "execute_result",
          "data": {
            "text/plain": [
              "10"
            ]
          },
          "metadata": {},
          "execution_count": 36
        }
      ]
    },
    {
      "cell_type": "code",
      "source": [
        "#(난이도 있는 문제) filter를 사용하여 아래 리스트에서 짝수를 모두 더하는 코드를 작성해주세요.\n",
        "l = ([1, 2, 3, 4, 5, 6, 7, 8, 9, 10])\n",
        "#정답: 30\n",
        "l[1::2]\n",
        "a, b, c, d, e = l[1::2]\n",
        "total = a + b + c + d + e\n",
        "print(total)\n",
        "\n",
        "\n",
        "\n",
        "\n"
      ],
      "metadata": {
        "colab": {
          "base_uri": "https://localhost:8080/"
        },
        "id": "1Mb93yb-c8kp",
        "outputId": "85af22bd-ae15-400c-ac6e-1cd653a3f6b9"
      },
      "execution_count": 67,
      "outputs": [
        {
          "output_type": "stream",
          "name": "stdout",
          "text": [
            "30\n"
          ]
        }
      ]
    },
    {
      "cell_type": "code",
      "source": [
        "#(난이도 있는 문제) filter를 사용하여 아래 리스트에서 짝수를 모두 더하는 코드를 작성해주세요.\n",
        "l = ([1, 2, 3, 4, 5, 6, 7, 8, 9, 10])\n",
        "#정답: 30\n",
        "\n",
        "def f(x):\n",
        "    return x % 2 == 0\n",
        "sum(filter(f, l))"
      ],
      "metadata": {
        "colab": {
          "base_uri": "https://localhost:8080/",
          "height": 221
        },
        "id": "Bvd4C3f65jnc",
        "outputId": "4bfaa7f0-0066-4afe-f781-b776fa57042c"
      },
      "execution_count": 73,
      "outputs": [
        {
          "output_type": "error",
          "ename": "TypeError",
          "evalue": "'list' object is not callable",
          "traceback": [
            "\u001b[0;31m---------------------------------------------------------------------------\u001b[0m",
            "\u001b[0;31mTypeError\u001b[0m                                 Traceback (most recent call last)",
            "\u001b[0;32m<ipython-input-73-dbe16a6ea3a5>\u001b[0m in \u001b[0;36m<cell line: 7>\u001b[0;34m()\u001b[0m\n\u001b[1;32m      5\u001b[0m \u001b[0;32mdef\u001b[0m \u001b[0mf\u001b[0m\u001b[0;34m(\u001b[0m\u001b[0mx\u001b[0m\u001b[0;34m)\u001b[0m\u001b[0;34m:\u001b[0m\u001b[0;34m\u001b[0m\u001b[0;34m\u001b[0m\u001b[0m\n\u001b[1;32m      6\u001b[0m     \u001b[0;32mreturn\u001b[0m \u001b[0mx\u001b[0m \u001b[0;34m%\u001b[0m \u001b[0;36m2\u001b[0m \u001b[0;34m==\u001b[0m \u001b[0;36m0\u001b[0m\u001b[0;34m\u001b[0m\u001b[0;34m\u001b[0m\u001b[0m\n\u001b[0;32m----> 7\u001b[0;31m \u001b[0msum\u001b[0m\u001b[0;34m(\u001b[0m\u001b[0mfilter\u001b[0m\u001b[0;34m(\u001b[0m\u001b[0mf\u001b[0m\u001b[0;34m,\u001b[0m \u001b[0ml\u001b[0m\u001b[0;34m)\u001b[0m\u001b[0;34m)\u001b[0m\u001b[0;34m\u001b[0m\u001b[0;34m\u001b[0m\u001b[0m\n\u001b[0m",
            "\u001b[0;31mTypeError\u001b[0m: 'list' object is not callable"
          ]
        }
      ]
    }
  ]
}