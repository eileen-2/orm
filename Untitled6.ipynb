{
  "nbformat": 4,
  "nbformat_minor": 0,
  "metadata": {
    "colab": {
      "provenance": [],
      "authorship_tag": "ABX9TyNvffemw3mt4fnF0hB86F4Q",
      "include_colab_link": true
    },
    "kernelspec": {
      "name": "python3",
      "display_name": "Python 3"
    },
    "language_info": {
      "name": "python"
    }
  },
  "cells": [
    {
      "cell_type": "markdown",
      "metadata": {
        "id": "view-in-github",
        "colab_type": "text"
      },
      "source": [
        "<a href=\"https://colab.research.google.com/github/eileen-2/orm/blob/main/Untitled6.ipynb\" target=\"_parent\"><img src=\"https://colab.research.google.com/assets/colab-badge.svg\" alt=\"Open In Colab\"/></a>"
      ]
    },
    {
      "cell_type": "code",
      "execution_count": 2,
      "metadata": {
        "colab": {
          "base_uri": "https://localhost:8080/"
        },
        "id": "sFG8VwTSuH7e",
        "outputId": "cff1fadb-1392-417d-d96e-9186ca8cf459"
      },
      "outputs": [
        {
          "name": "stdout",
          "output_type": "stream",
          "text": [
            "이번 해에는 매일__운동을 하기로 했다.:테니스\n"
          ]
        }
      ],
      "source": [
        "sentence_1 = input(\"이번 해에는 매일__운동을 하기로 했다.:\")"
      ]
    },
    {
      "cell_type": "code",
      "source": [
        "print(sentence_1)"
      ],
      "metadata": {
        "colab": {
          "base_uri": "https://localhost:8080/"
        },
        "id": "t-OcGHWLuL6S",
        "outputId": "899b59f3-9639-4e3b-92c0-336253340bf6"
      },
      "execution_count": 3,
      "outputs": [
        {
          "output_type": "stream",
          "name": "stdout",
          "text": [
            "테니스\n"
          ]
        }
      ]
    },
    {
      "cell_type": "code",
      "source": [
        "print(f\"이번 해에는 매일 {sentence_1} 운동을 하기로 했다.\\n\")"
      ],
      "metadata": {
        "colab": {
          "base_uri": "https://localhost:8080/"
        },
        "id": "rC8kpKPVuOcI",
        "outputId": "06cf7df8-bf55-4fcc-b50c-5d03e4174f0f"
      },
      "execution_count": 5,
      "outputs": [
        {
          "output_type": "stream",
          "name": "stdout",
          "text": [
            "이번 해에는 매일 테니스 운동을 하기로 했다.\n",
            "\n"
          ]
        }
      ]
    },
    {
      "cell_type": "markdown",
      "source": [
        "#2.2 두가지 값입력"
      ],
      "metadata": {
        "id": "OO3SOghQuT2g"
      }
    },
    {
      "cell_type": "code",
      "source": [
        "# 2가지 input 받아보기\n"
      ],
      "metadata": {
        "id": "t3tfX-U0ud5h"
      },
      "execution_count": null,
      "outputs": []
    },
    {
      "cell_type": "code",
      "source": [
        "word1 = input(\"올해는 __와\")\n",
        "word2 = input(\"__에 집중하고자 한다.\")"
      ],
      "metadata": {
        "colab": {
          "base_uri": "https://localhost:8080/"
        },
        "id": "Wpa2C57euf84",
        "outputId": "2ef1e2b0-f4a6-4736-dad4-9311fbde12b7"
      },
      "execution_count": 22,
      "outputs": [
        {
          "name": "stdout",
          "output_type": "stream",
          "text": [
            "올해는 __와독서\n",
            "__에 집중하고자 한다.파이썬\n"
          ]
        }
      ]
    },
    {
      "cell_type": "code",
      "source": [
        "print(word1)"
      ],
      "metadata": {
        "colab": {
          "base_uri": "https://localhost:8080/"
        },
        "id": "1soSbB2ovHBS",
        "outputId": "a84684e5-7364-4635-de21-fc195860020c"
      },
      "execution_count": 9,
      "outputs": [
        {
          "output_type": "stream",
          "name": "stdout",
          "text": [
            "독서\n"
          ]
        }
      ]
    },
    {
      "cell_type": "code",
      "source": [
        "print(word2)"
      ],
      "metadata": {
        "colab": {
          "base_uri": "https://localhost:8080/"
        },
        "id": "-ZalOG5XvMeL",
        "outputId": "2039e4d0-31a5-4b6c-97f4-efec6040fcff"
      },
      "execution_count": 11,
      "outputs": [
        {
          "output_type": "stream",
          "name": "stdout",
          "text": [
            "파이썬\n"
          ]
        }
      ]
    },
    {
      "cell_type": "code",
      "source": [
        "print(f\"올해는 {word1}와\", end = \" \")\n",
        "print(f\"{word2}에 집중하고자 한다.\")"
      ],
      "metadata": {
        "id": "tvfbMhEFvN8u",
        "colab": {
          "base_uri": "https://localhost:8080/"
        },
        "outputId": "83126161-9029-478b-e215-acb50b1af3dd"
      },
      "execution_count": 29,
      "outputs": [
        {
          "output_type": "stream",
          "name": "stdout",
          "text": [
            "올해는 독서와 파이썬에 집중하고자 한다.\n"
          ]
        }
      ]
    },
    {
      "cell_type": "markdown",
      "source": [
        "# 두기지 단어를 한꺼번에 받기"
      ],
      "metadata": {
        "id": "iGV6ySUDv4dV"
      }
    },
    {
      "cell_type": "code",
      "source": [
        "sentence_2 = input(\"올해는 __와 __에 집중하려고 한다: \") #독서모임참여, 질 공백기준으로 나누기"
      ],
      "metadata": {
        "colab": {
          "base_uri": "https://localhost:8080/"
        },
        "id": "ZOeFlHn2w5jD",
        "outputId": "c4a27d67-1833-4a54-b5d5-4f17615c469c"
      },
      "execution_count": 44,
      "outputs": [
        {
          "name": "stdout",
          "output_type": "stream",
          "text": [
            "올해는 __와 __에 집중하려고 한다: 독서모임참여 양보다질\n"
          ]
        }
      ]
    },
    {
      "cell_type": "code",
      "source": [
        "print(sentence_2)"
      ],
      "metadata": {
        "colab": {
          "base_uri": "https://localhost:8080/"
        },
        "id": "7mp7ymjgxGyq",
        "outputId": "d4acce24-5391-47ce-f110-b7ede4eeec2a"
      },
      "execution_count": 45,
      "outputs": [
        {
          "output_type": "stream",
          "name": "stdout",
          "text": [
            "독서모임참여 양보다질\n"
          ]
        }
      ]
    },
    {
      "cell_type": "code",
      "source": [
        "word_1, word_2 = sentence_2.split() #두 단어를 입력받고, 단어를 (필수)공백을 기준으로 word_1과 word_2에 분리저장"
      ],
      "metadata": {
        "id": "2kkNaJxjxL4A"
      },
      "execution_count": 47,
      "outputs": []
    },
    {
      "cell_type": "code",
      "source": [
        "print(f'올해는 {word_1}와', end = \" \")\n",
        "print(f'{word_2}에 집중하려고 한다.\\n')"
      ],
      "metadata": {
        "colab": {
          "base_uri": "https://localhost:8080/"
        },
        "id": "R2lV39Q_xpfM",
        "outputId": "0e40ffe6-02f0-4f20-d9e9-d114920fc23b"
      },
      "execution_count": 48,
      "outputs": [
        {
          "output_type": "stream",
          "name": "stdout",
          "text": [
            "올해는 독서모임참여와 양보다질에 집중하려고 한다.\n",
            "\n"
          ]
        }
      ]
    }
  ]
}