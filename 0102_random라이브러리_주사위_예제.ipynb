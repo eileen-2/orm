{
  "nbformat": 4,
  "nbformat_minor": 0,
  "metadata": {
    "colab": {
      "provenance": [],
      "authorship_tag": "ABX9TyMW93scXcW+iF0HmPt1o50f",
      "include_colab_link": true
    },
    "kernelspec": {
      "name": "python3",
      "display_name": "Python 3"
    },
    "language_info": {
      "name": "python"
    }
  },
  "cells": [
    {
      "cell_type": "markdown",
      "metadata": {
        "id": "view-in-github",
        "colab_type": "text"
      },
      "source": [
        "<a href=\"https://colab.research.google.com/github/eileen-2/orm/blob/main/0102_random%EB%9D%BC%EC%9D%B4%EB%B8%8C%EB%9F%AC%EB%A6%AC_%EC%A3%BC%EC%82%AC%EC%9C%84_%EC%98%88%EC%A0%9C.ipynb\" target=\"_parent\"><img src=\"https://colab.research.google.com/assets/colab-badge.svg\" alt=\"Open In Colab\"/></a>"
      ]
    },
    {
      "cell_type": "code",
      "execution_count": 1,
      "metadata": {
        "colab": {
          "base_uri": "https://localhost:8080/"
        },
        "id": "EkfyMthmB4qa",
        "outputId": "f1ea9ca3-fdeb-4f9b-a35a-8783757d28f0"
      },
      "outputs": [
        {
          "output_type": "stream",
          "name": "stdout",
          "text": [
            "주사위 결과: 3 + 2 = 5\n"
          ]
        }
      ],
      "source": [
        "'''\n",
        "코드 실행 날짜:20240102\n",
        "버전: V0.1\n",
        "작성자 : 이은희\n",
        "코드내용: random 라이브러리 활용 주사위 실습(주석 실습 포함)\n",
        "'''\n",
        "# random 라이브러리를 불러옵니다.\n",
        "import random\n",
        "\n",
        "# 두 개의 주사위 값 생성\n",
        "dice1 = random.randrange(1,7) # 1~6까지 숫자중 첫번째 주사위 값 생성\n",
        "dice2 = random.randrange(1,7) # 1~6까지 숫자중 두번째 주사위 값 생성\n",
        "\n",
        "# 두 개의 주사위 값 합산\n",
        "total = dice1 + dice2 # 생성된 두가지 주사위 값 합\n",
        "\n",
        "# 결과출력\n",
        "print(f'주사위 결과: {dice1} + {dice2} = {total}')\n"
      ]
    }
  ]
}