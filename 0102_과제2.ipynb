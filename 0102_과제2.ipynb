{
  "nbformat": 4,
  "nbformat_minor": 0,
  "metadata": {
    "colab": {
      "provenance": [],
      "authorship_tag": "ABX9TyO3+hrYSRDq4QcIguGpB6Vx",
      "include_colab_link": true
    },
    "kernelspec": {
      "name": "python3",
      "display_name": "Python 3"
    },
    "language_info": {
      "name": "python"
    }
  },
  "cells": [
    {
      "cell_type": "markdown",
      "metadata": {
        "id": "view-in-github",
        "colab_type": "text"
      },
      "source": [
        "<a href=\"https://colab.research.google.com/github/eileen-2/orm/blob/main/0102_%EA%B3%BC%EC%A0%9C2.ipynb\" target=\"_parent\"><img src=\"https://colab.research.google.com/assets/colab-badge.svg\" alt=\"Open In Colab\"/></a>"
      ]
    },
    {
      "cell_type": "markdown",
      "source": [
        "문제15 : 자기소개\n"
      ],
      "metadata": {
        "id": "aWM-q_WfQ1Bg"
      }
    },
    {
      "cell_type": "code",
      "source": [
        "name = input()\n",
        "print(f'안녕하세요. 저는 {name}입니다.')"
      ],
      "metadata": {
        "colab": {
          "base_uri": "https://localhost:8080/"
        },
        "id": "TGYUmBGLQ465",
        "outputId": "85075b7c-9d53-44ee-f1ef-b0a04822228e"
      },
      "execution_count": null,
      "outputs": [
        {
          "output_type": "stream",
          "name": "stdout",
          "text": [
            "김다정\n",
            "안녕하세요. 저는 김다정입니다.\n"
          ]
        }
      ]
    },
    {
      "cell_type": "code",
      "source": [
        "n = input()\n",
        "\n",
        "print('안녕하세요. 저는 {}입니다.'.format(n))"
      ],
      "metadata": {
        "colab": {
          "base_uri": "https://localhost:8080/"
        },
        "id": "hdQ9AxbcRFkR",
        "outputId": "b943a1ca-59c2-4a3f-80bc-13307b404ea9"
      },
      "execution_count": null,
      "outputs": [
        {
          "output_type": "stream",
          "name": "stdout",
          "text": [
            "김다정\n",
            "안녕하세요. 저는 김다정입니다.\n"
          ]
        }
      ]
    }
  ]
}