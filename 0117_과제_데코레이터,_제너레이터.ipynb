{
  "nbformat": 4,
  "nbformat_minor": 0,
  "metadata": {
    "colab": {
      "provenance": [],
      "authorship_tag": "ABX9TyMCxYMgjBfSf2QSI1Y3bsMS",
      "include_colab_link": true
    },
    "kernelspec": {
      "name": "python3",
      "display_name": "Python 3"
    },
    "language_info": {
      "name": "python"
    }
  },
  "cells": [
    {
      "cell_type": "markdown",
      "metadata": {
        "id": "view-in-github",
        "colab_type": "text"
      },
      "source": [
        "<a href=\"https://colab.research.google.com/github/eileen-2/orm/blob/main/0117_%EA%B3%BC%EC%A0%9C_%EB%8D%B0%EC%BD%94%EB%A0%88%EC%9D%B4%ED%84%B0%2C_%EC%A0%9C%EB%84%88%EB%A0%88%EC%9D%B4%ED%84%B0.ipynb\" target=\"_parent\"><img src=\"https://colab.research.google.com/assets/colab-badge.svg\" alt=\"Open In Colab\"/></a>"
      ]
    },
    {
      "cell_type": "code",
      "execution_count": 7,
      "metadata": {
        "colab": {
          "base_uri": "https://localhost:8080/"
        },
        "id": "T_7bBVzURC_W",
        "outputId": "3788cd78-a568-4653-98cf-94f59130d7c0"
      },
      "outputs": [
        {
          "output_type": "stream",
          "name": "stdout",
          "text": [
            "함수가 5.245208740234375e-06 초가 걸렸습니다.\n",
            "1부터 100까지의 총 합은: 5050입니다.\n"
          ]
        }
      ],
      "source": [
        "#문제1. 데코레이터 문제\n",
        "'''\n",
        "1부터 100까지 더하는 함수를 만들고 이 함수에 데코레이터를 실행시켜 몇 초가 걸리는지 확인해주세요.\n",
        "아래 힌트 코드 입니다.\n",
        "'''\n",
        "import time\n",
        "\n",
        "def time_decorator(func):\n",
        "    def wrapper():\n",
        "        start_time = time.time()\n",
        "        result = func()\n",
        "        end_time = time.time()\n",
        "        print(f\"함수가 {end_time - start_time} 초가 걸렸습니다.\")\n",
        "        return result\n",
        "    return wrapper\n",
        "\n",
        "@time_decorator\n",
        "def cal():\n",
        "    return sum(range(1, 101)) # 1~100까지 합 반환\n",
        "\n",
        "result = cal()\n",
        "print(f'1부터 100까지의 총 합은: {result}입니다.')\n",
        ""
      ]
    },
    {
      "cell_type": "code",
      "source": [
        "# 문제 2. 제너레이터 문제\n",
        "'''\n",
        "0부터 시작하여, 매 호출 시마다 2씩 증가하는 값을 반환하는 제너레이터 함수를 작성하세요. 100이 되면 멈춰야 합니다.\n",
        "'''\n",
        "\n",
        "def increase_every_2(i, j):\n",
        "    while i < j:\n",
        "        yield i\n",
        "        i += 2\n",
        "        i == 100\n",
        "        return\n",
        "\n",
        "for i in increase_every_2(0, 101):\n",
        "    print(i)"
      ],
      "metadata": {
        "colab": {
          "base_uri": "https://localhost:8080/"
        },
        "id": "D539NRcdRF9M",
        "outputId": "7c5ed32c-013e-4400-893e-581abc22c962"
      },
      "execution_count": 21,
      "outputs": [
        {
          "output_type": "stream",
          "name": "stdout",
          "text": [
            "0\n"
          ]
        }
      ]
    },
    {
      "cell_type": "code",
      "source": [
        "#문제 3. 예외처리 문제\n",
        "'''\n",
        "\n",
        "사용자로부터 두 개의 숫자를 입력받아 나눗셈을 수행하는 함수를 작성하세요.\n",
        "이 때 0으로 나눌 때에는 예외처리를 해주세요.\n",
        "'''\n",
        "\n",
        "def divide(x, y):\n",
        "    try:\n",
        "        result =  x / y #나눗셈은 float형\n",
        "    except:\n",
        "        print('0으로 나눌 수 없음. Error!!!')\n",
        "        return None\n",
        "    else:\n",
        "        return result\n",
        "\n",
        "x = float(input('숫자를 입력하세요'))\n",
        "y = float(input('숫자를 입력하세요'))\n",
        "\n",
        "result = divide(x, y)\n",
        "if result is not None:\n",
        "    print(f'결과: {result}')\n"
      ],
      "metadata": {
        "colab": {
          "base_uri": "https://localhost:8080/"
        },
        "id": "6QSh0rz-RG7D",
        "outputId": "3c550b6a-cd65-48e4-83d6-e18769adf37e"
      },
      "execution_count": 31,
      "outputs": [
        {
          "output_type": "stream",
          "name": "stdout",
          "text": [
            "숫자를 입력하세요1\n",
            "숫자를 입력하세요0\n",
            "0으로 나눌 수 없음. Error!!!\n"
          ]
        }
      ]
    }
  ]
}