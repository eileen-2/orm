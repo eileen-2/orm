{
  "nbformat": 4,
  "nbformat_minor": 0,
  "metadata": {
    "colab": {
      "provenance": [],
      "authorship_tag": "ABX9TyOGUNVyBIA2rtZSK8yUWXlF",
      "include_colab_link": true
    },
    "kernelspec": {
      "name": "python3",
      "display_name": "Python 3"
    },
    "language_info": {
      "name": "python"
    }
  },
  "cells": [
    {
      "cell_type": "markdown",
      "metadata": {
        "id": "view-in-github",
        "colab_type": "text"
      },
      "source": [
        "<a href=\"https://colab.research.google.com/github/eileen-2/orm/blob/main/0104_%EB%A6%AC%EC%8A%A4%ED%8A%B8.ipynb\" target=\"_parent\"><img src=\"https://colab.research.google.com/assets/colab-badge.svg\" alt=\"Open In Colab\"/></a>"
      ]
    },
    {
      "cell_type": "markdown",
      "source": [
        "#1. 리스트(List)란?\n",
        "\n",
        "- [ , , , ] #CSV파일과 비슷\n",
        "- 가변적(mutable)\n",
        "- 순서가 있는 시퀀스 자료형, 배\n",
        "- 위치의 특성 -> 정렬 가능\n",
        "- 리스트 내의 원소들은 생성/ 변경 / 추가 /삭제 가능\n",
        "- 항목변경: 인덱싱>새로운 값 할당\n",
        "\n",
        "- 인덱싱 : 오류발생\n",
        "- 슬라이싱 : 오류미발\n",
        "\n",
        ">ex) 디렉터리에서 파일리스트, 회사에서 직원리스트, 메일함의 이메일 목록 등\n",
        "\n",
        "리스트가 왜 필요할까요?\n",
        "\n",
        "100명의 성적을 채점하기 위해서 지금까지 배웠던 지식으로는 100개의 변수를 만들어야 했습니다. x1, x2, x3…그것을 쉽게 구현한 것이 리스트라고 생각하시면 됩니다. 이를 배열이라고 하기도합니다."
      ],
      "metadata": {
        "id": "xL5K17AgEtNq"
      }
    },
    {
      "cell_type": "code",
      "source": [
        "#리스트의 필요성\n",
        "x1=100\n",
        "x2=200\n",
        "\n",
        "x = [1, 2, 3]\n",
        "y = ['apple', 'banana', 'cherry']\n",
        "\n",
        "print(len(x))\n",
        "print(len(y))"
      ],
      "metadata": {
        "colab": {
          "base_uri": "https://localhost:8080/"
        },
        "id": "LS7m4Bs0FlId",
        "outputId": "7e4d74e5-2c32-4e5e-9f52-66e4e7ebf402"
      },
      "execution_count": 5,
      "outputs": [
        {
          "output_type": "stream",
          "name": "stdout",
          "text": [
            "3\n",
            "3\n"
          ]
        }
      ]
    },
    {
      "cell_type": "code",
      "source": [
        "# 리스트의 장점: 여러가지 자료형을 넣을 수 있다\n",
        "# 리스트 내부에 저장된 각 데이터를 \"항목\" 또는 \"원소\"\n",
        "  # 0번째\n",
        "z = [1, 'apple', 2.5, ['a', 'b'], (1, 2), '!']\n",
        "print(z[0])"
      ],
      "metadata": {
        "colab": {
          "base_uri": "https://localhost:8080/"
        },
        "id": "Ytt1oCFKFeHh",
        "outputId": "1616c969-430c-43b1-e257-db738c08d098"
      },
      "execution_count": 6,
      "outputs": [
        {
          "output_type": "stream",
          "name": "stdout",
          "text": [
            "1\n"
          ]
        }
      ]
    },
    {
      "cell_type": "markdown",
      "source": [
        "# 1.2 리스트의 수정 및 다차원 리스트\n",
        "\n",
        "- 항목의 변경이 가능\n",
        "- 다양한 자료형 담기 가능\n",
        "- 다차원 리스트 구성 가능\n",
        "\n",
        "데이터 분석과 같은 분야에서는 이러한 다차원 리스트를 이용하여 행렬을 표현하기도 합니다.\n",
        "수학적 - 고차원 행령 -> 딥러닝/머신러닝 -> 다변량분석 -> 딥러닝의 많은 뉴럴네트워크\n"
      ],
      "metadata": {
        "id": "_6L3VcxZGTe7"
      }
    },
    {
      "cell_type": "code",
      "source": [
        "# 2.2 리스트 값 수정\n",
        "\n",
        "a = [1, 2, 3, 4, 5]\n",
        "a[0] = 10000 #인덱싱 설정하여 할당\n",
        "print(a) #결과:1->10000"
      ],
      "metadata": {
        "colab": {
          "base_uri": "https://localhost:8080/"
        },
        "id": "fmIjhywFGzkb",
        "outputId": "518947ab-a805-4c0a-d22b-04e4eeb5bccb"
      },
      "execution_count": 9,
      "outputs": [
        {
          "output_type": "stream",
          "name": "stdout",
          "text": [
            "[10000, 2, 3, 4, 5]\n"
          ]
        }
      ]
    },
    {
      "cell_type": "code",
      "source": [
        "# 문자열은 변경할 수 없다\n",
        "\n",
        "s = 'licat'\n",
        "print(s[0])\n",
        "s[0] = 'k' #str 변경 불가 / 문자열 메서드 replace 같은거로 대체해야함."
      ],
      "metadata": {
        "colab": {
          "base_uri": "https://localhost:8080/",
          "height": 237
        },
        "id": "saW6Dd_LHR8O",
        "outputId": "19369c73-512e-4155-addb-009f66890417"
      },
      "execution_count": 11,
      "outputs": [
        {
          "output_type": "stream",
          "name": "stdout",
          "text": [
            "l\n"
          ]
        },
        {
          "output_type": "error",
          "ename": "TypeError",
          "evalue": "ignored",
          "traceback": [
            "\u001b[0;31m---------------------------------------------------------------------------\u001b[0m",
            "\u001b[0;31mTypeError\u001b[0m                                 Traceback (most recent call last)",
            "\u001b[0;32m<ipython-input-11-369431008a80>\u001b[0m in \u001b[0;36m<cell line: 5>\u001b[0;34m()\u001b[0m\n\u001b[1;32m      3\u001b[0m \u001b[0ms\u001b[0m \u001b[0;34m=\u001b[0m \u001b[0;34m'licat'\u001b[0m\u001b[0;34m\u001b[0m\u001b[0;34m\u001b[0m\u001b[0m\n\u001b[1;32m      4\u001b[0m \u001b[0mprint\u001b[0m\u001b[0;34m(\u001b[0m\u001b[0ms\u001b[0m\u001b[0;34m[\u001b[0m\u001b[0;36m0\u001b[0m\u001b[0;34m]\u001b[0m\u001b[0;34m)\u001b[0m\u001b[0;34m\u001b[0m\u001b[0;34m\u001b[0m\u001b[0m\n\u001b[0;32m----> 5\u001b[0;31m \u001b[0ms\u001b[0m\u001b[0;34m[\u001b[0m\u001b[0;36m0\u001b[0m\u001b[0;34m]\u001b[0m \u001b[0;34m=\u001b[0m \u001b[0;34m'k'\u001b[0m \u001b[0;31m#str 변경 불가 / 문자열 메서드 replace 같은거로 대체해야함.\u001b[0m\u001b[0;34m\u001b[0m\u001b[0;34m\u001b[0m\u001b[0m\n\u001b[0m",
            "\u001b[0;31mTypeError\u001b[0m: 'str' object does not support item assignment"
          ]
        }
      ]
    },
    {
      "cell_type": "code",
      "source": [
        "# 3. 리스트 안에 리스트(다차원 리스트)\n",
        "\n",
        "b = [[10, 20, 30], [1, 2, 3]]\n",
        "print(b[1][2]) # 출력: 3"
      ],
      "metadata": {
        "colab": {
          "base_uri": "https://localhost:8080/"
        },
        "id": "Jl5GDFm_Hl6y",
        "outputId": "fb924980-919c-4644-9b72-7b4c9eee7979"
      },
      "execution_count": 14,
      "outputs": [
        {
          "output_type": "stream",
          "name": "stdout",
          "text": [
            "3\n"
          ]
        }
      ]
    },
    {
      "cell_type": "code",
      "source": [
        "print(b)"
      ],
      "metadata": {
        "colab": {
          "base_uri": "https://localhost:8080/"
        },
        "id": "jSefmc6cHt93",
        "outputId": "fd1ac715-6b7c-429e-c22c-ac2f2e7fcf78"
      },
      "execution_count": 16,
      "outputs": [
        {
          "output_type": "stream",
          "name": "stdout",
          "text": [
            "[[10, 20, 30], [1, 2, 3]]\n"
          ]
        }
      ]
    },
    {
      "cell_type": "code",
      "source": [
        "#이런식으로 구성되어 있는 상태임(테이블 처럼)\n",
        "'''\n",
        "나이 직업구분\n",
        "10      1\n",
        "20      2\n",
        "30      3\n",
        "'''"
      ],
      "metadata": {
        "colab": {
          "base_uri": "https://localhost:8080/",
          "height": 35
        },
        "id": "5G7iQjkrH8fh",
        "outputId": "842877ee-91d3-4192-b7b4-a6ff8935ac0f"
      },
      "execution_count": 18,
      "outputs": [
        {
          "output_type": "execute_result",
          "data": {
            "text/plain": [
              "'\\n나이 직업구분\\n10      1\\n20      2\\n30      3\\n'"
            ],
            "application/vnd.google.colaboratory.intrinsic+json": {
              "type": "string"
            }
          },
          "metadata": {},
          "execution_count": 18
        }
      ]
    },
    {
      "cell_type": "code",
      "source": [
        "print(b[1]) # 2열\n",
        "print(b[0]) # 1열\n",
        "print(b[0][0]) # 1열 1행\n",
        "print(b[0][1]) # 1열 2행\n",
        "print(b[1][0]) # 2열 1"
      ],
      "metadata": {
        "colab": {
          "base_uri": "https://localhost:8080/"
        },
        "id": "pPV7dOL4IFm-",
        "outputId": "26074ade-ac28-4acc-f96a-1d2b568ecc25"
      },
      "execution_count": 24,
      "outputs": [
        {
          "output_type": "stream",
          "name": "stdout",
          "text": [
            "[1, 2, 3]\n",
            "[10, 20, 30]\n",
            "10\n",
            "20\n",
            "1\n"
          ]
        }
      ]
    },
    {
      "cell_type": "markdown",
      "source": [
        "# 리스트 연산\n",
        "\n"
      ],
      "metadata": {
        "id": "AiLV3hQeIf1O"
      }
    },
    {
      "cell_type": "code",
      "source": [
        "# 리스트의 덧셈\n",
        "a = [1, 2, 3, 4, 5]\n",
        "b = [6, 7, 8]\n",
        "\n",
        "print(a + b) # 출력: [1, 2, 3, 4, 5, 6, 7, 8]"
      ],
      "metadata": {
        "colab": {
          "base_uri": "https://localhost:8080/"
        },
        "id": "g-XJHCo4JJq4",
        "outputId": "f5a4ea1b-89b4-4878-dc7e-42d5336aaf0c"
      },
      "execution_count": 28,
      "outputs": [
        {
          "output_type": "stream",
          "name": "stdout",
          "text": [
            "[1, 2, 3, 4, 5, 6, 7, 8]\n"
          ]
        }
      ]
    },
    {
      "cell_type": "code",
      "source": [
        "# 리스트\n",
        "l = [1, 2, 3]\n",
        "print(type(l))\n",
        "print(l)\n",
        "print(l * 3)\n",
        "print(l + l)"
      ],
      "metadata": {
        "colab": {
          "base_uri": "https://localhost:8080/"
        },
        "id": "-JzytwJrJhYb",
        "outputId": "4de5af01-9c8c-473f-d3d3-269122e6932b"
      },
      "execution_count": 30,
      "outputs": [
        {
          "output_type": "stream",
          "name": "stdout",
          "text": [
            "<class 'list'>\n",
            "[1, 2, 3]\n",
            "[1, 2, 3, 1, 2, 3, 1, 2, 3]\n",
            "[1, 2, 3, 1, 2, 3]\n"
          ]
        }
      ]
    },
    {
      "cell_type": "code",
      "source": [
        "# numpy는 행렬 계산에 능하다.\n",
        "\n",
        "import numpy as np\n",
        "\n",
        "l = [1, 2, 3]\n",
        "l = np.array(l)\n",
        "print(l)\n",
        "print(l * 3)\n",
        "print(l + l)"
      ],
      "metadata": {
        "colab": {
          "base_uri": "https://localhost:8080/"
        },
        "id": "d_9T0Wa3JPkM",
        "outputId": "bdf6a678-f2d9-4200-a61a-312dfc140cf5"
      },
      "execution_count": 31,
      "outputs": [
        {
          "output_type": "stream",
          "name": "stdout",
          "text": [
            "[1 2 3]\n",
            "[3 6 9]\n",
            "[2 4 6]\n"
          ]
        }
      ]
    },
    {
      "cell_type": "code",
      "source": [
        "# 중첩되지 않은 리스트의 곱셈은 값이 하나가 변경이 되어도 다른 값들이 변경이 되지 않습니다.\n",
        "a = [1, 2, 3]\n",
        "a = a * 3\n",
        "\n",
        "a[0] = 1000\n",
        "print(a)"
      ],
      "metadata": {
        "colab": {
          "base_uri": "https://localhost:8080/"
        },
        "id": "sRC769APKI8L",
        "outputId": "7c8aacf4-fd05-41a3-b552-03487b3172f9"
      },
      "execution_count": 35,
      "outputs": [
        {
          "output_type": "stream",
          "name": "stdout",
          "text": [
            "[1000, 2, 3, 1, 2, 3, 1, 2, 3]\n"
          ]
        }
      ]
    },
    {
      "cell_type": "code",
      "source": [
        "# 2.2 리스트 인덱싱 - 에러가 발생한다.\n",
        "\n",
        "#리스트 에러 : 범위 초과\n",
        "lst = [1, 2, 3, 4, 5]\n",
        "print(lst[10])"
      ],
      "metadata": {
        "colab": {
          "base_uri": "https://localhost:8080/",
          "height": 219
        },
        "id": "zLqELJKXKeSM",
        "outputId": "96fbc05a-3d53-48f8-be50-98543d04e999"
      },
      "execution_count": 37,
      "outputs": [
        {
          "output_type": "error",
          "ename": "IndexError",
          "evalue": "ignored",
          "traceback": [
            "\u001b[0;31m---------------------------------------------------------------------------\u001b[0m",
            "\u001b[0;31mIndexError\u001b[0m                                Traceback (most recent call last)",
            "\u001b[0;32m<ipython-input-37-1b245b162dde>\u001b[0m in \u001b[0;36m<cell line: 5>\u001b[0;34m()\u001b[0m\n\u001b[1;32m      3\u001b[0m \u001b[0;31m#리스트 에러 : 범위 초과\u001b[0m\u001b[0;34m\u001b[0m\u001b[0;34m\u001b[0m\u001b[0m\n\u001b[1;32m      4\u001b[0m \u001b[0mlst\u001b[0m \u001b[0;34m=\u001b[0m \u001b[0;34m[\u001b[0m\u001b[0;36m1\u001b[0m\u001b[0;34m,\u001b[0m \u001b[0;36m2\u001b[0m\u001b[0;34m,\u001b[0m \u001b[0;36m3\u001b[0m\u001b[0;34m,\u001b[0m \u001b[0;36m4\u001b[0m\u001b[0;34m,\u001b[0m \u001b[0;36m5\u001b[0m\u001b[0;34m]\u001b[0m\u001b[0;34m\u001b[0m\u001b[0;34m\u001b[0m\u001b[0m\n\u001b[0;32m----> 5\u001b[0;31m \u001b[0mprint\u001b[0m\u001b[0;34m(\u001b[0m\u001b[0mlst\u001b[0m\u001b[0;34m[\u001b[0m\u001b[0;36m10\u001b[0m\u001b[0;34m]\u001b[0m\u001b[0;34m)\u001b[0m\u001b[0;34m\u001b[0m\u001b[0;34m\u001b[0m\u001b[0m\n\u001b[0m",
            "\u001b[0;31mIndexError\u001b[0m: list index out of range"
          ]
        }
      ]
    },
    {
      "cell_type": "code",
      "source": [
        "# 2.3 리스트 슬라이싱\n",
        "\n",
        "#[start:stop:step]"
      ],
      "metadata": {
        "id": "UVOAJJoBKw7T"
      },
      "execution_count": 38,
      "outputs": []
    },
    {
      "cell_type": "code",
      "source": [
        "# 슬라이싱 실습\n",
        "\n",
        "l = [1, 2, 3, 4, 5]\n",
        "print(l[:])     # 출력: [1, 2, 3, 4, 5]\n",
        "print(l[::-1])  # 출력: [5, 4, 3, 2, 1]\n",
        "print(l[::2])   # 출력: [1, 3, 5] 첫번째 인덱싱부터 두개씩 건너서\n",
        "print(l[0:4][::-1]) # 출력: [4, 3, 2, 1]"
      ],
      "metadata": {
        "colab": {
          "base_uri": "https://localhost:8080/"
        },
        "id": "N6O4hGfxK2rf",
        "outputId": "ab909840-e7ec-4d98-cc66-6e869a0faf00"
      },
      "execution_count": 40,
      "outputs": [
        {
          "output_type": "stream",
          "name": "stdout",
          "text": [
            "[1, 2, 3, 4, 5]\n",
            "[5, 4, 3, 2, 1]\n",
            "[1, 3, 5]\n",
            "[4, 3, 2, 1]\n"
          ]
        }
      ]
    },
    {
      "cell_type": "code",
      "source": [
        "# 데이터가 크다. 내가 원하는대로 데이터를 추출하고 싶다.\n",
        "# 1. 샘플링 -> 1억개 데이터 - > 천개! -> 리스트 슬라이싱! , 메서드! - > 1억개 데이터!"
      ],
      "metadata": {
        "id": "4pjGsQMuLh9s"
      },
      "execution_count": 41,
      "outputs": []
    },
    {
      "cell_type": "code",
      "source": [
        "#슬라이싱은 에러가 나지 않는다\n",
        "\n",
        "l = [1, 2, 3, 4, 5]\n",
        "print(l[10:20]) # 출력: []"
      ],
      "metadata": {
        "colab": {
          "base_uri": "https://localhost:8080/"
        },
        "id": "VYtLeTs-L_Lp",
        "outputId": "ba3ff44c-e840-4c52-d5e9-757be5b01974"
      },
      "execution_count": 42,
      "outputs": [
        {
          "output_type": "stream",
          "name": "stdout",
          "text": [
            "[]\n"
          ]
        }
      ]
    }
  ]
}