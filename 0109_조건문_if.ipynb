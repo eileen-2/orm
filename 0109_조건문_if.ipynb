{
  "nbformat": 4,
  "nbformat_minor": 0,
  "metadata": {
    "colab": {
      "provenance": [],
      "authorship_tag": "ABX9TyOl54Jna3nLz1FeMJuVGML5",
      "include_colab_link": true
    },
    "kernelspec": {
      "name": "python3",
      "display_name": "Python 3"
    },
    "language_info": {
      "name": "python"
    }
  },
  "cells": [
    {
      "cell_type": "markdown",
      "metadata": {
        "id": "view-in-github",
        "colab_type": "text"
      },
      "source": [
        "<a href=\"https://colab.research.google.com/github/eileen-2/orm/blob/main/0109_%EC%A1%B0%EA%B1%B4%EB%AC%B8_if.ipynb\" target=\"_parent\"><img src=\"https://colab.research.google.com/assets/colab-badge.svg\" alt=\"Open In Colab\"/></a>"
      ]
    },
    {
      "cell_type": "code",
      "execution_count": 1,
      "metadata": {
        "id": "S8GsoXtiiZ0p",
        "colab": {
          "base_uri": "https://localhost:8080/",
          "height": 35
        },
        "outputId": "b3e7f1ac-46d0-4b31-986e-879037f672c2"
      },
      "outputs": [
        {
          "output_type": "execute_result",
          "data": {
            "text/plain": [
              "'\\n- 코드 실행 날짜:20240109\\n- 버전: V0.1\\n- 작성자 : 이은희\\n- 코드내용: 함수_조건문\\n'"
            ],
            "application/vnd.google.colaboratory.intrinsic+json": {
              "type": "string"
            }
          },
          "metadata": {},
          "execution_count": 1
        }
      ],
      "source": [
        "'''\n",
        "- 코드 실행 날짜:20240109\n",
        "- 버전: V0.1\n",
        "- 작성자 : 이은희\n",
        "- 코드내용: 함수_조건문\n",
        "'''"
      ]
    },
    {
      "cell_type": "markdown",
      "source": [
        "#1. 조건문\n",
        "\n",
        "# 1. 조건문이란?\n",
        "\n",
        "- 주어진 조건이 참(true)인지 거짓(false)인지를 평가\n",
        "- 파이썬에서는 주로 **`if`** 문을 사용\n",
        ">> 3.10버전 이후부터는 **`match`** 가능\n"
      ],
      "metadata": {
        "id": "y0HbawJ-o-eV"
      }
    },
    {
      "cell_type": "code",
      "source": [
        "#1.1 if문의 기본 구조\n",
        "\n",
        "#if 다음에 조건이 참인 경우, 코드블록이 실행된다.\n",
        "\n",
        "x = 2 # 비교할 대상\n",
        "if x > 1: # 비교식 -> 비교식이 참일 경우에 하단의 print('True')가 실행된다.\n",
        "    print('True') # 출력: True\n",
        "\n",
        "x = 0 # 비교할 대상\n",
        "if x > 1: # 비교식 -> 비교식이 참일 경우에 하단의 print('True')가 실행된다.\n",
        "    print('True') # 출력: True\n",
        "\n",
        "#참이 아닌 경우에는 조건식이 실행되지 않음"
      ],
      "metadata": {
        "colab": {
          "base_uri": "https://localhost:8080/"
        },
        "id": "W2jgti5PpM1o",
        "outputId": "3dad87a2-3423-4d12-835c-6c5eb46757bf"
      },
      "execution_count": 8,
      "outputs": [
        {
          "output_type": "stream",
          "name": "stdout",
          "text": [
            "True\n"
          ]
        }
      ]
    },
    {
      "cell_type": "code",
      "source": [
        "#결국 x = 2, if x > 1=> True\n",
        "if True:\n",
        "    print('True')"
      ],
      "metadata": {
        "colab": {
          "base_uri": "https://localhost:8080/"
        },
        "id": "n-vr3ziSpilJ",
        "outputId": "7d9d0e8c-e5e2-477c-a5c9-642f62fb5652"
      },
      "execution_count": 12,
      "outputs": [
        {
          "output_type": "stream",
          "name": "stdout",
          "text": [
            "True\n"
          ]
        }
      ]
    },
    {
      "cell_type": "code",
      "source": [
        "#결국 x = 2, if x > 1=> True\n",
        "if 1:\n",
        "    print('True')"
      ],
      "metadata": {
        "colab": {
          "base_uri": "https://localhost:8080/"
        },
        "id": "6FIcz4J4qf7q",
        "outputId": "72f18453-1c10-4a06-cb7e-b846f948ebbb"
      },
      "execution_count": 13,
      "outputs": [
        {
          "output_type": "stream",
          "name": "stdout",
          "text": [
            "True\n"
          ]
        }
      ]
    },
    {
      "cell_type": "code",
      "source": [
        "#결국 x = 2, if x > 1=> True\n",
        "if \" \":\n",
        "    print('True')"
      ],
      "metadata": {
        "colab": {
          "base_uri": "https://localhost:8080/"
        },
        "id": "Re_0xW7Eqbo3",
        "outputId": "ecc8a187-41e4-493b-aa0e-d111e077bae9"
      },
      "execution_count": 14,
      "outputs": [
        {
          "output_type": "stream",
          "name": "stdout",
          "text": [
            "True\n"
          ]
        }
      ]
    },
    {
      "cell_type": "code",
      "source": [
        "#1.2 참과 거짓 단락평가\n",
        "\n",
        "if 10 and [1, 2, 3]: # True나 False가 아니라 단락평가에 의해 [1, 2, 3]\n",
        "    print('hello')"
      ],
      "metadata": {
        "colab": {
          "base_uri": "https://localhost:8080/"
        },
        "id": "l1StUkFWrCox",
        "outputId": "caa78bac-f78b-4c69-dc4c-a02b1e0477cb"
      },
      "execution_count": 15,
      "outputs": [
        {
          "output_type": "stream",
          "name": "stdout",
          "text": [
            "hello\n"
          ]
        }
      ]
    },
    {
      "cell_type": "code",
      "source": [
        "# if문 안에 있는 코드블럭과 바깥에 있는 코드블럭\n",
        "\n",
        "if -1: # 정수를 바꿔서도 실습해보세요\n",
        "    print('hello') #1번출력(참인 경우) ->거짓이면 아무것도 출력되지 않\n",
        "print('end') #2번 출력\n",
        "\n",
        "#공백은 False\n",
        "#공백제외한 나머지(하나 이상의 문자) => \"True\""
      ],
      "metadata": {
        "colab": {
          "base_uri": "https://localhost:8080/"
        },
        "id": "VtAswnROrJbP",
        "outputId": "383b5a9f-2c5c-44d2-a06d-579c55f7cb74"
      },
      "execution_count": 22,
      "outputs": [
        {
          "output_type": "stream",
          "name": "stdout",
          "text": [
            "hello\n",
            "end\n"
          ]
        }
      ]
    },
    {
      "cell_type": "code",
      "source": [
        "# 공백이 있는 문자열\n",
        "if ' ': # True\n",
        "    print('hello') # 출력\n",
        "print('end') # 출력\n",
        "\n",
        "# 공백이 없는 문자열\n",
        "if '': # False\n",
        "    print('hello') # 미출력\n",
        "print('end') #출력"
      ],
      "metadata": {
        "colab": {
          "base_uri": "https://localhost:8080/"
        },
        "id": "SUqKQWfJsQlh",
        "outputId": "faa685a5-553c-489f-f37f-e4cbc33c6616"
      },
      "execution_count": 23,
      "outputs": [
        {
          "output_type": "stream",
          "name": "stdout",
          "text": [
            "hello\n",
            "end\n",
            "end\n"
          ]
        }
      ]
    },
    {
      "cell_type": "code",
      "source": [
        "# None 인 경우\n",
        "if not '':\n",
        "    print('hello') #출력\n",
        "print('end') #출력\n",
        "\n",
        "if None: # None은 False로 처리됩니다.\n",
        "    print('hello') #미출력\n",
        "print('end') #출력\n",
        "\n",
        "if not None:\n",
        "    print('hello') #출력\n",
        "print('end') #출력\n"
      ],
      "metadata": {
        "colab": {
          "base_uri": "https://localhost:8080/"
        },
        "id": "XWGGbob2sYNu",
        "outputId": "94d62430-774d-45d2-f444-42e9e9e43718"
      },
      "execution_count": 29,
      "outputs": [
        {
          "output_type": "stream",
          "name": "stdout",
          "text": [
            "hello\n",
            "end\n",
            "end\n",
            "hello\n",
            "end\n"
          ]
        }
      ]
    },
    {
      "cell_type": "code",
      "source": [
        "#2.1 if문에 사용할 수 있는 표현식\n",
        "- True or False 판단\n",
        "- 비교 연산자: **`==`**, **`!=`**, **`<`**, **`<=`**, **`>`**, **`>=`**\n",
        "- 논리 연산자: **`and`**, **`or`**, **`not`**\n",
        "- 멤버십 연산자: **`in`**, **`not in`**\n",
        "- 식별 연산자: **`is`**, **`is not`**\n",
        "- 다른 함수의 반환 값이나 변수의 값 (이 값들이 결국 불리언으로 평가됨)"
      ],
      "metadata": {
        "colab": {
          "base_uri": "https://localhost:8080/",
          "height": 147
        },
        "id": "97RmuHwPwzSO",
        "outputId": "17c1d50c-0384-4876-85e6-f3c1d37b5f7a"
      },
      "execution_count": 30,
      "outputs": [
        {
          "output_type": "error",
          "ename": "SyntaxError",
          "evalue": "invalid syntax (<ipython-input-30-ec526c5e9688>, line 2)",
          "traceback": [
            "\u001b[0;36m  File \u001b[0;32m\"<ipython-input-30-ec526c5e9688>\"\u001b[0;36m, line \u001b[0;32m2\u001b[0m\n\u001b[0;31m    - True or False 판단\u001b[0m\n\u001b[0m                    ^\u001b[0m\n\u001b[0;31mSyntaxError\u001b[0m\u001b[0;31m:\u001b[0m invalid syntax\n"
          ]
        }
      ]
    },
    {
      "cell_type": "code",
      "source": [
        "#단락평가\n",
        "\n",
        "#성능에 영향을 끼칩니다! - >효율성\n",
        "def f():\n",
        "    return True # True 가 무조건 반환되는 함수\n",
        "\n",
        "# f()함수 아규먼트 x 파라미터 x\n",
        "def ff():\n",
        "    x = 100 / 0 #error\n",
        "    return 'hello' #실행되지 않았으면 하는 함수\n",
        "\n",
        "if f() or ff():\n",
        "    print('hello')"
      ],
      "metadata": {
        "colab": {
          "base_uri": "https://localhost:8080/"
        },
        "id": "MzpIKwnvxedn",
        "outputId": "8f027dc1-f8d4-45cb-8fae-f88d2e840e59"
      },
      "execution_count": 32,
      "outputs": [
        {
          "output_type": "stream",
          "name": "stdout",
          "text": [
            "hello\n"
          ]
        }
      ]
    },
    {
      "cell_type": "code",
      "source": [
        "#단락평가\n",
        "\n",
        "#성능에 영향을 끼칩니다! - >효율성\n",
        "def f():\n",
        "    return True # True 가 무조건 반환되는 함수\n",
        "\n",
        "# f()함수 아규먼트 x 파라미터 x\n",
        "def ff():\n",
        "    x = 100 / 0 #error\n",
        "    return 'hello' #실행되지 않았으면 하는 함수\n",
        "\n",
        "if ff() or f():\n",
        "    print('hello') # or는 앞조건이 false라서 error"
      ],
      "metadata": {
        "colab": {
          "base_uri": "https://localhost:8080/",
          "height": 368
        },
        "id": "FqVCjgfTycRy",
        "outputId": "d34e234e-5d29-4e34-dd1b-df40e9cfbd36"
      },
      "execution_count": 33,
      "outputs": [
        {
          "output_type": "error",
          "ename": "ZeroDivisionError",
          "evalue": "division by zero",
          "traceback": [
            "\u001b[0;31m---------------------------------------------------------------------------\u001b[0m",
            "\u001b[0;31mZeroDivisionError\u001b[0m                         Traceback (most recent call last)",
            "\u001b[0;32m<ipython-input-33-df737e1e733b>\u001b[0m in \u001b[0;36m<cell line: 12>\u001b[0;34m()\u001b[0m\n\u001b[1;32m     10\u001b[0m     \u001b[0;32mreturn\u001b[0m \u001b[0;34m'hello'\u001b[0m \u001b[0;31m#실행되지 않았으면 하는 함수\u001b[0m\u001b[0;34m\u001b[0m\u001b[0;34m\u001b[0m\u001b[0m\n\u001b[1;32m     11\u001b[0m \u001b[0;34m\u001b[0m\u001b[0m\n\u001b[0;32m---> 12\u001b[0;31m \u001b[0;32mif\u001b[0m \u001b[0mff\u001b[0m\u001b[0;34m(\u001b[0m\u001b[0;34m)\u001b[0m \u001b[0;32mor\u001b[0m \u001b[0mf\u001b[0m\u001b[0;34m(\u001b[0m\u001b[0;34m)\u001b[0m\u001b[0;34m:\u001b[0m\u001b[0;34m\u001b[0m\u001b[0;34m\u001b[0m\u001b[0m\n\u001b[0m\u001b[1;32m     13\u001b[0m     \u001b[0mprint\u001b[0m\u001b[0;34m(\u001b[0m\u001b[0;34m'hello'\u001b[0m\u001b[0;34m)\u001b[0m\u001b[0;34m\u001b[0m\u001b[0;34m\u001b[0m\u001b[0m\n",
            "\u001b[0;32m<ipython-input-33-df737e1e733b>\u001b[0m in \u001b[0;36mff\u001b[0;34m()\u001b[0m\n\u001b[1;32m      7\u001b[0m \u001b[0;31m# f()함수 아규먼트 x 파라미터 x\u001b[0m\u001b[0;34m\u001b[0m\u001b[0;34m\u001b[0m\u001b[0m\n\u001b[1;32m      8\u001b[0m \u001b[0;32mdef\u001b[0m \u001b[0mff\u001b[0m\u001b[0;34m(\u001b[0m\u001b[0;34m)\u001b[0m\u001b[0;34m:\u001b[0m\u001b[0;34m\u001b[0m\u001b[0;34m\u001b[0m\u001b[0m\n\u001b[0;32m----> 9\u001b[0;31m     \u001b[0mx\u001b[0m \u001b[0;34m=\u001b[0m \u001b[0;36m100\u001b[0m \u001b[0;34m/\u001b[0m \u001b[0;36m0\u001b[0m \u001b[0;31m#error\u001b[0m\u001b[0;34m\u001b[0m\u001b[0;34m\u001b[0m\u001b[0m\n\u001b[0m\u001b[1;32m     10\u001b[0m     \u001b[0;32mreturn\u001b[0m \u001b[0;34m'hello'\u001b[0m \u001b[0;31m#실행되지 않았으면 하는 함수\u001b[0m\u001b[0;34m\u001b[0m\u001b[0;34m\u001b[0m\u001b[0m\n\u001b[1;32m     11\u001b[0m \u001b[0;34m\u001b[0m\u001b[0m\n",
            "\u001b[0;31mZeroDivisionError\u001b[0m: division by zero"
          ]
        }
      ]
    },
    {
      "cell_type": "code",
      "source": [
        "#2.4 삼항 연산자\n",
        "'''\n",
        "if-else\n",
        "X if 조건 else Y\n",
        "- 함수의 리턴 값/ 리스트컴프리헨션에서 사\n",
        "'''\n",
        "\n",
        "x = 5\n",
        "y = 10\n",
        "# 맞았을 때 조건 / if문 조건비교 / else문 / 틀렸을 때 조건\n",
        "result = \"x가 더 큽니다.\" if x > y else \"y와 같거나 y가 더 큽니다.\"\n",
        "print(result) # 결과 출력: \"y와 같거나 y가 더 큽니다.\"\n",
        "\n",
        "def f(x, y):\n",
        "    return x if x > y else y"
      ],
      "metadata": {
        "colab": {
          "base_uri": "https://localhost:8080/"
        },
        "id": "JAEs1jhfy7Lp",
        "outputId": "a99d9259-1b53-4447-8aa2-bc015a47284e"
      },
      "execution_count": 39,
      "outputs": [
        {
          "output_type": "stream",
          "name": "stdout",
          "text": [
            "y와 같거나 y가 더 큽니다.\n"
          ]
        }
      ]
    },
    {
      "cell_type": "markdown",
      "source": [
        "#2.5 조건문과 람다 함수\n",
        "- 익명함수 - 한줄로 표현 / 임시 함수 만들 때 사용\n",
        "\n"
      ],
      "metadata": {
        "id": "fa_V05K3z78A"
      }
    },
    {
      "cell_type": "code",
      "source": [
        "# 예) 두 숫자를 더하는 간단한 람다함수를 만든다.\n",
        "'''\n",
        "def sum(x, y):\n",
        "    z = x + y\n",
        "    return z\n",
        "'''\n",
        "add = lambda x, y : x + y\n",
        "print(add(5,3))"
      ],
      "metadata": {
        "colab": {
          "base_uri": "https://localhost:8080/"
        },
        "id": "X2EH3-Mo0aFX",
        "outputId": "4ca51d21-17f6-40bb-ab38-3f8bc8fb79dc"
      },
      "execution_count": 43,
      "outputs": [
        {
          "output_type": "stream",
          "name": "stdout",
          "text": [
            "8\n"
          ]
        }
      ]
    },
    {
      "cell_type": "code",
      "source": [
        "# 홀짝!\n",
        "my_function = lambda x: 'Even' if x % 2 == 0 else 'Odd'"
      ],
      "metadata": {
        "id": "U7hrPXPk0UkN"
      },
      "execution_count": null,
      "outputs": []
    }
  ]
}