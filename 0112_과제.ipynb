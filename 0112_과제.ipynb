{
  "nbformat": 4,
  "nbformat_minor": 0,
  "metadata": {
    "colab": {
      "provenance": [],
      "authorship_tag": "ABX9TyPJ5JP+q8nD3NXpjhY8dnUb",
      "include_colab_link": true
    },
    "kernelspec": {
      "name": "python3",
      "display_name": "Python 3"
    },
    "language_info": {
      "name": "python"
    }
  },
  "cells": [
    {
      "cell_type": "markdown",
      "metadata": {
        "id": "view-in-github",
        "colab_type": "text"
      },
      "source": [
        "<a href=\"https://colab.research.google.com/github/eileen-2/orm/blob/main/0112_%EA%B3%BC%EC%A0%9C.ipynb\" target=\"_parent\"><img src=\"https://colab.research.google.com/assets/colab-badge.svg\" alt=\"Open In Colab\"/></a>"
      ]
    },
    {
      "cell_type": "code",
      "execution_count": null,
      "metadata": {
        "id": "3GNLiNyxhPEN"
      },
      "outputs": [],
      "source": [
        "# 오늘의 과제\n",
        "'''\n",
        "1. 모든 텍스트는 앞, 뒤 공백이 제거된 텍스트여야 합니다.\n",
        "2. 가격은 int 형이어야 합니다.\n",
        "3. 저자는 앞에 '저자: '가 없어야 합니다.\n",
        "4. 가격을 달러로 바꿔주는 메서드를 작성해주세요.\n",
        "5. 할인 메서드를 작성해주세요. 할인율이 들어가면 변경되어야 합니다.\n",
        "5.1 object.discount(10) => 10프로 할인된 가격을 반환합니다.\n",
        "5.2 object.discount(0) => 0프로 할인된 가격을 반환합니다.\n",
        "'''"
      ]
    },
    {
      "cell_type": "code",
      "source": [
        "import requests # 통신 -> 서버에서 값을 가져올 수 있음\n",
        "from bs4 import BeautifulSoup # 가져온 값을 '파싱(태그별로 잘라내기)' 해주는 모듈\n",
        "#for 문으로 돌리지마세요. 도스공격임\n",
        "response = requests.get('https://paullab.co.kr/bookservice/') #request 계속 되지 않게 따로 셀을 나눠두\n",
        "soup = BeautifulSoup(response.text, 'html.parser')"
      ],
      "metadata": {
        "id": "lgmAQK9EhQ8p"
      },
      "execution_count": 33,
      "outputs": []
    },
    {
      "cell_type": "code",
      "source": [
        "books = []\n",
        "class Book:\n",
        "\n",
        "    def __init__(self, name='', price=0, author='', info=''): # 기본값 설정\n",
        "        self.name = name.strip()\n",
        "        if price.replace('가격: ', '$').replace('원', '').replace(',','') == '무료':\n",
        "            self.price = 0\n",
        "        else:\n",
        "            self.price = int(price.replace('가격: ', '').replace('원', '').replace(',',''))\n",
        "        self.author = author\n",
        "        if author.replace('저자: ',''):\n",
        "            self.author = ''\n",
        "        else:\n",
        "            self.author = str(author.replace('저자: ',''))\n",
        "        self.info = info.strip()\n",
        "\n",
        "\n",
        "    def __str__(self): # 문자형으로 반환되도록\n",
        "        return self.name\n",
        "\n",
        "    def __repr__(self): #__str__사용하면 세트로 사용해야함\n",
        "        return self.name\n",
        "\n",
        "    def discount(self, rate):\n",
        "        self.price -= int(self.price * rate/100)\n",
        "        return self.price\n",
        "\n",
        "for i, _ in enumerate(book_name):\n",
        "    books.append(Book(\n",
        "        book_name[i].text,\n",
        "        book_info[(i*3)].text,\n",
        "        book_info[(i*3)+1].text,\n",
        "        book_info[(i*3)+2].text\n",
        "    ))\n",
        "\n",
        "books\n",
        "\n",
        "print(books[0])\n"
      ],
      "metadata": {
        "id": "NlbjHWlehho4"
      },
      "execution_count": null,
      "outputs": []
    }
  ]
}