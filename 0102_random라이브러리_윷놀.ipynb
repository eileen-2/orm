{
  "nbformat": 4,
  "nbformat_minor": 0,
  "metadata": {
    "colab": {
      "provenance": [],
      "authorship_tag": "ABX9TyPY9O2oWPdRbaX+BroAWynJ",
      "include_colab_link": true
    },
    "kernelspec": {
      "name": "python3",
      "display_name": "Python 3"
    },
    "language_info": {
      "name": "python"
    }
  },
  "cells": [
    {
      "cell_type": "markdown",
      "metadata": {
        "id": "view-in-github",
        "colab_type": "text"
      },
      "source": [
        "<a href=\"https://colab.research.google.com/github/eileen-2/orm/blob/main/0102_random%EB%9D%BC%EC%9D%B4%EB%B8%8C%EB%9F%AC%EB%A6%AC_%EC%9C%B7%EB%86%80.ipynb\" target=\"_parent\"><img src=\"https://colab.research.google.com/assets/colab-badge.svg\" alt=\"Open In Colab\"/></a>"
      ]
    },
    {
      "cell_type": "code",
      "execution_count": 12,
      "metadata": {
        "colab": {
          "base_uri": "https://localhost:8080/"
        },
        "id": "DnYQiPJ7EvNa",
        "outputId": "edea9b20-25bd-429a-c3ee-3f353cf9ff5e"
      },
      "outputs": [
        {
          "output_type": "stream",
          "name": "stdout",
          "text": [
            "윷가 나왔습니다.\n",
            "윷을 한번 더 던지세요.\n"
          ]
        }
      ],
      "source": [
        "'''\n",
        "코드 실행 날짜:20240102\n",
        "버전: V0.1\n",
        "작성자 : 이은희\n",
        "코드내용: random 라이브러리 활용 실습 - 윷놀이(주석포함)\n",
        "'''\n",
        "# 이 코드는 Random 라이브러리를 사용한 예시입니다.\n",
        "\n",
        "import random  #random 라이브러리를 가져옵니다.\n",
        "\n",
        "# 리스트 활용 윷말 생성\n",
        "elements = ['도', '개', '걸', '윷', '모'] #리스트 활용 윷말 생성\n",
        "\n",
        "\n",
        "# 한 개의 무작위 윷말 생성\n",
        "choice_elements = random.choice(elements) #elements에 할당된 윷말 무작위로 생성\n",
        "\n",
        "# 결과 출력\n",
        "print(f\"{choice_elements}가 나왔습니다.\")  # 생성된 값\n",
        "\n",
        "if choice_elements == \"윷\" or choice_elements == \"모\":\n",
        "    print('윷을 한번 더 던지세요.')\n",
        "\n",
        "\n",
        "\n",
        "\n"
      ]
    },
    {
      "cell_type": "code",
      "source": [
        "from re import T\n",
        "import random\n",
        "'''\n",
        "1. 윷은 앞/뒤 중에 하나가 선택해야한다.\n",
        " 1.1 윷은 랜덤으로 하나가 선택되어야 한다.\n",
        " 1.2 앞/뒤가 나올 확률 1/2\n",
        "2. 윷놀이에는 다섯가지의 이동법칙이 있다.(빽도의 경우 제외)\n",
        " 2.1 윷놀이: 도, 개, 걸, 윷, 모\n",
        " 2.2 도 앞3 뒤1\n",
        "     개 앞2 뒤2\n",
        "     걸 앞1 뒤3\n",
        "     윷 앞0 뒤4\n",
        "     모 앞4 뒤0\n",
        " 2.3 (히든 계산)\n",
        "     모 뒤 0\n",
        "     도 뒤 1\n",
        "     개 뒤 2\n",
        "     걸 뒤 3\n",
        "     윷 뒤 4\n",
        "3. 도~모 하나만 선택되어야 한다.\n",
        "'''\n",
        "# 윷던지기 결과(0: 앞, 1: 뒤)\n",
        "throw1 = random.choice([0, 1])\n",
        "throw2 = random.choice([0, 1])\n",
        "throw3 = random.choice([0, 1])\n",
        "throw4 = random.choice([0, 1])\n",
        "\n",
        "# 뒷 면의 총 개수 계산\n",
        "total_back = throw1 + throw2 + throw3 + throw4\n",
        "\n",
        "#윷놀이 결과\n",
        "#뒷면이 없는 경우 (모) 뒤 0 (도) 뒤1 (개) 뒤 2 (걸) 뒤3 (윷)\n",
        "\n",
        "results = ['모', '도', '개', '걸', '윷']\n",
        "print(total_back)\n",
        "print(results[total_back])\n",
        "\n",
        "print(f\"{results[total_back]}가/이 나왔습니다.\")  # 생성된 값\n",
        "\n",
        "if results[total_back] == '윷' or results[total_back] == '모':\n",
        "    print('윷을 한번 더 던지세요.')\n",
        "\n"
      ],
      "metadata": {
        "colab": {
          "base_uri": "https://localhost:8080/"
        },
        "id": "sSnKF8EMKERC",
        "outputId": "130d864a-83f4-4106-9e57-5900004028b2"
      },
      "execution_count": 24,
      "outputs": [
        {
          "output_type": "stream",
          "name": "stdout",
          "text": [
            "2\n",
            "개\n",
            "개가/이 나왔습니다.\n"
          ]
        }
      ]
    }
  ]
}