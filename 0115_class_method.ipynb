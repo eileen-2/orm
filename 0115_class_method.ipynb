{
  "nbformat": 4,
  "nbformat_minor": 0,
  "metadata": {
    "colab": {
      "provenance": [],
      "authorship_tag": "ABX9TyPQc7bL6gmC8R/dmqlIm3Qz",
      "include_colab_link": true
    },
    "kernelspec": {
      "name": "python3",
      "display_name": "Python 3"
    },
    "language_info": {
      "name": "python"
    }
  },
  "cells": [
    {
      "cell_type": "markdown",
      "metadata": {
        "id": "view-in-github",
        "colab_type": "text"
      },
      "source": [
        "<a href=\"https://colab.research.google.com/github/eileen-2/orm/blob/main/0115_class_method.ipynb\" target=\"_parent\"><img src=\"https://colab.research.google.com/assets/colab-badge.svg\" alt=\"Open In Colab\"/></a>"
      ]
    },
    {
      "cell_type": "markdown",
      "source": [
        "# class method"
      ],
      "metadata": {
        "id": "tqPf5nogzcJG"
      }
    },
    {
      "cell_type": "code",
      "source": [
        "# 클래스 메서드\n",
        "# 클래스 메서드는 클래스 변수를 변경하고 싶을 때 사용합니다.\n",
        "# 주의해야 할 점이 첫번째 인자로 오는 cls는 관습으로 고정입니다.\n",
        "# self가 a로 바꾸면 작동은 하지만 관습적으로 안되는 것처럼 cls도 바꾸시면 안됩니다.\n",
        "# cls는 class를 나타냅니다.\n",
        "\n",
        "class MyClass:\n",
        "    count = 0\n",
        "\n",
        "    @classmethod\n",
        "    def increment(cls):\n",
        "        cls.count += 1\n",
        "\n",
        "MyClass.increment()\n",
        "print(MyClass.count)  # 출력: 1"
      ],
      "metadata": {
        "id": "JpFOH-CfzlOk"
      },
      "execution_count": null,
      "outputs": []
    },
    {
      "cell_type": "code",
      "source": [
        "# 정적 메서드\n",
        "# 언제 쓰느냐? 정젝메서드는 self로 내부 변수에 접근이 안되서\n",
        "# 책 클래스 만드는 것 중 할인율 같이 관련은 있는데 밖으로 함수를 빼기 부담스러운 것들\n",
        "\n",
        "class MyClass:\n",
        "    @staticmethod\n",
        "    def my_method(x, y):\n",
        "        return x + y\n",
        "\n",
        "print(MyClass.my_method(5,3)) #출력 : 8"
      ],
      "metadata": {
        "colab": {
          "base_uri": "https://localhost:8080/"
        },
        "id": "OfYO8vD0z_cU",
        "outputId": "17da8f12-116c-40a5-b961-ef14839425db"
      },
      "execution_count": 1,
      "outputs": [
        {
          "output_type": "stream",
          "name": "stdout",
          "text": [
            "8\n"
          ]
        }
      ]
    },
    {
      "cell_type": "code",
      "source": [
        "class Book:\n",
        "    def __init__(self, name, price):\n",
        "        self.name = name\n",
        "        self.price = price\n",
        "\n",
        "    @staticmethod\n",
        "    def 할인율(원가, 할인):\n",
        "        return 원가 * (1-(할인/100))\n",
        "\n",
        "boo1 = Book('python 100제', 9000)\n",
        "\n",
        "Book.할인율(boo1.price, 10) # 밖으로 뺄 수 있는 함수이고, 굳이 안에 들어갈 필요가 없죠?\n",
        "# 그런데 할인율은 Book과 연관이 있습니다.\n",
        "# 이렇게 코딩을 하시면 유지보수하기가 좋습니다.\n"
      ],
      "metadata": {
        "colab": {
          "base_uri": "https://localhost:8080/"
        },
        "id": "L0JPhuxl0VkF",
        "outputId": "d6359dd6-5ea7-4545-afd7-84cf6c3a9bca"
      },
      "execution_count": 4,
      "outputs": [
        {
          "output_type": "execute_result",
          "data": {
            "text/plain": [
              "8100.0"
            ]
          },
          "metadata": {},
          "execution_count": 4
        }
      ]
    },
    {
      "cell_type": "code",
      "source": [
        "# 권장하지 않는 케이스\n",
        "\n",
        "class Book:\n",
        "    def __init__(self, name, price):\n",
        "        self.name = name\n",
        "        self.price = price\n",
        "\n",
        "def 할인율(원가, 할인): # 할인율을 밖으로 빼낸 경우\n",
        "    return 원가 * (1-(할인/100))\n",
        "\n",
        "boo1 = Book('python 100제', 9000)\n",
        "\n",
        "할인율(boo1.price, 10)"
      ],
      "metadata": {
        "colab": {
          "base_uri": "https://localhost:8080/"
        },
        "id": "tbLI6PjZ1fBb",
        "outputId": "48db1874-0434-463a-828b-4343127710b8"
      },
      "execution_count": 5,
      "outputs": [
        {
          "output_type": "execute_result",
          "data": {
            "text/plain": [
              "8100.0"
            ]
          },
          "metadata": {},
          "execution_count": 5
        }
      ]
    },
    {
      "cell_type": "code",
      "source": [
        "# 속성접근자 (Property)\n",
        "\n",
        "class Person:\n",
        "    def __init__(self, first_name, last_name):\n",
        "        self._first_name = first_name\n",
        "        self._last_name = last_name\n",
        "\n",
        "    @property\n",
        "    def full_name(self):\n",
        "        return f'{self._first_name}{self._last_name}'\n",
        "\n",
        "licat = Person('li', 'cat')\n",
        "print(licat._first_name)\n",
        "print(licat._last_name)\n",
        "print(licat.full_name)\n",
        "# print(licat.full_name())"
      ],
      "metadata": {
        "id": "65VtK2wm2AEq"
      },
      "execution_count": null,
      "outputs": []
    },
    {
      "cell_type": "code",
      "source": [
        "# 덕타이핑\n",
        "# licat.move()\n",
        "# move() = > 직관적, 행위중심(누가 움직이는지 알고 싶지 않음)\n",
        "# 덕타이핑\n",
        "# https://world.weniv.co.kr/\n",
        "# 별표 0.3\n",
        "\n",
        "# licat.move()\n",
        "# move() => 직관적이고 누가 움직이는지는 알고 싶지 않고 주인공을 앞으로 한 칸 움직이고 싶다.\n",
        "\n",
        "class Duck:\n",
        "    def quack(self):\n",
        "        print('꽥꽥!')\n",
        "\n",
        "class Person:\n",
        "    def quack(self):\n",
        "        print(\"안녕하세요!\")\n",
        "\n",
        "def quack(obj):\n",
        "    obj.quack()\n",
        "\n",
        "duck = Duck()\n",
        "person = Person()\n",
        "\n",
        "quack(duck)  # 출력: 꽥꽥! duck.quack() 대신 quack(duck)를 사용하겠다.\n",
        "quack(person)  # 출력: 안녕하세요! person.quack() 대신 quack(person)를 사용하겠다."
      ],
      "metadata": {
        "id": "Jc0bTAVP3G1I"
      },
      "execution_count": null,
      "outputs": []
    },
    {
      "cell_type": "markdown",
      "source": [
        "# 메서드 오버라이딩\n",
        ";\n",
        "하위 클래스(subclass)에서 상위 클래스(superclass)의 메서드를 다시 장의 하는 것\n",
        "넵넵\n",
        "(학생) 이수현 — 오늘 오후 3:48\n",
        "👍🏻"
      ],
      "metadata": {
        "id": "ygJN1GS84V6Y"
      }
    },
    {
      "cell_type": "code",
      "source": [
        "# 오버라이딩\n",
        "\n",
        "class Animal:\n",
        "    def sound(self):\n",
        "        print(\"기본 동물 울음 소리, 악!\")\n",
        "\n",
        "class Dog(Animal):\n",
        "    def sound(self):\n",
        "        print(\"왈왈!\")\n",
        "\n",
        "class Cat(Animal):\n",
        "    def sound(self):\n",
        "        print(\"냐옹!\")"
      ],
      "metadata": {
        "id": "AUZweG_n4cMa"
      },
      "execution_count": 6,
      "outputs": []
    },
    {
      "cell_type": "code",
      "source": [
        "# super를 사용해서 부모의 메서드를 사용할 수 있습니다.\n",
        "class Bird(Animal):\n",
        "    def sound(self):\n",
        "        super().sound()\n",
        "        print(\"짹짹!\")\n",
        "\n",
        "b = Bird()\n",
        "b.sound()"
      ],
      "metadata": {
        "colab": {
          "base_uri": "https://localhost:8080/"
        },
        "id": "rymlAXjp72Fb",
        "outputId": "107d5537-44cb-4fbe-e8ce-66dab5e27c16"
      },
      "execution_count": 10,
      "outputs": [
        {
          "output_type": "stream",
          "name": "stdout",
          "text": [
            "기본 동물 울음 소리, 악!\n",
            "짹짹!\n"
          ]
        }
      ]
    },
    {
      "cell_type": "code",
      "source": [
        "class Person:\n",
        "    def __init__(self, name):\n",
        "        self.name = name\n",
        "\n",
        "class Student(Person):\n",
        "    def __init__(self, name, student_id):\n",
        "        super().__init__(name)  # 부모 클래스의 __init__ 메서드 호출\n",
        "        self.student_id = student_id\n",
        "\n",
        "s = Student(\"Alice\", \"S12345\")\n",
        "print(s.name)        # 출력: Alice\n",
        "print(s.student_id)  # 출력: S12345"
      ],
      "metadata": {
        "id": "yDfEvqg98Qn7"
      },
      "execution_count": null,
      "outputs": []
    },
    {
      "cell_type": "markdown",
      "source": [
        "\n",
        "## 반드시 구현되어야 하는 메서드를 명시하면\n",
        "## 그것을 상속한 클래스에서는 반드시 그 메서드를 구현해야 합니다.\n",
        "## 언제 사용하나? 빠드리면 안되는 메서드\n",
        "## ex) 게시물 업데이트 날짜, 생성날짜를 추상클래스로 구현\n"
      ],
      "metadata": {
        "id": "xGz078-c84Ea"
      }
    },
    {
      "cell_type": "code",
      "source": [
        "# 추상 클래스\n",
        "# 중요도는 높지만 빈도가 낮아 별 0.5개\n",
        "# 추상 클래스: 반드시 구현되어야 하는 메서드를 명시하면\n",
        "# 그것을 상속한 클래스에서는 반드시 그 메서드를 구현해야 합니다.\n",
        "# 언제 사용하나요? 예를 들어 빠트리면 안되는 메서드가 있는 경우\n",
        "# 게시판 만드는데 게시물 업데이트 날짜, 생성 날짜를 추상 클래스로 구현할 수 있습니다.\n",
        "\n",
        "from abc import ABC, abstractmethod\n",
        "\n",
        "class AbstractClassExample(ABC):\n",
        "\n",
        "    @abstractmethod\n",
        "    def do_something(self):\n",
        "        pass\n",
        "\n",
        "class Person(AbstractClassExample):\n",
        "\n",
        "    def __init__(self, name):\n",
        "        self.name = name\n",
        "\n",
        "    def print_name(self):\n",
        "        print(f'제 이름은 {self.name}입니다.')\n",
        "\n",
        "    def do_something(self):\n",
        "        print('hello')\n",
        "\n",
        "hojun = Person('hojun')\n",
        "hojun.print_name()"
      ],
      "metadata": {
        "colab": {
          "base_uri": "https://localhost:8080/"
        },
        "id": "BVjhGMRS86hg",
        "outputId": "ddfe686f-52aa-4d2f-ed6e-a0efb9db58e6"
      },
      "execution_count": 11,
      "outputs": [
        {
          "output_type": "stream",
          "name": "stdout",
          "text": [
            "제 이름은 hojun입니다.\n"
          ]
        }
      ]
    },
    {
      "cell_type": "code",
      "source": [
        "# 비공개 속성\n",
        "# 시큐어 코\n",
        "\n",
        "class MyClass:\n",
        "    __a = 10\n",
        "    _a = 100\n",
        "    b = 20\n",
        "\n",
        "    def __init__(self, c, d):\n",
        "        self.__c = c\n",
        "        self.d = d\n",
        "\n",
        "c = MyClass(30, 40)\n",
        "# c.__a #error\n",
        "c._a # 출력: 100\n",
        "c.b # 출력: 20\n",
        "# c.__c # error\n",
        "c.d # 출력: 40"
      ],
      "metadata": {
        "id": "S5YUnV9O-RNT"
      },
      "execution_count": null,
      "outputs": []
    },
    {
      "cell_type": "code",
      "source": [
        "# 비공개 속성\n",
        "# 시큐어 코딩\n",
        "# 별표 0.3\n",
        "\n",
        "class MyClass:\n",
        "    __a = 10 # 비공개 속성(Private Attributes)\n",
        "    _a = 100\n",
        "    b = 20\n",
        "\n",
        "    def __init__(self, c, d):\n",
        "        self.__c = c\n",
        "        self.d = d\n",
        "\n",
        "c = MyClass(30, 40)\n",
        "c._a #보통 다른언어에서는 _한개는 수정하지 말라는 말\n",
        "#c.__a #어 접근이 안되네? 이걸로 변수를 감추면 되겠다 >>잘못된 생\n",
        "\n",
        "\n",
        "# c.__a #error\n",
        "# c._a # 출력: 100\n",
        "# c.b # 출력: 20\n",
        "# # c.__c # error\n",
        "# c.d # 출력: 40\n",
        "print(c._MyClass__c)"
      ],
      "metadata": {
        "colab": {
          "base_uri": "https://localhost:8080/"
        },
        "id": "30fH5F7c_YcL",
        "outputId": "a0f4da94-087d-401d-b613-3083d288658d"
      },
      "execution_count": 13,
      "outputs": [
        {
          "output_type": "stream",
          "name": "stdout",
          "text": [
            "30\n"
          ]
        }
      ]
    },
    {
      "cell_type": "code",
      "source": [
        "class Comment\n",
        "\n",
        "created_at\n",
        "update_at\n"
      ],
      "metadata": {
        "id": "JJOyGctAAK1q"
      },
      "execution_count": null,
      "outputs": []
    }
  ]
}